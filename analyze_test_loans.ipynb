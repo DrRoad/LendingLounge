{
 "metadata": {
  "name": "",
  "signature": "sha256:591f14eab759478e942efaaf2c6cce2605e669ededc4018dee13bc65988ed343"
 },
 "nbformat": 3,
 "nbformat_minor": 0,
 "worksheets": [
  {
   "cells": [
    {
     "cell_type": "heading",
     "level": 1,
     "metadata": {},
     "source": [
      "Algorithm vs Random Selection for 36 month A,B,C loans originating in 2011 or 2012"
     ]
    },
    {
     "cell_type": "code",
     "collapsed": false,
     "input": [
      "import pandas as pd\n",
      "import numpy as np\n",
      "import glob, sys\n",
      "from datetime import date\n",
      "import pickle\n",
      "from random import randint\n",
      "import random\n",
      "import time\n",
      "import json\n",
      "import os\n",
      "from datetime import datetime\n",
      "import pymysql as mdb\n",
      "from pandasql import sqldf\n",
      "from pandas.io import sql\n",
      "\n",
      "from sklearn.cross_validation import train_test_split\n",
      "from sklearn.linear_model import LinearRegression\n",
      "from sklearn.ensemble import RandomForestRegressor \n",
      "from sklearn.ensemble import RandomForestClassifier\n",
      "from sklearn.svm import SVR\n",
      "from sklearn.metrics import confusion_matrix\n",
      "from sklearn.metrics import classification_report\n",
      "from sklearn.decomposition import PCA\n",
      "import matplotlib.pyplot as plt\n",
      "\n",
      "import data_manipulation as dm"
     ],
     "language": "python",
     "metadata": {},
     "outputs": [],
     "prompt_number": 2
    },
    {
     "cell_type": "code",
     "collapsed": false,
     "input": [
      "with open('credentials.json') as credentials_file:\n",
      "    credentials = json.load(credentials_file)\n",
      "\n",
      "passwd = credentials['mysql']['password']\n",
      "con = mdb.connect(host='127.0.0.1', port=3307, user='root', passwd=passwd, db='insight', autocommit=True)"
     ],
     "language": "python",
     "metadata": {},
     "outputs": [],
     "prompt_number": 3
    },
    {
     "cell_type": "code",
     "collapsed": false,
     "input": [
      "sql_query = \"select * from test_loans;\"\n",
      "loanData = sql.read_sql(sql_query, con)"
     ],
     "language": "python",
     "metadata": {},
     "outputs": [],
     "prompt_number": 79
    },
    {
     "cell_type": "code",
     "collapsed": false,
     "input": [
      "loanData = loanData.dropna()"
     ],
     "language": "python",
     "metadata": {},
     "outputs": [],
     "prompt_number": 80
    },
    {
     "cell_type": "code",
     "collapsed": false,
     "input": [
      "loanData[:10]"
     ],
     "language": "python",
     "metadata": {},
     "outputs": [
      {
       "html": [
        "<div style=\"max-height:1000px;max-width:1500px;overflow:auto;\">\n",
        "<table border=\"1\" class=\"dataframe\">\n",
        "  <thead>\n",
        "    <tr style=\"text-align: right;\">\n",
        "      <th></th>\n",
        "      <th>id</th>\n",
        "      <th>pred_default</th>\n",
        "      <th>pred_paid</th>\n",
        "      <th>pred_days_to_zero_dollars</th>\n",
        "      <th>days_to_zero_dollars</th>\n",
        "      <th>loan_status</th>\n",
        "      <th>int_rate</th>\n",
        "      <th>installment</th>\n",
        "      <th>A</th>\n",
        "      <th>B</th>\n",
        "      <th>C</th>\n",
        "      <th>loan_amount</th>\n",
        "      <th>total_pymnt</th>\n",
        "      <th>pred_prepaid</th>\n",
        "      <th>recoveries</th>\n",
        "      <th>dti</th>\n",
        "    </tr>\n",
        "  </thead>\n",
        "  <tbody>\n",
        "    <tr>\n",
        "      <th>0</th>\n",
        "      <td> 121673</td>\n",
        "      <td> 0.27</td>\n",
        "      <td> 0.53</td>\n",
        "      <td> 860.26</td>\n",
        "      <td> 1096</td>\n",
        "      <td> 1</td>\n",
        "      <td> 8.07</td>\n",
        "      <td> 141.15</td>\n",
        "      <td> 1</td>\n",
        "      <td> 0</td>\n",
        "      <td> 0</td>\n",
        "      <td>  4500</td>\n",
        "      <td>  5081.17</td>\n",
        "      <td> 0.20</td>\n",
        "      <td> 0</td>\n",
        "      <td>  3.29</td>\n",
        "    </tr>\n",
        "    <tr>\n",
        "      <th>1</th>\n",
        "      <td> 126776</td>\n",
        "      <td> 0.12</td>\n",
        "      <td> 0.51</td>\n",
        "      <td> 712.00</td>\n",
        "      <td> 1096</td>\n",
        "      <td> 1</td>\n",
        "      <td> 8.07</td>\n",
        "      <td> 297.99</td>\n",
        "      <td> 1</td>\n",
        "      <td> 0</td>\n",
        "      <td> 0</td>\n",
        "      <td>  9500</td>\n",
        "      <td> 10726.60</td>\n",
        "      <td> 0.37</td>\n",
        "      <td> 0</td>\n",
        "      <td>  2.44</td>\n",
        "    </tr>\n",
        "    <tr>\n",
        "      <th>2</th>\n",
        "      <td> 128797</td>\n",
        "      <td> 0.17</td>\n",
        "      <td> 0.55</td>\n",
        "      <td> 652.09</td>\n",
        "      <td>  731</td>\n",
        "      <td> 2</td>\n",
        "      <td> 8.38</td>\n",
        "      <td>  15.76</td>\n",
        "      <td> 1</td>\n",
        "      <td> 0</td>\n",
        "      <td> 0</td>\n",
        "      <td>   500</td>\n",
        "      <td>   557.31</td>\n",
        "      <td> 0.28</td>\n",
        "      <td> 0</td>\n",
        "      <td>  2.15</td>\n",
        "    </tr>\n",
        "    <tr>\n",
        "      <th>3</th>\n",
        "      <td> 146205</td>\n",
        "      <td> 0.22</td>\n",
        "      <td> 0.43</td>\n",
        "      <td> 761.72</td>\n",
        "      <td>   61</td>\n",
        "      <td> 0</td>\n",
        "      <td> 9.33</td>\n",
        "      <td> 287.59</td>\n",
        "      <td> 0</td>\n",
        "      <td> 1</td>\n",
        "      <td> 0</td>\n",
        "      <td>  9000</td>\n",
        "      <td>   574.08</td>\n",
        "      <td> 0.35</td>\n",
        "      <td> 0</td>\n",
        "      <td> 13.36</td>\n",
        "    </tr>\n",
        "    <tr>\n",
        "      <th>4</th>\n",
        "      <td> 156540</td>\n",
        "      <td> 0.22</td>\n",
        "      <td> 0.51</td>\n",
        "      <td> 759.72</td>\n",
        "      <td>  152</td>\n",
        "      <td> 2</td>\n",
        "      <td> 9.96</td>\n",
        "      <td> 257.99</td>\n",
        "      <td> 0</td>\n",
        "      <td> 1</td>\n",
        "      <td> 0</td>\n",
        "      <td>  8000</td>\n",
        "      <td>  8256.01</td>\n",
        "      <td> 0.27</td>\n",
        "      <td> 0</td>\n",
        "      <td>  1.50</td>\n",
        "    </tr>\n",
        "    <tr>\n",
        "      <th>5</th>\n",
        "      <td> 232302</td>\n",
        "      <td> 0.41</td>\n",
        "      <td> 0.36</td>\n",
        "      <td> 495.07</td>\n",
        "      <td> 1127</td>\n",
        "      <td> 1</td>\n",
        "      <td> 9.83</td>\n",
        "      <td> 804.69</td>\n",
        "      <td> 0</td>\n",
        "      <td> 1</td>\n",
        "      <td> 0</td>\n",
        "      <td> 25000</td>\n",
        "      <td> 28968.10</td>\n",
        "      <td> 0.23</td>\n",
        "      <td> 0</td>\n",
        "      <td>  8.98</td>\n",
        "    </tr>\n",
        "    <tr>\n",
        "      <th>6</th>\n",
        "      <td> 234346</td>\n",
        "      <td> 0.18</td>\n",
        "      <td> 0.49</td>\n",
        "      <td> 763.60</td>\n",
        "      <td> 1127</td>\n",
        "      <td> 1</td>\n",
        "      <td> 9.20</td>\n",
        "      <td>  95.68</td>\n",
        "      <td> 0</td>\n",
        "      <td> 1</td>\n",
        "      <td> 0</td>\n",
        "      <td>  3000</td>\n",
        "      <td>  3443.55</td>\n",
        "      <td> 0.33</td>\n",
        "      <td> 0</td>\n",
        "      <td>  0.99</td>\n",
        "    </tr>\n",
        "    <tr>\n",
        "      <th>7</th>\n",
        "      <td> 238587</td>\n",
        "      <td> 0.22</td>\n",
        "      <td> 0.37</td>\n",
        "      <td> 671.85</td>\n",
        "      <td>  943</td>\n",
        "      <td> 2</td>\n",
        "      <td> 9.83</td>\n",
        "      <td> 257.50</td>\n",
        "      <td> 0</td>\n",
        "      <td> 1</td>\n",
        "      <td> 0</td>\n",
        "      <td>  8000</td>\n",
        "      <td>  9261.84</td>\n",
        "      <td> 0.41</td>\n",
        "      <td> 0</td>\n",
        "      <td> 21.33</td>\n",
        "    </tr>\n",
        "    <tr>\n",
        "      <th>8</th>\n",
        "      <td> 239843</td>\n",
        "      <td> 0.28</td>\n",
        "      <td> 0.44</td>\n",
        "      <td> 677.73</td>\n",
        "      <td>  669</td>\n",
        "      <td> 0</td>\n",
        "      <td> 9.51</td>\n",
        "      <td> 640.76</td>\n",
        "      <td> 0</td>\n",
        "      <td> 1</td>\n",
        "      <td> 0</td>\n",
        "      <td> 20000</td>\n",
        "      <td> 13455.30</td>\n",
        "      <td> 0.28</td>\n",
        "      <td> 0</td>\n",
        "      <td>  0.22</td>\n",
        "    </tr>\n",
        "    <tr>\n",
        "      <th>9</th>\n",
        "      <td> 242642</td>\n",
        "      <td> 0.33</td>\n",
        "      <td> 0.37</td>\n",
        "      <td> 682.04</td>\n",
        "      <td> 1096</td>\n",
        "      <td> 1</td>\n",
        "      <td> 9.76</td>\n",
        "      <td> 533.77</td>\n",
        "      <td> 0</td>\n",
        "      <td> 1</td>\n",
        "      <td> 0</td>\n",
        "      <td> 16600</td>\n",
        "      <td> 19214.90</td>\n",
        "      <td> 0.30</td>\n",
        "      <td> 0</td>\n",
        "      <td>  4.68</td>\n",
        "    </tr>\n",
        "  </tbody>\n",
        "</table>\n",
        "</div>"
       ],
       "metadata": {},
       "output_type": "pyout",
       "prompt_number": 81,
       "text": [
        "       id  pred_default  pred_paid  pred_days_to_zero_dollars  \\\n",
        "0  121673          0.27       0.53                     860.26   \n",
        "1  126776          0.12       0.51                     712.00   \n",
        "2  128797          0.17       0.55                     652.09   \n",
        "3  146205          0.22       0.43                     761.72   \n",
        "4  156540          0.22       0.51                     759.72   \n",
        "5  232302          0.41       0.36                     495.07   \n",
        "6  234346          0.18       0.49                     763.60   \n",
        "7  238587          0.22       0.37                     671.85   \n",
        "8  239843          0.28       0.44                     677.73   \n",
        "9  242642          0.33       0.37                     682.04   \n",
        "\n",
        "   days_to_zero_dollars  loan_status  int_rate  installment  A  B  C  \\\n",
        "0                  1096            1      8.07       141.15  1  0  0   \n",
        "1                  1096            1      8.07       297.99  1  0  0   \n",
        "2                   731            2      8.38        15.76  1  0  0   \n",
        "3                    61            0      9.33       287.59  0  1  0   \n",
        "4                   152            2      9.96       257.99  0  1  0   \n",
        "5                  1127            1      9.83       804.69  0  1  0   \n",
        "6                  1127            1      9.20        95.68  0  1  0   \n",
        "7                   943            2      9.83       257.50  0  1  0   \n",
        "8                   669            0      9.51       640.76  0  1  0   \n",
        "9                  1096            1      9.76       533.77  0  1  0   \n",
        "\n",
        "   loan_amount  total_pymnt  pred_prepaid  recoveries    dti  \n",
        "0         4500      5081.17          0.20           0   3.29  \n",
        "1         9500     10726.60          0.37           0   2.44  \n",
        "2          500       557.31          0.28           0   2.15  \n",
        "3         9000       574.08          0.35           0  13.36  \n",
        "4         8000      8256.01          0.27           0   1.50  \n",
        "5        25000     28968.10          0.23           0   8.98  \n",
        "6         3000      3443.55          0.33           0   0.99  \n",
        "7         8000      9261.84          0.41           0  21.33  \n",
        "8        20000     13455.30          0.28           0   0.22  \n",
        "9        16600     19214.90          0.30           0   4.68  "
       ]
      }
     ],
     "prompt_number": 81
    },
    {
     "cell_type": "code",
     "collapsed": false,
     "input": [
      "print np.sum(loanData['A'] == 1)\n",
      "print np.sum(loanData['B'] == 1)\n",
      "print np.sum(loanData['C'] == 1)"
     ],
     "language": "python",
     "metadata": {},
     "outputs": [
      {
       "output_type": "stream",
       "stream": "stdout",
       "text": [
        "686\n",
        "1008\n",
        "189\n"
       ]
      }
     ],
     "prompt_number": 7
    },
    {
     "cell_type": "heading",
     "level": 3,
     "metadata": {},
     "source": [
      "Invest in 50 A, 50B, 50 C loans "
     ]
    },
    {
     "cell_type": "code",
     "collapsed": false,
     "input": [
      "loanData['principle_remaing_at_zero_dollars'] = 0\n",
      "for index, loanId in enumerate(loanData['id']):\n",
      "    loan = loanData.iloc[index]\n",
      "    mths_to_zero_dollars = int(loan['pred_days_to_zero_dollars']/30.0)\n",
      "    int_rate = loan['int_rate']/100.0\n",
      "    int_rate = int_rate/12.0 #monthly\n",
      "    installment = loan['installment']\n",
      "    p = loan['loan_amount']\n",
      "    for m in range(1, mths_to_zero_dollars+1):\n",
      "        p = p * (1 + int_rate) - installment\n",
      "    loanData['principle_remaing_at_zero_dollars'].iloc[index] = p"
     ],
     "language": "python",
     "metadata": {},
     "outputs": [
      {
       "output_type": "stream",
       "stream": "stderr",
       "text": [
        "/Library/Python/2.7/site-packages/pandas/core/indexing.py:121: SettingWithCopyWarning: \n",
        "A value is trying to be set on a copy of a slice from a DataFrame\n",
        "\n",
        "See the the caveats in the documentation: http://pandas.pydata.org/pandas-docs/stable/indexing.html#indexing-view-versus-copy\n",
        "  self._setitem_with_indexer(indexer, value)\n"
       ]
      }
     ],
     "prompt_number": 8
    },
    {
     "cell_type": "code",
     "collapsed": false,
     "input": [
      "revenue = []"
     ],
     "language": "python",
     "metadata": {},
     "outputs": [],
     "prompt_number": 9
    },
    {
     "cell_type": "code",
     "collapsed": false,
     "input": [
      "loanData.index = range(len(loanData))\n",
      "loanData['pred_roi'] = 0\n",
      "for i, id in enumerate(loanData['id']):\n",
      "    installment = loanData['installment'][i]\n",
      "    loan_amount = loanData['loan_amount'][i]\n",
      "    mths_to_default = loanData['pred_days_to_zero_dollars'][i]/30.0\n",
      "    prob_paid = loanData['pred_paid'][i]\n",
      "    prob_default = loanData['pred_default'][i]\n",
      "    prob_prepaid = loanData['pred_prepaid'][i]\n",
      "    revenue_i = (36 * installment * prob_paid) + (mths_to_default * installment * prob_default) - loan_amount\n",
      "    roi_i = revenue_i / loan_amount\n",
      "    loanData['pred_roi'].iloc[i] = roi_i"
     ],
     "language": "python",
     "metadata": {},
     "outputs": [],
     "prompt_number": 10
    },
    {
     "cell_type": "code",
     "collapsed": false,
     "input": [
      "#select 50 best loans in each grade\n",
      "A_loanData = loanData[loanData['A'] == 1]\n",
      "A_loanData = A_loanData.sort(['pred_roi'], ascending=0)[:10]\n",
      "\n",
      "B_loanData = loanData[loanData['B'] == 1]\n",
      "B_loanData = B_loanData.sort(['pred_roi'], ascending=0)[:10]\n",
      "\n",
      "C_loanData = loanData[loanData['C'] == 1]\n",
      "C_loanData = C_loanData.sort(['pred_roi'], ascending=0)[:10]"
     ],
     "language": "python",
     "metadata": {},
     "outputs": [],
     "prompt_number": 57
    },
    {
     "cell_type": "heading",
     "level": 3,
     "metadata": {},
     "source": [
      "Quickr Pickr's return on top 30 loans"
     ]
    },
    {
     "cell_type": "code",
     "collapsed": false,
     "input": [
      "alg_return = np.sum(A_loanData['total_pymnt'])+np.sum(B_loanData['total_pymnt'])+np.sum(C_loanData['total_pymnt'])\n",
      "alg_return = alg_return + np.sum(A_loanData['recoveries'])+np.sum(B_loanData['recoveries'])+np.sum(C_loanData['recoveries'])\n",
      "alg_investment = np.sum(A_loanData['loan_amount'])+np.sum(B_loanData['loan_amount'])+np.sum(C_loanData['loan_amount'])"
     ],
     "language": "python",
     "metadata": {},
     "outputs": [],
     "prompt_number": 58
    },
    {
     "cell_type": "code",
     "collapsed": false,
     "input": [
      "(alg_return-alg_investment)/alg_investment"
     ],
     "language": "python",
     "metadata": {},
     "outputs": [
      {
       "metadata": {},
       "output_type": "pyout",
       "prompt_number": 59,
       "text": [
        "0.092687004203984749"
       ]
      }
     ],
     "prompt_number": 59
    },
    {
     "cell_type": "heading",
     "level": 3,
     "metadata": {},
     "source": [
      "Return on 30 random loans"
     ]
    },
    {
     "cell_type": "code",
     "collapsed": false,
     "input": [
      "A_loanData_rand = loanData[loanData['A'] == 1]\n",
      "A_loanData_rand.index = range(len(A_loanData_rand))\n",
      "\n",
      "B_loanData_rand = loanData[loanData['B'] == 1]\n",
      "B_loanData_rand.index = range(len(B_loanData_rand))\n",
      "\n",
      "C_loanData_rand = loanData[loanData['C'] == 1]\n",
      "C_loanData_rand.index = range(len(C_loanData_rand))"
     ],
     "language": "python",
     "metadata": {},
     "outputs": [],
     "prompt_number": 61
    },
    {
     "cell_type": "code",
     "collapsed": false,
     "input": [
      "A_loanData_rand = A_loanData_rand.loc[random.sample(xrange(len(A_loanData_rand)), 10)]\n",
      "B_loanData_rand = B_loanData_rand.loc[random.sample(xrange(len(B_loanData_rand)), 10)]\n",
      "C_loanData_rand = C_loanData_rand.loc[random.sample(xrange(len(C_loanData_rand)), 10)]"
     ],
     "language": "python",
     "metadata": {},
     "outputs": [],
     "prompt_number": 62
    },
    {
     "cell_type": "code",
     "collapsed": false,
     "input": [
      "rand_return = np.sum(A_loanData_rand['total_pymnt'])+np.sum(B_loanData_rand['total_pymnt'])+np.sum(C_loanData_rand['total_pymnt'])\n",
      "rand_return = rand_return + np.sum(A_loanData_rand['recoveries'])+np.sum(B_loanData_rand['recoveries'])+np.sum(C_loanData_rand['recoveries'])\n",
      "rand_investment = np.sum(A_loanData_rand['loan_amount'])+np.sum(B_loanData_rand['loan_amount'])+np.sum(C_loanData_rand['loan_amount'])"
     ],
     "language": "python",
     "metadata": {},
     "outputs": [],
     "prompt_number": 63
    },
    {
     "cell_type": "code",
     "collapsed": false,
     "input": [
      "(rand_return-rand_investment)/rand_investment"
     ],
     "language": "python",
     "metadata": {},
     "outputs": [
      {
       "metadata": {},
       "output_type": "pyout",
       "prompt_number": 64,
       "text": [
        "-0.0048454183888325883"
       ]
      }
     ],
     "prompt_number": 64
    },
    {
     "cell_type": "heading",
     "level": 3,
     "metadata": {},
     "source": [
      "Return on 30 loans with highest interest rate"
     ]
    },
    {
     "cell_type": "code",
     "collapsed": false,
     "input": [
      "A_loanData_int_rate = loanData[loanData['A'] == 1]\n",
      "A_loanData_int_rate = A_loanData_int_rate.sort(['int_rate'], ascending=0)[:10]\n",
      "\n",
      "B_loanData_int_rate = loanData[loanData['B'] == 1]\n",
      "B_loanData_int_rate = B_loanData_int_rate.sort(['int_rate'], ascending=0)[:10]\n",
      "\n",
      "C_loanData_int_rate = loanData[loanData['C'] == 1]\n",
      "C_loanData_int_rate = C_loanData_int_rate.sort(['int_rate'], ascending=0)[:10]"
     ],
     "language": "python",
     "metadata": {},
     "outputs": [],
     "prompt_number": 74
    },
    {
     "cell_type": "code",
     "collapsed": false,
     "input": [
      "return_int_rate = np.sum(A_loanData_int_rate['total_pymnt'])+np.sum(B_loanData_int_rate['total_pymnt'])+np.sum(C_loanData_int_rate['total_pymnt'])\n",
      "return_int_rate = return_int_rate + np.sum(A_loanData_int_rate['recoveries'])+np.sum(B_loanData_int_rate['recoveries'])+np.sum(C_loanData_int_rate['recoveries'])\n",
      "investment_int_rate = np.sum(A_loanData_int_rate['loan_amount'])+np.sum(B_loanData_int_rate['loan_amount'])+np.sum(C_loanData_int_rate['loan_amount'])"
     ],
     "language": "python",
     "metadata": {},
     "outputs": [],
     "prompt_number": 75
    },
    {
     "cell_type": "code",
     "collapsed": false,
     "input": [
      "(return_int_rate-investment_int_rate)/investment_int_rate"
     ],
     "language": "python",
     "metadata": {},
     "outputs": [
      {
       "metadata": {},
       "output_type": "pyout",
       "prompt_number": 76,
       "text": [
        "0.028517964824120588"
       ]
      }
     ],
     "prompt_number": 76
    },
    {
     "cell_type": "heading",
     "level": 3,
     "metadata": {},
     "source": [
      "Return on 30 loans with lowest DTI"
     ]
    },
    {
     "cell_type": "code",
     "collapsed": false,
     "input": [
      "A_loanData_dti = loanData[loanData['A'] == 1]\n",
      "A_loanData_dti = A_loanData_dti.sort(['dti'], ascending=1)[:10]\n",
      "\n",
      "B_loanData_dti = loanData[loanData['B'] == 1]\n",
      "B_loanData_dti = B_loanData_dti.sort(['dti'], ascending=1)[:10]\n",
      "\n",
      "C_loanData_dti = loanData[loanData['C'] == 1]\n",
      "C_loanData_dti = C_loanData_dti.sort(['dti'], ascending=1)[:10]"
     ],
     "language": "python",
     "metadata": {},
     "outputs": [],
     "prompt_number": 83
    },
    {
     "cell_type": "code",
     "collapsed": false,
     "input": [
      "return_dti = np.sum(A_loanData_dti['total_pymnt'])+np.sum(B_loanData_dti['total_pymnt'])+np.sum(C_loanData_dti['total_pymnt'])\n",
      "return_dti = return_dti + np.sum(A_loanData_dti['recoveries'])+np.sum(B_loanData_dti['recoveries'])+np.sum(C_loanData_dti['recoveries'])\n",
      "investment_dti = np.sum(A_loanData_dti['loan_amount'])+np.sum(B_loanData_dti['loan_amount'])+np.sum(C_loanData_dti['loan_amount'])"
     ],
     "language": "python",
     "metadata": {},
     "outputs": [],
     "prompt_number": 84
    },
    {
     "cell_type": "code",
     "collapsed": false,
     "input": [
      "(return_dti-investment_dti)/investment_dti"
     ],
     "language": "python",
     "metadata": {},
     "outputs": [
      {
       "metadata": {},
       "output_type": "pyout",
       "prompt_number": 85,
       "text": [
        "0.044234268432578987"
       ]
      }
     ],
     "prompt_number": 85
    },
    {
     "cell_type": "code",
     "collapsed": false,
     "input": [],
     "language": "python",
     "metadata": {},
     "outputs": []
    }
   ],
   "metadata": {}
  }
 ]
}