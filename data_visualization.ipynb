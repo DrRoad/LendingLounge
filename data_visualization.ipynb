{
 "metadata": {
  "name": "",
  "signature": "sha256:dc3b0cf48a76df22dbffc4f551b5ca355e0ae67c91947aca2faefacbc92db265"
 },
 "nbformat": 3,
 "nbformat_minor": 0,
 "worksheets": [
  {
   "cells": [
    {
     "cell_type": "code",
     "collapsed": false,
     "input": [
      "import pandas as pd\n",
      "import numpy as np\n",
      "import glob, sys\n",
      "from datetime import date\n",
      "import pickle\n",
      "from random import randint\n",
      "\n",
      "from scipy.stats import randint as sp_randint\n",
      "import matplotlib.pyplot as plt\n",
      "\n",
      "pd.set_option('display.max_columns', 200)\n",
      "%matplotlib inline"
     ],
     "language": "python",
     "metadata": {},
     "outputs": [],
     "prompt_number": 13
    },
    {
     "cell_type": "code",
     "collapsed": false,
     "input": [
      "f = open('data.pickle', 'rb')\n",
      "loanData = pickle.load(f)"
     ],
     "language": "python",
     "metadata": {},
     "outputs": [],
     "prompt_number": 139
    },
    {
     "cell_type": "code",
     "collapsed": false,
     "input": [
      "loanData[:10]"
     ],
     "language": "python",
     "metadata": {},
     "outputs": [
      {
       "html": [
        "<div style=\"max-height:1000px;max-width:1500px;overflow:auto;\">\n",
        "<table border=\"1\" class=\"dataframe\">\n",
        "  <thead>\n",
        "    <tr style=\"text-align: right;\">\n",
        "      <th></th>\n",
        "      <th>id</th>\n",
        "      <th>member_id</th>\n",
        "      <th>loan_amnt</th>\n",
        "      <th>funded_amnt</th>\n",
        "      <th>funded_amnt_inv</th>\n",
        "      <th>term</th>\n",
        "      <th>int_rate</th>\n",
        "      <th>installment</th>\n",
        "      <th>grade</th>\n",
        "      <th>sub_grade</th>\n",
        "      <th>emp_title</th>\n",
        "      <th>emp_length</th>\n",
        "      <th>home_ownership</th>\n",
        "      <th>annual_inc</th>\n",
        "      <th>is_inc_v</th>\n",
        "      <th>issue_d</th>\n",
        "      <th>loan_status</th>\n",
        "      <th>pymnt_plan</th>\n",
        "      <th>url</th>\n",
        "      <th>desc</th>\n",
        "      <th>purpose</th>\n",
        "      <th>title</th>\n",
        "      <th>zip_code</th>\n",
        "      <th>addr_state</th>\n",
        "      <th>dti</th>\n",
        "      <th>delinq_2yrs</th>\n",
        "      <th>earliest_cr_line</th>\n",
        "      <th>inq_last_6mths</th>\n",
        "      <th>mths_since_last_delinq</th>\n",
        "      <th>mths_since_last_record</th>\n",
        "      <th>open_acc</th>\n",
        "      <th>pub_rec</th>\n",
        "      <th>revol_bal</th>\n",
        "      <th>revol_util</th>\n",
        "      <th>total_acc</th>\n",
        "      <th>initial_list_status</th>\n",
        "      <th>out_prncp</th>\n",
        "      <th>out_prncp_inv</th>\n",
        "      <th>total_pymnt</th>\n",
        "      <th>total_pymnt_inv</th>\n",
        "      <th>total_rec_prncp</th>\n",
        "      <th>total_rec_int</th>\n",
        "      <th>total_rec_late_fee</th>\n",
        "      <th>recoveries</th>\n",
        "      <th>collection_recovery_fee</th>\n",
        "      <th>last_pymnt_d</th>\n",
        "      <th>last_pymnt_amnt</th>\n",
        "      <th>next_pymnt_d</th>\n",
        "      <th>last_credit_pull_d</th>\n",
        "      <th>collections_12_mths_ex_med</th>\n",
        "      <th>mths_since_last_major_derog</th>\n",
        "      <th>policy_code</th>\n",
        "    </tr>\n",
        "  </thead>\n",
        "  <tbody>\n",
        "    <tr>\n",
        "      <th>0</th>\n",
        "      <td> 1077430</td>\n",
        "      <td> 1314167</td>\n",
        "      <td>  2500</td>\n",
        "      <td>  2500</td>\n",
        "      <td>  2500</td>\n",
        "      <td>  60 months</td>\n",
        "      <td> 15.27</td>\n",
        "      <td>  59.83</td>\n",
        "      <td> C</td>\n",
        "      <td> C4</td>\n",
        "      <td>                               Ryder</td>\n",
        "      <td>  &lt; 1 year</td>\n",
        "      <td>     RENT</td>\n",
        "      <td>  30000.00</td>\n",
        "      <td> Source Verified</td>\n",
        "      <td> Dec-2011</td>\n",
        "      <td> Charged Off</td>\n",
        "      <td> n</td>\n",
        "      <td> https://www.lendingclub.com/browse/loanDetail....</td>\n",
        "      <td>   Borrower added on 12/22/11 &gt; I plan to use t...</td>\n",
        "      <td>                car</td>\n",
        "      <td>                                 bike</td>\n",
        "      <td> 309xx</td>\n",
        "      <td> GA</td>\n",
        "      <td>  1.00</td>\n",
        "      <td> 0</td>\n",
        "      <td> Apr-1999</td>\n",
        "      <td> 5</td>\n",
        "      <td>NaN</td>\n",
        "      <td>NaN</td>\n",
        "      <td>  3</td>\n",
        "      <td> 0</td>\n",
        "      <td>  1687</td>\n",
        "      <td>  9.4%</td>\n",
        "      <td>  4</td>\n",
        "      <td> f</td>\n",
        "      <td> 0</td>\n",
        "      <td> 0</td>\n",
        "      <td>  1008.710000</td>\n",
        "      <td>  1008.71</td>\n",
        "      <td>   456.46</td>\n",
        "      <td>  435.17</td>\n",
        "      <td> 0</td>\n",
        "      <td> 117.08</td>\n",
        "      <td> 1.1100</td>\n",
        "      <td> Apr-2013</td>\n",
        "      <td>  119.66</td>\n",
        "      <td> NaN</td>\n",
        "      <td> Sep-2013</td>\n",
        "      <td> 0</td>\n",
        "      <td>NaN</td>\n",
        "      <td> 1</td>\n",
        "    </tr>\n",
        "    <tr>\n",
        "      <th>1</th>\n",
        "      <td> 1077175</td>\n",
        "      <td> 1313524</td>\n",
        "      <td>  2400</td>\n",
        "      <td>  2400</td>\n",
        "      <td>  2400</td>\n",
        "      <td>  36 months</td>\n",
        "      <td> 15.96</td>\n",
        "      <td>  84.33</td>\n",
        "      <td> C</td>\n",
        "      <td> C5</td>\n",
        "      <td>                                 NaN</td>\n",
        "      <td> 10+ years</td>\n",
        "      <td>     RENT</td>\n",
        "      <td>  12252.00</td>\n",
        "      <td>    Not Verified</td>\n",
        "      <td> Dec-2011</td>\n",
        "      <td>  Fully Paid</td>\n",
        "      <td> n</td>\n",
        "      <td> https://www.lendingclub.com/browse/loanDetail....</td>\n",
        "      <td>                                               NaN</td>\n",
        "      <td>     small_business</td>\n",
        "      <td>                 real estate business</td>\n",
        "      <td> 606xx</td>\n",
        "      <td> IL</td>\n",
        "      <td>  8.72</td>\n",
        "      <td> 0</td>\n",
        "      <td> Nov-2001</td>\n",
        "      <td> 2</td>\n",
        "      <td>NaN</td>\n",
        "      <td>NaN</td>\n",
        "      <td>  2</td>\n",
        "      <td> 0</td>\n",
        "      <td>  2956</td>\n",
        "      <td> 98.5%</td>\n",
        "      <td> 10</td>\n",
        "      <td> f</td>\n",
        "      <td> 0</td>\n",
        "      <td> 0</td>\n",
        "      <td>  3003.653644</td>\n",
        "      <td>  3003.65</td>\n",
        "      <td>  2400.00</td>\n",
        "      <td>  603.65</td>\n",
        "      <td> 0</td>\n",
        "      <td>   0.00</td>\n",
        "      <td> 0.0000</td>\n",
        "      <td> Jun-2014</td>\n",
        "      <td>  649.91</td>\n",
        "      <td> NaN</td>\n",
        "      <td> Nov-2014</td>\n",
        "      <td> 0</td>\n",
        "      <td>NaN</td>\n",
        "      <td> 1</td>\n",
        "    </tr>\n",
        "    <tr>\n",
        "      <th>2</th>\n",
        "      <td> 1071795</td>\n",
        "      <td> 1306957</td>\n",
        "      <td>  5600</td>\n",
        "      <td>  5600</td>\n",
        "      <td>  5600</td>\n",
        "      <td>  60 months</td>\n",
        "      <td> 21.28</td>\n",
        "      <td> 152.39</td>\n",
        "      <td> F</td>\n",
        "      <td> F2</td>\n",
        "      <td>                                 NaN</td>\n",
        "      <td>   4 years</td>\n",
        "      <td>      OWN</td>\n",
        "      <td>  40000.00</td>\n",
        "      <td> Source Verified</td>\n",
        "      <td> Dec-2011</td>\n",
        "      <td> Charged Off</td>\n",
        "      <td> n</td>\n",
        "      <td> https://www.lendingclub.com/browse/loanDetail....</td>\n",
        "      <td>   Borrower added on 12/21/11 &gt; I own a small h...</td>\n",
        "      <td>     small_business</td>\n",
        "      <td> Expand Business &amp; Buy Debt Portfolio</td>\n",
        "      <td> 958xx</td>\n",
        "      <td> CA</td>\n",
        "      <td>  5.55</td>\n",
        "      <td> 0</td>\n",
        "      <td> Apr-2004</td>\n",
        "      <td> 2</td>\n",
        "      <td>NaN</td>\n",
        "      <td>NaN</td>\n",
        "      <td> 11</td>\n",
        "      <td> 0</td>\n",
        "      <td>  5210</td>\n",
        "      <td> 32.6%</td>\n",
        "      <td> 13</td>\n",
        "      <td> f</td>\n",
        "      <td> 0</td>\n",
        "      <td> 0</td>\n",
        "      <td>   646.020000</td>\n",
        "      <td>   646.02</td>\n",
        "      <td>   162.02</td>\n",
        "      <td>  294.94</td>\n",
        "      <td> 0</td>\n",
        "      <td> 189.06</td>\n",
        "      <td> 2.0900</td>\n",
        "      <td> Apr-2012</td>\n",
        "      <td>  152.39</td>\n",
        "      <td> NaN</td>\n",
        "      <td> Aug-2012</td>\n",
        "      <td> 0</td>\n",
        "      <td>NaN</td>\n",
        "      <td> 1</td>\n",
        "    </tr>\n",
        "    <tr>\n",
        "      <th>3</th>\n",
        "      <td> 1071570</td>\n",
        "      <td> 1306721</td>\n",
        "      <td>  5375</td>\n",
        "      <td>  5375</td>\n",
        "      <td>  5350</td>\n",
        "      <td>  60 months</td>\n",
        "      <td> 12.69</td>\n",
        "      <td> 121.45</td>\n",
        "      <td> B</td>\n",
        "      <td> B5</td>\n",
        "      <td>                           Starbucks</td>\n",
        "      <td>  &lt; 1 year</td>\n",
        "      <td>     RENT</td>\n",
        "      <td>  15000.00</td>\n",
        "      <td>        Verified</td>\n",
        "      <td> Dec-2011</td>\n",
        "      <td> Charged Off</td>\n",
        "      <td> n</td>\n",
        "      <td> https://www.lendingclub.com/browse/loanDetail....</td>\n",
        "      <td>   Borrower added on 12/16/11 &gt; I'm trying to b...</td>\n",
        "      <td>              other</td>\n",
        "      <td>          Building my credit history.</td>\n",
        "      <td> 774xx</td>\n",
        "      <td> TX</td>\n",
        "      <td> 18.08</td>\n",
        "      <td> 0</td>\n",
        "      <td> Sep-2004</td>\n",
        "      <td> 0</td>\n",
        "      <td>NaN</td>\n",
        "      <td>NaN</td>\n",
        "      <td>  2</td>\n",
        "      <td> 0</td>\n",
        "      <td>  9279</td>\n",
        "      <td> 36.5%</td>\n",
        "      <td>  3</td>\n",
        "      <td> f</td>\n",
        "      <td> 0</td>\n",
        "      <td> 0</td>\n",
        "      <td>  1476.190000</td>\n",
        "      <td>  1469.34</td>\n",
        "      <td>   673.48</td>\n",
        "      <td>  533.42</td>\n",
        "      <td> 0</td>\n",
        "      <td> 269.29</td>\n",
        "      <td> 2.5200</td>\n",
        "      <td> Nov-2012</td>\n",
        "      <td>  121.45</td>\n",
        "      <td> NaN</td>\n",
        "      <td> Mar-2013</td>\n",
        "      <td> 0</td>\n",
        "      <td>NaN</td>\n",
        "      <td> 1</td>\n",
        "    </tr>\n",
        "    <tr>\n",
        "      <th>4</th>\n",
        "      <td> 1070078</td>\n",
        "      <td> 1305201</td>\n",
        "      <td>  6500</td>\n",
        "      <td>  6500</td>\n",
        "      <td>  6500</td>\n",
        "      <td>  60 months</td>\n",
        "      <td> 14.65</td>\n",
        "      <td> 153.45</td>\n",
        "      <td> C</td>\n",
        "      <td> C3</td>\n",
        "      <td>               Southwest Rural metro</td>\n",
        "      <td>   5 years</td>\n",
        "      <td>      OWN</td>\n",
        "      <td>  72000.00</td>\n",
        "      <td>    Not Verified</td>\n",
        "      <td> Dec-2011</td>\n",
        "      <td>  Fully Paid</td>\n",
        "      <td> n</td>\n",
        "      <td> https://www.lendingclub.com/browse/loanDetail....</td>\n",
        "      <td>   Borrower added on 12/15/11 &gt; I had recived a...</td>\n",
        "      <td> debt_consolidation</td>\n",
        "      <td>           High intrest Consolidation</td>\n",
        "      <td> 853xx</td>\n",
        "      <td> AZ</td>\n",
        "      <td> 16.12</td>\n",
        "      <td> 0</td>\n",
        "      <td> Jan-1998</td>\n",
        "      <td> 2</td>\n",
        "      <td>NaN</td>\n",
        "      <td>NaN</td>\n",
        "      <td> 14</td>\n",
        "      <td> 0</td>\n",
        "      <td>  4032</td>\n",
        "      <td> 20.6%</td>\n",
        "      <td> 23</td>\n",
        "      <td> f</td>\n",
        "      <td> 0</td>\n",
        "      <td> 0</td>\n",
        "      <td>  7677.520000</td>\n",
        "      <td>  7677.52</td>\n",
        "      <td>  6500.00</td>\n",
        "      <td> 1177.52</td>\n",
        "      <td> 0</td>\n",
        "      <td>   0.00</td>\n",
        "      <td> 0.0000</td>\n",
        "      <td> Jun-2013</td>\n",
        "      <td> 1655.54</td>\n",
        "      <td> NaN</td>\n",
        "      <td> Jul-2013</td>\n",
        "      <td> 0</td>\n",
        "      <td>NaN</td>\n",
        "      <td> 1</td>\n",
        "    </tr>\n",
        "    <tr>\n",
        "      <th>5</th>\n",
        "      <td> 1069908</td>\n",
        "      <td> 1305008</td>\n",
        "      <td> 12000</td>\n",
        "      <td> 12000</td>\n",
        "      <td> 12000</td>\n",
        "      <td>  36 months</td>\n",
        "      <td> 12.69</td>\n",
        "      <td> 402.54</td>\n",
        "      <td> B</td>\n",
        "      <td> B5</td>\n",
        "      <td>                                UCLA</td>\n",
        "      <td> 10+ years</td>\n",
        "      <td>      OWN</td>\n",
        "      <td>  75000.00</td>\n",
        "      <td> Source Verified</td>\n",
        "      <td> Dec-2011</td>\n",
        "      <td>  Fully Paid</td>\n",
        "      <td> n</td>\n",
        "      <td> https://www.lendingclub.com/browse/loanDetail....</td>\n",
        "      <td>                                               NaN</td>\n",
        "      <td> debt_consolidation</td>\n",
        "      <td>                        Consolidation</td>\n",
        "      <td> 913xx</td>\n",
        "      <td> CA</td>\n",
        "      <td> 10.78</td>\n",
        "      <td> 0</td>\n",
        "      <td> Oct-1989</td>\n",
        "      <td> 0</td>\n",
        "      <td>NaN</td>\n",
        "      <td>NaN</td>\n",
        "      <td> 12</td>\n",
        "      <td> 0</td>\n",
        "      <td> 23336</td>\n",
        "      <td> 67.1%</td>\n",
        "      <td> 34</td>\n",
        "      <td> f</td>\n",
        "      <td> 0</td>\n",
        "      <td> 0</td>\n",
        "      <td> 13943.080000</td>\n",
        "      <td> 13943.08</td>\n",
        "      <td> 12000.00</td>\n",
        "      <td> 1943.08</td>\n",
        "      <td> 0</td>\n",
        "      <td>   0.00</td>\n",
        "      <td> 0.0000</td>\n",
        "      <td> Sep-2013</td>\n",
        "      <td> 6315.30</td>\n",
        "      <td> NaN</td>\n",
        "      <td> Aug-2013</td>\n",
        "      <td> 0</td>\n",
        "      <td>NaN</td>\n",
        "      <td> 1</td>\n",
        "    </tr>\n",
        "    <tr>\n",
        "      <th>6</th>\n",
        "      <td> 1064687</td>\n",
        "      <td> 1298717</td>\n",
        "      <td>  9000</td>\n",
        "      <td>  9000</td>\n",
        "      <td>  9000</td>\n",
        "      <td>  36 months</td>\n",
        "      <td> 13.49</td>\n",
        "      <td> 305.38</td>\n",
        "      <td> C</td>\n",
        "      <td> C1</td>\n",
        "      <td> Va. Dept of Conservation/Recreation</td>\n",
        "      <td>  &lt; 1 year</td>\n",
        "      <td>     RENT</td>\n",
        "      <td>  30000.00</td>\n",
        "      <td> Source Verified</td>\n",
        "      <td> Dec-2011</td>\n",
        "      <td> Charged Off</td>\n",
        "      <td> n</td>\n",
        "      <td> https://www.lendingclub.com/browse/loanDetail....</td>\n",
        "      <td>   Borrower added on 12/15/11 &gt; Plan to pay off...</td>\n",
        "      <td> debt_consolidation</td>\n",
        "      <td>                              freedom</td>\n",
        "      <td> 245xx</td>\n",
        "      <td> VA</td>\n",
        "      <td> 10.08</td>\n",
        "      <td> 0</td>\n",
        "      <td> Apr-2004</td>\n",
        "      <td> 1</td>\n",
        "      <td>NaN</td>\n",
        "      <td>NaN</td>\n",
        "      <td>  4</td>\n",
        "      <td> 0</td>\n",
        "      <td> 10452</td>\n",
        "      <td> 91.7%</td>\n",
        "      <td>  9</td>\n",
        "      <td> f</td>\n",
        "      <td> 0</td>\n",
        "      <td> 0</td>\n",
        "      <td>  2270.700000</td>\n",
        "      <td>  2270.70</td>\n",
        "      <td>  1256.14</td>\n",
        "      <td>  570.26</td>\n",
        "      <td> 0</td>\n",
        "      <td> 444.30</td>\n",
        "      <td> 4.1600</td>\n",
        "      <td> Jul-2012</td>\n",
        "      <td>  305.38</td>\n",
        "      <td> NaN</td>\n",
        "      <td> Nov-2012</td>\n",
        "      <td> 0</td>\n",
        "      <td>NaN</td>\n",
        "      <td> 1</td>\n",
        "    </tr>\n",
        "    <tr>\n",
        "      <th>7</th>\n",
        "      <td> 1069057</td>\n",
        "      <td> 1303503</td>\n",
        "      <td> 10000</td>\n",
        "      <td> 10000</td>\n",
        "      <td> 10000</td>\n",
        "      <td>  36 months</td>\n",
        "      <td> 10.65</td>\n",
        "      <td> 325.74</td>\n",
        "      <td> B</td>\n",
        "      <td> B2</td>\n",
        "      <td>                               SFMTA</td>\n",
        "      <td>   3 years</td>\n",
        "      <td>     RENT</td>\n",
        "      <td> 100000.00</td>\n",
        "      <td> Source Verified</td>\n",
        "      <td> Dec-2011</td>\n",
        "      <td> Charged Off</td>\n",
        "      <td> n</td>\n",
        "      <td> https://www.lendingclub.com/browse/loanDetail....</td>\n",
        "      <td>                                               NaN</td>\n",
        "      <td>              other</td>\n",
        "      <td>                           Other Loan</td>\n",
        "      <td> 951xx</td>\n",
        "      <td> CA</td>\n",
        "      <td>  7.06</td>\n",
        "      <td> 0</td>\n",
        "      <td> May-1991</td>\n",
        "      <td> 2</td>\n",
        "      <td>NaN</td>\n",
        "      <td>NaN</td>\n",
        "      <td> 14</td>\n",
        "      <td> 0</td>\n",
        "      <td> 11997</td>\n",
        "      <td> 55.5%</td>\n",
        "      <td> 29</td>\n",
        "      <td> f</td>\n",
        "      <td> 0</td>\n",
        "      <td> 0</td>\n",
        "      <td>  7471.990000</td>\n",
        "      <td>  7471.99</td>\n",
        "      <td>  5433.47</td>\n",
        "      <td> 1393.42</td>\n",
        "      <td> 0</td>\n",
        "      <td> 645.10</td>\n",
        "      <td> 6.3145</td>\n",
        "      <td> Oct-2013</td>\n",
        "      <td>  325.74</td>\n",
        "      <td> NaN</td>\n",
        "      <td> Mar-2014</td>\n",
        "      <td> 0</td>\n",
        "      <td>NaN</td>\n",
        "      <td> 1</td>\n",
        "    </tr>\n",
        "    <tr>\n",
        "      <th>8</th>\n",
        "      <td> 1069971</td>\n",
        "      <td> 1304884</td>\n",
        "      <td>  3600</td>\n",
        "      <td>  3600</td>\n",
        "      <td>  3600</td>\n",
        "      <td>  36 months</td>\n",
        "      <td>  6.03</td>\n",
        "      <td> 109.57</td>\n",
        "      <td> A</td>\n",
        "      <td> A1</td>\n",
        "      <td>                            Duracell</td>\n",
        "      <td> 10+ years</td>\n",
        "      <td> MORTGAGE</td>\n",
        "      <td> 110000.00</td>\n",
        "      <td>    Not Verified</td>\n",
        "      <td> Dec-2011</td>\n",
        "      <td>  Fully Paid</td>\n",
        "      <td> n</td>\n",
        "      <td> https://www.lendingclub.com/browse/loanDetail....</td>\n",
        "      <td>   Borrower added on 12/15/11 &gt; Payoff other le...</td>\n",
        "      <td>     major_purchase</td>\n",
        "      <td>                              Holiday</td>\n",
        "      <td> 067xx</td>\n",
        "      <td> CT</td>\n",
        "      <td> 10.52</td>\n",
        "      <td> 0</td>\n",
        "      <td> Aug-1993</td>\n",
        "      <td> 0</td>\n",
        "      <td>NaN</td>\n",
        "      <td>NaN</td>\n",
        "      <td> 20</td>\n",
        "      <td> 0</td>\n",
        "      <td> 22836</td>\n",
        "      <td>   16%</td>\n",
        "      <td> 42</td>\n",
        "      <td> f</td>\n",
        "      <td> 0</td>\n",
        "      <td> 0</td>\n",
        "      <td>  3785.020000</td>\n",
        "      <td>  3785.02</td>\n",
        "      <td>  3600.00</td>\n",
        "      <td>  185.02</td>\n",
        "      <td> 0</td>\n",
        "      <td>   0.00</td>\n",
        "      <td> 0.0000</td>\n",
        "      <td> May-2013</td>\n",
        "      <td>  583.45</td>\n",
        "      <td> NaN</td>\n",
        "      <td> May-2014</td>\n",
        "      <td> 0</td>\n",
        "      <td>NaN</td>\n",
        "      <td> 1</td>\n",
        "    </tr>\n",
        "    <tr>\n",
        "      <th>9</th>\n",
        "      <td> 1069742</td>\n",
        "      <td> 1304855</td>\n",
        "      <td>  9200</td>\n",
        "      <td>  9200</td>\n",
        "      <td>  9200</td>\n",
        "      <td>  36 months</td>\n",
        "      <td>  6.03</td>\n",
        "      <td> 280.01</td>\n",
        "      <td> A</td>\n",
        "      <td> A1</td>\n",
        "      <td>        Network Interpreting Service</td>\n",
        "      <td>   6 years</td>\n",
        "      <td>     RENT</td>\n",
        "      <td>  77385.19</td>\n",
        "      <td>    Not Verified</td>\n",
        "      <td> Dec-2011</td>\n",
        "      <td>  Fully Paid</td>\n",
        "      <td> n</td>\n",
        "      <td> https://www.lendingclub.com/browse/loanDetail....</td>\n",
        "      <td>                                               NaN</td>\n",
        "      <td> debt_consolidation</td>\n",
        "      <td>  lowerratemeanseasiertogetoutofdebt!</td>\n",
        "      <td> 921xx</td>\n",
        "      <td> CA</td>\n",
        "      <td>  9.86</td>\n",
        "      <td> 0</td>\n",
        "      <td> Jan-2001</td>\n",
        "      <td> 0</td>\n",
        "      <td>NaN</td>\n",
        "      <td>NaN</td>\n",
        "      <td>  8</td>\n",
        "      <td> 0</td>\n",
        "      <td>  7314</td>\n",
        "      <td> 23.1%</td>\n",
        "      <td> 28</td>\n",
        "      <td> f</td>\n",
        "      <td> 0</td>\n",
        "      <td> 0</td>\n",
        "      <td>  9459.960000</td>\n",
        "      <td>  9459.96</td>\n",
        "      <td>  9200.00</td>\n",
        "      <td>  259.96</td>\n",
        "      <td> 0</td>\n",
        "      <td>   0.00</td>\n",
        "      <td> 0.0000</td>\n",
        "      <td> Jul-2012</td>\n",
        "      <td> 8061.10</td>\n",
        "      <td> NaN</td>\n",
        "      <td> Jul-2012</td>\n",
        "      <td> 0</td>\n",
        "      <td>NaN</td>\n",
        "      <td> 1</td>\n",
        "    </tr>\n",
        "  </tbody>\n",
        "</table>\n",
        "<p>10 rows \u00d7 52 columns</p>\n",
        "</div>"
       ],
       "metadata": {},
       "output_type": "pyout",
       "prompt_number": 78,
       "text": [
        "        id  member_id  loan_amnt  funded_amnt  funded_amnt_inv        term  \\\n",
        "0  1077430    1314167       2500         2500             2500   60 months   \n",
        "1  1077175    1313524       2400         2400             2400   36 months   \n",
        "2  1071795    1306957       5600         5600             5600   60 months   \n",
        "3  1071570    1306721       5375         5375             5350   60 months   \n",
        "4  1070078    1305201       6500         6500             6500   60 months   \n",
        "5  1069908    1305008      12000        12000            12000   36 months   \n",
        "6  1064687    1298717       9000         9000             9000   36 months   \n",
        "7  1069057    1303503      10000        10000            10000   36 months   \n",
        "8  1069971    1304884       3600         3600             3600   36 months   \n",
        "9  1069742    1304855       9200         9200             9200   36 months   \n",
        "\n",
        "   int_rate  installment grade sub_grade                            emp_title  \\\n",
        "0     15.27        59.83     C        C4                                Ryder   \n",
        "1     15.96        84.33     C        C5                                  NaN   \n",
        "2     21.28       152.39     F        F2                                  NaN   \n",
        "3     12.69       121.45     B        B5                            Starbucks   \n",
        "4     14.65       153.45     C        C3                Southwest Rural metro   \n",
        "5     12.69       402.54     B        B5                                 UCLA   \n",
        "6     13.49       305.38     C        C1  Va. Dept of Conservation/Recreation   \n",
        "7     10.65       325.74     B        B2                                SFMTA   \n",
        "8      6.03       109.57     A        A1                             Duracell   \n",
        "9      6.03       280.01     A        A1         Network Interpreting Service   \n",
        "\n",
        "  emp_length home_ownership  annual_inc         is_inc_v   issue_d  \\\n",
        "0   < 1 year           RENT    30000.00  Source Verified  Dec-2011   \n",
        "1  10+ years           RENT    12252.00     Not Verified  Dec-2011   \n",
        "2    4 years            OWN    40000.00  Source Verified  Dec-2011   \n",
        "3   < 1 year           RENT    15000.00         Verified  Dec-2011   \n",
        "4    5 years            OWN    72000.00     Not Verified  Dec-2011   \n",
        "5  10+ years            OWN    75000.00  Source Verified  Dec-2011   \n",
        "6   < 1 year           RENT    30000.00  Source Verified  Dec-2011   \n",
        "7    3 years           RENT   100000.00  Source Verified  Dec-2011   \n",
        "8  10+ years       MORTGAGE   110000.00     Not Verified  Dec-2011   \n",
        "9    6 years           RENT    77385.19     Not Verified  Dec-2011   \n",
        "\n",
        "   loan_status pymnt_plan                                                url  \\\n",
        "0  Charged Off          n  https://www.lendingclub.com/browse/loanDetail....   \n",
        "1   Fully Paid          n  https://www.lendingclub.com/browse/loanDetail....   \n",
        "2  Charged Off          n  https://www.lendingclub.com/browse/loanDetail....   \n",
        "3  Charged Off          n  https://www.lendingclub.com/browse/loanDetail....   \n",
        "4   Fully Paid          n  https://www.lendingclub.com/browse/loanDetail....   \n",
        "5   Fully Paid          n  https://www.lendingclub.com/browse/loanDetail....   \n",
        "6  Charged Off          n  https://www.lendingclub.com/browse/loanDetail....   \n",
        "7  Charged Off          n  https://www.lendingclub.com/browse/loanDetail....   \n",
        "8   Fully Paid          n  https://www.lendingclub.com/browse/loanDetail....   \n",
        "9   Fully Paid          n  https://www.lendingclub.com/browse/loanDetail....   \n",
        "\n",
        "                                                desc             purpose  \\\n",
        "0    Borrower added on 12/22/11 > I plan to use t...                 car   \n",
        "1                                                NaN      small_business   \n",
        "2    Borrower added on 12/21/11 > I own a small h...      small_business   \n",
        "3    Borrower added on 12/16/11 > I'm trying to b...               other   \n",
        "4    Borrower added on 12/15/11 > I had recived a...  debt_consolidation   \n",
        "5                                                NaN  debt_consolidation   \n",
        "6    Borrower added on 12/15/11 > Plan to pay off...  debt_consolidation   \n",
        "7                                                NaN               other   \n",
        "8    Borrower added on 12/15/11 > Payoff other le...      major_purchase   \n",
        "9                                                NaN  debt_consolidation   \n",
        "\n",
        "                                  title zip_code addr_state    dti  \\\n",
        "0                                  bike    309xx         GA   1.00   \n",
        "1                  real estate business    606xx         IL   8.72   \n",
        "2  Expand Business & Buy Debt Portfolio    958xx         CA   5.55   \n",
        "3           Building my credit history.    774xx         TX  18.08   \n",
        "4            High intrest Consolidation    853xx         AZ  16.12   \n",
        "5                         Consolidation    913xx         CA  10.78   \n",
        "6                               freedom    245xx         VA  10.08   \n",
        "7                            Other Loan    951xx         CA   7.06   \n",
        "8                               Holiday    067xx         CT  10.52   \n",
        "9   lowerratemeanseasiertogetoutofdebt!    921xx         CA   9.86   \n",
        "\n",
        "   delinq_2yrs earliest_cr_line  inq_last_6mths  mths_since_last_delinq  \\\n",
        "0            0         Apr-1999               5                     NaN   \n",
        "1            0         Nov-2001               2                     NaN   \n",
        "2            0         Apr-2004               2                     NaN   \n",
        "3            0         Sep-2004               0                     NaN   \n",
        "4            0         Jan-1998               2                     NaN   \n",
        "5            0         Oct-1989               0                     NaN   \n",
        "6            0         Apr-2004               1                     NaN   \n",
        "7            0         May-1991               2                     NaN   \n",
        "8            0         Aug-1993               0                     NaN   \n",
        "9            0         Jan-2001               0                     NaN   \n",
        "\n",
        "   mths_since_last_record  open_acc  pub_rec  revol_bal revol_util  total_acc  \\\n",
        "0                     NaN         3        0       1687       9.4%          4   \n",
        "1                     NaN         2        0       2956      98.5%         10   \n",
        "2                     NaN        11        0       5210      32.6%         13   \n",
        "3                     NaN         2        0       9279      36.5%          3   \n",
        "4                     NaN        14        0       4032      20.6%         23   \n",
        "5                     NaN        12        0      23336      67.1%         34   \n",
        "6                     NaN         4        0      10452      91.7%          9   \n",
        "7                     NaN        14        0      11997      55.5%         29   \n",
        "8                     NaN        20        0      22836        16%         42   \n",
        "9                     NaN         8        0       7314      23.1%         28   \n",
        "\n",
        "  initial_list_status  out_prncp  out_prncp_inv   total_pymnt  \\\n",
        "0                   f          0              0   1008.710000   \n",
        "1                   f          0              0   3003.653644   \n",
        "2                   f          0              0    646.020000   \n",
        "3                   f          0              0   1476.190000   \n",
        "4                   f          0              0   7677.520000   \n",
        "5                   f          0              0  13943.080000   \n",
        "6                   f          0              0   2270.700000   \n",
        "7                   f          0              0   7471.990000   \n",
        "8                   f          0              0   3785.020000   \n",
        "9                   f          0              0   9459.960000   \n",
        "\n",
        "   total_pymnt_inv  total_rec_prncp  total_rec_int  total_rec_late_fee  \\\n",
        "0          1008.71           456.46         435.17                   0   \n",
        "1          3003.65          2400.00         603.65                   0   \n",
        "2           646.02           162.02         294.94                   0   \n",
        "3          1469.34           673.48         533.42                   0   \n",
        "4          7677.52          6500.00        1177.52                   0   \n",
        "5         13943.08         12000.00        1943.08                   0   \n",
        "6          2270.70          1256.14         570.26                   0   \n",
        "7          7471.99          5433.47        1393.42                   0   \n",
        "8          3785.02          3600.00         185.02                   0   \n",
        "9          9459.96          9200.00         259.96                   0   \n",
        "\n",
        "   recoveries  collection_recovery_fee last_pymnt_d  last_pymnt_amnt  \\\n",
        "0      117.08                   1.1100     Apr-2013           119.66   \n",
        "1        0.00                   0.0000     Jun-2014           649.91   \n",
        "2      189.06                   2.0900     Apr-2012           152.39   \n",
        "3      269.29                   2.5200     Nov-2012           121.45   \n",
        "4        0.00                   0.0000     Jun-2013          1655.54   \n",
        "5        0.00                   0.0000     Sep-2013          6315.30   \n",
        "6      444.30                   4.1600     Jul-2012           305.38   \n",
        "7      645.10                   6.3145     Oct-2013           325.74   \n",
        "8        0.00                   0.0000     May-2013           583.45   \n",
        "9        0.00                   0.0000     Jul-2012          8061.10   \n",
        "\n",
        "  next_pymnt_d last_credit_pull_d  collections_12_mths_ex_med  \\\n",
        "0          NaN           Sep-2013                           0   \n",
        "1          NaN           Nov-2014                           0   \n",
        "2          NaN           Aug-2012                           0   \n",
        "3          NaN           Mar-2013                           0   \n",
        "4          NaN           Jul-2013                           0   \n",
        "5          NaN           Aug-2013                           0   \n",
        "6          NaN           Nov-2012                           0   \n",
        "7          NaN           Mar-2014                           0   \n",
        "8          NaN           May-2014                           0   \n",
        "9          NaN           Jul-2012                           0   \n",
        "\n",
        "   mths_since_last_major_derog  policy_code  \n",
        "0                          NaN            1  \n",
        "1                          NaN            1  \n",
        "2                          NaN            1  \n",
        "3                          NaN            1  \n",
        "4                          NaN            1  \n",
        "5                          NaN            1  \n",
        "6                          NaN            1  \n",
        "7                          NaN            1  \n",
        "8                          NaN            1  \n",
        "9                          NaN            1  \n",
        "\n",
        "[10 rows x 52 columns]"
       ]
      }
     ],
     "prompt_number": 78
    },
    {
     "cell_type": "code",
     "collapsed": false,
     "input": [
      "plt.hist(loanData['loan_amnt'], bins=20)\n",
      "plt.title('loan_amnt')\n",
      "plt.xlabel('loan_amnt')\n",
      "plt.ylabel('count')\n",
      "plt.show()"
     ],
     "language": "python",
     "metadata": {},
     "outputs": [
      {
       "metadata": {},
       "output_type": "display_data",
       "png": "[encoded data removed]",
       "text": [
        "<matplotlib.figure.Figure at 0x113b24ed0>"
       ]
      }
     ],
     "prompt_number": 15
    },
    {
     "cell_type": "code",
     "collapsed": false,
     "input": [
      "plt.hist(loanData['funded_amnt'], bins=20)\n",
      "plt.title('funded_amnt')\n",
      "plt.xlabel('funded_amnt')\n",
      "plt.ylabel('count')\n",
      "plt.show()"
     ],
     "language": "python",
     "metadata": {},
     "outputs": [
      {
       "metadata": {},
       "output_type": "display_data",
       "png": "[encoded data removed]",
       "text": [
        "<matplotlib.figure.Figure at 0x113b17f90>"
       ]
      }
     ],
     "prompt_number": 17
    },
    {
     "cell_type": "code",
     "collapsed": false,
     "input": [
      "plt.hist(loanData['funded_amnt_inv'], bins=20)\n",
      "plt.title('funded_amnt_inv')\n",
      "plt.xlabel('funded_amnt_inv')\n",
      "plt.ylabel('count')\n",
      "plt.show()"
     ],
     "language": "python",
     "metadata": {},
     "outputs": [
      {
       "metadata": {},
       "output_type": "display_data",
       "png": "[encoded data removed]",
       "text": [
        "<matplotlib.figure.Figure at 0x113b0d9d0>"
       ]
      }
     ],
     "prompt_number": 18
    },
    {
     "cell_type": "code",
     "collapsed": false,
     "input": [
      "term = loanData['term']\n",
      "term = [0 if x == ' 36 months' else x for x in term]\n",
      "term = [1 if x == ' 60 months' else x for x in term]\n",
      "term[:10]\n"
     ],
     "language": "python",
     "metadata": {},
     "outputs": [
      {
       "metadata": {},
       "output_type": "pyout",
       "prompt_number": 28,
       "text": [
        "[1, 0, 1, 1, 1, 0, 0, 0, 0, 0]"
       ]
      }
     ],
     "prompt_number": 28
    },
    {
     "cell_type": "code",
     "collapsed": false,
     "input": [
      "plt.hist(term, bins=3)\n",
      "plt.title('term')\n",
      "plt.xlabel('term')\n",
      "plt.ylabel('count')\n",
      "plt.xticks([0.2, 0.8], ['36 months', '60 months'])\n",
      "plt.show()"
     ],
     "language": "python",
     "metadata": {},
     "outputs": [
      {
       "metadata": {},
       "output_type": "display_data",
       "png": "[encoded data removed]",
       "text": [
        "<matplotlib.figure.Figure at 0x1327e20d0>"
       ]
      }
     ],
     "prompt_number": 32
    },
    {
     "cell_type": "code",
     "collapsed": false,
     "input": [
      "plt.hist(loanData['int_rate'], bins=20)\n",
      "plt.title('int_rate')\n",
      "plt.xlabel('int_rate')\n",
      "plt.ylabel('count')\n",
      "plt.show()"
     ],
     "language": "python",
     "metadata": {},
     "outputs": [
      {
       "metadata": {},
       "output_type": "display_data",
       "png": "[encoded data removed]",
       "text": [
        "<matplotlib.figure.Figure at 0x126104c10>"
       ]
      }
     ],
     "prompt_number": 33
    },
    {
     "cell_type": "code",
     "collapsed": false,
     "input": [
      "#Interest rate vs loan amount\n",
      "#bins are:\n",
      "#$0-$5000\n",
      "#5001-10000\n",
      "#10001-15000\n",
      "#15001-20000\n",
      "#20001-25000\n",
      "#25001-30000\n",
      "#30001-35000\n",
      "mean_loan_amnts = []\n",
      "mean_int_rates = []\n",
      "std_int_rates = []\n",
      "loan_amnt_bins = np.arange(5000, 35000, 5000)\n",
      "for p in loan_amnt_bins:\n",
      "    loans = loanData[loanData['loan_amnt'] <= p]\n",
      "    loans = loans[loans['loan_amnt'] >(p-5000)]\n",
      "    mean_int_rate = loans['int_rate'].mean(axis=1)\n",
      "    std_int_rate = loans['int_rate'].std(axis=1)\n",
      "    mean_int_rates.append(mean_int_rate)\n",
      "    std_int_rates.append(std_int_rate)\n",
      "    \n",
      "    print mean_int_rate\n",
      "    print std_int_rate\n",
      "plt.plot(loan_amnt_bins, mean_int_rates)\n",
      "plt.errorbar(loan_amnt_bins, mean_int_rates, yerr=std_int_rates)\n",
      "plt.title('int_rate vs loan_amnt')\n",
      "plt.xlabel('loan_amnt')\n",
      "plt.ylabel('int_rate')"
     ],
     "language": "python",
     "metadata": {},
     "outputs": [
      {
       "output_type": "stream",
       "stream": "stdout",
       "text": [
        "12.6318737282\n",
        "4.15011315304\n",
        "12.6100667444"
       ]
      },
      {
       "output_type": "stream",
       "stream": "stdout",
       "text": [
        "\n",
        "3.85312140692\n",
        "13.217937437"
       ]
      },
      {
       "output_type": "stream",
       "stream": "stdout",
       "text": [
        "\n",
        "4.08372345972\n",
        "14.4794903047"
       ]
      },
      {
       "output_type": "stream",
       "stream": "stdout",
       "text": [
        "\n",
        "4.45687680387\n",
        "14.8406188266"
       ]
      },
      {
       "output_type": "stream",
       "stream": "stdout",
       "text": [
        "\n",
        "4.67848657241\n",
        "16.6124912281"
       ]
      },
      {
       "output_type": "stream",
       "stream": "stdout",
       "text": [
        "\n",
        "4.82642541267\n"
       ]
      },
      {
       "metadata": {},
       "output_type": "pyout",
       "prompt_number": 64,
       "text": [
        "<matplotlib.text.Text at 0x11ebd36d0>"
       ]
      },
      {
       "metadata": {},
       "output_type": "display_data",
       "png": "[encoded data removed]",
       "text": [
        "<matplotlib.figure.Figure at 0x11ecab110>"
       ]
      }
     ],
     "prompt_number": 64
    },
    {
     "cell_type": "code",
     "collapsed": false,
     "input": [
      "plt.hist(loanData['installment'], bins=20)\n",
      "plt.title('installment')\n",
      "plt.xlabel('installment')\n",
      "plt.ylabel('count')\n",
      "plt.show()"
     ],
     "language": "python",
     "metadata": {},
     "outputs": [
      {
       "output_type": "stream",
       "stream": "stdout",
       "text": [
        "ERROR! Session/line number was not unique in database. History logging moved to new session 23\n"
       ]
      },
      {
       "metadata": {},
       "output_type": "display_data",
       "png": "[encoded data removed]",
       "text": [
        "<matplotlib.figure.Figure at 0x1327c7990>"
       ]
      }
     ],
     "prompt_number": 39
    },
    {
     "cell_type": "code",
     "collapsed": false,
     "input": [
      "#home_ownership\n",
      "home_ownership_labels = loanData['home_ownership'].unique()\n",
      "ownership_dict = dict(zip(loanData['home_ownership'].unique(), np.arange(loanData['home_ownership'].nunique())))\n",
      "loanData['home_ownership'] = loanData['home_ownership'].map(lambda x: ownership_dict[x])\n",
      "\n",
      "h_loan_amnts = []\n",
      "mean_h_int_rates = []\n",
      "std_h_int_rates = []\n",
      "h_bins = loanData['home_ownership'].unique()\n",
      "for p in h_bins:\n",
      "    loans = loanData[loanData['home_ownership'] == p]\n",
      "    mean_int_rate = loans['int_rate'].mean(axis=1)\n",
      "    std_int_rate = loans['int_rate'].std(axis=1)\n",
      "    mean_h_int_rates.append(mean_int_rate)\n",
      "    std_h_int_rates.append(std_int_rate)\n",
      "    \n",
      "    print mean_int_rate\n",
      "    print std_int_rate"
     ],
     "language": "python",
     "metadata": {},
     "outputs": [
      {
       "output_type": "stream",
       "stream": "stdout",
       "text": [
        "13.7823507385\n",
        "4.2260541279\n",
        "13.6057946395\n",
        "4.46290013399\n",
        "13.2770507278"
       ]
      },
      {
       "output_type": "stream",
       "stream": "stdout",
       "text": [
        "\n",
        "4.46475721023\n",
        "12.9421088435\n",
        "3.03204398514\n",
        "13.2268\n",
        "4.88215348659\n",
        "11.67\n",
        "nan\n"
       ]
      }
     ],
     "prompt_number": 145
    },
    {
     "cell_type": "code",
     "collapsed": false,
     "input": [
      "plt.plot(h_bins, mean_h_int_rates)\n",
      "plt.errorbar(h_bins, mean_h_int_rates, yerr=std_h_int_rates)\n",
      "plt.title('int_rate vs home_ownership')\n",
      "plt.xlabel('home_ownership')\n",
      "plt.xticks([0,1,2,3,4,5], home_ownership_labels)\n",
      "plt.ylabel('int_rate')"
     ],
     "language": "python",
     "metadata": {},
     "outputs": [
      {
       "metadata": {},
       "output_type": "pyout",
       "prompt_number": 133,
       "text": [
        "<matplotlib.text.Text at 0x11de12190>"
       ]
      },
      {
       "metadata": {},
       "output_type": "display_data",
       "png": "[encoded data removed]",
       "text": [
        "<matplotlib.figure.Figure at 0x11ddeab90>"
       ]
      }
     ],
     "prompt_number": 133
    },
    {
     "cell_type": "code",
     "collapsed": false,
     "input": [
      "#binarize loan status\n",
      "loanData['loan_status'] = [0 if x in ['Charged Off',\n",
      "\t\t\t\t\t\t\t\t      'Does not meet the credit policy.  Status:Charged Off',\n",
      "                                      'Default', \n",
      "                                      'Does not meet the credit policy.  Status:Default'] \n",
      "                                       else 1 for x in loanData['loan_status'] ]\n",
      "\n"
     ],
     "language": "python",
     "metadata": {},
     "outputs": [],
     "prompt_number": 141
    },
    {
     "cell_type": "code",
     "collapsed": false,
     "input": [
      "loans = loanData[loanData['grade'] == 'G']\n",
      "pd.value_counts(loans.loan_status.ravel()) "
     ],
     "language": "python",
     "metadata": {},
     "outputs": [
      {
       "metadata": {},
       "output_type": "pyout",
       "prompt_number": 142,
       "text": [
        "1    551\n",
        "0    337\n",
        "dtype: int64"
       ]
      }
     ],
     "prompt_number": 142
    },
    {
     "cell_type": "code",
     "collapsed": false,
     "input": [
      "mean_default_rates = []\n",
      "mean_default = 0\n",
      "h_bins = loanData['home_ownership'].unique()\n",
      "for p in h_bins:\n",
      "    loans = loanData[loanData['home_ownership'] == p]\n",
      "    mean_default_rate = 1 - loans['loan_status'].mean(axis=1)\n",
      "    mean_default_rates.append(mean_default_rate)\n",
      "    mean_default += mean_default_rate\n",
      "    print mean_default_rate\n",
      "mean_default = mean_default/len(h_bins)\n",
      "\n",
      "plt.plot(h_bins, mean_default_rates)\n",
      "plt.plot([0,5], [mean_default, mean_default], '--', color='black')\n",
      "plt.title('Default Rate vs home_ownership')\n",
      "plt.xlabel('home_ownership')\n",
      "plt.xticks([0,1,2,3,4,5], home_ownership_labels)\n",
      "plt.ylabel('Default Rate')"
     ],
     "language": "python",
     "metadata": {},
     "outputs": [
      {
       "output_type": "stream",
       "stream": "stdout",
       "text": [
        "0.20823798627\n",
        "0.192902982257"
       ]
      },
      {
       "output_type": "stream",
       "stream": "stdout",
       "text": [
        "\n",
        "0.16598792891"
       ]
      },
      {
       "output_type": "stream",
       "stream": "stdout",
       "text": [
        "\n",
        "0.224489795918\n",
        "0.2\n",
        "0.0\n"
       ]
      },
      {
       "metadata": {},
       "output_type": "pyout",
       "prompt_number": 146,
       "text": [
        "<matplotlib.text.Text at 0x118075c10>"
       ]
      },
      {
       "metadata": {},
       "output_type": "display_data",
       "png": "[encoded data removed]",
       "text": [
        "<matplotlib.figure.Figure at 0x11ca08a10>"
       ]
      }
     ],
     "prompt_number": 146
    },
    {
     "cell_type": "code",
     "collapsed": false,
     "input": [
      "#A Loans\n",
      "mean_default_rates = []\n",
      "mean_default = 0\n",
      "h_bins = loanData['home_ownership'].unique()\n",
      "for p in h_bins:\n",
      "    loans = loanData[loanData['home_ownership'] == p]\n",
      "    loans = loans[loans['grade'] == 'A']\n",
      "    mean_default_rate = 1 - loans['loan_status'].mean(axis=1)\n",
      "    mean_default_rates.append(mean_default_rate)\n",
      "    mean_default += mean_default_rate\n",
      "    print mean_default_rate\n",
      "mean_default = mean_default/len(h_bins)\n",
      "\n",
      "plt.plot(h_bins, mean_default_rates)\n",
      "plt.plot([0,5], [mean_default, mean_default], '--', color='black')\n",
      "plt.title('Grade A Loans: Default Rate vs home_ownership')\n",
      "plt.xlabel('home_ownership')\n",
      "plt.xticks([0,1,2,3,4,5], home_ownership_labels)\n",
      "plt.ylabel('Default Rate')"
     ],
     "language": "python",
     "metadata": {},
     "outputs": [
      {
       "output_type": "stream",
       "stream": "stdout",
       "text": [
        "0.0906415538552\n",
        "0.0807947019868\n",
        "0.0642566388835"
       ]
      },
      {
       "output_type": "stream",
       "stream": "stdout",
       "text": [
        "\n",
        "0.08\n",
        "0.0\n",
        "nan\n"
       ]
      },
      {
       "metadata": {},
       "output_type": "pyout",
       "prompt_number": 147,
       "text": [
        "<matplotlib.text.Text at 0x118143a10>"
       ]
      },
      {
       "metadata": {},
       "output_type": "display_data",
       "png": "[encoded data removed]",
       "text": [
        "<matplotlib.figure.Figure at 0x11807f610>"
       ]
      }
     ],
     "prompt_number": 147
    },
    {
     "cell_type": "code",
     "collapsed": false,
     "input": [
      "#B Loans\n",
      "mean_default_rates = []\n",
      "mean_default = 0\n",
      "h_bins = loanData['home_ownership'].unique()\n",
      "for p in h_bins:\n",
      "    loans = loanData[loanData['home_ownership'] == p]\n",
      "    loans = loans[loans['grade'] == 'B']\n",
      "    mean_default_rate = 1 - loans['loan_status'].mean(axis=1)\n",
      "    mean_default_rates.append(mean_default_rate)\n",
      "    mean_default += mean_default_rate\n",
      "    print mean_default_rate\n",
      "mean_default = mean_default/len(h_bins)\n",
      "\n",
      "plt.plot(h_bins, mean_default_rates)\n",
      "plt.plot([0,5], [mean_default, mean_default], '--', color='black')\n",
      "plt.title('Grade B Loans: Default Rate vs home_ownership')\n",
      "plt.xlabel('home_ownership')\n",
      "plt.xticks([0,1,2,3,4,5], home_ownership_labels)\n",
      "plt.ylabel('Default Rate')"
     ],
     "language": "python",
     "metadata": {},
     "outputs": [
      {
       "output_type": "stream",
       "stream": "stdout",
       "text": [
        "0.162239162239\n",
        "0.144815766924\n",
        "0.134072171915"
       ]
      },
      {
       "output_type": "stream",
       "stream": "stdout",
       "text": [
        "\n",
        "0.261904761905\n",
        "0.428571428571\n",
        "0.0\n"
       ]
      },
      {
       "metadata": {},
       "output_type": "pyout",
       "prompt_number": 96,
       "text": [
        "<matplotlib.text.Text at 0x1149b9750>"
       ]
      },
      {
       "metadata": {},
       "output_type": "display_data",
       "png": "[encoded data removed]",
       "text": [
        "<matplotlib.figure.Figure at 0x116048050>"
       ]
      }
     ],
     "prompt_number": 96
    },
    {
     "cell_type": "code",
     "collapsed": false,
     "input": [
      "#C Loans\n",
      "mean_default_rates = []\n",
      "mean_default = 0\n",
      "h_bins = loanData['home_ownership'].unique()\n",
      "for p in h_bins:\n",
      "    loans = loanData[loanData['home_ownership'] == p]\n",
      "    loans = loans[loans['grade'] == 'G']\n",
      "    mean_default_rate = 1 - loans['loan_status'].mean(axis=1)\n",
      "    mean_default_rates.append(mean_default_rate)\n",
      "    mean_default += mean_default_rate\n",
      "    print mean_default_rate\n",
      "mean_default = mean_default/len(h_bins)\n",
      "\n",
      "plt.plot(h_bins, mean_default_rates)\n",
      "plt.plot([0,5], [mean_default, mean_default], '--', color='black')\n",
      "plt.title('Grade G Loans: Default Rate vs home_ownership')\n",
      "plt.xlabel('home_ownership')\n",
      "plt.xticks([0,1,2,3,4,5], home_ownership_labels)\n",
      "plt.ylabel('Default Rate')"
     ],
     "language": "python",
     "metadata": {},
     "outputs": [
      {
       "output_type": "stream",
       "stream": "stdout",
       "text": [
        "0.398328690808\n",
        "0.479452054795\n",
        "0.347438752784"
       ]
      },
      {
       "output_type": "stream",
       "stream": "stdout",
       "text": [
        "\n",
        "0.428571428571\n",
        "nan\n",
        "nan\n"
       ]
      },
      {
       "metadata": {},
       "output_type": "pyout",
       "prompt_number": 152,
       "text": [
        "<matplotlib.text.Text at 0x118367c50>"
       ]
      },
      {
       "metadata": {},
       "output_type": "display_data",
       "png": "[encoded data removed]",
       "text": [
        "<matplotlib.figure.Figure at 0x118434690>"
       ]
      }
     ],
     "prompt_number": 152
    },
    {
     "cell_type": "code",
     "collapsed": false,
     "input": [
      "#loan amount vs grade\n",
      "#home_ownership\n",
      "grade_labels = loanData['grade'].unique()\n",
      "grade_dict = dict(zip(loanData['grade'].unique(), np.arange(loanData['grade'].nunique())))\n",
      "loanData['grade'] = loanData['grade'].map(lambda x: grade_dict[x])\n",
      "\n",
      "h_loan_amnts = []\n",
      "mean_g_int_rates = []\n",
      "std_g_int_rates = []\n",
      "mean_g_loan_amnt = []\n",
      "std_g_loan_amnt = []\n",
      "g_bins = loanData['grade'].unique()\n",
      "for p in g_bins:\n",
      "    loans = loanData[loanData['grade'] == p]\n",
      "    mean_int_rate = loans['int_rate'].mean(axis=1)\n",
      "    std_int_rate = loans['int_rate'].std(axis=1)\n",
      "    mean_g_int_rates.append(mean_int_rate)\n",
      "    std_g_int_rates.append(std_int_rate)\n",
      "    \n",
      "    mean_loan_amnt = loans['loan_amnt'].mean(axis=1)\n",
      "    std_loan_amnt = loans['loan_amnt'].std(axis=1)\n",
      "    mean_g_loan_amnt.append(mean_loan_amnt)\n",
      "    std_g_loan_amnt.append(std_loan_amnt)\n",
      "    \n",
      "    print mean_loan_amnt\n",
      "    print std_loan_amnt\n",
      "    "
     ],
     "language": "python",
     "metadata": {},
     "outputs": [
      {
       "output_type": "stream",
       "stream": "stdout",
       "text": [
        "12458.2368973\n",
        "7728.76249008\n",
        "19032.4185384\n",
        "9374.48050941\n",
        "11780.7467931"
       ]
      },
      {
       "output_type": "stream",
       "stream": "stdout",
       "text": [
        "\n",
        "6917.03036258\n",
        "10506.7163379"
       ]
      },
      {
       "output_type": "stream",
       "stream": "stdout",
       "text": [
        "\n",
        "6542.81216026\n",
        "13315.1891099"
       ]
      },
      {
       "output_type": "stream",
       "stream": "stdout",
       "text": [
        "\n",
        "8368.19648824\n",
        "16936.6865547"
       ]
      },
      {
       "output_type": "stream",
       "stream": "stdout",
       "text": [
        "\n",
        "9662.61138876\n",
        "19960.2759009"
       ]
      },
      {
       "output_type": "stream",
       "stream": "stdout",
       "text": [
        "\n",
        "9151.3387989\n"
       ]
      }
     ],
     "prompt_number": 128
    },
    {
     "cell_type": "code",
     "collapsed": false,
     "input": [
      "plt.plot(g_bins, mean_g_loan_amnt)\n",
      "#plt.plot([0,5], [mean_default, mean_default], '--', color='black')\n",
      "plt.title('Mean Loan Amount vs Grade')\n",
      "plt.xlabel('Grade')\n",
      "plt.xticks([0,1,2,3,4,5,6], ['A','B','C','D','E','F','G'])\n",
      "plt.ylabel('Loan Amount')"
     ],
     "language": "python",
     "metadata": {},
     "outputs": [
      {
       "metadata": {},
       "output_type": "pyout",
       "prompt_number": 131,
       "text": [
        "<matplotlib.text.Text at 0x11ba89110>"
       ]
      },
      {
       "metadata": {},
       "output_type": "display_data",
       "png": "[encoded data removed]",
       "text": [
        "<matplotlib.figure.Figure at 0x11ba66890>"
       ]
      }
     ],
     "prompt_number": 131
    },
    {
     "cell_type": "code",
     "collapsed": false,
     "input": [
      "#default rate in $\n",
      "total_money = loanData['loan_amnt'].sum(axis=1)"
     ],
     "language": "python",
     "metadata": {},
     "outputs": [],
     "prompt_number": 158
    },
    {
     "cell_type": "code",
     "collapsed": false,
     "input": [
      "loans = loanData[loanData['loan_status'] == 0]"
     ],
     "language": "python",
     "metadata": {},
     "outputs": [],
     "prompt_number": 154
    },
    {
     "cell_type": "code",
     "collapsed": false,
     "input": [
      "default_money = loans['loan_amnt'].sum(axis=1)"
     ],
     "language": "python",
     "metadata": {},
     "outputs": [],
     "prompt_number": 159
    },
    {
     "cell_type": "code",
     "collapsed": false,
     "input": [
      "(default_money*1.0)/total_money"
     ],
     "language": "python",
     "metadata": {},
     "outputs": [
      {
       "metadata": {},
       "output_type": "pyout",
       "prompt_number": 160,
       "text": [
        "0.20065288546273222"
       ]
      }
     ],
     "prompt_number": 160
    },
    {
     "cell_type": "code",
     "collapsed": false,
     "input": [
      "total_money"
     ],
     "language": "python",
     "metadata": {},
     "outputs": [
      {
       "metadata": {},
       "output_type": "pyout",
       "prompt_number": 161,
       "text": [
        "1252692925.0"
       ]
      }
     ],
     "prompt_number": 161
    },
    {
     "cell_type": "code",
     "collapsed": false,
     "input": [
      "default_money"
     ],
     "language": "python",
     "metadata": {},
     "outputs": [
      {
       "metadata": {},
       "output_type": "pyout",
       "prompt_number": 162,
       "text": [
        "251356450.0"
       ]
      }
     ],
     "prompt_number": 162
    },
    {
     "cell_type": "code",
     "collapsed": false,
     "input": [],
     "language": "python",
     "metadata": {},
     "outputs": []
    }
   ],
   "metadata": {}
  }
 ]
}