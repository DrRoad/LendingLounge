{
 "metadata": {
  "name": "",
  "signature": "sha256:3ea9c967418061fee39765a8de36c55a03f33c831f068d852ae7ff140d8e8373"
 },
 "nbformat": 3,
 "nbformat_minor": 0,
 "worksheets": [
  {
   "cells": [
    {
     "cell_type": "code",
     "collapsed": false,
     "input": [
      "import pandas as pd\n",
      "import numpy as np\n",
      "import pickle\n",
      "import seaborn as sns\n",
      "\n",
      "import matplotlib.pyplot as plt\n",
      "\n",
      "import data_manipulation as dm"
     ],
     "language": "python",
     "metadata": {},
     "outputs": [],
     "prompt_number": 1
    },
    {
     "cell_type": "code",
     "collapsed": false,
     "input": [
      "f = open('pickles/mysql_dump.pickle', 'rb')\n",
      "loanData = pickle.load(f)"
     ],
     "language": "python",
     "metadata": {},
     "outputs": [],
     "prompt_number": 2
    },
    {
     "cell_type": "code",
     "collapsed": false,
     "input": [
      "loanData[:1]"
     ],
     "language": "python",
     "metadata": {},
     "outputs": [
      {
       "html": [
        "<div style=\"max-height:1000px;max-width:1500px;overflow:auto;\">\n",
        "<table border=\"1\" class=\"dataframe\">\n",
        "  <thead>\n",
        "    <tr style=\"text-align: right;\">\n",
        "      <th></th>\n",
        "      <th>id</th>\n",
        "      <th>loan_amnt</th>\n",
        "      <th>term</th>\n",
        "      <th>int_rate</th>\n",
        "      <th>installment</th>\n",
        "      <th>emp_length</th>\n",
        "      <th>annual_inc</th>\n",
        "      <th>is_inc_v</th>\n",
        "      <th>loan_status</th>\n",
        "      <th>zip_code</th>\n",
        "      <th>...</th>\n",
        "      <th>desc_length</th>\n",
        "      <th>unemp_rate_12mths</th>\n",
        "      <th>unemp_rate_6mths</th>\n",
        "      <th>unemp_rate_3mths</th>\n",
        "      <th>sub_grade</th>\n",
        "      <th>other_housing</th>\n",
        "      <th>other_purpose</th>\n",
        "      <th>install_frac_of_monthly_inc</th>\n",
        "      <th>implied_risk</th>\n",
        "      <th>days_to_zero_dollars</th>\n",
        "    </tr>\n",
        "  </thead>\n",
        "  <tbody>\n",
        "    <tr>\n",
        "      <th>0</th>\n",
        "      <td> 54734</td>\n",
        "      <td> 25000</td>\n",
        "      <td> 0</td>\n",
        "      <td> 11.89</td>\n",
        "      <td> 829.1</td>\n",
        "      <td> 0</td>\n",
        "      <td> 85000</td>\n",
        "      <td> 2</td>\n",
        "      <td> 2</td>\n",
        "      <td> 941</td>\n",
        "      <td>...</td>\n",
        "      <td> 308</td>\n",
        "      <td> 7.7</td>\n",
        "      <td> 10.6</td>\n",
        "      <td> 10.8</td>\n",
        "      <td> 4</td>\n",
        "      <td> 0</td>\n",
        "      <td> 0</td>\n",
        "      <td> 0.117049</td>\n",
        "      <td> 9.96</td>\n",
        "      <td> 791</td>\n",
        "    </tr>\n",
        "  </tbody>\n",
        "</table>\n",
        "<p>1 rows \u00d7 109 columns</p>\n",
        "</div>"
       ],
       "metadata": {},
       "output_type": "pyout",
       "prompt_number": 3,
       "text": [
        "      id  loan_amnt  term  int_rate  installment  emp_length  annual_inc  \\\n",
        "0  54734      25000     0     11.89        829.1           0       85000   \n",
        "\n",
        "   is_inc_v  loan_status  zip_code          ...           desc_length  \\\n",
        "0         2            2       941          ...                   308   \n",
        "\n",
        "   unemp_rate_12mths  unemp_rate_6mths  unemp_rate_3mths  sub_grade  \\\n",
        "0                7.7              10.6              10.8          4   \n",
        "\n",
        "   other_housing  other_purpose  install_frac_of_monthly_inc  implied_risk  \\\n",
        "0              0              0                     0.117049          9.96   \n",
        "\n",
        "   days_to_zero_dollars  \n",
        "0                   791  \n",
        "\n",
        "[1 rows x 109 columns]"
       ]
      }
     ],
     "prompt_number": 3
    },
    {
     "cell_type": "code",
     "collapsed": false,
     "input": [
      "corr_matrix = loanData.corr(method='spearman')"
     ],
     "language": "python",
     "metadata": {},
     "outputs": [],
     "prompt_number": 4
    },
    {
     "cell_type": "code",
     "collapsed": false,
     "input": [
      "sns.set(style=\"darkgrid\")\n",
      "\n",
      "f, ax = plt.subplots(figsize=(9, 9))\n",
      "cmap = sns.diverging_palette(220, 10, as_cmap=True)\n",
      "sns.corrplot(corr_matrix, annot=False, sig_stars=False,\n",
      "             diag_names=False, cmap=cmap, ax=ax)\n",
      "f.tight_layout()"
     ],
     "language": "python",
     "metadata": {},
     "outputs": [
      {
       "output_type": "stream",
       "stream": "stdout",
       "text": [
        "tight_layout : falling back to Agg renderer\n"
       ]
      }
     ],
     "prompt_number": 5
    },
    {
     "cell_type": "code",
     "collapsed": false,
     "input": [
      "f.show()"
     ],
     "language": "python",
     "metadata": {},
     "outputs": [],
     "prompt_number": 6
    },
    {
     "cell_type": "code",
     "collapsed": false,
     "input": [
      "f.savefig('corrmat.png')"
     ],
     "language": "python",
     "metadata": {},
     "outputs": [],
     "prompt_number": 8
    },
    {
     "cell_type": "code",
     "collapsed": false,
     "input": [],
     "language": "python",
     "metadata": {},
     "outputs": []
    },
    {
     "cell_type": "code",
     "collapsed": false,
     "input": [],
     "language": "python",
     "metadata": {},
     "outputs": []
    },
    {
     "cell_type": "code",
     "collapsed": false,
     "input": [
      "a = \"2015-01-23T06:22:11\""
     ],
     "language": "python",
     "metadata": {},
     "outputs": [],
     "prompt_number": 1
    },
    {
     "cell_type": "code",
     "collapsed": false,
     "input": [
      "a"
     ],
     "language": "python",
     "metadata": {},
     "outputs": [
      {
       "metadata": {},
       "output_type": "pyout",
       "prompt_number": 2,
       "text": [
        "'2015-01-23T06:22:11'"
       ]
      }
     ],
     "prompt_number": 2
    },
    {
     "cell_type": "code",
     "collapsed": false,
     "input": [
      "from time import strptime, strftime"
     ],
     "language": "python",
     "metadata": {},
     "outputs": [],
     "prompt_number": 9
    },
    {
     "cell_type": "code",
     "collapsed": false,
     "input": [
      "b = strptime(a, \"%Y-%m-%dT%H:%M:%S\")"
     ],
     "language": "python",
     "metadata": {},
     "outputs": [],
     "prompt_number": 7
    },
    {
     "cell_type": "code",
     "collapsed": false,
     "input": [
      "c = strftime(\"% %d %Y\", b)"
     ],
     "language": "python",
     "metadata": {},
     "outputs": [],
     "prompt_number": 10
    },
    {
     "cell_type": "code",
     "collapsed": false,
     "input": [
      "c"
     ],
     "language": "python",
     "metadata": {},
     "outputs": [
      {
       "metadata": {},
       "output_type": "pyout",
       "prompt_number": 11,
       "text": [
        "'01 23 2015'"
       ]
      }
     ],
     "prompt_number": 11
    },
    {
     "cell_type": "code",
     "collapsed": false,
     "input": [],
     "language": "python",
     "metadata": {},
     "outputs": []
    }
   ],
   "metadata": {}
  }
 ]
}