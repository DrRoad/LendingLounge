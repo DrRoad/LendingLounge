{
 "metadata": {
  "name": "",
  "signature": "sha256:0c3a86b37de2450235da27e318ed860a3f4f13e86e8af9ee4bd60d9c831f5e13"
 },
 "nbformat": 3,
 "nbformat_minor": 0,
 "worksheets": [
  {
   "cells": [
    {
     "cell_type": "code",
     "collapsed": false,
     "input": [
      "import pandas as pd\n",
      "import numpy as np\n",
      "import glob, sys\n",
      "from datetime import date\n",
      "import pickle\n",
      "from random import randint\n",
      "import time\n",
      "\n",
      "from sklearn.cross_validation import train_test_split\n",
      "from sklearn.linear_model import LinearRegression\n",
      "from sklearn.ensemble import RandomForestRegressor \n",
      "from sklearn.svm import SVR\n",
      "from sklearn.preprocessing import StandardScaler\n",
      "from sklearn.metrics import confusion_matrix\n",
      "from sklearn.metrics import classification_report\n",
      "\n",
      "from sklearn.ensemble import RandomForestClassifier\n",
      "\n",
      "from sklearn.tree import export_graphviz \n",
      "from sklearn.decomposition import PCA\n",
      "from sklearn.metrics import recall_score\n",
      "\n",
      "from scipy.stats import randint as sp_randint\n",
      "import matplotlib.pyplot as plt\n",
      "\n",
      "pd.set_option('display.max_columns', 200)\n",
      "%matplotlib inline"
     ],
     "language": "python",
     "metadata": {},
     "outputs": [],
     "prompt_number": 17
    },
    {
     "cell_type": "code",
     "collapsed": false,
     "input": [
      "f = open('data.pickle', 'rb')\n",
      "loanData = pickle.load(f)"
     ],
     "language": "python",
     "metadata": {},
     "outputs": [],
     "prompt_number": 2
    },
    {
     "cell_type": "code",
     "collapsed": false,
     "input": [
      "loanData[:1]"
     ],
     "language": "python",
     "metadata": {},
     "outputs": [
      {
       "html": [
        "<div style=\"max-height:1000px;max-width:1500px;overflow:auto;\">\n",
        "<table border=\"1\" class=\"dataframe\">\n",
        "  <thead>\n",
        "    <tr style=\"text-align: right;\">\n",
        "      <th></th>\n",
        "      <th>loan_amnt</th>\n",
        "      <th>funded_amnt</th>\n",
        "      <th>funded_amnt_inv</th>\n",
        "      <th>term</th>\n",
        "      <th>int_rate</th>\n",
        "      <th>installment</th>\n",
        "      <th>sub_grade</th>\n",
        "      <th>emp_length</th>\n",
        "      <th>annual_inc</th>\n",
        "      <th>is_inc_v</th>\n",
        "      <th>loan_status</th>\n",
        "      <th>zip_code</th>\n",
        "      <th>addr_state</th>\n",
        "      <th>dti</th>\n",
        "      <th>delinq_2yrs</th>\n",
        "      <th>inq_last_6mths</th>\n",
        "      <th>mths_since_last_delinq</th>\n",
        "      <th>mths_since_last_record</th>\n",
        "      <th>open_acc</th>\n",
        "      <th>pub_rec</th>\n",
        "      <th>revol_bal</th>\n",
        "      <th>revol_util</th>\n",
        "      <th>total_acc</th>\n",
        "      <th>total_pymnt</th>\n",
        "      <th>collections_12_mths_ex_med</th>\n",
        "      <th>mths_since_last_major_derog</th>\n",
        "      <th>A</th>\n",
        "      <th>B</th>\n",
        "      <th>C</th>\n",
        "      <th>D</th>\n",
        "      <th>E</th>\n",
        "      <th>F</th>\n",
        "      <th>G</th>\n",
        "      <th>ANY</th>\n",
        "      <th>MORTGAGE</th>\n",
        "      <th>NONE</th>\n",
        "      <th>OTHER</th>\n",
        "      <th>OWN</th>\n",
        "      <th>RENT</th>\n",
        "      <th>days_active</th>\n",
        "      <th>issue_month</th>\n",
        "      <th>issue_year</th>\n",
        "      <th>last_pymnt_month</th>\n",
        "      <th>last_pymnt_year</th>\n",
        "      <th>car</th>\n",
        "      <th>credit_card</th>\n",
        "      <th>debt_consolidation</th>\n",
        "      <th>educational</th>\n",
        "      <th>home_improvement</th>\n",
        "      <th>house</th>\n",
        "      <th>major_purchase</th>\n",
        "      <th>medical</th>\n",
        "      <th>moving</th>\n",
        "      <th>other</th>\n",
        "      <th>renewable_energy</th>\n",
        "      <th>small_business</th>\n",
        "      <th>vacation</th>\n",
        "      <th>wedding</th>\n",
        "      <th>AK</th>\n",
        "      <th>AL</th>\n",
        "      <th>AR</th>\n",
        "      <th>AZ</th>\n",
        "      <th>CA</th>\n",
        "      <th>CO</th>\n",
        "      <th>CT</th>\n",
        "      <th>DC</th>\n",
        "      <th>DE</th>\n",
        "      <th>FL</th>\n",
        "      <th>GA</th>\n",
        "      <th>HI</th>\n",
        "      <th>IA</th>\n",
        "      <th>ID</th>\n",
        "      <th>IL</th>\n",
        "      <th>IN</th>\n",
        "      <th>KS</th>\n",
        "      <th>KY</th>\n",
        "      <th>LA</th>\n",
        "      <th>MA</th>\n",
        "      <th>MD</th>\n",
        "      <th>ME</th>\n",
        "      <th>MI</th>\n",
        "      <th>MN</th>\n",
        "      <th>MO</th>\n",
        "      <th>MS</th>\n",
        "      <th>MT</th>\n",
        "      <th>NC</th>\n",
        "      <th>NE</th>\n",
        "      <th>NH</th>\n",
        "      <th>NJ</th>\n",
        "      <th>NM</th>\n",
        "      <th>NV</th>\n",
        "      <th>NY</th>\n",
        "      <th>OH</th>\n",
        "      <th>OK</th>\n",
        "      <th>OR</th>\n",
        "      <th>PA</th>\n",
        "      <th>RI</th>\n",
        "      <th>SC</th>\n",
        "      <th>SD</th>\n",
        "      <th>TN</th>\n",
        "      <th>TX</th>\n",
        "      <th>UT</th>\n",
        "      <th>VA</th>\n",
        "      <th>VT</th>\n",
        "      <th>WA</th>\n",
        "      <th>WI</th>\n",
        "      <th>WV</th>\n",
        "      <th>WY</th>\n",
        "      <th>yrs_since_first_cr_line</th>\n",
        "      <th>desc_length</th>\n",
        "      <th>title_length</th>\n",
        "      <th>unemp_rate_12mths</th>\n",
        "      <th>unemp_rate_6mths</th>\n",
        "      <th>unemp_rate_3mths</th>\n",
        "    </tr>\n",
        "  </thead>\n",
        "  <tbody>\n",
        "    <tr>\n",
        "      <th>0</th>\n",
        "      <td> 2500</td>\n",
        "      <td> 2500</td>\n",
        "      <td> 2500</td>\n",
        "      <td> 1</td>\n",
        "      <td> 15.27</td>\n",
        "      <td> 59.83</td>\n",
        "      <td> 4</td>\n",
        "      <td> 0</td>\n",
        "      <td> 30000</td>\n",
        "      <td> 1</td>\n",
        "      <td> 0</td>\n",
        "      <td> 309</td>\n",
        "      <td> GA</td>\n",
        "      <td> 1</td>\n",
        "      <td> 0</td>\n",
        "      <td> 5</td>\n",
        "      <td>-1</td>\n",
        "      <td>-1</td>\n",
        "      <td> 3</td>\n",
        "      <td> 0</td>\n",
        "      <td> 1687</td>\n",
        "      <td> 9.4</td>\n",
        "      <td> 4</td>\n",
        "      <td> 1008.71</td>\n",
        "      <td> 0</td>\n",
        "      <td>-1</td>\n",
        "      <td> 0</td>\n",
        "      <td> 0</td>\n",
        "      <td> 1</td>\n",
        "      <td> 0</td>\n",
        "      <td> 0</td>\n",
        "      <td> 0</td>\n",
        "      <td> 0</td>\n",
        "      <td> 0</td>\n",
        "      <td> 0</td>\n",
        "      <td> 0</td>\n",
        "      <td> 0</td>\n",
        "      <td> 0</td>\n",
        "      <td> 1</td>\n",
        "      <td> 487</td>\n",
        "      <td> 12</td>\n",
        "      <td> 2011</td>\n",
        "      <td> 4</td>\n",
        "      <td> 2013</td>\n",
        "      <td> 1</td>\n",
        "      <td> 0</td>\n",
        "      <td> 0</td>\n",
        "      <td> 0</td>\n",
        "      <td> 0</td>\n",
        "      <td> 0</td>\n",
        "      <td> 0</td>\n",
        "      <td> 0</td>\n",
        "      <td> 0</td>\n",
        "      <td> 0</td>\n",
        "      <td> 0</td>\n",
        "      <td> 0</td>\n",
        "      <td> 0</td>\n",
        "      <td> 0</td>\n",
        "      <td> 0</td>\n",
        "      <td> 0</td>\n",
        "      <td> 0</td>\n",
        "      <td> 0</td>\n",
        "      <td> 0</td>\n",
        "      <td> 0</td>\n",
        "      <td> 0</td>\n",
        "      <td> 0</td>\n",
        "      <td> 0</td>\n",
        "      <td> 0</td>\n",
        "      <td> 1</td>\n",
        "      <td> 0</td>\n",
        "      <td> 0</td>\n",
        "      <td> 0</td>\n",
        "      <td> 0</td>\n",
        "      <td> 0</td>\n",
        "      <td> 0</td>\n",
        "      <td> 0</td>\n",
        "      <td> 0</td>\n",
        "      <td> 0</td>\n",
        "      <td> 0</td>\n",
        "      <td> 0</td>\n",
        "      <td> 0</td>\n",
        "      <td> 0</td>\n",
        "      <td> 0</td>\n",
        "      <td> 0</td>\n",
        "      <td> 0</td>\n",
        "      <td> 0</td>\n",
        "      <td> 0</td>\n",
        "      <td> 0</td>\n",
        "      <td> 0</td>\n",
        "      <td> 0</td>\n",
        "      <td> 0</td>\n",
        "      <td> 0</td>\n",
        "      <td> 0</td>\n",
        "      <td> 0</td>\n",
        "      <td> 0</td>\n",
        "      <td> 0</td>\n",
        "      <td> 0</td>\n",
        "      <td> 0</td>\n",
        "      <td> 0</td>\n",
        "      <td> 0</td>\n",
        "      <td> 0</td>\n",
        "      <td> 0</td>\n",
        "      <td> 0</td>\n",
        "      <td> 0</td>\n",
        "      <td> 0</td>\n",
        "      <td> 0</td>\n",
        "      <td> 0</td>\n",
        "      <td> 0</td>\n",
        "      <td> 16</td>\n",
        "      <td> 590</td>\n",
        "      <td> 4</td>\n",
        "      <td> 10.1</td>\n",
        "      <td> 10.4</td>\n",
        "      <td> 10</td>\n",
        "    </tr>\n",
        "  </tbody>\n",
        "</table>\n",
        "<p>1 rows \u00d7 114 columns</p>\n",
        "</div>"
       ],
       "metadata": {},
       "output_type": "pyout",
       "prompt_number": 3,
       "text": [
        "   loan_amnt  funded_amnt  funded_amnt_inv  term  int_rate  installment  \\\n",
        "0       2500         2500             2500     1     15.27        59.83   \n",
        "\n",
        "  sub_grade  emp_length  annual_inc  is_inc_v  loan_status zip_code  \\\n",
        "0         4           0       30000         1            0      309   \n",
        "\n",
        "  addr_state  dti  delinq_2yrs  inq_last_6mths  mths_since_last_delinq  \\\n",
        "0         GA    1            0               5                      -1   \n",
        "\n",
        "   mths_since_last_record  open_acc  pub_rec  revol_bal  revol_util  \\\n",
        "0                      -1         3        0       1687         9.4   \n",
        "\n",
        "   total_acc  total_pymnt  collections_12_mths_ex_med  \\\n",
        "0          4      1008.71                           0   \n",
        "\n",
        "   mths_since_last_major_derog  A  B  C  D  E  F  G  ANY  MORTGAGE  NONE  \\\n",
        "0                           -1  0  0  1  0  0  0  0    0         0     0   \n",
        "\n",
        "   OTHER  OWN  RENT  days_active  issue_month  issue_year  last_pymnt_month  \\\n",
        "0      0    0     1          487           12        2011                 4   \n",
        "\n",
        "   last_pymnt_year  car  credit_card  debt_consolidation  educational  \\\n",
        "0             2013    1            0                   0            0   \n",
        "\n",
        "   home_improvement  house  major_purchase  medical  moving  other  \\\n",
        "0                 0      0               0        0       0      0   \n",
        "\n",
        "   renewable_energy  small_business  vacation  wedding  AK  AL  AR  AZ  CA  \\\n",
        "0                 0               0         0        0   0   0   0   0   0   \n",
        "\n",
        "   CO  CT  DC  DE  FL  GA  HI  IA  ID  IL  IN  KS  KY  LA  MA  MD  ME  MI  MN  \\\n",
        "0   0   0   0   0   0   1   0   0   0   0   0   0   0   0   0   0   0   0   0   \n",
        "\n",
        "   MO  MS  MT  NC  NE  NH  NJ  NM  NV  NY  OH  OK  OR  PA  RI  SC  SD  TN  TX  \\\n",
        "0   0   0   0   0   0   0   0   0   0   0   0   0   0   0   0   0   0   0   0   \n",
        "\n",
        "   UT  VA  VT  WA  WI  WV  WY  yrs_since_first_cr_line  desc_length  \\\n",
        "0   0   0   0   0   0   0   0                       16          590   \n",
        "\n",
        "   title_length  unemp_rate_12mths  unemp_rate_6mths  unemp_rate_3mths  \n",
        "0             4               10.1              10.4                10  \n",
        "\n",
        "[1 rows x 114 columns]"
       ]
      }
     ],
     "prompt_number": 3
    },
    {
     "cell_type": "code",
     "collapsed": false,
     "input": [],
     "language": "python",
     "metadata": {},
     "outputs": [
      {
       "ename": "AttributeError",
       "evalue": "'module' object has no attribute 'datetime'",
       "output_type": "pyerr",
       "traceback": [
        "\u001b[0;31m---------------------------------------------------------------------------\u001b[0m\n\u001b[0;31mAttributeError\u001b[0m                            Traceback (most recent call last)",
        "\u001b[0;32m<ipython-input-19-c4b8daf3c879>\u001b[0m in \u001b[0;36m<module>\u001b[0;34m()\u001b[0m\n\u001b[0;32m----> 1\u001b[0;31m \u001b[0mt1\u001b[0m \u001b[0;34m=\u001b[0m \u001b[0mtime\u001b[0m\u001b[0;34m.\u001b[0m\u001b[0mdatetime\u001b[0m\u001b[0;34m.\u001b[0m\u001b[0mnow\u001b[0m\u001b[0;34m(\u001b[0m\u001b[0;34m)\u001b[0m\u001b[0;34m\u001b[0m\u001b[0m\n\u001b[0m\u001b[1;32m      2\u001b[0m \u001b[0mt2\u001b[0m \u001b[0;34m=\u001b[0m \u001b[0mdatetime\u001b[0m\u001b[0;34m.\u001b[0m\u001b[0mnow\u001b[0m\u001b[0;34m(\u001b[0m\u001b[0;34m)\u001b[0m \u001b[0;34m+\u001b[0m \u001b[0;36m2\u001b[0m\u001b[0;34m\u001b[0m\u001b[0m\n\u001b[1;32m      3\u001b[0m \u001b[0mdays_active\u001b[0m \u001b[0;34m=\u001b[0m \u001b[0mt2\u001b[0m\u001b[0;34m-\u001b[0m\u001b[0mt1\u001b[0m\u001b[0;34m\u001b[0m\u001b[0m\n",
        "\u001b[0;31mAttributeError\u001b[0m: 'module' object has no attribute 'datetime'"
       ]
      }
     ],
     "prompt_number": 19
    },
    {
     "cell_type": "code",
     "collapsed": false,
     "input": [
      "\n",
      "a = [x.item().days for x in loanData['days_active']]"
     ],
     "language": "python",
     "metadata": {},
     "outputs": [
      {
       "ename": "AttributeError",
       "evalue": "'int' object has no attribute 'days'",
       "output_type": "pyerr",
       "traceback": [
        "\u001b[0;31m---------------------------------------------------------------------------\u001b[0m\n\u001b[0;31mAttributeError\u001b[0m                            Traceback (most recent call last)",
        "\u001b[0;32m<ipython-input-5-094166470ec7>\u001b[0m in \u001b[0;36m<module>\u001b[0;34m()\u001b[0m\n\u001b[0;32m----> 1\u001b[0;31m \u001b[0ma\u001b[0m \u001b[0;34m=\u001b[0m \u001b[0;34m[\u001b[0m\u001b[0mx\u001b[0m\u001b[0;34m.\u001b[0m\u001b[0mitem\u001b[0m\u001b[0;34m(\u001b[0m\u001b[0;34m)\u001b[0m\u001b[0;34m.\u001b[0m\u001b[0mdays\u001b[0m \u001b[0;32mfor\u001b[0m \u001b[0mx\u001b[0m \u001b[0;32min\u001b[0m \u001b[0mloanData\u001b[0m\u001b[0;34m[\u001b[0m\u001b[0;34m'days_active'\u001b[0m\u001b[0;34m]\u001b[0m\u001b[0;34m]\u001b[0m\u001b[0;34m\u001b[0m\u001b[0m\n\u001b[0m",
        "\u001b[0;31mAttributeError\u001b[0m: 'int' object has no attribute 'days'"
       ]
      }
     ],
     "prompt_number": 5
    },
    {
     "cell_type": "code",
     "collapsed": false,
     "input": [
      "type(loanData['days_active'][0])"
     ],
     "language": "python",
     "metadata": {},
     "outputs": [
      {
       "metadata": {},
       "output_type": "pyout",
       "prompt_number": 7,
       "text": [
        "numpy.int64"
       ]
      }
     ],
     "prompt_number": 7
    },
    {
     "cell_type": "code",
     "collapsed": false,
     "input": [],
     "language": "python",
     "metadata": {},
     "outputs": []
    },
    {
     "cell_type": "code",
     "collapsed": false,
     "input": [],
     "language": "python",
     "metadata": {},
     "outputs": []
    },
    {
     "cell_type": "code",
     "collapsed": true,
     "input": [],
     "language": "python",
     "metadata": {},
     "outputs": []
    },
    {
     "cell_type": "heading",
     "level": 3,
     "metadata": {},
     "source": [
      "Throw out unnecessary features"
     ]
    },
    {
     "cell_type": "code",
     "collapsed": false,
     "input": [
      "loanData = loanData.drop(['funded_amnt', 'funded_amnt_inv', 'addr_state', 'total_pymnt','last_pymnt_month', 'last_pymnt_year', 'total_pymnt', 'days_active'], 1)"
     ],
     "language": "python",
     "metadata": {},
     "outputs": [],
     "prompt_number": 27
    },
    {
     "cell_type": "code",
     "collapsed": false,
     "input": [],
     "language": "python",
     "metadata": {},
     "outputs": [
      {
       "metadata": {},
       "output_type": "pyout",
       "prompt_number": 61,
       "text": [
        "99237"
       ]
      }
     ],
     "prompt_number": 61
    },
    {
     "cell_type": "heading",
     "level": 3,
     "metadata": {},
     "source": [
      "Classify if a loan will default"
     ]
    },
    {
     "cell_type": "code",
     "collapsed": false,
     "input": [
      "features = loanData.drop(['loan_status'], 1).values\n",
      "targets = loanData['loan_status'].values"
     ],
     "language": "python",
     "metadata": {},
     "outputs": [],
     "prompt_number": 28
    },
    {
     "cell_type": "code",
     "collapsed": false,
     "input": [
      "X_train, X_test, y_train, y_test = train_test_split(features, \n",
      "\t\t\t\t\t\t\t\t\t\t\t\t\t\t\ttargets, \n",
      "\t\t\t\t\t\t\t\t\t\t\t\t\t\t\ttest_size=0.1)"
     ],
     "language": "python",
     "metadata": {},
     "outputs": [],
     "prompt_number": 67
    },
    {
     "cell_type": "code",
     "collapsed": false,
     "input": [
      "X_train = X_train.astype(float)\n",
      "y_train = y_train.astype(float)\n",
      "X_test = X_test.astype(float)\n",
      "y_test = y_test.astype(float)"
     ],
     "language": "python",
     "metadata": {},
     "outputs": [],
     "prompt_number": 68
    },
    {
     "cell_type": "code",
     "collapsed": false,
     "input": [
      "pca = PCA(n_components=20)\n",
      "X_train = pca.fit_transform(X_train)\n",
      "print \"Reduced data down to \", pca.n_components_, \" dimensions: \"\n",
      "print \"Transforming test data ...\"\n",
      "X_test = pca.transform(X_test)"
     ],
     "language": "python",
     "metadata": {},
     "outputs": [
      {
       "output_type": "stream",
       "stream": "stdout",
       "text": [
        "Reduced data down to  20  dimensions: \n",
        "Transforming test data ...\n"
       ]
      }
     ],
     "prompt_number": 80
    },
    {
     "cell_type": "code",
     "collapsed": false,
     "input": [
      "X_test.shape"
     ],
     "language": "python",
     "metadata": {},
     "outputs": [
      {
       "metadata": {},
       "output_type": "pyout",
       "prompt_number": 81,
       "text": [
        "(9924, 20)"
       ]
      }
     ],
     "prompt_number": 81
    },
    {
     "cell_type": "code",
     "collapsed": false,
     "input": [
      "#balance the loan categories\n",
      "loans_per_default_period = [np.sum(y_train == 0), \n",
      "                           np.sum(y_train == 1), \n",
      "                           np.sum(y_train == 2), \n",
      "                           np.sum(y_train == 3)]\n",
      "total_loans = len(y_train)\n",
      "max_num = max(loans_per_default_period)\n",
      "print \"the largest category has %s loans\" %max_num\n",
      "for index, q in enumerate(loans_per_default_period):\n",
      "    print \"balancing loans in category %s\" %index\n",
      "    print \"there are currently %s loans\" %q\n",
      "    num_loans_to_add = max_num - q\n",
      "    print \"we are going to add %s loans\" %num_loans_to_add\n",
      "    X_train_to_add = []\n",
      "    y_train_to_add = []\n",
      "    loan_category_indices = []\n",
      "    for cat_index, j in enumerate(y_train):\n",
      "        if j == index:\n",
      "            loan_category_indices.append(cat_index)\n",
      "    loans_in_category = X_train[loan_category_indices]\n",
      "    targets_in_category = y_train[loan_category_indices]\n",
      "    print \"About to add %s loans\" %num_loans_to_add\n",
      "    for i in range(num_loans_to_add):\n",
      "        r = np.random.randint(q-1)\n",
      "        X_train_to_add.append(loans_in_category[r])\n",
      "        y_train_to_add.append(targets_in_category[r])\n",
      "    if len(y_train_to_add) > 0:\n",
      "        X_train_to_add = np.array(X_train_to_add)\n",
      "        y_train_to_add = np.array(y_train_to_add)\n",
      "        print \"appending %s loans\" %len(y_train_to_add)\n",
      "        print \"length of y_train before: %s\" %len(y_train)\n",
      "        X_train = np.concatenate((X_train, X_train_to_add))\n",
      "        y_train = np.concatenate((y_train, y_train_to_add))\n",
      "        print \"length of y_train after: %s\" %len(y_train)\n",
      "    \n"
     ],
     "language": "python",
     "metadata": {},
     "outputs": [
      {
       "output_type": "stream",
       "stream": "stdout",
       "text": [
        "the largest category has 72665 loans\n",
        "balancing loans in category 0\n",
        "there are currently 16648 loans\n",
        "we are going to add 56017 loans\n",
        "About to add 56017 loans"
       ]
      },
      {
       "output_type": "stream",
       "stream": "stdout",
       "text": [
        "\n",
        "appending 56017 loans"
       ]
      },
      {
       "output_type": "stream",
       "stream": "stdout",
       "text": [
        "\n",
        "length of y_train before: 89313\n",
        "length of y_train after: 145330"
       ]
      },
      {
       "output_type": "stream",
       "stream": "stdout",
       "text": [
        "\n",
        "balancing loans in category 1\n",
        "there are currently 72665 loans\n",
        "we are going to add 0 loans\n",
        "About to add 0 loans"
       ]
      },
      {
       "output_type": "stream",
       "stream": "stdout",
       "text": [
        "\n",
        "balancing loans in category 2\n",
        "there are currently 0 loans\n",
        "we are going to add 72665 loans\n",
        "About to add 72665 loans"
       ]
      },
      {
       "output_type": "stream",
       "stream": "stdout",
       "text": [
        "\n"
       ]
      },
      {
       "ename": "ValueError",
       "evalue": "low >= high",
       "output_type": "pyerr",
       "traceback": [
        "\u001b[0;31m---------------------------------------------------------------------------\u001b[0m\n\u001b[0;31mValueError\u001b[0m                                Traceback (most recent call last)",
        "\u001b[0;32m<ipython-input-66-d5e223952af4>\u001b[0m in \u001b[0;36m<module>\u001b[0;34m()\u001b[0m\n\u001b[1;32m     22\u001b[0m     \u001b[0;32mprint\u001b[0m \u001b[0;34m\"About to add %s loans\"\u001b[0m \u001b[0;34m%\u001b[0m\u001b[0mnum_loans_to_add\u001b[0m\u001b[0;34m\u001b[0m\u001b[0m\n\u001b[1;32m     23\u001b[0m     \u001b[0;32mfor\u001b[0m \u001b[0mi\u001b[0m \u001b[0;32min\u001b[0m \u001b[0mrange\u001b[0m\u001b[0;34m(\u001b[0m\u001b[0mnum_loans_to_add\u001b[0m\u001b[0;34m)\u001b[0m\u001b[0;34m:\u001b[0m\u001b[0;34m\u001b[0m\u001b[0m\n\u001b[0;32m---> 24\u001b[0;31m         \u001b[0mr\u001b[0m \u001b[0;34m=\u001b[0m \u001b[0mnp\u001b[0m\u001b[0;34m.\u001b[0m\u001b[0mrandom\u001b[0m\u001b[0;34m.\u001b[0m\u001b[0mrandint\u001b[0m\u001b[0;34m(\u001b[0m\u001b[0mq\u001b[0m\u001b[0;34m-\u001b[0m\u001b[0;36m1\u001b[0m\u001b[0;34m)\u001b[0m\u001b[0;34m\u001b[0m\u001b[0m\n\u001b[0m\u001b[1;32m     25\u001b[0m         \u001b[0mX_train_to_add\u001b[0m\u001b[0;34m.\u001b[0m\u001b[0mappend\u001b[0m\u001b[0;34m(\u001b[0m\u001b[0mloans_in_category\u001b[0m\u001b[0;34m[\u001b[0m\u001b[0mr\u001b[0m\u001b[0;34m]\u001b[0m\u001b[0;34m)\u001b[0m\u001b[0;34m\u001b[0m\u001b[0m\n\u001b[1;32m     26\u001b[0m         \u001b[0my_train_to_add\u001b[0m\u001b[0;34m.\u001b[0m\u001b[0mappend\u001b[0m\u001b[0;34m(\u001b[0m\u001b[0mtargets_in_category\u001b[0m\u001b[0;34m[\u001b[0m\u001b[0mr\u001b[0m\u001b[0;34m]\u001b[0m\u001b[0;34m)\u001b[0m\u001b[0;34m\u001b[0m\u001b[0m\n",
        "\u001b[0;32m/System/Library/Frameworks/Python.framework/Versions/2.7/Extras/lib/python/numpy/random/mtrand.so\u001b[0m in \u001b[0;36mmtrand.RandomState.randint (numpy/random/mtrand/mtrand.c:6117)\u001b[0;34m()\u001b[0m\n",
        "\u001b[0;31mValueError\u001b[0m: low >= high"
       ]
      }
     ],
     "prompt_number": 66
    },
    {
     "cell_type": "code",
     "collapsed": false,
     "input": [
      "clf = RandomForestClassifier(n_estimators=100)"
     ],
     "language": "python",
     "metadata": {},
     "outputs": [],
     "prompt_number": 82
    },
    {
     "cell_type": "code",
     "collapsed": false,
     "input": [
      "clf.fit(X_train, y_train)"
     ],
     "language": "python",
     "metadata": {},
     "outputs": [
      {
       "metadata": {},
       "output_type": "pyout",
       "prompt_number": 83,
       "text": [
        "RandomForestClassifier(bootstrap=True, compute_importances=None,\n",
        "            criterion='gini', max_depth=None, max_features='auto',\n",
        "            max_leaf_nodes=None, min_density=None, min_samples_leaf=1,\n",
        "            min_samples_split=2, n_estimators=100, n_jobs=1,\n",
        "            oob_score=False, random_state=None, verbose=0)"
       ]
      }
     ],
     "prompt_number": 83
    },
    {
     "cell_type": "code",
     "collapsed": false,
     "input": [
      "score = clf.score(X_test, y_test)\n",
      "print score"
     ],
     "language": "python",
     "metadata": {},
     "outputs": [
      {
       "output_type": "stream",
       "stream": "stdout",
       "text": [
        "0.812474808545\n"
       ]
      }
     ],
     "prompt_number": 84
    },
    {
     "cell_type": "code",
     "collapsed": false,
     "input": [
      "prediction = clf.predict(X_test)"
     ],
     "language": "python",
     "metadata": {},
     "outputs": [],
     "prompt_number": 85
    },
    {
     "cell_type": "code",
     "collapsed": false,
     "input": [
      "print np.sum(prediction == 0)\n",
      "print np.sum(prediction == 1)"
     ],
     "language": "python",
     "metadata": {},
     "outputs": [
      {
       "output_type": "stream",
       "stream": "stdout",
       "text": [
        "130\n",
        "9794\n"
       ]
      }
     ],
     "prompt_number": 86
    },
    {
     "cell_type": "code",
     "collapsed": false,
     "input": [
      "print np.sum(y_test == 0)\n",
      "print np.sum(y_test == 1)"
     ],
     "language": "python",
     "metadata": {},
     "outputs": [
      {
       "output_type": "stream",
       "stream": "stdout",
       "text": [
        "1885\n",
        "8039\n"
       ]
      }
     ],
     "prompt_number": 87
    },
    {
     "cell_type": "code",
     "collapsed": false,
     "input": [
      "cm = confusion_matrix(y_test, prediction)\n",
      "plt.matshow(cm)\n",
      "plt.title('Confusion matrix')\n",
      "plt.colorbar()\n",
      "plt.ylabel('True label')\n",
      "plt.xlabel('Predicted label')\n",
      "plt.show()"
     ],
     "language": "python",
     "metadata": {},
     "outputs": [
      {
       "metadata": {},
       "output_type": "display_data",
       "png": "[encoded data removed]",
       "text": [
        "<matplotlib.figure.Figure at 0x11b5dbe90>"
       ]
      }
     ],
     "prompt_number": 88
    },
    {
     "cell_type": "code",
     "collapsed": false,
     "input": [
      "print classification_report(y_test, prediction)"
     ],
     "language": "python",
     "metadata": {},
     "outputs": [
      {
       "output_type": "stream",
       "stream": "stdout",
       "text": [
        "             precision    recall  f1-score   support\n",
        "\n",
        "        0.0       0.59      0.04      0.08      1885\n",
        "        1.0       0.82      0.99      0.90      8039\n",
        "\n",
        "avg / total       0.77      0.81      0.74      9924\n",
        "\n"
       ]
      }
     ],
     "prompt_number": 89
    },
    {
     "cell_type": "code",
     "collapsed": false,
     "input": [
      "clf.feature_importances_"
     ],
     "language": "python",
     "metadata": {},
     "outputs": [
      {
       "metadata": {},
       "output_type": "pyout",
       "prompt_number": 79,
       "text": [
        "array([ 0.03310145,  0.02235106,  0.02277189,  0.01725794,  0.02097898,\n",
        "        0.02816141,  0.02197696,  0.02198676,  0.01974382,  0.01877204,\n",
        "        0.01903109,  0.020936  ,  0.02303281,  0.02160359,  0.02765074,\n",
        "        0.01944375,  0.02149865,  0.01938998,  0.0204788 ,  0.02136708,\n",
        "        0.02005746,  0.02013639,  0.0188743 ,  0.01813754,  0.01826975,\n",
        "        0.01932791,  0.02167452,  0.02290021,  0.01754393,  0.02623155,\n",
        "        0.0174273 ,  0.01923407,  0.01854428,  0.01844528,  0.0179696 ,\n",
        "        0.01605821,  0.02359767,  0.01797358,  0.01637537,  0.01759002,\n",
        "        0.01614503,  0.01601574,  0.0208716 ,  0.01690834,  0.01908419,\n",
        "        0.0160546 ,  0.01614337,  0.01644664,  0.01732048,  0.01710625])"
       ]
      }
     ],
     "prompt_number": 79
    },
    {
     "cell_type": "code",
     "collapsed": false,
     "input": [
      "A_loans[:1]"
     ],
     "language": "python",
     "metadata": {},
     "outputs": [
      {
       "html": [
        "<div style=\"max-height:1000px;max-width:1500px;overflow:auto;\">\n",
        "<table border=\"1\" class=\"dataframe\">\n",
        "  <thead>\n",
        "    <tr style=\"text-align: right;\">\n",
        "      <th></th>\n",
        "      <th>loan_amnt</th>\n",
        "      <th>term</th>\n",
        "      <th>int_rate</th>\n",
        "      <th>installment</th>\n",
        "      <th>sub_grade</th>\n",
        "      <th>emp_length</th>\n",
        "      <th>annual_inc</th>\n",
        "      <th>is_inc_v</th>\n",
        "      <th>zip_code</th>\n",
        "      <th>dti</th>\n",
        "      <th>delinq_2yrs</th>\n",
        "      <th>inq_last_6mths</th>\n",
        "      <th>mths_since_last_delinq</th>\n",
        "      <th>mths_since_last_record</th>\n",
        "      <th>open_acc</th>\n",
        "      <th>pub_rec</th>\n",
        "      <th>revol_bal</th>\n",
        "      <th>revol_util</th>\n",
        "      <th>total_acc</th>\n",
        "      <th>collections_12_mths_ex_med</th>\n",
        "      <th>mths_since_last_major_derog</th>\n",
        "      <th>ANY</th>\n",
        "      <th>MORTGAGE</th>\n",
        "      <th>NONE</th>\n",
        "      <th>OTHER</th>\n",
        "      <th>OWN</th>\n",
        "      <th>RENT</th>\n",
        "      <th>car</th>\n",
        "      <th>credit_card</th>\n",
        "      <th>debt_consolidation</th>\n",
        "      <th>educational</th>\n",
        "      <th>home_improvement</th>\n",
        "      <th>house</th>\n",
        "      <th>major_purchase</th>\n",
        "      <th>medical</th>\n",
        "      <th>moving</th>\n",
        "      <th>other</th>\n",
        "      <th>renewable_energy</th>\n",
        "      <th>small_business</th>\n",
        "      <th>vacation</th>\n",
        "      <th>wedding</th>\n",
        "      <th>AK</th>\n",
        "      <th>AL</th>\n",
        "      <th>AR</th>\n",
        "      <th>AZ</th>\n",
        "      <th>CA</th>\n",
        "      <th>CO</th>\n",
        "      <th>CT</th>\n",
        "      <th>DC</th>\n",
        "      <th>DE</th>\n",
        "      <th>FL</th>\n",
        "      <th>GA</th>\n",
        "      <th>HI</th>\n",
        "      <th>IA</th>\n",
        "      <th>ID</th>\n",
        "      <th>IL</th>\n",
        "      <th>IN</th>\n",
        "      <th>KS</th>\n",
        "      <th>KY</th>\n",
        "      <th>LA</th>\n",
        "      <th>MA</th>\n",
        "      <th>MD</th>\n",
        "      <th>ME</th>\n",
        "      <th>MI</th>\n",
        "      <th>MN</th>\n",
        "      <th>MO</th>\n",
        "      <th>MS</th>\n",
        "      <th>MT</th>\n",
        "      <th>NC</th>\n",
        "      <th>NE</th>\n",
        "      <th>NH</th>\n",
        "      <th>NJ</th>\n",
        "      <th>NM</th>\n",
        "      <th>NV</th>\n",
        "      <th>NY</th>\n",
        "      <th>OH</th>\n",
        "      <th>OK</th>\n",
        "      <th>OR</th>\n",
        "      <th>PA</th>\n",
        "      <th>RI</th>\n",
        "      <th>SC</th>\n",
        "      <th>SD</th>\n",
        "      <th>TN</th>\n",
        "      <th>TX</th>\n",
        "      <th>UT</th>\n",
        "      <th>VA</th>\n",
        "      <th>VT</th>\n",
        "      <th>WA</th>\n",
        "      <th>WI</th>\n",
        "      <th>WV</th>\n",
        "      <th>WY</th>\n",
        "      <th>yrs_since_first_cr_line</th>\n",
        "      <th>desc_length</th>\n",
        "      <th>title_length</th>\n",
        "      <th>days_active</th>\n",
        "      <th>default_period</th>\n",
        "    </tr>\n",
        "  </thead>\n",
        "  <tbody>\n",
        "    <tr>\n",
        "      <th>1</th>\n",
        "      <td> 2400</td>\n",
        "      <td> 0</td>\n",
        "      <td> 15.96</td>\n",
        "      <td> 84.33</td>\n",
        "      <td> 5</td>\n",
        "      <td> 1</td>\n",
        "      <td> 12252</td>\n",
        "      <td> 0</td>\n",
        "      <td> 606</td>\n",
        "      <td> 8.72</td>\n",
        "      <td> 0</td>\n",
        "      <td> 2</td>\n",
        "      <td>-1</td>\n",
        "      <td>-1</td>\n",
        "      <td> 2</td>\n",
        "      <td> 0</td>\n",
        "      <td> 2956</td>\n",
        "      <td> 98.5</td>\n",
        "      <td> 10</td>\n",
        "      <td> 0</td>\n",
        "      <td>-1</td>\n",
        "      <td> 0</td>\n",
        "      <td> 0</td>\n",
        "      <td> 0</td>\n",
        "      <td> 0</td>\n",
        "      <td> 0</td>\n",
        "      <td> 1</td>\n",
        "      <td> 0</td>\n",
        "      <td> 0</td>\n",
        "      <td> 0</td>\n",
        "      <td> 0</td>\n",
        "      <td> 0</td>\n",
        "      <td> 0</td>\n",
        "      <td> 0</td>\n",
        "      <td> 0</td>\n",
        "      <td> 0</td>\n",
        "      <td> 0</td>\n",
        "      <td> 0</td>\n",
        "      <td> 1</td>\n",
        "      <td> 0</td>\n",
        "      <td> 0</td>\n",
        "      <td> 0</td>\n",
        "      <td> 0</td>\n",
        "      <td> 0</td>\n",
        "      <td> 0</td>\n",
        "      <td> 0</td>\n",
        "      <td> 0</td>\n",
        "      <td> 0</td>\n",
        "      <td> 0</td>\n",
        "      <td> 0</td>\n",
        "      <td> 0</td>\n",
        "      <td> 0</td>\n",
        "      <td> 0</td>\n",
        "      <td> 0</td>\n",
        "      <td> 0</td>\n",
        "      <td> 1</td>\n",
        "      <td> 0</td>\n",
        "      <td> 0</td>\n",
        "      <td> 0</td>\n",
        "      <td> 0</td>\n",
        "      <td> 0</td>\n",
        "      <td> 0</td>\n",
        "      <td> 0</td>\n",
        "      <td> 0</td>\n",
        "      <td> 0</td>\n",
        "      <td> 0</td>\n",
        "      <td> 0</td>\n",
        "      <td> 0</td>\n",
        "      <td> 0</td>\n",
        "      <td> 0</td>\n",
        "      <td> 0</td>\n",
        "      <td> 0</td>\n",
        "      <td> 0</td>\n",
        "      <td> 0</td>\n",
        "      <td> 0</td>\n",
        "      <td> 0</td>\n",
        "      <td> 0</td>\n",
        "      <td> 0</td>\n",
        "      <td> 0</td>\n",
        "      <td> 0</td>\n",
        "      <td> 0</td>\n",
        "      <td> 0</td>\n",
        "      <td> 0</td>\n",
        "      <td> 0</td>\n",
        "      <td> 0</td>\n",
        "      <td> 0</td>\n",
        "      <td> 0</td>\n",
        "      <td> 0</td>\n",
        "      <td> 0</td>\n",
        "      <td> 0</td>\n",
        "      <td> 0</td>\n",
        "      <td> 14</td>\n",
        "      <td> 3</td>\n",
        "      <td> 20</td>\n",
        "      <td> 913</td>\n",
        "      <td> 0</td>\n",
        "    </tr>\n",
        "  </tbody>\n",
        "</table>\n",
        "<p>1 rows \u00d7 96 columns</p>\n",
        "</div>"
       ],
       "metadata": {},
       "output_type": "pyout",
       "prompt_number": 774,
       "text": [
        "   loan_amnt  term  int_rate  installment sub_grade  emp_length  annual_inc  \\\n",
        "1       2400     0     15.96        84.33         5           1       12252   \n",
        "\n",
        "   is_inc_v zip_code   dti  delinq_2yrs  inq_last_6mths  \\\n",
        "1         0      606  8.72            0               2   \n",
        "\n",
        "   mths_since_last_delinq  mths_since_last_record  open_acc  pub_rec  \\\n",
        "1                      -1                      -1         2        0   \n",
        "\n",
        "   revol_bal  revol_util  total_acc  collections_12_mths_ex_med  \\\n",
        "1       2956        98.5         10                           0   \n",
        "\n",
        "   mths_since_last_major_derog  ANY  MORTGAGE  NONE  OTHER  OWN  RENT  car  \\\n",
        "1                           -1    0         0     0      0    0     1    0   \n",
        "\n",
        "   credit_card  debt_consolidation  educational  home_improvement  house  \\\n",
        "1            0                   0            0                 0      0   \n",
        "\n",
        "   major_purchase  medical  moving  other  renewable_energy  small_business  \\\n",
        "1               0        0       0      0                 0               1   \n",
        "\n",
        "   vacation  wedding  AK  AL  AR  AZ  CA  CO  CT  DC  DE  FL  GA  HI  IA  ID  \\\n",
        "1         0        0   0   0   0   0   0   0   0   0   0   0   0   0   0   0   \n",
        "\n",
        "   IL  IN  KS  KY  LA  MA  MD  ME  MI  MN  MO  MS  MT  NC  NE  NH  NJ  NM  NV  \\\n",
        "1   1   0   0   0   0   0   0   0   0   0   0   0   0   0   0   0   0   0   0   \n",
        "\n",
        "   NY  OH  OK  OR  PA  RI  SC  SD  TN  TX  UT  VA  VT  WA  WI  WV  WY  \\\n",
        "1   0   0   0   0   0   0   0   0   0   0   0   0   0   0   0   0   0   \n",
        "\n",
        "   yrs_since_first_cr_line  desc_length  title_length  days_active  \\\n",
        "1                       14            3            20          913   \n",
        "\n",
        "   default_period  \n",
        "1               0  \n",
        "\n",
        "[1 rows x 96 columns]"
       ]
      }
     ],
     "prompt_number": 774
    },
    {
     "cell_type": "code",
     "collapsed": false,
     "input": [
      "cm = confusion_matrix(y_test, prediction)\n",
      "plt.matshow(cm)\n",
      "plt.title('Confusion matrix')\n",
      "plt.colorbar()\n",
      "plt.ylabel('True label')\n",
      "plt.xlabel('Predicted label')\n",
      "plt.show()"
     ],
     "language": "python",
     "metadata": {},
     "outputs": [
      {
       "metadata": {},
       "output_type": "display_data",
       "png": "[encoded data removed]",
       "text": [
        "<matplotlib.figure.Figure at 0x169b01310>"
       ]
      }
     ],
     "prompt_number": 775
    },
    {
     "cell_type": "heading",
     "level": 3,
     "metadata": {},
     "source": [
      "Regression - Predict ROI on A Loans"
     ]
    },
    {
     "cell_type": "code",
     "collapsed": false,
     "input": [
      "len(A_loans)"
     ],
     "language": "python",
     "metadata": {},
     "outputs": [
      {
       "metadata": {},
       "output_type": "pyout",
       "prompt_number": 289,
       "text": [
        "17243"
       ]
      }
     ],
     "prompt_number": 289
    },
    {
     "cell_type": "code",
     "collapsed": false,
     "input": [
      "plt.hist(A_loans['roi'].values, bins=10)\n",
      "plt.xlabel('ROI')\n",
      "plt.ylabel('Count')\n",
      "plt.title('ROI Count for Grade A Loans')\n",
      "plt.show()"
     ],
     "language": "python",
     "metadata": {},
     "outputs": [
      {
       "metadata": {},
       "output_type": "display_data",
       "png": "[encoded data removed]",
       "text": [
        "<matplotlib.figure.Figure at 0x1631f2290>"
       ]
      }
     ],
     "prompt_number": 290
    },
    {
     "cell_type": "code",
     "collapsed": false,
     "input": [
      "plt.scatter(A_loans['annual_inc'], A_loans['roi'])\n",
      "plt.xlim([0,200000])\n",
      "plt.show()"
     ],
     "language": "python",
     "metadata": {},
     "outputs": [
      {
       "metadata": {},
       "output_type": "display_data",
       "png": "[encoded data removed]",
       "text": [
        "<matplotlib.figure.Figure at 0x156936dd0>"
       ]
      }
     ],
     "prompt_number": 291
    },
    {
     "cell_type": "code",
     "collapsed": false,
     "input": [
      "features = A_loans.drop(['loan_status', 'total_pymnt', 'roi'], 1).values\n",
      "targets = A_loans['roi'].values"
     ],
     "language": "python",
     "metadata": {},
     "outputs": [],
     "prompt_number": 292
    },
    {
     "cell_type": "code",
     "collapsed": false,
     "input": [
      "X_train, X_test, y_train, y_test = train_test_split(features, \n",
      "\t\t\t\t\t\t\t\t\t\t\t\t\t\t\ttargets, \n",
      "\t\t\t\t\t\t\t\t\t\t\t\t\t\t\ttest_size=0.1)"
     ],
     "language": "python",
     "metadata": {},
     "outputs": [],
     "prompt_number": 293
    },
    {
     "cell_type": "code",
     "collapsed": false,
     "input": [],
     "language": "python",
     "metadata": {},
     "outputs": [],
     "prompt_number": 293
    },
    {
     "cell_type": "code",
     "collapsed": false,
     "input": [
      "scalerX = StandardScaler().fit(X_train)"
     ],
     "language": "python",
     "metadata": {},
     "outputs": [],
     "prompt_number": 294
    },
    {
     "cell_type": "code",
     "collapsed": false,
     "input": [
      "X_train, X_test = scalerX.transform(X_train), scalerX.transform(X_test)"
     ],
     "language": "python",
     "metadata": {},
     "outputs": [],
     "prompt_number": 295
    },
    {
     "cell_type": "code",
     "collapsed": false,
     "input": [
      "X_train.shape"
     ],
     "language": "python",
     "metadata": {},
     "outputs": [
      {
       "metadata": {},
       "output_type": "pyout",
       "prompt_number": 296,
       "text": [
        "(15518, 98)"
       ]
      }
     ],
     "prompt_number": 296
    },
    {
     "cell_type": "code",
     "collapsed": false,
     "input": [
      "pca = PCA(n_components=20, copy=False, whiten=False)\n",
      "X_train = pca.fit_transform(X_train)\n",
      "print \"Reduced data down to \", pca.n_components_, \" dimensions\"\n",
      "X_test = pca.transform(X_test)"
     ],
     "language": "python",
     "metadata": {},
     "outputs": [
      {
       "output_type": "stream",
       "stream": "stdout",
       "text": [
        "Reduced data down to  20  dimensions\n"
       ]
      }
     ],
     "prompt_number": 208
    },
    {
     "cell_type": "code",
     "collapsed": false,
     "input": [
      "clf = LinearRegression()"
     ],
     "language": "python",
     "metadata": {},
     "outputs": [],
     "prompt_number": 297
    },
    {
     "cell_type": "code",
     "collapsed": false,
     "input": [
      "clf.fit(X_train, y_train)"
     ],
     "language": "python",
     "metadata": {},
     "outputs": [
      {
       "metadata": {},
       "output_type": "pyout",
       "prompt_number": 298,
       "text": [
        "LinearRegression(copy_X=True, fit_intercept=True, normalize=False)"
       ]
      }
     ],
     "prompt_number": 298
    },
    {
     "cell_type": "code",
     "collapsed": false,
     "input": [
      "clf.score(X_test, y_test)"
     ],
     "language": "python",
     "metadata": {},
     "outputs": [
      {
       "metadata": {},
       "output_type": "pyout",
       "prompt_number": 299,
       "text": [
        "0.34084147229807116"
       ]
      }
     ],
     "prompt_number": 299
    },
    {
     "cell_type": "code",
     "collapsed": false,
     "input": [
      "prediction = clf.predict(X_test)"
     ],
     "language": "python",
     "metadata": {},
     "outputs": [],
     "prompt_number": 300
    },
    {
     "cell_type": "code",
     "collapsed": false,
     "input": [
      "y_test"
     ],
     "language": "python",
     "metadata": {},
     "outputs": [
      {
       "metadata": {},
       "output_type": "pyout",
       "prompt_number": 301,
       "text": [
        "array([ 0.03703882,  0.09768   ,  0.11586635, ...,  0.11582864,\n",
        "        0.04865   ,  0.080555  ])"
       ]
      }
     ],
     "prompt_number": 301
    },
    {
     "cell_type": "code",
     "collapsed": false,
     "input": [
      "plt.scatter(prediction, y_test)\n",
      "plt.plot([-1,0.3], [-1,0.3])\n",
      "plt.xlabel('prediction')\n",
      "plt.ylabel('y_test')\n",
      "plt.show()"
     ],
     "language": "python",
     "metadata": {},
     "outputs": [
      {
       "metadata": {},
       "output_type": "display_data",
       "png": "[encoded data removed]",
       "text": [
        "<matplotlib.figure.Figure at 0x122ce2250>"
       ]
      }
     ],
     "prompt_number": 302
    },
    {
     "cell_type": "code",
     "collapsed": false,
     "input": [
      "clf = SVR(C=1, gamma=0.01, degree=5, kernel='rbf')"
     ],
     "language": "python",
     "metadata": {},
     "outputs": [],
     "prompt_number": 161
    },
    {
     "cell_type": "code",
     "collapsed": false,
     "input": [
      "clf.fit(X_train, y_train)"
     ],
     "language": "python",
     "metadata": {},
     "outputs": [
      {
       "metadata": {},
       "output_type": "pyout",
       "prompt_number": 162,
       "text": [
        "SVR(C=1, cache_size=200, coef0=0.0, degree=5, epsilon=0.1, gamma=0.01,\n",
        "  kernel='rbf', max_iter=-1, probability=False, random_state=None,\n",
        "  shrinking=True, tol=0.001, verbose=False)"
       ]
      }
     ],
     "prompt_number": 162
    },
    {
     "cell_type": "code",
     "collapsed": false,
     "input": [
      "prediction = clf.predict(X_test)"
     ],
     "language": "python",
     "metadata": {},
     "outputs": [],
     "prompt_number": 163
    },
    {
     "cell_type": "code",
     "collapsed": false,
     "input": [
      "clf.score(X_test, y_test)"
     ],
     "language": "python",
     "metadata": {},
     "outputs": [
      {
       "metadata": {},
       "output_type": "pyout",
       "prompt_number": 164,
       "text": [
        "-0.0075787310728314683"
       ]
      }
     ],
     "prompt_number": 164
    },
    {
     "cell_type": "code",
     "collapsed": false,
     "input": [
      "plt.scatter(prediction, y_test)\n",
      "plt.plot([-1,0.5], [-1,0.5])\n",
      "plt.plot([-1,0.5], [0,0], '--', color='black')\n",
      "plt.plot([0,0], [-1,0.5], '--', color='black')\n",
      "plt.xlabel('Predicted ROI')\n",
      "plt.ylabel('Actual ROI')\n",
      "plt.title('Predicted vs Actual ROI')\n",
      "plt.show()"
     ],
     "language": "python",
     "metadata": {},
     "outputs": [
      {
       "metadata": {},
       "output_type": "display_data",
       "png": "[encoded data removed]",
       "text": [
        "<matplotlib.figure.Figure at 0x114ec0c90>"
       ]
      }
     ],
     "prompt_number": 165
    },
    {
     "cell_type": "code",
     "collapsed": false,
     "input": [
      "clf = RandomForestRegressor(n_estimators=100)"
     ],
     "language": "python",
     "metadata": {},
     "outputs": [],
     "prompt_number": 303
    },
    {
     "cell_type": "code",
     "collapsed": false,
     "input": [
      "clf.fit(X_train, y_train)"
     ],
     "language": "python",
     "metadata": {},
     "outputs": [
      {
       "metadata": {},
       "output_type": "pyout",
       "prompt_number": 304,
       "text": [
        "RandomForestRegressor(bootstrap=True, compute_importances=None,\n",
        "           criterion='mse', max_depth=None, max_features='auto',\n",
        "           max_leaf_nodes=None, min_density=None, min_samples_leaf=1,\n",
        "           min_samples_split=2, n_estimators=100, n_jobs=1,\n",
        "           oob_score=False, random_state=None, verbose=0)"
       ]
      }
     ],
     "prompt_number": 304
    },
    {
     "cell_type": "code",
     "collapsed": false,
     "input": [
      "prediction = clf.predict(X_test)"
     ],
     "language": "python",
     "metadata": {},
     "outputs": [],
     "prompt_number": 305
    },
    {
     "cell_type": "code",
     "collapsed": false,
     "input": [
      "clf.score(X_test, y_test)"
     ],
     "language": "python",
     "metadata": {},
     "outputs": [
      {
       "metadata": {},
       "output_type": "pyout",
       "prompt_number": 306,
       "text": [
        "0.38084135072713532"
       ]
      }
     ],
     "prompt_number": 306
    },
    {
     "cell_type": "code",
     "collapsed": false,
     "input": [
      "plt.scatter(prediction, y_test)\n",
      "plt.plot([-1,0.5], [-1,0.5])\n",
      "plt.plot([-1,0.5], [0,0], '--', color='black')\n",
      "plt.plot([0,0], [-1,0.5], '--', color='black')\n",
      "plt.xlabel('Predicted ROI')\n",
      "plt.ylabel('Actual ROI')\n",
      "plt.title('Predicted vs Actual ROI')\n",
      "#plt.savefig('random_forest_A.pdf')\n",
      "plt.show()"
     ],
     "language": "python",
     "metadata": {},
     "outputs": [
      {
       "metadata": {},
       "output_type": "display_data",
       "png": "[encoded data removed]",
       "text": [
        "<matplotlib.figure.Figure at 0x15692b850>"
       ]
      }
     ],
     "prompt_number": 307
    },
    {
     "cell_type": "code",
     "collapsed": false,
     "input": [
      "len(X_test)"
     ],
     "language": "python",
     "metadata": {},
     "outputs": [
      {
       "metadata": {},
       "output_type": "pyout",
       "prompt_number": 112,
       "text": [
        "3267"
       ]
      }
     ],
     "prompt_number": 112
    },
    {
     "cell_type": "code",
     "collapsed": false,
     "input": [
      "len(X_train)"
     ],
     "language": "python",
     "metadata": {},
     "outputs": [
      {
       "metadata": {},
       "output_type": "pyout",
       "prompt_number": 113,
       "text": [
        "29398"
       ]
      }
     ],
     "prompt_number": 113
    },
    {
     "cell_type": "code",
     "collapsed": false,
     "input": [
      "A_loans.drop(['loan_status', 'total_pymnt', 'roi'], 1)[:1]"
     ],
     "language": "python",
     "metadata": {},
     "outputs": [
      {
       "html": [
        "<div style=\"max-height:1000px;max-width:1500px;overflow:auto;\">\n",
        "<table border=\"1\" class=\"dataframe\">\n",
        "  <thead>\n",
        "    <tr style=\"text-align: right;\">\n",
        "      <th></th>\n",
        "      <th>loan_amnt</th>\n",
        "      <th>funded_amnt</th>\n",
        "      <th>funded_amnt_inv</th>\n",
        "      <th>term</th>\n",
        "      <th>int_rate</th>\n",
        "      <th>installment</th>\n",
        "      <th>sub_grade</th>\n",
        "      <th>emp_length</th>\n",
        "      <th>annual_inc</th>\n",
        "      <th>is_inc_v</th>\n",
        "      <th>zip_code</th>\n",
        "      <th>dti</th>\n",
        "      <th>delinq_2yrs</th>\n",
        "      <th>inq_last_6mths</th>\n",
        "      <th>mths_since_last_delinq</th>\n",
        "      <th>mths_since_last_record</th>\n",
        "      <th>open_acc</th>\n",
        "      <th>pub_rec</th>\n",
        "      <th>revol_bal</th>\n",
        "      <th>revol_util</th>\n",
        "      <th>total_acc</th>\n",
        "      <th>collections_12_mths_ex_med</th>\n",
        "      <th>mths_since_last_major_derog</th>\n",
        "      <th>ANY</th>\n",
        "      <th>MORTGAGE</th>\n",
        "      <th>NONE</th>\n",
        "      <th>OTHER</th>\n",
        "      <th>OWN</th>\n",
        "      <th>RENT</th>\n",
        "      <th>issue_month</th>\n",
        "      <th>issue_year</th>\n",
        "      <th>car</th>\n",
        "      <th>credit_card</th>\n",
        "      <th>debt_consolidation</th>\n",
        "      <th>educational</th>\n",
        "      <th>home_improvement</th>\n",
        "      <th>house</th>\n",
        "      <th>major_purchase</th>\n",
        "      <th>medical</th>\n",
        "      <th>moving</th>\n",
        "      <th>other</th>\n",
        "      <th>renewable_energy</th>\n",
        "      <th>small_business</th>\n",
        "      <th>vacation</th>\n",
        "      <th>wedding</th>\n",
        "      <th>AK</th>\n",
        "      <th>AL</th>\n",
        "      <th>AR</th>\n",
        "      <th>AZ</th>\n",
        "      <th>CA</th>\n",
        "      <th>CO</th>\n",
        "      <th>CT</th>\n",
        "      <th>DC</th>\n",
        "      <th>DE</th>\n",
        "      <th>FL</th>\n",
        "      <th>GA</th>\n",
        "      <th>HI</th>\n",
        "      <th>IA</th>\n",
        "      <th>ID</th>\n",
        "      <th>IL</th>\n",
        "      <th>IN</th>\n",
        "      <th>KS</th>\n",
        "      <th>KY</th>\n",
        "      <th>LA</th>\n",
        "      <th>MA</th>\n",
        "      <th>MD</th>\n",
        "      <th>ME</th>\n",
        "      <th>MI</th>\n",
        "      <th>MN</th>\n",
        "      <th>MO</th>\n",
        "      <th>MS</th>\n",
        "      <th>MT</th>\n",
        "      <th>NC</th>\n",
        "      <th>NE</th>\n",
        "      <th>NH</th>\n",
        "      <th>NJ</th>\n",
        "      <th>NM</th>\n",
        "      <th>NV</th>\n",
        "      <th>NY</th>\n",
        "      <th>OH</th>\n",
        "      <th>OK</th>\n",
        "      <th>OR</th>\n",
        "      <th>PA</th>\n",
        "      <th>RI</th>\n",
        "      <th>SC</th>\n",
        "      <th>SD</th>\n",
        "      <th>TN</th>\n",
        "      <th>TX</th>\n",
        "      <th>UT</th>\n",
        "      <th>VA</th>\n",
        "      <th>VT</th>\n",
        "      <th>WA</th>\n",
        "      <th>WI</th>\n",
        "      <th>WV</th>\n",
        "      <th>WY</th>\n",
        "      <th>yrs_since_first_cr_line</th>\n",
        "      <th>desc_length</th>\n",
        "      <th>title_length</th>\n",
        "    </tr>\n",
        "  </thead>\n",
        "  <tbody>\n",
        "    <tr>\n",
        "      <th>8</th>\n",
        "      <td> 3600</td>\n",
        "      <td> 3600</td>\n",
        "      <td> 3600</td>\n",
        "      <td> 0</td>\n",
        "      <td> 6.03</td>\n",
        "      <td> 109.57</td>\n",
        "      <td> 1</td>\n",
        "      <td> 0</td>\n",
        "      <td> 110000</td>\n",
        "      <td> 0</td>\n",
        "      <td> 67</td>\n",
        "      <td> 10.52</td>\n",
        "      <td> 0</td>\n",
        "      <td> 0</td>\n",
        "      <td>-1</td>\n",
        "      <td>-1</td>\n",
        "      <td> 20</td>\n",
        "      <td> 0</td>\n",
        "      <td> 22836</td>\n",
        "      <td> 16</td>\n",
        "      <td> 42</td>\n",
        "      <td> 0</td>\n",
        "      <td>-1</td>\n",
        "      <td> 0</td>\n",
        "      <td> 1</td>\n",
        "      <td> 0</td>\n",
        "      <td> 0</td>\n",
        "      <td> 0</td>\n",
        "      <td> 0</td>\n",
        "      <td> 12</td>\n",
        "      <td> 2011</td>\n",
        "      <td> 0</td>\n",
        "      <td> 0</td>\n",
        "      <td> 0</td>\n",
        "      <td> 0</td>\n",
        "      <td> 0</td>\n",
        "      <td> 0</td>\n",
        "      <td> 1</td>\n",
        "      <td> 0</td>\n",
        "      <td> 0</td>\n",
        "      <td> 0</td>\n",
        "      <td> 0</td>\n",
        "      <td> 0</td>\n",
        "      <td> 0</td>\n",
        "      <td> 0</td>\n",
        "      <td> 0</td>\n",
        "      <td> 0</td>\n",
        "      <td> 0</td>\n",
        "      <td> 0</td>\n",
        "      <td> 0</td>\n",
        "      <td> 0</td>\n",
        "      <td> 1</td>\n",
        "      <td> 0</td>\n",
        "      <td> 0</td>\n",
        "      <td> 0</td>\n",
        "      <td> 0</td>\n",
        "      <td> 0</td>\n",
        "      <td> 0</td>\n",
        "      <td> 0</td>\n",
        "      <td> 0</td>\n",
        "      <td> 0</td>\n",
        "      <td> 0</td>\n",
        "      <td> 0</td>\n",
        "      <td> 0</td>\n",
        "      <td> 0</td>\n",
        "      <td> 0</td>\n",
        "      <td> 0</td>\n",
        "      <td> 0</td>\n",
        "      <td> 0</td>\n",
        "      <td> 0</td>\n",
        "      <td> 0</td>\n",
        "      <td> 0</td>\n",
        "      <td> 0</td>\n",
        "      <td> 0</td>\n",
        "      <td> 0</td>\n",
        "      <td> 0</td>\n",
        "      <td> 0</td>\n",
        "      <td> 0</td>\n",
        "      <td> 0</td>\n",
        "      <td> 0</td>\n",
        "      <td> 0</td>\n",
        "      <td> 0</td>\n",
        "      <td> 0</td>\n",
        "      <td> 0</td>\n",
        "      <td> 0</td>\n",
        "      <td> 0</td>\n",
        "      <td> 0</td>\n",
        "      <td> 0</td>\n",
        "      <td> 0</td>\n",
        "      <td> 0</td>\n",
        "      <td> 0</td>\n",
        "      <td> 0</td>\n",
        "      <td> 0</td>\n",
        "      <td> 0</td>\n",
        "      <td> 0</td>\n",
        "      <td> 22</td>\n",
        "      <td> 198</td>\n",
        "      <td> 7</td>\n",
        "    </tr>\n",
        "  </tbody>\n",
        "</table>\n",
        "<p>1 rows \u00d7 98 columns</p>\n",
        "</div>"
       ],
       "metadata": {},
       "output_type": "pyout",
       "prompt_number": 126,
       "text": [
        "   loan_amnt  funded_amnt  funded_amnt_inv  term  int_rate  installment  \\\n",
        "8       3600         3600             3600     0      6.03       109.57   \n",
        "\n",
        "   sub_grade  emp_length  annual_inc  is_inc_v  zip_code    dti  delinq_2yrs  \\\n",
        "8          1           0      110000         0        67  10.52            0   \n",
        "\n",
        "   inq_last_6mths  mths_since_last_delinq  mths_since_last_record  open_acc  \\\n",
        "8               0                      -1                      -1        20   \n",
        "\n",
        "   pub_rec  revol_bal  revol_util  total_acc  collections_12_mths_ex_med  \\\n",
        "8        0      22836          16         42                           0   \n",
        "\n",
        "   mths_since_last_major_derog  ANY  MORTGAGE  NONE  OTHER  OWN  RENT  \\\n",
        "8                           -1    0         1     0      0    0     0   \n",
        "\n",
        "   issue_month  issue_year  car  credit_card  debt_consolidation  educational  \\\n",
        "8           12        2011    0            0                   0            0   \n",
        "\n",
        "   home_improvement  house  major_purchase  medical  moving  other  \\\n",
        "8                 0      0               1        0       0      0   \n",
        "\n",
        "   renewable_energy  small_business  vacation  wedding  AK  AL  AR  AZ  CA  \\\n",
        "8                 0               0         0        0   0   0   0   0   0   \n",
        "\n",
        "   CO  CT  DC  DE  FL  GA  HI  IA  ID  IL  IN  KS  KY  LA  MA  MD  ME  MI  MN  \\\n",
        "8   0   1   0   0   0   0   0   0   0   0   0   0   0   0   0   0   0   0   0   \n",
        "\n",
        "   MO  MS  MT  NC  NE  NH  NJ  NM  NV  NY  OH  OK  OR  PA  RI  SC  SD  TN  TX  \\\n",
        "8   0   0   0   0   0   0   0   0   0   0   0   0   0   0   0   0   0   0   0   \n",
        "\n",
        "   UT  VA  VT  WA  WI  WV  WY  yrs_since_first_cr_line  desc_length  \\\n",
        "8   0   0   0   0   0   0   0                       22          198   \n",
        "\n",
        "   title_length  \n",
        "8             7  \n",
        "\n",
        "[1 rows x 98 columns]"
       ]
      }
     ],
     "prompt_number": 126
    },
    {
     "cell_type": "code",
     "collapsed": false,
     "input": [
      "print recall_score(y_test, prediction, average=\"macro\")"
     ],
     "language": "python",
     "metadata": {},
     "outputs": [
      {
       "ename": "ValueError",
       "evalue": "continuous is not supported",
       "output_type": "pyerr",
       "traceback": [
        "\u001b[0;31m---------------------------------------------------------------------------\u001b[0m\n\u001b[0;31mValueError\u001b[0m                                Traceback (most recent call last)",
        "\u001b[0;32m<ipython-input-225-33cd856ee76d>\u001b[0m in \u001b[0;36m<module>\u001b[0;34m()\u001b[0m\n\u001b[0;32m----> 1\u001b[0;31m \u001b[0;32mprint\u001b[0m \u001b[0mrecall_score\u001b[0m\u001b[0;34m(\u001b[0m\u001b[0my_test\u001b[0m\u001b[0;34m,\u001b[0m \u001b[0mprediction\u001b[0m\u001b[0;34m,\u001b[0m \u001b[0maverage\u001b[0m\u001b[0;34m=\u001b[0m\u001b[0;34m\"macro\"\u001b[0m\u001b[0;34m)\u001b[0m\u001b[0;34m\u001b[0m\u001b[0m\n\u001b[0m",
        "\u001b[0;32m/Library/Python/2.7/site-packages/sklearn/metrics/metrics.pyc\u001b[0m in \u001b[0;36mrecall_score\u001b[0;34m(y_true, y_pred, labels, pos_label, average, sample_weight)\u001b[0m\n\u001b[1;32m   1964\u001b[0m                                                  \u001b[0maverage\u001b[0m\u001b[0;34m=\u001b[0m\u001b[0maverage\u001b[0m\u001b[0;34m,\u001b[0m\u001b[0;34m\u001b[0m\u001b[0m\n\u001b[1;32m   1965\u001b[0m                                                  \u001b[0mwarn_for\u001b[0m\u001b[0;34m=\u001b[0m\u001b[0;34m(\u001b[0m\u001b[0;34m'recall'\u001b[0m\u001b[0;34m,\u001b[0m\u001b[0;34m)\u001b[0m\u001b[0;34m,\u001b[0m\u001b[0;34m\u001b[0m\u001b[0m\n\u001b[0;32m-> 1966\u001b[0;31m                                                  sample_weight=sample_weight)\n\u001b[0m\u001b[1;32m   1967\u001b[0m     \u001b[0;32mreturn\u001b[0m \u001b[0mr\u001b[0m\u001b[0;34m\u001b[0m\u001b[0m\n\u001b[1;32m   1968\u001b[0m \u001b[0;34m\u001b[0m\u001b[0m\n",
        "\u001b[0;32m/Library/Python/2.7/site-packages/sklearn/metrics/metrics.pyc\u001b[0m in \u001b[0;36mprecision_recall_fscore_support\u001b[0;34m(y_true, y_pred, beta, labels, pos_label, average, warn_for, sample_weight)\u001b[0m\n\u001b[1;32m   1667\u001b[0m         \u001b[0;32mraise\u001b[0m \u001b[0mValueError\u001b[0m\u001b[0;34m(\u001b[0m\u001b[0;34m\"beta should be >0 in the F-beta score\"\u001b[0m\u001b[0;34m)\u001b[0m\u001b[0;34m\u001b[0m\u001b[0m\n\u001b[1;32m   1668\u001b[0m \u001b[0;34m\u001b[0m\u001b[0m\n\u001b[0;32m-> 1669\u001b[0;31m     \u001b[0my_type\u001b[0m\u001b[0;34m,\u001b[0m \u001b[0my_true\u001b[0m\u001b[0;34m,\u001b[0m \u001b[0my_pred\u001b[0m \u001b[0;34m=\u001b[0m \u001b[0m_check_clf_targets\u001b[0m\u001b[0;34m(\u001b[0m\u001b[0my_true\u001b[0m\u001b[0;34m,\u001b[0m \u001b[0my_pred\u001b[0m\u001b[0;34m)\u001b[0m\u001b[0;34m\u001b[0m\u001b[0m\n\u001b[0m\u001b[1;32m   1670\u001b[0m \u001b[0;34m\u001b[0m\u001b[0m\n\u001b[1;32m   1671\u001b[0m     \u001b[0mlabel_order\u001b[0m \u001b[0;34m=\u001b[0m \u001b[0mlabels\u001b[0m  \u001b[0;31m# save this for later\u001b[0m\u001b[0;34m\u001b[0m\u001b[0m\n",
        "\u001b[0;32m/Library/Python/2.7/site-packages/sklearn/metrics/metrics.pyc\u001b[0m in \u001b[0;36m_check_clf_targets\u001b[0;34m(y_true, y_pred)\u001b[0m\n\u001b[1;32m    125\u001b[0m     if (y_type not in [\"binary\", \"multiclass\", \"multilabel-indicator\",\n\u001b[1;32m    126\u001b[0m                        \"multilabel-sequences\"]):\n\u001b[0;32m--> 127\u001b[0;31m         \u001b[0;32mraise\u001b[0m \u001b[0mValueError\u001b[0m\u001b[0;34m(\u001b[0m\u001b[0;34m\"{0} is not supported\"\u001b[0m\u001b[0;34m.\u001b[0m\u001b[0mformat\u001b[0m\u001b[0;34m(\u001b[0m\u001b[0my_type\u001b[0m\u001b[0;34m)\u001b[0m\u001b[0;34m)\u001b[0m\u001b[0;34m\u001b[0m\u001b[0m\n\u001b[0m\u001b[1;32m    128\u001b[0m \u001b[0;34m\u001b[0m\u001b[0m\n\u001b[1;32m    129\u001b[0m     \u001b[0;32mif\u001b[0m \u001b[0my_type\u001b[0m \u001b[0;32min\u001b[0m \u001b[0;34m[\u001b[0m\u001b[0;34m\"binary\"\u001b[0m\u001b[0;34m,\u001b[0m \u001b[0;34m\"multiclass\"\u001b[0m\u001b[0;34m]\u001b[0m\u001b[0;34m:\u001b[0m\u001b[0;34m\u001b[0m\u001b[0m\n",
        "\u001b[0;31mValueError\u001b[0m: continuous is not supported"
       ]
      }
     ],
     "prompt_number": 225
    },
    {
     "cell_type": "code",
     "collapsed": false,
     "input": [
      "A_loans[:1]"
     ],
     "language": "python",
     "metadata": {},
     "outputs": [
      {
       "html": [
        "<div style=\"max-height:1000px;max-width:1500px;overflow:auto;\">\n",
        "<table border=\"1\" class=\"dataframe\">\n",
        "  <thead>\n",
        "    <tr style=\"text-align: right;\">\n",
        "      <th></th>\n",
        "      <th>loan_amnt</th>\n",
        "      <th>funded_amnt</th>\n",
        "      <th>funded_amnt_inv</th>\n",
        "      <th>term</th>\n",
        "      <th>int_rate</th>\n",
        "      <th>installment</th>\n",
        "      <th>sub_grade</th>\n",
        "      <th>emp_length</th>\n",
        "      <th>annual_inc</th>\n",
        "      <th>is_inc_v</th>\n",
        "      <th>loan_status</th>\n",
        "      <th>zip_code</th>\n",
        "      <th>dti</th>\n",
        "      <th>delinq_2yrs</th>\n",
        "      <th>inq_last_6mths</th>\n",
        "      <th>mths_since_last_delinq</th>\n",
        "      <th>mths_since_last_record</th>\n",
        "      <th>open_acc</th>\n",
        "      <th>pub_rec</th>\n",
        "      <th>revol_bal</th>\n",
        "      <th>revol_util</th>\n",
        "      <th>total_acc</th>\n",
        "      <th>total_pymnt</th>\n",
        "      <th>collections_12_mths_ex_med</th>\n",
        "      <th>mths_since_last_major_derog</th>\n",
        "      <th>ANY</th>\n",
        "      <th>MORTGAGE</th>\n",
        "      <th>NONE</th>\n",
        "      <th>OTHER</th>\n",
        "      <th>OWN</th>\n",
        "      <th>RENT</th>\n",
        "      <th>issue_month</th>\n",
        "      <th>issue_year</th>\n",
        "      <th>car</th>\n",
        "      <th>credit_card</th>\n",
        "      <th>debt_consolidation</th>\n",
        "      <th>educational</th>\n",
        "      <th>home_improvement</th>\n",
        "      <th>house</th>\n",
        "      <th>major_purchase</th>\n",
        "      <th>medical</th>\n",
        "      <th>moving</th>\n",
        "      <th>other</th>\n",
        "      <th>renewable_energy</th>\n",
        "      <th>small_business</th>\n",
        "      <th>vacation</th>\n",
        "      <th>wedding</th>\n",
        "      <th>AK</th>\n",
        "      <th>AL</th>\n",
        "      <th>AR</th>\n",
        "      <th>AZ</th>\n",
        "      <th>CA</th>\n",
        "      <th>CO</th>\n",
        "      <th>CT</th>\n",
        "      <th>DC</th>\n",
        "      <th>DE</th>\n",
        "      <th>FL</th>\n",
        "      <th>GA</th>\n",
        "      <th>HI</th>\n",
        "      <th>IA</th>\n",
        "      <th>ID</th>\n",
        "      <th>IL</th>\n",
        "      <th>IN</th>\n",
        "      <th>KS</th>\n",
        "      <th>KY</th>\n",
        "      <th>LA</th>\n",
        "      <th>MA</th>\n",
        "      <th>MD</th>\n",
        "      <th>ME</th>\n",
        "      <th>MI</th>\n",
        "      <th>MN</th>\n",
        "      <th>MO</th>\n",
        "      <th>MS</th>\n",
        "      <th>MT</th>\n",
        "      <th>NC</th>\n",
        "      <th>NE</th>\n",
        "      <th>NH</th>\n",
        "      <th>NJ</th>\n",
        "      <th>NM</th>\n",
        "      <th>NV</th>\n",
        "      <th>NY</th>\n",
        "      <th>OH</th>\n",
        "      <th>OK</th>\n",
        "      <th>OR</th>\n",
        "      <th>PA</th>\n",
        "      <th>RI</th>\n",
        "      <th>SC</th>\n",
        "      <th>SD</th>\n",
        "      <th>TN</th>\n",
        "      <th>TX</th>\n",
        "      <th>UT</th>\n",
        "      <th>VA</th>\n",
        "      <th>VT</th>\n",
        "      <th>WA</th>\n",
        "      <th>WI</th>\n",
        "      <th>WV</th>\n",
        "      <th>WY</th>\n",
        "      <th>yrs_since_first_cr_line</th>\n",
        "      <th>desc_length</th>\n",
        "      <th>title_length</th>\n",
        "      <th>roi</th>\n",
        "    </tr>\n",
        "  </thead>\n",
        "  <tbody>\n",
        "    <tr>\n",
        "      <th>8</th>\n",
        "      <td> 3600</td>\n",
        "      <td> 3600</td>\n",
        "      <td> 3600</td>\n",
        "      <td> 0</td>\n",
        "      <td> 6.03</td>\n",
        "      <td> 109.57</td>\n",
        "      <td> 1</td>\n",
        "      <td> 0</td>\n",
        "      <td> 110000</td>\n",
        "      <td> 0</td>\n",
        "      <td> 1</td>\n",
        "      <td> 67</td>\n",
        "      <td> 10.52</td>\n",
        "      <td> 0</td>\n",
        "      <td> 0</td>\n",
        "      <td>-1</td>\n",
        "      <td>-1</td>\n",
        "      <td> 20</td>\n",
        "      <td> 0</td>\n",
        "      <td> 22836</td>\n",
        "      <td> 16</td>\n",
        "      <td> 42</td>\n",
        "      <td> 3785.02</td>\n",
        "      <td> 0</td>\n",
        "      <td>-1</td>\n",
        "      <td> 0</td>\n",
        "      <td> 1</td>\n",
        "      <td> 0</td>\n",
        "      <td> 0</td>\n",
        "      <td> 0</td>\n",
        "      <td> 0</td>\n",
        "      <td> 12</td>\n",
        "      <td> 2011</td>\n",
        "      <td> 0</td>\n",
        "      <td> 0</td>\n",
        "      <td> 0</td>\n",
        "      <td> 0</td>\n",
        "      <td> 0</td>\n",
        "      <td> 0</td>\n",
        "      <td> 1</td>\n",
        "      <td> 0</td>\n",
        "      <td> 0</td>\n",
        "      <td> 0</td>\n",
        "      <td> 0</td>\n",
        "      <td> 0</td>\n",
        "      <td> 0</td>\n",
        "      <td> 0</td>\n",
        "      <td> 0</td>\n",
        "      <td> 0</td>\n",
        "      <td> 0</td>\n",
        "      <td> 0</td>\n",
        "      <td> 0</td>\n",
        "      <td> 0</td>\n",
        "      <td> 1</td>\n",
        "      <td> 0</td>\n",
        "      <td> 0</td>\n",
        "      <td> 0</td>\n",
        "      <td> 0</td>\n",
        "      <td> 0</td>\n",
        "      <td> 0</td>\n",
        "      <td> 0</td>\n",
        "      <td> 0</td>\n",
        "      <td> 0</td>\n",
        "      <td> 0</td>\n",
        "      <td> 0</td>\n",
        "      <td> 0</td>\n",
        "      <td> 0</td>\n",
        "      <td> 0</td>\n",
        "      <td> 0</td>\n",
        "      <td> 0</td>\n",
        "      <td> 0</td>\n",
        "      <td> 0</td>\n",
        "      <td> 0</td>\n",
        "      <td> 0</td>\n",
        "      <td> 0</td>\n",
        "      <td> 0</td>\n",
        "      <td> 0</td>\n",
        "      <td> 0</td>\n",
        "      <td> 0</td>\n",
        "      <td> 0</td>\n",
        "      <td> 0</td>\n",
        "      <td> 0</td>\n",
        "      <td> 0</td>\n",
        "      <td> 0</td>\n",
        "      <td> 0</td>\n",
        "      <td> 0</td>\n",
        "      <td> 0</td>\n",
        "      <td> 0</td>\n",
        "      <td> 0</td>\n",
        "      <td> 0</td>\n",
        "      <td> 0</td>\n",
        "      <td> 0</td>\n",
        "      <td> 0</td>\n",
        "      <td> 0</td>\n",
        "      <td> 0</td>\n",
        "      <td> 0</td>\n",
        "      <td> 0</td>\n",
        "      <td> 22</td>\n",
        "      <td> 198</td>\n",
        "      <td> 7</td>\n",
        "      <td> 0.051394</td>\n",
        "    </tr>\n",
        "  </tbody>\n",
        "</table>\n",
        "<p>1 rows \u00d7 101 columns</p>\n",
        "</div>"
       ],
       "metadata": {},
       "output_type": "pyout",
       "prompt_number": 226,
       "text": [
        "   loan_amnt  funded_amnt  funded_amnt_inv  term  int_rate  installment  \\\n",
        "8       3600         3600             3600     0      6.03       109.57   \n",
        "\n",
        "   sub_grade  emp_length  annual_inc  is_inc_v  loan_status  zip_code    dti  \\\n",
        "8          1           0      110000         0            1        67  10.52   \n",
        "\n",
        "   delinq_2yrs  inq_last_6mths  mths_since_last_delinq  \\\n",
        "8            0               0                      -1   \n",
        "\n",
        "   mths_since_last_record  open_acc  pub_rec  revol_bal  revol_util  \\\n",
        "8                      -1        20        0      22836          16   \n",
        "\n",
        "   total_acc  total_pymnt  collections_12_mths_ex_med  \\\n",
        "8         42      3785.02                           0   \n",
        "\n",
        "   mths_since_last_major_derog  ANY  MORTGAGE  NONE  OTHER  OWN  RENT  \\\n",
        "8                           -1    0         1     0      0    0     0   \n",
        "\n",
        "   issue_month  issue_year  car  credit_card  debt_consolidation  educational  \\\n",
        "8           12        2011    0            0                   0            0   \n",
        "\n",
        "   home_improvement  house  major_purchase  medical  moving  other  \\\n",
        "8                 0      0               1        0       0      0   \n",
        "\n",
        "   renewable_energy  small_business  vacation  wedding  AK  AL  AR  AZ  CA  \\\n",
        "8                 0               0         0        0   0   0   0   0   0   \n",
        "\n",
        "   CO  CT  DC  DE  FL  GA  HI  IA  ID  IL  IN  KS  KY  LA  MA  MD  ME  MI  MN  \\\n",
        "8   0   1   0   0   0   0   0   0   0   0   0   0   0   0   0   0   0   0   0   \n",
        "\n",
        "   MO  MS  MT  NC  NE  NH  NJ  NM  NV  NY  OH  OK  OR  PA  RI  SC  SD  TN  TX  \\\n",
        "8   0   0   0   0   0   0   0   0   0   0   0   0   0   0   0   0   0   0   0   \n",
        "\n",
        "   UT  VA  VT  WA  WI  WV  WY  yrs_since_first_cr_line  desc_length  \\\n",
        "8   0   0   0   0   0   0   0                       22          198   \n",
        "\n",
        "   title_length       roi  \n",
        "8             7  0.051394  \n",
        "\n",
        "[1 rows x 101 columns]"
       ]
      }
     ],
     "prompt_number": 226
    },
    {
     "cell_type": "code",
     "collapsed": false,
     "input": [
      "plt.hist(loanData['roi'], bins=20)\n",
      "plt.show()"
     ],
     "language": "python",
     "metadata": {},
     "outputs": [
      {
       "metadata": {},
       "output_type": "display_data",
       "png": "[encoded data removed]",
       "text": [
        "<matplotlib.figure.Figure at 0x156940dd0>"
       ]
      }
     ],
     "prompt_number": 234
    },
    {
     "cell_type": "code",
     "collapsed": false,
     "input": [
      "loanData[:1]"
     ],
     "language": "python",
     "metadata": {},
     "outputs": [
      {
       "html": [
        "<div style=\"max-height:1000px;max-width:1500px;overflow:auto;\">\n",
        "<table border=\"1\" class=\"dataframe\">\n",
        "  <thead>\n",
        "    <tr style=\"text-align: right;\">\n",
        "      <th></th>\n",
        "      <th>loan_amnt</th>\n",
        "      <th>funded_amnt</th>\n",
        "      <th>funded_amnt_inv</th>\n",
        "      <th>term</th>\n",
        "      <th>int_rate</th>\n",
        "      <th>installment</th>\n",
        "      <th>sub_grade</th>\n",
        "      <th>emp_length</th>\n",
        "      <th>annual_inc</th>\n",
        "      <th>is_inc_v</th>\n",
        "      <th>loan_status</th>\n",
        "      <th>zip_code</th>\n",
        "      <th>dti</th>\n",
        "      <th>delinq_2yrs</th>\n",
        "      <th>inq_last_6mths</th>\n",
        "      <th>mths_since_last_delinq</th>\n",
        "      <th>mths_since_last_record</th>\n",
        "      <th>open_acc</th>\n",
        "      <th>pub_rec</th>\n",
        "      <th>revol_bal</th>\n",
        "      <th>revol_util</th>\n",
        "      <th>total_acc</th>\n",
        "      <th>total_pymnt</th>\n",
        "      <th>collections_12_mths_ex_med</th>\n",
        "      <th>mths_since_last_major_derog</th>\n",
        "      <th>A</th>\n",
        "      <th>B</th>\n",
        "      <th>C</th>\n",
        "      <th>D</th>\n",
        "      <th>E</th>\n",
        "      <th>F</th>\n",
        "      <th>G</th>\n",
        "      <th>ANY</th>\n",
        "      <th>MORTGAGE</th>\n",
        "      <th>NONE</th>\n",
        "      <th>OTHER</th>\n",
        "      <th>OWN</th>\n",
        "      <th>RENT</th>\n",
        "      <th>issue_month</th>\n",
        "      <th>issue_year</th>\n",
        "      <th>car</th>\n",
        "      <th>credit_card</th>\n",
        "      <th>debt_consolidation</th>\n",
        "      <th>educational</th>\n",
        "      <th>home_improvement</th>\n",
        "      <th>house</th>\n",
        "      <th>major_purchase</th>\n",
        "      <th>medical</th>\n",
        "      <th>moving</th>\n",
        "      <th>other</th>\n",
        "      <th>renewable_energy</th>\n",
        "      <th>small_business</th>\n",
        "      <th>vacation</th>\n",
        "      <th>wedding</th>\n",
        "      <th>AK</th>\n",
        "      <th>AL</th>\n",
        "      <th>AR</th>\n",
        "      <th>AZ</th>\n",
        "      <th>CA</th>\n",
        "      <th>CO</th>\n",
        "      <th>CT</th>\n",
        "      <th>DC</th>\n",
        "      <th>DE</th>\n",
        "      <th>FL</th>\n",
        "      <th>GA</th>\n",
        "      <th>HI</th>\n",
        "      <th>IA</th>\n",
        "      <th>ID</th>\n",
        "      <th>IL</th>\n",
        "      <th>IN</th>\n",
        "      <th>KS</th>\n",
        "      <th>KY</th>\n",
        "      <th>LA</th>\n",
        "      <th>MA</th>\n",
        "      <th>MD</th>\n",
        "      <th>ME</th>\n",
        "      <th>MI</th>\n",
        "      <th>MN</th>\n",
        "      <th>MO</th>\n",
        "      <th>MS</th>\n",
        "      <th>MT</th>\n",
        "      <th>NC</th>\n",
        "      <th>NE</th>\n",
        "      <th>NH</th>\n",
        "      <th>NJ</th>\n",
        "      <th>NM</th>\n",
        "      <th>NV</th>\n",
        "      <th>NY</th>\n",
        "      <th>OH</th>\n",
        "      <th>OK</th>\n",
        "      <th>OR</th>\n",
        "      <th>PA</th>\n",
        "      <th>RI</th>\n",
        "      <th>SC</th>\n",
        "      <th>SD</th>\n",
        "      <th>TN</th>\n",
        "      <th>TX</th>\n",
        "      <th>UT</th>\n",
        "      <th>VA</th>\n",
        "      <th>VT</th>\n",
        "      <th>WA</th>\n",
        "      <th>WI</th>\n",
        "      <th>WV</th>\n",
        "      <th>WY</th>\n",
        "      <th>yrs_since_first_cr_line</th>\n",
        "      <th>desc_length</th>\n",
        "      <th>title_length</th>\n",
        "      <th>roi</th>\n",
        "    </tr>\n",
        "  </thead>\n",
        "  <tbody>\n",
        "    <tr>\n",
        "      <th>0</th>\n",
        "      <td> 2500</td>\n",
        "      <td> 2500</td>\n",
        "      <td> 2500</td>\n",
        "      <td> 1</td>\n",
        "      <td> 15.27</td>\n",
        "      <td> 59.83</td>\n",
        "      <td> 4</td>\n",
        "      <td> 1</td>\n",
        "      <td> 30000</td>\n",
        "      <td> 1</td>\n",
        "      <td> 0</td>\n",
        "      <td> 309</td>\n",
        "      <td> 1</td>\n",
        "      <td> 0</td>\n",
        "      <td> 5</td>\n",
        "      <td>-1</td>\n",
        "      <td>-1</td>\n",
        "      <td> 3</td>\n",
        "      <td> 0</td>\n",
        "      <td> 1687</td>\n",
        "      <td> 9.4</td>\n",
        "      <td> 4</td>\n",
        "      <td> 1008.71</td>\n",
        "      <td> 0</td>\n",
        "      <td>-1</td>\n",
        "      <td> 0</td>\n",
        "      <td> 0</td>\n",
        "      <td> 1</td>\n",
        "      <td> 0</td>\n",
        "      <td> 0</td>\n",
        "      <td> 0</td>\n",
        "      <td> 0</td>\n",
        "      <td> 0</td>\n",
        "      <td> 0</td>\n",
        "      <td> 0</td>\n",
        "      <td> 0</td>\n",
        "      <td> 0</td>\n",
        "      <td> 1</td>\n",
        "      <td> 12</td>\n",
        "      <td> 2011</td>\n",
        "      <td> 1</td>\n",
        "      <td> 0</td>\n",
        "      <td> 0</td>\n",
        "      <td> 0</td>\n",
        "      <td> 0</td>\n",
        "      <td> 0</td>\n",
        "      <td> 0</td>\n",
        "      <td> 0</td>\n",
        "      <td> 0</td>\n",
        "      <td> 0</td>\n",
        "      <td> 0</td>\n",
        "      <td> 0</td>\n",
        "      <td> 0</td>\n",
        "      <td> 0</td>\n",
        "      <td> 0</td>\n",
        "      <td> 0</td>\n",
        "      <td> 0</td>\n",
        "      <td> 0</td>\n",
        "      <td> 0</td>\n",
        "      <td> 0</td>\n",
        "      <td> 0</td>\n",
        "      <td> 0</td>\n",
        "      <td> 0</td>\n",
        "      <td> 0</td>\n",
        "      <td> 1</td>\n",
        "      <td> 0</td>\n",
        "      <td> 0</td>\n",
        "      <td> 0</td>\n",
        "      <td> 0</td>\n",
        "      <td> 0</td>\n",
        "      <td> 0</td>\n",
        "      <td> 0</td>\n",
        "      <td> 0</td>\n",
        "      <td> 0</td>\n",
        "      <td> 0</td>\n",
        "      <td> 0</td>\n",
        "      <td> 0</td>\n",
        "      <td> 0</td>\n",
        "      <td> 0</td>\n",
        "      <td> 0</td>\n",
        "      <td> 0</td>\n",
        "      <td> 0</td>\n",
        "      <td> 0</td>\n",
        "      <td> 0</td>\n",
        "      <td> 0</td>\n",
        "      <td> 0</td>\n",
        "      <td> 0</td>\n",
        "      <td> 0</td>\n",
        "      <td> 0</td>\n",
        "      <td> 0</td>\n",
        "      <td> 0</td>\n",
        "      <td> 0</td>\n",
        "      <td> 0</td>\n",
        "      <td> 0</td>\n",
        "      <td> 0</td>\n",
        "      <td> 0</td>\n",
        "      <td> 0</td>\n",
        "      <td> 0</td>\n",
        "      <td> 0</td>\n",
        "      <td> 0</td>\n",
        "      <td> 0</td>\n",
        "      <td> 0</td>\n",
        "      <td> 0</td>\n",
        "      <td> 0</td>\n",
        "      <td> 16</td>\n",
        "      <td> 590</td>\n",
        "      <td> 4</td>\n",
        "      <td>-0.596516</td>\n",
        "    </tr>\n",
        "  </tbody>\n",
        "</table>\n",
        "<p>1 rows \u00d7 108 columns</p>\n",
        "</div>"
       ],
       "metadata": {},
       "output_type": "pyout",
       "prompt_number": 257,
       "text": [
        "   loan_amnt  funded_amnt  funded_amnt_inv  term  int_rate  installment  \\\n",
        "0       2500         2500             2500     1     15.27        59.83   \n",
        "\n",
        "   sub_grade  emp_length  annual_inc  is_inc_v  loan_status  zip_code  dti  \\\n",
        "0          4           1       30000         1            0       309    1   \n",
        "\n",
        "   delinq_2yrs  inq_last_6mths  mths_since_last_delinq  \\\n",
        "0            0               5                      -1   \n",
        "\n",
        "   mths_since_last_record  open_acc  pub_rec  revol_bal  revol_util  \\\n",
        "0                      -1         3        0       1687         9.4   \n",
        "\n",
        "   total_acc  total_pymnt  collections_12_mths_ex_med  \\\n",
        "0          4      1008.71                           0   \n",
        "\n",
        "   mths_since_last_major_derog  A  B  C  D  E  F  G  ANY  MORTGAGE  NONE  \\\n",
        "0                           -1  0  0  1  0  0  0  0    0         0     0   \n",
        "\n",
        "   OTHER  OWN  RENT  issue_month  issue_year  car  credit_card  \\\n",
        "0      0    0     1           12        2011    1            0   \n",
        "\n",
        "   debt_consolidation  educational  home_improvement  house  major_purchase  \\\n",
        "0                   0            0                 0      0               0   \n",
        "\n",
        "   medical  moving  other  renewable_energy  small_business  vacation  \\\n",
        "0        0       0      0                 0               0         0   \n",
        "\n",
        "   wedding  AK  AL  AR  AZ  CA  CO  CT  DC  DE  FL  GA  HI  IA  ID  IL  IN  \\\n",
        "0        0   0   0   0   0   0   0   0   0   0   0   1   0   0   0   0   0   \n",
        "\n",
        "   KS  KY  LA  MA  MD  ME  MI  MN  MO  MS  MT  NC  NE  NH  NJ  NM  NV  NY  OH  \\\n",
        "0   0   0   0   0   0   0   0   0   0   0   0   0   0   0   0   0   0   0   0   \n",
        "\n",
        "   OK  OR  PA  RI  SC  SD  TN  TX  UT  VA  VT  WA  WI  WV  WY  \\\n",
        "0   0   0   0   0   0   0   0   0   0   0   0   0   0   0   0   \n",
        "\n",
        "   yrs_since_first_cr_line  desc_length  title_length       roi  \n",
        "0                       16          590             4 -0.596516  \n",
        "\n",
        "[1 rows x 108 columns]"
       ]
      }
     ],
     "prompt_number": 257
    },
    {
     "cell_type": "code",
     "collapsed": false,
     "input": [],
     "language": "python",
     "metadata": {},
     "outputs": [],
     "prompt_number": 801
    },
    {
     "cell_type": "code",
     "collapsed": false,
     "input": [
      "for i,loan in enumerate(loanData):\n",
      "    print loanData['term'][i]\n",
      "    break"
     ],
     "language": "python",
     "metadata": {},
     "outputs": [
      {
       "output_type": "stream",
       "stream": "stdout",
       "text": [
        "1\n"
       ]
      }
     ],
     "prompt_number": 799
    },
    {
     "cell_type": "code",
     "collapsed": false,
     "input": [],
     "language": "python",
     "metadata": {},
     "outputs": []
    }
   ],
   "metadata": {}
  }
 ]
}