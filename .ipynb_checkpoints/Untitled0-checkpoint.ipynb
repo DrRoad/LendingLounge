{
 "metadata": {
  "name": "",
  "signature": "sha256:cd8823852fd26c73ef006e0957e3dfb765157b90d5207f44e255966a0f0110a9"
 },
 "nbformat": 3,
 "nbformat_minor": 0,
 "worksheets": []
}