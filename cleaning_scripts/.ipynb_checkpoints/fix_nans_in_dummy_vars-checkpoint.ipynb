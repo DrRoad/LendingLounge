{
 "metadata": {
  "name": "",
  "signature": "sha256:7e1f2e6fbffb9d949418c28ef0120fbdd2c6dd7cb0358354bc0ee39ce76d50cd"
 },
 "nbformat": 3,
 "nbformat_minor": 0,
 "worksheets": [
  {
   "cells": [
    {
     "cell_type": "code",
     "collapsed": false,
     "input": [
      "import pandas as pd\n",
      "import numpy as np\n",
      "from datetime import date\n",
      "from datetime import datetime\n",
      "import pickle\n",
      "from pandas.io import sql\n",
      "import pymysql as mdb\n",
      "\n"
     ],
     "language": "python",
     "metadata": {},
     "outputs": [],
     "prompt_number": 321
    },
    {
     "cell_type": "code",
     "collapsed": false,
     "input": [
      "f = open('mysql_dump.pickle', 'rb')\n",
      "loanData = pickle.load(f)\n",
      "loanData = pd.DataFrame(loanData)"
     ],
     "language": "python",
     "metadata": {},
     "outputs": []
    },
    {
     "cell_type": "code",
     "collapsed": false,
     "input": [
      "car\tcredit_card\tdebt_consolidation\teducational\thome_improvement\thouse\tmajor_purchase\tmedical\tmoving\trenewable_energy\tsmall_business\tvacation\twedding\tAK\tAL\tAR\tAZ\tCA\tCO\tCT\tDC\tDE\tFL\tGA\tHI\tIA\tIL\tIDAHO\tINDIANA\tKS\tKY\tLA\tMA\tMD\tME\tMI\tMN\tMO\tMS\tMT\tNC\tNE\tNH\tNJ\tNM\tNV\tNY\tOH\tOK\tOREGON\tPA\tRI\tSC\tSD\tTN\tTX\tUT\tVA\tVT\tWA\tWI\tWV\tWY"
     ],
     "language": "python",
     "metadata": {},
     "outputs": [
      {
       "html": [
        "<div style=\"max-height:1000px;max-width:1500px;overflow:auto;\">\n",
        "<table border=\"1\" class=\"dataframe\">\n",
        "  <thead>\n",
        "    <tr style=\"text-align: right;\">\n",
        "      <th></th>\n",
        "      <th>id</th>\n",
        "      <th>addr_state</th>\n",
        "      <th>issue_month</th>\n",
        "      <th>issue_year</th>\n",
        "      <th>unemp_rate_12mths</th>\n",
        "      <th>unemp_rate_6mths</th>\n",
        "      <th>unemp_rate_3mths</th>\n",
        "    </tr>\n",
        "  </thead>\n",
        "  <tbody>\n",
        "    <tr>\n",
        "      <th>0</th>\n",
        "      <td> 54734</td>\n",
        "      <td> CA</td>\n",
        "      <td> 8</td>\n",
        "      <td> 2009</td>\n",
        "      <td> 7.7</td>\n",
        "      <td> 10.6</td>\n",
        "      <td> 10.8</td>\n",
        "    </tr>\n",
        "  </tbody>\n",
        "</table>\n",
        "<p>1 rows \u00d7 7 columns</p>\n",
        "</div>"
       ],
       "metadata": {},
       "output_type": "pyout",
       "prompt_number": 387,
       "text": [
        "      id addr_state  issue_month  issue_year  unemp_rate_12mths  \\\n",
        "0  54734         CA            8        2009                7.7   \n",
        "\n",
        "   unemp_rate_6mths  unemp_rate_3mths  \n",
        "0              10.6              10.8  \n",
        "\n",
        "[1 rows x 7 columns]"
       ]
      }
     ],
     "prompt_number": 387
    },
    {
     "cell_type": "code",
     "collapsed": false,
     "input": [
      "unempRates = sql.read_sql(\"SELECT * FROM unemployment_rates;\", con)"
     ],
     "language": "python",
     "metadata": {},
     "outputs": [],
     "prompt_number": 327
    },
    {
     "cell_type": "code",
     "collapsed": false,
     "input": [
      "unempRates[:10]"
     ],
     "language": "python",
     "metadata": {},
     "outputs": [
      {
       "html": [
        "<div style=\"max-height:1000px;max-width:1500px;overflow:auto;\">\n",
        "<table border=\"1\" class=\"dataframe\">\n",
        "  <thead>\n",
        "    <tr style=\"text-align: right;\">\n",
        "      <th></th>\n",
        "      <th>id</th>\n",
        "      <th>state</th>\n",
        "      <th>year</th>\n",
        "      <th>month</th>\n",
        "      <th>unemp_rate</th>\n",
        "    </tr>\n",
        "  </thead>\n",
        "  <tbody>\n",
        "    <tr>\n",
        "      <th>0</th>\n",
        "      <td>  1</td>\n",
        "      <td> FL</td>\n",
        "      <td> 2012</td>\n",
        "      <td> 12</td>\n",
        "      <td> 8.0</td>\n",
        "    </tr>\n",
        "    <tr>\n",
        "      <th>1</th>\n",
        "      <td>  2</td>\n",
        "      <td> FL</td>\n",
        "      <td> 2012</td>\n",
        "      <td> 11</td>\n",
        "      <td> 8.0</td>\n",
        "    </tr>\n",
        "    <tr>\n",
        "      <th>2</th>\n",
        "      <td>  3</td>\n",
        "      <td> FL</td>\n",
        "      <td> 2012</td>\n",
        "      <td> 10</td>\n",
        "      <td> 8.3</td>\n",
        "    </tr>\n",
        "    <tr>\n",
        "      <th>3</th>\n",
        "      <td>  4</td>\n",
        "      <td> FL</td>\n",
        "      <td> 2012</td>\n",
        "      <td>  9</td>\n",
        "      <td> 8.5</td>\n",
        "    </tr>\n",
        "    <tr>\n",
        "      <th>4</th>\n",
        "      <td>  5</td>\n",
        "      <td> FL</td>\n",
        "      <td> 2012</td>\n",
        "      <td>  8</td>\n",
        "      <td> 9.1</td>\n",
        "    </tr>\n",
        "    <tr>\n",
        "      <th>5</th>\n",
        "      <td>  6</td>\n",
        "      <td> FL</td>\n",
        "      <td> 2012</td>\n",
        "      <td>  7</td>\n",
        "      <td> 9.4</td>\n",
        "    </tr>\n",
        "    <tr>\n",
        "      <th>6</th>\n",
        "      <td>  7</td>\n",
        "      <td> FL</td>\n",
        "      <td> 2012</td>\n",
        "      <td>  6</td>\n",
        "      <td> 9.2</td>\n",
        "    </tr>\n",
        "    <tr>\n",
        "      <th>7</th>\n",
        "      <td>  8</td>\n",
        "      <td> FL</td>\n",
        "      <td> 2012</td>\n",
        "      <td>  5</td>\n",
        "      <td> 8.7</td>\n",
        "    </tr>\n",
        "    <tr>\n",
        "      <th>8</th>\n",
        "      <td>  9</td>\n",
        "      <td> FL</td>\n",
        "      <td> 2012</td>\n",
        "      <td>  4</td>\n",
        "      <td> 8.4</td>\n",
        "    </tr>\n",
        "    <tr>\n",
        "      <th>9</th>\n",
        "      <td> 10</td>\n",
        "      <td> FL</td>\n",
        "      <td> 2012</td>\n",
        "      <td>  3</td>\n",
        "      <td> 8.8</td>\n",
        "    </tr>\n",
        "  </tbody>\n",
        "</table>\n",
        "<p>10 rows \u00d7 5 columns</p>\n",
        "</div>"
       ],
       "metadata": {},
       "output_type": "pyout",
       "prompt_number": 328,
       "text": [
        "   id state  year  month  unemp_rate\n",
        "0   1    FL  2012     12         8.0\n",
        "1   2    FL  2012     11         8.0\n",
        "2   3    FL  2012     10         8.3\n",
        "3   4    FL  2012      9         8.5\n",
        "4   5    FL  2012      8         9.1\n",
        "5   6    FL  2012      7         9.4\n",
        "6   7    FL  2012      6         9.2\n",
        "7   8    FL  2012      5         8.7\n",
        "8   9    FL  2012      4         8.4\n",
        "9  10    FL  2012      3         8.8\n",
        "\n",
        "[10 rows x 5 columns]"
       ]
      }
     ],
     "prompt_number": 328
    },
    {
     "cell_type": "code",
     "collapsed": false,
     "input": [
      "#Rewrite this step - extremely slow\n",
      "\n",
      "unemp_rate_12mths = []\n",
      "unemp_rate_6mths = []\n",
      "unemp_rate_3mths = []\n",
      "for i in range(len(loanData)):\n",
      "    year_i = loanData.iloc[i]['issue_year']\n",
      "    month_i = loanData.iloc[i]['issue_month']\n",
      "    state_i = loanData.iloc[i]['addr_state']\n",
      "    #12 month unemployment rate\n",
      "    unempRate_12mths_i = unempRates[(unempRates['month'] == month_i) &\n",
      "                             (unempRates['year'] == year_i - 1) & \n",
      "                             (unempRates['state'] == state_i)]['unemp_rate']\n",
      "    #6 month unemployment rate\n",
      "    if month_i <= 6:\n",
      "        unempRate_6mths_i = unempRates[(unempRates['month'] == month_i + 6) &\n",
      "                             (unempRates['year'] == year_i - 1) & \n",
      "                             (unempRates['state'] == state_i)]['unemp_rate']\n",
      "    else:\n",
      "        unempRate_6mths_i = unempRates[(unempRates['month'] == month_i - 6) &\n",
      "                             (unempRates['year'] == year_i) & \n",
      "                             (unempRates['state'] == state_i)]['unemp_rate']\n",
      "    #3 month unemployment rate\n",
      "    if month_i <= 3:\n",
      "        unempRate_3mths_i = unempRates[(unempRates['month'] == month_i + 3) &\n",
      "                             (unempRates['year'] == year_i - 1) & \n",
      "                             (unempRates['state'] == state_i)]['unemp_rate']\n",
      "    else:\n",
      "        unempRate_3mths_i = unempRates[(unempRates['month'] == month_i - 3) &\n",
      "                             (unempRates['year'] == year_i) & \n",
      "                             (unempRates['state'] == state_i)]['unemp_rate']\n",
      "    unemp_rate_12mths.append(unempRate_12mths_i)\n",
      "    unemp_rate_6mths.append(unempRate_6mths_i)\n",
      "    unemp_rate_3mths.append(unempRate_3mths_i)\n"
     ],
     "language": "python",
     "metadata": {},
     "outputs": [],
     "prompt_number": 378
    },
    {
     "cell_type": "code",
     "collapsed": false,
     "input": [
      "loanData['unemp_rate_12mths'] = unemp_rate_12mths\n",
      "loanData['unemp_rate_6mths'] = unemp_rate_6mths\n",
      "loanData['unemp_rate_3mths'] = unemp_rate_3mths"
     ],
     "language": "python",
     "metadata": {},
     "outputs": [],
     "prompt_number": 380
    },
    {
     "cell_type": "code",
     "collapsed": false,
     "input": [
      "loanData['unemp_rate_12mths'] = loanData['unemp_rate_12mths'].astype('float')\n",
      "loanData['unemp_rate_6mths'] = loanData['unemp_rate_6mths'].astype('float')\n",
      "loanData['unemp_rate_3mths'] = loanData['unemp_rate_3mths'].astype('float')"
     ],
     "language": "python",
     "metadata": {},
     "outputs": [],
     "prompt_number": 386
    },
    {
     "cell_type": "code",
     "collapsed": false,
     "input": [
      "cur = con.cursor()"
     ],
     "language": "python",
     "metadata": {},
     "outputs": [],
     "prompt_number": 391
    },
    {
     "cell_type": "code",
     "collapsed": false,
     "input": [
      "for i in range(len(loanData)):\n",
      "    sql_query = \"UPDATE completed_loans SET unemp_rate_12mths='%s', unemp_rate_6mths='%s', unemp_rate_3mths='%s' WHERE id='%s';\" %(loanData['unemp_rate_12mths'][i], loanData['unemp_rate_6mths'][i], loanData['unemp_rate_3mths'][i], loanData['id'][i])\n",
      "    cur.execute(sql_query)\n"
     ],
     "language": "python",
     "metadata": {},
     "outputs": [],
     "prompt_number": 393
    },
    {
     "cell_type": "code",
     "collapsed": false,
     "input": [
      "cur.close()"
     ],
     "language": "python",
     "metadata": {},
     "outputs": [],
     "prompt_number": 395
    },
    {
     "cell_type": "code",
     "collapsed": false,
     "input": [],
     "language": "python",
     "metadata": {},
     "outputs": []
    },
    {
     "cell_type": "code",
     "collapsed": false,
     "input": [],
     "language": "python",
     "metadata": {},
     "outputs": []
    }
   ],
   "metadata": {}
  }
 ]
}