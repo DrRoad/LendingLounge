{
 "metadata": {
  "name": "",
  "signature": "sha256:82f5fd77504b024eb5189ccec47c35c2bf19ac94494f7767d1ca6047b2a06206"
 },
 "nbformat": 3,
 "nbformat_minor": 0,
 "worksheets": [
  {
   "cells": [
    {
     "cell_type": "code",
     "collapsed": false,
     "input": [
      "import pandas as pd\n",
      "import numpy as np\n",
      "from datetime import date\n",
      "from datetime import datetime\n",
      "import pickle\n",
      "from pandas.io import sql\n",
      "import pymysql as mdb\n",
      "\n"
     ],
     "language": "python",
     "metadata": {},
     "outputs": [],
     "prompt_number": 3
    },
    {
     "cell_type": "code",
     "collapsed": false,
     "input": [
      "f = open('../mysql_dump.pickle', 'rb')\n",
      "loanData = pickle.load(f)\n",
      "loanData = pd.DataFrame(loanData)"
     ],
     "language": "python",
     "metadata": {},
     "outputs": [],
     "prompt_number": 4
    },
    {
     "cell_type": "code",
     "collapsed": false,
     "input": [
      "loanData[:1]"
     ],
     "language": "python",
     "metadata": {},
     "outputs": [
      {
       "html": [
        "<div style=\"max-height:1000px;max-width:1500px;overflow:auto;\">\n",
        "<table border=\"1\" class=\"dataframe\">\n",
        "  <thead>\n",
        "    <tr style=\"text-align: right;\">\n",
        "      <th></th>\n",
        "      <th>loan_amnt</th>\n",
        "      <th>term</th>\n",
        "      <th>int_rate</th>\n",
        "      <th>installment</th>\n",
        "      <th>emp_length</th>\n",
        "      <th>annual_inc</th>\n",
        "      <th>is_inc_v</th>\n",
        "      <th>loan_status</th>\n",
        "      <th>zip_code</th>\n",
        "      <th>dti</th>\n",
        "      <th>delinq_2yrs</th>\n",
        "      <th>inq_last_6mths</th>\n",
        "      <th>mths_since_last_delinq</th>\n",
        "      <th>mths_since_last_record</th>\n",
        "      <th>open_acc</th>\n",
        "      <th>pub_rec</th>\n",
        "      <th>revol_bal</th>\n",
        "      <th>revol_util</th>\n",
        "      <th>total_acc</th>\n",
        "      <th>collections_12_mths_ex_med</th>\n",
        "      <th></th>\n",
        "    </tr>\n",
        "  </thead>\n",
        "  <tbody>\n",
        "    <tr>\n",
        "      <th>0</th>\n",
        "      <td> 25000</td>\n",
        "      <td> 0</td>\n",
        "      <td> 11.89</td>\n",
        "      <td> 829.1</td>\n",
        "      <td> 0</td>\n",
        "      <td> 85000</td>\n",
        "      <td> 2</td>\n",
        "      <td> 1</td>\n",
        "      <td> 941</td>\n",
        "      <td> 19.48</td>\n",
        "      <td> 0</td>\n",
        "      <td> 0</td>\n",
        "      <td>-1</td>\n",
        "      <td>-1</td>\n",
        "      <td> 10</td>\n",
        "      <td> 0</td>\n",
        "      <td> 28854</td>\n",
        "      <td> 52.1</td>\n",
        "      <td> 42</td>\n",
        "      <td> 0</td>\n",
        "      <td>...</td>\n",
        "    </tr>\n",
        "  </tbody>\n",
        "</table>\n",
        "<p>1 rows \u00d7 108 columns</p>\n",
        "</div>"
       ],
       "metadata": {},
       "output_type": "pyout",
       "prompt_number": 21,
       "text": [
        "   loan_amnt  term  int_rate  installment  emp_length  annual_inc  is_inc_v  \\\n",
        "0      25000     0     11.89        829.1           0       85000         2   \n",
        "\n",
        "   loan_status  zip_code    dti  delinq_2yrs  inq_last_6mths  \\\n",
        "0            1       941  19.48            0               0   \n",
        "\n",
        "   mths_since_last_delinq  mths_since_last_record  open_acc  pub_rec  \\\n",
        "0                      -1                      -1        10        0   \n",
        "\n",
        "   revol_bal  revol_util  total_acc  collections_12_mths_ex_med      \n",
        "0      28854        52.1         42                           0 ...  \n",
        "\n",
        "[1 rows x 108 columns]"
       ]
      }
     ],
     "prompt_number": 21
    },
    {
     "cell_type": "code",
     "collapsed": false,
     "input": [
      "for col in loanData.columns:\n",
      "    unique_vals = loanData[col].unique()\n",
      "    if len(unique_vals) < 10:\n",
      "        for val in unique_vals:\n",
      "            if np.isnan(val):\n",
      "                print col"
     ],
     "language": "python",
     "metadata": {},
     "outputs": [
      {
       "output_type": "stream",
       "stream": "stdout",
       "text": [
        "none\n",
        "educational\n",
        "IA\n",
        "IDAHO\n",
        "ME\n",
        "NE\n",
        "other_housing"
       ]
      },
      {
       "output_type": "stream",
       "stream": "stdout",
       "text": [
        "\n"
       ]
      }
     ],
     "prompt_number": 19
    },
    {
     "cell_type": "code",
     "collapsed": false,
     "input": [
      "loanData['IDAHO'].unique()"
     ],
     "language": "python",
     "metadata": {},
     "outputs": [
      {
       "metadata": {},
       "output_type": "pyout",
       "prompt_number": 8,
       "text": [
        "array([  0.,  nan,   1.])"
       ]
      }
     ],
     "prompt_number": 8
    },
    {
     "cell_type": "code",
     "collapsed": false,
     "input": [
      "np.isnan(loanData['IDAHO'].unique()[1])"
     ],
     "language": "python",
     "metadata": {},
     "outputs": [
      {
       "metadata": {},
       "output_type": "pyout",
       "prompt_number": 18,
       "text": [
        "True"
       ]
      }
     ],
     "prompt_number": 18
    },
    {
     "cell_type": "code",
     "collapsed": false,
     "input": [
      "loanData['IDAHO'].unique()[1].isnan"
     ],
     "language": "python",
     "metadata": {},
     "outputs": []
    },
    {
     "cell_type": "code",
     "collapsed": false,
     "input": [],
     "language": "python",
     "metadata": {},
     "outputs": []
    }
   ],
   "metadata": {}
  }
 ]
}