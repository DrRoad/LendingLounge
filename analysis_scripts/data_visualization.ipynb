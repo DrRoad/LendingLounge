{
 "metadata": {
  "name": "",
  "signature": "sha256:46697259ac99c59325b43106840365cfbfca380ff02b3c97ed512c92900b68ec"
 },
 "nbformat": 3,
 "nbformat_minor": 0,
 "worksheets": [
  {
   "cells": [
    {
     "cell_type": "code",
     "collapsed": false,
     "input": [
      "import pandas as pd\n",
      "import numpy as np\n",
      "import glob, sys\n",
      "from datetime import date\n",
      "import pickle\n",
      "from random import randint\n",
      "\n",
      "from scipy.stats import randint as sp_randint\n",
      "import matplotlib.pyplot as plt\n",
      "\n",
      "pd.set_option('display.max_columns', 200)\n",
      "#%matplotlib inline"
     ],
     "language": "python",
     "metadata": {},
     "outputs": [],
     "prompt_number": 9
    },
    {
     "cell_type": "code",
     "collapsed": false,
     "input": [
      "f = open('data.pickle', 'rb')\n",
      "loanData = pickle.load(f)"
     ],
     "language": "python",
     "metadata": {},
     "outputs": [],
     "prompt_number": 2
    },
    {
     "cell_type": "code",
     "collapsed": false,
     "input": [
      "loanData[:1]"
     ],
     "language": "python",
     "metadata": {},
     "outputs": [
      {
       "html": [
        "<div style=\"max-height:1000px;max-width:1500px;overflow:auto;\">\n",
        "<table border=\"1\" class=\"dataframe\">\n",
        "  <thead>\n",
        "    <tr style=\"text-align: right;\">\n",
        "      <th></th>\n",
        "      <th>loan_amnt</th>\n",
        "      <th>funded_amnt</th>\n",
        "      <th>funded_amnt_inv</th>\n",
        "      <th>term</th>\n",
        "      <th>int_rate</th>\n",
        "      <th>installment</th>\n",
        "      <th>sub_grade</th>\n",
        "      <th>emp_length</th>\n",
        "      <th>annual_inc</th>\n",
        "      <th>is_inc_v</th>\n",
        "      <th>loan_status</th>\n",
        "      <th>zip_code</th>\n",
        "      <th>dti</th>\n",
        "      <th>delinq_2yrs</th>\n",
        "      <th>inq_last_6mths</th>\n",
        "      <th>mths_since_last_delinq</th>\n",
        "      <th>mths_since_last_record</th>\n",
        "      <th>open_acc</th>\n",
        "      <th>pub_rec</th>\n",
        "      <th>revol_bal</th>\n",
        "      <th>revol_util</th>\n",
        "      <th>total_acc</th>\n",
        "      <th>total_pymnt</th>\n",
        "      <th>collections_12_mths_ex_med</th>\n",
        "      <th>mths_since_last_major_derog</th>\n",
        "      <th>A</th>\n",
        "      <th>B</th>\n",
        "      <th>C</th>\n",
        "      <th>D</th>\n",
        "      <th>E</th>\n",
        "      <th>F</th>\n",
        "      <th>G</th>\n",
        "      <th>ANY</th>\n",
        "      <th>MORTGAGE</th>\n",
        "      <th>NONE</th>\n",
        "      <th>OTHER</th>\n",
        "      <th>OWN</th>\n",
        "      <th>RENT</th>\n",
        "      <th>issue_month</th>\n",
        "      <th>issue_year</th>\n",
        "      <th>car</th>\n",
        "      <th>credit_card</th>\n",
        "      <th>debt_consolidation</th>\n",
        "      <th>educational</th>\n",
        "      <th>home_improvement</th>\n",
        "      <th>house</th>\n",
        "      <th>major_purchase</th>\n",
        "      <th>medical</th>\n",
        "      <th>moving</th>\n",
        "      <th>other</th>\n",
        "      <th>renewable_energy</th>\n",
        "      <th>small_business</th>\n",
        "      <th>vacation</th>\n",
        "      <th>wedding</th>\n",
        "      <th>AK</th>\n",
        "      <th>AL</th>\n",
        "      <th>AR</th>\n",
        "      <th>AZ</th>\n",
        "      <th>CA</th>\n",
        "      <th>CO</th>\n",
        "      <th>CT</th>\n",
        "      <th>DC</th>\n",
        "      <th>DE</th>\n",
        "      <th>FL</th>\n",
        "      <th>GA</th>\n",
        "      <th>HI</th>\n",
        "      <th>IA</th>\n",
        "      <th>ID</th>\n",
        "      <th>IL</th>\n",
        "      <th>IN</th>\n",
        "      <th>KS</th>\n",
        "      <th>KY</th>\n",
        "      <th>LA</th>\n",
        "      <th>MA</th>\n",
        "      <th>MD</th>\n",
        "      <th>ME</th>\n",
        "      <th>MI</th>\n",
        "      <th>MN</th>\n",
        "      <th>MO</th>\n",
        "      <th>MS</th>\n",
        "      <th>MT</th>\n",
        "      <th>NC</th>\n",
        "      <th>NE</th>\n",
        "      <th>NH</th>\n",
        "      <th>NJ</th>\n",
        "      <th>NM</th>\n",
        "      <th>NV</th>\n",
        "      <th>NY</th>\n",
        "      <th>OH</th>\n",
        "      <th>OK</th>\n",
        "      <th>OR</th>\n",
        "      <th>PA</th>\n",
        "      <th>RI</th>\n",
        "      <th>SC</th>\n",
        "      <th>SD</th>\n",
        "      <th>TN</th>\n",
        "      <th>TX</th>\n",
        "      <th>UT</th>\n",
        "      <th>VA</th>\n",
        "      <th>VT</th>\n",
        "      <th>WA</th>\n",
        "      <th>WI</th>\n",
        "      <th>WV</th>\n",
        "      <th>WY</th>\n",
        "      <th>yrs_since_first_cr_line</th>\n",
        "      <th>desc_length</th>\n",
        "      <th>title_length</th>\n",
        "    </tr>\n",
        "  </thead>\n",
        "  <tbody>\n",
        "    <tr>\n",
        "      <th>0</th>\n",
        "      <td> 2500</td>\n",
        "      <td> 2500</td>\n",
        "      <td> 2500</td>\n",
        "      <td> 1</td>\n",
        "      <td> 15.27</td>\n",
        "      <td> 59.83</td>\n",
        "      <td> 4</td>\n",
        "      <td> 1</td>\n",
        "      <td> 30000</td>\n",
        "      <td> 1</td>\n",
        "      <td> 0</td>\n",
        "      <td> 309</td>\n",
        "      <td> 1</td>\n",
        "      <td> 0</td>\n",
        "      <td> 5</td>\n",
        "      <td>-1</td>\n",
        "      <td>-1</td>\n",
        "      <td> 3</td>\n",
        "      <td> 0</td>\n",
        "      <td> 1687</td>\n",
        "      <td> 9.4</td>\n",
        "      <td> 4</td>\n",
        "      <td> 1008.71</td>\n",
        "      <td> 0</td>\n",
        "      <td>-1</td>\n",
        "      <td> 0</td>\n",
        "      <td> 0</td>\n",
        "      <td> 1</td>\n",
        "      <td> 0</td>\n",
        "      <td> 0</td>\n",
        "      <td> 0</td>\n",
        "      <td> 0</td>\n",
        "      <td> 0</td>\n",
        "      <td> 0</td>\n",
        "      <td> 0</td>\n",
        "      <td> 0</td>\n",
        "      <td> 0</td>\n",
        "      <td> 1</td>\n",
        "      <td> 12</td>\n",
        "      <td> 2011</td>\n",
        "      <td> 1</td>\n",
        "      <td> 0</td>\n",
        "      <td> 0</td>\n",
        "      <td> 0</td>\n",
        "      <td> 0</td>\n",
        "      <td> 0</td>\n",
        "      <td> 0</td>\n",
        "      <td> 0</td>\n",
        "      <td> 0</td>\n",
        "      <td> 0</td>\n",
        "      <td> 0</td>\n",
        "      <td> 0</td>\n",
        "      <td> 0</td>\n",
        "      <td> 0</td>\n",
        "      <td> 0</td>\n",
        "      <td> 0</td>\n",
        "      <td> 0</td>\n",
        "      <td> 0</td>\n",
        "      <td> 0</td>\n",
        "      <td> 0</td>\n",
        "      <td> 0</td>\n",
        "      <td> 0</td>\n",
        "      <td> 0</td>\n",
        "      <td> 0</td>\n",
        "      <td> 1</td>\n",
        "      <td> 0</td>\n",
        "      <td> 0</td>\n",
        "      <td> 0</td>\n",
        "      <td> 0</td>\n",
        "      <td> 0</td>\n",
        "      <td> 0</td>\n",
        "      <td> 0</td>\n",
        "      <td> 0</td>\n",
        "      <td> 0</td>\n",
        "      <td> 0</td>\n",
        "      <td> 0</td>\n",
        "      <td> 0</td>\n",
        "      <td> 0</td>\n",
        "      <td> 0</td>\n",
        "      <td> 0</td>\n",
        "      <td> 0</td>\n",
        "      <td> 0</td>\n",
        "      <td> 0</td>\n",
        "      <td> 0</td>\n",
        "      <td> 0</td>\n",
        "      <td> 0</td>\n",
        "      <td> 0</td>\n",
        "      <td> 0</td>\n",
        "      <td> 0</td>\n",
        "      <td> 0</td>\n",
        "      <td> 0</td>\n",
        "      <td> 0</td>\n",
        "      <td> 0</td>\n",
        "      <td> 0</td>\n",
        "      <td> 0</td>\n",
        "      <td> 0</td>\n",
        "      <td> 0</td>\n",
        "      <td> 0</td>\n",
        "      <td> 0</td>\n",
        "      <td> 0</td>\n",
        "      <td> 0</td>\n",
        "      <td> 0</td>\n",
        "      <td> 0</td>\n",
        "      <td> 0</td>\n",
        "      <td> 16</td>\n",
        "      <td> 590</td>\n",
        "      <td> 4</td>\n",
        "    </tr>\n",
        "  </tbody>\n",
        "</table>\n",
        "<p>1 rows \u00d7 107 columns</p>\n",
        "</div>"
       ],
       "metadata": {},
       "output_type": "pyout",
       "prompt_number": 3,
       "text": [
        "   loan_amnt  funded_amnt  funded_amnt_inv  term  int_rate  installment  \\\n",
        "0       2500         2500             2500     1     15.27        59.83   \n",
        "\n",
        "  sub_grade  emp_length  annual_inc  is_inc_v  loan_status zip_code  dti  \\\n",
        "0         4           1       30000         1            0      309    1   \n",
        "\n",
        "   delinq_2yrs  inq_last_6mths  mths_since_last_delinq  \\\n",
        "0            0               5                      -1   \n",
        "\n",
        "   mths_since_last_record  open_acc  pub_rec  revol_bal  revol_util  \\\n",
        "0                      -1         3        0       1687         9.4   \n",
        "\n",
        "   total_acc  total_pymnt  collections_12_mths_ex_med  \\\n",
        "0          4      1008.71                           0   \n",
        "\n",
        "   mths_since_last_major_derog  A  B  C  D  E  F  G  ANY  MORTGAGE  NONE  \\\n",
        "0                           -1  0  0  1  0  0  0  0    0         0     0   \n",
        "\n",
        "   OTHER  OWN  RENT  issue_month  issue_year  car  credit_card  \\\n",
        "0      0    0     1           12        2011    1            0   \n",
        "\n",
        "   debt_consolidation  educational  home_improvement  house  major_purchase  \\\n",
        "0                   0            0                 0      0               0   \n",
        "\n",
        "   medical  moving  other  renewable_energy  small_business  vacation  \\\n",
        "0        0       0      0                 0               0         0   \n",
        "\n",
        "   wedding  AK  AL  AR  AZ  CA  CO  CT  DC  DE  FL  GA  HI  IA  ID  IL  IN  \\\n",
        "0        0   0   0   0   0   0   0   0   0   0   0   1   0   0   0   0   0   \n",
        "\n",
        "   KS  KY  LA  MA  MD  ME  MI  MN  MO  MS  MT  NC  NE  NH  NJ  NM  NV  NY  OH  \\\n",
        "0   0   0   0   0   0   0   0   0   0   0   0   0   0   0   0   0   0   0   0   \n",
        "\n",
        "   OK  OR  PA  RI  SC  SD  TN  TX  UT  VA  VT  WA  WI  WV  WY  \\\n",
        "0   0   0   0   0   0   0   0   0   0   0   0   0   0   0   0   \n",
        "\n",
        "   yrs_since_first_cr_line  desc_length  title_length  \n",
        "0                       16          590             4  \n",
        "\n",
        "[1 rows x 107 columns]"
       ]
      }
     ],
     "prompt_number": 3
    },
    {
     "cell_type": "code",
     "collapsed": false,
     "input": [
      "loanData[:5]"
     ],
     "language": "python",
     "metadata": {},
     "outputs": [
      {
       "html": [
        "<div style=\"max-height:1000px;max-width:1500px;overflow:auto;\">\n",
        "<table border=\"1\" class=\"dataframe\">\n",
        "  <thead>\n",
        "    <tr style=\"text-align: right;\">\n",
        "      <th></th>\n",
        "      <th>id</th>\n",
        "      <th>member_id</th>\n",
        "      <th>loan_amnt</th>\n",
        "      <th>funded_amnt</th>\n",
        "      <th>funded_amnt_inv</th>\n",
        "      <th>term</th>\n",
        "      <th>int_rate</th>\n",
        "      <th>installment</th>\n",
        "      <th>grade</th>\n",
        "      <th>sub_grade</th>\n",
        "      <th>emp_title</th>\n",
        "      <th>emp_length</th>\n",
        "      <th>home_ownership</th>\n",
        "      <th>annual_inc</th>\n",
        "      <th>is_inc_v</th>\n",
        "      <th>issue_d</th>\n",
        "      <th>loan_status</th>\n",
        "      <th>pymnt_plan</th>\n",
        "      <th>url</th>\n",
        "      <th>desc</th>\n",
        "      <th>purpose</th>\n",
        "      <th>title</th>\n",
        "      <th>zip_code</th>\n",
        "      <th>addr_state</th>\n",
        "      <th>dti</th>\n",
        "      <th>delinq_2yrs</th>\n",
        "      <th>earliest_cr_line</th>\n",
        "      <th>inq_last_6mths</th>\n",
        "      <th>mths_since_last_delinq</th>\n",
        "      <th>mths_since_last_record</th>\n",
        "      <th>open_acc</th>\n",
        "      <th>pub_rec</th>\n",
        "      <th>revol_bal</th>\n",
        "      <th>revol_util</th>\n",
        "      <th>total_acc</th>\n",
        "      <th>initial_list_status</th>\n",
        "      <th>out_prncp</th>\n",
        "      <th>out_prncp_inv</th>\n",
        "      <th>total_pymnt</th>\n",
        "      <th>total_pymnt_inv</th>\n",
        "      <th>total_rec_prncp</th>\n",
        "      <th>total_rec_int</th>\n",
        "      <th>total_rec_late_fee</th>\n",
        "      <th>recoveries</th>\n",
        "      <th>collection_recovery_fee</th>\n",
        "      <th>last_pymnt_d</th>\n",
        "      <th>last_pymnt_amnt</th>\n",
        "      <th>next_pymnt_d</th>\n",
        "      <th>last_credit_pull_d</th>\n",
        "      <th>collections_12_mths_ex_med</th>\n",
        "      <th>mths_since_last_major_derog</th>\n",
        "      <th>policy_code</th>\n",
        "      <th>desc_length</th>\n",
        "      <th>title_length</th>\n",
        "    </tr>\n",
        "  </thead>\n",
        "  <tbody>\n",
        "    <tr>\n",
        "      <th>0</th>\n",
        "      <td> 1077430</td>\n",
        "      <td> 1314167</td>\n",
        "      <td> 2500</td>\n",
        "      <td> 2500</td>\n",
        "      <td> 2500</td>\n",
        "      <td>  60 months</td>\n",
        "      <td> 15.27</td>\n",
        "      <td>  59.83</td>\n",
        "      <td> C</td>\n",
        "      <td> C4</td>\n",
        "      <td>                 Ryder</td>\n",
        "      <td>  &lt; 1 year</td>\n",
        "      <td> 0</td>\n",
        "      <td> 30000</td>\n",
        "      <td> Source Verified</td>\n",
        "      <td> Dec-2011</td>\n",
        "      <td> 0</td>\n",
        "      <td> n</td>\n",
        "      <td> https://www.lendingclub.com/browse/loanDetail....</td>\n",
        "      <td>   Borrower added on 12/22/11 &gt; I plan to use t...</td>\n",
        "      <td>                car</td>\n",
        "      <td>                                 bike</td>\n",
        "      <td> 309xx</td>\n",
        "      <td> GA</td>\n",
        "      <td>  1.00</td>\n",
        "      <td> 0</td>\n",
        "      <td> Apr-1999</td>\n",
        "      <td> 5</td>\n",
        "      <td>NaN</td>\n",
        "      <td>NaN</td>\n",
        "      <td>  3</td>\n",
        "      <td> 0</td>\n",
        "      <td> 1687</td>\n",
        "      <td>  9.4%</td>\n",
        "      <td>  4</td>\n",
        "      <td> f</td>\n",
        "      <td> 0</td>\n",
        "      <td> 0</td>\n",
        "      <td> 1008.710000</td>\n",
        "      <td> 1008.71</td>\n",
        "      <td>  456.46</td>\n",
        "      <td>  435.17</td>\n",
        "      <td> 0</td>\n",
        "      <td> 117.08</td>\n",
        "      <td> 1.11</td>\n",
        "      <td> Apr-2013</td>\n",
        "      <td>  119.66</td>\n",
        "      <td> NaN</td>\n",
        "      <td> Sep-2013</td>\n",
        "      <td> 0</td>\n",
        "      <td>NaN</td>\n",
        "      <td> 1</td>\n",
        "      <td> 590</td>\n",
        "      <td>  4</td>\n",
        "    </tr>\n",
        "    <tr>\n",
        "      <th>1</th>\n",
        "      <td> 1077175</td>\n",
        "      <td> 1313524</td>\n",
        "      <td> 2400</td>\n",
        "      <td> 2400</td>\n",
        "      <td> 2400</td>\n",
        "      <td>  36 months</td>\n",
        "      <td> 15.96</td>\n",
        "      <td>  84.33</td>\n",
        "      <td> C</td>\n",
        "      <td> C5</td>\n",
        "      <td>                   NaN</td>\n",
        "      <td> 10+ years</td>\n",
        "      <td> 0</td>\n",
        "      <td> 12252</td>\n",
        "      <td>    Not Verified</td>\n",
        "      <td> Dec-2011</td>\n",
        "      <td> 1</td>\n",
        "      <td> n</td>\n",
        "      <td> https://www.lendingclub.com/browse/loanDetail....</td>\n",
        "      <td>                                               NaN</td>\n",
        "      <td>     small_business</td>\n",
        "      <td>                 real estate business</td>\n",
        "      <td> 606xx</td>\n",
        "      <td> IL</td>\n",
        "      <td>  8.72</td>\n",
        "      <td> 0</td>\n",
        "      <td> Nov-2001</td>\n",
        "      <td> 2</td>\n",
        "      <td>NaN</td>\n",
        "      <td>NaN</td>\n",
        "      <td>  2</td>\n",
        "      <td> 0</td>\n",
        "      <td> 2956</td>\n",
        "      <td> 98.5%</td>\n",
        "      <td> 10</td>\n",
        "      <td> f</td>\n",
        "      <td> 0</td>\n",
        "      <td> 0</td>\n",
        "      <td> 3003.653644</td>\n",
        "      <td> 3003.65</td>\n",
        "      <td> 2400.00</td>\n",
        "      <td>  603.65</td>\n",
        "      <td> 0</td>\n",
        "      <td>   0.00</td>\n",
        "      <td> 0.00</td>\n",
        "      <td> Jun-2014</td>\n",
        "      <td>  649.91</td>\n",
        "      <td> NaN</td>\n",
        "      <td> Nov-2014</td>\n",
        "      <td> 0</td>\n",
        "      <td>NaN</td>\n",
        "      <td> 1</td>\n",
        "      <td>   3</td>\n",
        "      <td> 20</td>\n",
        "    </tr>\n",
        "    <tr>\n",
        "      <th>2</th>\n",
        "      <td> 1071795</td>\n",
        "      <td> 1306957</td>\n",
        "      <td> 5600</td>\n",
        "      <td> 5600</td>\n",
        "      <td> 5600</td>\n",
        "      <td>  60 months</td>\n",
        "      <td> 21.28</td>\n",
        "      <td> 152.39</td>\n",
        "      <td> F</td>\n",
        "      <td> F2</td>\n",
        "      <td>                   NaN</td>\n",
        "      <td>   4 years</td>\n",
        "      <td> 1</td>\n",
        "      <td> 40000</td>\n",
        "      <td> Source Verified</td>\n",
        "      <td> Dec-2011</td>\n",
        "      <td> 0</td>\n",
        "      <td> n</td>\n",
        "      <td> https://www.lendingclub.com/browse/loanDetail....</td>\n",
        "      <td>   Borrower added on 12/21/11 &gt; I own a small h...</td>\n",
        "      <td>     small_business</td>\n",
        "      <td> Expand Business &amp; Buy Debt Portfolio</td>\n",
        "      <td> 958xx</td>\n",
        "      <td> CA</td>\n",
        "      <td>  5.55</td>\n",
        "      <td> 0</td>\n",
        "      <td> Apr-2004</td>\n",
        "      <td> 2</td>\n",
        "      <td>NaN</td>\n",
        "      <td>NaN</td>\n",
        "      <td> 11</td>\n",
        "      <td> 0</td>\n",
        "      <td> 5210</td>\n",
        "      <td> 32.6%</td>\n",
        "      <td> 13</td>\n",
        "      <td> f</td>\n",
        "      <td> 0</td>\n",
        "      <td> 0</td>\n",
        "      <td>  646.020000</td>\n",
        "      <td>  646.02</td>\n",
        "      <td>  162.02</td>\n",
        "      <td>  294.94</td>\n",
        "      <td> 0</td>\n",
        "      <td> 189.06</td>\n",
        "      <td> 2.09</td>\n",
        "      <td> Apr-2012</td>\n",
        "      <td>  152.39</td>\n",
        "      <td> NaN</td>\n",
        "      <td> Aug-2012</td>\n",
        "      <td> 0</td>\n",
        "      <td>NaN</td>\n",
        "      <td> 1</td>\n",
        "      <td> 322</td>\n",
        "      <td> 36</td>\n",
        "    </tr>\n",
        "    <tr>\n",
        "      <th>3</th>\n",
        "      <td> 1071570</td>\n",
        "      <td> 1306721</td>\n",
        "      <td> 5375</td>\n",
        "      <td> 5375</td>\n",
        "      <td> 5350</td>\n",
        "      <td>  60 months</td>\n",
        "      <td> 12.69</td>\n",
        "      <td> 121.45</td>\n",
        "      <td> B</td>\n",
        "      <td> B5</td>\n",
        "      <td>             Starbucks</td>\n",
        "      <td>  &lt; 1 year</td>\n",
        "      <td> 0</td>\n",
        "      <td> 15000</td>\n",
        "      <td>        Verified</td>\n",
        "      <td> Dec-2011</td>\n",
        "      <td> 0</td>\n",
        "      <td> n</td>\n",
        "      <td> https://www.lendingclub.com/browse/loanDetail....</td>\n",
        "      <td>   Borrower added on 12/16/11 &gt; I'm trying to b...</td>\n",
        "      <td>              other</td>\n",
        "      <td>          Building my credit history.</td>\n",
        "      <td> 774xx</td>\n",
        "      <td> TX</td>\n",
        "      <td> 18.08</td>\n",
        "      <td> 0</td>\n",
        "      <td> Sep-2004</td>\n",
        "      <td> 0</td>\n",
        "      <td>NaN</td>\n",
        "      <td>NaN</td>\n",
        "      <td>  2</td>\n",
        "      <td> 0</td>\n",
        "      <td> 9279</td>\n",
        "      <td> 36.5%</td>\n",
        "      <td>  3</td>\n",
        "      <td> f</td>\n",
        "      <td> 0</td>\n",
        "      <td> 0</td>\n",
        "      <td> 1476.190000</td>\n",
        "      <td> 1469.34</td>\n",
        "      <td>  673.48</td>\n",
        "      <td>  533.42</td>\n",
        "      <td> 0</td>\n",
        "      <td> 269.29</td>\n",
        "      <td> 2.52</td>\n",
        "      <td> Nov-2012</td>\n",
        "      <td>  121.45</td>\n",
        "      <td> NaN</td>\n",
        "      <td> Mar-2013</td>\n",
        "      <td> 0</td>\n",
        "      <td>NaN</td>\n",
        "      <td> 1</td>\n",
        "      <td> 473</td>\n",
        "      <td> 27</td>\n",
        "    </tr>\n",
        "    <tr>\n",
        "      <th>4</th>\n",
        "      <td> 1070078</td>\n",
        "      <td> 1305201</td>\n",
        "      <td> 6500</td>\n",
        "      <td> 6500</td>\n",
        "      <td> 6500</td>\n",
        "      <td>  60 months</td>\n",
        "      <td> 14.65</td>\n",
        "      <td> 153.45</td>\n",
        "      <td> C</td>\n",
        "      <td> C3</td>\n",
        "      <td> Southwest Rural metro</td>\n",
        "      <td>   5 years</td>\n",
        "      <td> 1</td>\n",
        "      <td> 72000</td>\n",
        "      <td>    Not Verified</td>\n",
        "      <td> Dec-2011</td>\n",
        "      <td> 1</td>\n",
        "      <td> n</td>\n",
        "      <td> https://www.lendingclub.com/browse/loanDetail....</td>\n",
        "      <td>   Borrower added on 12/15/11 &gt; I had recived a...</td>\n",
        "      <td> debt_consolidation</td>\n",
        "      <td>           High intrest Consolidation</td>\n",
        "      <td> 853xx</td>\n",
        "      <td> AZ</td>\n",
        "      <td> 16.12</td>\n",
        "      <td> 0</td>\n",
        "      <td> Jan-1998</td>\n",
        "      <td> 2</td>\n",
        "      <td>NaN</td>\n",
        "      <td>NaN</td>\n",
        "      <td> 14</td>\n",
        "      <td> 0</td>\n",
        "      <td> 4032</td>\n",
        "      <td> 20.6%</td>\n",
        "      <td> 23</td>\n",
        "      <td> f</td>\n",
        "      <td> 0</td>\n",
        "      <td> 0</td>\n",
        "      <td> 7677.520000</td>\n",
        "      <td> 7677.52</td>\n",
        "      <td> 6500.00</td>\n",
        "      <td> 1177.52</td>\n",
        "      <td> 0</td>\n",
        "      <td>   0.00</td>\n",
        "      <td> 0.00</td>\n",
        "      <td> Jun-2013</td>\n",
        "      <td> 1655.54</td>\n",
        "      <td> NaN</td>\n",
        "      <td> Jul-2013</td>\n",
        "      <td> 0</td>\n",
        "      <td>NaN</td>\n",
        "      <td> 1</td>\n",
        "      <td> 253</td>\n",
        "      <td> 26</td>\n",
        "    </tr>\n",
        "  </tbody>\n",
        "</table>\n",
        "<p>5 rows \u00d7 54 columns</p>\n",
        "</div>"
       ],
       "metadata": {},
       "output_type": "pyout",
       "prompt_number": 256,
       "text": [
        "        id  member_id  loan_amnt  funded_amnt  funded_amnt_inv        term  \\\n",
        "0  1077430    1314167       2500         2500             2500   60 months   \n",
        "1  1077175    1313524       2400         2400             2400   36 months   \n",
        "2  1071795    1306957       5600         5600             5600   60 months   \n",
        "3  1071570    1306721       5375         5375             5350   60 months   \n",
        "4  1070078    1305201       6500         6500             6500   60 months   \n",
        "\n",
        "   int_rate  installment grade sub_grade              emp_title emp_length  \\\n",
        "0     15.27        59.83     C        C4                  Ryder   < 1 year   \n",
        "1     15.96        84.33     C        C5                    NaN  10+ years   \n",
        "2     21.28       152.39     F        F2                    NaN    4 years   \n",
        "3     12.69       121.45     B        B5              Starbucks   < 1 year   \n",
        "4     14.65       153.45     C        C3  Southwest Rural metro    5 years   \n",
        "\n",
        "   home_ownership  annual_inc         is_inc_v   issue_d  loan_status  \\\n",
        "0               0       30000  Source Verified  Dec-2011            0   \n",
        "1               0       12252     Not Verified  Dec-2011            1   \n",
        "2               1       40000  Source Verified  Dec-2011            0   \n",
        "3               0       15000         Verified  Dec-2011            0   \n",
        "4               1       72000     Not Verified  Dec-2011            1   \n",
        "\n",
        "  pymnt_plan                                                url  \\\n",
        "0          n  https://www.lendingclub.com/browse/loanDetail....   \n",
        "1          n  https://www.lendingclub.com/browse/loanDetail....   \n",
        "2          n  https://www.lendingclub.com/browse/loanDetail....   \n",
        "3          n  https://www.lendingclub.com/browse/loanDetail....   \n",
        "4          n  https://www.lendingclub.com/browse/loanDetail....   \n",
        "\n",
        "                                                desc             purpose  \\\n",
        "0    Borrower added on 12/22/11 > I plan to use t...                 car   \n",
        "1                                                NaN      small_business   \n",
        "2    Borrower added on 12/21/11 > I own a small h...      small_business   \n",
        "3    Borrower added on 12/16/11 > I'm trying to b...               other   \n",
        "4    Borrower added on 12/15/11 > I had recived a...  debt_consolidation   \n",
        "\n",
        "                                  title zip_code addr_state    dti  \\\n",
        "0                                  bike    309xx         GA   1.00   \n",
        "1                  real estate business    606xx         IL   8.72   \n",
        "2  Expand Business & Buy Debt Portfolio    958xx         CA   5.55   \n",
        "3           Building my credit history.    774xx         TX  18.08   \n",
        "4            High intrest Consolidation    853xx         AZ  16.12   \n",
        "\n",
        "   delinq_2yrs earliest_cr_line  inq_last_6mths  mths_since_last_delinq  \\\n",
        "0            0         Apr-1999               5                     NaN   \n",
        "1            0         Nov-2001               2                     NaN   \n",
        "2            0         Apr-2004               2                     NaN   \n",
        "3            0         Sep-2004               0                     NaN   \n",
        "4            0         Jan-1998               2                     NaN   \n",
        "\n",
        "   mths_since_last_record  open_acc  pub_rec  revol_bal revol_util  total_acc  \\\n",
        "0                     NaN         3        0       1687       9.4%          4   \n",
        "1                     NaN         2        0       2956      98.5%         10   \n",
        "2                     NaN        11        0       5210      32.6%         13   \n",
        "3                     NaN         2        0       9279      36.5%          3   \n",
        "4                     NaN        14        0       4032      20.6%         23   \n",
        "\n",
        "  initial_list_status  out_prncp  out_prncp_inv  total_pymnt  total_pymnt_inv  \\\n",
        "0                   f          0              0  1008.710000          1008.71   \n",
        "1                   f          0              0  3003.653644          3003.65   \n",
        "2                   f          0              0   646.020000           646.02   \n",
        "3                   f          0              0  1476.190000          1469.34   \n",
        "4                   f          0              0  7677.520000          7677.52   \n",
        "\n",
        "   total_rec_prncp  total_rec_int  total_rec_late_fee  recoveries  \\\n",
        "0           456.46         435.17                   0      117.08   \n",
        "1          2400.00         603.65                   0        0.00   \n",
        "2           162.02         294.94                   0      189.06   \n",
        "3           673.48         533.42                   0      269.29   \n",
        "4          6500.00        1177.52                   0        0.00   \n",
        "\n",
        "   collection_recovery_fee last_pymnt_d  last_pymnt_amnt next_pymnt_d  \\\n",
        "0                     1.11     Apr-2013           119.66          NaN   \n",
        "1                     0.00     Jun-2014           649.91          NaN   \n",
        "2                     2.09     Apr-2012           152.39          NaN   \n",
        "3                     2.52     Nov-2012           121.45          NaN   \n",
        "4                     0.00     Jun-2013          1655.54          NaN   \n",
        "\n",
        "  last_credit_pull_d  collections_12_mths_ex_med  mths_since_last_major_derog  \\\n",
        "0           Sep-2013                           0                          NaN   \n",
        "1           Nov-2014                           0                          NaN   \n",
        "2           Aug-2012                           0                          NaN   \n",
        "3           Mar-2013                           0                          NaN   \n",
        "4           Jul-2013                           0                          NaN   \n",
        "\n",
        "   policy_code  desc_length  title_length  \n",
        "0            1          590             4  \n",
        "1            1            3            20  \n",
        "2            1          322            36  \n",
        "3            1          473            27  \n",
        "4            1          253            26  \n",
        "\n",
        "[5 rows x 54 columns]"
       ]
      }
     ],
     "prompt_number": 256
    },
    {
     "cell_type": "code",
     "collapsed": false,
     "input": [
      "plt.hist(loanData['dti'], bins=20)\n",
      "plt.hist(loanData['int_rate'], bins=20, color='red')\n",
      "plt.title('loan_amnt')\n",
      "plt.xlabel('loan_amnt')\n",
      "plt.ylabel('count')\n",
      "plt.show()"
     ],
     "language": "python",
     "metadata": {},
     "outputs": [
      {
       "metadata": {},
       "output_type": "display_data",
       "png": "[encoded data removed]",
       "text": [
        "<matplotlib.figure.Figure at 0x111b79990>"
       ]
      }
     ],
     "prompt_number": 10
    },
    {
     "cell_type": "code",
     "collapsed": false,
     "input": [
      "plt.hist(loanData['funded_amnt'], bins=20)\n",
      "plt.title('funded_amnt')\n",
      "plt.xlabel('funded_amnt')\n",
      "plt.ylabel('count')\n",
      "plt.show()"
     ],
     "language": "python",
     "metadata": {},
     "outputs": [
      {
       "metadata": {},
       "output_type": "display_data",
       "png": "[encoded data removed]",
       "text": [
        "<matplotlib.figure.Figure at 0x113b17f90>"
       ]
      }
     ],
     "prompt_number": 17
    },
    {
     "cell_type": "code",
     "collapsed": false,
     "input": [
      "plt.hist(loanData['funded_amnt_inv'], bins=20)\n",
      "plt.title('funded_amnt_inv')\n",
      "plt.xlabel('funded_amnt_inv')\n",
      "plt.ylabel('count')\n",
      "plt.show()"
     ],
     "language": "python",
     "metadata": {},
     "outputs": [
      {
       "metadata": {},
       "output_type": "display_data",
       "png": "[encoded data removed]",
       "text": [
        "<matplotlib.figure.Figure at 0x113b0d9d0>"
       ]
      }
     ],
     "prompt_number": 18
    },
    {
     "cell_type": "code",
     "collapsed": false,
     "input": [
      "term = loanData['term']\n",
      "term = [0 if x == ' 36 months' else x for x in term]\n",
      "term = [1 if x == ' 60 months' else x for x in term]\n",
      "term[:10]\n"
     ],
     "language": "python",
     "metadata": {},
     "outputs": [
      {
       "metadata": {},
       "output_type": "pyout",
       "prompt_number": 28,
       "text": [
        "[1, 0, 1, 1, 1, 0, 0, 0, 0, 0]"
       ]
      }
     ],
     "prompt_number": 28
    },
    {
     "cell_type": "code",
     "collapsed": false,
     "input": [
      "plt.hist(term, bins=3)\n",
      "plt.title('term')\n",
      "plt.xlabel('term')\n",
      "plt.ylabel('count')\n",
      "plt.xticks([0.2, 0.8], ['36 months', '60 months'])\n",
      "plt.show()"
     ],
     "language": "python",
     "metadata": {},
     "outputs": [
      {
       "metadata": {},
       "output_type": "display_data",
       "png": "[encoded data removed]",
       "text": [
        "<matplotlib.figure.Figure at 0x1327e20d0>"
       ]
      }
     ],
     "prompt_number": 32
    },
    {
     "cell_type": "code",
     "collapsed": false,
     "input": [
      "plt.hist(loanData['int_rate'], bins=20)\n",
      "plt.title('int_rate')\n",
      "plt.xlabel('int_rate')\n",
      "plt.ylabel('count')\n",
      "plt.show()"
     ],
     "language": "python",
     "metadata": {},
     "outputs": [
      {
       "metadata": {},
       "output_type": "display_data",
       "png": "[encoded data removed]",
       "text": [
        "<matplotlib.figure.Figure at 0x126104c10>"
       ]
      }
     ],
     "prompt_number": 33
    },
    {
     "cell_type": "code",
     "collapsed": false,
     "input": [
      "#Interest rate vs loan amount\n",
      "#bins are:\n",
      "#$0-$5000\n",
      "#5001-10000\n",
      "#10001-15000\n",
      "#15001-20000\n",
      "#20001-25000\n",
      "#25001-30000\n",
      "#30001-35000\n",
      "mean_loan_amnts = []\n",
      "mean_int_rates = []\n",
      "std_int_rates = []\n",
      "loan_amnt_bins = np.arange(5000, 35000, 5000)\n",
      "for p in loan_amnt_bins:\n",
      "    loans = loanData[loanData['loan_amnt'] <= p]\n",
      "    loans = loans[loans['loan_amnt'] >(p-5000)]\n",
      "    mean_int_rate = loans['int_rate'].mean(axis=1)\n",
      "    std_int_rate = loans['int_rate'].std(axis=1)\n",
      "    mean_int_rates.append(mean_int_rate)\n",
      "    std_int_rates.append(std_int_rate)\n",
      "    \n",
      "    print mean_int_rate\n",
      "    print std_int_rate\n",
      "plt.plot(loan_amnt_bins, mean_int_rates)\n",
      "plt.errorbar(loan_amnt_bins, mean_int_rates, yerr=std_int_rates)\n",
      "plt.title('int_rate vs loan_amnt')\n",
      "plt.xlabel('loan_amnt')\n",
      "plt.ylabel('int_rate')"
     ],
     "language": "python",
     "metadata": {},
     "outputs": [
      {
       "output_type": "stream",
       "stream": "stdout",
       "text": [
        "12.6318737282\n",
        "4.15011315304\n",
        "12.6100667444"
       ]
      },
      {
       "output_type": "stream",
       "stream": "stdout",
       "text": [
        "\n",
        "3.85312140692\n",
        "13.217937437"
       ]
      },
      {
       "output_type": "stream",
       "stream": "stdout",
       "text": [
        "\n",
        "4.08372345972\n",
        "14.4794903047"
       ]
      },
      {
       "output_type": "stream",
       "stream": "stdout",
       "text": [
        "\n",
        "4.45687680387\n",
        "14.8406188266"
       ]
      },
      {
       "output_type": "stream",
       "stream": "stdout",
       "text": [
        "\n",
        "4.67848657241\n",
        "16.6124912281"
       ]
      },
      {
       "output_type": "stream",
       "stream": "stdout",
       "text": [
        "\n",
        "4.82642541267\n"
       ]
      },
      {
       "metadata": {},
       "output_type": "pyout",
       "prompt_number": 64,
       "text": [
        "<matplotlib.text.Text at 0x11ebd36d0>"
       ]
      },
      {
       "metadata": {},
       "output_type": "display_data",
       "png": "[encoded data removed]",
       "text": [
        "<matplotlib.figure.Figure at 0x11ecab110>"
       ]
      }
     ],
     "prompt_number": 64
    },
    {
     "cell_type": "code",
     "collapsed": false,
     "input": [
      "plt.hist(loanData['installment'], bins=20)\n",
      "plt.title('installment')\n",
      "plt.xlabel('installment')\n",
      "plt.ylabel('count')\n",
      "plt.show()"
     ],
     "language": "python",
     "metadata": {},
     "outputs": [
      {
       "output_type": "stream",
       "stream": "stdout",
       "text": [
        "ERROR! Session/line number was not unique in database. History logging moved to new session 23\n"
       ]
      },
      {
       "metadata": {},
       "output_type": "display_data",
       "png": "[encoded data removed]",
       "text": [
        "<matplotlib.figure.Figure at 0x1327c7990>"
       ]
      }
     ],
     "prompt_number": 39
    },
    {
     "cell_type": "code",
     "collapsed": false,
     "input": [
      "#home_ownership\n",
      "home_ownership_labels = loanData['home_ownership'].unique()\n",
      "ownership_dict = dict(zip(loanData['home_ownership'].unique(), np.arange(loanData['home_ownership'].nunique())))\n",
      "loanData['home_ownership'] = loanData['home_ownership'].map(lambda x: ownership_dict[x])\n",
      "\n",
      "h_loan_amnts = []\n",
      "mean_h_int_rates = []\n",
      "std_h_int_rates = []\n",
      "h_bins = loanData['home_ownership'].unique()\n",
      "for p in h_bins:\n",
      "    loans = loanData[loanData['home_ownership'] == p]\n",
      "    mean_int_rate = loans['int_rate'].mean(axis=1)\n",
      "    std_int_rate = loans['int_rate'].std(axis=1)\n",
      "    mean_h_int_rates.append(mean_int_rate)\n",
      "    std_h_int_rates.append(std_int_rate)\n",
      "    \n",
      "    print mean_int_rate\n",
      "    print std_int_rate"
     ],
     "language": "python",
     "metadata": {},
     "outputs": [
      {
       "output_type": "stream",
       "stream": "stdout",
       "text": [
        "13.7823507385\n",
        "4.2260541279\n",
        "13.6057946395\n",
        "4.46290013399\n",
        "13.2770507278"
       ]
      },
      {
       "output_type": "stream",
       "stream": "stdout",
       "text": [
        "\n",
        "4.46475721023\n",
        "12.9421088435\n",
        "3.03204398514\n",
        "13.2268\n",
        "4.88215348659\n",
        "11.67\n",
        "nan\n"
       ]
      }
     ],
     "prompt_number": 145
    },
    {
     "cell_type": "code",
     "collapsed": false,
     "input": [
      "plt.plot(h_bins, mean_h_int_rates)\n",
      "plt.errorbar(h_bins, mean_h_int_rates, yerr=std_h_int_rates)\n",
      "plt.title('int_rate vs home_ownership')\n",
      "plt.xlabel('home_ownership')\n",
      "plt.xticks([0,1,2,3,4,5], home_ownership_labels)\n",
      "plt.ylabel('int_rate')"
     ],
     "language": "python",
     "metadata": {},
     "outputs": [
      {
       "metadata": {},
       "output_type": "pyout",
       "prompt_number": 133,
       "text": [
        "<matplotlib.text.Text at 0x11de12190>"
       ]
      },
      {
       "metadata": {},
       "output_type": "display_data",
       "png": "[encoded data removed]",
       "text": [
        "<matplotlib.figure.Figure at 0x11ddeab90>"
       ]
      }
     ],
     "prompt_number": 133
    },
    {
     "cell_type": "code",
     "collapsed": false,
     "input": [
      "#binarize loan status\n",
      "loanData['loan_status'] = [0 if x in ['Charged Off',\n",
      "\t\t\t\t\t\t\t\t      'Does not meet the credit policy.  Status:Charged Off',\n",
      "                                      'Default', \n",
      "                                      'Does not meet the credit policy.  Status:Default'] \n",
      "                                       else 1 for x in loanData['loan_status'] ]\n",
      "\n"
     ],
     "language": "python",
     "metadata": {},
     "outputs": [],
     "prompt_number": 141
    },
    {
     "cell_type": "code",
     "collapsed": false,
     "input": [
      "loans = loanData[loanData['grade'] == 'G']\n",
      "pd.value_counts(loans.loan_status.ravel()) "
     ],
     "language": "python",
     "metadata": {},
     "outputs": [
      {
       "metadata": {},
       "output_type": "pyout",
       "prompt_number": 142,
       "text": [
        "1    551\n",
        "0    337\n",
        "dtype: int64"
       ]
      }
     ],
     "prompt_number": 142
    },
    {
     "cell_type": "code",
     "collapsed": false,
     "input": [
      "mean_default_rates = []\n",
      "mean_default = 0\n",
      "h_bins = loanData['home_ownership'].unique()\n",
      "for p in h_bins:\n",
      "    loans = loanData[loanData['home_ownership'] == p]\n",
      "    mean_default_rate = 1 - loans['loan_status'].mean(axis=1)\n",
      "    mean_default_rates.append(mean_default_rate)\n",
      "    mean_default += mean_default_rate\n",
      "    print mean_default_rate\n",
      "mean_default = mean_default/len(h_bins)\n",
      "\n",
      "plt.plot(h_bins, mean_default_rates)\n",
      "plt.plot([0,5], [mean_default, mean_default], '--', color='black')\n",
      "plt.title('Default Rate vs home_ownership')\n",
      "plt.xlabel('home_ownership')\n",
      "plt.xticks([0,1,2,3,4,5], home_ownership_labels)\n",
      "plt.ylabel('Default Rate')"
     ],
     "language": "python",
     "metadata": {},
     "outputs": [
      {
       "output_type": "stream",
       "stream": "stdout",
       "text": [
        "0.20823798627\n",
        "0.192902982257"
       ]
      },
      {
       "output_type": "stream",
       "stream": "stdout",
       "text": [
        "\n",
        "0.16598792891"
       ]
      },
      {
       "output_type": "stream",
       "stream": "stdout",
       "text": [
        "\n",
        "0.224489795918\n",
        "0.2\n",
        "0.0\n"
       ]
      },
      {
       "metadata": {},
       "output_type": "pyout",
       "prompt_number": 146,
       "text": [
        "<matplotlib.text.Text at 0x118075c10>"
       ]
      },
      {
       "metadata": {},
       "output_type": "display_data",
       "png": "[encoded data removed]",
       "text": [
        "<matplotlib.figure.Figure at 0x11ca08a10>"
       ]
      }
     ],
     "prompt_number": 146
    },
    {
     "cell_type": "code",
     "collapsed": false,
     "input": [
      "#A Loans\n",
      "mean_default_rates = []\n",
      "mean_default = 0\n",
      "h_bins = loanData['home_ownership'].unique()\n",
      "for p in h_bins:\n",
      "    loans = loanData[loanData['home_ownership'] == p]\n",
      "    loans = loans[loans['grade'] == 'A']\n",
      "    mean_default_rate = 1 - loans['loan_status'].mean(axis=1)\n",
      "    mean_default_rates.append(mean_default_rate)\n",
      "    mean_default += mean_default_rate\n",
      "    print mean_default_rate\n",
      "mean_default = mean_default/len(h_bins)\n",
      "\n",
      "plt.plot(h_bins, mean_default_rates)\n",
      "plt.plot([0,5], [mean_default, mean_default], '--', color='black')\n",
      "plt.title('Grade A Loans: Default Rate vs home_ownership')\n",
      "plt.xlabel('home_ownership')\n",
      "plt.xticks([0,1,2,3,4,5], home_ownership_labels)\n",
      "plt.ylabel('Default Rate')"
     ],
     "language": "python",
     "metadata": {},
     "outputs": [
      {
       "output_type": "stream",
       "stream": "stdout",
       "text": [
        "0.0906415538552\n",
        "0.0807947019868\n",
        "0.0642566388835"
       ]
      },
      {
       "output_type": "stream",
       "stream": "stdout",
       "text": [
        "\n",
        "0.08\n",
        "0.0\n",
        "nan\n"
       ]
      },
      {
       "metadata": {},
       "output_type": "pyout",
       "prompt_number": 147,
       "text": [
        "<matplotlib.text.Text at 0x118143a10>"
       ]
      },
      {
       "metadata": {},
       "output_type": "display_data",
       "png": "[encoded data removed]",
       "text": [
        "<matplotlib.figure.Figure at 0x11807f610>"
       ]
      }
     ],
     "prompt_number": 147
    },
    {
     "cell_type": "code",
     "collapsed": false,
     "input": [
      "#B Loans\n",
      "mean_default_rates = []\n",
      "mean_default = 0\n",
      "h_bins = loanData['home_ownership'].unique()\n",
      "for p in h_bins:\n",
      "    loans = loanData[loanData['home_ownership'] == p]\n",
      "    loans = loans[loans['grade'] == 'B']\n",
      "    mean_default_rate = 1 - loans['loan_status'].mean(axis=1)\n",
      "    mean_default_rates.append(mean_default_rate)\n",
      "    mean_default += mean_default_rate\n",
      "    print mean_default_rate\n",
      "mean_default = mean_default/len(h_bins)\n",
      "\n",
      "plt.plot(h_bins, mean_default_rates)\n",
      "plt.plot([0,5], [mean_default, mean_default], '--', color='black')\n",
      "plt.title('Grade B Loans: Default Rate vs home_ownership')\n",
      "plt.xlabel('home_ownership')\n",
      "plt.xticks([0,1,2,3,4,5], home_ownership_labels)\n",
      "plt.ylabel('Default Rate')"
     ],
     "language": "python",
     "metadata": {},
     "outputs": [
      {
       "output_type": "stream",
       "stream": "stdout",
       "text": [
        "0.162239162239\n",
        "0.144815766924\n",
        "0.134072171915"
       ]
      },
      {
       "output_type": "stream",
       "stream": "stdout",
       "text": [
        "\n",
        "0.261904761905\n",
        "0.428571428571\n",
        "0.0\n"
       ]
      },
      {
       "metadata": {},
       "output_type": "pyout",
       "prompt_number": 96,
       "text": [
        "<matplotlib.text.Text at 0x1149b9750>"
       ]
      },
      {
       "metadata": {},
       "output_type": "display_data",
       "png": "[encoded data removed]",
       "text": [
        "<matplotlib.figure.Figure at 0x116048050>"
       ]
      }
     ],
     "prompt_number": 96
    },
    {
     "cell_type": "code",
     "collapsed": false,
     "input": [
      "#C Loans\n",
      "mean_default_rates = []\n",
      "mean_default = 0\n",
      "h_bins = loanData['home_ownership'].unique()\n",
      "for p in h_bins:\n",
      "    loans = loanData[loanData['home_ownership'] == p]\n",
      "    loans = loans[loans['grade'] == 'G']\n",
      "    mean_default_rate = 1 - loans['loan_status'].mean(axis=1)\n",
      "    mean_default_rates.append(mean_default_rate)\n",
      "    mean_default += mean_default_rate\n",
      "    print mean_default_rate\n",
      "mean_default = mean_default/len(h_bins)\n",
      "\n",
      "plt.plot(h_bins, mean_default_rates)\n",
      "plt.plot([0,5], [mean_default, mean_default], '--', color='black')\n",
      "plt.title('Grade G Loans: Default Rate vs home_ownership')\n",
      "plt.xlabel('home_ownership')\n",
      "plt.xticks([0,1,2,3,4,5], home_ownership_labels)\n",
      "plt.ylabel('Default Rate')"
     ],
     "language": "python",
     "metadata": {},
     "outputs": [
      {
       "output_type": "stream",
       "stream": "stdout",
       "text": [
        "0.398328690808\n",
        "0.479452054795\n",
        "0.347438752784"
       ]
      },
      {
       "output_type": "stream",
       "stream": "stdout",
       "text": [
        "\n",
        "0.428571428571\n",
        "nan\n",
        "nan\n"
       ]
      },
      {
       "metadata": {},
       "output_type": "pyout",
       "prompt_number": 152,
       "text": [
        "<matplotlib.text.Text at 0x118367c50>"
       ]
      },
      {
       "metadata": {},
       "output_type": "display_data",
       "png": "[encoded data removed]",
       "text": [
        "<matplotlib.figure.Figure at 0x118434690>"
       ]
      }
     ],
     "prompt_number": 152
    },
    {
     "cell_type": "code",
     "collapsed": false,
     "input": [
      "#loan amount vs grade\n",
      "#home_ownership\n",
      "grade_labels = loanData['grade'].unique()\n",
      "grade_dict = dict(zip(loanData['grade'].unique(), np.arange(loanData['grade'].nunique())))\n",
      "loanData['grade'] = loanData['grade'].map(lambda x: grade_dict[x])\n",
      "\n",
      "h_loan_amnts = []\n",
      "mean_g_int_rates = []\n",
      "std_g_int_rates = []\n",
      "mean_g_loan_amnt = []\n",
      "std_g_loan_amnt = []\n",
      "g_bins = loanData['grade'].unique()\n",
      "for p in g_bins:\n",
      "    loans = loanData[loanData['grade'] == p]\n",
      "    mean_int_rate = loans['int_rate'].mean(axis=1)\n",
      "    std_int_rate = loans['int_rate'].std(axis=1)\n",
      "    mean_g_int_rates.append(mean_int_rate)\n",
      "    std_g_int_rates.append(std_int_rate)\n",
      "    \n",
      "    mean_loan_amnt = loans['loan_amnt'].mean(axis=1)\n",
      "    std_loan_amnt = loans['loan_amnt'].std(axis=1)\n",
      "    mean_g_loan_amnt.append(mean_loan_amnt)\n",
      "    std_g_loan_amnt.append(std_loan_amnt)\n",
      "    \n",
      "    print mean_loan_amnt\n",
      "    print std_loan_amnt\n",
      "    "
     ],
     "language": "python",
     "metadata": {},
     "outputs": [
      {
       "output_type": "stream",
       "stream": "stdout",
       "text": [
        "12458.2368973\n",
        "7728.76249008\n",
        "19032.4185384\n",
        "9374.48050941\n",
        "11780.7467931"
       ]
      },
      {
       "output_type": "stream",
       "stream": "stdout",
       "text": [
        "\n",
        "6917.03036258\n",
        "10506.7163379"
       ]
      },
      {
       "output_type": "stream",
       "stream": "stdout",
       "text": [
        "\n",
        "6542.81216026\n",
        "13315.1891099"
       ]
      },
      {
       "output_type": "stream",
       "stream": "stdout",
       "text": [
        "\n",
        "8368.19648824\n",
        "16936.6865547"
       ]
      },
      {
       "output_type": "stream",
       "stream": "stdout",
       "text": [
        "\n",
        "9662.61138876\n",
        "19960.2759009"
       ]
      },
      {
       "output_type": "stream",
       "stream": "stdout",
       "text": [
        "\n",
        "9151.3387989\n"
       ]
      }
     ],
     "prompt_number": 128
    },
    {
     "cell_type": "code",
     "collapsed": false,
     "input": [
      "\n",
      "\n",
      "plt.plot(g_bins, mean_g_loan_amnt)\n",
      "#plt.plot([0,5], [mean_default, mean_default], '--', color='black')\n",
      "plt.title('Mean Loan Amount vs Grade')\n",
      "plt.xlabel('Grade')\n",
      "plt.xticks([0,1,2,3,4,5,6], ['A','B','C','D','E','F','G'])\n",
      "plt.ylabel('Loan Amount')"
     ],
     "language": "python",
     "metadata": {},
     "outputs": [
      {
       "metadata": {},
       "output_type": "pyout",
       "prompt_number": 131,
       "text": [
        "<matplotlib.text.Text at 0x11ba89110>"
       ]
      },
      {
       "metadata": {},
       "output_type": "display_data",
       "png": "[encoded data removed]",
       "text": [
        "<matplotlib.figure.Figure at 0x11ba66890>"
       ]
      }
     ],
     "prompt_number": 131
    },
    {
     "cell_type": "code",
     "collapsed": false,
     "input": [
      "#default rate in $\n",
      "total_money = loanData['loan_amnt'].sum(axis=1)"
     ],
     "language": "python",
     "metadata": {},
     "outputs": [],
     "prompt_number": 158
    },
    {
     "cell_type": "code",
     "collapsed": false,
     "input": [
      "loans = loanData[loanData['loan_status'] == 0]"
     ],
     "language": "python",
     "metadata": {},
     "outputs": [],
     "prompt_number": 154
    },
    {
     "cell_type": "code",
     "collapsed": false,
     "input": [
      "default_money = loans['loan_amnt'].sum(axis=1)"
     ],
     "language": "python",
     "metadata": {},
     "outputs": [],
     "prompt_number": 159
    },
    {
     "cell_type": "code",
     "collapsed": false,
     "input": [
      "(default_money*1.0)/total_money"
     ],
     "language": "python",
     "metadata": {},
     "outputs": [
      {
       "metadata": {},
       "output_type": "pyout",
       "prompt_number": 160,
       "text": [
        "0.20065288546273222"
       ]
      }
     ],
     "prompt_number": 160
    },
    {
     "cell_type": "code",
     "collapsed": false,
     "input": [
      "total_money"
     ],
     "language": "python",
     "metadata": {},
     "outputs": [
      {
       "metadata": {},
       "output_type": "pyout",
       "prompt_number": 161,
       "text": [
        "1252692925.0"
       ]
      }
     ],
     "prompt_number": 161
    },
    {
     "cell_type": "code",
     "collapsed": false,
     "input": [
      "default_money"
     ],
     "language": "python",
     "metadata": {},
     "outputs": [
      {
       "metadata": {},
       "output_type": "pyout",
       "prompt_number": 162,
       "text": [
        "251356450.0"
       ]
      }
     ],
     "prompt_number": 162
    },
    {
     "cell_type": "code",
     "collapsed": false,
     "input": [
      "loanData['sub_grade'].unique()"
     ],
     "language": "python",
     "metadata": {},
     "outputs": [
      {
       "metadata": {},
       "output_type": "pyout",
       "prompt_number": 179,
       "text": [
        "array([C4, C5, F2, B5, C3, C1, B2, A1, B4, B3, B1, C2, D2, A4, E4, D3, D4,\n",
        "       F3, D1, A5, F1, E5, A3, A2, E1, E3, G4, E2, D5, G2, F5, F4, G5, G1,\n",
        "       G3], dtype=object)"
       ]
      }
     ],
     "prompt_number": 179
    },
    {
     "cell_type": "code",
     "collapsed": false,
     "input": [
      "loanData[:1]"
     ],
     "language": "python",
     "metadata": {},
     "outputs": [
      {
       "html": [
        "<div style=\"max-height:1000px;max-width:1500px;overflow:auto;\">\n",
        "<table border=\"1\" class=\"dataframe\">\n",
        "  <thead>\n",
        "    <tr style=\"text-align: right;\">\n",
        "      <th></th>\n",
        "      <th>id</th>\n",
        "      <th>member_id</th>\n",
        "      <th>loan_amnt</th>\n",
        "      <th>funded_amnt</th>\n",
        "      <th>funded_amnt_inv</th>\n",
        "      <th>term</th>\n",
        "      <th>int_rate</th>\n",
        "      <th>installment</th>\n",
        "      <th>grade</th>\n",
        "      <th>sub_grade</th>\n",
        "      <th>emp_title</th>\n",
        "      <th>emp_length</th>\n",
        "      <th>home_ownership</th>\n",
        "      <th>annual_inc</th>\n",
        "      <th>is_inc_v</th>\n",
        "      <th>issue_d</th>\n",
        "      <th>loan_status</th>\n",
        "      <th>pymnt_plan</th>\n",
        "      <th>url</th>\n",
        "      <th>desc</th>\n",
        "      <th>purpose</th>\n",
        "      <th>title</th>\n",
        "      <th>zip_code</th>\n",
        "      <th>addr_state</th>\n",
        "      <th>dti</th>\n",
        "      <th>delinq_2yrs</th>\n",
        "      <th>earliest_cr_line</th>\n",
        "      <th>inq_last_6mths</th>\n",
        "      <th>mths_since_last_delinq</th>\n",
        "      <th>mths_since_last_record</th>\n",
        "      <th>open_acc</th>\n",
        "      <th>pub_rec</th>\n",
        "      <th>revol_bal</th>\n",
        "      <th>revol_util</th>\n",
        "      <th>total_acc</th>\n",
        "      <th>initial_list_status</th>\n",
        "      <th>out_prncp</th>\n",
        "      <th>out_prncp_inv</th>\n",
        "      <th>total_pymnt</th>\n",
        "      <th>total_pymnt_inv</th>\n",
        "      <th>total_rec_prncp</th>\n",
        "      <th>total_rec_int</th>\n",
        "      <th>total_rec_late_fee</th>\n",
        "      <th>recoveries</th>\n",
        "      <th>collection_recovery_fee</th>\n",
        "      <th>last_pymnt_d</th>\n",
        "      <th>last_pymnt_amnt</th>\n",
        "      <th>next_pymnt_d</th>\n",
        "      <th>last_credit_pull_d</th>\n",
        "      <th>collections_12_mths_ex_med</th>\n",
        "      <th>mths_since_last_major_derog</th>\n",
        "      <th>policy_code</th>\n",
        "    </tr>\n",
        "  </thead>\n",
        "  <tbody>\n",
        "    <tr>\n",
        "      <th>0</th>\n",
        "      <td> 1077430</td>\n",
        "      <td> 1314167</td>\n",
        "      <td> 2500</td>\n",
        "      <td> 2500</td>\n",
        "      <td> 2500</td>\n",
        "      <td>  60 months</td>\n",
        "      <td> 15.27</td>\n",
        "      <td> 59.83</td>\n",
        "      <td> C</td>\n",
        "      <td> C4</td>\n",
        "      <td> Ryder</td>\n",
        "      <td> &lt; 1 year</td>\n",
        "      <td> 0</td>\n",
        "      <td> 30000</td>\n",
        "      <td> Source Verified</td>\n",
        "      <td> Dec-2011</td>\n",
        "      <td> 0</td>\n",
        "      <td> n</td>\n",
        "      <td> https://www.lendingclub.com/browse/loanDetail....</td>\n",
        "      <td>   Borrower added on 12/22/11 &gt; I plan to use t...</td>\n",
        "      <td> car</td>\n",
        "      <td> bike</td>\n",
        "      <td> 309xx</td>\n",
        "      <td> GA</td>\n",
        "      <td> 1</td>\n",
        "      <td> 0</td>\n",
        "      <td> Apr-1999</td>\n",
        "      <td> 5</td>\n",
        "      <td>NaN</td>\n",
        "      <td>NaN</td>\n",
        "      <td> 3</td>\n",
        "      <td> 0</td>\n",
        "      <td> 1687</td>\n",
        "      <td> 9.4%</td>\n",
        "      <td> 4</td>\n",
        "      <td> f</td>\n",
        "      <td> 0</td>\n",
        "      <td> 0</td>\n",
        "      <td> 1008.71</td>\n",
        "      <td> 1008.71</td>\n",
        "      <td> 456.46</td>\n",
        "      <td> 435.17</td>\n",
        "      <td> 0</td>\n",
        "      <td> 117.08</td>\n",
        "      <td> 1.11</td>\n",
        "      <td> Apr-2013</td>\n",
        "      <td> 119.66</td>\n",
        "      <td> NaN</td>\n",
        "      <td> Sep-2013</td>\n",
        "      <td> 0</td>\n",
        "      <td>NaN</td>\n",
        "      <td> 1</td>\n",
        "    </tr>\n",
        "  </tbody>\n",
        "</table>\n",
        "<p>1 rows \u00d7 52 columns</p>\n",
        "</div>"
       ],
       "metadata": {},
       "output_type": "pyout",
       "prompt_number": 164,
       "text": [
        "        id  member_id  loan_amnt  funded_amnt  funded_amnt_inv        term  \\\n",
        "0  1077430    1314167       2500         2500             2500   60 months   \n",
        "\n",
        "   int_rate  installment grade sub_grade emp_title emp_length  home_ownership  \\\n",
        "0     15.27        59.83     C        C4     Ryder   < 1 year               0   \n",
        "\n",
        "   annual_inc         is_inc_v   issue_d  loan_status pymnt_plan  \\\n",
        "0       30000  Source Verified  Dec-2011            0          n   \n",
        "\n",
        "                                                 url  \\\n",
        "0  https://www.lendingclub.com/browse/loanDetail....   \n",
        "\n",
        "                                                desc purpose title zip_code  \\\n",
        "0    Borrower added on 12/22/11 > I plan to use t...     car  bike    309xx   \n",
        "\n",
        "  addr_state  dti  delinq_2yrs earliest_cr_line  inq_last_6mths  \\\n",
        "0         GA    1            0         Apr-1999               5   \n",
        "\n",
        "   mths_since_last_delinq  mths_since_last_record  open_acc  pub_rec  \\\n",
        "0                     NaN                     NaN         3        0   \n",
        "\n",
        "   revol_bal revol_util  total_acc initial_list_status  out_prncp  \\\n",
        "0       1687       9.4%          4                   f          0   \n",
        "\n",
        "   out_prncp_inv  total_pymnt  total_pymnt_inv  total_rec_prncp  \\\n",
        "0              0      1008.71          1008.71           456.46   \n",
        "\n",
        "   total_rec_int  total_rec_late_fee  recoveries  collection_recovery_fee  \\\n",
        "0         435.17                   0      117.08                     1.11   \n",
        "\n",
        "  last_pymnt_d  last_pymnt_amnt next_pymnt_d last_credit_pull_d  \\\n",
        "0     Apr-2013           119.66          NaN           Sep-2013   \n",
        "\n",
        "   collections_12_mths_ex_med  mths_since_last_major_derog  policy_code  \n",
        "0                           0                          NaN            1  \n",
        "\n",
        "[1 rows x 52 columns]"
       ]
      }
     ],
     "prompt_number": 164
    },
    {
     "cell_type": "code",
     "collapsed": false,
     "input": [
      "loanData[''].unique()"
     ],
     "language": "python",
     "metadata": {},
     "outputs": [
      {
       "metadata": {},
       "output_type": "pyout",
       "prompt_number": 203,
       "text": [
        "array([  4.,  10.,  13.,   3.,  23.,  34.,   9.,  29.,  42.,  28.,  38.,\n",
        "        17.,   7.,  31.,  11.,  22.,  44.,  26.,  18.,  27.,  12.,  21.,\n",
        "        24.,  14.,  36.,  19.,  40.,  15.,  51.,   8.,  16.,  20.,  25.,\n",
        "        30.,  46.,   6.,  56.,  50.,  32.,  41.,  79.,  37.,  35.,  47.,\n",
        "        33.,  43.,   5.,  53.,  61.,  45.,  60.,  55.,  39.,  52.,  58.,\n",
        "        54.,  57.,  63.,  48.,  49.,  59.,  62.,  77.,  87.,  75.,  72.,\n",
        "        64.,  67.,  78.,  76.,  74.,  66.,  81.,  90.,  80.,  71.,  69.,\n",
        "        73.,  70.,  68.,  65.,   2.,   1.,  nan,  88.,  91.,  99.,  83.])"
       ]
      }
     ],
     "prompt_number": 203
    },
    {
     "cell_type": "code",
     "collapsed": false,
     "input": [
      "pd.value_counts(loanData.pub_rec.ravel()) "
     ],
     "language": "python",
     "metadata": {},
     "outputs": [
      {
       "metadata": {},
       "output_type": "pyout",
       "prompt_number": 208,
       "text": [
        "0     90951\n",
        "1      7645\n",
        "2       472\n",
        "3       105\n",
        "4        36\n",
        "5        13\n",
        "6         9\n",
        "7         3\n",
        "10        1\n",
        "9         1\n",
        "8         1\n",
        "dtype: int64"
       ]
      }
     ],
     "prompt_number": 208
    },
    {
     "cell_type": "code",
     "collapsed": false,
     "input": [
      "columns = list(loanData.columns.values)\n",
      "for c in columns:\n",
      "    num = loanData[c].nunique()\n",
      "    print \"\\n\\n\"\n",
      "    print c, ': ', num, ' unique vals'\n",
      "    if num < 100:\n",
      "        exec_string = 'print pd.value_counts(loanData.%s.ravel())' %c\n",
      "        exec(exec_string)"
     ],
     "language": "python",
     "metadata": {},
     "outputs": [
      {
       "output_type": "stream",
       "stream": "stdout",
       "text": [
        "\n",
        "\n",
        "\n",
        "id :  99266  unique vals\n",
        "\n",
        "\n"
       ]
      },
      {
       "output_type": "stream",
       "stream": "stdout",
       "text": [
        "\n",
        "member_id :  99266  unique vals\n",
        "\n",
        "\n",
        "\n",
        "loan_amnt :  1204  unique vals\n",
        "\n",
        "\n"
       ]
      },
      {
       "output_type": "stream",
       "stream": "stdout",
       "text": [
        "\n",
        "funded_amnt :  1222  unique vals\n",
        "\n",
        "\n",
        "\n",
        "funded_amnt_inv :  8735  unique vals\n",
        "\n",
        "\n"
       ]
      },
      {
       "output_type": "stream",
       "stream": "stdout",
       "text": [
        "\n",
        "term :  2  unique vals\n",
        " 36 months    79540\n",
        " 60 months    19726\n",
        "dtype: int64\n",
        "\n",
        "\n"
       ]
      },
      {
       "output_type": "stream",
       "stream": "stdout",
       "text": [
        "\n",
        "int_rate :  492  unique vals\n",
        "\n",
        "\n"
       ]
      },
      {
       "output_type": "stream",
       "stream": "stdout",
       "text": [
        "\n",
        "installment :  28821  unique vals\n",
        "\n",
        "\n",
        "\n",
        "grade :  7  unique vals\n",
        "B    30169\n",
        "C    23850\n",
        "A    18656\n",
        "D    15335\n",
        "E     7207\n",
        "F     3161\n",
        "G      888\n",
        "dtype: int64\n",
        "\n",
        "\n"
       ]
      },
      {
       "output_type": "stream",
       "stream": "stdout",
       "text": [
        "\n",
        "sub_grade :  35  unique vals\n",
        "B3    7358\n",
        "B4    6750\n",
        "B2    5719\n",
        "C1    5712\n",
        "B5    5638\n",
        "C2    5365\n",
        "A4    5020\n",
        "A5    4998\n",
        "B1    4704\n",
        "C3    4530\n",
        "C4    4278\n",
        "C5    3965\n",
        "D1    3609\n",
        "D2    3522\n",
        "A3    3350\n",
        "D3    3014\n",
        "A2    2835\n",
        "D4    2785\n",
        "A1    2453\n",
        "D5    2405\n",
        "E2    1741\n",
        "E1    1670\n",
        "E3    1409\n",
        "E4    1291\n",
        "E5    1096\n",
        "F1     888\n",
        "F2     750\n",
        "F3     615\n",
        "F4     508\n",
        "F5     400\n",
        "G1     291\n",
        "G2     200\n",
        "G3     140\n",
        "G4     135\n",
        "G5     122\n",
        "dtype: int64\n",
        "\n",
        "\n"
       ]
      },
      {
       "output_type": "stream",
       "stream": "stdout",
       "text": [
        "\n",
        "emp_title :  64881  unique vals\n",
        "\n",
        "\n",
        "\n",
        "emp_length :  12  unique vals\n",
        "10+ years    26965\n",
        "2 years       9907\n",
        "< 1 year      9258\n",
        "3 years       8519\n",
        "5 years       7908\n",
        "1 year        7167\n",
        "4 years       7109\n",
        "6 years       6109\n",
        "7 years       5328\n",
        "8 years       4282\n",
        "9 years       3552\n",
        "n/a           3162\n",
        "dtype: int64"
       ]
      },
      {
       "output_type": "stream",
       "stream": "stdout",
       "text": [
        "\n",
        "\n",
        "\n",
        "\n",
        "home_ownership :  6  unique vals\n",
        "2    47883\n",
        "0    43263\n",
        "1     7947\n",
        "3      147\n",
        "4       25\n",
        "5        1\n",
        "dtype: int64\n",
        "\n",
        "\n"
       ]
      },
      {
       "output_type": "stream",
       "stream": "stdout",
       "text": [
        "\n",
        "annual_inc :  9764  unique vals\n",
        "\n",
        "\n",
        "\n",
        "is_inc_v :  3  unique vals\n",
        "Not Verified       38054\n",
        "Verified           37356\n",
        "Source Verified    23856\n",
        "dtype: int64"
       ]
      },
      {
       "output_type": "stream",
       "stream": "stdout",
       "text": [
        "\n",
        "\n",
        "\n",
        "\n",
        "issue_d :  88  unique vals\n",
        "Apr-2013    2826\n",
        "May-2013    2797\n",
        "Aug-2013    2744\n",
        "Jun-2013    2727\n",
        "Jul-2013    2697\n",
        "Mar-2013    2548\n",
        "Sep-2013    2537\n",
        "Sep-2012    2509\n",
        "Oct-2012    2506\n",
        "Aug-2012    2433\n",
        "Nov-2012    2411\n",
        "Oct-2013    2366\n",
        "Jan-2013    2355\n",
        "Feb-2013    2330\n",
        "Nov-2013    2234\n",
        "...\n",
        "Nov-2008    209\n",
        "Dec-2007    172\n",
        "Sep-2014    149\n",
        "Jul-2008    141\n",
        "Jun-2008    124\n",
        "Oct-2008    122\n",
        "May-2008    115\n",
        "Nov-2007    112\n",
        "Oct-2007    105\n",
        "Aug-2008    100\n",
        "Aug-2007     74\n",
        "Jul-2007     63\n",
        "Sep-2008     57\n",
        "Sep-2007     53\n",
        "Jun-2007     24\n",
        "Length: 88, dtype: int64\n",
        "\n",
        "\n",
        "\n",
        "loan_status :  2  unique vals\n",
        "1    80738\n",
        "0    18528\n",
        "dtype: int64"
       ]
      },
      {
       "output_type": "stream",
       "stream": "stdout",
       "text": [
        "\n",
        "\n",
        "\n",
        "\n",
        "pymnt_plan :  2  unique vals\n",
        "n    99259\n",
        "y        7\n",
        "dtype: int64\n",
        "\n",
        "\n"
       ]
      },
      {
       "output_type": "stream",
       "stream": "stdout",
       "text": [
        "\n",
        "url :  99266  unique vals\n",
        "\n",
        "\n"
       ]
      },
      {
       "output_type": "stream",
       "stream": "stdout",
       "text": [
        "\n",
        "desc :  52851  unique vals\n",
        "\n",
        "\n",
        "\n",
        "purpose :  14  unique vals\n",
        "debt_consolidation    54378\n",
        "credit_card           17042\n",
        "other                  7264\n",
        "home_improvement       6317\n",
        "major_purchase         3377\n",
        "small_business         2900\n",
        "car                    2093\n",
        "wedding                1396\n",
        "medical                1346\n",
        "moving                 1005\n",
        "house                   867\n",
        "vacation                719\n",
        "educational             414\n",
        "renewable_energy        148\n",
        "dtype: int64\n",
        "\n",
        "\n"
       ]
      },
      {
       "output_type": "stream",
       "stream": "stdout",
       "text": [
        "\n",
        "title :  33021  unique vals\n",
        "\n",
        "\n",
        "\n",
        "zip_code :  858  unique vals\n",
        "\n",
        "\n",
        "\n",
        "addr_state :  50  unique vals\n",
        "CA    17660\n",
        "NY     8953\n",
        "TX     7230\n",
        "FL     6942\n",
        "NJ     4028\n",
        "IL     3623\n",
        "PA     3387\n",
        "VA     3255\n",
        "GA     3201\n",
        "OH     2914\n",
        "MA     2712\n",
        "NC     2550\n",
        "AZ     2392\n",
        "MD     2384\n",
        "WA     2282\n",
        "MI     2181\n",
        "CO     2073\n",
        "MN     1622\n",
        "CT     1605\n",
        "MO     1584\n",
        "NV     1398\n",
        "OR     1287\n",
        "WI     1195\n",
        "AL     1168\n",
        "LA     1138\n",
        "SC     1092\n",
        "KY      891\n",
        "UT      846\n",
        "OK      790\n",
        "KS      764\n",
        "IN      638\n",
        "AR      634\n",
        "HI      585\n",
        "TN      573\n",
        "NM      505\n",
        "NH      459\n",
        "RI      443\n",
        "WV      433\n",
        "DC      393\n",
        "MT      284\n",
        "DE      277\n",
        "AK      251\n",
        "WY      223\n",
        "SD      182\n",
        "VT      165\n",
        "MS       38\n",
        "IA       12\n",
        "NE       12\n",
        "ID        9\n",
        "ME        3\n",
        "dtype: int64"
       ]
      },
      {
       "output_type": "stream",
       "stream": "stdout",
       "text": [
        "\n",
        "\n",
        "\n"
       ]
      },
      {
       "output_type": "stream",
       "stream": "stdout",
       "text": [
        "\n",
        "dti :  3501  unique vals\n",
        "\n",
        "\n"
       ]
      },
      {
       "output_type": "stream",
       "stream": "stdout",
       "text": [
        "\n",
        "delinq_2yrs :  17  unique vals\n",
        "0     85633\n",
        "1      9766\n",
        "2      2496\n",
        "3       779\n",
        "4       269\n",
        "5       146\n",
        "6        67\n",
        "7        29\n",
        "8        20\n",
        "9         9\n",
        "11        7\n",
        "10        5\n",
        "12        5\n",
        "14        3\n",
        "18        1\n",
        "13        1\n",
        "29        1\n",
        "dtype: int64\n",
        "\n",
        "\n"
       ]
      },
      {
       "output_type": "stream",
       "stream": "stdout",
       "text": [
        "\n",
        "earliest_cr_line :  585  unique vals\n",
        "\n",
        "\n",
        "\n",
        "inq_last_6mths :  28  unique vals\n",
        "0     44848\n",
        "1     28205\n",
        "2     14840\n",
        "3      7496\n",
        "4      1976\n",
        "5       962\n",
        "6       467\n",
        "7       181\n",
        "8       117\n",
        "9        50\n",
        "10       24\n",
        "12       15\n",
        "11       15\n",
        "15        9\n",
        "13        6\n",
        "14        6\n",
        "18        4\n",
        "16        3\n",
        "17        2\n",
        "19        2\n",
        "24        2\n",
        "32        1\n",
        "20        1\n",
        "25        1\n",
        "27        1\n",
        "28        1\n",
        "31        1\n",
        "33        1\n",
        "dtype: int64"
       ]
      },
      {
       "output_type": "stream",
       "stream": "stdout",
       "text": [
        "\n",
        "\n",
        "\n",
        "\n",
        "mths_since_last_delinq :  109  unique vals\n",
        "\n",
        "\n"
       ]
      },
      {
       "output_type": "stream",
       "stream": "stdout",
       "text": [
        "\n",
        "mths_since_last_record :  122  unique vals\n",
        "\n",
        "\n",
        "\n",
        "open_acc :  51  unique vals\n",
        "9     9540\n",
        "8     9433\n",
        "7     8885\n",
        "10    8638\n",
        "11    7936\n",
        "6     7772\n",
        "12    6925\n",
        "5     5858\n",
        "13    5688\n",
        "14    4773\n",
        "4     3904\n",
        "15    3770\n",
        "16    3051\n",
        "17    2388\n",
        "3     2147\n",
        "18    1905\n",
        "19    1416\n",
        "20    1057\n",
        "2      860\n",
        "21     857\n",
        "22     644\n",
        "23     476\n",
        "24     369\n",
        "25     250\n",
        "26     156\n",
        "27     113\n",
        "28      80\n",
        "1       57\n",
        "29      53\n",
        "30      47\n",
        "31      39\n",
        "32      28\n",
        "33      22\n",
        "34      21\n",
        "35      16\n",
        "37      14\n",
        "38      11\n",
        "36       9\n",
        "39       6\n",
        "41       5\n",
        "40       4\n",
        "50       2\n",
        "49       2\n",
        "45       2\n",
        "0        2\n",
        "42       1\n",
        "43       1\n",
        "44       1\n",
        "46       1\n",
        "47       1\n",
        "48       1\n",
        "Length: 51, dtype: int64"
       ]
      },
      {
       "output_type": "stream",
       "stream": "stdout",
       "text": [
        "\n",
        "\n",
        "\n",
        "\n",
        "pub_rec :  11  unique vals\n",
        "0     90951\n",
        "1      7645\n",
        "2       472\n",
        "3       105\n",
        "4        36\n",
        "5        13\n",
        "6         9\n",
        "7         3\n",
        "10        1\n",
        "9         1\n",
        "8         1\n",
        "dtype: int64"
       ]
      },
      {
       "output_type": "stream",
       "stream": "stdout",
       "text": [
        "\n",
        "\n",
        "\n"
       ]
      },
      {
       "output_type": "stream",
       "stream": "stdout",
       "text": [
        "\n",
        "revol_bal :  34431  unique vals\n",
        "\n",
        "\n",
        "\n",
        "revol_util :  1145  unique vals\n",
        "\n",
        "\n"
       ]
      },
      {
       "output_type": "stream",
       "stream": "stdout",
       "text": [
        "\n",
        "total_acc :  87  unique vals\n",
        "21    3586\n",
        "20    3569\n",
        "19    3557\n",
        "17    3526\n",
        "22    3498\n",
        "23    3478\n",
        "18    3459\n",
        "16    3373\n",
        "24    3346\n",
        "15    3291\n",
        "25    3228\n",
        "14    3148\n",
        "13    3045\n",
        "26    3017\n",
        "27    2852\n",
        "...\n",
        "70    3\n",
        "79    3\n",
        "74    3\n",
        "76    3\n",
        "80    2\n",
        "75    2\n",
        "87    2\n",
        "71    2\n",
        "90    1\n",
        "88    1\n",
        "91    1\n",
        "83    1\n",
        "81    1\n",
        "77    1\n",
        "99    1\n",
        "Length: 87, dtype: int64"
       ]
      },
      {
       "output_type": "stream",
       "stream": "stdout",
       "text": [
        "\n",
        "\n",
        "\n",
        "\n",
        "initial_list_status :  2  unique vals\n",
        "f    85671\n",
        "w    13595\n",
        "dtype: int64\n",
        "\n",
        "\n"
       ]
      },
      {
       "output_type": "stream",
       "stream": "stdout",
       "text": [
        "\n",
        "out_prncp :  101  unique vals\n",
        "\n",
        "\n",
        "\n",
        "out_prncp_inv :  101  unique vals\n",
        "\n",
        "\n"
       ]
      },
      {
       "output_type": "stream",
       "stream": "stdout",
       "text": [
        "\n",
        "total_pymnt :  97113  unique vals\n",
        "\n",
        "\n"
       ]
      },
      {
       "output_type": "stream",
       "stream": "stdout",
       "text": [
        "\n",
        "total_pymnt_inv :  95452  unique vals\n",
        "\n",
        "\n"
       ]
      },
      {
       "output_type": "stream",
       "stream": "stdout",
       "text": [
        "\n",
        "total_rec_prncp :  20007  unique vals\n",
        "\n",
        "\n"
       ]
      },
      {
       "output_type": "stream",
       "stream": "stdout",
       "text": [
        "\n",
        "total_rec_int :  83923  unique vals\n",
        "\n",
        "\n",
        "\n",
        "total_rec_late_fee :  2716  unique vals\n",
        "\n",
        "\n"
       ]
      },
      {
       "output_type": "stream",
       "stream": "stdout",
       "text": [
        "\n",
        "recoveries :  8815  unique vals\n",
        "\n",
        "\n",
        "\n",
        "collection_recovery_fee :  5562  unique vals\n",
        "\n",
        "\n"
       ]
      },
      {
       "output_type": "stream",
       "stream": "stdout",
       "text": [
        "\n",
        "last_pymnt_d :  84  unique vals\n",
        "Oct-2014    5947\n",
        "Jun-2014    5622\n",
        "Jul-2014    5490\n",
        "Aug-2014    5054\n",
        "Sep-2014    4871\n",
        "May-2014    4720\n",
        "Mar-2014    4571\n",
        "Apr-2014    4325\n",
        "Jan-2014    3655\n",
        "Feb-2014    3632\n",
        "Dec-2013    3050\n",
        "Oct-2013    2832\n",
        "Nov-2014    2735\n",
        "Nov-2013    2662\n",
        "Aug-2013    2515\n",
        "...\n",
        "Sep-2009    55\n",
        "Oct-2008    55\n",
        "Sep-2008    40\n",
        "Jan-2009    40\n",
        "Jul-2008    37\n",
        "Dec-2008    31\n",
        "Nov-2008    31\n",
        "Aug-2008    31\n",
        "May-2008    30\n",
        "Apr-2008    23\n",
        "Jun-2008    20\n",
        "Mar-2008    18\n",
        "Jan-2008    11\n",
        "Feb-2008     8\n",
        "Dec-2007     2\n",
        "Length: 84, dtype: int64\n",
        "\n",
        "\n"
       ]
      },
      {
       "output_type": "stream",
       "stream": "stdout",
       "text": [
        "\n",
        "last_pymnt_amnt :  85527  unique vals\n",
        "\n",
        "\n",
        "\n",
        "next_pymnt_d :  86  unique vals\n",
        "Mar-2011    107\n",
        "Apr-2011    101\n",
        "Dec-2014     91\n",
        "Feb-2011     91\n",
        "Jan-2011     79\n",
        "May-2011     77\n",
        "Dec-2010     71\n",
        "Jun-2011     66\n",
        "Sep-2011     63\n",
        "Aug-2011     57\n",
        "Nov-2010     55\n",
        "Aug-2010     54\n",
        "Sep-2010     53\n",
        "Dec-2009     53\n",
        "Oct-2009     53\n",
        "...\n",
        "Jan-2008    4\n",
        "Nov-2014    4\n",
        "Jun-2008    4\n",
        "Apr-2008    4\n",
        "Sep-2014    3\n",
        "Jun-2014    3\n",
        "Mar-2008    3\n",
        "Apr-2014    3\n",
        "Jul-2008    3\n",
        "Aug-2014    2\n",
        "Oct-2014    2\n",
        "Feb-2008    2\n",
        "Jul-2014    2\n",
        "Dec-2007    1\n",
        "May-2008    1\n",
        "Length: 86, dtype: int64"
       ]
      },
      {
       "output_type": "stream",
       "stream": "stdout",
       "text": [
        "\n",
        "\n",
        "\n",
        "\n",
        "last_credit_pull_d :  89  unique vals\n",
        "Nov-2014    27485\n",
        "Oct-2014     7035\n",
        "Sep-2014     5692\n",
        "Jul-2014     4915\n",
        "Aug-2014     4901\n",
        "Jun-2014     3739\n",
        "May-2014     3709\n",
        "Apr-2014     3369\n",
        "Mar-2014     3248\n",
        "Feb-2014     2822\n",
        "Jan-2014     2598\n",
        "Nov-2013     1996\n",
        "Dec-2013     1959\n",
        "Feb-2013     1876\n",
        "Oct-2013     1789\n",
        "...\n",
        "Oct-2008    13\n",
        "Sep-2008    10\n",
        "May-2007    10\n",
        "Mar-2008     8\n",
        "Dec-2008     7\n",
        "Sep-2007     5\n",
        "Jan-2008     5\n",
        "Feb-2008     3\n",
        "Oct-2007     3\n",
        "Dec-2007     3\n",
        "Nov-2007     3\n",
        "Jul-2008     2\n",
        "Jul-2007     1\n",
        "Jun-2008     1\n",
        "May-2008     1\n",
        "Length: 89, dtype: int64\n",
        "\n",
        "\n"
       ]
      },
      {
       "output_type": "stream",
       "stream": "stdout",
       "text": [
        "\n",
        "collections_12_mths_ex_med :  3  unique vals\n",
        "0    98885\n",
        "1      224\n",
        "2       12\n",
        "dtype: int64\n",
        "\n",
        "\n",
        "\n",
        "mths_since_last_major_derog :  119  unique vals\n",
        "\n",
        "\n",
        "\n",
        "policy_code :  1  unique vals\n",
        "1    99266\n",
        "dtype: int64"
       ]
      },
      {
       "output_type": "stream",
       "stream": "stdout",
       "text": [
        "\n"
       ]
      }
     ],
     "prompt_number": 216
    },
    {
     "cell_type": "code",
     "collapsed": false,
     "input": [
      "loanData['desc_length'] = [len(str(x)) for x in loanData['desc']]\n"
     ],
     "language": "python",
     "metadata": {},
     "outputs": [],
     "prompt_number": 235
    },
    {
     "cell_type": "code",
     "collapsed": false,
     "input": [
      "loanData['desc_length'].unique()"
     ],
     "language": "python",
     "metadata": {},
     "outputs": [
      {
       "metadata": {},
       "output_type": "pyout",
       "prompt_number": 237,
       "text": [
        "array([ 590,    3,  322, ..., 1651, 1254, 2084])"
       ]
      }
     ],
     "prompt_number": 237
    },
    {
     "cell_type": "code",
     "collapsed": false,
     "input": [
      "plt.hist(loanData['desc_length'], bins=100)\n",
      "plt.title('desc_length')\n",
      "plt.xlabel('desc_length')\n",
      "plt.ylabel('count')\n",
      "plt.show()"
     ],
     "language": "python",
     "metadata": {},
     "outputs": [
      {
       "metadata": {},
       "output_type": "display_data",
       "png": "[encoded data removed]",
       "text": [
        "<matplotlib.figure.Figure at 0x11e515310>"
       ]
      }
     ],
     "prompt_number": 240
    },
    {
     "cell_type": "code",
     "collapsed": false,
     "input": [
      "loanData['title_length'] = [len(str(x)) for x in loanData['title']]\n",
      "loanData['title_length'].unique()"
     ],
     "language": "python",
     "metadata": {},
     "outputs": [
      {
       "metadata": {},
       "output_type": "pyout",
       "prompt_number": 241,
       "text": [
        "array([ 4, 20, 36, 27, 26, 13,  7, 10, 35, 12, 18, 25,  5, 23, 37, 19, 16,\n",
        "        8, 14, 34,  9, 15, 11, 21, 17, 30, 28, 40,  6, 29, 22, 24, 31, 32,\n",
        "        3, 39, 38, 33,  2, 70, 46, 47, 44, 43, 56, 48, 51, 42, 50, 67, 61,\n",
        "       49, 75, 41, 79, 57, 63, 68, 58, 71, 45, 53, 73, 52, 78, 76, 72, 77,\n",
        "       59, 54, 80, 55, 74, 62, 69, 60, 65, 64, 66, 81])"
       ]
      }
     ],
     "prompt_number": 241
    },
    {
     "cell_type": "code",
     "collapsed": false,
     "input": [
      "plt.hist(loanData['title_length'], bins=100)\n",
      "plt.title('title_length')\n",
      "plt.xlabel('title_length')\n",
      "plt.ylabel('count')\n",
      "plt.show()"
     ],
     "language": "python",
     "metadata": {},
     "outputs": [
      {
       "metadata": {},
       "output_type": "display_data",
       "png": "[encoded data removed]",
       "text": [
        "<matplotlib.figure.Figure at 0x11e63be10>"
       ]
      }
     ],
     "prompt_number": 242
    },
    {
     "cell_type": "code",
     "collapsed": false,
     "input": [
      "plt.scatter(loanData['desc_length'], loanData['loan_status'])\n",
      "plt.title('Description Length vs Loan Status')\n",
      "plt.xlabel('desc_length')\n",
      "plt.yticks([0,1], ['Default', 'Paid'])\n",
      "plt.ylabel('loan_status')\n",
      "plt.show()"
     ],
     "language": "python",
     "metadata": {},
     "outputs": [
      {
       "metadata": {},
       "output_type": "display_data",
       "png": "[encoded data removed]",
       "text": [
        "<matplotlib.figure.Figure at 0x11e4e1650>"
       ]
      }
     ],
     "prompt_number": 244
    },
    {
     "cell_type": "code",
     "collapsed": false,
     "input": [
      "plt.scatter(loanData['desc_length'], loanData['int_rate'])\n",
      "plt.title('Description Length vs Loan Status')\n",
      "plt.xlabel('desc_length')\n",
      "plt.ylabel('int_rate')\n",
      "plt.show()"
     ],
     "language": "python",
     "metadata": {},
     "outputs": [
      {
       "metadata": {},
       "output_type": "display_data",
       "png": "[encoded data removed]",
       "text": [
        "<matplotlib.figure.Figure at 0x11e58fdd0>"
       ]
      }
     ],
     "prompt_number": 245
    },
    {
     "cell_type": "code",
     "collapsed": false,
     "input": [
      "plt.scatter(loanData['title_length'], loanData['int_rate'])\n",
      "plt.title('Title Length vs Loan Status')\n",
      "plt.xlabel('title_length')\n",
      "plt.ylabel('int_rate')\n",
      "plt.show()"
     ],
     "language": "python",
     "metadata": {},
     "outputs": [
      {
       "metadata": {},
       "output_type": "display_data",
       "png": "[encoded data removed]",
       "text": [
        "<matplotlib.figure.Figure at 0x11e53c490>"
       ]
      }
     ],
     "prompt_number": 246
    },
    {
     "cell_type": "code",
     "collapsed": false,
     "input": [
      "plt.scatter(loanData['title_length'], loanData['loan_status'])\n",
      "plt.title('Title Length vs Loan Status')\n",
      "plt.xlabel('title_length')\n",
      "plt.yticks([0,1], ['Default', 'Paid'])\n",
      "plt.ylabel('loan_status')\n",
      "plt.show()"
     ],
     "language": "python",
     "metadata": {},
     "outputs": [
      {
       "metadata": {},
       "output_type": "display_data",
       "png": "[encoded data removed]",
       "text": [
        "<matplotlib.figure.Figure at 0x11e4f0bd0>"
       ]
      }
     ],
     "prompt_number": 247
    },
    {
     "cell_type": "code",
     "collapsed": false,
     "input": [
      "mean_default_rates = []\n",
      "max_length = loanData['desc_length'].max()\n",
      "desc_length_bins = np.arange(5, 2000, 10)\n",
      "for p in desc_length_bins:\n",
      "    loans = loanData[loanData['desc_length'] <= p]\n",
      "    loans = loans[loans['desc_length'] >(p-5)]\n",
      "    mean_default_rate = 1 - loans['loan_status'].mean(axis=1)\n",
      "    mean_default_rates.append(mean_default_rate)\n",
      "    print mean_default_rate\n",
      "\n",
      "plt.scatter(desc_length_bins, mean_default_rates)\n",
      "#plt.errorbar(loan_amnt_bins, mean_int_rates, yerr=std_int_rates)\n",
      "plt.title('Description Length vs Default Rate')\n",
      "plt.xlabel('Description Length')\n",
      "plt.ylabel('Default Rate')"
     ],
     "language": "python",
     "metadata": {},
     "outputs": [
      {
       "output_type": "stream",
       "stream": "stdout",
       "text": [
        "0.180657840745\n",
        "0.184615384615"
       ]
      },
      {
       "output_type": "stream",
       "stream": "stdout",
       "text": [
        "\n",
        "0.135922330097"
       ]
      },
      {
       "output_type": "stream",
       "stream": "stdout",
       "text": [
        "\n",
        "0.161904761905"
       ]
      },
      {
       "output_type": "stream",
       "stream": "stdout",
       "text": [
        "\n",
        "0.18064516129"
       ]
      },
      {
       "output_type": "stream",
       "stream": "stdout",
       "text": [
        "\n",
        "0.213341346154"
       ]
      },
      {
       "output_type": "stream",
       "stream": "stdout",
       "text": [
        "\n",
        "0.211299435028"
       ]
      },
      {
       "output_type": "stream",
       "stream": "stdout",
       "text": [
        "\n",
        "0.204232804233"
       ]
      },
      {
       "output_type": "stream",
       "stream": "stdout",
       "text": [
        "\n",
        "0.21858500528"
       ]
      },
      {
       "output_type": "stream",
       "stream": "stdout",
       "text": [
        "\n",
        "0.195968645017"
       ]
      },
      {
       "output_type": "stream",
       "stream": "stdout",
       "text": [
        "\n",
        "0.192560175055"
       ]
      },
      {
       "output_type": "stream",
       "stream": "stdout",
       "text": [
        "\n",
        "0.186189889026"
       ]
      },
      {
       "output_type": "stream",
       "stream": "stdout",
       "text": [
        "\n",
        "0.179548156956"
       ]
      },
      {
       "output_type": "stream",
       "stream": "stdout",
       "text": [
        "\n",
        "0.200787401575"
       ]
      },
      {
       "output_type": "stream",
       "stream": "stdout",
       "text": [
        "\n",
        "0.215384615385"
       ]
      },
      {
       "output_type": "stream",
       "stream": "stdout",
       "text": [
        "\n",
        "0.2"
       ]
      },
      {
       "output_type": "stream",
       "stream": "stdout",
       "text": [
        "\n",
        "0.187396351575"
       ]
      },
      {
       "output_type": "stream",
       "stream": "stdout",
       "text": [
        "\n",
        "0.184834123223"
       ]
      },
      {
       "output_type": "stream",
       "stream": "stdout",
       "text": [
        "\n",
        "0.212341197822"
       ]
      },
      {
       "output_type": "stream",
       "stream": "stdout",
       "text": [
        "\n",
        "0.202797202797"
       ]
      },
      {
       "output_type": "stream",
       "stream": "stdout",
       "text": [
        "\n",
        "0.174329501916"
       ]
      },
      {
       "output_type": "stream",
       "stream": "stdout",
       "text": [
        "\n",
        "0.208413001912"
       ]
      },
      {
       "output_type": "stream",
       "stream": "stdout",
       "text": [
        "\n",
        "0.207436399217"
       ]
      },
      {
       "output_type": "stream",
       "stream": "stdout",
       "text": [
        "\n",
        "0.205338809035"
       ]
      },
      {
       "output_type": "stream",
       "stream": "stdout",
       "text": [
        "\n",
        "0.148148148148"
       ]
      },
      {
       "output_type": "stream",
       "stream": "stdout",
       "text": [
        "\n",
        "0.188492063492"
       ]
      },
      {
       "output_type": "stream",
       "stream": "stdout",
       "text": [
        "\n",
        "0.201342281879"
       ]
      },
      {
       "output_type": "stream",
       "stream": "stdout",
       "text": [
        "\n",
        "0.216152019002"
       ]
      },
      {
       "output_type": "stream",
       "stream": "stdout",
       "text": [
        "\n",
        "0.173611111111"
       ]
      },
      {
       "output_type": "stream",
       "stream": "stdout",
       "text": [
        "\n",
        "0.181614349776"
       ]
      },
      {
       "output_type": "stream",
       "stream": "stdout",
       "text": [
        "\n",
        "0.154761904762"
       ]
      },
      {
       "output_type": "stream",
       "stream": "stdout",
       "text": [
        "\n",
        "0.156043956044"
       ]
      },
      {
       "output_type": "stream",
       "stream": "stdout",
       "text": [
        "\n",
        "0.219653179191"
       ]
      },
      {
       "output_type": "stream",
       "stream": "stdout",
       "text": [
        "\n",
        "0.201581027668"
       ]
      },
      {
       "output_type": "stream",
       "stream": "stdout",
       "text": [
        "\n",
        "0.16935483871"
       ]
      },
      {
       "output_type": "stream",
       "stream": "stdout",
       "text": [
        "\n",
        "0.224043715847"
       ]
      },
      {
       "output_type": "stream",
       "stream": "stdout",
       "text": [
        "\n",
        "0.21978021978"
       ]
      },
      {
       "output_type": "stream",
       "stream": "stdout",
       "text": [
        "\n",
        "0.117283950617"
       ]
      },
      {
       "output_type": "stream",
       "stream": "stdout",
       "text": [
        "\n",
        "0.175324675325"
       ]
      },
      {
       "output_type": "stream",
       "stream": "stdout",
       "text": [
        "\n",
        "0.189473684211"
       ]
      },
      {
       "output_type": "stream",
       "stream": "stdout",
       "text": [
        "\n",
        "0.18954248366"
       ]
      },
      {
       "output_type": "stream",
       "stream": "stdout",
       "text": [
        "\n",
        "0.214814814815"
       ]
      },
      {
       "output_type": "stream",
       "stream": "stdout",
       "text": [
        "\n",
        "0.205555555556"
       ]
      },
      {
       "output_type": "stream",
       "stream": "stdout",
       "text": [
        "\n",
        "0.185897435897"
       ]
      },
      {
       "output_type": "stream",
       "stream": "stdout",
       "text": [
        "\n",
        "0.281481481481"
       ]
      },
      {
       "output_type": "stream",
       "stream": "stdout",
       "text": [
        "\n",
        "0.171875"
       ]
      },
      {
       "output_type": "stream",
       "stream": "stdout",
       "text": [
        "\n",
        "0.224137931034"
       ]
      },
      {
       "output_type": "stream",
       "stream": "stdout",
       "text": [
        "\n",
        "0.164473684211"
       ]
      },
      {
       "output_type": "stream",
       "stream": "stdout",
       "text": [
        "\n",
        "0.232558139535"
       ]
      },
      {
       "output_type": "stream",
       "stream": "stdout",
       "text": [
        "\n",
        "0.194174757282"
       ]
      },
      {
       "output_type": "stream",
       "stream": "stdout",
       "text": [
        "\n",
        "0.157894736842"
       ]
      },
      {
       "output_type": "stream",
       "stream": "stdout",
       "text": [
        "\n",
        "0.20325203252"
       ]
      },
      {
       "output_type": "stream",
       "stream": "stdout",
       "text": [
        "\n",
        "0.178947368421"
       ]
      },
      {
       "output_type": "stream",
       "stream": "stdout",
       "text": [
        "\n",
        "0.130434782609"
       ]
      },
      {
       "output_type": "stream",
       "stream": "stdout",
       "text": [
        "\n",
        "0.153846153846"
       ]
      },
      {
       "output_type": "stream",
       "stream": "stdout",
       "text": [
        "\n",
        "0.193277310924"
       ]
      },
      {
       "output_type": "stream",
       "stream": "stdout",
       "text": [
        "\n",
        "0.155555555556"
       ]
      },
      {
       "output_type": "stream",
       "stream": "stdout",
       "text": [
        "\n",
        "0.151515151515"
       ]
      },
      {
       "output_type": "stream",
       "stream": "stdout",
       "text": [
        "\n",
        "0.108695652174"
       ]
      },
      {
       "output_type": "stream",
       "stream": "stdout",
       "text": [
        "\n",
        "0.182795698925"
       ]
      },
      {
       "output_type": "stream",
       "stream": "stdout",
       "text": [
        "\n",
        "0.161616161616"
       ]
      },
      {
       "output_type": "stream",
       "stream": "stdout",
       "text": [
        "\n",
        "0.278481012658"
       ]
      },
      {
       "output_type": "stream",
       "stream": "stdout",
       "text": [
        "\n",
        "0.172839506173"
       ]
      },
      {
       "output_type": "stream",
       "stream": "stdout",
       "text": [
        "\n",
        "0.119565217391"
       ]
      },
      {
       "output_type": "stream",
       "stream": "stdout",
       "text": [
        "\n",
        "0.22"
       ]
      },
      {
       "output_type": "stream",
       "stream": "stdout",
       "text": [
        "\n",
        "0.118421052632"
       ]
      },
      {
       "output_type": "stream",
       "stream": "stdout",
       "text": [
        "\n",
        "0.163265306122"
       ]
      },
      {
       "output_type": "stream",
       "stream": "stdout",
       "text": [
        "\n",
        "0.198113207547"
       ]
      },
      {
       "output_type": "stream",
       "stream": "stdout",
       "text": [
        "\n",
        "0.134328358209"
       ]
      },
      {
       "output_type": "stream",
       "stream": "stdout",
       "text": [
        "\n",
        "0.122807017544"
       ]
      },
      {
       "output_type": "stream",
       "stream": "stdout",
       "text": [
        "\n",
        "0.203389830508"
       ]
      },
      {
       "output_type": "stream",
       "stream": "stdout",
       "text": [
        "\n",
        "0.0980392156863"
       ]
      },
      {
       "output_type": "stream",
       "stream": "stdout",
       "text": [
        "\n",
        "0.171428571429"
       ]
      },
      {
       "output_type": "stream",
       "stream": "stdout",
       "text": [
        "\n",
        "0.121951219512"
       ]
      },
      {
       "output_type": "stream",
       "stream": "stdout",
       "text": [
        "\n",
        "0.115384615385"
       ]
      },
      {
       "output_type": "stream",
       "stream": "stdout",
       "text": [
        "\n",
        "0.207547169811"
       ]
      },
      {
       "output_type": "stream",
       "stream": "stdout",
       "text": [
        "\n",
        "0.137254901961"
       ]
      },
      {
       "output_type": "stream",
       "stream": "stdout",
       "text": [
        "\n",
        "0.102564102564"
       ]
      },
      {
       "output_type": "stream",
       "stream": "stdout",
       "text": [
        "\n",
        "0.204081632653"
       ]
      },
      {
       "output_type": "stream",
       "stream": "stdout",
       "text": [
        "\n",
        "0.117647058824"
       ]
      },
      {
       "output_type": "stream",
       "stream": "stdout",
       "text": [
        "\n",
        "0.153846153846"
       ]
      },
      {
       "output_type": "stream",
       "stream": "stdout",
       "text": [
        "\n",
        "0.244444444444"
       ]
      },
      {
       "output_type": "stream",
       "stream": "stdout",
       "text": [
        "\n",
        "0.121951219512"
       ]
      },
      {
       "output_type": "stream",
       "stream": "stdout",
       "text": [
        "\n",
        "0.1"
       ]
      },
      {
       "output_type": "stream",
       "stream": "stdout",
       "text": [
        "\n",
        "0.146341463415"
       ]
      },
      {
       "output_type": "stream",
       "stream": "stdout",
       "text": [
        "\n",
        "0.148936170213"
       ]
      },
      {
       "output_type": "stream",
       "stream": "stdout",
       "text": [
        "\n",
        "0.2"
       ]
      },
      {
       "output_type": "stream",
       "stream": "stdout",
       "text": [
        "\n",
        "0.2"
       ]
      },
      {
       "output_type": "stream",
       "stream": "stdout",
       "text": [
        "\n",
        "0.310344827586"
       ]
      },
      {
       "output_type": "stream",
       "stream": "stdout",
       "text": [
        "\n",
        "0.111111111111"
       ]
      },
      {
       "output_type": "stream",
       "stream": "stdout",
       "text": [
        "\n",
        "0.176470588235"
       ]
      },
      {
       "output_type": "stream",
       "stream": "stdout",
       "text": [
        "\n",
        "0.0540540540541"
       ]
      },
      {
       "output_type": "stream",
       "stream": "stdout",
       "text": [
        "\n",
        "0.142857142857"
       ]
      },
      {
       "output_type": "stream",
       "stream": "stdout",
       "text": [
        "\n",
        "0.105263157895"
       ]
      },
      {
       "output_type": "stream",
       "stream": "stdout",
       "text": [
        "\n",
        "0.285714285714"
       ]
      },
      {
       "output_type": "stream",
       "stream": "stdout",
       "text": [
        "\n",
        "0.227272727273"
       ]
      },
      {
       "output_type": "stream",
       "stream": "stdout",
       "text": [
        "\n",
        "0.216216216216"
       ]
      },
      {
       "output_type": "stream",
       "stream": "stdout",
       "text": [
        "\n",
        "0.296296296296"
       ]
      },
      {
       "output_type": "stream",
       "stream": "stdout",
       "text": [
        "\n",
        "0.137931034483"
       ]
      },
      {
       "output_type": "stream",
       "stream": "stdout",
       "text": [
        "\n",
        "0.173913043478"
       ]
      },
      {
       "output_type": "stream",
       "stream": "stdout",
       "text": [
        "\n",
        "0.214285714286"
       ]
      },
      {
       "output_type": "stream",
       "stream": "stdout",
       "text": [
        "\n",
        "0.151515151515"
       ]
      },
      {
       "output_type": "stream",
       "stream": "stdout",
       "text": [
        "\n",
        "0.166666666667"
       ]
      },
      {
       "output_type": "stream",
       "stream": "stdout",
       "text": [
        "\n",
        "0.16"
       ]
      },
      {
       "output_type": "stream",
       "stream": "stdout",
       "text": [
        "\n",
        "0.0"
       ]
      },
      {
       "output_type": "stream",
       "stream": "stdout",
       "text": [
        "\n",
        "0.142857142857"
       ]
      },
      {
       "output_type": "stream",
       "stream": "stdout",
       "text": [
        "\n",
        "0.181818181818"
       ]
      },
      {
       "output_type": "stream",
       "stream": "stdout",
       "text": [
        "\n",
        "0.133333333333"
       ]
      },
      {
       "output_type": "stream",
       "stream": "stdout",
       "text": [
        "\n",
        "0.0833333333333"
       ]
      },
      {
       "output_type": "stream",
       "stream": "stdout",
       "text": [
        "\n",
        "0.277777777778"
       ]
      },
      {
       "output_type": "stream",
       "stream": "stdout",
       "text": [
        "\n",
        "0.210526315789"
       ]
      },
      {
       "output_type": "stream",
       "stream": "stdout",
       "text": [
        "\n",
        "0.0526315789474"
       ]
      },
      {
       "output_type": "stream",
       "stream": "stdout",
       "text": [
        "\n",
        "0.25"
       ]
      },
      {
       "output_type": "stream",
       "stream": "stdout",
       "text": [
        "\n",
        "0.142857142857"
       ]
      },
      {
       "output_type": "stream",
       "stream": "stdout",
       "text": [
        "\n",
        "0.157894736842"
       ]
      },
      {
       "output_type": "stream",
       "stream": "stdout",
       "text": [
        "\n",
        "0.2"
       ]
      },
      {
       "output_type": "stream",
       "stream": "stdout",
       "text": [
        "\n",
        "0.0909090909091"
       ]
      },
      {
       "output_type": "stream",
       "stream": "stdout",
       "text": [
        "\n",
        "0.181818181818"
       ]
      },
      {
       "output_type": "stream",
       "stream": "stdout",
       "text": [
        "\n",
        "0.133333333333"
       ]
      },
      {
       "output_type": "stream",
       "stream": "stdout",
       "text": [
        "\n",
        "0.25"
       ]
      },
      {
       "output_type": "stream",
       "stream": "stdout",
       "text": [
        "\n",
        "0.0909090909091"
       ]
      },
      {
       "output_type": "stream",
       "stream": "stdout",
       "text": [
        "\n",
        "0.0555555555556"
       ]
      },
      {
       "output_type": "stream",
       "stream": "stdout",
       "text": [
        "\n",
        "0.0740740740741"
       ]
      },
      {
       "output_type": "stream",
       "stream": "stdout",
       "text": [
        "\n",
        "0.0769230769231"
       ]
      },
      {
       "output_type": "stream",
       "stream": "stdout",
       "text": [
        "\n",
        "0.0769230769231"
       ]
      },
      {
       "output_type": "stream",
       "stream": "stdout",
       "text": [
        "\n",
        "0.125"
       ]
      },
      {
       "output_type": "stream",
       "stream": "stdout",
       "text": [
        "\n",
        "0.3"
       ]
      },
      {
       "output_type": "stream",
       "stream": "stdout",
       "text": [
        "\n",
        "0.214285714286"
       ]
      },
      {
       "output_type": "stream",
       "stream": "stdout",
       "text": [
        "\n",
        "0.0"
       ]
      },
      {
       "output_type": "stream",
       "stream": "stdout",
       "text": [
        "\n",
        "0.157894736842"
       ]
      },
      {
       "output_type": "stream",
       "stream": "stdout",
       "text": [
        "\n",
        "0.181818181818"
       ]
      },
      {
       "output_type": "stream",
       "stream": "stdout",
       "text": [
        "\n",
        "0.25"
       ]
      },
      {
       "output_type": "stream",
       "stream": "stdout",
       "text": [
        "\n",
        "0.111111111111"
       ]
      },
      {
       "output_type": "stream",
       "stream": "stdout",
       "text": [
        "\n",
        "0.166666666667"
       ]
      },
      {
       "output_type": "stream",
       "stream": "stdout",
       "text": [
        "\n",
        "0.153846153846"
       ]
      },
      {
       "output_type": "stream",
       "stream": "stdout",
       "text": [
        "\n",
        "0.333333333333"
       ]
      },
      {
       "output_type": "stream",
       "stream": "stdout",
       "text": [
        "\n",
        "0.285714285714"
       ]
      },
      {
       "output_type": "stream",
       "stream": "stdout",
       "text": [
        "\n",
        "0.111111111111"
       ]
      },
      {
       "output_type": "stream",
       "stream": "stdout",
       "text": [
        "\n",
        "0.333333333333"
       ]
      },
      {
       "output_type": "stream",
       "stream": "stdout",
       "text": [
        "\n",
        "0.3"
       ]
      },
      {
       "output_type": "stream",
       "stream": "stdout",
       "text": [
        "\n",
        "0.333333333333"
       ]
      },
      {
       "output_type": "stream",
       "stream": "stdout",
       "text": [
        "\n",
        "0.166666666667"
       ]
      },
      {
       "output_type": "stream",
       "stream": "stdout",
       "text": [
        "\n",
        "0.428571428571"
       ]
      },
      {
       "output_type": "stream",
       "stream": "stdout",
       "text": [
        "\n",
        "0.111111111111"
       ]
      },
      {
       "output_type": "stream",
       "stream": "stdout",
       "text": [
        "\n",
        "0.0714285714286"
       ]
      },
      {
       "output_type": "stream",
       "stream": "stdout",
       "text": [
        "\n",
        "0.2"
       ]
      },
      {
       "output_type": "stream",
       "stream": "stdout",
       "text": [
        "\n",
        "0.222222222222"
       ]
      },
      {
       "output_type": "stream",
       "stream": "stdout",
       "text": [
        "\n",
        "0.0714285714286"
       ]
      },
      {
       "output_type": "stream",
       "stream": "stdout",
       "text": [
        "\n",
        "0.285714285714"
       ]
      },
      {
       "output_type": "stream",
       "stream": "stdout",
       "text": [
        "\n",
        "0.428571428571"
       ]
      },
      {
       "output_type": "stream",
       "stream": "stdout",
       "text": [
        "\n",
        "0.1"
       ]
      },
      {
       "output_type": "stream",
       "stream": "stdout",
       "text": [
        "\n",
        "0.5"
       ]
      },
      {
       "output_type": "stream",
       "stream": "stdout",
       "text": [
        "\n",
        "0.5"
       ]
      },
      {
       "output_type": "stream",
       "stream": "stdout",
       "text": [
        "\n",
        "0.153846153846"
       ]
      },
      {
       "output_type": "stream",
       "stream": "stdout",
       "text": [
        "\n",
        "0.0"
       ]
      },
      {
       "output_type": "stream",
       "stream": "stdout",
       "text": [
        "\n",
        "0.25"
       ]
      },
      {
       "output_type": "stream",
       "stream": "stdout",
       "text": [
        "\n",
        "0.571428571429"
       ]
      },
      {
       "output_type": "stream",
       "stream": "stdout",
       "text": [
        "\n",
        "0.4"
       ]
      },
      {
       "output_type": "stream",
       "stream": "stdout",
       "text": [
        "\n",
        "0.111111111111"
       ]
      },
      {
       "output_type": "stream",
       "stream": "stdout",
       "text": [
        "\n",
        "0.2"
       ]
      },
      {
       "output_type": "stream",
       "stream": "stdout",
       "text": [
        "\n",
        "0.111111111111"
       ]
      },
      {
       "output_type": "stream",
       "stream": "stdout",
       "text": [
        "\n",
        "0.5"
       ]
      },
      {
       "output_type": "stream",
       "stream": "stdout",
       "text": [
        "\n",
        "0.5"
       ]
      },
      {
       "output_type": "stream",
       "stream": "stdout",
       "text": [
        "\n",
        "0.0"
       ]
      },
      {
       "output_type": "stream",
       "stream": "stdout",
       "text": [
        "\n",
        "0.0"
       ]
      },
      {
       "output_type": "stream",
       "stream": "stdout",
       "text": [
        "\n",
        "0.142857142857"
       ]
      },
      {
       "output_type": "stream",
       "stream": "stdout",
       "text": [
        "\n",
        "0.0"
       ]
      },
      {
       "output_type": "stream",
       "stream": "stdout",
       "text": [
        "\n",
        "0.0"
       ]
      },
      {
       "output_type": "stream",
       "stream": "stdout",
       "text": [
        "\n",
        "0.428571428571"
       ]
      },
      {
       "output_type": "stream",
       "stream": "stdout",
       "text": [
        "\n",
        "0.0"
       ]
      },
      {
       "output_type": "stream",
       "stream": "stdout",
       "text": [
        "\n",
        "0.333333333333"
       ]
      },
      {
       "output_type": "stream",
       "stream": "stdout",
       "text": [
        "\n",
        "0.2"
       ]
      },
      {
       "output_type": "stream",
       "stream": "stdout",
       "text": [
        "\n",
        "0.25"
       ]
      },
      {
       "output_type": "stream",
       "stream": "stdout",
       "text": [
        "\n",
        "0.25"
       ]
      },
      {
       "output_type": "stream",
       "stream": "stdout",
       "text": [
        "\n",
        "0.5"
       ]
      },
      {
       "output_type": "stream",
       "stream": "stdout",
       "text": [
        "\n",
        "0.0"
       ]
      },
      {
       "output_type": "stream",
       "stream": "stdout",
       "text": [
        "\n",
        "0.0"
       ]
      },
      {
       "output_type": "stream",
       "stream": "stdout",
       "text": [
        "\n",
        "0.142857142857"
       ]
      },
      {
       "output_type": "stream",
       "stream": "stdout",
       "text": [
        "\n",
        "0.0"
       ]
      },
      {
       "output_type": "stream",
       "stream": "stdout",
       "text": [
        "\n",
        "0.0"
       ]
      },
      {
       "output_type": "stream",
       "stream": "stdout",
       "text": [
        "\n",
        "0.5"
       ]
      },
      {
       "output_type": "stream",
       "stream": "stdout",
       "text": [
        "\n",
        "0.166666666667"
       ]
      },
      {
       "output_type": "stream",
       "stream": "stdout",
       "text": [
        "\n",
        "0.2"
       ]
      },
      {
       "output_type": "stream",
       "stream": "stdout",
       "text": [
        "\n",
        "0.0"
       ]
      },
      {
       "output_type": "stream",
       "stream": "stdout",
       "text": [
        "\n",
        "0.333333333333"
       ]
      },
      {
       "output_type": "stream",
       "stream": "stdout",
       "text": [
        "\n",
        "0.0"
       ]
      },
      {
       "output_type": "stream",
       "stream": "stdout",
       "text": [
        "\n",
        "0.0"
       ]
      },
      {
       "output_type": "stream",
       "stream": "stdout",
       "text": [
        "\n",
        "0.2"
       ]
      },
      {
       "output_type": "stream",
       "stream": "stdout",
       "text": [
        "\n",
        "0.2"
       ]
      },
      {
       "output_type": "stream",
       "stream": "stdout",
       "text": [
        "\n",
        "0.5"
       ]
      },
      {
       "output_type": "stream",
       "stream": "stdout",
       "text": [
        "\n",
        "0.2"
       ]
      },
      {
       "output_type": "stream",
       "stream": "stdout",
       "text": [
        "\n",
        "0.5"
       ]
      },
      {
       "output_type": "stream",
       "stream": "stdout",
       "text": [
        "\n",
        "0.142857142857"
       ]
      },
      {
       "output_type": "stream",
       "stream": "stdout",
       "text": [
        "\n",
        "nan"
       ]
      },
      {
       "output_type": "stream",
       "stream": "stdout",
       "text": [
        "\n",
        "0.0"
       ]
      },
      {
       "output_type": "stream",
       "stream": "stdout",
       "text": [
        "\n",
        "0.25"
       ]
      },
      {
       "output_type": "stream",
       "stream": "stdout",
       "text": [
        "\n",
        "0.25"
       ]
      },
      {
       "output_type": "stream",
       "stream": "stdout",
       "text": [
        "\n",
        "0.25"
       ]
      },
      {
       "output_type": "stream",
       "stream": "stdout",
       "text": [
        "\n",
        "0.0"
       ]
      },
      {
       "output_type": "stream",
       "stream": "stdout",
       "text": [
        "\n",
        "0.166666666667"
       ]
      },
      {
       "output_type": "stream",
       "stream": "stdout",
       "text": [
        "\n"
       ]
      },
      {
       "metadata": {},
       "output_type": "pyout",
       "prompt_number": 253,
       "text": [
        "<matplotlib.text.Text at 0x11e773f50>"
       ]
      },
      {
       "metadata": {},
       "output_type": "display_data",
       "png": "[encoded data removed]",
       "text": [
        "<matplotlib.figure.Figure at 0x11e576690>"
       ]
      }
     ],
     "prompt_number": 253
    },
    {
     "cell_type": "code",
     "collapsed": false,
     "input": [
      "loanData['desc_length'].max()"
     ],
     "language": "python",
     "metadata": {},
     "outputs": [
      {
       "metadata": {},
       "output_type": "pyout",
       "prompt_number": 250,
       "text": [
        "3989"
       ]
      }
     ],
     "prompt_number": 250
    },
    {
     "cell_type": "code",
     "collapsed": false,
     "input": [
      "mean_default_rates = []\n",
      "max_length = loanData['title_length'].max()\n",
      "title_length_bins = np.arange(1, max_length, 1)\n",
      "for p in title_length_bins:\n",
      "    loans = loanData[loanData['title_length'] <= p]\n",
      "    loans = loans[loans['title_length'] >(p-1)]\n",
      "    mean_default_rate = 1 - loans['loan_status'].mean(axis=1)\n",
      "    mean_default_rates.append(mean_default_rate)\n",
      "    print mean_default_rate\n",
      "\n",
      "plt.scatter(title_length_bins, mean_default_rates)\n",
      "#plt.errorbar(loan_amnt_bins, mean_int_rates, yerr=std_int_rates)\n",
      "plt.title('Title Length vs Default Rate')\n",
      "plt.xlabel('Title Length')\n",
      "plt.ylabel('Default Rate')"
     ],
     "language": "python",
     "metadata": {},
     "outputs": [
      {
       "output_type": "stream",
       "stream": "stdout",
       "text": [
        "nan\n",
        "0.19209039548\n",
        "0.167101827676\n",
        "0.197617997353\n",
        "0.222670431626"
       ]
      },
      {
       "output_type": "stream",
       "stream": "stdout",
       "text": [
        "\n",
        "0.20865279299"
       ]
      },
      {
       "output_type": "stream",
       "stream": "stdout",
       "text": [
        "\n",
        "0.202272010098"
       ]
      },
      {
       "output_type": "stream",
       "stream": "stdout",
       "text": [
        "\n",
        "0.226970317298"
       ]
      },
      {
       "output_type": "stream",
       "stream": "stdout",
       "text": [
        "\n",
        "0.208515967439"
       ]
      },
      {
       "output_type": "stream",
       "stream": "stdout",
       "text": [
        "\n",
        "0.199469261389"
       ]
      },
      {
       "output_type": "stream",
       "stream": "stdout",
       "text": [
        "\n",
        "0.196798917944"
       ]
      },
      {
       "output_type": "stream",
       "stream": "stdout",
       "text": [
        "\n",
        "0.194196996691"
       ]
      },
      {
       "output_type": "stream",
       "stream": "stdout",
       "text": [
        "\n",
        "0.200605274535"
       ]
      },
      {
       "output_type": "stream",
       "stream": "stdout",
       "text": [
        "\n",
        "0.195113314448"
       ]
      },
      {
       "output_type": "stream",
       "stream": "stdout",
       "text": [
        "\n",
        "0.186147186147"
       ]
      },
      {
       "output_type": "stream",
       "stream": "stdout",
       "text": [
        "\n",
        "0.173876309564"
       ]
      },
      {
       "output_type": "stream",
       "stream": "stdout",
       "text": [
        "\n",
        "0.206227436823"
       ]
      },
      {
       "output_type": "stream",
       "stream": "stdout",
       "text": [
        "\n",
        "0.180684156379"
       ]
      },
      {
       "output_type": "stream",
       "stream": "stdout",
       "text": [
        "\n",
        "0.225212947189"
       ]
      },
      {
       "output_type": "stream",
       "stream": "stdout",
       "text": [
        "\n",
        "0.164908384231"
       ]
      },
      {
       "output_type": "stream",
       "stream": "stdout",
       "text": [
        "\n",
        "0.153457653458"
       ]
      },
      {
       "output_type": "stream",
       "stream": "stdout",
       "text": [
        "\n",
        "0.159496327387"
       ]
      },
      {
       "output_type": "stream",
       "stream": "stdout",
       "text": [
        "\n",
        "0.162800749172"
       ]
      },
      {
       "output_type": "stream",
       "stream": "stdout",
       "text": [
        "\n",
        "0.159366262815"
       ]
      },
      {
       "output_type": "stream",
       "stream": "stdout",
       "text": [
        "\n",
        "0.153586904189"
       ]
      },
      {
       "output_type": "stream",
       "stream": "stdout",
       "text": [
        "\n",
        "0.176652892562"
       ]
      },
      {
       "output_type": "stream",
       "stream": "stdout",
       "text": [
        "\n",
        "0.172544080605"
       ]
      },
      {
       "output_type": "stream",
       "stream": "stdout",
       "text": [
        "\n",
        "0.180473372781"
       ]
      },
      {
       "output_type": "stream",
       "stream": "stdout",
       "text": [
        "\n",
        "0.156363636364"
       ]
      },
      {
       "output_type": "stream",
       "stream": "stdout",
       "text": [
        "\n",
        "0.135802469136"
       ]
      },
      {
       "output_type": "stream",
       "stream": "stdout",
       "text": [
        "\n",
        "0.19512195122"
       ]
      },
      {
       "output_type": "stream",
       "stream": "stdout",
       "text": [
        "\n",
        "0.168439716312"
       ]
      },
      {
       "output_type": "stream",
       "stream": "stdout",
       "text": [
        "\n",
        "0.146929824561"
       ]
      },
      {
       "output_type": "stream",
       "stream": "stdout",
       "text": [
        "\n",
        "0.177489177489"
       ]
      },
      {
       "output_type": "stream",
       "stream": "stdout",
       "text": [
        "\n",
        "0.157894736842"
       ]
      },
      {
       "output_type": "stream",
       "stream": "stdout",
       "text": [
        "\n",
        "0.188888888889"
       ]
      },
      {
       "output_type": "stream",
       "stream": "stdout",
       "text": [
        "\n",
        "0.192307692308"
       ]
      },
      {
       "output_type": "stream",
       "stream": "stdout",
       "text": [
        "\n",
        "0.158859470468"
       ]
      },
      {
       "output_type": "stream",
       "stream": "stdout",
       "text": [
        "\n",
        "0.196153846154"
       ]
      },
      {
       "output_type": "stream",
       "stream": "stdout",
       "text": [
        "\n",
        "0.180836707152"
       ]
      },
      {
       "output_type": "stream",
       "stream": "stdout",
       "text": [
        "\n",
        "0.125"
       ]
      },
      {
       "output_type": "stream",
       "stream": "stdout",
       "text": [
        "\n",
        "0.138888888889"
       ]
      },
      {
       "output_type": "stream",
       "stream": "stdout",
       "text": [
        "\n",
        "0.047619047619"
       ]
      },
      {
       "output_type": "stream",
       "stream": "stdout",
       "text": [
        "\n",
        "0.0740740740741"
       ]
      },
      {
       "output_type": "stream",
       "stream": "stdout",
       "text": [
        "\n",
        "0.0769230769231"
       ]
      },
      {
       "output_type": "stream",
       "stream": "stdout",
       "text": [
        "\n",
        "0.136363636364"
       ]
      },
      {
       "output_type": "stream",
       "stream": "stdout",
       "text": [
        "\n",
        "0.05"
       ]
      },
      {
       "output_type": "stream",
       "stream": "stdout",
       "text": [
        "\n",
        "0.125"
       ]
      },
      {
       "output_type": "stream",
       "stream": "stdout",
       "text": [
        "\n",
        "0.25"
       ]
      },
      {
       "output_type": "stream",
       "stream": "stdout",
       "text": [
        "\n",
        "0.0"
       ]
      },
      {
       "output_type": "stream",
       "stream": "stdout",
       "text": [
        "\n",
        "0.0"
       ]
      },
      {
       "output_type": "stream",
       "stream": "stdout",
       "text": [
        "\n",
        "0.0"
       ]
      },
      {
       "output_type": "stream",
       "stream": "stdout",
       "text": [
        "\n",
        "0.153846153846"
       ]
      },
      {
       "output_type": "stream",
       "stream": "stdout",
       "text": [
        "\n",
        "0.2"
       ]
      },
      {
       "output_type": "stream",
       "stream": "stdout",
       "text": [
        "\n",
        "0.166666666667"
       ]
      },
      {
       "output_type": "stream",
       "stream": "stdout",
       "text": [
        "\n",
        "0.0"
       ]
      },
      {
       "output_type": "stream",
       "stream": "stdout",
       "text": [
        "\n",
        "0.0769230769231"
       ]
      },
      {
       "output_type": "stream",
       "stream": "stdout",
       "text": [
        "\n",
        "0.0"
       ]
      },
      {
       "output_type": "stream",
       "stream": "stdout",
       "text": [
        "\n",
        "0.428571428571"
       ]
      },
      {
       "output_type": "stream",
       "stream": "stdout",
       "text": [
        "\n",
        "0.125"
       ]
      },
      {
       "output_type": "stream",
       "stream": "stdout",
       "text": [
        "\n",
        "0.0"
       ]
      },
      {
       "output_type": "stream",
       "stream": "stdout",
       "text": [
        "\n",
        "0.0"
       ]
      },
      {
       "output_type": "stream",
       "stream": "stdout",
       "text": [
        "\n",
        "0.0"
       ]
      },
      {
       "output_type": "stream",
       "stream": "stdout",
       "text": [
        "\n",
        "0.0"
       ]
      },
      {
       "output_type": "stream",
       "stream": "stdout",
       "text": [
        "\n",
        "0.0"
       ]
      },
      {
       "output_type": "stream",
       "stream": "stdout",
       "text": [
        "\n",
        "0.0"
       ]
      },
      {
       "output_type": "stream",
       "stream": "stdout",
       "text": [
        "\n",
        "0.0"
       ]
      },
      {
       "output_type": "stream",
       "stream": "stdout",
       "text": [
        "\n",
        "0.2"
       ]
      },
      {
       "output_type": "stream",
       "stream": "stdout",
       "text": [
        "\n",
        "0.142857142857"
       ]
      },
      {
       "output_type": "stream",
       "stream": "stdout",
       "text": [
        "\n",
        "0.0"
       ]
      },
      {
       "output_type": "stream",
       "stream": "stdout",
       "text": [
        "\n",
        "0.0"
       ]
      },
      {
       "output_type": "stream",
       "stream": "stdout",
       "text": [
        "\n",
        "0.25"
       ]
      },
      {
       "output_type": "stream",
       "stream": "stdout",
       "text": [
        "\n",
        "0.0"
       ]
      },
      {
       "output_type": "stream",
       "stream": "stdout",
       "text": [
        "\n",
        "0.0"
       ]
      },
      {
       "output_type": "stream",
       "stream": "stdout",
       "text": [
        "\n",
        "0.285714285714"
       ]
      },
      {
       "output_type": "stream",
       "stream": "stdout",
       "text": [
        "\n",
        "0.166666666667"
       ]
      },
      {
       "output_type": "stream",
       "stream": "stdout",
       "text": [
        "\n",
        "0.333333333333"
       ]
      },
      {
       "output_type": "stream",
       "stream": "stdout",
       "text": [
        "\n",
        "0.125"
       ]
      },
      {
       "output_type": "stream",
       "stream": "stdout",
       "text": [
        "\n",
        "0.166666666667"
       ]
      },
      {
       "output_type": "stream",
       "stream": "stdout",
       "text": [
        "\n",
        "0.0"
       ]
      },
      {
       "output_type": "stream",
       "stream": "stdout",
       "text": [
        "\n"
       ]
      },
      {
       "metadata": {},
       "output_type": "pyout",
       "prompt_number": 259,
       "text": [
        "<matplotlib.text.Text at 0x11e43fa10>"
       ]
      },
      {
       "metadata": {},
       "output_type": "display_data",
       "png": "[encoded data removed]",
       "text": [
        "<matplotlib.figure.Figure at 0x11e76d6d0>"
       ]
      }
     ],
     "prompt_number": 259
    },
    {
     "cell_type": "code",
     "collapsed": false,
     "input": [
      "mean_default_rates = []\n",
      "max_length = loanData['title_length'].max()\n",
      "title_length_bins = np.arange(1, 40, 1)\n",
      "for p in title_length_bins:\n",
      "    loans = loanData[loanData['title_length'] <= p]\n",
      "    loans = loans[loans['title_length'] >(p-1)]\n",
      "    mean_default_rate = 1 - loans['loan_status'].mean(axis=1)\n",
      "    mean_default_rates.append(mean_default_rate)\n",
      "    print mean_default_rate\n",
      "\n",
      "plt.scatter(title_length_bins, mean_default_rates)\n",
      "#plt.errorbar(loan_amnt_bins, mean_int_rates, yerr=std_int_rates)\n",
      "plt.title('Title Length vs Default Rate')\n",
      "plt.xlabel('Title Length')\n",
      "plt.ylabel('Default Rate')"
     ],
     "language": "python",
     "metadata": {},
     "outputs": [
      {
       "output_type": "stream",
       "stream": "stdout",
       "text": [
        "nan\n",
        "0.19209039548\n",
        "0.167101827676\n",
        "0.197617997353\n",
        "0.222670431626"
       ]
      },
      {
       "output_type": "stream",
       "stream": "stdout",
       "text": [
        "\n",
        "0.20865279299\n",
        "0.202272010098"
       ]
      },
      {
       "output_type": "stream",
       "stream": "stdout",
       "text": [
        "\n",
        "0.226970317298"
       ]
      },
      {
       "output_type": "stream",
       "stream": "stdout",
       "text": [
        "\n",
        "0.208515967439"
       ]
      },
      {
       "output_type": "stream",
       "stream": "stdout",
       "text": [
        "\n",
        "0.199469261389"
       ]
      },
      {
       "output_type": "stream",
       "stream": "stdout",
       "text": [
        "\n",
        "0.196798917944"
       ]
      },
      {
       "output_type": "stream",
       "stream": "stdout",
       "text": [
        "\n",
        "0.194196996691"
       ]
      },
      {
       "output_type": "stream",
       "stream": "stdout",
       "text": [
        "\n",
        "0.200605274535"
       ]
      },
      {
       "output_type": "stream",
       "stream": "stdout",
       "text": [
        "\n",
        "0.195113314448"
       ]
      },
      {
       "output_type": "stream",
       "stream": "stdout",
       "text": [
        "\n",
        "0.186147186147"
       ]
      },
      {
       "output_type": "stream",
       "stream": "stdout",
       "text": [
        "\n",
        "0.173876309564"
       ]
      },
      {
       "output_type": "stream",
       "stream": "stdout",
       "text": [
        "\n",
        "0.206227436823"
       ]
      },
      {
       "output_type": "stream",
       "stream": "stdout",
       "text": [
        "\n",
        "0.180684156379"
       ]
      },
      {
       "output_type": "stream",
       "stream": "stdout",
       "text": [
        "\n",
        "0.225212947189"
       ]
      },
      {
       "output_type": "stream",
       "stream": "stdout",
       "text": [
        "\n",
        "0.164908384231"
       ]
      },
      {
       "output_type": "stream",
       "stream": "stdout",
       "text": [
        "\n",
        "0.153457653458"
       ]
      },
      {
       "output_type": "stream",
       "stream": "stdout",
       "text": [
        "\n",
        "0.159496327387"
       ]
      },
      {
       "output_type": "stream",
       "stream": "stdout",
       "text": [
        "\n",
        "0.162800749172"
       ]
      },
      {
       "output_type": "stream",
       "stream": "stdout",
       "text": [
        "\n",
        "0.159366262815"
       ]
      },
      {
       "output_type": "stream",
       "stream": "stdout",
       "text": [
        "\n",
        "0.153586904189"
       ]
      },
      {
       "output_type": "stream",
       "stream": "stdout",
       "text": [
        "\n",
        "0.176652892562"
       ]
      },
      {
       "output_type": "stream",
       "stream": "stdout",
       "text": [
        "\n",
        "0.172544080605"
       ]
      },
      {
       "output_type": "stream",
       "stream": "stdout",
       "text": [
        "\n",
        "0.180473372781"
       ]
      },
      {
       "output_type": "stream",
       "stream": "stdout",
       "text": [
        "\n",
        "0.156363636364"
       ]
      },
      {
       "output_type": "stream",
       "stream": "stdout",
       "text": [
        "\n",
        "0.135802469136"
       ]
      },
      {
       "output_type": "stream",
       "stream": "stdout",
       "text": [
        "\n",
        "0.19512195122"
       ]
      },
      {
       "output_type": "stream",
       "stream": "stdout",
       "text": [
        "\n",
        "0.168439716312"
       ]
      },
      {
       "output_type": "stream",
       "stream": "stdout",
       "text": [
        "\n",
        "0.146929824561"
       ]
      },
      {
       "output_type": "stream",
       "stream": "stdout",
       "text": [
        "\n",
        "0.177489177489"
       ]
      },
      {
       "output_type": "stream",
       "stream": "stdout",
       "text": [
        "\n",
        "0.157894736842"
       ]
      },
      {
       "output_type": "stream",
       "stream": "stdout",
       "text": [
        "\n",
        "0.188888888889"
       ]
      },
      {
       "output_type": "stream",
       "stream": "stdout",
       "text": [
        "\n",
        "0.192307692308"
       ]
      },
      {
       "output_type": "stream",
       "stream": "stdout",
       "text": [
        "\n",
        "0.158859470468"
       ]
      },
      {
       "output_type": "stream",
       "stream": "stdout",
       "text": [
        "\n",
        "0.196153846154"
       ]
      },
      {
       "output_type": "stream",
       "stream": "stdout",
       "text": [
        "\n"
       ]
      },
      {
       "metadata": {},
       "output_type": "pyout",
       "prompt_number": 260,
       "text": [
        "<matplotlib.text.Text at 0x11954f790>"
       ]
      },
      {
       "metadata": {},
       "output_type": "display_data",
       "png": "[encoded data removed]",
       "text": [
        "<matplotlib.figure.Figure at 0x11e7197d0>"
       ]
      }
     ],
     "prompt_number": 260
    },
    {
     "cell_type": "code",
     "collapsed": false,
     "input": [
      "loanData[:1]"
     ],
     "language": "python",
     "metadata": {},
     "outputs": [
      {
       "html": [
        "<div style=\"max-height:1000px;max-width:1500px;overflow:auto;\">\n",
        "<table border=\"1\" class=\"dataframe\">\n",
        "  <thead>\n",
        "    <tr style=\"text-align: right;\">\n",
        "      <th></th>\n",
        "      <th>id</th>\n",
        "      <th>member_id</th>\n",
        "      <th>loan_amnt</th>\n",
        "      <th>funded_amnt</th>\n",
        "      <th>funded_amnt_inv</th>\n",
        "      <th>term</th>\n",
        "      <th>int_rate</th>\n",
        "      <th>installment</th>\n",
        "      <th>grade</th>\n",
        "      <th>sub_grade</th>\n",
        "      <th>emp_title</th>\n",
        "      <th>emp_length</th>\n",
        "      <th>home_ownership</th>\n",
        "      <th>annual_inc</th>\n",
        "      <th>is_inc_v</th>\n",
        "      <th>issue_d</th>\n",
        "      <th>loan_status</th>\n",
        "      <th>pymnt_plan</th>\n",
        "      <th>url</th>\n",
        "      <th>desc</th>\n",
        "      <th>purpose</th>\n",
        "      <th>title</th>\n",
        "      <th>zip_code</th>\n",
        "      <th>addr_state</th>\n",
        "      <th>dti</th>\n",
        "      <th>delinq_2yrs</th>\n",
        "      <th>earliest_cr_line</th>\n",
        "      <th>inq_last_6mths</th>\n",
        "      <th>mths_since_last_delinq</th>\n",
        "      <th>mths_since_last_record</th>\n",
        "      <th>open_acc</th>\n",
        "      <th>pub_rec</th>\n",
        "      <th>revol_bal</th>\n",
        "      <th>revol_util</th>\n",
        "      <th>total_acc</th>\n",
        "      <th>initial_list_status</th>\n",
        "      <th>out_prncp</th>\n",
        "      <th>out_prncp_inv</th>\n",
        "      <th>total_pymnt</th>\n",
        "      <th>total_pymnt_inv</th>\n",
        "      <th>total_rec_prncp</th>\n",
        "      <th>total_rec_int</th>\n",
        "      <th>total_rec_late_fee</th>\n",
        "      <th>recoveries</th>\n",
        "      <th>collection_recovery_fee</th>\n",
        "      <th>last_pymnt_d</th>\n",
        "      <th>last_pymnt_amnt</th>\n",
        "      <th>next_pymnt_d</th>\n",
        "      <th>last_credit_pull_d</th>\n",
        "      <th>collections_12_mths_ex_med</th>\n",
        "      <th>mths_since_last_major_derog</th>\n",
        "      <th>policy_code</th>\n",
        "      <th>desc_length</th>\n",
        "      <th>title_length</th>\n",
        "    </tr>\n",
        "  </thead>\n",
        "  <tbody>\n",
        "    <tr>\n",
        "      <th>0</th>\n",
        "      <td> 1077430</td>\n",
        "      <td> 1314167</td>\n",
        "      <td> 2500</td>\n",
        "      <td> 2500</td>\n",
        "      <td> 2500</td>\n",
        "      <td>  60 months</td>\n",
        "      <td> 15.27</td>\n",
        "      <td> 59.83</td>\n",
        "      <td> C</td>\n",
        "      <td> C4</td>\n",
        "      <td> Ryder</td>\n",
        "      <td> &lt; 1 year</td>\n",
        "      <td> 0</td>\n",
        "      <td> 30000</td>\n",
        "      <td> Source Verified</td>\n",
        "      <td> Dec-2011</td>\n",
        "      <td> 0</td>\n",
        "      <td> n</td>\n",
        "      <td> https://www.lendingclub.com/browse/loanDetail....</td>\n",
        "      <td>   Borrower added on 12/22/11 &gt; I plan to use t...</td>\n",
        "      <td> car</td>\n",
        "      <td> bike</td>\n",
        "      <td> 309xx</td>\n",
        "      <td> GA</td>\n",
        "      <td> 1</td>\n",
        "      <td> 0</td>\n",
        "      <td> Apr-1999</td>\n",
        "      <td> 5</td>\n",
        "      <td>NaN</td>\n",
        "      <td>NaN</td>\n",
        "      <td> 3</td>\n",
        "      <td> 0</td>\n",
        "      <td> 1687</td>\n",
        "      <td> 9.4%</td>\n",
        "      <td> 4</td>\n",
        "      <td> f</td>\n",
        "      <td> 0</td>\n",
        "      <td> 0</td>\n",
        "      <td> 1008.71</td>\n",
        "      <td> 1008.71</td>\n",
        "      <td> 456.46</td>\n",
        "      <td> 435.17</td>\n",
        "      <td> 0</td>\n",
        "      <td> 117.08</td>\n",
        "      <td> 1.11</td>\n",
        "      <td> Apr-2013</td>\n",
        "      <td> 119.66</td>\n",
        "      <td> NaN</td>\n",
        "      <td> Sep-2013</td>\n",
        "      <td> 0</td>\n",
        "      <td>NaN</td>\n",
        "      <td> 1</td>\n",
        "      <td> 590</td>\n",
        "      <td> 4</td>\n",
        "    </tr>\n",
        "  </tbody>\n",
        "</table>\n",
        "<p>1 rows \u00d7 54 columns</p>\n",
        "</div>"
       ],
       "metadata": {},
       "output_type": "pyout",
       "prompt_number": 261,
       "text": [
        "        id  member_id  loan_amnt  funded_amnt  funded_amnt_inv        term  \\\n",
        "0  1077430    1314167       2500         2500             2500   60 months   \n",
        "\n",
        "   int_rate  installment grade sub_grade emp_title emp_length  home_ownership  \\\n",
        "0     15.27        59.83     C        C4     Ryder   < 1 year               0   \n",
        "\n",
        "   annual_inc         is_inc_v   issue_d  loan_status pymnt_plan  \\\n",
        "0       30000  Source Verified  Dec-2011            0          n   \n",
        "\n",
        "                                                 url  \\\n",
        "0  https://www.lendingclub.com/browse/loanDetail....   \n",
        "\n",
        "                                                desc purpose title zip_code  \\\n",
        "0    Borrower added on 12/22/11 > I plan to use t...     car  bike    309xx   \n",
        "\n",
        "  addr_state  dti  delinq_2yrs earliest_cr_line  inq_last_6mths  \\\n",
        "0         GA    1            0         Apr-1999               5   \n",
        "\n",
        "   mths_since_last_delinq  mths_since_last_record  open_acc  pub_rec  \\\n",
        "0                     NaN                     NaN         3        0   \n",
        "\n",
        "   revol_bal revol_util  total_acc initial_list_status  out_prncp  \\\n",
        "0       1687       9.4%          4                   f          0   \n",
        "\n",
        "   out_prncp_inv  total_pymnt  total_pymnt_inv  total_rec_prncp  \\\n",
        "0              0      1008.71          1008.71           456.46   \n",
        "\n",
        "   total_rec_int  total_rec_late_fee  recoveries  collection_recovery_fee  \\\n",
        "0         435.17                   0      117.08                     1.11   \n",
        "\n",
        "  last_pymnt_d  last_pymnt_amnt next_pymnt_d last_credit_pull_d  \\\n",
        "0     Apr-2013           119.66          NaN           Sep-2013   \n",
        "\n",
        "   collections_12_mths_ex_med  mths_since_last_major_derog  policy_code  \\\n",
        "0                           0                          NaN            1   \n",
        "\n",
        "   desc_length  title_length  \n",
        "0          590             4  \n",
        "\n",
        "[1 rows x 54 columns]"
       ]
      }
     ],
     "prompt_number": 261
    },
    {
     "cell_type": "code",
     "collapsed": false,
     "input": [
      "mean_incomes = []\n",
      "max_length = loanData['annual_inc'].max()\n",
      "income_bins = np.arange(5000, 1000000, 5000)\n",
      "for p in income_bins:\n",
      "    loans = loanData[loanData['annual_inc'] <= p]\n",
      "    loans = loans[loans['annual_inc'] >(p-5000)]\n",
      "    mean_income = 1 - loans['loan_status'].mean(axis=1)\n",
      "    mean_incomes.append(mean_income)\n",
      "    print mean_income\n",
      "\n",
      "plt.scatter(income_bins, mean_incomes)\n",
      "#plt.errorbar(loan_amnt_bins, mean_int_rates, yerr=std_int_rates)\n",
      "plt.title('Mean Annual Income vs Default Rate')\n",
      "plt.xlabel('Mean Income')\n",
      "plt.ylabel('Default Rate')"
     ],
     "language": "python",
     "metadata": {},
     "outputs": [
      {
       "output_type": "stream",
       "stream": "stdout",
       "text": [
        "0.260869565217\n",
        "0.216216216216\n",
        "0.307814992026\n",
        "0.272800645682\n",
        "0.24950806769"
       ]
      },
      {
       "output_type": "stream",
       "stream": "stdout",
       "text": [
        "\n",
        "0.251937984496\n",
        "0.243203984229"
       ]
      },
      {
       "output_type": "stream",
       "stream": "stdout",
       "text": [
        "\n",
        "0.240444753301"
       ]
      },
      {
       "output_type": "stream",
       "stream": "stdout",
       "text": [
        "\n",
        "0.217660292463"
       ]
      },
      {
       "output_type": "stream",
       "stream": "stdout",
       "text": [
        "\n",
        "0.208284486127"
       ]
      },
      {
       "output_type": "stream",
       "stream": "stdout",
       "text": [
        "\n",
        "0.192922374429"
       ]
      },
      {
       "output_type": "stream",
       "stream": "stdout",
       "text": [
        "\n",
        "0.195062727641"
       ]
      },
      {
       "output_type": "stream",
       "stream": "stdout",
       "text": [
        "\n",
        "0.174141140633"
       ]
      },
      {
       "output_type": "stream",
       "stream": "stdout",
       "text": [
        "\n",
        "0.171126888768"
       ]
      },
      {
       "output_type": "stream",
       "stream": "stdout",
       "text": [
        "\n",
        "0.159158050222"
       ]
      },
      {
       "output_type": "stream",
       "stream": "stdout",
       "text": [
        "\n",
        "0.163306004875"
       ]
      },
      {
       "output_type": "stream",
       "stream": "stdout",
       "text": [
        "\n",
        "0.152652005175"
       ]
      },
      {
       "output_type": "stream",
       "stream": "stdout",
       "text": [
        "\n",
        "0.154205607477"
       ]
      },
      {
       "output_type": "stream",
       "stream": "stdout",
       "text": [
        "\n",
        "0.144592952612"
       ]
      },
      {
       "output_type": "stream",
       "stream": "stdout",
       "text": [
        "\n",
        "0.139477726575"
       ]
      },
      {
       "output_type": "stream",
       "stream": "stdout",
       "text": [
        "\n",
        "0.117396593674"
       ]
      },
      {
       "output_type": "stream",
       "stream": "stdout",
       "text": [
        "\n",
        "0.137037037037"
       ]
      },
      {
       "output_type": "stream",
       "stream": "stdout",
       "text": [
        "\n",
        "0.105839416058"
       ]
      },
      {
       "output_type": "stream",
       "stream": "stdout",
       "text": [
        "\n",
        "0.14126186488"
       ]
      },
      {
       "output_type": "stream",
       "stream": "stdout",
       "text": [
        "\n",
        "0.129666011788"
       ]
      },
      {
       "output_type": "stream",
       "stream": "stdout",
       "text": [
        "\n",
        "0.107942973523"
       ]
      },
      {
       "output_type": "stream",
       "stream": "stdout",
       "text": [
        "\n",
        "0.130124777184"
       ]
      },
      {
       "output_type": "stream",
       "stream": "stdout",
       "text": [
        "\n",
        "0.141456582633"
       ]
      },
      {
       "output_type": "stream",
       "stream": "stdout",
       "text": [
        "\n",
        "0.105381165919"
       ]
      },
      {
       "output_type": "stream",
       "stream": "stdout",
       "text": [
        "\n",
        "0.148401826484"
       ]
      },
      {
       "output_type": "stream",
       "stream": "stdout",
       "text": [
        "\n",
        "0.106870229008"
       ]
      },
      {
       "output_type": "stream",
       "stream": "stdout",
       "text": [
        "\n",
        "0.133620689655"
       ]
      },
      {
       "output_type": "stream",
       "stream": "stdout",
       "text": [
        "\n",
        "0.133640552995"
       ]
      },
      {
       "output_type": "stream",
       "stream": "stdout",
       "text": [
        "\n",
        "0.122676579926"
       ]
      },
      {
       "output_type": "stream",
       "stream": "stdout",
       "text": [
        "\n",
        "0.171314741036"
       ]
      },
      {
       "output_type": "stream",
       "stream": "stdout",
       "text": [
        "\n",
        "0.148550724638"
       ]
      },
      {
       "output_type": "stream",
       "stream": "stdout",
       "text": [
        "\n",
        "0.147651006711"
       ]
      },
      {
       "output_type": "stream",
       "stream": "stdout",
       "text": [
        "\n",
        "0.138211382114"
       ]
      },
      {
       "output_type": "stream",
       "stream": "stdout",
       "text": [
        "\n",
        "0.0909090909091"
       ]
      },
      {
       "output_type": "stream",
       "stream": "stdout",
       "text": [
        "\n",
        "0.129476584022"
       ]
      },
      {
       "output_type": "stream",
       "stream": "stdout",
       "text": [
        "\n",
        "0.152173913043"
       ]
      },
      {
       "output_type": "stream",
       "stream": "stdout",
       "text": [
        "\n",
        "0.0813953488372"
       ]
      },
      {
       "output_type": "stream",
       "stream": "stdout",
       "text": [
        "\n",
        "0.159090909091"
       ]
      },
      {
       "output_type": "stream",
       "stream": "stdout",
       "text": [
        "\n",
        "0.139534883721"
       ]
      },
      {
       "output_type": "stream",
       "stream": "stdout",
       "text": [
        "\n",
        "0.107142857143"
       ]
      },
      {
       "output_type": "stream",
       "stream": "stdout",
       "text": [
        "\n",
        "0.166666666667"
       ]
      },
      {
       "output_type": "stream",
       "stream": "stdout",
       "text": [
        "\n",
        "0.155555555556"
       ]
      },
      {
       "output_type": "stream",
       "stream": "stdout",
       "text": [
        "\n",
        "0.159420289855"
       ]
      },
      {
       "output_type": "stream",
       "stream": "stdout",
       "text": [
        "\n",
        "0.0952380952381"
       ]
      },
      {
       "output_type": "stream",
       "stream": "stdout",
       "text": [
        "\n",
        "0.179012345679"
       ]
      },
      {
       "output_type": "stream",
       "stream": "stdout",
       "text": [
        "\n",
        "0.0833333333333"
       ]
      },
      {
       "output_type": "stream",
       "stream": "stdout",
       "text": [
        "\n",
        "0.0333333333333"
       ]
      },
      {
       "output_type": "stream",
       "stream": "stdout",
       "text": [
        "\n",
        "0.210526315789"
       ]
      },
      {
       "output_type": "stream",
       "stream": "stdout",
       "text": [
        "\n",
        "0.166666666667"
       ]
      },
      {
       "output_type": "stream",
       "stream": "stdout",
       "text": [
        "\n",
        "0.1"
       ]
      },
      {
       "output_type": "stream",
       "stream": "stdout",
       "text": [
        "\n",
        "0.117647058824"
       ]
      },
      {
       "output_type": "stream",
       "stream": "stdout",
       "text": [
        "\n",
        "0.181818181818"
       ]
      },
      {
       "output_type": "stream",
       "stream": "stdout",
       "text": [
        "\n",
        "0.133333333333"
       ]
      },
      {
       "output_type": "stream",
       "stream": "stdout",
       "text": [
        "\n",
        "0.111111111111"
       ]
      },
      {
       "output_type": "stream",
       "stream": "stdout",
       "text": [
        "\n",
        "0.0862068965517"
       ]
      },
      {
       "output_type": "stream",
       "stream": "stdout",
       "text": [
        "\n",
        "0.111111111111"
       ]
      },
      {
       "output_type": "stream",
       "stream": "stdout",
       "text": [
        "\n",
        "0.0"
       ]
      },
      {
       "output_type": "stream",
       "stream": "stdout",
       "text": [
        "\n",
        "0.0"
       ]
      },
      {
       "output_type": "stream",
       "stream": "stdout",
       "text": [
        "\n",
        "0.266666666667"
       ]
      },
      {
       "output_type": "stream",
       "stream": "stdout",
       "text": [
        "\n",
        "0.125"
       ]
      },
      {
       "output_type": "stream",
       "stream": "stdout",
       "text": [
        "\n",
        "0.0714285714286"
       ]
      },
      {
       "output_type": "stream",
       "stream": "stdout",
       "text": [
        "\n",
        "0.0"
       ]
      },
      {
       "output_type": "stream",
       "stream": "stdout",
       "text": [
        "\n",
        "0.0"
       ]
      },
      {
       "output_type": "stream",
       "stream": "stdout",
       "text": [
        "\n",
        "0.0"
       ]
      },
      {
       "output_type": "stream",
       "stream": "stdout",
       "text": [
        "\n",
        "0.171428571429"
       ]
      },
      {
       "output_type": "stream",
       "stream": "stdout",
       "text": [
        "\n",
        "0.25"
       ]
      },
      {
       "output_type": "stream",
       "stream": "stdout",
       "text": [
        "\n",
        "0.125"
       ]
      },
      {
       "output_type": "stream",
       "stream": "stdout",
       "text": [
        "\n",
        "0.5"
       ]
      },
      {
       "output_type": "stream",
       "stream": "stdout",
       "text": [
        "\n",
        "0.166666666667"
       ]
      },
      {
       "output_type": "stream",
       "stream": "stdout",
       "text": [
        "\n",
        "0.333333333333"
       ]
      },
      {
       "output_type": "stream",
       "stream": "stdout",
       "text": [
        "\n",
        "0.0"
       ]
      },
      {
       "output_type": "stream",
       "stream": "stdout",
       "text": [
        "\n",
        "0.142857142857"
       ]
      },
      {
       "output_type": "stream",
       "stream": "stdout",
       "text": [
        "\n",
        "0.0"
       ]
      },
      {
       "output_type": "stream",
       "stream": "stdout",
       "text": [
        "\n",
        "0.5"
       ]
      },
      {
       "output_type": "stream",
       "stream": "stdout",
       "text": [
        "\n",
        "0.2"
       ]
      },
      {
       "output_type": "stream",
       "stream": "stdout",
       "text": [
        "\n",
        "nan"
       ]
      },
      {
       "output_type": "stream",
       "stream": "stdout",
       "text": [
        "\n",
        "0.0"
       ]
      },
      {
       "output_type": "stream",
       "stream": "stdout",
       "text": [
        "\n",
        "0.0"
       ]
      },
      {
       "output_type": "stream",
       "stream": "stdout",
       "text": [
        "\n",
        "0.125"
       ]
      },
      {
       "output_type": "stream",
       "stream": "stdout",
       "text": [
        "\n",
        "0.0"
       ]
      },
      {
       "output_type": "stream",
       "stream": "stdout",
       "text": [
        "\n",
        "0.333333333333"
       ]
      },
      {
       "output_type": "stream",
       "stream": "stdout",
       "text": [
        "\n",
        "0.0"
       ]
      },
      {
       "output_type": "stream",
       "stream": "stdout",
       "text": [
        "\n",
        "0.0"
       ]
      },
      {
       "output_type": "stream",
       "stream": "stdout",
       "text": [
        "\n",
        "0.0"
       ]
      },
      {
       "output_type": "stream",
       "stream": "stdout",
       "text": [
        "\n",
        "0.0625"
       ]
      },
      {
       "output_type": "stream",
       "stream": "stdout",
       "text": [
        "\n",
        "nan"
       ]
      },
      {
       "output_type": "stream",
       "stream": "stdout",
       "text": [
        "\n",
        "0.0"
       ]
      },
      {
       "output_type": "stream",
       "stream": "stdout",
       "text": [
        "\n",
        "0.0"
       ]
      },
      {
       "output_type": "stream",
       "stream": "stdout",
       "text": [
        "\n",
        "0.0"
       ]
      },
      {
       "output_type": "stream",
       "stream": "stdout",
       "text": [
        "\n",
        "0.285714285714"
       ]
      },
      {
       "output_type": "stream",
       "stream": "stdout",
       "text": [
        "\n",
        "0.0"
       ]
      },
      {
       "output_type": "stream",
       "stream": "stdout",
       "text": [
        "\n",
        "0.0"
       ]
      },
      {
       "output_type": "stream",
       "stream": "stdout",
       "text": [
        "\n",
        "0.5"
       ]
      },
      {
       "output_type": "stream",
       "stream": "stdout",
       "text": [
        "\n",
        "0.0"
       ]
      },
      {
       "output_type": "stream",
       "stream": "stdout",
       "text": [
        "\n",
        "0.230769230769"
       ]
      },
      {
       "output_type": "stream",
       "stream": "stdout",
       "text": [
        "\n",
        "0.5"
       ]
      },
      {
       "output_type": "stream",
       "stream": "stdout",
       "text": [
        "\n",
        "0.0"
       ]
      },
      {
       "output_type": "stream",
       "stream": "stdout",
       "text": [
        "\n",
        "0.0"
       ]
      },
      {
       "output_type": "stream",
       "stream": "stdout",
       "text": [
        "\n",
        "nan"
       ]
      },
      {
       "output_type": "stream",
       "stream": "stdout",
       "text": [
        "\n",
        "0.25"
       ]
      },
      {
       "output_type": "stream",
       "stream": "stdout",
       "text": [
        "\n",
        "0.0"
       ]
      },
      {
       "output_type": "stream",
       "stream": "stdout",
       "text": [
        "\n",
        "0.0"
       ]
      },
      {
       "output_type": "stream",
       "stream": "stdout",
       "text": [
        "\n",
        "1.0"
       ]
      },
      {
       "output_type": "stream",
       "stream": "stdout",
       "text": [
        "\n",
        "0.0"
       ]
      },
      {
       "output_type": "stream",
       "stream": "stdout",
       "text": [
        "\n",
        "0.375"
       ]
      },
      {
       "output_type": "stream",
       "stream": "stdout",
       "text": [
        "\n",
        "0.0"
       ]
      },
      {
       "output_type": "stream",
       "stream": "stdout",
       "text": [
        "\n",
        "0.0"
       ]
      },
      {
       "output_type": "stream",
       "stream": "stdout",
       "text": [
        "\n",
        "0.0"
       ]
      },
      {
       "output_type": "stream",
       "stream": "stdout",
       "text": [
        "\n",
        "0.0"
       ]
      },
      {
       "output_type": "stream",
       "stream": "stdout",
       "text": [
        "\n",
        "0.0"
       ]
      },
      {
       "output_type": "stream",
       "stream": "stdout",
       "text": [
        "\n",
        "0.0"
       ]
      },
      {
       "output_type": "stream",
       "stream": "stdout",
       "text": [
        "\n",
        "nan"
       ]
      },
      {
       "output_type": "stream",
       "stream": "stdout",
       "text": [
        "\n",
        "nan"
       ]
      },
      {
       "output_type": "stream",
       "stream": "stdout",
       "text": [
        "\n",
        "nan"
       ]
      },
      {
       "output_type": "stream",
       "stream": "stdout",
       "text": [
        "\n",
        "0.125"
       ]
      },
      {
       "output_type": "stream",
       "stream": "stdout",
       "text": [
        "\n",
        "nan"
       ]
      },
      {
       "output_type": "stream",
       "stream": "stdout",
       "text": [
        "\n",
        "nan"
       ]
      },
      {
       "output_type": "stream",
       "stream": "stdout",
       "text": [
        "\n",
        "0.0"
       ]
      },
      {
       "output_type": "stream",
       "stream": "stdout",
       "text": [
        "\n",
        "0.666666666667"
       ]
      },
      {
       "output_type": "stream",
       "stream": "stdout",
       "text": [
        "\n",
        "nan"
       ]
      },
      {
       "output_type": "stream",
       "stream": "stdout",
       "text": [
        "\n",
        "nan"
       ]
      },
      {
       "output_type": "stream",
       "stream": "stdout",
       "text": [
        "\n",
        "nan"
       ]
      },
      {
       "output_type": "stream",
       "stream": "stdout",
       "text": [
        "\n",
        "0.0"
       ]
      },
      {
       "output_type": "stream",
       "stream": "stdout",
       "text": [
        "\n",
        "nan"
       ]
      },
      {
       "output_type": "stream",
       "stream": "stdout",
       "text": [
        "\n",
        "0.0"
       ]
      },
      {
       "output_type": "stream",
       "stream": "stdout",
       "text": [
        "\n",
        "nan"
       ]
      },
      {
       "output_type": "stream",
       "stream": "stdout",
       "text": [
        "\n",
        "1.0"
       ]
      },
      {
       "output_type": "stream",
       "stream": "stdout",
       "text": [
        "\n",
        "nan"
       ]
      },
      {
       "output_type": "stream",
       "stream": "stdout",
       "text": [
        "\n",
        "0.0"
       ]
      },
      {
       "output_type": "stream",
       "stream": "stdout",
       "text": [
        "\n",
        "nan"
       ]
      },
      {
       "output_type": "stream",
       "stream": "stdout",
       "text": [
        "\n",
        "0.0"
       ]
      },
      {
       "output_type": "stream",
       "stream": "stdout",
       "text": [
        "\n",
        "nan"
       ]
      },
      {
       "output_type": "stream",
       "stream": "stdout",
       "text": [
        "\n",
        "nan"
       ]
      },
      {
       "output_type": "stream",
       "stream": "stdout",
       "text": [
        "\n",
        "nan"
       ]
      },
      {
       "output_type": "stream",
       "stream": "stdout",
       "text": [
        "\n",
        "0.4"
       ]
      },
      {
       "output_type": "stream",
       "stream": "stdout",
       "text": [
        "\n",
        "1.0"
       ]
      },
      {
       "output_type": "stream",
       "stream": "stdout",
       "text": [
        "\n",
        "0.0"
       ]
      },
      {
       "output_type": "stream",
       "stream": "stdout",
       "text": [
        "\n",
        "0.0"
       ]
      },
      {
       "output_type": "stream",
       "stream": "stdout",
       "text": [
        "\n",
        "0.0"
       ]
      },
      {
       "output_type": "stream",
       "stream": "stdout",
       "text": [
        "\n",
        "0.0"
       ]
      },
      {
       "output_type": "stream",
       "stream": "stdout",
       "text": [
        "\n",
        "0.0"
       ]
      },
      {
       "output_type": "stream",
       "stream": "stdout",
       "text": [
        "\n",
        "nan"
       ]
      },
      {
       "output_type": "stream",
       "stream": "stdout",
       "text": [
        "\n",
        "nan"
       ]
      },
      {
       "output_type": "stream",
       "stream": "stdout",
       "text": [
        "\n",
        "0.0"
       ]
      },
      {
       "output_type": "stream",
       "stream": "stdout",
       "text": [
        "\n",
        "0.0"
       ]
      },
      {
       "output_type": "stream",
       "stream": "stdout",
       "text": [
        "\n",
        "nan"
       ]
      },
      {
       "output_type": "stream",
       "stream": "stdout",
       "text": [
        "\n",
        "0.0"
       ]
      },
      {
       "output_type": "stream",
       "stream": "stdout",
       "text": [
        "\n",
        "0.0"
       ]
      },
      {
       "output_type": "stream",
       "stream": "stdout",
       "text": [
        "\n",
        "nan"
       ]
      },
      {
       "output_type": "stream",
       "stream": "stdout",
       "text": [
        "\n",
        "nan"
       ]
      },
      {
       "output_type": "stream",
       "stream": "stdout",
       "text": [
        "\n",
        "0.25"
       ]
      },
      {
       "output_type": "stream",
       "stream": "stdout",
       "text": [
        "\n",
        "nan"
       ]
      },
      {
       "output_type": "stream",
       "stream": "stdout",
       "text": [
        "\n",
        "nan"
       ]
      },
      {
       "output_type": "stream",
       "stream": "stdout",
       "text": [
        "\n",
        "nan"
       ]
      },
      {
       "output_type": "stream",
       "stream": "stdout",
       "text": [
        "\n",
        "0.0"
       ]
      },
      {
       "output_type": "stream",
       "stream": "stdout",
       "text": [
        "\n",
        "nan"
       ]
      },
      {
       "output_type": "stream",
       "stream": "stdout",
       "text": [
        "\n",
        "nan"
       ]
      },
      {
       "output_type": "stream",
       "stream": "stdout",
       "text": [
        "\n",
        "nan"
       ]
      },
      {
       "output_type": "stream",
       "stream": "stdout",
       "text": [
        "\n",
        "nan"
       ]
      },
      {
       "output_type": "stream",
       "stream": "stdout",
       "text": [
        "\n",
        "0.0"
       ]
      },
      {
       "output_type": "stream",
       "stream": "stdout",
       "text": [
        "\n",
        "0.0"
       ]
      },
      {
       "output_type": "stream",
       "stream": "stdout",
       "text": [
        "\n",
        "nan"
       ]
      },
      {
       "output_type": "stream",
       "stream": "stdout",
       "text": [
        "\n",
        "0.5"
       ]
      },
      {
       "output_type": "stream",
       "stream": "stdout",
       "text": [
        "\n",
        "0.0"
       ]
      },
      {
       "output_type": "stream",
       "stream": "stdout",
       "text": [
        "\n",
        "0.0"
       ]
      },
      {
       "output_type": "stream",
       "stream": "stdout",
       "text": [
        "\n",
        "0.0"
       ]
      },
      {
       "output_type": "stream",
       "stream": "stdout",
       "text": [
        "\n",
        "0.0"
       ]
      },
      {
       "output_type": "stream",
       "stream": "stdout",
       "text": [
        "\n",
        "nan"
       ]
      },
      {
       "output_type": "stream",
       "stream": "stdout",
       "text": [
        "\n",
        "0.0"
       ]
      },
      {
       "output_type": "stream",
       "stream": "stdout",
       "text": [
        "\n",
        "nan"
       ]
      },
      {
       "output_type": "stream",
       "stream": "stdout",
       "text": [
        "\n",
        "nan"
       ]
      },
      {
       "output_type": "stream",
       "stream": "stdout",
       "text": [
        "\n",
        "nan"
       ]
      },
      {
       "output_type": "stream",
       "stream": "stdout",
       "text": [
        "\n",
        "0.0"
       ]
      },
      {
       "output_type": "stream",
       "stream": "stdout",
       "text": [
        "\n",
        "nan"
       ]
      },
      {
       "output_type": "stream",
       "stream": "stdout",
       "text": [
        "\n",
        "0.0"
       ]
      },
      {
       "output_type": "stream",
       "stream": "stdout",
       "text": [
        "\n",
        "0.0"
       ]
      },
      {
       "output_type": "stream",
       "stream": "stdout",
       "text": [
        "\n",
        "nan"
       ]
      },
      {
       "output_type": "stream",
       "stream": "stdout",
       "text": [
        "\n",
        "nan"
       ]
      },
      {
       "output_type": "stream",
       "stream": "stdout",
       "text": [
        "\n",
        "nan"
       ]
      },
      {
       "output_type": "stream",
       "stream": "stdout",
       "text": [
        "\n",
        "nan"
       ]
      },
      {
       "output_type": "stream",
       "stream": "stdout",
       "text": [
        "\n",
        "nan"
       ]
      },
      {
       "output_type": "stream",
       "stream": "stdout",
       "text": [
        "\n",
        "1.0"
       ]
      },
      {
       "output_type": "stream",
       "stream": "stdout",
       "text": [
        "\n",
        "0.0"
       ]
      },
      {
       "output_type": "stream",
       "stream": "stdout",
       "text": [
        "\n",
        "nan"
       ]
      },
      {
       "output_type": "stream",
       "stream": "stdout",
       "text": [
        "\n",
        "0.0"
       ]
      },
      {
       "output_type": "stream",
       "stream": "stdout",
       "text": [
        "\n",
        "nan"
       ]
      },
      {
       "output_type": "stream",
       "stream": "stdout",
       "text": [
        "\n",
        "nan"
       ]
      },
      {
       "output_type": "stream",
       "stream": "stdout",
       "text": [
        "\n",
        "nan"
       ]
      },
      {
       "output_type": "stream",
       "stream": "stdout",
       "text": [
        "\n",
        "nan"
       ]
      },
      {
       "output_type": "stream",
       "stream": "stdout",
       "text": [
        "\n",
        "nan"
       ]
      },
      {
       "output_type": "stream",
       "stream": "stdout",
       "text": [
        "\n",
        "nan"
       ]
      },
      {
       "output_type": "stream",
       "stream": "stdout",
       "text": [
        "\n",
        "0.0"
       ]
      },
      {
       "output_type": "stream",
       "stream": "stdout",
       "text": [
        "\n",
        "nan"
       ]
      },
      {
       "output_type": "stream",
       "stream": "stdout",
       "text": [
        "\n",
        "0.0"
       ]
      },
      {
       "output_type": "stream",
       "stream": "stdout",
       "text": [
        "\n"
       ]
      },
      {
       "metadata": {},
       "output_type": "pyout",
       "prompt_number": 264,
       "text": [
        "<matplotlib.text.Text at 0x11e730850>"
       ]
      },
      {
       "metadata": {},
       "output_type": "display_data",
       "png": "[encoded data removed]",
       "text": [
        "<matplotlib.figure.Figure at 0x119536e50>"
       ]
      }
     ],
     "prompt_number": 264
    },
    {
     "cell_type": "code",
     "collapsed": false,
     "input": [
      "loanData['annual_inc'].max()"
     ],
     "language": "python",
     "metadata": {},
     "outputs": [
      {
       "metadata": {},
       "output_type": "pyout",
       "prompt_number": 263,
       "text": [
        "7141778.0"
       ]
      }
     ],
     "prompt_number": 263
    },
    {
     "cell_type": "code",
     "collapsed": false,
     "input": [
      "mean_incomes = []\n",
      "max_length = loanData['annual_inc'].max()\n",
      "income_bins = np.arange(5000, 200000, 5000)\n",
      "for p in income_bins:\n",
      "    loans = loanData[loanData['annual_inc'] <= p]\n",
      "    loans = loans[loans['annual_inc'] >(p-5000)]\n",
      "    mean_income = 1 - loans['loan_status'].mean(axis=1)\n",
      "    mean_incomes.append(mean_income)\n",
      "    print mean_income\n",
      "\n",
      "plt.scatter(income_bins, mean_incomes)\n",
      "#plt.errorbar(loan_amnt_bins, mean_int_rates, yerr=std_int_rates)\n",
      "plt.title('Mean Annual Income vs Default Rate')\n",
      "plt.xlabel('Mean Income')\n",
      "plt.ylabel('Default Rate')"
     ],
     "language": "python",
     "metadata": {},
     "outputs": [
      {
       "output_type": "stream",
       "stream": "stdout",
       "text": [
        "0.260869565217\n",
        "0.216216216216\n",
        "0.307814992026\n",
        "0.272800645682\n",
        "0.24950806769"
       ]
      },
      {
       "output_type": "stream",
       "stream": "stdout",
       "text": [
        "\n",
        "0.251937984496"
       ]
      },
      {
       "output_type": "stream",
       "stream": "stdout",
       "text": [
        "\n",
        "0.243203984229"
       ]
      },
      {
       "output_type": "stream",
       "stream": "stdout",
       "text": [
        "\n",
        "0.240444753301"
       ]
      },
      {
       "output_type": "stream",
       "stream": "stdout",
       "text": [
        "\n",
        "0.217660292463"
       ]
      },
      {
       "output_type": "stream",
       "stream": "stdout",
       "text": [
        "\n",
        "0.208284486127"
       ]
      },
      {
       "output_type": "stream",
       "stream": "stdout",
       "text": [
        "\n",
        "0.192922374429"
       ]
      },
      {
       "output_type": "stream",
       "stream": "stdout",
       "text": [
        "\n",
        "0.195062727641"
       ]
      },
      {
       "output_type": "stream",
       "stream": "stdout",
       "text": [
        "\n",
        "0.174141140633"
       ]
      },
      {
       "output_type": "stream",
       "stream": "stdout",
       "text": [
        "\n",
        "0.171126888768"
       ]
      },
      {
       "output_type": "stream",
       "stream": "stdout",
       "text": [
        "\n",
        "0.159158050222"
       ]
      },
      {
       "output_type": "stream",
       "stream": "stdout",
       "text": [
        "\n",
        "0.163306004875"
       ]
      },
      {
       "output_type": "stream",
       "stream": "stdout",
       "text": [
        "\n",
        "0.152652005175"
       ]
      },
      {
       "output_type": "stream",
       "stream": "stdout",
       "text": [
        "\n",
        "0.154205607477"
       ]
      },
      {
       "output_type": "stream",
       "stream": "stdout",
       "text": [
        "\n",
        "0.144592952612"
       ]
      },
      {
       "output_type": "stream",
       "stream": "stdout",
       "text": [
        "\n",
        "0.139477726575"
       ]
      },
      {
       "output_type": "stream",
       "stream": "stdout",
       "text": [
        "\n",
        "0.117396593674"
       ]
      },
      {
       "output_type": "stream",
       "stream": "stdout",
       "text": [
        "\n",
        "0.137037037037"
       ]
      },
      {
       "output_type": "stream",
       "stream": "stdout",
       "text": [
        "\n",
        "0.105839416058"
       ]
      },
      {
       "output_type": "stream",
       "stream": "stdout",
       "text": [
        "\n",
        "0.14126186488"
       ]
      },
      {
       "output_type": "stream",
       "stream": "stdout",
       "text": [
        "\n",
        "0.129666011788"
       ]
      },
      {
       "output_type": "stream",
       "stream": "stdout",
       "text": [
        "\n",
        "0.107942973523"
       ]
      },
      {
       "output_type": "stream",
       "stream": "stdout",
       "text": [
        "\n",
        "0.130124777184"
       ]
      },
      {
       "output_type": "stream",
       "stream": "stdout",
       "text": [
        "\n",
        "0.141456582633"
       ]
      },
      {
       "output_type": "stream",
       "stream": "stdout",
       "text": [
        "\n",
        "0.105381165919"
       ]
      },
      {
       "output_type": "stream",
       "stream": "stdout",
       "text": [
        "\n",
        "0.148401826484"
       ]
      },
      {
       "output_type": "stream",
       "stream": "stdout",
       "text": [
        "\n",
        "0.106870229008"
       ]
      },
      {
       "output_type": "stream",
       "stream": "stdout",
       "text": [
        "\n",
        "0.133620689655"
       ]
      },
      {
       "output_type": "stream",
       "stream": "stdout",
       "text": [
        "\n",
        "0.133640552995"
       ]
      },
      {
       "output_type": "stream",
       "stream": "stdout",
       "text": [
        "\n",
        "0.122676579926"
       ]
      },
      {
       "output_type": "stream",
       "stream": "stdout",
       "text": [
        "\n",
        "0.171314741036"
       ]
      },
      {
       "output_type": "stream",
       "stream": "stdout",
       "text": [
        "\n",
        "0.148550724638"
       ]
      },
      {
       "output_type": "stream",
       "stream": "stdout",
       "text": [
        "\n",
        "0.147651006711"
       ]
      },
      {
       "output_type": "stream",
       "stream": "stdout",
       "text": [
        "\n",
        "0.138211382114"
       ]
      },
      {
       "output_type": "stream",
       "stream": "stdout",
       "text": [
        "\n",
        "0.0909090909091"
       ]
      },
      {
       "output_type": "stream",
       "stream": "stdout",
       "text": [
        "\n"
       ]
      },
      {
       "metadata": {},
       "output_type": "pyout",
       "prompt_number": 265,
       "text": [
        "<matplotlib.text.Text at 0x11e7d5210>"
       ]
      },
      {
       "metadata": {},
       "output_type": "display_data",
       "png": "[encoded data removed]",
       "text": [
        "<matplotlib.figure.Figure at 0x11e57ced0>"
       ]
      }
     ],
     "prompt_number": 265
    },
    {
     "cell_type": "code",
     "collapsed": false,
     "input": [
      "mean_int_rates = []\n",
      "max_length = loanData['annual_inc'].max()\n",
      "income_bins = np.arange(5000, 200000, 5000)\n",
      "for p in income_bins:\n",
      "    loans = loanData[loanData['annual_inc'] <= p]\n",
      "    loans = loans[loans['annual_inc'] >(p-5000)]\n",
      "    mean_int_rate = loans['int_rate'].mean(axis=1)\n",
      "    mean_int_rates.append(mean_int_rate)\n",
      "    print mean_int_rate\n",
      "\n",
      "plt.scatter(income_bins, mean_int_rates)\n",
      "#plt.errorbar(loan_amnt_bins, mean_int_rates, yerr=std_int_rates)\n",
      "plt.title('Mean Annual Income vs Interest Rate')\n",
      "plt.xlabel('Mean Income')\n",
      "plt.ylabel('Interest Rate')"
     ],
     "language": "python",
     "metadata": {},
     "outputs": [
      {
       "output_type": "stream",
       "stream": "stdout",
       "text": [
        "0.0909090909091\n",
        "0.0909090909091\n",
        "0.0909090909091\n",
        "0.0909090909091\n",
        "0.0909090909091"
       ]
      },
      {
       "output_type": "stream",
       "stream": "stdout",
       "text": [
        "\n",
        "0.0909090909091"
       ]
      },
      {
       "output_type": "stream",
       "stream": "stdout",
       "text": [
        "\n",
        "0.0909090909091"
       ]
      },
      {
       "output_type": "stream",
       "stream": "stdout",
       "text": [
        "\n",
        "0.0909090909091"
       ]
      },
      {
       "output_type": "stream",
       "stream": "stdout",
       "text": [
        "\n",
        "0.0909090909091"
       ]
      },
      {
       "output_type": "stream",
       "stream": "stdout",
       "text": [
        "\n",
        "0.0909090909091"
       ]
      },
      {
       "output_type": "stream",
       "stream": "stdout",
       "text": [
        "\n",
        "0.0909090909091"
       ]
      },
      {
       "output_type": "stream",
       "stream": "stdout",
       "text": [
        "\n",
        "0.0909090909091"
       ]
      },
      {
       "output_type": "stream",
       "stream": "stdout",
       "text": [
        "\n",
        "0.0909090909091"
       ]
      },
      {
       "output_type": "stream",
       "stream": "stdout",
       "text": [
        "\n",
        "0.0909090909091"
       ]
      },
      {
       "output_type": "stream",
       "stream": "stdout",
       "text": [
        "\n",
        "0.0909090909091"
       ]
      },
      {
       "output_type": "stream",
       "stream": "stdout",
       "text": [
        "\n",
        "0.0909090909091"
       ]
      },
      {
       "output_type": "stream",
       "stream": "stdout",
       "text": [
        "\n",
        "0.0909090909091"
       ]
      },
      {
       "output_type": "stream",
       "stream": "stdout",
       "text": [
        "\n",
        "0.0909090909091"
       ]
      },
      {
       "output_type": "stream",
       "stream": "stdout",
       "text": [
        "\n",
        "0.0909090909091"
       ]
      },
      {
       "output_type": "stream",
       "stream": "stdout",
       "text": [
        "\n",
        "0.0909090909091"
       ]
      },
      {
       "output_type": "stream",
       "stream": "stdout",
       "text": [
        "\n",
        "0.0909090909091"
       ]
      },
      {
       "output_type": "stream",
       "stream": "stdout",
       "text": [
        "\n",
        "0.0909090909091"
       ]
      },
      {
       "output_type": "stream",
       "stream": "stdout",
       "text": [
        "\n",
        "0.0909090909091"
       ]
      },
      {
       "output_type": "stream",
       "stream": "stdout",
       "text": [
        "\n",
        "0.0909090909091"
       ]
      },
      {
       "output_type": "stream",
       "stream": "stdout",
       "text": [
        "\n",
        "0.0909090909091"
       ]
      },
      {
       "output_type": "stream",
       "stream": "stdout",
       "text": [
        "\n",
        "0.0909090909091"
       ]
      },
      {
       "output_type": "stream",
       "stream": "stdout",
       "text": [
        "\n",
        "0.0909090909091"
       ]
      },
      {
       "output_type": "stream",
       "stream": "stdout",
       "text": [
        "\n",
        "0.0909090909091"
       ]
      },
      {
       "output_type": "stream",
       "stream": "stdout",
       "text": [
        "\n",
        "0.0909090909091"
       ]
      },
      {
       "output_type": "stream",
       "stream": "stdout",
       "text": [
        "\n",
        "0.0909090909091"
       ]
      },
      {
       "output_type": "stream",
       "stream": "stdout",
       "text": [
        "\n",
        "0.0909090909091"
       ]
      },
      {
       "output_type": "stream",
       "stream": "stdout",
       "text": [
        "\n",
        "0.0909090909091"
       ]
      },
      {
       "output_type": "stream",
       "stream": "stdout",
       "text": [
        "\n",
        "0.0909090909091"
       ]
      },
      {
       "output_type": "stream",
       "stream": "stdout",
       "text": [
        "\n",
        "0.0909090909091"
       ]
      },
      {
       "output_type": "stream",
       "stream": "stdout",
       "text": [
        "\n",
        "0.0909090909091"
       ]
      },
      {
       "output_type": "stream",
       "stream": "stdout",
       "text": [
        "\n",
        "0.0909090909091"
       ]
      },
      {
       "output_type": "stream",
       "stream": "stdout",
       "text": [
        "\n",
        "0.0909090909091"
       ]
      },
      {
       "output_type": "stream",
       "stream": "stdout",
       "text": [
        "\n",
        "0.0909090909091"
       ]
      },
      {
       "output_type": "stream",
       "stream": "stdout",
       "text": [
        "\n",
        "0.0909090909091"
       ]
      },
      {
       "output_type": "stream",
       "stream": "stdout",
       "text": [
        "\n"
       ]
      },
      {
       "metadata": {},
       "output_type": "pyout",
       "prompt_number": 266,
       "text": [
        "<matplotlib.text.Text at 0x11e6b5dd0>"
       ]
      },
      {
       "metadata": {},
       "output_type": "display_data",
       "png": "[encoded data removed]",
       "text": [
        "<matplotlib.figure.Figure at 0x11e74a550>"
       ]
      }
     ],
     "prompt_number": 266
    },
    {
     "cell_type": "code",
     "collapsed": false,
     "input": [
      "loanData[:1]"
     ],
     "language": "python",
     "metadata": {},
     "outputs": [
      {
       "html": [
        "<div style=\"max-height:1000px;max-width:1500px;overflow:auto;\">\n",
        "<table border=\"1\" class=\"dataframe\">\n",
        "  <thead>\n",
        "    <tr style=\"text-align: right;\">\n",
        "      <th></th>\n",
        "      <th>id</th>\n",
        "      <th>member_id</th>\n",
        "      <th>loan_amnt</th>\n",
        "      <th>funded_amnt</th>\n",
        "      <th>funded_amnt_inv</th>\n",
        "      <th>term</th>\n",
        "      <th>int_rate</th>\n",
        "      <th>installment</th>\n",
        "      <th>grade</th>\n",
        "      <th>sub_grade</th>\n",
        "      <th>emp_title</th>\n",
        "      <th>emp_length</th>\n",
        "      <th>home_ownership</th>\n",
        "      <th>annual_inc</th>\n",
        "      <th>is_inc_v</th>\n",
        "      <th>issue_d</th>\n",
        "      <th>loan_status</th>\n",
        "      <th>pymnt_plan</th>\n",
        "      <th>url</th>\n",
        "      <th>desc</th>\n",
        "      <th>purpose</th>\n",
        "      <th>title</th>\n",
        "      <th>zip_code</th>\n",
        "      <th>addr_state</th>\n",
        "      <th>dti</th>\n",
        "      <th>delinq_2yrs</th>\n",
        "      <th>earliest_cr_line</th>\n",
        "      <th>inq_last_6mths</th>\n",
        "      <th>mths_since_last_delinq</th>\n",
        "      <th>mths_since_last_record</th>\n",
        "      <th>open_acc</th>\n",
        "      <th>pub_rec</th>\n",
        "      <th>revol_bal</th>\n",
        "      <th>revol_util</th>\n",
        "      <th>total_acc</th>\n",
        "      <th>initial_list_status</th>\n",
        "      <th>out_prncp</th>\n",
        "      <th>out_prncp_inv</th>\n",
        "      <th>total_pymnt</th>\n",
        "      <th>total_pymnt_inv</th>\n",
        "      <th>total_rec_prncp</th>\n",
        "      <th>total_rec_int</th>\n",
        "      <th>total_rec_late_fee</th>\n",
        "      <th>recoveries</th>\n",
        "      <th>collection_recovery_fee</th>\n",
        "      <th>last_pymnt_d</th>\n",
        "      <th>last_pymnt_amnt</th>\n",
        "      <th>next_pymnt_d</th>\n",
        "      <th>last_credit_pull_d</th>\n",
        "      <th>collections_12_mths_ex_med</th>\n",
        "      <th>mths_since_last_major_derog</th>\n",
        "      <th>policy_code</th>\n",
        "      <th>desc_length</th>\n",
        "      <th>title_length</th>\n",
        "    </tr>\n",
        "  </thead>\n",
        "  <tbody>\n",
        "    <tr>\n",
        "      <th>0</th>\n",
        "      <td> 1077430</td>\n",
        "      <td> 1314167</td>\n",
        "      <td> 2500</td>\n",
        "      <td> 2500</td>\n",
        "      <td> 2500</td>\n",
        "      <td>  60 months</td>\n",
        "      <td> 15.27</td>\n",
        "      <td> 59.83</td>\n",
        "      <td> C</td>\n",
        "      <td> C4</td>\n",
        "      <td> Ryder</td>\n",
        "      <td> &lt; 1 year</td>\n",
        "      <td> 0</td>\n",
        "      <td> 30000</td>\n",
        "      <td> Source Verified</td>\n",
        "      <td> Dec-2011</td>\n",
        "      <td> 0</td>\n",
        "      <td> n</td>\n",
        "      <td> https://www.lendingclub.com/browse/loanDetail....</td>\n",
        "      <td>   Borrower added on 12/22/11 &gt; I plan to use t...</td>\n",
        "      <td> car</td>\n",
        "      <td> bike</td>\n",
        "      <td> 309xx</td>\n",
        "      <td> GA</td>\n",
        "      <td> 1</td>\n",
        "      <td> 0</td>\n",
        "      <td> Apr-1999</td>\n",
        "      <td> 5</td>\n",
        "      <td>NaN</td>\n",
        "      <td>NaN</td>\n",
        "      <td> 3</td>\n",
        "      <td> 0</td>\n",
        "      <td> 1687</td>\n",
        "      <td> 9.4%</td>\n",
        "      <td> 4</td>\n",
        "      <td> f</td>\n",
        "      <td> 0</td>\n",
        "      <td> 0</td>\n",
        "      <td> 1008.71</td>\n",
        "      <td> 1008.71</td>\n",
        "      <td> 456.46</td>\n",
        "      <td> 435.17</td>\n",
        "      <td> 0</td>\n",
        "      <td> 117.08</td>\n",
        "      <td> 1.11</td>\n",
        "      <td> Apr-2013</td>\n",
        "      <td> 119.66</td>\n",
        "      <td> NaN</td>\n",
        "      <td> Sep-2013</td>\n",
        "      <td> 0</td>\n",
        "      <td>NaN</td>\n",
        "      <td> 1</td>\n",
        "      <td> 590</td>\n",
        "      <td> 4</td>\n",
        "    </tr>\n",
        "  </tbody>\n",
        "</table>\n",
        "<p>1 rows \u00d7 54 columns</p>\n",
        "</div>"
       ],
       "metadata": {},
       "output_type": "pyout",
       "prompt_number": 267,
       "text": [
        "        id  member_id  loan_amnt  funded_amnt  funded_amnt_inv        term  \\\n",
        "0  1077430    1314167       2500         2500             2500   60 months   \n",
        "\n",
        "   int_rate  installment grade sub_grade emp_title emp_length  home_ownership  \\\n",
        "0     15.27        59.83     C        C4     Ryder   < 1 year               0   \n",
        "\n",
        "   annual_inc         is_inc_v   issue_d  loan_status pymnt_plan  \\\n",
        "0       30000  Source Verified  Dec-2011            0          n   \n",
        "\n",
        "                                                 url  \\\n",
        "0  https://www.lendingclub.com/browse/loanDetail....   \n",
        "\n",
        "                                                desc purpose title zip_code  \\\n",
        "0    Borrower added on 12/22/11 > I plan to use t...     car  bike    309xx   \n",
        "\n",
        "  addr_state  dti  delinq_2yrs earliest_cr_line  inq_last_6mths  \\\n",
        "0         GA    1            0         Apr-1999               5   \n",
        "\n",
        "   mths_since_last_delinq  mths_since_last_record  open_acc  pub_rec  \\\n",
        "0                     NaN                     NaN         3        0   \n",
        "\n",
        "   revol_bal revol_util  total_acc initial_list_status  out_prncp  \\\n",
        "0       1687       9.4%          4                   f          0   \n",
        "\n",
        "   out_prncp_inv  total_pymnt  total_pymnt_inv  total_rec_prncp  \\\n",
        "0              0      1008.71          1008.71           456.46   \n",
        "\n",
        "   total_rec_int  total_rec_late_fee  recoveries  collection_recovery_fee  \\\n",
        "0         435.17                   0      117.08                     1.11   \n",
        "\n",
        "  last_pymnt_d  last_pymnt_amnt next_pymnt_d last_credit_pull_d  \\\n",
        "0     Apr-2013           119.66          NaN           Sep-2013   \n",
        "\n",
        "   collections_12_mths_ex_med  mths_since_last_major_derog  policy_code  \\\n",
        "0                           0                          NaN            1   \n",
        "\n",
        "   desc_length  title_length  \n",
        "0          590             4  \n",
        "\n",
        "[1 rows x 54 columns]"
       ]
      }
     ],
     "prompt_number": 267
    },
    {
     "cell_type": "code",
     "collapsed": false,
     "input": [
      "a = loanData[loanData['annual_inc']==loanData['annual_inc'].max()]"
     ],
     "language": "python",
     "metadata": {},
     "outputs": [],
     "prompt_number": 268
    },
    {
     "cell_type": "code",
     "collapsed": false,
     "input": [
      "a"
     ],
     "language": "python",
     "metadata": {},
     "outputs": [
      {
       "html": [
        "<div style=\"max-height:1000px;max-width:1500px;overflow:auto;\">\n",
        "<table border=\"1\" class=\"dataframe\">\n",
        "  <thead>\n",
        "    <tr style=\"text-align: right;\">\n",
        "      <th></th>\n",
        "      <th>id</th>\n",
        "      <th>member_id</th>\n",
        "      <th>loan_amnt</th>\n",
        "      <th>funded_amnt</th>\n",
        "      <th>funded_amnt_inv</th>\n",
        "      <th>term</th>\n",
        "      <th>int_rate</th>\n",
        "      <th>installment</th>\n",
        "      <th>grade</th>\n",
        "      <th>sub_grade</th>\n",
        "      <th>emp_title</th>\n",
        "      <th>emp_length</th>\n",
        "      <th>home_ownership</th>\n",
        "      <th>annual_inc</th>\n",
        "      <th>is_inc_v</th>\n",
        "      <th>issue_d</th>\n",
        "      <th>loan_status</th>\n",
        "      <th>pymnt_plan</th>\n",
        "      <th>url</th>\n",
        "      <th>desc</th>\n",
        "      <th>purpose</th>\n",
        "      <th>title</th>\n",
        "      <th>zip_code</th>\n",
        "      <th>addr_state</th>\n",
        "      <th>dti</th>\n",
        "      <th>delinq_2yrs</th>\n",
        "      <th>earliest_cr_line</th>\n",
        "      <th>inq_last_6mths</th>\n",
        "      <th>mths_since_last_delinq</th>\n",
        "      <th>mths_since_last_record</th>\n",
        "      <th>open_acc</th>\n",
        "      <th>pub_rec</th>\n",
        "      <th>revol_bal</th>\n",
        "      <th>revol_util</th>\n",
        "      <th>total_acc</th>\n",
        "      <th>initial_list_status</th>\n",
        "      <th>out_prncp</th>\n",
        "      <th>out_prncp_inv</th>\n",
        "      <th>total_pymnt</th>\n",
        "      <th>total_pymnt_inv</th>\n",
        "      <th>total_rec_prncp</th>\n",
        "      <th>total_rec_int</th>\n",
        "      <th>total_rec_late_fee</th>\n",
        "      <th>recoveries</th>\n",
        "      <th>collection_recovery_fee</th>\n",
        "      <th>last_pymnt_d</th>\n",
        "      <th>last_pymnt_amnt</th>\n",
        "      <th>next_pymnt_d</th>\n",
        "      <th>last_credit_pull_d</th>\n",
        "      <th>collections_12_mths_ex_med</th>\n",
        "      <th>mths_since_last_major_derog</th>\n",
        "      <th>policy_code</th>\n",
        "      <th>desc_length</th>\n",
        "      <th>title_length</th>\n",
        "    </tr>\n",
        "  </thead>\n",
        "  <tbody>\n",
        "    <tr>\n",
        "      <th>66995</th>\n",
        "      <td> 2704881</td>\n",
        "      <td> 3267055</td>\n",
        "      <td> 14825</td>\n",
        "      <td> 14825</td>\n",
        "      <td> 14825</td>\n",
        "      <td>  36 months</td>\n",
        "      <td> 13.11</td>\n",
        "      <td> 500.3</td>\n",
        "      <td> B</td>\n",
        "      <td> B4</td>\n",
        "      <td> Us postal service</td>\n",
        "      <td> 10+ years</td>\n",
        "      <td> 2</td>\n",
        "      <td> 7141778</td>\n",
        "      <td> Source Verified</td>\n",
        "      <td> Dec-2012</td>\n",
        "      <td> 1</td>\n",
        "      <td> n</td>\n",
        "      <td> https://www.lendingclub.com/browse/loanDetail....</td>\n",
        "      <td>   Borrower added on 12/21/12 &gt; Well I have a l...</td>\n",
        "      <td> debt_consolidation</td>\n",
        "      <td> Debt consolidation </td>\n",
        "      <td> 317xx</td>\n",
        "      <td> GA</td>\n",
        "      <td> 0.25</td>\n",
        "      <td> 0</td>\n",
        "      <td> Mar-1996</td>\n",
        "      <td> 2</td>\n",
        "      <td> 26</td>\n",
        "      <td>NaN</td>\n",
        "      <td> 17</td>\n",
        "      <td> 0</td>\n",
        "      <td> 11351</td>\n",
        "      <td> 70.9%</td>\n",
        "      <td> 31</td>\n",
        "      <td> w</td>\n",
        "      <td> 0</td>\n",
        "      <td> 0</td>\n",
        "      <td> 17229.33</td>\n",
        "      <td> 17229.33</td>\n",
        "      <td> 14825</td>\n",
        "      <td> 2404.33</td>\n",
        "      <td> 0</td>\n",
        "      <td> 0</td>\n",
        "      <td> 0</td>\n",
        "      <td> Jul-2014</td>\n",
        "      <td> 8223.93</td>\n",
        "      <td> NaN</td>\n",
        "      <td> Jul-2014</td>\n",
        "      <td> 0</td>\n",
        "      <td>NaN</td>\n",
        "      <td> 1</td>\n",
        "      <td> 184</td>\n",
        "      <td> 19</td>\n",
        "    </tr>\n",
        "  </tbody>\n",
        "</table>\n",
        "<p>1 rows \u00d7 54 columns</p>\n",
        "</div>"
       ],
       "metadata": {},
       "output_type": "pyout",
       "prompt_number": 269,
       "text": [
        "            id  member_id  loan_amnt  funded_amnt  funded_amnt_inv  \\\n",
        "66995  2704881    3267055      14825        14825            14825   \n",
        "\n",
        "             term  int_rate  installment grade sub_grade          emp_title  \\\n",
        "66995   36 months     13.11        500.3     B        B4  Us postal service   \n",
        "\n",
        "      emp_length  home_ownership  annual_inc         is_inc_v   issue_d  \\\n",
        "66995  10+ years               2     7141778  Source Verified  Dec-2012   \n",
        "\n",
        "       loan_status pymnt_plan  \\\n",
        "66995            1          n   \n",
        "\n",
        "                                                     url  \\\n",
        "66995  https://www.lendingclub.com/browse/loanDetail....   \n",
        "\n",
        "                                                    desc             purpose  \\\n",
        "66995    Borrower added on 12/21/12 > Well I have a l...  debt_consolidation   \n",
        "\n",
        "                     title zip_code addr_state   dti  delinq_2yrs  \\\n",
        "66995  Debt consolidation     317xx         GA  0.25            0   \n",
        "\n",
        "      earliest_cr_line  inq_last_6mths  mths_since_last_delinq  \\\n",
        "66995         Mar-1996               2                      26   \n",
        "\n",
        "       mths_since_last_record  open_acc  pub_rec  revol_bal revol_util  \\\n",
        "66995                     NaN        17        0      11351      70.9%   \n",
        "\n",
        "       total_acc initial_list_status  out_prncp  out_prncp_inv  total_pymnt  \\\n",
        "66995         31                   w          0              0     17229.33   \n",
        "\n",
        "       total_pymnt_inv  total_rec_prncp  total_rec_int  total_rec_late_fee  \\\n",
        "66995         17229.33            14825        2404.33                   0   \n",
        "\n",
        "       recoveries  collection_recovery_fee last_pymnt_d  last_pymnt_amnt  \\\n",
        "66995           0                        0     Jul-2014          8223.93   \n",
        "\n",
        "      next_pymnt_d last_credit_pull_d  collections_12_mths_ex_med  \\\n",
        "66995          NaN           Jul-2014                           0   \n",
        "\n",
        "       mths_since_last_major_derog  policy_code  desc_length  title_length  \n",
        "66995                          NaN            1          184            19  \n",
        "\n",
        "[1 rows x 54 columns]"
       ]
      }
     ],
     "prompt_number": 269
    },
    {
     "cell_type": "code",
     "collapsed": false,
     "input": [
      "purposes = loanData['purpose'].unique()\n",
      "mean_default_rates = []\n",
      "for p in purposes:\n",
      "    loans = loanData[loanData['purpose'] == p]\n",
      "    mean_default_rate = 1 - loans['loan_status'].mean(axis=1)\n",
      "    mean_default_rates.append(mean_default_rate)\n",
      "    print mean_default_rate\n",
      "\n",
      "plt.bar(range(len(purposes)), mean_default_rates)\n",
      "#plt.errorbar(loan_amnt_bins, mean_int_rates, yerr=std_int_rates)\n",
      "plt.title('Loan Purpose vs Default Rate')\n",
      "plt.xticks(range(len(purposes)), purposes, rotation=90)\n",
      "plt.xlabel('Loan Purpose')\n",
      "plt.ylabel('Default Rate')"
     ],
     "language": "python",
     "metadata": {},
     "outputs": [
      {
       "output_type": "stream",
       "stream": "stdout",
       "text": [
        "0.130912565695\n",
        "0.329310344828\n",
        "0.217511013216"
       ]
      },
      {
       "output_type": "stream",
       "stream": "stdout",
       "text": [
        "\n",
        "0.19292728677"
       ]
      },
      {
       "output_type": "stream",
       "stream": "stdout",
       "text": [
        "\n",
        "0.139769025763"
       ]
      },
      {
       "output_type": "stream",
       "stream": "stdout",
       "text": [
        "\n",
        "0.156319680789"
       ]
      },
      {
       "output_type": "stream",
       "stream": "stdout",
       "text": [
        "\n",
        "0.205970149254\n",
        "0.154028811145"
       ]
      },
      {
       "output_type": "stream",
       "stream": "stdout",
       "text": [
        "\n",
        "0.208766716196\n",
        "0.181084198385\n",
        "0.184979137691"
       ]
      },
      {
       "output_type": "stream",
       "stream": "stdout",
       "text": [
        "\n",
        "0.154011461318\n",
        "0.263513513514"
       ]
      },
      {
       "output_type": "stream",
       "stream": "stdout",
       "text": [
        "\n",
        "0.210144927536\n"
       ]
      },
      {
       "metadata": {},
       "output_type": "pyout",
       "prompt_number": 275,
       "text": [
        "<matplotlib.text.Text at 0x11cd3be50>"
       ]
      },
      {
       "metadata": {},
       "output_type": "display_data",
       "png": "[encoded data removed]",
       "text": [
        "<matplotlib.figure.Figure at 0x11cd4f290>"
       ]
      }
     ],
     "prompt_number": 275
    },
    {
     "cell_type": "code",
     "collapsed": false,
     "input": [],
     "language": "python",
     "metadata": {},
     "outputs": []
    }
   ],
   "metadata": {}
  }
 ]
}