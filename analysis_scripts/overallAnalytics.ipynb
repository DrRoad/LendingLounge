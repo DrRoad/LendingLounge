{
 "metadata": {
  "name": "",
  "signature": "sha256:6de7f0bcc7ac4938300778e28344c4d73b7eb98b337d2a3e062f45b7f349f54d"
 },
 "nbformat": 3,
 "nbformat_minor": 0,
 "worksheets": [
  {
   "cells": [
    {
     "cell_type": "code",
     "collapsed": false,
     "input": [
      "import pandas as pd\n",
      "import numpy as np\n",
      "import glob, sys\n",
      "from datetime import date\n",
      "from datetime import datetime\n",
      "import pickle\n",
      "\n",
      "pd.set_option('display.max_columns', 200)"
     ],
     "language": "python",
     "metadata": {},
     "outputs": [],
     "prompt_number": 2
    },
    {
     "cell_type": "code",
     "collapsed": false,
     "input": [
      "##Load Data\n",
      "files = glob.glob('./data/*.csv')\n",
      "list1 = []\n",
      "for fileName in files:\n",
      "    print \"loading file \", fileName\n",
      "    tempFrame = pd.read_csv(fileName, header=1)\n",
      "    list1.append(tempFrame)\n",
      "print \"concatenating files\"\n",
      "loanData = pd.concat(list1, ignore_index=True)"
     ],
     "language": "python",
     "metadata": {},
     "outputs": [
      {
       "output_type": "stream",
       "stream": "stdout",
       "text": [
        "loading file  ./data/LoanStats3a.csv\n",
        "loading file "
       ]
      },
      {
       "output_type": "stream",
       "stream": "stdout",
       "text": [
        " ./data/LoanStats3b.csv\n",
        "loading file "
       ]
      },
      {
       "output_type": "stream",
       "stream": "stdout",
       "text": [
        " ./data/LoanStats3c.csv\n",
        "concatenating files"
       ]
      },
      {
       "output_type": "stream",
       "stream": "stdout",
       "text": [
        "\n"
       ]
      }
     ],
     "prompt_number": 89
    },
    {
     "cell_type": "code",
     "collapsed": false,
     "input": [
      "loanData[:1]"
     ],
     "language": "python",
     "metadata": {},
     "outputs": [
      {
       "html": [
        "<div style=\"max-height:1000px;max-width:1500px;overflow:auto;\">\n",
        "<table border=\"1\" class=\"dataframe\">\n",
        "  <thead>\n",
        "    <tr style=\"text-align: right;\">\n",
        "      <th></th>\n",
        "      <th>id</th>\n",
        "      <th>member_id</th>\n",
        "      <th>loan_amnt</th>\n",
        "      <th>funded_amnt</th>\n",
        "      <th>funded_amnt_inv</th>\n",
        "      <th>term</th>\n",
        "      <th>int_rate</th>\n",
        "      <th>installment</th>\n",
        "      <th>grade</th>\n",
        "      <th>sub_grade</th>\n",
        "      <th>emp_title</th>\n",
        "      <th>emp_length</th>\n",
        "      <th>home_ownership</th>\n",
        "      <th>annual_inc</th>\n",
        "      <th>is_inc_v</th>\n",
        "      <th>issue_d</th>\n",
        "      <th>loan_status</th>\n",
        "      <th>pymnt_plan</th>\n",
        "      <th>url</th>\n",
        "      <th>desc</th>\n",
        "      <th>purpose</th>\n",
        "      <th>title</th>\n",
        "      <th>zip_code</th>\n",
        "      <th>addr_state</th>\n",
        "      <th>dti</th>\n",
        "      <th>delinq_2yrs</th>\n",
        "      <th>earliest_cr_line</th>\n",
        "      <th>inq_last_6mths</th>\n",
        "      <th>mths_since_last_delinq</th>\n",
        "      <th>mths_since_last_record</th>\n",
        "      <th>open_acc</th>\n",
        "      <th>pub_rec</th>\n",
        "      <th>revol_bal</th>\n",
        "      <th>revol_util</th>\n",
        "      <th>total_acc</th>\n",
        "      <th>initial_list_status</th>\n",
        "      <th>out_prncp</th>\n",
        "      <th>out_prncp_inv</th>\n",
        "      <th>total_pymnt</th>\n",
        "      <th>total_pymnt_inv</th>\n",
        "      <th>total_rec_prncp</th>\n",
        "      <th>total_rec_int</th>\n",
        "      <th>total_rec_late_fee</th>\n",
        "      <th>recoveries</th>\n",
        "      <th>collection_recovery_fee</th>\n",
        "      <th>last_pymnt_d</th>\n",
        "      <th>last_pymnt_amnt</th>\n",
        "      <th>next_pymnt_d</th>\n",
        "      <th>last_credit_pull_d</th>\n",
        "      <th>collections_12_mths_ex_med</th>\n",
        "      <th>mths_since_last_major_derog</th>\n",
        "      <th>policy_code</th>\n",
        "      <th>issue_year</th>\n",
        "    </tr>\n",
        "  </thead>\n",
        "  <tbody>\n",
        "    <tr>\n",
        "      <th>2</th>\n",
        "      <td> 1077175</td>\n",
        "      <td> 1313524</td>\n",
        "      <td> 2400</td>\n",
        "      <td> 2400</td>\n",
        "      <td> 2400</td>\n",
        "      <td>  36 months</td>\n",
        "      <td>  15.96%</td>\n",
        "      <td> 84.33</td>\n",
        "      <td> C</td>\n",
        "      <td> C5</td>\n",
        "      <td> NaN</td>\n",
        "      <td> 10+ years</td>\n",
        "      <td> RENT</td>\n",
        "      <td> 12252</td>\n",
        "      <td> Not Verified</td>\n",
        "      <td> 2011-12-01 00:00:00</td>\n",
        "      <td> Fully Paid</td>\n",
        "      <td> n</td>\n",
        "      <td> https://www.lendingclub.com/browse/loanDetail....</td>\n",
        "      <td> NaN</td>\n",
        "      <td> small_business</td>\n",
        "      <td> real estate business</td>\n",
        "      <td> 606xx</td>\n",
        "      <td> IL</td>\n",
        "      <td> 8.72</td>\n",
        "      <td> 0</td>\n",
        "      <td> Nov-2001</td>\n",
        "      <td> 2</td>\n",
        "      <td>NaN</td>\n",
        "      <td>NaN</td>\n",
        "      <td> 2</td>\n",
        "      <td> 0</td>\n",
        "      <td> 2956</td>\n",
        "      <td> 98.5%</td>\n",
        "      <td> 10</td>\n",
        "      <td> f</td>\n",
        "      <td> 0</td>\n",
        "      <td> 0</td>\n",
        "      <td> 3003.653644</td>\n",
        "      <td> 3003.65</td>\n",
        "      <td> 2400</td>\n",
        "      <td> 603.65</td>\n",
        "      <td> 0</td>\n",
        "      <td> 0</td>\n",
        "      <td> 0</td>\n",
        "      <td> Jun-2014</td>\n",
        "      <td> 649.91</td>\n",
        "      <td> NaN</td>\n",
        "      <td> Nov-2014</td>\n",
        "      <td> 0</td>\n",
        "      <td>NaN</td>\n",
        "      <td> 1</td>\n",
        "      <td> 2011</td>\n",
        "    </tr>\n",
        "  </tbody>\n",
        "</table>\n",
        "</div>"
       ],
       "metadata": {},
       "output_type": "pyout",
       "prompt_number": 116,
       "text": [
        "        id  member_id  loan_amnt  funded_amnt  funded_amnt_inv        term  \\\n",
        "2  1077175    1313524       2400         2400             2400   36 months   \n",
        "\n",
        "  int_rate  installment grade sub_grade emp_title emp_length home_ownership  \\\n",
        "2   15.96%        84.33     C        C5       NaN  10+ years           RENT   \n",
        "\n",
        "   annual_inc      is_inc_v              issue_d loan_status pymnt_plan  \\\n",
        "2       12252  Not Verified  2011-12-01 00:00:00  Fully Paid          n   \n",
        "\n",
        "                                                 url desc         purpose  \\\n",
        "2  https://www.lendingclub.com/browse/loanDetail....  NaN  small_business   \n",
        "\n",
        "                  title zip_code addr_state   dti  delinq_2yrs  \\\n",
        "2  real estate business    606xx         IL  8.72            0   \n",
        "\n",
        "  earliest_cr_line  inq_last_6mths  mths_since_last_delinq  \\\n",
        "2         Nov-2001               2                     NaN   \n",
        "\n",
        "   mths_since_last_record  open_acc  pub_rec  revol_bal revol_util  total_acc  \\\n",
        "2                     NaN         2        0       2956      98.5%         10   \n",
        "\n",
        "  initial_list_status  out_prncp  out_prncp_inv  total_pymnt  total_pymnt_inv  \\\n",
        "2                   f          0              0  3003.653644          3003.65   \n",
        "\n",
        "   total_rec_prncp  total_rec_int  total_rec_late_fee  recoveries  \\\n",
        "2             2400         603.65                   0           0   \n",
        "\n",
        "   collection_recovery_fee last_pymnt_d  last_pymnt_amnt next_pymnt_d  \\\n",
        "2                        0     Jun-2014           649.91          NaN   \n",
        "\n",
        "  last_credit_pull_d  collections_12_mths_ex_med  mths_since_last_major_derog  \\\n",
        "2           Nov-2014                           0                          NaN   \n",
        "\n",
        "   policy_code  issue_year  \n",
        "2            1        2011  "
       ]
      }
     ],
     "prompt_number": 116
    },
    {
     "cell_type": "code",
     "collapsed": false,
     "input": [
      "loanData['loan_status'].unique()"
     ],
     "language": "python",
     "metadata": {},
     "outputs": [
      {
       "metadata": {},
       "output_type": "pyout",
       "prompt_number": 96,
       "text": [
        "array(['Current', 'Charged Off', 'Fully Paid', 'Late (31-120 days)',\n",
        "       'Late (16-30 days)', 'In Grace Period', 'Default', nan,\n",
        "       'Does not meet the credit policy.  Status:Current',\n",
        "       'Does not meet the credit policy.  Status:Charged Off',\n",
        "       'Does not meet the credit policy.  Status:Fully Paid',\n",
        "       'Does not meet the credit policy.  Status:Late (31-120 days)'], dtype=object)"
       ]
      }
     ],
     "prompt_number": 96
    },
    {
     "cell_type": "code",
     "collapsed": false,
     "input": [
      "np.sum(loanData['loan_status'] == 'Does not meet the credit policy.  Status:Fully Paid')"
     ],
     "language": "python",
     "metadata": {},
     "outputs": [
      {
       "metadata": {},
       "output_type": "pyout",
       "prompt_number": 97,
       "text": [
        "1906"
       ]
      }
     ],
     "prompt_number": 97
    },
    {
     "cell_type": "code",
     "collapsed": false,
     "input": [
      "loanData = loanData[[x in ['Charged Off', 'Fully Paid', 'Default', 'Does not meet the credit policy.  Status:Charged Off', 'Does not meet the credit policy.  Status:Fully Paid'] for x in loanData['loan_status'] ]]"
     ],
     "language": "python",
     "metadata": {},
     "outputs": [],
     "prompt_number": 98
    },
    {
     "cell_type": "code",
     "collapsed": false,
     "input": [
      "loanData['issue_d'] = [datetime.strptime(str(x), '%b-%Y') for x in loanData['issue_d']]"
     ],
     "language": "python",
     "metadata": {},
     "outputs": [
      {
       "ename": "ValueError",
       "evalue": "time data '2011-12-01 00:00:00' does not match format '%b-%Y'",
       "output_type": "pyerr",
       "traceback": [
        "\u001b[0;31m---------------------------------------------------------------------------\u001b[0m\n\u001b[0;31mValueError\u001b[0m                                Traceback (most recent call last)",
        "\u001b[0;32m<ipython-input-100-0a21d74d8e53>\u001b[0m in \u001b[0;36m<module>\u001b[0;34m()\u001b[0m\n\u001b[0;32m----> 1\u001b[0;31m \u001b[0mloanData\u001b[0m\u001b[0;34m[\u001b[0m\u001b[0;34m'issue_d'\u001b[0m\u001b[0;34m]\u001b[0m \u001b[0;34m=\u001b[0m \u001b[0;34m[\u001b[0m\u001b[0mdatetime\u001b[0m\u001b[0;34m.\u001b[0m\u001b[0mstrptime\u001b[0m\u001b[0;34m(\u001b[0m\u001b[0mstr\u001b[0m\u001b[0;34m(\u001b[0m\u001b[0mx\u001b[0m\u001b[0;34m)\u001b[0m\u001b[0;34m,\u001b[0m \u001b[0;34m'%b-%Y'\u001b[0m\u001b[0;34m)\u001b[0m \u001b[0;32mfor\u001b[0m \u001b[0mx\u001b[0m \u001b[0;32min\u001b[0m \u001b[0mloanData\u001b[0m\u001b[0;34m[\u001b[0m\u001b[0;34m'issue_d'\u001b[0m\u001b[0;34m]\u001b[0m\u001b[0;34m]\u001b[0m\u001b[0;34m\u001b[0m\u001b[0m\n\u001b[0m",
        "\u001b[0;32m/System/Library/Frameworks/Python.framework/Versions/2.7/lib/python2.7/_strptime.pyc\u001b[0m in \u001b[0;36m_strptime\u001b[0;34m(data_string, format)\u001b[0m\n\u001b[1;32m    323\u001b[0m     \u001b[0;32mif\u001b[0m \u001b[0;32mnot\u001b[0m \u001b[0mfound\u001b[0m\u001b[0;34m:\u001b[0m\u001b[0;34m\u001b[0m\u001b[0m\n\u001b[1;32m    324\u001b[0m         raise ValueError(\"time data %r does not match format %r\" %\n\u001b[0;32m--> 325\u001b[0;31m                          (data_string, format))\n\u001b[0m\u001b[1;32m    326\u001b[0m     \u001b[0;32mif\u001b[0m \u001b[0mlen\u001b[0m\u001b[0;34m(\u001b[0m\u001b[0mdata_string\u001b[0m\u001b[0;34m)\u001b[0m \u001b[0;34m!=\u001b[0m \u001b[0mfound\u001b[0m\u001b[0;34m.\u001b[0m\u001b[0mend\u001b[0m\u001b[0;34m(\u001b[0m\u001b[0;34m)\u001b[0m\u001b[0;34m:\u001b[0m\u001b[0;34m\u001b[0m\u001b[0m\n\u001b[1;32m    327\u001b[0m         raise ValueError(\"unconverted data remains: %s\" %\n",
        "\u001b[0;31mValueError\u001b[0m: time data '2011-12-01 00:00:00' does not match format '%b-%Y'"
       ]
      }
     ],
     "prompt_number": 100
    },
    {
     "cell_type": "code",
     "collapsed": false,
     "input": [
      "loanData['issue_year'] = [pd.to_datetime(x).year for x in loanData['issue_d'] ]"
     ],
     "language": "python",
     "metadata": {},
     "outputs": [],
     "prompt_number": 101
    },
    {
     "cell_type": "heading",
     "level": 3,
     "metadata": {},
     "source": [
      "Keep loans issued prior to 2012"
     ]
    },
    {
     "cell_type": "code",
     "collapsed": false,
     "input": [
      "loanData = loanData[loanData['issue_year'] <2013 ]"
     ],
     "language": "python",
     "metadata": {},
     "outputs": [],
     "prompt_number": 117
    },
    {
     "cell_type": "code",
     "collapsed": false,
     "input": [
      "loanData = loanData[loanData['term'] == ' 36 months']"
     ],
     "language": "python",
     "metadata": {},
     "outputs": [],
     "prompt_number": 118
    },
    {
     "cell_type": "code",
     "collapsed": false,
     "input": [
      "len(loanData)"
     ],
     "language": "python",
     "metadata": {},
     "outputs": [
      {
       "metadata": {},
       "output_type": "pyout",
       "prompt_number": 119,
       "text": [
        "50000"
       ]
      }
     ],
     "prompt_number": 119
    },
    {
     "cell_type": "code",
     "collapsed": false,
     "input": [
      "tot_payments = np.sum(loanData['total_pymnt']) + np.sum(loanData['recoveries'])"
     ],
     "language": "python",
     "metadata": {},
     "outputs": [],
     "prompt_number": 120
    },
    {
     "cell_type": "code",
     "collapsed": false,
     "input": [
      "tot_funded = np.sum(loanData['funded_amnt'])"
     ],
     "language": "python",
     "metadata": {},
     "outputs": [],
     "prompt_number": 106
    },
    {
     "cell_type": "code",
     "collapsed": false,
     "input": [
      "tot_payments / tot_funded"
     ],
     "language": "python",
     "metadata": {},
     "outputs": [
      {
       "metadata": {},
       "output_type": "pyout",
       "prompt_number": 107,
       "text": [
        "1.0444827207983005"
       ]
      }
     ],
     "prompt_number": 107
    },
    {
     "cell_type": "code",
     "collapsed": false,
     "input": [
      "np.sum(loanData['recoveries'])"
     ],
     "language": "python",
     "metadata": {},
     "outputs": [
      {
       "metadata": {},
       "output_type": "pyout",
       "prompt_number": 108,
       "text": [
        "3418838.9559752308"
       ]
      }
     ],
     "prompt_number": 108
    },
    {
     "cell_type": "code",
     "collapsed": false,
     "input": [
      "#A Loans\n",
      "A_loanData = loanData[loanData['grade'] == 'A']\n",
      "print (np.sum(A_loanData['total_pymnt']) + np.sum(A_loanData['recoveries'])) / np.sum(A_loanData['funded_amnt'])"
     ],
     "language": "python",
     "metadata": {},
     "outputs": [
      {
       "output_type": "stream",
       "stream": "stdout",
       "text": [
        "1.04532111678\n"
       ]
      }
     ],
     "prompt_number": 109
    },
    {
     "cell_type": "code",
     "collapsed": false,
     "input": [
      "#B Loans\n",
      "B_loanData = loanData[loanData['grade'] == 'B']\n",
      "print (np.sum(B_loanData['total_pymnt']) + np.sum(B_loanData['recoveries'])) / np.sum(B_loanData['funded_amnt'])"
     ],
     "language": "python",
     "metadata": {},
     "outputs": [
      {
       "output_type": "stream",
       "stream": "stdout",
       "text": [
        "1.04482941443\n"
       ]
      }
     ],
     "prompt_number": 110
    },
    {
     "cell_type": "code",
     "collapsed": false,
     "input": [
      "#C Loans\n",
      "C_loanData = loanData[loanData['grade'] == 'C']\n",
      "print (np.sum(C_loanData['total_pymnt']) + np.sum(C_loanData['recoveries'])) / np.sum(C_loanData['funded_amnt'])"
     ],
     "language": "python",
     "metadata": {},
     "outputs": [
      {
       "output_type": "stream",
       "stream": "stdout",
       "text": [
        "1.04231332931\n"
       ]
      }
     ],
     "prompt_number": 111
    },
    {
     "cell_type": "code",
     "collapsed": false,
     "input": [
      "#D Loans\n",
      "D_loanData = loanData[loanData['grade'] == 'D']\n",
      "print (np.sum(D_loanData['total_pymnt']) + np.sum(D_loanData['recoveries'])) / np.sum(D_loanData['funded_amnt'])"
     ],
     "language": "python",
     "metadata": {},
     "outputs": [
      {
       "output_type": "stream",
       "stream": "stdout",
       "text": [
        "1.04337322836\n"
       ]
      }
     ],
     "prompt_number": 112
    },
    {
     "cell_type": "code",
     "collapsed": false,
     "input": [
      "#E Loans\n",
      "E_loanData = loanData[loanData['grade'] == 'E']\n",
      "print (np.sum(E_loanData['total_pymnt']) + np.sum(E_loanData['recoveries'])) / np.sum(E_loanData['funded_amnt'])"
     ],
     "language": "python",
     "metadata": {},
     "outputs": [
      {
       "output_type": "stream",
       "stream": "stdout",
       "text": [
        "1.06153641653\n"
       ]
      }
     ],
     "prompt_number": 113
    },
    {
     "cell_type": "code",
     "collapsed": false,
     "input": [
      "#F Loans\n",
      "F_loanData = loanData[loanData['grade'] == 'F']\n",
      "print (np.sum(F_loanData['total_pymnt']) + np.sum(F_loanData['recoveries'])) / np.sum(F_loanData['funded_amnt'])"
     ],
     "language": "python",
     "metadata": {},
     "outputs": [
      {
       "output_type": "stream",
       "stream": "stdout",
       "text": [
        "1.00410133238\n"
       ]
      }
     ],
     "prompt_number": 114
    },
    {
     "cell_type": "code",
     "collapsed": false,
     "input": [
      "#G Loans\n",
      "G_loanData = loanData[loanData['grade'] == 'G']\n",
      "print (np.sum(G_loanData['total_pymnt']) + np.sum(G_loanData['recoveries'])) / np.sum(G_loanData['funded_amnt'])"
     ],
     "language": "python",
     "metadata": {},
     "outputs": [
      {
       "output_type": "stream",
       "stream": "stdout",
       "text": [
        "1.05340888429\n"
       ]
      }
     ],
     "prompt_number": 115
    },
    {
     "cell_type": "code",
     "collapsed": false,
     "input": [],
     "language": "python",
     "metadata": {},
     "outputs": [],
     "prompt_number": 115
    },
    {
     "cell_type": "code",
     "collapsed": false,
     "input": [],
     "language": "python",
     "metadata": {},
     "outputs": []
    }
   ],
   "metadata": {}
  }
 ]
}