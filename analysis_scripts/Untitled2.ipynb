{
 "metadata": {
  "name": "",
  "signature": "sha256:07dcd833d34359cf85ba1d0ed4b88a9fa250fcdcbd4934e1275c47903c1eebf5"
 },
 "nbformat": 3,
 "nbformat_minor": 0,
 "worksheets": [
  {
   "cells": [
    {
     "cell_type": "code",
     "collapsed": false,
     "input": [
      "import pandas as pd\n",
      "import numpy as np\n",
      "import pickle\n",
      "import seaborn as sns\n",
      "from scipy.stats import histogram\n",
      "\n",
      "import matplotlib.pyplot as plt\n",
      "\n",
      "import data_manipulation as dm\n",
      "pd.set_option('display.max_columns', 200)"
     ],
     "language": "python",
     "metadata": {},
     "outputs": [],
     "prompt_number": 1
    },
    {
     "cell_type": "code",
     "collapsed": false,
     "input": [
      "f = open('pickles/mysql_dump.pickle', 'rb')\n",
      "loanData = pickle.load(f)"
     ],
     "language": "python",
     "metadata": {},
     "outputs": [],
     "prompt_number": 2
    },
    {
     "cell_type": "code",
     "collapsed": false,
     "input": [
      "loanData.loc[:20, ['loan_status', 'days_to_zero_dollars']]"
     ],
     "language": "python",
     "metadata": {},
     "outputs": [
      {
       "html": [
        "<div style=\"max-height:1000px;max-width:1500px;overflow:auto;\">\n",
        "<table border=\"1\" class=\"dataframe\">\n",
        "  <thead>\n",
        "    <tr style=\"text-align: right;\">\n",
        "      <th></th>\n",
        "      <th>loan_status</th>\n",
        "      <th>days_to_zero_dollars</th>\n",
        "    </tr>\n",
        "  </thead>\n",
        "  <tbody>\n",
        "    <tr>\n",
        "      <th>0 </th>\n",
        "      <td> 2</td>\n",
        "      <td>  791</td>\n",
        "    </tr>\n",
        "    <tr>\n",
        "      <th>1 </th>\n",
        "      <td> 2</td>\n",
        "      <td>  608</td>\n",
        "    </tr>\n",
        "    <tr>\n",
        "      <th>2 </th>\n",
        "      <td> 1</td>\n",
        "      <td> 1126</td>\n",
        "    </tr>\n",
        "    <tr>\n",
        "      <th>3 </th>\n",
        "      <td> 0</td>\n",
        "      <td>  183</td>\n",
        "    </tr>\n",
        "    <tr>\n",
        "      <th>4 </th>\n",
        "      <td> 1</td>\n",
        "      <td> 1096</td>\n",
        "    </tr>\n",
        "    <tr>\n",
        "      <th>5 </th>\n",
        "      <td> 1</td>\n",
        "      <td> 1096</td>\n",
        "    </tr>\n",
        "    <tr>\n",
        "      <th>6 </th>\n",
        "      <td> 2</td>\n",
        "      <td>  669</td>\n",
        "    </tr>\n",
        "    <tr>\n",
        "      <th>7 </th>\n",
        "      <td> 1</td>\n",
        "      <td> 1095</td>\n",
        "    </tr>\n",
        "    <tr>\n",
        "      <th>8 </th>\n",
        "      <td> 1</td>\n",
        "      <td> 1126</td>\n",
        "    </tr>\n",
        "    <tr>\n",
        "      <th>9 </th>\n",
        "      <td> 2</td>\n",
        "      <td>  759</td>\n",
        "    </tr>\n",
        "    <tr>\n",
        "      <th>10</th>\n",
        "      <td> 0</td>\n",
        "      <td>  973</td>\n",
        "    </tr>\n",
        "    <tr>\n",
        "      <th>11</th>\n",
        "      <td> 2</td>\n",
        "      <td>  306</td>\n",
        "    </tr>\n",
        "    <tr>\n",
        "      <th>12</th>\n",
        "      <td> 2</td>\n",
        "      <td>  516</td>\n",
        "    </tr>\n",
        "    <tr>\n",
        "      <th>13</th>\n",
        "      <td> 0</td>\n",
        "      <td>  275</td>\n",
        "    </tr>\n",
        "    <tr>\n",
        "      <th>14</th>\n",
        "      <td> 0</td>\n",
        "      <td>  760</td>\n",
        "    </tr>\n",
        "    <tr>\n",
        "      <th>15</th>\n",
        "      <td> 0</td>\n",
        "      <td>  669</td>\n",
        "    </tr>\n",
        "    <tr>\n",
        "      <th>16</th>\n",
        "      <td> 0</td>\n",
        "      <td>  245</td>\n",
        "    </tr>\n",
        "    <tr>\n",
        "      <th>17</th>\n",
        "      <td> 1</td>\n",
        "      <td> 1095</td>\n",
        "    </tr>\n",
        "    <tr>\n",
        "      <th>18</th>\n",
        "      <td> 1</td>\n",
        "      <td> 1095</td>\n",
        "    </tr>\n",
        "    <tr>\n",
        "      <th>19</th>\n",
        "      <td> 1</td>\n",
        "      <td> 1124</td>\n",
        "    </tr>\n",
        "    <tr>\n",
        "      <th>20</th>\n",
        "      <td> 1</td>\n",
        "      <td> 1126</td>\n",
        "    </tr>\n",
        "  </tbody>\n",
        "</table>\n",
        "</div>"
       ],
       "metadata": {},
       "output_type": "pyout",
       "prompt_number": 23,
       "text": [
        "    loan_status  days_to_zero_dollars\n",
        "0             2                   791\n",
        "1             2                   608\n",
        "2             1                  1126\n",
        "3             0                   183\n",
        "4             1                  1096\n",
        "5             1                  1096\n",
        "6             2                   669\n",
        "7             1                  1095\n",
        "8             1                  1126\n",
        "9             2                   759\n",
        "10            0                   973\n",
        "11            2                   306\n",
        "12            2                   516\n",
        "13            0                   275\n",
        "14            0                   760\n",
        "15            0                   669\n",
        "16            0                   245\n",
        "17            1                  1095\n",
        "18            1                  1095\n",
        "19            1                  1124\n",
        "20            1                  1126"
       ]
      }
     ],
     "prompt_number": 23
    },
    {
     "cell_type": "code",
     "collapsed": false,
     "input": [
      "corr_matrix = loanData.corr(method='spearman')"
     ],
     "language": "python",
     "metadata": {},
     "outputs": [],
     "prompt_number": 4
    },
    {
     "cell_type": "code",
     "collapsed": false,
     "input": [
      "sns.set(style=\"darkgrid\")\n",
      "\n",
      "f, ax = plt.subplots(figsize=(9, 9))\n",
      "cmap = sns.diverging_palette(220, 10, as_cmap=True)\n",
      "sns.corrplot(corr_matrix, annot=False, sig_stars=False,\n",
      "             diag_names=False, cmap=cmap, ax=ax)\n",
      "f.tight_layout()"
     ],
     "language": "python",
     "metadata": {},
     "outputs": [
      {
       "output_type": "stream",
       "stream": "stdout",
       "text": [
        "tight_layout : falling back to Agg renderer\n"
       ]
      }
     ],
     "prompt_number": 5
    },
    {
     "cell_type": "code",
     "collapsed": false,
     "input": [
      "f.show()"
     ],
     "language": "python",
     "metadata": {},
     "outputs": [],
     "prompt_number": 6
    },
    {
     "cell_type": "code",
     "collapsed": false,
     "input": [
      "f.savefig('corrmat.png')"
     ],
     "language": "python",
     "metadata": {},
     "outputs": [],
     "prompt_number": 8
    },
    {
     "cell_type": "code",
     "collapsed": false,
     "input": [],
     "language": "python",
     "metadata": {},
     "outputs": []
    },
    {
     "cell_type": "code",
     "collapsed": false,
     "input": [
      "loanData = loanData[loanData[\"issue_year\"] < 2013]"
     ],
     "language": "python",
     "metadata": {},
     "outputs": [],
     "prompt_number": 4
    },
    {
     "cell_type": "code",
     "collapsed": false,
     "input": [
      "len(loanData)"
     ],
     "language": "python",
     "metadata": {},
     "outputs": [
      {
       "metadata": {},
       "output_type": "pyout",
       "prompt_number": 5,
       "text": [
        "49044"
       ]
      }
     ],
     "prompt_number": 5
    },
    {
     "cell_type": "code",
     "collapsed": false,
     "input": [
      "np.sum(loanData['loan_status'] == 0)/float(len(loanData))"
     ],
     "language": "python",
     "metadata": {},
     "outputs": [
      {
       "metadata": {},
       "output_type": "pyout",
       "prompt_number": 12,
       "text": [
        "0.16293532338308458"
       ]
      }
     ],
     "prompt_number": 12
    },
    {
     "cell_type": "code",
     "collapsed": false,
     "input": [
      "np.sum(loanData['loan_status'] == 1)/float(len(loanData))"
     ],
     "language": "python",
     "metadata": {},
     "outputs": [
      {
       "metadata": {},
       "output_type": "pyout",
       "prompt_number": 13,
       "text": [
        "0.26602642525079523"
       ]
      }
     ],
     "prompt_number": 13
    },
    {
     "cell_type": "code",
     "collapsed": false,
     "input": [
      "np.sum(loanData['loan_status'] == 2)/float(len(loanData))"
     ],
     "language": "python",
     "metadata": {},
     "outputs": [
      {
       "metadata": {},
       "output_type": "pyout",
       "prompt_number": 14,
       "text": [
        "0.57103825136612019"
       ]
      }
     ],
     "prompt_number": 14
    },
    {
     "cell_type": "code",
     "collapsed": false,
     "input": [
      "loanData = loanData[loanData['loan_status'] == 2]\n",
      "loanData.index = range(len(loanData))"
     ],
     "language": "python",
     "metadata": {},
     "outputs": [],
     "prompt_number": 3
    },
    {
     "cell_type": "code",
     "collapsed": false,
     "input": [
      "hist = histogram(loanData['days_to_zero_dollars'], 20)"
     ],
     "language": "python",
     "metadata": {},
     "outputs": [],
     "prompt_number": 4
    },
    {
     "cell_type": "code",
     "collapsed": false,
     "input": [
      "plt.hist(loanData['days_to_zero_dollars'], bins=20)\n",
      "plt.title('sf')\n",
      "plt.xlabel('loan_amnt')\n",
      "plt.ylabel('count')\n",
      "plt.show()"
     ],
     "language": "python",
     "metadata": {},
     "outputs": [],
     "prompt_number": 5
    },
    {
     "cell_type": "code",
     "collapsed": false,
     "input": [
      "print hist"
     ],
     "language": "python",
     "metadata": {},
     "outputs": [
      {
       "output_type": "stream",
       "stream": "stdout",
       "text": [
        "(array([  5.00000000e+00,   4.28600000e+03,   3.85000000e+03,\n",
        "         1.98700000e+03,   4.51400000e+03,   5.36000000e+03,\n",
        "         2.45200000e+03,   4.65100000e+03,   4.19600000e+03,\n",
        "         3.63800000e+03,   1.84800000e+03,   3.14000000e+03,\n",
        "         2.82700000e+03,   1.33400000e+03,   2.33300000e+03,\n",
        "         1.97200000e+03,   9.51000000e+02,   1.55500000e+03,\n",
        "         1.49000000e+03,   6.38000000e+02]), -25.684210526315791, 51.368421052631582, 0)\n"
       ]
      }
     ],
     "prompt_number": 6
    },
    {
     "cell_type": "code",
     "collapsed": false,
     "input": [
      "bins = []\n",
      "for i in range(20):\n",
      "    bins.append(str(-hist[1] + hist[2] * i))"
     ],
     "language": "python",
     "metadata": {},
     "outputs": [],
     "prompt_number": 7
    },
    {
     "cell_type": "code",
     "collapsed": false,
     "input": [
      "bins"
     ],
     "language": "python",
     "metadata": {},
     "outputs": [
      {
       "metadata": {},
       "output_type": "pyout",
       "prompt_number": 8,
       "text": [
        "['25.6842105263',\n",
        " '77.0526315789',\n",
        " '128.421052632',\n",
        " '179.789473684',\n",
        " '231.157894737',\n",
        " '282.526315789',\n",
        " '333.894736842',\n",
        " '385.263157895',\n",
        " '436.631578947',\n",
        " '488.0',\n",
        " '539.368421053',\n",
        " '590.736842105',\n",
        " '642.105263158',\n",
        " '693.473684211',\n",
        " '744.842105263',\n",
        " '796.210526316',\n",
        " '847.578947368',\n",
        " '898.947368421',\n",
        " '950.315789474',\n",
        " '1001.68421053']"
       ]
      }
     ],
     "prompt_number": 8
    },
    {
     "cell_type": "code",
     "collapsed": false,
     "input": [
      "hist[0]"
     ],
     "language": "python",
     "metadata": {},
     "outputs": [
      {
       "metadata": {},
       "output_type": "pyout",
       "prompt_number": 9,
       "text": [
        "array([  5.00000000e+00,   4.28600000e+03,   3.85000000e+03,\n",
        "         1.98700000e+03,   4.51400000e+03,   5.36000000e+03,\n",
        "         2.45200000e+03,   4.65100000e+03,   4.19600000e+03,\n",
        "         3.63800000e+03,   1.84800000e+03,   3.14000000e+03,\n",
        "         2.82700000e+03,   1.33400000e+03,   2.33300000e+03,\n",
        "         1.97200000e+03,   9.51000000e+02,   1.55500000e+03,\n",
        "         1.49000000e+03,   6.38000000e+02])"
       ]
      }
     ],
     "prompt_number": 9
    },
    {
     "cell_type": "code",
     "collapsed": false,
     "input": [],
     "language": "python",
     "metadata": {},
     "outputs": []
    }
   ],
   "metadata": {}
  }
 ]
}