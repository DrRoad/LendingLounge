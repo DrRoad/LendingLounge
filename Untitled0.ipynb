{
 "metadata": {
  "name": "",
  "signature": "sha256:77dd1b601212d7abf33418dbf2e4e3672751a01fb8a7178dab49934b9a9b653a"
 },
 "nbformat": 3,
 "nbformat_minor": 0,
 "worksheets": [
  {
   "cells": [
    {
     "cell_type": "code",
     "collapsed": false,
     "input": [
      "loans = []\n",
      "loans.append({'id':1231, \n",
      "'memberId': 234, \n",
      "'grade': 'A2', \n",
      "'intRate': 8.2, \n",
      "'loanAmnt': 1500.00,\n",
      "'defaultProb': 12.3})"
     ],
     "language": "python",
     "metadata": {},
     "outputs": [],
     "prompt_number": 2
    },
    {
     "cell_type": "code",
     "collapsed": false,
     "input": [
      "for loan in loans:\n",
      "    print loan['loanAmnt']"
     ],
     "language": "python",
     "metadata": {},
     "outputs": [
      {
       "output_type": "stream",
       "stream": "stdout",
       "text": [
        "1500.0\n"
       ]
      }
     ],
     "prompt_number": 4
    },
    {
     "cell_type": "code",
     "collapsed": false,
     "input": [],
     "language": "python",
     "metadata": {},
     "outputs": []
    }
   ],
   "metadata": {}
  }
 ]
}