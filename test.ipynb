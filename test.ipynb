{
 "metadata": {
  "name": "",
  "signature": "sha256:87e8e201d29680b31a34db16810cebef230a9d1ef7d8a5fdab0b89a24b8d58b7"
 },
 "nbformat": 3,
 "nbformat_minor": 0,
 "worksheets": [
  {
   "cells": [
    {
     "cell_type": "code",
     "collapsed": false,
     "input": [
      "import pandas as pd\n",
      "import numpy as np\n",
      "import glob, sys\n",
      "from datetime import date\n",
      "import pickle\n",
      "from random import randint\n",
      "import time\n",
      "import json\n",
      "import os\n",
      "from datetime import datetime\n",
      "\n",
      "from pandas.io import sql\n",
      "import pymysql as mdb\n",
      "import mysql_connector\n",
      "\n",
      "from sklearn.cross_validation import train_test_split\n",
      "from sklearn.linear_model import LinearRegression\n",
      "from sklearn.ensemble import RandomForestRegressor \n",
      "from sklearn.svm import SVR\n",
      "from sklearn.preprocessing import StandardScaler\n",
      "from sklearn.metrics import confusion_matrix\n",
      "from sklearn.metrics import classification_report\n",
      "\n",
      "from sklearn.ensemble import RandomForestClassifier\n",
      "from sklearn.svm import SVC\n",
      "\n",
      "from sklearn.tree import export_graphviz \n",
      "from sklearn.decomposition import PCA\n",
      "from sklearn.metrics import recall_score\n",
      "\n",
      "from scipy.stats import randint as sp_randint\n",
      "import matplotlib.pyplot as plt\n",
      "\n",
      "pd.set_option('display.max_columns', 200)\n",
      "%matplotlib inline"
     ],
     "language": "python",
     "metadata": {},
     "outputs": [],
     "prompt_number": 1
    },
    {
     "cell_type": "markdown",
     "metadata": {},
     "source": []
    },
    {
     "cell_type": "code",
     "collapsed": false,
     "input": [
      "f = open('data.pickle', 'rb')\n",
      "loanData = pickle.load(f)"
     ],
     "language": "python",
     "metadata": {},
     "outputs": [],
     "prompt_number": 107
    },
    {
     "cell_type": "code",
     "collapsed": false,
     "input": [
      "loanData[20:50]"
     ],
     "language": "python",
     "metadata": {},
     "outputs": [
      {
       "html": [
        "<div style=\"max-height:1000px;max-width:1500px;overflow:auto;\">\n",
        "<table border=\"1\" class=\"dataframe\">\n",
        "  <thead>\n",
        "    <tr style=\"text-align: right;\">\n",
        "      <th></th>\n",
        "      <th>id</th>\n",
        "      <th>member_id</th>\n",
        "      <th>loan_amnt</th>\n",
        "      <th>funded_amnt</th>\n",
        "      <th>funded_amnt_inv</th>\n",
        "      <th>term</th>\n",
        "      <th>int_rate</th>\n",
        "      <th>installment</th>\n",
        "      <th>sub_grade</th>\n",
        "      <th>emp_title</th>\n",
        "      <th>emp_length</th>\n",
        "      <th>home_ownership</th>\n",
        "      <th>annual_inc</th>\n",
        "      <th>is_inc_v</th>\n",
        "      <th>issue_d</th>\n",
        "      <th>loan_status</th>\n",
        "      <th>pymnt_plan</th>\n",
        "      <th>url</th>\n",
        "      <th>desc</th>\n",
        "      <th>purpose</th>\n",
        "      <th>title</th>\n",
        "      <th>zip_code</th>\n",
        "      <th>addr_state</th>\n",
        "      <th>dti</th>\n",
        "      <th>delinq_2yrs</th>\n",
        "      <th>earliest_cr_line</th>\n",
        "      <th>inq_last_6mths</th>\n",
        "      <th>mths_since_last_delinq</th>\n",
        "      <th>mths_since_last_record</th>\n",
        "      <th>open_acc</th>\n",
        "      <th>pub_rec</th>\n",
        "      <th>revol_bal</th>\n",
        "      <th>revol_util</th>\n",
        "      <th>total_acc</th>\n",
        "      <th>out_prncp</th>\n",
        "      <th>out_prncp_inv</th>\n",
        "      <th>total_pymnt</th>\n",
        "      <th>total_pymnt_inv</th>\n",
        "      <th>total_rec_prncp</th>\n",
        "      <th>total_rec_int</th>\n",
        "      <th>total_rec_late_fee</th>\n",
        "      <th>recoveries</th>\n",
        "      <th>collection_recovery_fee</th>\n",
        "      <th>last_pymnt_d</th>\n",
        "      <th>last_pymnt_amnt</th>\n",
        "      <th>next_pymnt_d</th>\n",
        "      <th>last_credit_pull_d</th>\n",
        "      <th>collections_12_mths_ex_med</th>\n",
        "      <th>mths_since_last_major_derog</th>\n",
        "      <th>policy_code</th>\n",
        "      <th>A</th>\n",
        "      <th>B</th>\n",
        "      <th>C</th>\n",
        "      <th>D</th>\n",
        "      <th>E</th>\n",
        "      <th>F</th>\n",
        "      <th>G</th>\n",
        "      <th>ANY</th>\n",
        "      <th>MORTGAGE</th>\n",
        "      <th>OWN</th>\n",
        "      <th>RENT</th>\n",
        "      <th>days_active</th>\n",
        "      <th>issue_month</th>\n",
        "      <th>issue_year</th>\n",
        "      <th>last_pymnt_month</th>\n",
        "      <th>last_pymnt_year</th>\n",
        "      <th>car</th>\n",
        "      <th>credit_card</th>\n",
        "      <th>debt_consolidation</th>\n",
        "      <th>home_improvement</th>\n",
        "      <th>house</th>\n",
        "      <th>major_purchase</th>\n",
        "      <th>medical</th>\n",
        "      <th>moving</th>\n",
        "      <th>other</th>\n",
        "      <th>renewable_energy</th>\n",
        "      <th>small_business</th>\n",
        "      <th>vacation</th>\n",
        "      <th>wedding</th>\n",
        "      <th>AK</th>\n",
        "      <th>AL</th>\n",
        "      <th>AR</th>\n",
        "      <th>AZ</th>\n",
        "      <th>CA</th>\n",
        "      <th>CO</th>\n",
        "      <th>CT</th>\n",
        "      <th>DC</th>\n",
        "      <th>DE</th>\n",
        "      <th>FL</th>\n",
        "      <th>GA</th>\n",
        "      <th>HI</th>\n",
        "      <th>IL</th>\n",
        "      <th>IN</th>\n",
        "      <th>KS</th>\n",
        "      <th>KY</th>\n",
        "      <th>LA</th>\n",
        "      <th>MA</th>\n",
        "      <th>MD</th>\n",
        "      <th>MI</th>\n",
        "      <th>MN</th>\n",
        "      <th>MO</th>\n",
        "      <th>MS</th>\n",
        "      <th>MT</th>\n",
        "      <th>NC</th>\n",
        "      <th>NH</th>\n",
        "      <th>NJ</th>\n",
        "      <th>NM</th>\n",
        "      <th>NV</th>\n",
        "      <th>NY</th>\n",
        "      <th>OH</th>\n",
        "      <th>OK</th>\n",
        "      <th>OR</th>\n",
        "      <th>PA</th>\n",
        "      <th>RI</th>\n",
        "      <th>SC</th>\n",
        "      <th>SD</th>\n",
        "      <th>TN</th>\n",
        "      <th>TX</th>\n",
        "      <th>UT</th>\n",
        "      <th>VA</th>\n",
        "      <th>VT</th>\n",
        "      <th>WA</th>\n",
        "      <th>WI</th>\n",
        "      <th>WV</th>\n",
        "      <th>WY</th>\n",
        "      <th>yrs_since_first_cr_line</th>\n",
        "      <th>desc_length</th>\n",
        "      <th>title_length</th>\n",
        "      <th>install_frac_of_monthly_inc</th>\n",
        "      <th>unemp_rate_12mths</th>\n",
        "      <th>unemp_rate_6mths</th>\n",
        "      <th>unemp_rate_3mths</th>\n",
        "    </tr>\n",
        "  </thead>\n",
        "  <tbody>\n",
        "    <tr>\n",
        "      <th>20</th>\n",
        "      <td> 27541223</td>\n",
        "      <td> 30044325</td>\n",
        "      <td> 19125</td>\n",
        "      <td> 19125</td>\n",
        "      <td> 19125</td>\n",
        "      <td> 1</td>\n",
        "      <td> 22.15</td>\n",
        "      <td>  529.85</td>\n",
        "      <td> 5</td>\n",
        "      <td> 15</td>\n",
        "      <td>  6</td>\n",
        "      <td>     RENT</td>\n",
        "      <td>  56356.00</td>\n",
        "      <td> 0</td>\n",
        "      <td>2014-09-01</td>\n",
        "      <td> 1</td>\n",
        "      <td> n</td>\n",
        "      <td> https://www.lendingclub.com/browse/loanDetail....</td>\n",
        "      <td> bmFu</td>\n",
        "      <td> debt_consolidation</td>\n",
        "      <td>      Debt consolidation</td>\n",
        "      <td> 902</td>\n",
        "      <td> CA</td>\n",
        "      <td> 15.80</td>\n",
        "      <td> 0</td>\n",
        "      <td> Aug-1995</td>\n",
        "      <td> 0</td>\n",
        "      <td> -1</td>\n",
        "      <td> 49</td>\n",
        "      <td>  8</td>\n",
        "      <td> 1</td>\n",
        "      <td>  3291</td>\n",
        "      <td> 32.3</td>\n",
        "      <td> 27</td>\n",
        "      <td> 0</td>\n",
        "      <td> 0</td>\n",
        "      <td> 19478.020000</td>\n",
        "      <td> 19478.02</td>\n",
        "      <td> 19125</td>\n",
        "      <td>  353.02</td>\n",
        "      <td> 0</td>\n",
        "      <td> 0</td>\n",
        "      <td> 0</td>\n",
        "      <td>2014-10-01</td>\n",
        "      <td> 19478.02</td>\n",
        "      <td> NaN</td>\n",
        "      <td> Nov-2014</td>\n",
        "      <td> 0</td>\n",
        "      <td> -1</td>\n",
        "      <td> 1</td>\n",
        "      <td> 0</td>\n",
        "      <td> 0</td>\n",
        "      <td> 0</td>\n",
        "      <td> 0</td>\n",
        "      <td> 1</td>\n",
        "      <td> 0</td>\n",
        "      <td> 0</td>\n",
        "      <td> 0</td>\n",
        "      <td> 0</td>\n",
        "      <td> 0</td>\n",
        "      <td> 1</td>\n",
        "      <td> 30</td>\n",
        "      <td> 9</td>\n",
        "      <td> 2014</td>\n",
        "      <td> 10</td>\n",
        "      <td> 2014</td>\n",
        "      <td> 0</td>\n",
        "      <td> 0</td>\n",
        "      <td> 1</td>\n",
        "      <td> 0</td>\n",
        "      <td> 0</td>\n",
        "      <td> 0</td>\n",
        "      <td> 0</td>\n",
        "      <td> 0</td>\n",
        "      <td> 0</td>\n",
        "      <td> 0</td>\n",
        "      <td> 0</td>\n",
        "      <td> 0</td>\n",
        "      <td> 0</td>\n",
        "      <td> 0</td>\n",
        "      <td> 0</td>\n",
        "      <td> 0</td>\n",
        "      <td> 0</td>\n",
        "      <td> 1</td>\n",
        "      <td> 0</td>\n",
        "      <td> 0</td>\n",
        "      <td> 0</td>\n",
        "      <td> 0</td>\n",
        "      <td> 0</td>\n",
        "      <td> 0</td>\n",
        "      <td> 0</td>\n",
        "      <td> 0</td>\n",
        "      <td> 0</td>\n",
        "      <td> 0</td>\n",
        "      <td> 0</td>\n",
        "      <td> 0</td>\n",
        "      <td> 0</td>\n",
        "      <td> 0</td>\n",
        "      <td> 0</td>\n",
        "      <td> 0</td>\n",
        "      <td> 0</td>\n",
        "      <td> 0</td>\n",
        "      <td> 0</td>\n",
        "      <td> 0</td>\n",
        "      <td> 0</td>\n",
        "      <td> 0</td>\n",
        "      <td> 0</td>\n",
        "      <td> 0</td>\n",
        "      <td> 0</td>\n",
        "      <td> 0</td>\n",
        "      <td> 0</td>\n",
        "      <td> 0</td>\n",
        "      <td> 0</td>\n",
        "      <td> 0</td>\n",
        "      <td> 0</td>\n",
        "      <td> 0</td>\n",
        "      <td> 0</td>\n",
        "      <td> 0</td>\n",
        "      <td> 0</td>\n",
        "      <td> 0</td>\n",
        "      <td> 0</td>\n",
        "      <td> 0</td>\n",
        "      <td> 0</td>\n",
        "      <td> 0</td>\n",
        "      <td> 0</td>\n",
        "      <td> 20</td>\n",
        "      <td> 3</td>\n",
        "      <td> 18</td>\n",
        "      <td> 0.112822</td>\n",
        "      <td> 8.5</td>\n",
        "      <td> 8.4</td>\n",
        "      <td> 7.3</td>\n",
        "    </tr>\n",
        "    <tr>\n",
        "      <th>21</th>\n",
        "      <td> 27671156</td>\n",
        "      <td> 30184262</td>\n",
        "      <td> 14300</td>\n",
        "      <td> 14300</td>\n",
        "      <td> 14300</td>\n",
        "      <td> 0</td>\n",
        "      <td>  7.69</td>\n",
        "      <td>  446.07</td>\n",
        "      <td> 4</td>\n",
        "      <td> 14</td>\n",
        "      <td>  2</td>\n",
        "      <td> MORTGAGE</td>\n",
        "      <td>  78000.00</td>\n",
        "      <td> 1</td>\n",
        "      <td>2014-09-01</td>\n",
        "      <td> 1</td>\n",
        "      <td> n</td>\n",
        "      <td> https://www.lendingclub.com/browse/loanDetail....</td>\n",
        "      <td> bmFu</td>\n",
        "      <td> debt_consolidation</td>\n",
        "      <td>      Debt consolidation</td>\n",
        "      <td> 450</td>\n",
        "      <td> OH</td>\n",
        "      <td> 16.49</td>\n",
        "      <td> 0</td>\n",
        "      <td> Aug-1978</td>\n",
        "      <td> 0</td>\n",
        "      <td> 65</td>\n",
        "      <td> -1</td>\n",
        "      <td>  8</td>\n",
        "      <td> 0</td>\n",
        "      <td> 21490</td>\n",
        "      <td> 74.9</td>\n",
        "      <td> 23</td>\n",
        "      <td> 0</td>\n",
        "      <td> 0</td>\n",
        "      <td> 14391.639167</td>\n",
        "      <td> 14391.64</td>\n",
        "      <td> 14300</td>\n",
        "      <td>   91.64</td>\n",
        "      <td> 0</td>\n",
        "      <td> 0</td>\n",
        "      <td> 0</td>\n",
        "      <td>2014-10-01</td>\n",
        "      <td> 14391.64</td>\n",
        "      <td> NaN</td>\n",
        "      <td> Nov-2014</td>\n",
        "      <td> 0</td>\n",
        "      <td> 65</td>\n",
        "      <td> 1</td>\n",
        "      <td> 1</td>\n",
        "      <td> 0</td>\n",
        "      <td> 0</td>\n",
        "      <td> 0</td>\n",
        "      <td> 0</td>\n",
        "      <td> 0</td>\n",
        "      <td> 0</td>\n",
        "      <td> 0</td>\n",
        "      <td> 1</td>\n",
        "      <td> 0</td>\n",
        "      <td> 0</td>\n",
        "      <td> 30</td>\n",
        "      <td> 9</td>\n",
        "      <td> 2014</td>\n",
        "      <td> 10</td>\n",
        "      <td> 2014</td>\n",
        "      <td> 0</td>\n",
        "      <td> 0</td>\n",
        "      <td> 1</td>\n",
        "      <td> 0</td>\n",
        "      <td> 0</td>\n",
        "      <td> 0</td>\n",
        "      <td> 0</td>\n",
        "      <td> 0</td>\n",
        "      <td> 0</td>\n",
        "      <td> 0</td>\n",
        "      <td> 0</td>\n",
        "      <td> 0</td>\n",
        "      <td> 0</td>\n",
        "      <td> 0</td>\n",
        "      <td> 0</td>\n",
        "      <td> 0</td>\n",
        "      <td> 0</td>\n",
        "      <td> 0</td>\n",
        "      <td> 0</td>\n",
        "      <td> 0</td>\n",
        "      <td> 0</td>\n",
        "      <td> 0</td>\n",
        "      <td> 0</td>\n",
        "      <td> 0</td>\n",
        "      <td> 0</td>\n",
        "      <td> 0</td>\n",
        "      <td> 0</td>\n",
        "      <td> 0</td>\n",
        "      <td> 0</td>\n",
        "      <td> 0</td>\n",
        "      <td> 0</td>\n",
        "      <td> 0</td>\n",
        "      <td> 0</td>\n",
        "      <td> 0</td>\n",
        "      <td> 0</td>\n",
        "      <td> 0</td>\n",
        "      <td> 0</td>\n",
        "      <td> 0</td>\n",
        "      <td> 0</td>\n",
        "      <td> 0</td>\n",
        "      <td> 0</td>\n",
        "      <td> 0</td>\n",
        "      <td> 0</td>\n",
        "      <td> 1</td>\n",
        "      <td> 0</td>\n",
        "      <td> 0</td>\n",
        "      <td> 0</td>\n",
        "      <td> 0</td>\n",
        "      <td> 0</td>\n",
        "      <td> 0</td>\n",
        "      <td> 0</td>\n",
        "      <td> 0</td>\n",
        "      <td> 0</td>\n",
        "      <td> 0</td>\n",
        "      <td> 0</td>\n",
        "      <td> 0</td>\n",
        "      <td> 0</td>\n",
        "      <td> 0</td>\n",
        "      <td> 0</td>\n",
        "      <td> 37</td>\n",
        "      <td> 3</td>\n",
        "      <td> 18</td>\n",
        "      <td> 0.068626</td>\n",
        "      <td> 7.1</td>\n",
        "      <td> 6.2</td>\n",
        "      <td> 5.9</td>\n",
        "    </tr>\n",
        "    <tr>\n",
        "      <th>22</th>\n",
        "      <td> 27540831</td>\n",
        "      <td> 30043918</td>\n",
        "      <td>  7225</td>\n",
        "      <td>  7225</td>\n",
        "      <td>  7225</td>\n",
        "      <td> 0</td>\n",
        "      <td> 16.99</td>\n",
        "      <td>  257.56</td>\n",
        "      <td> 3</td>\n",
        "      <td> 12</td>\n",
        "      <td>  2</td>\n",
        "      <td>      OWN</td>\n",
        "      <td>  62000.00</td>\n",
        "      <td> 1</td>\n",
        "      <td>2014-09-01</td>\n",
        "      <td> 1</td>\n",
        "      <td> n</td>\n",
        "      <td> https://www.lendingclub.com/browse/loanDetail....</td>\n",
        "      <td> bmFu</td>\n",
        "      <td> debt_consolidation</td>\n",
        "      <td>      Debt consolidation</td>\n",
        "      <td> 320</td>\n",
        "      <td> FL</td>\n",
        "      <td> 15.62</td>\n",
        "      <td> 0</td>\n",
        "      <td> Oct-1999</td>\n",
        "      <td> 1</td>\n",
        "      <td> -1</td>\n",
        "      <td> 90</td>\n",
        "      <td>  5</td>\n",
        "      <td> 1</td>\n",
        "      <td>  1685</td>\n",
        "      <td> 49.6</td>\n",
        "      <td>  9</td>\n",
        "      <td> 0</td>\n",
        "      <td> 0</td>\n",
        "      <td>  7327.293958</td>\n",
        "      <td>  7327.29</td>\n",
        "      <td>  7225</td>\n",
        "      <td>  102.29</td>\n",
        "      <td> 0</td>\n",
        "      <td> 0</td>\n",
        "      <td> 0</td>\n",
        "      <td>2014-10-01</td>\n",
        "      <td>  7327.29</td>\n",
        "      <td> NaN</td>\n",
        "      <td> Oct-2014</td>\n",
        "      <td> 0</td>\n",
        "      <td> -1</td>\n",
        "      <td> 1</td>\n",
        "      <td> 0</td>\n",
        "      <td> 0</td>\n",
        "      <td> 0</td>\n",
        "      <td> 1</td>\n",
        "      <td> 0</td>\n",
        "      <td> 0</td>\n",
        "      <td> 0</td>\n",
        "      <td> 0</td>\n",
        "      <td> 0</td>\n",
        "      <td> 1</td>\n",
        "      <td> 0</td>\n",
        "      <td> 30</td>\n",
        "      <td> 9</td>\n",
        "      <td> 2014</td>\n",
        "      <td> 10</td>\n",
        "      <td> 2014</td>\n",
        "      <td> 0</td>\n",
        "      <td> 0</td>\n",
        "      <td> 1</td>\n",
        "      <td> 0</td>\n",
        "      <td> 0</td>\n",
        "      <td> 0</td>\n",
        "      <td> 0</td>\n",
        "      <td> 0</td>\n",
        "      <td> 0</td>\n",
        "      <td> 0</td>\n",
        "      <td> 0</td>\n",
        "      <td> 0</td>\n",
        "      <td> 0</td>\n",
        "      <td> 0</td>\n",
        "      <td> 0</td>\n",
        "      <td> 0</td>\n",
        "      <td> 0</td>\n",
        "      <td> 0</td>\n",
        "      <td> 0</td>\n",
        "      <td> 0</td>\n",
        "      <td> 0</td>\n",
        "      <td> 0</td>\n",
        "      <td> 1</td>\n",
        "      <td> 0</td>\n",
        "      <td> 0</td>\n",
        "      <td> 0</td>\n",
        "      <td> 0</td>\n",
        "      <td> 0</td>\n",
        "      <td> 0</td>\n",
        "      <td> 0</td>\n",
        "      <td> 0</td>\n",
        "      <td> 0</td>\n",
        "      <td> 0</td>\n",
        "      <td> 0</td>\n",
        "      <td> 0</td>\n",
        "      <td> 0</td>\n",
        "      <td> 0</td>\n",
        "      <td> 0</td>\n",
        "      <td> 0</td>\n",
        "      <td> 0</td>\n",
        "      <td> 0</td>\n",
        "      <td> 0</td>\n",
        "      <td> 0</td>\n",
        "      <td> 0</td>\n",
        "      <td> 0</td>\n",
        "      <td> 0</td>\n",
        "      <td> 0</td>\n",
        "      <td> 0</td>\n",
        "      <td> 0</td>\n",
        "      <td> 0</td>\n",
        "      <td> 0</td>\n",
        "      <td> 0</td>\n",
        "      <td> 0</td>\n",
        "      <td> 0</td>\n",
        "      <td> 0</td>\n",
        "      <td> 0</td>\n",
        "      <td> 0</td>\n",
        "      <td> 0</td>\n",
        "      <td> 0</td>\n",
        "      <td> 16</td>\n",
        "      <td> 3</td>\n",
        "      <td> 18</td>\n",
        "      <td> 0.049850</td>\n",
        "      <td> 7.1</td>\n",
        "      <td> 6.4</td>\n",
        "      <td> 6.3</td>\n",
        "    </tr>\n",
        "    <tr>\n",
        "      <th>23</th>\n",
        "      <td> 27681000</td>\n",
        "      <td> 30194114</td>\n",
        "      <td> 14400</td>\n",
        "      <td> 14400</td>\n",
        "      <td> 14400</td>\n",
        "      <td> 0</td>\n",
        "      <td> 14.49</td>\n",
        "      <td>  495.60</td>\n",
        "      <td> 4</td>\n",
        "      <td> 19</td>\n",
        "      <td>  2</td>\n",
        "      <td>     RENT</td>\n",
        "      <td>  85000.00</td>\n",
        "      <td> 2</td>\n",
        "      <td>2014-09-01</td>\n",
        "      <td> 1</td>\n",
        "      <td> n</td>\n",
        "      <td> https://www.lendingclub.com/browse/loanDetail....</td>\n",
        "      <td> bmFu</td>\n",
        "      <td>              other</td>\n",
        "      <td>                   Other</td>\n",
        "      <td> 029</td>\n",
        "      <td> RI</td>\n",
        "      <td>  7.65</td>\n",
        "      <td> 0</td>\n",
        "      <td> Nov-2003</td>\n",
        "      <td> 3</td>\n",
        "      <td> 60</td>\n",
        "      <td> -1</td>\n",
        "      <td>  7</td>\n",
        "      <td> 0</td>\n",
        "      <td>  9180</td>\n",
        "      <td> 50.2</td>\n",
        "      <td> 18</td>\n",
        "      <td> 0</td>\n",
        "      <td> 0</td>\n",
        "      <td> 14573.880000</td>\n",
        "      <td> 14573.88</td>\n",
        "      <td> 14400</td>\n",
        "      <td>  173.88</td>\n",
        "      <td> 0</td>\n",
        "      <td> 0</td>\n",
        "      <td> 0</td>\n",
        "      <td>2014-10-01</td>\n",
        "      <td> 14573.88</td>\n",
        "      <td> NaN</td>\n",
        "      <td> Nov-2014</td>\n",
        "      <td> 0</td>\n",
        "      <td> 60</td>\n",
        "      <td> 1</td>\n",
        "      <td> 0</td>\n",
        "      <td> 0</td>\n",
        "      <td> 1</td>\n",
        "      <td> 0</td>\n",
        "      <td> 0</td>\n",
        "      <td> 0</td>\n",
        "      <td> 0</td>\n",
        "      <td> 0</td>\n",
        "      <td> 0</td>\n",
        "      <td> 0</td>\n",
        "      <td> 1</td>\n",
        "      <td> 30</td>\n",
        "      <td> 9</td>\n",
        "      <td> 2014</td>\n",
        "      <td> 10</td>\n",
        "      <td> 2014</td>\n",
        "      <td> 0</td>\n",
        "      <td> 0</td>\n",
        "      <td> 0</td>\n",
        "      <td> 0</td>\n",
        "      <td> 0</td>\n",
        "      <td> 0</td>\n",
        "      <td> 0</td>\n",
        "      <td> 0</td>\n",
        "      <td> 1</td>\n",
        "      <td> 0</td>\n",
        "      <td> 0</td>\n",
        "      <td> 0</td>\n",
        "      <td> 0</td>\n",
        "      <td> 0</td>\n",
        "      <td> 0</td>\n",
        "      <td> 0</td>\n",
        "      <td> 0</td>\n",
        "      <td> 0</td>\n",
        "      <td> 0</td>\n",
        "      <td> 0</td>\n",
        "      <td> 0</td>\n",
        "      <td> 0</td>\n",
        "      <td> 0</td>\n",
        "      <td> 0</td>\n",
        "      <td> 0</td>\n",
        "      <td> 0</td>\n",
        "      <td> 0</td>\n",
        "      <td> 0</td>\n",
        "      <td> 0</td>\n",
        "      <td> 0</td>\n",
        "      <td> 0</td>\n",
        "      <td> 0</td>\n",
        "      <td> 0</td>\n",
        "      <td> 0</td>\n",
        "      <td> 0</td>\n",
        "      <td> 0</td>\n",
        "      <td> 0</td>\n",
        "      <td> 0</td>\n",
        "      <td> 0</td>\n",
        "      <td> 0</td>\n",
        "      <td> 0</td>\n",
        "      <td> 0</td>\n",
        "      <td> 0</td>\n",
        "      <td> 0</td>\n",
        "      <td> 0</td>\n",
        "      <td> 0</td>\n",
        "      <td> 0</td>\n",
        "      <td> 1</td>\n",
        "      <td> 0</td>\n",
        "      <td> 0</td>\n",
        "      <td> 0</td>\n",
        "      <td> 0</td>\n",
        "      <td> 0</td>\n",
        "      <td> 0</td>\n",
        "      <td> 0</td>\n",
        "      <td> 0</td>\n",
        "      <td> 0</td>\n",
        "      <td> 0</td>\n",
        "      <td> 0</td>\n",
        "      <td> 12</td>\n",
        "      <td> 3</td>\n",
        "      <td>  5</td>\n",
        "      <td> 0.069967</td>\n",
        "      <td> 9.0</td>\n",
        "      <td> 9.1</td>\n",
        "      <td> 7.1</td>\n",
        "    </tr>\n",
        "    <tr>\n",
        "      <th>24</th>\n",
        "      <td> 27730632</td>\n",
        "      <td> 30233717</td>\n",
        "      <td>  3000</td>\n",
        "      <td>  3000</td>\n",
        "      <td>  3000</td>\n",
        "      <td> 0</td>\n",
        "      <td> 13.98</td>\n",
        "      <td>  102.51</td>\n",
        "      <td> 3</td>\n",
        "      <td>  2</td>\n",
        "      <td>  2</td>\n",
        "      <td> MORTGAGE</td>\n",
        "      <td> 100000.00</td>\n",
        "      <td> 0</td>\n",
        "      <td>2014-09-01</td>\n",
        "      <td> 1</td>\n",
        "      <td> n</td>\n",
        "      <td> https://www.lendingclub.com/browse/loanDetail....</td>\n",
        "      <td> bmFu</td>\n",
        "      <td> debt_consolidation</td>\n",
        "      <td>      Debt consolidation</td>\n",
        "      <td> 483</td>\n",
        "      <td> MI</td>\n",
        "      <td> 21.71</td>\n",
        "      <td> 0</td>\n",
        "      <td> Nov-1985</td>\n",
        "      <td> 0</td>\n",
        "      <td> -1</td>\n",
        "      <td> -1</td>\n",
        "      <td>  8</td>\n",
        "      <td> 0</td>\n",
        "      <td> 18063</td>\n",
        "      <td> 42.8</td>\n",
        "      <td> 18</td>\n",
        "      <td> 0</td>\n",
        "      <td> 0</td>\n",
        "      <td>  3034.950000</td>\n",
        "      <td>  3034.95</td>\n",
        "      <td>  3000</td>\n",
        "      <td>   34.95</td>\n",
        "      <td> 0</td>\n",
        "      <td> 0</td>\n",
        "      <td> 0</td>\n",
        "      <td>2014-10-01</td>\n",
        "      <td>  3034.95</td>\n",
        "      <td> NaN</td>\n",
        "      <td> Oct-2014</td>\n",
        "      <td> 0</td>\n",
        "      <td> -1</td>\n",
        "      <td> 1</td>\n",
        "      <td> 0</td>\n",
        "      <td> 0</td>\n",
        "      <td> 1</td>\n",
        "      <td> 0</td>\n",
        "      <td> 0</td>\n",
        "      <td> 0</td>\n",
        "      <td> 0</td>\n",
        "      <td> 0</td>\n",
        "      <td> 1</td>\n",
        "      <td> 0</td>\n",
        "      <td> 0</td>\n",
        "      <td> 30</td>\n",
        "      <td> 9</td>\n",
        "      <td> 2014</td>\n",
        "      <td> 10</td>\n",
        "      <td> 2014</td>\n",
        "      <td> 0</td>\n",
        "      <td> 0</td>\n",
        "      <td> 1</td>\n",
        "      <td> 0</td>\n",
        "      <td> 0</td>\n",
        "      <td> 0</td>\n",
        "      <td> 0</td>\n",
        "      <td> 0</td>\n",
        "      <td> 0</td>\n",
        "      <td> 0</td>\n",
        "      <td> 0</td>\n",
        "      <td> 0</td>\n",
        "      <td> 0</td>\n",
        "      <td> 0</td>\n",
        "      <td> 0</td>\n",
        "      <td> 0</td>\n",
        "      <td> 0</td>\n",
        "      <td> 0</td>\n",
        "      <td> 0</td>\n",
        "      <td> 0</td>\n",
        "      <td> 0</td>\n",
        "      <td> 0</td>\n",
        "      <td> 0</td>\n",
        "      <td> 0</td>\n",
        "      <td> 0</td>\n",
        "      <td> 0</td>\n",
        "      <td> 0</td>\n",
        "      <td> 0</td>\n",
        "      <td> 0</td>\n",
        "      <td> 0</td>\n",
        "      <td> 0</td>\n",
        "      <td> 0</td>\n",
        "      <td> 1</td>\n",
        "      <td> 0</td>\n",
        "      <td> 0</td>\n",
        "      <td> 0</td>\n",
        "      <td> 0</td>\n",
        "      <td> 0</td>\n",
        "      <td> 0</td>\n",
        "      <td> 0</td>\n",
        "      <td> 0</td>\n",
        "      <td> 0</td>\n",
        "      <td> 0</td>\n",
        "      <td> 0</td>\n",
        "      <td> 0</td>\n",
        "      <td> 0</td>\n",
        "      <td> 0</td>\n",
        "      <td> 0</td>\n",
        "      <td> 0</td>\n",
        "      <td> 0</td>\n",
        "      <td> 0</td>\n",
        "      <td> 0</td>\n",
        "      <td> 0</td>\n",
        "      <td> 0</td>\n",
        "      <td> 0</td>\n",
        "      <td> 0</td>\n",
        "      <td> 0</td>\n",
        "      <td> 0</td>\n",
        "      <td> 0</td>\n",
        "      <td> 30</td>\n",
        "      <td> 3</td>\n",
        "      <td> 18</td>\n",
        "      <td> 0.012301</td>\n",
        "      <td> 8.2</td>\n",
        "      <td> 8.0</td>\n",
        "      <td> 7.9</td>\n",
        "    </tr>\n",
        "    <tr>\n",
        "      <th>25</th>\n",
        "      <td> 27149989</td>\n",
        "      <td> 29663026</td>\n",
        "      <td>  6575</td>\n",
        "      <td>  6575</td>\n",
        "      <td>  6575</td>\n",
        "      <td> 0</td>\n",
        "      <td> 17.57</td>\n",
        "      <td>  236.29</td>\n",
        "      <td> 4</td>\n",
        "      <td>  7</td>\n",
        "      <td>  2</td>\n",
        "      <td> MORTGAGE</td>\n",
        "      <td>  72155.00</td>\n",
        "      <td> 1</td>\n",
        "      <td>2014-09-01</td>\n",
        "      <td> 1</td>\n",
        "      <td> n</td>\n",
        "      <td> https://www.lendingclub.com/browse/loanDetail....</td>\n",
        "      <td> bmFu</td>\n",
        "      <td>        credit_card</td>\n",
        "      <td> Credit card refinancing</td>\n",
        "      <td> 750</td>\n",
        "      <td> TX</td>\n",
        "      <td> 30.36</td>\n",
        "      <td> 0</td>\n",
        "      <td> Nov-1999</td>\n",
        "      <td> 0</td>\n",
        "      <td> -1</td>\n",
        "      <td> -1</td>\n",
        "      <td>  7</td>\n",
        "      <td> 0</td>\n",
        "      <td> 44351</td>\n",
        "      <td> 91.8</td>\n",
        "      <td> 15</td>\n",
        "      <td> 0</td>\n",
        "      <td> 0</td>\n",
        "      <td>  6765.487775</td>\n",
        "      <td>  6765.49</td>\n",
        "      <td>  6575</td>\n",
        "      <td>  190.49</td>\n",
        "      <td> 0</td>\n",
        "      <td> 0</td>\n",
        "      <td> 0</td>\n",
        "      <td>2014-11-01</td>\n",
        "      <td>  6529.20</td>\n",
        "      <td> NaN</td>\n",
        "      <td> Nov-2014</td>\n",
        "      <td> 0</td>\n",
        "      <td> -1</td>\n",
        "      <td> 1</td>\n",
        "      <td> 0</td>\n",
        "      <td> 0</td>\n",
        "      <td> 0</td>\n",
        "      <td> 1</td>\n",
        "      <td> 0</td>\n",
        "      <td> 0</td>\n",
        "      <td> 0</td>\n",
        "      <td> 0</td>\n",
        "      <td> 1</td>\n",
        "      <td> 0</td>\n",
        "      <td> 0</td>\n",
        "      <td> 61</td>\n",
        "      <td> 9</td>\n",
        "      <td> 2014</td>\n",
        "      <td> 11</td>\n",
        "      <td> 2014</td>\n",
        "      <td> 0</td>\n",
        "      <td> 1</td>\n",
        "      <td> 0</td>\n",
        "      <td> 0</td>\n",
        "      <td> 0</td>\n",
        "      <td> 0</td>\n",
        "      <td> 0</td>\n",
        "      <td> 0</td>\n",
        "      <td> 0</td>\n",
        "      <td> 0</td>\n",
        "      <td> 0</td>\n",
        "      <td> 0</td>\n",
        "      <td> 0</td>\n",
        "      <td> 0</td>\n",
        "      <td> 0</td>\n",
        "      <td> 0</td>\n",
        "      <td> 0</td>\n",
        "      <td> 0</td>\n",
        "      <td> 0</td>\n",
        "      <td> 0</td>\n",
        "      <td> 0</td>\n",
        "      <td> 0</td>\n",
        "      <td> 0</td>\n",
        "      <td> 0</td>\n",
        "      <td> 0</td>\n",
        "      <td> 0</td>\n",
        "      <td> 0</td>\n",
        "      <td> 0</td>\n",
        "      <td> 0</td>\n",
        "      <td> 0</td>\n",
        "      <td> 0</td>\n",
        "      <td> 0</td>\n",
        "      <td> 0</td>\n",
        "      <td> 0</td>\n",
        "      <td> 0</td>\n",
        "      <td> 0</td>\n",
        "      <td> 0</td>\n",
        "      <td> 0</td>\n",
        "      <td> 0</td>\n",
        "      <td> 0</td>\n",
        "      <td> 0</td>\n",
        "      <td> 0</td>\n",
        "      <td> 0</td>\n",
        "      <td> 0</td>\n",
        "      <td> 0</td>\n",
        "      <td> 0</td>\n",
        "      <td> 0</td>\n",
        "      <td> 0</td>\n",
        "      <td> 0</td>\n",
        "      <td> 0</td>\n",
        "      <td> 0</td>\n",
        "      <td> 1</td>\n",
        "      <td> 0</td>\n",
        "      <td> 0</td>\n",
        "      <td> 0</td>\n",
        "      <td> 0</td>\n",
        "      <td> 0</td>\n",
        "      <td> 0</td>\n",
        "      <td> 0</td>\n",
        "      <td> 16</td>\n",
        "      <td> 3</td>\n",
        "      <td> 23</td>\n",
        "      <td> 0.039297</td>\n",
        "      <td> 6.2</td>\n",
        "      <td> 5.3</td>\n",
        "      <td> 5.5</td>\n",
        "    </tr>\n",
        "    <tr>\n",
        "      <th>26</th>\n",
        "      <td> 27710475</td>\n",
        "      <td> 30173543</td>\n",
        "      <td> 10000</td>\n",
        "      <td> 10000</td>\n",
        "      <td> 10000</td>\n",
        "      <td> 0</td>\n",
        "      <td> 10.15</td>\n",
        "      <td>  323.38</td>\n",
        "      <td> 2</td>\n",
        "      <td> 18</td>\n",
        "      <td>  6</td>\n",
        "      <td> MORTGAGE</td>\n",
        "      <td>  32000.00</td>\n",
        "      <td> 2</td>\n",
        "      <td>2014-09-01</td>\n",
        "      <td> 1</td>\n",
        "      <td> n</td>\n",
        "      <td> https://www.lendingclub.com/browse/loanDetail....</td>\n",
        "      <td> bmFu</td>\n",
        "      <td> debt_consolidation</td>\n",
        "      <td>      Debt consolidation</td>\n",
        "      <td> 331</td>\n",
        "      <td> FL</td>\n",
        "      <td> 10.43</td>\n",
        "      <td> 0</td>\n",
        "      <td> Sep-2004</td>\n",
        "      <td> 0</td>\n",
        "      <td> 63</td>\n",
        "      <td> -1</td>\n",
        "      <td> 13</td>\n",
        "      <td> 0</td>\n",
        "      <td> 11267</td>\n",
        "      <td> 48.6</td>\n",
        "      <td> 36</td>\n",
        "      <td> 0</td>\n",
        "      <td> 0</td>\n",
        "      <td> 10084.583333</td>\n",
        "      <td> 10084.58</td>\n",
        "      <td> 10000</td>\n",
        "      <td>   84.58</td>\n",
        "      <td> 0</td>\n",
        "      <td> 0</td>\n",
        "      <td> 0</td>\n",
        "      <td>2014-10-01</td>\n",
        "      <td> 10084.58</td>\n",
        "      <td> NaN</td>\n",
        "      <td> Oct-2014</td>\n",
        "      <td> 0</td>\n",
        "      <td> 66</td>\n",
        "      <td> 1</td>\n",
        "      <td> 0</td>\n",
        "      <td> 1</td>\n",
        "      <td> 0</td>\n",
        "      <td> 0</td>\n",
        "      <td> 0</td>\n",
        "      <td> 0</td>\n",
        "      <td> 0</td>\n",
        "      <td> 0</td>\n",
        "      <td> 1</td>\n",
        "      <td> 0</td>\n",
        "      <td> 0</td>\n",
        "      <td> 30</td>\n",
        "      <td> 9</td>\n",
        "      <td> 2014</td>\n",
        "      <td> 10</td>\n",
        "      <td> 2014</td>\n",
        "      <td> 0</td>\n",
        "      <td> 0</td>\n",
        "      <td> 1</td>\n",
        "      <td> 0</td>\n",
        "      <td> 0</td>\n",
        "      <td> 0</td>\n",
        "      <td> 0</td>\n",
        "      <td> 0</td>\n",
        "      <td> 0</td>\n",
        "      <td> 0</td>\n",
        "      <td> 0</td>\n",
        "      <td> 0</td>\n",
        "      <td> 0</td>\n",
        "      <td> 0</td>\n",
        "      <td> 0</td>\n",
        "      <td> 0</td>\n",
        "      <td> 0</td>\n",
        "      <td> 0</td>\n",
        "      <td> 0</td>\n",
        "      <td> 0</td>\n",
        "      <td> 0</td>\n",
        "      <td> 0</td>\n",
        "      <td> 1</td>\n",
        "      <td> 0</td>\n",
        "      <td> 0</td>\n",
        "      <td> 0</td>\n",
        "      <td> 0</td>\n",
        "      <td> 0</td>\n",
        "      <td> 0</td>\n",
        "      <td> 0</td>\n",
        "      <td> 0</td>\n",
        "      <td> 0</td>\n",
        "      <td> 0</td>\n",
        "      <td> 0</td>\n",
        "      <td> 0</td>\n",
        "      <td> 0</td>\n",
        "      <td> 0</td>\n",
        "      <td> 0</td>\n",
        "      <td> 0</td>\n",
        "      <td> 0</td>\n",
        "      <td> 0</td>\n",
        "      <td> 0</td>\n",
        "      <td> 0</td>\n",
        "      <td> 0</td>\n",
        "      <td> 0</td>\n",
        "      <td> 0</td>\n",
        "      <td> 0</td>\n",
        "      <td> 0</td>\n",
        "      <td> 0</td>\n",
        "      <td> 0</td>\n",
        "      <td> 0</td>\n",
        "      <td> 0</td>\n",
        "      <td> 0</td>\n",
        "      <td> 0</td>\n",
        "      <td> 0</td>\n",
        "      <td> 0</td>\n",
        "      <td> 0</td>\n",
        "      <td> 0</td>\n",
        "      <td> 0</td>\n",
        "      <td> 11</td>\n",
        "      <td> 3</td>\n",
        "      <td> 18</td>\n",
        "      <td> 0.121268</td>\n",
        "      <td> 7.1</td>\n",
        "      <td> 6.4</td>\n",
        "      <td> 6.3</td>\n",
        "    </tr>\n",
        "    <tr>\n",
        "      <th>27</th>\n",
        "      <td> 27630912</td>\n",
        "      <td> 30134001</td>\n",
        "      <td> 10000</td>\n",
        "      <td> 10000</td>\n",
        "      <td> 10000</td>\n",
        "      <td> 0</td>\n",
        "      <td> 10.15</td>\n",
        "      <td>  323.38</td>\n",
        "      <td> 2</td>\n",
        "      <td> 15</td>\n",
        "      <td>  2</td>\n",
        "      <td>     RENT</td>\n",
        "      <td>  82000.00</td>\n",
        "      <td> 1</td>\n",
        "      <td>2014-09-01</td>\n",
        "      <td> 1</td>\n",
        "      <td> n</td>\n",
        "      <td> https://www.lendingclub.com/browse/loanDetail....</td>\n",
        "      <td> bmFu</td>\n",
        "      <td> debt_consolidation</td>\n",
        "      <td>      Debt consolidation</td>\n",
        "      <td> 844</td>\n",
        "      <td> UT</td>\n",
        "      <td>  7.73</td>\n",
        "      <td> 0</td>\n",
        "      <td> Mar-1996</td>\n",
        "      <td> 1</td>\n",
        "      <td> -1</td>\n",
        "      <td> 61</td>\n",
        "      <td>  8</td>\n",
        "      <td> 1</td>\n",
        "      <td>  8969</td>\n",
        "      <td> 72.3</td>\n",
        "      <td> 41</td>\n",
        "      <td> 0</td>\n",
        "      <td> 0</td>\n",
        "      <td> 10084.590000</td>\n",
        "      <td> 10084.59</td>\n",
        "      <td> 10000</td>\n",
        "      <td>   84.59</td>\n",
        "      <td> 0</td>\n",
        "      <td> 0</td>\n",
        "      <td> 0</td>\n",
        "      <td>2014-10-01</td>\n",
        "      <td> 10084.59</td>\n",
        "      <td> NaN</td>\n",
        "      <td> Oct-2014</td>\n",
        "      <td> 0</td>\n",
        "      <td> -1</td>\n",
        "      <td> 1</td>\n",
        "      <td> 0</td>\n",
        "      <td> 1</td>\n",
        "      <td> 0</td>\n",
        "      <td> 0</td>\n",
        "      <td> 0</td>\n",
        "      <td> 0</td>\n",
        "      <td> 0</td>\n",
        "      <td> 0</td>\n",
        "      <td> 0</td>\n",
        "      <td> 0</td>\n",
        "      <td> 1</td>\n",
        "      <td> 30</td>\n",
        "      <td> 9</td>\n",
        "      <td> 2014</td>\n",
        "      <td> 10</td>\n",
        "      <td> 2014</td>\n",
        "      <td> 0</td>\n",
        "      <td> 0</td>\n",
        "      <td> 1</td>\n",
        "      <td> 0</td>\n",
        "      <td> 0</td>\n",
        "      <td> 0</td>\n",
        "      <td> 0</td>\n",
        "      <td> 0</td>\n",
        "      <td> 0</td>\n",
        "      <td> 0</td>\n",
        "      <td> 0</td>\n",
        "      <td> 0</td>\n",
        "      <td> 0</td>\n",
        "      <td> 0</td>\n",
        "      <td> 0</td>\n",
        "      <td> 0</td>\n",
        "      <td> 0</td>\n",
        "      <td> 0</td>\n",
        "      <td> 0</td>\n",
        "      <td> 0</td>\n",
        "      <td> 0</td>\n",
        "      <td> 0</td>\n",
        "      <td> 0</td>\n",
        "      <td> 0</td>\n",
        "      <td> 0</td>\n",
        "      <td> 0</td>\n",
        "      <td> 0</td>\n",
        "      <td> 0</td>\n",
        "      <td> 0</td>\n",
        "      <td> 0</td>\n",
        "      <td> 0</td>\n",
        "      <td> 0</td>\n",
        "      <td> 0</td>\n",
        "      <td> 0</td>\n",
        "      <td> 0</td>\n",
        "      <td> 0</td>\n",
        "      <td> 0</td>\n",
        "      <td> 0</td>\n",
        "      <td> 0</td>\n",
        "      <td> 0</td>\n",
        "      <td> 0</td>\n",
        "      <td> 0</td>\n",
        "      <td> 0</td>\n",
        "      <td> 0</td>\n",
        "      <td> 0</td>\n",
        "      <td> 0</td>\n",
        "      <td> 0</td>\n",
        "      <td> 0</td>\n",
        "      <td> 0</td>\n",
        "      <td> 0</td>\n",
        "      <td> 0</td>\n",
        "      <td> 0</td>\n",
        "      <td> 1</td>\n",
        "      <td> 0</td>\n",
        "      <td> 0</td>\n",
        "      <td> 0</td>\n",
        "      <td> 0</td>\n",
        "      <td> 0</td>\n",
        "      <td> 0</td>\n",
        "      <td> 19</td>\n",
        "      <td> 3</td>\n",
        "      <td> 18</td>\n",
        "      <td> 0.047324</td>\n",
        "      <td> 4.0</td>\n",
        "      <td> 4.4</td>\n",
        "      <td> 3.9</td>\n",
        "    </tr>\n",
        "    <tr>\n",
        "      <th>28</th>\n",
        "      <td> 27130151</td>\n",
        "      <td> 29633192</td>\n",
        "      <td>  6000</td>\n",
        "      <td>  6000</td>\n",
        "      <td>  6000</td>\n",
        "      <td> 0</td>\n",
        "      <td> 14.49</td>\n",
        "      <td>  206.50</td>\n",
        "      <td> 4</td>\n",
        "      <td>  7</td>\n",
        "      <td> 10</td>\n",
        "      <td>      OWN</td>\n",
        "      <td>  52000.00</td>\n",
        "      <td> 1</td>\n",
        "      <td>2014-09-01</td>\n",
        "      <td> 1</td>\n",
        "      <td> n</td>\n",
        "      <td> https://www.lendingclub.com/browse/loanDetail....</td>\n",
        "      <td> bmFu</td>\n",
        "      <td> debt_consolidation</td>\n",
        "      <td>      Debt consolidation</td>\n",
        "      <td> 217</td>\n",
        "      <td> MD</td>\n",
        "      <td> 17.54</td>\n",
        "      <td> 0</td>\n",
        "      <td> Oct-2005</td>\n",
        "      <td> 0</td>\n",
        "      <td> -1</td>\n",
        "      <td> -1</td>\n",
        "      <td>  5</td>\n",
        "      <td> 0</td>\n",
        "      <td>  9382</td>\n",
        "      <td> 90.2</td>\n",
        "      <td> 12</td>\n",
        "      <td> 0</td>\n",
        "      <td> 0</td>\n",
        "      <td>  6114.950000</td>\n",
        "      <td>  6114.95</td>\n",
        "      <td>  6000</td>\n",
        "      <td>  114.95</td>\n",
        "      <td> 0</td>\n",
        "      <td> 0</td>\n",
        "      <td> 0</td>\n",
        "      <td>2014-10-01</td>\n",
        "      <td>  6114.95</td>\n",
        "      <td> NaN</td>\n",
        "      <td> Nov-2014</td>\n",
        "      <td> 0</td>\n",
        "      <td> -1</td>\n",
        "      <td> 1</td>\n",
        "      <td> 0</td>\n",
        "      <td> 0</td>\n",
        "      <td> 1</td>\n",
        "      <td> 0</td>\n",
        "      <td> 0</td>\n",
        "      <td> 0</td>\n",
        "      <td> 0</td>\n",
        "      <td> 0</td>\n",
        "      <td> 0</td>\n",
        "      <td> 1</td>\n",
        "      <td> 0</td>\n",
        "      <td> 30</td>\n",
        "      <td> 9</td>\n",
        "      <td> 2014</td>\n",
        "      <td> 10</td>\n",
        "      <td> 2014</td>\n",
        "      <td> 0</td>\n",
        "      <td> 0</td>\n",
        "      <td> 1</td>\n",
        "      <td> 0</td>\n",
        "      <td> 0</td>\n",
        "      <td> 0</td>\n",
        "      <td> 0</td>\n",
        "      <td> 0</td>\n",
        "      <td> 0</td>\n",
        "      <td> 0</td>\n",
        "      <td> 0</td>\n",
        "      <td> 0</td>\n",
        "      <td> 0</td>\n",
        "      <td> 0</td>\n",
        "      <td> 0</td>\n",
        "      <td> 0</td>\n",
        "      <td> 0</td>\n",
        "      <td> 0</td>\n",
        "      <td> 0</td>\n",
        "      <td> 0</td>\n",
        "      <td> 0</td>\n",
        "      <td> 0</td>\n",
        "      <td> 0</td>\n",
        "      <td> 0</td>\n",
        "      <td> 0</td>\n",
        "      <td> 0</td>\n",
        "      <td> 0</td>\n",
        "      <td> 0</td>\n",
        "      <td> 0</td>\n",
        "      <td> 0</td>\n",
        "      <td> 0</td>\n",
        "      <td> 1</td>\n",
        "      <td> 0</td>\n",
        "      <td> 0</td>\n",
        "      <td> 0</td>\n",
        "      <td> 0</td>\n",
        "      <td> 0</td>\n",
        "      <td> 0</td>\n",
        "      <td> 0</td>\n",
        "      <td> 0</td>\n",
        "      <td> 0</td>\n",
        "      <td> 0</td>\n",
        "      <td> 0</td>\n",
        "      <td> 0</td>\n",
        "      <td> 0</td>\n",
        "      <td> 0</td>\n",
        "      <td> 0</td>\n",
        "      <td> 0</td>\n",
        "      <td> 0</td>\n",
        "      <td> 0</td>\n",
        "      <td> 0</td>\n",
        "      <td> 0</td>\n",
        "      <td> 0</td>\n",
        "      <td> 0</td>\n",
        "      <td> 0</td>\n",
        "      <td> 0</td>\n",
        "      <td> 0</td>\n",
        "      <td> 0</td>\n",
        "      <td> 0</td>\n",
        "      <td> 10</td>\n",
        "      <td> 3</td>\n",
        "      <td> 18</td>\n",
        "      <td> 0.047654</td>\n",
        "      <td> 6.2</td>\n",
        "      <td> 5.8</td>\n",
        "      <td> 6.2</td>\n",
        "    </tr>\n",
        "    <tr>\n",
        "      <th>29</th>\n",
        "      <td> 27320366</td>\n",
        "      <td> 29813453</td>\n",
        "      <td> 12000</td>\n",
        "      <td> 12000</td>\n",
        "      <td> 12000</td>\n",
        "      <td> 1</td>\n",
        "      <td> 17.57</td>\n",
        "      <td>  301.93</td>\n",
        "      <td> 4</td>\n",
        "      <td>  6</td>\n",
        "      <td>  2</td>\n",
        "      <td> MORTGAGE</td>\n",
        "      <td>  37000.00</td>\n",
        "      <td> 1</td>\n",
        "      <td>2014-09-01</td>\n",
        "      <td> 1</td>\n",
        "      <td> n</td>\n",
        "      <td> https://www.lendingclub.com/browse/loanDetail....</td>\n",
        "      <td> bmFu</td>\n",
        "      <td> debt_consolidation</td>\n",
        "      <td>      Debt consolidation</td>\n",
        "      <td> 992</td>\n",
        "      <td> WA</td>\n",
        "      <td> 26.44</td>\n",
        "      <td> 0</td>\n",
        "      <td> Nov-1997</td>\n",
        "      <td> 3</td>\n",
        "      <td> -1</td>\n",
        "      <td> -1</td>\n",
        "      <td> 13</td>\n",
        "      <td> 0</td>\n",
        "      <td> 24670</td>\n",
        "      <td> 46.0</td>\n",
        "      <td> 23</td>\n",
        "      <td> 0</td>\n",
        "      <td> 0</td>\n",
        "      <td> 12175.700000</td>\n",
        "      <td> 12175.70</td>\n",
        "      <td> 12000</td>\n",
        "      <td>  175.70</td>\n",
        "      <td> 0</td>\n",
        "      <td> 0</td>\n",
        "      <td> 0</td>\n",
        "      <td>2014-10-01</td>\n",
        "      <td> 12175.70</td>\n",
        "      <td> NaN</td>\n",
        "      <td> Oct-2014</td>\n",
        "      <td> 0</td>\n",
        "      <td> -1</td>\n",
        "      <td> 1</td>\n",
        "      <td> 0</td>\n",
        "      <td> 0</td>\n",
        "      <td> 0</td>\n",
        "      <td> 1</td>\n",
        "      <td> 0</td>\n",
        "      <td> 0</td>\n",
        "      <td> 0</td>\n",
        "      <td> 0</td>\n",
        "      <td> 1</td>\n",
        "      <td> 0</td>\n",
        "      <td> 0</td>\n",
        "      <td> 30</td>\n",
        "      <td> 9</td>\n",
        "      <td> 2014</td>\n",
        "      <td> 10</td>\n",
        "      <td> 2014</td>\n",
        "      <td> 0</td>\n",
        "      <td> 0</td>\n",
        "      <td> 1</td>\n",
        "      <td> 0</td>\n",
        "      <td> 0</td>\n",
        "      <td> 0</td>\n",
        "      <td> 0</td>\n",
        "      <td> 0</td>\n",
        "      <td> 0</td>\n",
        "      <td> 0</td>\n",
        "      <td> 0</td>\n",
        "      <td> 0</td>\n",
        "      <td> 0</td>\n",
        "      <td> 0</td>\n",
        "      <td> 0</td>\n",
        "      <td> 0</td>\n",
        "      <td> 0</td>\n",
        "      <td> 0</td>\n",
        "      <td> 0</td>\n",
        "      <td> 0</td>\n",
        "      <td> 0</td>\n",
        "      <td> 0</td>\n",
        "      <td> 0</td>\n",
        "      <td> 0</td>\n",
        "      <td> 0</td>\n",
        "      <td> 0</td>\n",
        "      <td> 0</td>\n",
        "      <td> 0</td>\n",
        "      <td> 0</td>\n",
        "      <td> 0</td>\n",
        "      <td> 0</td>\n",
        "      <td> 0</td>\n",
        "      <td> 0</td>\n",
        "      <td> 0</td>\n",
        "      <td> 0</td>\n",
        "      <td> 0</td>\n",
        "      <td> 0</td>\n",
        "      <td> 0</td>\n",
        "      <td> 0</td>\n",
        "      <td> 0</td>\n",
        "      <td> 0</td>\n",
        "      <td> 0</td>\n",
        "      <td> 0</td>\n",
        "      <td> 0</td>\n",
        "      <td> 0</td>\n",
        "      <td> 0</td>\n",
        "      <td> 0</td>\n",
        "      <td> 0</td>\n",
        "      <td> 0</td>\n",
        "      <td> 0</td>\n",
        "      <td> 0</td>\n",
        "      <td> 0</td>\n",
        "      <td> 0</td>\n",
        "      <td> 0</td>\n",
        "      <td> 0</td>\n",
        "      <td> 1</td>\n",
        "      <td> 0</td>\n",
        "      <td> 0</td>\n",
        "      <td> 0</td>\n",
        "      <td> 18</td>\n",
        "      <td> 3</td>\n",
        "      <td> 18</td>\n",
        "      <td> 0.097923</td>\n",
        "      <td> 6.4</td>\n",
        "      <td> 6.9</td>\n",
        "      <td> 5.3</td>\n",
        "    </tr>\n",
        "    <tr>\n",
        "      <th>30</th>\n",
        "      <td> 26780051</td>\n",
        "      <td> 29273018</td>\n",
        "      <td> 27975</td>\n",
        "      <td> 27975</td>\n",
        "      <td> 27975</td>\n",
        "      <td> 0</td>\n",
        "      <td> 22.15</td>\n",
        "      <td> 1070.55</td>\n",
        "      <td> 5</td>\n",
        "      <td> 15</td>\n",
        "      <td>  9</td>\n",
        "      <td>     RENT</td>\n",
        "      <td>  70000.00</td>\n",
        "      <td> 2</td>\n",
        "      <td>2014-09-01</td>\n",
        "      <td> 1</td>\n",
        "      <td> n</td>\n",
        "      <td> https://www.lendingclub.com/browse/loanDetail....</td>\n",
        "      <td> bmFu</td>\n",
        "      <td>     small_business</td>\n",
        "      <td>                Business</td>\n",
        "      <td> 112</td>\n",
        "      <td> NY</td>\n",
        "      <td>  3.93</td>\n",
        "      <td> 1</td>\n",
        "      <td> Feb-2003</td>\n",
        "      <td> 1</td>\n",
        "      <td> 21</td>\n",
        "      <td> -1</td>\n",
        "      <td>  8</td>\n",
        "      <td> 0</td>\n",
        "      <td>  5914</td>\n",
        "      <td> 12.2</td>\n",
        "      <td> 12</td>\n",
        "      <td> 0</td>\n",
        "      <td> 0</td>\n",
        "      <td> 28491.371875</td>\n",
        "      <td> 28491.37</td>\n",
        "      <td> 27975</td>\n",
        "      <td>  516.37</td>\n",
        "      <td> 0</td>\n",
        "      <td> 0</td>\n",
        "      <td> 0</td>\n",
        "      <td>2014-10-01</td>\n",
        "      <td> 28491.37</td>\n",
        "      <td> NaN</td>\n",
        "      <td> Nov-2014</td>\n",
        "      <td> 0</td>\n",
        "      <td> -1</td>\n",
        "      <td> 1</td>\n",
        "      <td> 0</td>\n",
        "      <td> 0</td>\n",
        "      <td> 0</td>\n",
        "      <td> 0</td>\n",
        "      <td> 1</td>\n",
        "      <td> 0</td>\n",
        "      <td> 0</td>\n",
        "      <td> 0</td>\n",
        "      <td> 0</td>\n",
        "      <td> 0</td>\n",
        "      <td> 1</td>\n",
        "      <td> 30</td>\n",
        "      <td> 9</td>\n",
        "      <td> 2014</td>\n",
        "      <td> 10</td>\n",
        "      <td> 2014</td>\n",
        "      <td> 0</td>\n",
        "      <td> 0</td>\n",
        "      <td> 0</td>\n",
        "      <td> 0</td>\n",
        "      <td> 0</td>\n",
        "      <td> 0</td>\n",
        "      <td> 0</td>\n",
        "      <td> 0</td>\n",
        "      <td> 0</td>\n",
        "      <td> 0</td>\n",
        "      <td> 1</td>\n",
        "      <td> 0</td>\n",
        "      <td> 0</td>\n",
        "      <td> 0</td>\n",
        "      <td> 0</td>\n",
        "      <td> 0</td>\n",
        "      <td> 0</td>\n",
        "      <td> 0</td>\n",
        "      <td> 0</td>\n",
        "      <td> 0</td>\n",
        "      <td> 0</td>\n",
        "      <td> 0</td>\n",
        "      <td> 0</td>\n",
        "      <td> 0</td>\n",
        "      <td> 0</td>\n",
        "      <td> 0</td>\n",
        "      <td> 0</td>\n",
        "      <td> 0</td>\n",
        "      <td> 0</td>\n",
        "      <td> 0</td>\n",
        "      <td> 0</td>\n",
        "      <td> 0</td>\n",
        "      <td> 0</td>\n",
        "      <td> 0</td>\n",
        "      <td> 0</td>\n",
        "      <td> 0</td>\n",
        "      <td> 0</td>\n",
        "      <td> 0</td>\n",
        "      <td> 0</td>\n",
        "      <td> 0</td>\n",
        "      <td> 0</td>\n",
        "      <td> 0</td>\n",
        "      <td> 1</td>\n",
        "      <td> 0</td>\n",
        "      <td> 0</td>\n",
        "      <td> 0</td>\n",
        "      <td> 0</td>\n",
        "      <td> 0</td>\n",
        "      <td> 0</td>\n",
        "      <td> 0</td>\n",
        "      <td> 0</td>\n",
        "      <td> 0</td>\n",
        "      <td> 0</td>\n",
        "      <td> 0</td>\n",
        "      <td> 0</td>\n",
        "      <td> 0</td>\n",
        "      <td> 0</td>\n",
        "      <td> 0</td>\n",
        "      <td> 0</td>\n",
        "      <td> 12</td>\n",
        "      <td> 3</td>\n",
        "      <td>  8</td>\n",
        "      <td> 0.183523</td>\n",
        "      <td> 7.4</td>\n",
        "      <td> 7.2</td>\n",
        "      <td> 6.5</td>\n",
        "    </tr>\n",
        "    <tr>\n",
        "      <th>31</th>\n",
        "      <td> 27570365</td>\n",
        "      <td> 30073435</td>\n",
        "      <td>  4200</td>\n",
        "      <td>  4200</td>\n",
        "      <td>  4200</td>\n",
        "      <td> 0</td>\n",
        "      <td> 17.57</td>\n",
        "      <td>  150.94</td>\n",
        "      <td> 4</td>\n",
        "      <td> 12</td>\n",
        "      <td> 10</td>\n",
        "      <td>     RENT</td>\n",
        "      <td>  65000.00</td>\n",
        "      <td> 1</td>\n",
        "      <td>2014-09-01</td>\n",
        "      <td> 1</td>\n",
        "      <td> n</td>\n",
        "      <td> https://www.lendingclub.com/browse/loanDetail....</td>\n",
        "      <td> bmFu</td>\n",
        "      <td> debt_consolidation</td>\n",
        "      <td>      Debt consolidation</td>\n",
        "      <td> 480</td>\n",
        "      <td> MI</td>\n",
        "      <td> 13.03</td>\n",
        "      <td> 2</td>\n",
        "      <td> Jan-1998</td>\n",
        "      <td> 2</td>\n",
        "      <td>  7</td>\n",
        "      <td> -1</td>\n",
        "      <td> 21</td>\n",
        "      <td> 0</td>\n",
        "      <td>   852</td>\n",
        "      <td>  5.6</td>\n",
        "      <td> 59</td>\n",
        "      <td> 0</td>\n",
        "      <td> 0</td>\n",
        "      <td>  4261.495000</td>\n",
        "      <td>  4261.50</td>\n",
        "      <td>  4200</td>\n",
        "      <td>   61.50</td>\n",
        "      <td> 0</td>\n",
        "      <td> 0</td>\n",
        "      <td> 0</td>\n",
        "      <td>2014-10-01</td>\n",
        "      <td>  4261.50</td>\n",
        "      <td> NaN</td>\n",
        "      <td> Nov-2014</td>\n",
        "      <td> 0</td>\n",
        "      <td>  7</td>\n",
        "      <td> 1</td>\n",
        "      <td> 0</td>\n",
        "      <td> 0</td>\n",
        "      <td> 0</td>\n",
        "      <td> 1</td>\n",
        "      <td> 0</td>\n",
        "      <td> 0</td>\n",
        "      <td> 0</td>\n",
        "      <td> 0</td>\n",
        "      <td> 0</td>\n",
        "      <td> 0</td>\n",
        "      <td> 1</td>\n",
        "      <td> 30</td>\n",
        "      <td> 9</td>\n",
        "      <td> 2014</td>\n",
        "      <td> 10</td>\n",
        "      <td> 2014</td>\n",
        "      <td> 0</td>\n",
        "      <td> 0</td>\n",
        "      <td> 1</td>\n",
        "      <td> 0</td>\n",
        "      <td> 0</td>\n",
        "      <td> 0</td>\n",
        "      <td> 0</td>\n",
        "      <td> 0</td>\n",
        "      <td> 0</td>\n",
        "      <td> 0</td>\n",
        "      <td> 0</td>\n",
        "      <td> 0</td>\n",
        "      <td> 0</td>\n",
        "      <td> 0</td>\n",
        "      <td> 0</td>\n",
        "      <td> 0</td>\n",
        "      <td> 0</td>\n",
        "      <td> 0</td>\n",
        "      <td> 0</td>\n",
        "      <td> 0</td>\n",
        "      <td> 0</td>\n",
        "      <td> 0</td>\n",
        "      <td> 0</td>\n",
        "      <td> 0</td>\n",
        "      <td> 0</td>\n",
        "      <td> 0</td>\n",
        "      <td> 0</td>\n",
        "      <td> 0</td>\n",
        "      <td> 0</td>\n",
        "      <td> 0</td>\n",
        "      <td> 0</td>\n",
        "      <td> 0</td>\n",
        "      <td> 1</td>\n",
        "      <td> 0</td>\n",
        "      <td> 0</td>\n",
        "      <td> 0</td>\n",
        "      <td> 0</td>\n",
        "      <td> 0</td>\n",
        "      <td> 0</td>\n",
        "      <td> 0</td>\n",
        "      <td> 0</td>\n",
        "      <td> 0</td>\n",
        "      <td> 0</td>\n",
        "      <td> 0</td>\n",
        "      <td> 0</td>\n",
        "      <td> 0</td>\n",
        "      <td> 0</td>\n",
        "      <td> 0</td>\n",
        "      <td> 0</td>\n",
        "      <td> 0</td>\n",
        "      <td> 0</td>\n",
        "      <td> 0</td>\n",
        "      <td> 0</td>\n",
        "      <td> 0</td>\n",
        "      <td> 0</td>\n",
        "      <td> 0</td>\n",
        "      <td> 0</td>\n",
        "      <td> 0</td>\n",
        "      <td> 0</td>\n",
        "      <td> 17</td>\n",
        "      <td> 3</td>\n",
        "      <td> 18</td>\n",
        "      <td> 0.027866</td>\n",
        "      <td> 8.2</td>\n",
        "      <td> 8.0</td>\n",
        "      <td> 7.9</td>\n",
        "    </tr>\n",
        "    <tr>\n",
        "      <th>32</th>\n",
        "      <td> 22241940</td>\n",
        "      <td> 24564838</td>\n",
        "      <td> 20650</td>\n",
        "      <td> 20650</td>\n",
        "      <td> 20650</td>\n",
        "      <td> 1</td>\n",
        "      <td> 24.50</td>\n",
        "      <td>  600.07</td>\n",
        "      <td> 3</td>\n",
        "      <td> 15</td>\n",
        "      <td>  7</td>\n",
        "      <td>      OWN</td>\n",
        "      <td>  61000.00</td>\n",
        "      <td> 2</td>\n",
        "      <td>2014-09-01</td>\n",
        "      <td> 1</td>\n",
        "      <td> n</td>\n",
        "      <td> https://www.lendingclub.com/browse/loanDetail....</td>\n",
        "      <td> bmFu</td>\n",
        "      <td> debt_consolidation</td>\n",
        "      <td>      Debt consolidation</td>\n",
        "      <td> 300</td>\n",
        "      <td> GA</td>\n",
        "      <td> 28.03</td>\n",
        "      <td> 1</td>\n",
        "      <td> Aug-1996</td>\n",
        "      <td> 5</td>\n",
        "      <td> 56</td>\n",
        "      <td> -1</td>\n",
        "      <td> 16</td>\n",
        "      <td> 0</td>\n",
        "      <td> 10132</td>\n",
        "      <td> 35.0</td>\n",
        "      <td> 37</td>\n",
        "      <td> 0</td>\n",
        "      <td> 0</td>\n",
        "      <td> 21071.610000</td>\n",
        "      <td> 21071.61</td>\n",
        "      <td> 20650</td>\n",
        "      <td>  421.61</td>\n",
        "      <td> 0</td>\n",
        "      <td> 0</td>\n",
        "      <td> 0</td>\n",
        "      <td>2014-10-01</td>\n",
        "      <td> 21071.61</td>\n",
        "      <td> NaN</td>\n",
        "      <td> Oct-2014</td>\n",
        "      <td> 0</td>\n",
        "      <td> 43</td>\n",
        "      <td> 1</td>\n",
        "      <td> 0</td>\n",
        "      <td> 0</td>\n",
        "      <td> 0</td>\n",
        "      <td> 0</td>\n",
        "      <td> 0</td>\n",
        "      <td> 1</td>\n",
        "      <td> 0</td>\n",
        "      <td> 0</td>\n",
        "      <td> 0</td>\n",
        "      <td> 1</td>\n",
        "      <td> 0</td>\n",
        "      <td> 30</td>\n",
        "      <td> 9</td>\n",
        "      <td> 2014</td>\n",
        "      <td> 10</td>\n",
        "      <td> 2014</td>\n",
        "      <td> 0</td>\n",
        "      <td> 0</td>\n",
        "      <td> 1</td>\n",
        "      <td> 0</td>\n",
        "      <td> 0</td>\n",
        "      <td> 0</td>\n",
        "      <td> 0</td>\n",
        "      <td> 0</td>\n",
        "      <td> 0</td>\n",
        "      <td> 0</td>\n",
        "      <td> 0</td>\n",
        "      <td> 0</td>\n",
        "      <td> 0</td>\n",
        "      <td> 0</td>\n",
        "      <td> 0</td>\n",
        "      <td> 0</td>\n",
        "      <td> 0</td>\n",
        "      <td> 0</td>\n",
        "      <td> 0</td>\n",
        "      <td> 0</td>\n",
        "      <td> 0</td>\n",
        "      <td> 0</td>\n",
        "      <td> 0</td>\n",
        "      <td> 1</td>\n",
        "      <td> 0</td>\n",
        "      <td> 0</td>\n",
        "      <td> 0</td>\n",
        "      <td> 0</td>\n",
        "      <td> 0</td>\n",
        "      <td> 0</td>\n",
        "      <td> 0</td>\n",
        "      <td> 0</td>\n",
        "      <td> 0</td>\n",
        "      <td> 0</td>\n",
        "      <td> 0</td>\n",
        "      <td> 0</td>\n",
        "      <td> 0</td>\n",
        "      <td> 0</td>\n",
        "      <td> 0</td>\n",
        "      <td> 0</td>\n",
        "      <td> 0</td>\n",
        "      <td> 0</td>\n",
        "      <td> 0</td>\n",
        "      <td> 0</td>\n",
        "      <td> 0</td>\n",
        "      <td> 0</td>\n",
        "      <td> 0</td>\n",
        "      <td> 0</td>\n",
        "      <td> 0</td>\n",
        "      <td> 0</td>\n",
        "      <td> 0</td>\n",
        "      <td> 0</td>\n",
        "      <td> 0</td>\n",
        "      <td> 0</td>\n",
        "      <td> 0</td>\n",
        "      <td> 0</td>\n",
        "      <td> 0</td>\n",
        "      <td> 0</td>\n",
        "      <td> 0</td>\n",
        "      <td> 19</td>\n",
        "      <td> 3</td>\n",
        "      <td> 18</td>\n",
        "      <td> 0.118047</td>\n",
        "      <td> 7.8</td>\n",
        "      <td> 7.0</td>\n",
        "      <td> 7.8</td>\n",
        "    </tr>\n",
        "    <tr>\n",
        "      <th>33</th>\n",
        "      <td> 27460292</td>\n",
        "      <td> 29953368</td>\n",
        "      <td> 13200</td>\n",
        "      <td> 13200</td>\n",
        "      <td> 13200</td>\n",
        "      <td> 0</td>\n",
        "      <td> 16.29</td>\n",
        "      <td>  465.97</td>\n",
        "      <td> 2</td>\n",
        "      <td> 16</td>\n",
        "      <td>  4</td>\n",
        "      <td> MORTGAGE</td>\n",
        "      <td>  77000.00</td>\n",
        "      <td> 1</td>\n",
        "      <td>2014-09-01</td>\n",
        "      <td> 1</td>\n",
        "      <td> n</td>\n",
        "      <td> https://www.lendingclub.com/browse/loanDetail....</td>\n",
        "      <td> bmFu</td>\n",
        "      <td> debt_consolidation</td>\n",
        "      <td>      Debt consolidation</td>\n",
        "      <td> 064</td>\n",
        "      <td> CT</td>\n",
        "      <td> 21.76</td>\n",
        "      <td> 0</td>\n",
        "      <td> Dec-2000</td>\n",
        "      <td> 1</td>\n",
        "      <td> 60</td>\n",
        "      <td> -1</td>\n",
        "      <td> 11</td>\n",
        "      <td> 0</td>\n",
        "      <td> 13390</td>\n",
        "      <td> 50.1</td>\n",
        "      <td> 37</td>\n",
        "      <td> 0</td>\n",
        "      <td> 0</td>\n",
        "      <td> 13379.190000</td>\n",
        "      <td> 13379.19</td>\n",
        "      <td> 13200</td>\n",
        "      <td>  179.19</td>\n",
        "      <td> 0</td>\n",
        "      <td> 0</td>\n",
        "      <td> 0</td>\n",
        "      <td>2014-10-01</td>\n",
        "      <td> 13379.19</td>\n",
        "      <td> NaN</td>\n",
        "      <td> Nov-2014</td>\n",
        "      <td> 0</td>\n",
        "      <td> 60</td>\n",
        "      <td> 1</td>\n",
        "      <td> 0</td>\n",
        "      <td> 0</td>\n",
        "      <td> 0</td>\n",
        "      <td> 1</td>\n",
        "      <td> 0</td>\n",
        "      <td> 0</td>\n",
        "      <td> 0</td>\n",
        "      <td> 0</td>\n",
        "      <td> 1</td>\n",
        "      <td> 0</td>\n",
        "      <td> 0</td>\n",
        "      <td> 30</td>\n",
        "      <td> 9</td>\n",
        "      <td> 2014</td>\n",
        "      <td> 10</td>\n",
        "      <td> 2014</td>\n",
        "      <td> 0</td>\n",
        "      <td> 0</td>\n",
        "      <td> 1</td>\n",
        "      <td> 0</td>\n",
        "      <td> 0</td>\n",
        "      <td> 0</td>\n",
        "      <td> 0</td>\n",
        "      <td> 0</td>\n",
        "      <td> 0</td>\n",
        "      <td> 0</td>\n",
        "      <td> 0</td>\n",
        "      <td> 0</td>\n",
        "      <td> 0</td>\n",
        "      <td> 0</td>\n",
        "      <td> 0</td>\n",
        "      <td> 0</td>\n",
        "      <td> 0</td>\n",
        "      <td> 0</td>\n",
        "      <td> 0</td>\n",
        "      <td> 1</td>\n",
        "      <td> 0</td>\n",
        "      <td> 0</td>\n",
        "      <td> 0</td>\n",
        "      <td> 0</td>\n",
        "      <td> 0</td>\n",
        "      <td> 0</td>\n",
        "      <td> 0</td>\n",
        "      <td> 0</td>\n",
        "      <td> 0</td>\n",
        "      <td> 0</td>\n",
        "      <td> 0</td>\n",
        "      <td> 0</td>\n",
        "      <td> 0</td>\n",
        "      <td> 0</td>\n",
        "      <td> 0</td>\n",
        "      <td> 0</td>\n",
        "      <td> 0</td>\n",
        "      <td> 0</td>\n",
        "      <td> 0</td>\n",
        "      <td> 0</td>\n",
        "      <td> 0</td>\n",
        "      <td> 0</td>\n",
        "      <td> 0</td>\n",
        "      <td> 0</td>\n",
        "      <td> 0</td>\n",
        "      <td> 0</td>\n",
        "      <td> 0</td>\n",
        "      <td> 0</td>\n",
        "      <td> 0</td>\n",
        "      <td> 0</td>\n",
        "      <td> 0</td>\n",
        "      <td> 0</td>\n",
        "      <td> 0</td>\n",
        "      <td> 0</td>\n",
        "      <td> 0</td>\n",
        "      <td> 0</td>\n",
        "      <td> 0</td>\n",
        "      <td> 0</td>\n",
        "      <td> 0</td>\n",
        "      <td> 15</td>\n",
        "      <td> 3</td>\n",
        "      <td> 18</td>\n",
        "      <td> 0.072619</td>\n",
        "      <td> 7.5</td>\n",
        "      <td> 7.4</td>\n",
        "      <td> 6.5</td>\n",
        "    </tr>\n",
        "    <tr>\n",
        "      <th>34</th>\n",
        "      <td> 27320215</td>\n",
        "      <td> 29813290</td>\n",
        "      <td>  5000</td>\n",
        "      <td>  5000</td>\n",
        "      <td>  5000</td>\n",
        "      <td> 0</td>\n",
        "      <td> 14.49</td>\n",
        "      <td>  172.09</td>\n",
        "      <td> 4</td>\n",
        "      <td>  3</td>\n",
        "      <td>  1</td>\n",
        "      <td> MORTGAGE</td>\n",
        "      <td> 125000.00</td>\n",
        "      <td> 0</td>\n",
        "      <td>2014-09-01</td>\n",
        "      <td> 1</td>\n",
        "      <td> n</td>\n",
        "      <td> https://www.lendingclub.com/browse/loanDetail....</td>\n",
        "      <td> bmFu</td>\n",
        "      <td> debt_consolidation</td>\n",
        "      <td>      Debt consolidation</td>\n",
        "      <td> 945</td>\n",
        "      <td> CA</td>\n",
        "      <td>  7.22</td>\n",
        "      <td> 0</td>\n",
        "      <td> Nov-2000</td>\n",
        "      <td> 0</td>\n",
        "      <td> 58</td>\n",
        "      <td> -1</td>\n",
        "      <td>  7</td>\n",
        "      <td> 0</td>\n",
        "      <td> 29673</td>\n",
        "      <td> 82.4</td>\n",
        "      <td> 20</td>\n",
        "      <td> 0</td>\n",
        "      <td> 0</td>\n",
        "      <td>  5060.380000</td>\n",
        "      <td>  5060.38</td>\n",
        "      <td>  5000</td>\n",
        "      <td>   60.38</td>\n",
        "      <td> 0</td>\n",
        "      <td> 0</td>\n",
        "      <td> 0</td>\n",
        "      <td>2014-10-01</td>\n",
        "      <td>  5060.38</td>\n",
        "      <td> NaN</td>\n",
        "      <td> Oct-2014</td>\n",
        "      <td> 0</td>\n",
        "      <td> -1</td>\n",
        "      <td> 1</td>\n",
        "      <td> 0</td>\n",
        "      <td> 0</td>\n",
        "      <td> 1</td>\n",
        "      <td> 0</td>\n",
        "      <td> 0</td>\n",
        "      <td> 0</td>\n",
        "      <td> 0</td>\n",
        "      <td> 0</td>\n",
        "      <td> 1</td>\n",
        "      <td> 0</td>\n",
        "      <td> 0</td>\n",
        "      <td> 30</td>\n",
        "      <td> 9</td>\n",
        "      <td> 2014</td>\n",
        "      <td> 10</td>\n",
        "      <td> 2014</td>\n",
        "      <td> 0</td>\n",
        "      <td> 0</td>\n",
        "      <td> 1</td>\n",
        "      <td> 0</td>\n",
        "      <td> 0</td>\n",
        "      <td> 0</td>\n",
        "      <td> 0</td>\n",
        "      <td> 0</td>\n",
        "      <td> 0</td>\n",
        "      <td> 0</td>\n",
        "      <td> 0</td>\n",
        "      <td> 0</td>\n",
        "      <td> 0</td>\n",
        "      <td> 0</td>\n",
        "      <td> 0</td>\n",
        "      <td> 0</td>\n",
        "      <td> 0</td>\n",
        "      <td> 1</td>\n",
        "      <td> 0</td>\n",
        "      <td> 0</td>\n",
        "      <td> 0</td>\n",
        "      <td> 0</td>\n",
        "      <td> 0</td>\n",
        "      <td> 0</td>\n",
        "      <td> 0</td>\n",
        "      <td> 0</td>\n",
        "      <td> 0</td>\n",
        "      <td> 0</td>\n",
        "      <td> 0</td>\n",
        "      <td> 0</td>\n",
        "      <td> 0</td>\n",
        "      <td> 0</td>\n",
        "      <td> 0</td>\n",
        "      <td> 0</td>\n",
        "      <td> 0</td>\n",
        "      <td> 0</td>\n",
        "      <td> 0</td>\n",
        "      <td> 0</td>\n",
        "      <td> 0</td>\n",
        "      <td> 0</td>\n",
        "      <td> 0</td>\n",
        "      <td> 0</td>\n",
        "      <td> 0</td>\n",
        "      <td> 0</td>\n",
        "      <td> 0</td>\n",
        "      <td> 0</td>\n",
        "      <td> 0</td>\n",
        "      <td> 0</td>\n",
        "      <td> 0</td>\n",
        "      <td> 0</td>\n",
        "      <td> 0</td>\n",
        "      <td> 0</td>\n",
        "      <td> 0</td>\n",
        "      <td> 0</td>\n",
        "      <td> 0</td>\n",
        "      <td> 0</td>\n",
        "      <td> 0</td>\n",
        "      <td> 0</td>\n",
        "      <td> 0</td>\n",
        "      <td> 15</td>\n",
        "      <td> 3</td>\n",
        "      <td> 18</td>\n",
        "      <td> 0.016521</td>\n",
        "      <td> 8.5</td>\n",
        "      <td> 8.4</td>\n",
        "      <td> 7.3</td>\n",
        "    </tr>\n",
        "    <tr>\n",
        "      <th>35</th>\n",
        "      <td> 27310150</td>\n",
        "      <td> 29803213</td>\n",
        "      <td> 10000</td>\n",
        "      <td> 10000</td>\n",
        "      <td> 10000</td>\n",
        "      <td> 0</td>\n",
        "      <td> 11.67</td>\n",
        "      <td>  330.57</td>\n",
        "      <td> 4</td>\n",
        "      <td>  8</td>\n",
        "      <td>  2</td>\n",
        "      <td> MORTGAGE</td>\n",
        "      <td>  55000.00</td>\n",
        "      <td> 2</td>\n",
        "      <td>2014-09-01</td>\n",
        "      <td> 1</td>\n",
        "      <td> n</td>\n",
        "      <td> https://www.lendingclub.com/browse/loanDetail....</td>\n",
        "      <td> bmFu</td>\n",
        "      <td> debt_consolidation</td>\n",
        "      <td>      Debt consolidation</td>\n",
        "      <td> 541</td>\n",
        "      <td> WI</td>\n",
        "      <td>  9.43</td>\n",
        "      <td> 0</td>\n",
        "      <td> Oct-2000</td>\n",
        "      <td> 1</td>\n",
        "      <td> -1</td>\n",
        "      <td> -1</td>\n",
        "      <td>  6</td>\n",
        "      <td> 0</td>\n",
        "      <td> 13078</td>\n",
        "      <td> 96.9</td>\n",
        "      <td> 49</td>\n",
        "      <td> 0</td>\n",
        "      <td> 0</td>\n",
        "      <td> 10097.250000</td>\n",
        "      <td> 10097.25</td>\n",
        "      <td> 10000</td>\n",
        "      <td>   97.25</td>\n",
        "      <td> 0</td>\n",
        "      <td> 0</td>\n",
        "      <td> 0</td>\n",
        "      <td>2014-10-01</td>\n",
        "      <td> 10097.25</td>\n",
        "      <td> NaN</td>\n",
        "      <td> Oct-2014</td>\n",
        "      <td> 0</td>\n",
        "      <td> -1</td>\n",
        "      <td> 1</td>\n",
        "      <td> 0</td>\n",
        "      <td> 1</td>\n",
        "      <td> 0</td>\n",
        "      <td> 0</td>\n",
        "      <td> 0</td>\n",
        "      <td> 0</td>\n",
        "      <td> 0</td>\n",
        "      <td> 0</td>\n",
        "      <td> 1</td>\n",
        "      <td> 0</td>\n",
        "      <td> 0</td>\n",
        "      <td> 30</td>\n",
        "      <td> 9</td>\n",
        "      <td> 2014</td>\n",
        "      <td> 10</td>\n",
        "      <td> 2014</td>\n",
        "      <td> 0</td>\n",
        "      <td> 0</td>\n",
        "      <td> 1</td>\n",
        "      <td> 0</td>\n",
        "      <td> 0</td>\n",
        "      <td> 0</td>\n",
        "      <td> 0</td>\n",
        "      <td> 0</td>\n",
        "      <td> 0</td>\n",
        "      <td> 0</td>\n",
        "      <td> 0</td>\n",
        "      <td> 0</td>\n",
        "      <td> 0</td>\n",
        "      <td> 0</td>\n",
        "      <td> 0</td>\n",
        "      <td> 0</td>\n",
        "      <td> 0</td>\n",
        "      <td> 0</td>\n",
        "      <td> 0</td>\n",
        "      <td> 0</td>\n",
        "      <td> 0</td>\n",
        "      <td> 0</td>\n",
        "      <td> 0</td>\n",
        "      <td> 0</td>\n",
        "      <td> 0</td>\n",
        "      <td> 0</td>\n",
        "      <td> 0</td>\n",
        "      <td> 0</td>\n",
        "      <td> 0</td>\n",
        "      <td> 0</td>\n",
        "      <td> 0</td>\n",
        "      <td> 0</td>\n",
        "      <td> 0</td>\n",
        "      <td> 0</td>\n",
        "      <td> 0</td>\n",
        "      <td> 0</td>\n",
        "      <td> 0</td>\n",
        "      <td> 0</td>\n",
        "      <td> 0</td>\n",
        "      <td> 0</td>\n",
        "      <td> 0</td>\n",
        "      <td> 0</td>\n",
        "      <td> 0</td>\n",
        "      <td> 0</td>\n",
        "      <td> 0</td>\n",
        "      <td> 0</td>\n",
        "      <td> 0</td>\n",
        "      <td> 0</td>\n",
        "      <td> 0</td>\n",
        "      <td> 0</td>\n",
        "      <td> 0</td>\n",
        "      <td> 0</td>\n",
        "      <td> 0</td>\n",
        "      <td> 0</td>\n",
        "      <td> 0</td>\n",
        "      <td> 0</td>\n",
        "      <td> 1</td>\n",
        "      <td> 0</td>\n",
        "      <td> 0</td>\n",
        "      <td> 15</td>\n",
        "      <td> 3</td>\n",
        "      <td> 18</td>\n",
        "      <td> 0.072124</td>\n",
        "      <td> 6.0</td>\n",
        "      <td> 6.7</td>\n",
        "      <td> 6.0</td>\n",
        "    </tr>\n",
        "    <tr>\n",
        "      <th>36</th>\n",
        "      <td> 27390168</td>\n",
        "      <td> 29883235</td>\n",
        "      <td> 35000</td>\n",
        "      <td> 35000</td>\n",
        "      <td> 35000</td>\n",
        "      <td> 1</td>\n",
        "      <td> 25.80</td>\n",
        "      <td> 1043.78</td>\n",
        "      <td> 1</td>\n",
        "      <td> 23</td>\n",
        "      <td> 11</td>\n",
        "      <td> MORTGAGE</td>\n",
        "      <td> 105000.00</td>\n",
        "      <td> 2</td>\n",
        "      <td>2014-09-01</td>\n",
        "      <td> 1</td>\n",
        "      <td> n</td>\n",
        "      <td> https://www.lendingclub.com/browse/loanDetail....</td>\n",
        "      <td> bmFu</td>\n",
        "      <td> debt_consolidation</td>\n",
        "      <td>      Debt consolidation</td>\n",
        "      <td> 450</td>\n",
        "      <td> OH</td>\n",
        "      <td> 21.46</td>\n",
        "      <td> 0</td>\n",
        "      <td> Oct-2003</td>\n",
        "      <td> 2</td>\n",
        "      <td> -1</td>\n",
        "      <td> -1</td>\n",
        "      <td> 15</td>\n",
        "      <td> 0</td>\n",
        "      <td> 34032</td>\n",
        "      <td> 71.6</td>\n",
        "      <td> 42</td>\n",
        "      <td> 0</td>\n",
        "      <td> 0</td>\n",
        "      <td> 35752.500000</td>\n",
        "      <td> 35752.50</td>\n",
        "      <td> 35000</td>\n",
        "      <td>  752.50</td>\n",
        "      <td> 0</td>\n",
        "      <td> 0</td>\n",
        "      <td> 0</td>\n",
        "      <td>2014-10-01</td>\n",
        "      <td> 35752.50</td>\n",
        "      <td> NaN</td>\n",
        "      <td> Nov-2014</td>\n",
        "      <td> 0</td>\n",
        "      <td> -1</td>\n",
        "      <td> 1</td>\n",
        "      <td> 0</td>\n",
        "      <td> 0</td>\n",
        "      <td> 0</td>\n",
        "      <td> 0</td>\n",
        "      <td> 0</td>\n",
        "      <td> 0</td>\n",
        "      <td> 1</td>\n",
        "      <td> 0</td>\n",
        "      <td> 1</td>\n",
        "      <td> 0</td>\n",
        "      <td> 0</td>\n",
        "      <td> 30</td>\n",
        "      <td> 9</td>\n",
        "      <td> 2014</td>\n",
        "      <td> 10</td>\n",
        "      <td> 2014</td>\n",
        "      <td> 0</td>\n",
        "      <td> 0</td>\n",
        "      <td> 1</td>\n",
        "      <td> 0</td>\n",
        "      <td> 0</td>\n",
        "      <td> 0</td>\n",
        "      <td> 0</td>\n",
        "      <td> 0</td>\n",
        "      <td> 0</td>\n",
        "      <td> 0</td>\n",
        "      <td> 0</td>\n",
        "      <td> 0</td>\n",
        "      <td> 0</td>\n",
        "      <td> 0</td>\n",
        "      <td> 0</td>\n",
        "      <td> 0</td>\n",
        "      <td> 0</td>\n",
        "      <td> 0</td>\n",
        "      <td> 0</td>\n",
        "      <td> 0</td>\n",
        "      <td> 0</td>\n",
        "      <td> 0</td>\n",
        "      <td> 0</td>\n",
        "      <td> 0</td>\n",
        "      <td> 0</td>\n",
        "      <td> 0</td>\n",
        "      <td> 0</td>\n",
        "      <td> 0</td>\n",
        "      <td> 0</td>\n",
        "      <td> 0</td>\n",
        "      <td> 0</td>\n",
        "      <td> 0</td>\n",
        "      <td> 0</td>\n",
        "      <td> 0</td>\n",
        "      <td> 0</td>\n",
        "      <td> 0</td>\n",
        "      <td> 0</td>\n",
        "      <td> 0</td>\n",
        "      <td> 0</td>\n",
        "      <td> 0</td>\n",
        "      <td> 0</td>\n",
        "      <td> 0</td>\n",
        "      <td> 0</td>\n",
        "      <td> 1</td>\n",
        "      <td> 0</td>\n",
        "      <td> 0</td>\n",
        "      <td> 0</td>\n",
        "      <td> 0</td>\n",
        "      <td> 0</td>\n",
        "      <td> 0</td>\n",
        "      <td> 0</td>\n",
        "      <td> 0</td>\n",
        "      <td> 0</td>\n",
        "      <td> 0</td>\n",
        "      <td> 0</td>\n",
        "      <td> 0</td>\n",
        "      <td> 0</td>\n",
        "      <td> 0</td>\n",
        "      <td> 0</td>\n",
        "      <td> 12</td>\n",
        "      <td> 3</td>\n",
        "      <td> 18</td>\n",
        "      <td> 0.119289</td>\n",
        "      <td> 7.1</td>\n",
        "      <td> 6.2</td>\n",
        "      <td> 5.9</td>\n",
        "    </tr>\n",
        "    <tr>\n",
        "      <th>37</th>\n",
        "      <td> 27190347</td>\n",
        "      <td> 29693395</td>\n",
        "      <td> 15000</td>\n",
        "      <td> 15000</td>\n",
        "      <td> 15000</td>\n",
        "      <td> 0</td>\n",
        "      <td> 13.98</td>\n",
        "      <td>  512.52</td>\n",
        "      <td> 3</td>\n",
        "      <td> 10</td>\n",
        "      <td>  2</td>\n",
        "      <td>     RENT</td>\n",
        "      <td>  90000.00</td>\n",
        "      <td> 0</td>\n",
        "      <td>2014-09-01</td>\n",
        "      <td> 1</td>\n",
        "      <td> n</td>\n",
        "      <td> https://www.lendingclub.com/browse/loanDetail....</td>\n",
        "      <td> bmFu</td>\n",
        "      <td>              house</td>\n",
        "      <td>             Home buying</td>\n",
        "      <td> 070</td>\n",
        "      <td> NJ</td>\n",
        "      <td> 13.41</td>\n",
        "      <td> 0</td>\n",
        "      <td> Jan-1999</td>\n",
        "      <td> 0</td>\n",
        "      <td> 70</td>\n",
        "      <td> -1</td>\n",
        "      <td>  8</td>\n",
        "      <td> 0</td>\n",
        "      <td>  8307</td>\n",
        "      <td> 46.4</td>\n",
        "      <td> 23</td>\n",
        "      <td> 0</td>\n",
        "      <td> 0</td>\n",
        "      <td> 15174.750000</td>\n",
        "      <td> 15174.75</td>\n",
        "      <td> 15000</td>\n",
        "      <td>  174.75</td>\n",
        "      <td> 0</td>\n",
        "      <td> 0</td>\n",
        "      <td> 0</td>\n",
        "      <td>2014-10-01</td>\n",
        "      <td> 15174.75</td>\n",
        "      <td> NaN</td>\n",
        "      <td> Nov-2014</td>\n",
        "      <td> 0</td>\n",
        "      <td> -1</td>\n",
        "      <td> 1</td>\n",
        "      <td> 0</td>\n",
        "      <td> 0</td>\n",
        "      <td> 1</td>\n",
        "      <td> 0</td>\n",
        "      <td> 0</td>\n",
        "      <td> 0</td>\n",
        "      <td> 0</td>\n",
        "      <td> 0</td>\n",
        "      <td> 0</td>\n",
        "      <td> 0</td>\n",
        "      <td> 1</td>\n",
        "      <td> 30</td>\n",
        "      <td> 9</td>\n",
        "      <td> 2014</td>\n",
        "      <td> 10</td>\n",
        "      <td> 2014</td>\n",
        "      <td> 0</td>\n",
        "      <td> 0</td>\n",
        "      <td> 0</td>\n",
        "      <td> 0</td>\n",
        "      <td> 1</td>\n",
        "      <td> 0</td>\n",
        "      <td> 0</td>\n",
        "      <td> 0</td>\n",
        "      <td> 0</td>\n",
        "      <td> 0</td>\n",
        "      <td> 0</td>\n",
        "      <td> 0</td>\n",
        "      <td> 0</td>\n",
        "      <td> 0</td>\n",
        "      <td> 0</td>\n",
        "      <td> 0</td>\n",
        "      <td> 0</td>\n",
        "      <td> 0</td>\n",
        "      <td> 0</td>\n",
        "      <td> 0</td>\n",
        "      <td> 0</td>\n",
        "      <td> 0</td>\n",
        "      <td> 0</td>\n",
        "      <td> 0</td>\n",
        "      <td> 0</td>\n",
        "      <td> 0</td>\n",
        "      <td> 0</td>\n",
        "      <td> 0</td>\n",
        "      <td> 0</td>\n",
        "      <td> 0</td>\n",
        "      <td> 0</td>\n",
        "      <td> 0</td>\n",
        "      <td> 0</td>\n",
        "      <td> 0</td>\n",
        "      <td> 0</td>\n",
        "      <td> 0</td>\n",
        "      <td> 0</td>\n",
        "      <td> 0</td>\n",
        "      <td> 0</td>\n",
        "      <td> 1</td>\n",
        "      <td> 0</td>\n",
        "      <td> 0</td>\n",
        "      <td> 0</td>\n",
        "      <td> 0</td>\n",
        "      <td> 0</td>\n",
        "      <td> 0</td>\n",
        "      <td> 0</td>\n",
        "      <td> 0</td>\n",
        "      <td> 0</td>\n",
        "      <td> 0</td>\n",
        "      <td> 0</td>\n",
        "      <td> 0</td>\n",
        "      <td> 0</td>\n",
        "      <td> 0</td>\n",
        "      <td> 0</td>\n",
        "      <td> 0</td>\n",
        "      <td> 0</td>\n",
        "      <td> 0</td>\n",
        "      <td> 0</td>\n",
        "      <td> 16</td>\n",
        "      <td> 3</td>\n",
        "      <td> 11</td>\n",
        "      <td> 0.068336</td>\n",
        "      <td> 7.7</td>\n",
        "      <td> 7.6</td>\n",
        "      <td> 6.4</td>\n",
        "    </tr>\n",
        "    <tr>\n",
        "      <th>38</th>\n",
        "      <td> 27070190</td>\n",
        "      <td> 29573232</td>\n",
        "      <td> 18000</td>\n",
        "      <td> 18000</td>\n",
        "      <td> 18000</td>\n",
        "      <td> 1</td>\n",
        "      <td> 14.99</td>\n",
        "      <td>  428.13</td>\n",
        "      <td> 5</td>\n",
        "      <td> 10</td>\n",
        "      <td>  2</td>\n",
        "      <td>     RENT</td>\n",
        "      <td>  45000.00</td>\n",
        "      <td> 1</td>\n",
        "      <td>2014-09-01</td>\n",
        "      <td> 1</td>\n",
        "      <td> n</td>\n",
        "      <td> https://www.lendingclub.com/browse/loanDetail....</td>\n",
        "      <td> bmFu</td>\n",
        "      <td> debt_consolidation</td>\n",
        "      <td>      Debt consolidation</td>\n",
        "      <td> 881</td>\n",
        "      <td> NM</td>\n",
        "      <td> 21.25</td>\n",
        "      <td> 0</td>\n",
        "      <td> Sep-2002</td>\n",
        "      <td> 0</td>\n",
        "      <td> -1</td>\n",
        "      <td> -1</td>\n",
        "      <td>  7</td>\n",
        "      <td> 0</td>\n",
        "      <td> 15329</td>\n",
        "      <td> 52.0</td>\n",
        "      <td>  9</td>\n",
        "      <td> 0</td>\n",
        "      <td> 0</td>\n",
        "      <td> 18224.850000</td>\n",
        "      <td> 18224.85</td>\n",
        "      <td> 18000</td>\n",
        "      <td>  224.85</td>\n",
        "      <td> 0</td>\n",
        "      <td> 0</td>\n",
        "      <td> 0</td>\n",
        "      <td>2014-10-01</td>\n",
        "      <td> 18224.85</td>\n",
        "      <td> NaN</td>\n",
        "      <td> Oct-2014</td>\n",
        "      <td> 0</td>\n",
        "      <td> -1</td>\n",
        "      <td> 1</td>\n",
        "      <td> 0</td>\n",
        "      <td> 0</td>\n",
        "      <td> 1</td>\n",
        "      <td> 0</td>\n",
        "      <td> 0</td>\n",
        "      <td> 0</td>\n",
        "      <td> 0</td>\n",
        "      <td> 0</td>\n",
        "      <td> 0</td>\n",
        "      <td> 0</td>\n",
        "      <td> 1</td>\n",
        "      <td> 30</td>\n",
        "      <td> 9</td>\n",
        "      <td> 2014</td>\n",
        "      <td> 10</td>\n",
        "      <td> 2014</td>\n",
        "      <td> 0</td>\n",
        "      <td> 0</td>\n",
        "      <td> 1</td>\n",
        "      <td> 0</td>\n",
        "      <td> 0</td>\n",
        "      <td> 0</td>\n",
        "      <td> 0</td>\n",
        "      <td> 0</td>\n",
        "      <td> 0</td>\n",
        "      <td> 0</td>\n",
        "      <td> 0</td>\n",
        "      <td> 0</td>\n",
        "      <td> 0</td>\n",
        "      <td> 0</td>\n",
        "      <td> 0</td>\n",
        "      <td> 0</td>\n",
        "      <td> 0</td>\n",
        "      <td> 0</td>\n",
        "      <td> 0</td>\n",
        "      <td> 0</td>\n",
        "      <td> 0</td>\n",
        "      <td> 0</td>\n",
        "      <td> 0</td>\n",
        "      <td> 0</td>\n",
        "      <td> 0</td>\n",
        "      <td> 0</td>\n",
        "      <td> 0</td>\n",
        "      <td> 0</td>\n",
        "      <td> 0</td>\n",
        "      <td> 0</td>\n",
        "      <td> 0</td>\n",
        "      <td> 0</td>\n",
        "      <td> 0</td>\n",
        "      <td> 0</td>\n",
        "      <td> 0</td>\n",
        "      <td> 0</td>\n",
        "      <td> 0</td>\n",
        "      <td> 0</td>\n",
        "      <td> 0</td>\n",
        "      <td> 0</td>\n",
        "      <td> 1</td>\n",
        "      <td> 0</td>\n",
        "      <td> 0</td>\n",
        "      <td> 0</td>\n",
        "      <td> 0</td>\n",
        "      <td> 0</td>\n",
        "      <td> 0</td>\n",
        "      <td> 0</td>\n",
        "      <td> 0</td>\n",
        "      <td> 0</td>\n",
        "      <td> 0</td>\n",
        "      <td> 0</td>\n",
        "      <td> 0</td>\n",
        "      <td> 0</td>\n",
        "      <td> 0</td>\n",
        "      <td> 0</td>\n",
        "      <td> 0</td>\n",
        "      <td> 0</td>\n",
        "      <td> 0</td>\n",
        "      <td> 13</td>\n",
        "      <td> 3</td>\n",
        "      <td> 18</td>\n",
        "      <td> 0.114168</td>\n",
        "      <td> 6.6</td>\n",
        "      <td> 7.3</td>\n",
        "      <td> 7.3</td>\n",
        "    </tr>\n",
        "    <tr>\n",
        "      <th>39</th>\n",
        "      <td> 27200259</td>\n",
        "      <td> 29543312</td>\n",
        "      <td> 20000</td>\n",
        "      <td> 20000</td>\n",
        "      <td> 20000</td>\n",
        "      <td> 0</td>\n",
        "      <td> 12.99</td>\n",
        "      <td>  673.79</td>\n",
        "      <td> 1</td>\n",
        "      <td> 15</td>\n",
        "      <td>  2</td>\n",
        "      <td>     RENT</td>\n",
        "      <td> 105000.00</td>\n",
        "      <td> 1</td>\n",
        "      <td>2014-09-01</td>\n",
        "      <td> 1</td>\n",
        "      <td> n</td>\n",
        "      <td> https://www.lendingclub.com/browse/loanDetail....</td>\n",
        "      <td> bmFu</td>\n",
        "      <td> debt_consolidation</td>\n",
        "      <td>      Debt consolidation</td>\n",
        "      <td> 117</td>\n",
        "      <td> NY</td>\n",
        "      <td> 20.87</td>\n",
        "      <td> 2</td>\n",
        "      <td> Nov-1990</td>\n",
        "      <td> 0</td>\n",
        "      <td> 16</td>\n",
        "      <td> -1</td>\n",
        "      <td> 14</td>\n",
        "      <td> 0</td>\n",
        "      <td> 44319</td>\n",
        "      <td> 83.6</td>\n",
        "      <td> 42</td>\n",
        "      <td> 0</td>\n",
        "      <td> 0</td>\n",
        "      <td> 20230.610000</td>\n",
        "      <td> 20230.61</td>\n",
        "      <td> 20000</td>\n",
        "      <td>  230.61</td>\n",
        "      <td> 0</td>\n",
        "      <td> 0</td>\n",
        "      <td> 0</td>\n",
        "      <td>2014-10-01</td>\n",
        "      <td> 20230.61</td>\n",
        "      <td> NaN</td>\n",
        "      <td> Oct-2014</td>\n",
        "      <td> 0</td>\n",
        "      <td> -1</td>\n",
        "      <td> 1</td>\n",
        "      <td> 0</td>\n",
        "      <td> 0</td>\n",
        "      <td> 1</td>\n",
        "      <td> 0</td>\n",
        "      <td> 0</td>\n",
        "      <td> 0</td>\n",
        "      <td> 0</td>\n",
        "      <td> 0</td>\n",
        "      <td> 0</td>\n",
        "      <td> 0</td>\n",
        "      <td> 1</td>\n",
        "      <td> 30</td>\n",
        "      <td> 9</td>\n",
        "      <td> 2014</td>\n",
        "      <td> 10</td>\n",
        "      <td> 2014</td>\n",
        "      <td> 0</td>\n",
        "      <td> 0</td>\n",
        "      <td> 1</td>\n",
        "      <td> 0</td>\n",
        "      <td> 0</td>\n",
        "      <td> 0</td>\n",
        "      <td> 0</td>\n",
        "      <td> 0</td>\n",
        "      <td> 0</td>\n",
        "      <td> 0</td>\n",
        "      <td> 0</td>\n",
        "      <td> 0</td>\n",
        "      <td> 0</td>\n",
        "      <td> 0</td>\n",
        "      <td> 0</td>\n",
        "      <td> 0</td>\n",
        "      <td> 0</td>\n",
        "      <td> 0</td>\n",
        "      <td> 0</td>\n",
        "      <td> 0</td>\n",
        "      <td> 0</td>\n",
        "      <td> 0</td>\n",
        "      <td> 0</td>\n",
        "      <td> 0</td>\n",
        "      <td> 0</td>\n",
        "      <td> 0</td>\n",
        "      <td> 0</td>\n",
        "      <td> 0</td>\n",
        "      <td> 0</td>\n",
        "      <td> 0</td>\n",
        "      <td> 0</td>\n",
        "      <td> 0</td>\n",
        "      <td> 0</td>\n",
        "      <td> 0</td>\n",
        "      <td> 0</td>\n",
        "      <td> 0</td>\n",
        "      <td> 0</td>\n",
        "      <td> 0</td>\n",
        "      <td> 0</td>\n",
        "      <td> 0</td>\n",
        "      <td> 0</td>\n",
        "      <td> 0</td>\n",
        "      <td> 1</td>\n",
        "      <td> 0</td>\n",
        "      <td> 0</td>\n",
        "      <td> 0</td>\n",
        "      <td> 0</td>\n",
        "      <td> 0</td>\n",
        "      <td> 0</td>\n",
        "      <td> 0</td>\n",
        "      <td> 0</td>\n",
        "      <td> 0</td>\n",
        "      <td> 0</td>\n",
        "      <td> 0</td>\n",
        "      <td> 0</td>\n",
        "      <td> 0</td>\n",
        "      <td> 0</td>\n",
        "      <td> 0</td>\n",
        "      <td> 0</td>\n",
        "      <td> 25</td>\n",
        "      <td> 3</td>\n",
        "      <td> 18</td>\n",
        "      <td> 0.077005</td>\n",
        "      <td> 7.4</td>\n",
        "      <td> 7.2</td>\n",
        "      <td> 6.5</td>\n",
        "    </tr>\n",
        "    <tr>\n",
        "      <th>40</th>\n",
        "      <td> 27010197</td>\n",
        "      <td> 29503238</td>\n",
        "      <td>  1200</td>\n",
        "      <td>  1200</td>\n",
        "      <td>  1200</td>\n",
        "      <td> 0</td>\n",
        "      <td> 12.99</td>\n",
        "      <td>   40.43</td>\n",
        "      <td> 1</td>\n",
        "      <td>  8</td>\n",
        "      <td>  4</td>\n",
        "      <td> MORTGAGE</td>\n",
        "      <td>  39000.00</td>\n",
        "      <td> 1</td>\n",
        "      <td>2014-09-01</td>\n",
        "      <td> 1</td>\n",
        "      <td> n</td>\n",
        "      <td> https://www.lendingclub.com/browse/loanDetail....</td>\n",
        "      <td> bmFu</td>\n",
        "      <td>     small_business</td>\n",
        "      <td>                Business</td>\n",
        "      <td> 891</td>\n",
        "      <td> NV</td>\n",
        "      <td> 21.45</td>\n",
        "      <td> 0</td>\n",
        "      <td> Sep-2001</td>\n",
        "      <td> 1</td>\n",
        "      <td> -1</td>\n",
        "      <td> -1</td>\n",
        "      <td> 14</td>\n",
        "      <td> 0</td>\n",
        "      <td> 20315</td>\n",
        "      <td> 42.6</td>\n",
        "      <td> 35</td>\n",
        "      <td> 0</td>\n",
        "      <td> 0</td>\n",
        "      <td>  1212.990000</td>\n",
        "      <td>  1212.99</td>\n",
        "      <td>  1200</td>\n",
        "      <td>   12.99</td>\n",
        "      <td> 0</td>\n",
        "      <td> 0</td>\n",
        "      <td> 0</td>\n",
        "      <td>2014-10-01</td>\n",
        "      <td>  1212.99</td>\n",
        "      <td> NaN</td>\n",
        "      <td> Oct-2014</td>\n",
        "      <td> 0</td>\n",
        "      <td> -1</td>\n",
        "      <td> 1</td>\n",
        "      <td> 0</td>\n",
        "      <td> 0</td>\n",
        "      <td> 1</td>\n",
        "      <td> 0</td>\n",
        "      <td> 0</td>\n",
        "      <td> 0</td>\n",
        "      <td> 0</td>\n",
        "      <td> 0</td>\n",
        "      <td> 1</td>\n",
        "      <td> 0</td>\n",
        "      <td> 0</td>\n",
        "      <td> 30</td>\n",
        "      <td> 9</td>\n",
        "      <td> 2014</td>\n",
        "      <td> 10</td>\n",
        "      <td> 2014</td>\n",
        "      <td> 0</td>\n",
        "      <td> 0</td>\n",
        "      <td> 0</td>\n",
        "      <td> 0</td>\n",
        "      <td> 0</td>\n",
        "      <td> 0</td>\n",
        "      <td> 0</td>\n",
        "      <td> 0</td>\n",
        "      <td> 0</td>\n",
        "      <td> 0</td>\n",
        "      <td> 1</td>\n",
        "      <td> 0</td>\n",
        "      <td> 0</td>\n",
        "      <td> 0</td>\n",
        "      <td> 0</td>\n",
        "      <td> 0</td>\n",
        "      <td> 0</td>\n",
        "      <td> 0</td>\n",
        "      <td> 0</td>\n",
        "      <td> 0</td>\n",
        "      <td> 0</td>\n",
        "      <td> 0</td>\n",
        "      <td> 0</td>\n",
        "      <td> 0</td>\n",
        "      <td> 0</td>\n",
        "      <td> 0</td>\n",
        "      <td> 0</td>\n",
        "      <td> 0</td>\n",
        "      <td> 0</td>\n",
        "      <td> 0</td>\n",
        "      <td> 0</td>\n",
        "      <td> 0</td>\n",
        "      <td> 0</td>\n",
        "      <td> 0</td>\n",
        "      <td> 0</td>\n",
        "      <td> 0</td>\n",
        "      <td> 0</td>\n",
        "      <td> 0</td>\n",
        "      <td> 0</td>\n",
        "      <td> 0</td>\n",
        "      <td> 0</td>\n",
        "      <td> 1</td>\n",
        "      <td> 0</td>\n",
        "      <td> 0</td>\n",
        "      <td> 0</td>\n",
        "      <td> 0</td>\n",
        "      <td> 0</td>\n",
        "      <td> 0</td>\n",
        "      <td> 0</td>\n",
        "      <td> 0</td>\n",
        "      <td> 0</td>\n",
        "      <td> 0</td>\n",
        "      <td> 0</td>\n",
        "      <td> 0</td>\n",
        "      <td> 0</td>\n",
        "      <td> 0</td>\n",
        "      <td> 0</td>\n",
        "      <td> 0</td>\n",
        "      <td> 0</td>\n",
        "      <td> 14</td>\n",
        "      <td> 3</td>\n",
        "      <td>  8</td>\n",
        "      <td> 0.012440</td>\n",
        "      <td> 9.5</td>\n",
        "      <td> 8.7</td>\n",
        "      <td> 7.8</td>\n",
        "    </tr>\n",
        "    <tr>\n",
        "      <th>41</th>\n",
        "      <td> 27130148</td>\n",
        "      <td> 29633189</td>\n",
        "      <td> 35000</td>\n",
        "      <td> 35000</td>\n",
        "      <td> 35000</td>\n",
        "      <td> 1</td>\n",
        "      <td> 14.99</td>\n",
        "      <td>  832.47</td>\n",
        "      <td> 5</td>\n",
        "      <td> 25</td>\n",
        "      <td>  0</td>\n",
        "      <td> MORTGAGE</td>\n",
        "      <td> 110000.00</td>\n",
        "      <td> 2</td>\n",
        "      <td>2014-09-01</td>\n",
        "      <td> 1</td>\n",
        "      <td> n</td>\n",
        "      <td> https://www.lendingclub.com/browse/loanDetail....</td>\n",
        "      <td> bmFu</td>\n",
        "      <td>   home_improvement</td>\n",
        "      <td>        Home improvement</td>\n",
        "      <td> 207</td>\n",
        "      <td> MD</td>\n",
        "      <td>  9.34</td>\n",
        "      <td> 0</td>\n",
        "      <td> Feb-1996</td>\n",
        "      <td> 0</td>\n",
        "      <td> 81</td>\n",
        "      <td> -1</td>\n",
        "      <td> 13</td>\n",
        "      <td> 0</td>\n",
        "      <td> 10087</td>\n",
        "      <td> 29.7</td>\n",
        "      <td> 34</td>\n",
        "      <td> 0</td>\n",
        "      <td> 0</td>\n",
        "      <td> 35437.210000</td>\n",
        "      <td> 35437.21</td>\n",
        "      <td> 35000</td>\n",
        "      <td>  437.21</td>\n",
        "      <td> 0</td>\n",
        "      <td> 0</td>\n",
        "      <td> 0</td>\n",
        "      <td>2014-10-01</td>\n",
        "      <td> 35437.21</td>\n",
        "      <td> NaN</td>\n",
        "      <td> Oct-2014</td>\n",
        "      <td> 0</td>\n",
        "      <td> -1</td>\n",
        "      <td> 1</td>\n",
        "      <td> 0</td>\n",
        "      <td> 0</td>\n",
        "      <td> 1</td>\n",
        "      <td> 0</td>\n",
        "      <td> 0</td>\n",
        "      <td> 0</td>\n",
        "      <td> 0</td>\n",
        "      <td> 0</td>\n",
        "      <td> 1</td>\n",
        "      <td> 0</td>\n",
        "      <td> 0</td>\n",
        "      <td> 30</td>\n",
        "      <td> 9</td>\n",
        "      <td> 2014</td>\n",
        "      <td> 10</td>\n",
        "      <td> 2014</td>\n",
        "      <td> 0</td>\n",
        "      <td> 0</td>\n",
        "      <td> 0</td>\n",
        "      <td> 1</td>\n",
        "      <td> 0</td>\n",
        "      <td> 0</td>\n",
        "      <td> 0</td>\n",
        "      <td> 0</td>\n",
        "      <td> 0</td>\n",
        "      <td> 0</td>\n",
        "      <td> 0</td>\n",
        "      <td> 0</td>\n",
        "      <td> 0</td>\n",
        "      <td> 0</td>\n",
        "      <td> 0</td>\n",
        "      <td> 0</td>\n",
        "      <td> 0</td>\n",
        "      <td> 0</td>\n",
        "      <td> 0</td>\n",
        "      <td> 0</td>\n",
        "      <td> 0</td>\n",
        "      <td> 0</td>\n",
        "      <td> 0</td>\n",
        "      <td> 0</td>\n",
        "      <td> 0</td>\n",
        "      <td> 0</td>\n",
        "      <td> 0</td>\n",
        "      <td> 0</td>\n",
        "      <td> 0</td>\n",
        "      <td> 0</td>\n",
        "      <td> 0</td>\n",
        "      <td> 1</td>\n",
        "      <td> 0</td>\n",
        "      <td> 0</td>\n",
        "      <td> 0</td>\n",
        "      <td> 0</td>\n",
        "      <td> 0</td>\n",
        "      <td> 0</td>\n",
        "      <td> 0</td>\n",
        "      <td> 0</td>\n",
        "      <td> 0</td>\n",
        "      <td> 0</td>\n",
        "      <td> 0</td>\n",
        "      <td> 0</td>\n",
        "      <td> 0</td>\n",
        "      <td> 0</td>\n",
        "      <td> 0</td>\n",
        "      <td> 0</td>\n",
        "      <td> 0</td>\n",
        "      <td> 0</td>\n",
        "      <td> 0</td>\n",
        "      <td> 0</td>\n",
        "      <td> 0</td>\n",
        "      <td> 0</td>\n",
        "      <td> 0</td>\n",
        "      <td> 0</td>\n",
        "      <td> 0</td>\n",
        "      <td> 0</td>\n",
        "      <td> 0</td>\n",
        "      <td> 19</td>\n",
        "      <td> 3</td>\n",
        "      <td> 16</td>\n",
        "      <td> 0.090815</td>\n",
        "      <td> 6.2</td>\n",
        "      <td> 5.8</td>\n",
        "      <td> 6.2</td>\n",
        "    </tr>\n",
        "    <tr>\n",
        "      <th>42</th>\n",
        "      <td> 26800143</td>\n",
        "      <td> 29283093</td>\n",
        "      <td> 25000</td>\n",
        "      <td> 25000</td>\n",
        "      <td> 25000</td>\n",
        "      <td> 0</td>\n",
        "      <td>  6.49</td>\n",
        "      <td>  766.12</td>\n",
        "      <td> 2</td>\n",
        "      <td> 18</td>\n",
        "      <td>  2</td>\n",
        "      <td> MORTGAGE</td>\n",
        "      <td>  95000.00</td>\n",
        "      <td> 1</td>\n",
        "      <td>2014-09-01</td>\n",
        "      <td> 1</td>\n",
        "      <td> n</td>\n",
        "      <td> https://www.lendingclub.com/browse/loanDetail....</td>\n",
        "      <td> bmFu</td>\n",
        "      <td> debt_consolidation</td>\n",
        "      <td>      Debt consolidation</td>\n",
        "      <td> 328</td>\n",
        "      <td> FL</td>\n",
        "      <td>  8.62</td>\n",
        "      <td> 0</td>\n",
        "      <td> Aug-1995</td>\n",
        "      <td> 0</td>\n",
        "      <td> -1</td>\n",
        "      <td> -1</td>\n",
        "      <td>  9</td>\n",
        "      <td> 0</td>\n",
        "      <td> 11553</td>\n",
        "      <td> 17.7</td>\n",
        "      <td> 46</td>\n",
        "      <td> 0</td>\n",
        "      <td> 0</td>\n",
        "      <td> 25135.208333</td>\n",
        "      <td> 25135.21</td>\n",
        "      <td> 25000</td>\n",
        "      <td>  135.21</td>\n",
        "      <td> 0</td>\n",
        "      <td> 0</td>\n",
        "      <td> 0</td>\n",
        "      <td>2014-10-01</td>\n",
        "      <td> 25135.21</td>\n",
        "      <td> NaN</td>\n",
        "      <td> Oct-2014</td>\n",
        "      <td> 0</td>\n",
        "      <td> -1</td>\n",
        "      <td> 1</td>\n",
        "      <td> 1</td>\n",
        "      <td> 0</td>\n",
        "      <td> 0</td>\n",
        "      <td> 0</td>\n",
        "      <td> 0</td>\n",
        "      <td> 0</td>\n",
        "      <td> 0</td>\n",
        "      <td> 0</td>\n",
        "      <td> 1</td>\n",
        "      <td> 0</td>\n",
        "      <td> 0</td>\n",
        "      <td> 30</td>\n",
        "      <td> 9</td>\n",
        "      <td> 2014</td>\n",
        "      <td> 10</td>\n",
        "      <td> 2014</td>\n",
        "      <td> 0</td>\n",
        "      <td> 0</td>\n",
        "      <td> 1</td>\n",
        "      <td> 0</td>\n",
        "      <td> 0</td>\n",
        "      <td> 0</td>\n",
        "      <td> 0</td>\n",
        "      <td> 0</td>\n",
        "      <td> 0</td>\n",
        "      <td> 0</td>\n",
        "      <td> 0</td>\n",
        "      <td> 0</td>\n",
        "      <td> 0</td>\n",
        "      <td> 0</td>\n",
        "      <td> 0</td>\n",
        "      <td> 0</td>\n",
        "      <td> 0</td>\n",
        "      <td> 0</td>\n",
        "      <td> 0</td>\n",
        "      <td> 0</td>\n",
        "      <td> 0</td>\n",
        "      <td> 0</td>\n",
        "      <td> 1</td>\n",
        "      <td> 0</td>\n",
        "      <td> 0</td>\n",
        "      <td> 0</td>\n",
        "      <td> 0</td>\n",
        "      <td> 0</td>\n",
        "      <td> 0</td>\n",
        "      <td> 0</td>\n",
        "      <td> 0</td>\n",
        "      <td> 0</td>\n",
        "      <td> 0</td>\n",
        "      <td> 0</td>\n",
        "      <td> 0</td>\n",
        "      <td> 0</td>\n",
        "      <td> 0</td>\n",
        "      <td> 0</td>\n",
        "      <td> 0</td>\n",
        "      <td> 0</td>\n",
        "      <td> 0</td>\n",
        "      <td> 0</td>\n",
        "      <td> 0</td>\n",
        "      <td> 0</td>\n",
        "      <td> 0</td>\n",
        "      <td> 0</td>\n",
        "      <td> 0</td>\n",
        "      <td> 0</td>\n",
        "      <td> 0</td>\n",
        "      <td> 0</td>\n",
        "      <td> 0</td>\n",
        "      <td> 0</td>\n",
        "      <td> 0</td>\n",
        "      <td> 0</td>\n",
        "      <td> 0</td>\n",
        "      <td> 0</td>\n",
        "      <td> 0</td>\n",
        "      <td> 0</td>\n",
        "      <td> 0</td>\n",
        "      <td> 20</td>\n",
        "      <td> 3</td>\n",
        "      <td> 18</td>\n",
        "      <td> 0.096773</td>\n",
        "      <td> 7.1</td>\n",
        "      <td> 6.4</td>\n",
        "      <td> 6.3</td>\n",
        "    </tr>\n",
        "    <tr>\n",
        "      <th>43</th>\n",
        "      <td> 26990122</td>\n",
        "      <td> 29483165</td>\n",
        "      <td>  7200</td>\n",
        "      <td>  7200</td>\n",
        "      <td>  7200</td>\n",
        "      <td> 0</td>\n",
        "      <td> 10.15</td>\n",
        "      <td>  232.84</td>\n",
        "      <td> 2</td>\n",
        "      <td> 24</td>\n",
        "      <td>  2</td>\n",
        "      <td>     RENT</td>\n",
        "      <td> 117631.02</td>\n",
        "      <td> 1</td>\n",
        "      <td>2014-09-01</td>\n",
        "      <td> 1</td>\n",
        "      <td> n</td>\n",
        "      <td> https://www.lendingclub.com/browse/loanDetail....</td>\n",
        "      <td> bmFu</td>\n",
        "      <td>              other</td>\n",
        "      <td>                   Other</td>\n",
        "      <td> 331</td>\n",
        "      <td> FL</td>\n",
        "      <td>  2.94</td>\n",
        "      <td> 0</td>\n",
        "      <td> Sep-1998</td>\n",
        "      <td> 0</td>\n",
        "      <td> 70</td>\n",
        "      <td> 69</td>\n",
        "      <td>  6</td>\n",
        "      <td> 1</td>\n",
        "      <td>  7920</td>\n",
        "      <td> 61.4</td>\n",
        "      <td> 27</td>\n",
        "      <td> 0</td>\n",
        "      <td> 0</td>\n",
        "      <td>  7320.350000</td>\n",
        "      <td>  7320.35</td>\n",
        "      <td>  7200</td>\n",
        "      <td>  120.35</td>\n",
        "      <td> 0</td>\n",
        "      <td> 0</td>\n",
        "      <td> 0</td>\n",
        "      <td>2014-11-01</td>\n",
        "      <td>  7087.51</td>\n",
        "      <td> NaN</td>\n",
        "      <td> Nov-2014</td>\n",
        "      <td> 0</td>\n",
        "      <td> 70</td>\n",
        "      <td> 1</td>\n",
        "      <td> 0</td>\n",
        "      <td> 1</td>\n",
        "      <td> 0</td>\n",
        "      <td> 0</td>\n",
        "      <td> 0</td>\n",
        "      <td> 0</td>\n",
        "      <td> 0</td>\n",
        "      <td> 0</td>\n",
        "      <td> 0</td>\n",
        "      <td> 0</td>\n",
        "      <td> 1</td>\n",
        "      <td> 61</td>\n",
        "      <td> 9</td>\n",
        "      <td> 2014</td>\n",
        "      <td> 11</td>\n",
        "      <td> 2014</td>\n",
        "      <td> 0</td>\n",
        "      <td> 0</td>\n",
        "      <td> 0</td>\n",
        "      <td> 0</td>\n",
        "      <td> 0</td>\n",
        "      <td> 0</td>\n",
        "      <td> 0</td>\n",
        "      <td> 0</td>\n",
        "      <td> 1</td>\n",
        "      <td> 0</td>\n",
        "      <td> 0</td>\n",
        "      <td> 0</td>\n",
        "      <td> 0</td>\n",
        "      <td> 0</td>\n",
        "      <td> 0</td>\n",
        "      <td> 0</td>\n",
        "      <td> 0</td>\n",
        "      <td> 0</td>\n",
        "      <td> 0</td>\n",
        "      <td> 0</td>\n",
        "      <td> 0</td>\n",
        "      <td> 0</td>\n",
        "      <td> 1</td>\n",
        "      <td> 0</td>\n",
        "      <td> 0</td>\n",
        "      <td> 0</td>\n",
        "      <td> 0</td>\n",
        "      <td> 0</td>\n",
        "      <td> 0</td>\n",
        "      <td> 0</td>\n",
        "      <td> 0</td>\n",
        "      <td> 0</td>\n",
        "      <td> 0</td>\n",
        "      <td> 0</td>\n",
        "      <td> 0</td>\n",
        "      <td> 0</td>\n",
        "      <td> 0</td>\n",
        "      <td> 0</td>\n",
        "      <td> 0</td>\n",
        "      <td> 0</td>\n",
        "      <td> 0</td>\n",
        "      <td> 0</td>\n",
        "      <td> 0</td>\n",
        "      <td> 0</td>\n",
        "      <td> 0</td>\n",
        "      <td> 0</td>\n",
        "      <td> 0</td>\n",
        "      <td> 0</td>\n",
        "      <td> 0</td>\n",
        "      <td> 0</td>\n",
        "      <td> 0</td>\n",
        "      <td> 0</td>\n",
        "      <td> 0</td>\n",
        "      <td> 0</td>\n",
        "      <td> 0</td>\n",
        "      <td> 0</td>\n",
        "      <td> 0</td>\n",
        "      <td> 0</td>\n",
        "      <td> 0</td>\n",
        "      <td> 17</td>\n",
        "      <td> 3</td>\n",
        "      <td>  5</td>\n",
        "      <td> 0.023753</td>\n",
        "      <td> 7.1</td>\n",
        "      <td> 6.4</td>\n",
        "      <td> 6.3</td>\n",
        "    </tr>\n",
        "    <tr>\n",
        "      <th>44</th>\n",
        "      <td> 26750159</td>\n",
        "      <td> 29243115</td>\n",
        "      <td> 17000</td>\n",
        "      <td> 17000</td>\n",
        "      <td> 17000</td>\n",
        "      <td> 0</td>\n",
        "      <td>  6.49</td>\n",
        "      <td>  520.96</td>\n",
        "      <td> 2</td>\n",
        "      <td> 13</td>\n",
        "      <td>  9</td>\n",
        "      <td> MORTGAGE</td>\n",
        "      <td> 100380.00</td>\n",
        "      <td> 0</td>\n",
        "      <td>2014-09-01</td>\n",
        "      <td> 1</td>\n",
        "      <td> n</td>\n",
        "      <td> https://www.lendingclub.com/browse/loanDetail....</td>\n",
        "      <td> bmFu</td>\n",
        "      <td> debt_consolidation</td>\n",
        "      <td>      Debt consolidation</td>\n",
        "      <td> 784</td>\n",
        "      <td> TX</td>\n",
        "      <td> 12.68</td>\n",
        "      <td> 0</td>\n",
        "      <td> Jan-2003</td>\n",
        "      <td> 0</td>\n",
        "      <td> -1</td>\n",
        "      <td> -1</td>\n",
        "      <td>  9</td>\n",
        "      <td> 0</td>\n",
        "      <td> 14649</td>\n",
        "      <td> 46.8</td>\n",
        "      <td> 42</td>\n",
        "      <td> 0</td>\n",
        "      <td> 0</td>\n",
        "      <td> 17181.563059</td>\n",
        "      <td> 17181.56</td>\n",
        "      <td> 17000</td>\n",
        "      <td>  181.56</td>\n",
        "      <td> 0</td>\n",
        "      <td> 0</td>\n",
        "      <td> 0</td>\n",
        "      <td>2014-11-01</td>\n",
        "      <td> 16660.60</td>\n",
        "      <td> NaN</td>\n",
        "      <td> Nov-2014</td>\n",
        "      <td> 0</td>\n",
        "      <td> -1</td>\n",
        "      <td> 1</td>\n",
        "      <td> 1</td>\n",
        "      <td> 0</td>\n",
        "      <td> 0</td>\n",
        "      <td> 0</td>\n",
        "      <td> 0</td>\n",
        "      <td> 0</td>\n",
        "      <td> 0</td>\n",
        "      <td> 0</td>\n",
        "      <td> 1</td>\n",
        "      <td> 0</td>\n",
        "      <td> 0</td>\n",
        "      <td> 61</td>\n",
        "      <td> 9</td>\n",
        "      <td> 2014</td>\n",
        "      <td> 11</td>\n",
        "      <td> 2014</td>\n",
        "      <td> 0</td>\n",
        "      <td> 0</td>\n",
        "      <td> 1</td>\n",
        "      <td> 0</td>\n",
        "      <td> 0</td>\n",
        "      <td> 0</td>\n",
        "      <td> 0</td>\n",
        "      <td> 0</td>\n",
        "      <td> 0</td>\n",
        "      <td> 0</td>\n",
        "      <td> 0</td>\n",
        "      <td> 0</td>\n",
        "      <td> 0</td>\n",
        "      <td> 0</td>\n",
        "      <td> 0</td>\n",
        "      <td> 0</td>\n",
        "      <td> 0</td>\n",
        "      <td> 0</td>\n",
        "      <td> 0</td>\n",
        "      <td> 0</td>\n",
        "      <td> 0</td>\n",
        "      <td> 0</td>\n",
        "      <td> 0</td>\n",
        "      <td> 0</td>\n",
        "      <td> 0</td>\n",
        "      <td> 0</td>\n",
        "      <td> 0</td>\n",
        "      <td> 0</td>\n",
        "      <td> 0</td>\n",
        "      <td> 0</td>\n",
        "      <td> 0</td>\n",
        "      <td> 0</td>\n",
        "      <td> 0</td>\n",
        "      <td> 0</td>\n",
        "      <td> 0</td>\n",
        "      <td> 0</td>\n",
        "      <td> 0</td>\n",
        "      <td> 0</td>\n",
        "      <td> 0</td>\n",
        "      <td> 0</td>\n",
        "      <td> 0</td>\n",
        "      <td> 0</td>\n",
        "      <td> 0</td>\n",
        "      <td> 0</td>\n",
        "      <td> 0</td>\n",
        "      <td> 0</td>\n",
        "      <td> 0</td>\n",
        "      <td> 0</td>\n",
        "      <td> 0</td>\n",
        "      <td> 0</td>\n",
        "      <td> 0</td>\n",
        "      <td> 1</td>\n",
        "      <td> 0</td>\n",
        "      <td> 0</td>\n",
        "      <td> 0</td>\n",
        "      <td> 0</td>\n",
        "      <td> 0</td>\n",
        "      <td> 0</td>\n",
        "      <td> 0</td>\n",
        "      <td> 12</td>\n",
        "      <td> 3</td>\n",
        "      <td> 18</td>\n",
        "      <td> 0.062279</td>\n",
        "      <td> 6.2</td>\n",
        "      <td> 5.3</td>\n",
        "      <td> 5.5</td>\n",
        "    </tr>\n",
        "    <tr>\n",
        "      <th>45</th>\n",
        "      <td> 26969998</td>\n",
        "      <td> 29463027</td>\n",
        "      <td> 20000</td>\n",
        "      <td> 20000</td>\n",
        "      <td> 20000</td>\n",
        "      <td> 1</td>\n",
        "      <td>  9.17</td>\n",
        "      <td>  416.82</td>\n",
        "      <td> 1</td>\n",
        "      <td> 12</td>\n",
        "      <td> 10</td>\n",
        "      <td>     RENT</td>\n",
        "      <td> 100000.00</td>\n",
        "      <td> 1</td>\n",
        "      <td>2014-09-01</td>\n",
        "      <td> 1</td>\n",
        "      <td> n</td>\n",
        "      <td> https://www.lendingclub.com/browse/loanDetail....</td>\n",
        "      <td> bmFu</td>\n",
        "      <td> debt_consolidation</td>\n",
        "      <td>      Debt consolidation</td>\n",
        "      <td> 612</td>\n",
        "      <td> IL</td>\n",
        "      <td> 16.92</td>\n",
        "      <td> 0</td>\n",
        "      <td> Sep-2001</td>\n",
        "      <td> 0</td>\n",
        "      <td> -1</td>\n",
        "      <td> -1</td>\n",
        "      <td> 14</td>\n",
        "      <td> 0</td>\n",
        "      <td> 11550</td>\n",
        "      <td> 43.6</td>\n",
        "      <td> 39</td>\n",
        "      <td> 0</td>\n",
        "      <td> 0</td>\n",
        "      <td> 20152.833333</td>\n",
        "      <td> 20152.83</td>\n",
        "      <td> 20000</td>\n",
        "      <td>  152.83</td>\n",
        "      <td> 0</td>\n",
        "      <td> 0</td>\n",
        "      <td> 0</td>\n",
        "      <td>2014-10-01</td>\n",
        "      <td> 20152.83</td>\n",
        "      <td> NaN</td>\n",
        "      <td> Oct-2014</td>\n",
        "      <td> 0</td>\n",
        "      <td> -1</td>\n",
        "      <td> 1</td>\n",
        "      <td> 0</td>\n",
        "      <td> 1</td>\n",
        "      <td> 0</td>\n",
        "      <td> 0</td>\n",
        "      <td> 0</td>\n",
        "      <td> 0</td>\n",
        "      <td> 0</td>\n",
        "      <td> 0</td>\n",
        "      <td> 0</td>\n",
        "      <td> 0</td>\n",
        "      <td> 1</td>\n",
        "      <td> 30</td>\n",
        "      <td> 9</td>\n",
        "      <td> 2014</td>\n",
        "      <td> 10</td>\n",
        "      <td> 2014</td>\n",
        "      <td> 0</td>\n",
        "      <td> 0</td>\n",
        "      <td> 1</td>\n",
        "      <td> 0</td>\n",
        "      <td> 0</td>\n",
        "      <td> 0</td>\n",
        "      <td> 0</td>\n",
        "      <td> 0</td>\n",
        "      <td> 0</td>\n",
        "      <td> 0</td>\n",
        "      <td> 0</td>\n",
        "      <td> 0</td>\n",
        "      <td> 0</td>\n",
        "      <td> 0</td>\n",
        "      <td> 0</td>\n",
        "      <td> 0</td>\n",
        "      <td> 0</td>\n",
        "      <td> 0</td>\n",
        "      <td> 0</td>\n",
        "      <td> 0</td>\n",
        "      <td> 0</td>\n",
        "      <td> 0</td>\n",
        "      <td> 0</td>\n",
        "      <td> 0</td>\n",
        "      <td> 0</td>\n",
        "      <td> 1</td>\n",
        "      <td> 0</td>\n",
        "      <td> 0</td>\n",
        "      <td> 0</td>\n",
        "      <td> 0</td>\n",
        "      <td> 0</td>\n",
        "      <td> 0</td>\n",
        "      <td> 0</td>\n",
        "      <td> 0</td>\n",
        "      <td> 0</td>\n",
        "      <td> 0</td>\n",
        "      <td> 0</td>\n",
        "      <td> 0</td>\n",
        "      <td> 0</td>\n",
        "      <td> 0</td>\n",
        "      <td> 0</td>\n",
        "      <td> 0</td>\n",
        "      <td> 0</td>\n",
        "      <td> 0</td>\n",
        "      <td> 0</td>\n",
        "      <td> 0</td>\n",
        "      <td> 0</td>\n",
        "      <td> 0</td>\n",
        "      <td> 0</td>\n",
        "      <td> 0</td>\n",
        "      <td> 0</td>\n",
        "      <td> 0</td>\n",
        "      <td> 0</td>\n",
        "      <td> 0</td>\n",
        "      <td> 0</td>\n",
        "      <td> 0</td>\n",
        "      <td> 0</td>\n",
        "      <td> 0</td>\n",
        "      <td> 0</td>\n",
        "      <td> 14</td>\n",
        "      <td> 3</td>\n",
        "      <td> 18</td>\n",
        "      <td> 0.050018</td>\n",
        "      <td> 8.6</td>\n",
        "      <td> 8.3</td>\n",
        "      <td> 7.1</td>\n",
        "    </tr>\n",
        "    <tr>\n",
        "      <th>46</th>\n",
        "      <td> 27059908</td>\n",
        "      <td> 29562939</td>\n",
        "      <td>  7075</td>\n",
        "      <td>  7075</td>\n",
        "      <td>  7075</td>\n",
        "      <td> 0</td>\n",
        "      <td> 16.99</td>\n",
        "      <td>  252.21</td>\n",
        "      <td> 3</td>\n",
        "      <td> 15</td>\n",
        "      <td>  7</td>\n",
        "      <td> MORTGAGE</td>\n",
        "      <td>  55000.00</td>\n",
        "      <td> 2</td>\n",
        "      <td>2014-09-01</td>\n",
        "      <td> 1</td>\n",
        "      <td> n</td>\n",
        "      <td> https://www.lendingclub.com/browse/loanDetail....</td>\n",
        "      <td> bmFu</td>\n",
        "      <td> debt_consolidation</td>\n",
        "      <td>      Debt consolidation</td>\n",
        "      <td> 402</td>\n",
        "      <td> KY</td>\n",
        "      <td>  8.77</td>\n",
        "      <td> 0</td>\n",
        "      <td> Jul-2002</td>\n",
        "      <td> 1</td>\n",
        "      <td> -1</td>\n",
        "      <td> -1</td>\n",
        "      <td>  6</td>\n",
        "      <td> 0</td>\n",
        "      <td>  5995</td>\n",
        "      <td> 63.1</td>\n",
        "      <td>  9</td>\n",
        "      <td> 0</td>\n",
        "      <td> 0</td>\n",
        "      <td>  7175.170208</td>\n",
        "      <td>  7175.17</td>\n",
        "      <td>  7075</td>\n",
        "      <td>  100.17</td>\n",
        "      <td> 0</td>\n",
        "      <td> 0</td>\n",
        "      <td> 0</td>\n",
        "      <td>2014-10-01</td>\n",
        "      <td>  7175.17</td>\n",
        "      <td> NaN</td>\n",
        "      <td> Nov-2014</td>\n",
        "      <td> 0</td>\n",
        "      <td> -1</td>\n",
        "      <td> 1</td>\n",
        "      <td> 0</td>\n",
        "      <td> 0</td>\n",
        "      <td> 0</td>\n",
        "      <td> 1</td>\n",
        "      <td> 0</td>\n",
        "      <td> 0</td>\n",
        "      <td> 0</td>\n",
        "      <td> 0</td>\n",
        "      <td> 1</td>\n",
        "      <td> 0</td>\n",
        "      <td> 0</td>\n",
        "      <td> 30</td>\n",
        "      <td> 9</td>\n",
        "      <td> 2014</td>\n",
        "      <td> 10</td>\n",
        "      <td> 2014</td>\n",
        "      <td> 0</td>\n",
        "      <td> 0</td>\n",
        "      <td> 1</td>\n",
        "      <td> 0</td>\n",
        "      <td> 0</td>\n",
        "      <td> 0</td>\n",
        "      <td> 0</td>\n",
        "      <td> 0</td>\n",
        "      <td> 0</td>\n",
        "      <td> 0</td>\n",
        "      <td> 0</td>\n",
        "      <td> 0</td>\n",
        "      <td> 0</td>\n",
        "      <td> 0</td>\n",
        "      <td> 0</td>\n",
        "      <td> 0</td>\n",
        "      <td> 0</td>\n",
        "      <td> 0</td>\n",
        "      <td> 0</td>\n",
        "      <td> 0</td>\n",
        "      <td> 0</td>\n",
        "      <td> 0</td>\n",
        "      <td> 0</td>\n",
        "      <td> 0</td>\n",
        "      <td> 0</td>\n",
        "      <td> 0</td>\n",
        "      <td> 0</td>\n",
        "      <td> 0</td>\n",
        "      <td> 1</td>\n",
        "      <td> 0</td>\n",
        "      <td> 0</td>\n",
        "      <td> 0</td>\n",
        "      <td> 0</td>\n",
        "      <td> 0</td>\n",
        "      <td> 0</td>\n",
        "      <td> 0</td>\n",
        "      <td> 0</td>\n",
        "      <td> 0</td>\n",
        "      <td> 0</td>\n",
        "      <td> 0</td>\n",
        "      <td> 0</td>\n",
        "      <td> 0</td>\n",
        "      <td> 0</td>\n",
        "      <td> 0</td>\n",
        "      <td> 0</td>\n",
        "      <td> 0</td>\n",
        "      <td> 0</td>\n",
        "      <td> 0</td>\n",
        "      <td> 0</td>\n",
        "      <td> 0</td>\n",
        "      <td> 0</td>\n",
        "      <td> 0</td>\n",
        "      <td> 0</td>\n",
        "      <td> 0</td>\n",
        "      <td> 0</td>\n",
        "      <td> 0</td>\n",
        "      <td> 0</td>\n",
        "      <td> 0</td>\n",
        "      <td> 0</td>\n",
        "      <td> 13</td>\n",
        "      <td> 3</td>\n",
        "      <td> 18</td>\n",
        "      <td> 0.055028</td>\n",
        "      <td> 7.9</td>\n",
        "      <td> 8.4</td>\n",
        "      <td> 7.4</td>\n",
        "    </tr>\n",
        "    <tr>\n",
        "      <th>47</th>\n",
        "      <td> 27129952</td>\n",
        "      <td> 29632986</td>\n",
        "      <td> 22650</td>\n",
        "      <td> 22650</td>\n",
        "      <td> 22650</td>\n",
        "      <td> 1</td>\n",
        "      <td> 25.80</td>\n",
        "      <td>  675.48</td>\n",
        "      <td> 1</td>\n",
        "      <td> 19</td>\n",
        "      <td>  0</td>\n",
        "      <td> MORTGAGE</td>\n",
        "      <td> 100000.00</td>\n",
        "      <td> 2</td>\n",
        "      <td>2014-09-01</td>\n",
        "      <td> 1</td>\n",
        "      <td> n</td>\n",
        "      <td> https://www.lendingclub.com/browse/loanDetail....</td>\n",
        "      <td> bmFu</td>\n",
        "      <td> debt_consolidation</td>\n",
        "      <td>      Debt consolidation</td>\n",
        "      <td> 951</td>\n",
        "      <td> CA</td>\n",
        "      <td> 22.04</td>\n",
        "      <td> 0</td>\n",
        "      <td> Nov-2001</td>\n",
        "      <td> 0</td>\n",
        "      <td> -1</td>\n",
        "      <td> -1</td>\n",
        "      <td> 11</td>\n",
        "      <td> 0</td>\n",
        "      <td> 18703</td>\n",
        "      <td> 77.0</td>\n",
        "      <td> 26</td>\n",
        "      <td> 0</td>\n",
        "      <td> 0</td>\n",
        "      <td> 23619.900000</td>\n",
        "      <td> 23619.90</td>\n",
        "      <td> 22650</td>\n",
        "      <td>  969.90</td>\n",
        "      <td> 0</td>\n",
        "      <td> 0</td>\n",
        "      <td> 0</td>\n",
        "      <td>2014-11-01</td>\n",
        "      <td> 22944.42</td>\n",
        "      <td> NaN</td>\n",
        "      <td> Nov-2014</td>\n",
        "      <td> 0</td>\n",
        "      <td> -1</td>\n",
        "      <td> 1</td>\n",
        "      <td> 0</td>\n",
        "      <td> 0</td>\n",
        "      <td> 0</td>\n",
        "      <td> 0</td>\n",
        "      <td> 0</td>\n",
        "      <td> 0</td>\n",
        "      <td> 1</td>\n",
        "      <td> 0</td>\n",
        "      <td> 1</td>\n",
        "      <td> 0</td>\n",
        "      <td> 0</td>\n",
        "      <td> 61</td>\n",
        "      <td> 9</td>\n",
        "      <td> 2014</td>\n",
        "      <td> 11</td>\n",
        "      <td> 2014</td>\n",
        "      <td> 0</td>\n",
        "      <td> 0</td>\n",
        "      <td> 1</td>\n",
        "      <td> 0</td>\n",
        "      <td> 0</td>\n",
        "      <td> 0</td>\n",
        "      <td> 0</td>\n",
        "      <td> 0</td>\n",
        "      <td> 0</td>\n",
        "      <td> 0</td>\n",
        "      <td> 0</td>\n",
        "      <td> 0</td>\n",
        "      <td> 0</td>\n",
        "      <td> 0</td>\n",
        "      <td> 0</td>\n",
        "      <td> 0</td>\n",
        "      <td> 0</td>\n",
        "      <td> 1</td>\n",
        "      <td> 0</td>\n",
        "      <td> 0</td>\n",
        "      <td> 0</td>\n",
        "      <td> 0</td>\n",
        "      <td> 0</td>\n",
        "      <td> 0</td>\n",
        "      <td> 0</td>\n",
        "      <td> 0</td>\n",
        "      <td> 0</td>\n",
        "      <td> 0</td>\n",
        "      <td> 0</td>\n",
        "      <td> 0</td>\n",
        "      <td> 0</td>\n",
        "      <td> 0</td>\n",
        "      <td> 0</td>\n",
        "      <td> 0</td>\n",
        "      <td> 0</td>\n",
        "      <td> 0</td>\n",
        "      <td> 0</td>\n",
        "      <td> 0</td>\n",
        "      <td> 0</td>\n",
        "      <td> 0</td>\n",
        "      <td> 0</td>\n",
        "      <td> 0</td>\n",
        "      <td> 0</td>\n",
        "      <td> 0</td>\n",
        "      <td> 0</td>\n",
        "      <td> 0</td>\n",
        "      <td> 0</td>\n",
        "      <td> 0</td>\n",
        "      <td> 0</td>\n",
        "      <td> 0</td>\n",
        "      <td> 0</td>\n",
        "      <td> 0</td>\n",
        "      <td> 0</td>\n",
        "      <td> 0</td>\n",
        "      <td> 0</td>\n",
        "      <td> 0</td>\n",
        "      <td> 0</td>\n",
        "      <td> 0</td>\n",
        "      <td> 0</td>\n",
        "      <td> 14</td>\n",
        "      <td> 3</td>\n",
        "      <td> 18</td>\n",
        "      <td> 0.081058</td>\n",
        "      <td> 8.5</td>\n",
        "      <td> 8.4</td>\n",
        "      <td> 7.3</td>\n",
        "    </tr>\n",
        "    <tr>\n",
        "      <th>48</th>\n",
        "      <td> 25747397</td>\n",
        "      <td> 28200358</td>\n",
        "      <td> 30000</td>\n",
        "      <td> 30000</td>\n",
        "      <td> 30000</td>\n",
        "      <td> 0</td>\n",
        "      <td> 25.80</td>\n",
        "      <td> 1205.53</td>\n",
        "      <td> 1</td>\n",
        "      <td> 20</td>\n",
        "      <td>  0</td>\n",
        "      <td> MORTGAGE</td>\n",
        "      <td> 185000.00</td>\n",
        "      <td> 2</td>\n",
        "      <td>2014-09-01</td>\n",
        "      <td> 1</td>\n",
        "      <td> n</td>\n",
        "      <td> https://www.lendingclub.com/browse/loanDetail....</td>\n",
        "      <td> bmFu</td>\n",
        "      <td>              other</td>\n",
        "      <td>                   Other</td>\n",
        "      <td> 344</td>\n",
        "      <td> FL</td>\n",
        "      <td>  4.33</td>\n",
        "      <td> 0</td>\n",
        "      <td> Feb-2001</td>\n",
        "      <td> 1</td>\n",
        "      <td> -1</td>\n",
        "      <td> 80</td>\n",
        "      <td> 13</td>\n",
        "      <td> 1</td>\n",
        "      <td> 11658</td>\n",
        "      <td> 53.7</td>\n",
        "      <td> 20</td>\n",
        "      <td> 0</td>\n",
        "      <td> 0</td>\n",
        "      <td> 31277.950000</td>\n",
        "      <td> 31277.95</td>\n",
        "      <td> 30000</td>\n",
        "      <td> 1277.95</td>\n",
        "      <td> 0</td>\n",
        "      <td> 0</td>\n",
        "      <td> 0</td>\n",
        "      <td>2014-11-01</td>\n",
        "      <td> 30072.42</td>\n",
        "      <td> NaN</td>\n",
        "      <td> Nov-2014</td>\n",
        "      <td> 0</td>\n",
        "      <td> -1</td>\n",
        "      <td> 1</td>\n",
        "      <td> 0</td>\n",
        "      <td> 0</td>\n",
        "      <td> 0</td>\n",
        "      <td> 0</td>\n",
        "      <td> 0</td>\n",
        "      <td> 0</td>\n",
        "      <td> 1</td>\n",
        "      <td> 0</td>\n",
        "      <td> 1</td>\n",
        "      <td> 0</td>\n",
        "      <td> 0</td>\n",
        "      <td> 61</td>\n",
        "      <td> 9</td>\n",
        "      <td> 2014</td>\n",
        "      <td> 11</td>\n",
        "      <td> 2014</td>\n",
        "      <td> 0</td>\n",
        "      <td> 0</td>\n",
        "      <td> 0</td>\n",
        "      <td> 0</td>\n",
        "      <td> 0</td>\n",
        "      <td> 0</td>\n",
        "      <td> 0</td>\n",
        "      <td> 0</td>\n",
        "      <td> 1</td>\n",
        "      <td> 0</td>\n",
        "      <td> 0</td>\n",
        "      <td> 0</td>\n",
        "      <td> 0</td>\n",
        "      <td> 0</td>\n",
        "      <td> 0</td>\n",
        "      <td> 0</td>\n",
        "      <td> 0</td>\n",
        "      <td> 0</td>\n",
        "      <td> 0</td>\n",
        "      <td> 0</td>\n",
        "      <td> 0</td>\n",
        "      <td> 0</td>\n",
        "      <td> 1</td>\n",
        "      <td> 0</td>\n",
        "      <td> 0</td>\n",
        "      <td> 0</td>\n",
        "      <td> 0</td>\n",
        "      <td> 0</td>\n",
        "      <td> 0</td>\n",
        "      <td> 0</td>\n",
        "      <td> 0</td>\n",
        "      <td> 0</td>\n",
        "      <td> 0</td>\n",
        "      <td> 0</td>\n",
        "      <td> 0</td>\n",
        "      <td> 0</td>\n",
        "      <td> 0</td>\n",
        "      <td> 0</td>\n",
        "      <td> 0</td>\n",
        "      <td> 0</td>\n",
        "      <td> 0</td>\n",
        "      <td> 0</td>\n",
        "      <td> 0</td>\n",
        "      <td> 0</td>\n",
        "      <td> 0</td>\n",
        "      <td> 0</td>\n",
        "      <td> 0</td>\n",
        "      <td> 0</td>\n",
        "      <td> 0</td>\n",
        "      <td> 0</td>\n",
        "      <td> 0</td>\n",
        "      <td> 0</td>\n",
        "      <td> 0</td>\n",
        "      <td> 0</td>\n",
        "      <td> 0</td>\n",
        "      <td> 0</td>\n",
        "      <td> 0</td>\n",
        "      <td> 0</td>\n",
        "      <td> 0</td>\n",
        "      <td> 14</td>\n",
        "      <td> 3</td>\n",
        "      <td>  5</td>\n",
        "      <td> 0.078197</td>\n",
        "      <td> 7.1</td>\n",
        "      <td> 6.4</td>\n",
        "      <td> 6.3</td>\n",
        "    </tr>\n",
        "    <tr>\n",
        "      <th>49</th>\n",
        "      <td> 26569115</td>\n",
        "      <td> 29062177</td>\n",
        "      <td> 22675</td>\n",
        "      <td> 22675</td>\n",
        "      <td> 22675</td>\n",
        "      <td> 1</td>\n",
        "      <td> 20.99</td>\n",
        "      <td>  613.31</td>\n",
        "      <td> 4</td>\n",
        "      <td> 29</td>\n",
        "      <td>  8</td>\n",
        "      <td> MORTGAGE</td>\n",
        "      <td>  63000.00</td>\n",
        "      <td> 2</td>\n",
        "      <td>2014-09-01</td>\n",
        "      <td> 1</td>\n",
        "      <td> n</td>\n",
        "      <td> https://www.lendingclub.com/browse/loanDetail....</td>\n",
        "      <td> bmFu</td>\n",
        "      <td> debt_consolidation</td>\n",
        "      <td>      Debt consolidation</td>\n",
        "      <td> 301</td>\n",
        "      <td> GA</td>\n",
        "      <td> 30.30</td>\n",
        "      <td> 0</td>\n",
        "      <td> Feb-2001</td>\n",
        "      <td> 0</td>\n",
        "      <td> -1</td>\n",
        "      <td> -1</td>\n",
        "      <td> 16</td>\n",
        "      <td> 0</td>\n",
        "      <td> 36671</td>\n",
        "      <td> 84.9</td>\n",
        "      <td> 28</td>\n",
        "      <td> 0</td>\n",
        "      <td> 0</td>\n",
        "      <td> 23071.630000</td>\n",
        "      <td> 23071.63</td>\n",
        "      <td> 22675</td>\n",
        "      <td>  396.63</td>\n",
        "      <td> 0</td>\n",
        "      <td> 0</td>\n",
        "      <td> 0</td>\n",
        "      <td>2014-10-01</td>\n",
        "      <td> 23071.63</td>\n",
        "      <td> NaN</td>\n",
        "      <td> Oct-2014</td>\n",
        "      <td> 0</td>\n",
        "      <td> -1</td>\n",
        "      <td> 1</td>\n",
        "      <td> 0</td>\n",
        "      <td> 0</td>\n",
        "      <td> 0</td>\n",
        "      <td> 0</td>\n",
        "      <td> 1</td>\n",
        "      <td> 0</td>\n",
        "      <td> 0</td>\n",
        "      <td> 0</td>\n",
        "      <td> 1</td>\n",
        "      <td> 0</td>\n",
        "      <td> 0</td>\n",
        "      <td> 30</td>\n",
        "      <td> 9</td>\n",
        "      <td> 2014</td>\n",
        "      <td> 10</td>\n",
        "      <td> 2014</td>\n",
        "      <td> 0</td>\n",
        "      <td> 0</td>\n",
        "      <td> 1</td>\n",
        "      <td> 0</td>\n",
        "      <td> 0</td>\n",
        "      <td> 0</td>\n",
        "      <td> 0</td>\n",
        "      <td> 0</td>\n",
        "      <td> 0</td>\n",
        "      <td> 0</td>\n",
        "      <td> 0</td>\n",
        "      <td> 0</td>\n",
        "      <td> 0</td>\n",
        "      <td> 0</td>\n",
        "      <td> 0</td>\n",
        "      <td> 0</td>\n",
        "      <td> 0</td>\n",
        "      <td> 0</td>\n",
        "      <td> 0</td>\n",
        "      <td> 0</td>\n",
        "      <td> 0</td>\n",
        "      <td> 0</td>\n",
        "      <td> 0</td>\n",
        "      <td> 1</td>\n",
        "      <td> 0</td>\n",
        "      <td> 0</td>\n",
        "      <td> 0</td>\n",
        "      <td> 0</td>\n",
        "      <td> 0</td>\n",
        "      <td> 0</td>\n",
        "      <td> 0</td>\n",
        "      <td> 0</td>\n",
        "      <td> 0</td>\n",
        "      <td> 0</td>\n",
        "      <td> 0</td>\n",
        "      <td> 0</td>\n",
        "      <td> 0</td>\n",
        "      <td> 0</td>\n",
        "      <td> 0</td>\n",
        "      <td> 0</td>\n",
        "      <td> 0</td>\n",
        "      <td> 0</td>\n",
        "      <td> 0</td>\n",
        "      <td> 0</td>\n",
        "      <td> 0</td>\n",
        "      <td> 0</td>\n",
        "      <td> 0</td>\n",
        "      <td> 0</td>\n",
        "      <td> 0</td>\n",
        "      <td> 0</td>\n",
        "      <td> 0</td>\n",
        "      <td> 0</td>\n",
        "      <td> 0</td>\n",
        "      <td> 0</td>\n",
        "      <td> 0</td>\n",
        "      <td> 0</td>\n",
        "      <td> 0</td>\n",
        "      <td> 0</td>\n",
        "      <td> 0</td>\n",
        "      <td> 14</td>\n",
        "      <td> 3</td>\n",
        "      <td> 18</td>\n",
        "      <td> 0.116821</td>\n",
        "      <td> 7.8</td>\n",
        "      <td> 7.0</td>\n",
        "      <td> 7.8</td>\n",
        "    </tr>\n",
        "  </tbody>\n",
        "</table>\n",
        "<p>30 rows \u00d7 132 columns</p>\n",
        "</div>"
       ],
       "metadata": {},
       "output_type": "pyout",
       "prompt_number": 22,
       "text": [
        "          id  member_id  loan_amnt  funded_amnt  funded_amnt_inv  term  \\\n",
        "20  27541223   30044325      19125        19125            19125     1   \n",
        "21  27671156   30184262      14300        14300            14300     0   \n",
        "22  27540831   30043918       7225         7225             7225     0   \n",
        "23  27681000   30194114      14400        14400            14400     0   \n",
        "24  27730632   30233717       3000         3000             3000     0   \n",
        "25  27149989   29663026       6575         6575             6575     0   \n",
        "26  27710475   30173543      10000        10000            10000     0   \n",
        "27  27630912   30134001      10000        10000            10000     0   \n",
        "28  27130151   29633192       6000         6000             6000     0   \n",
        "29  27320366   29813453      12000        12000            12000     1   \n",
        "30  26780051   29273018      27975        27975            27975     0   \n",
        "31  27570365   30073435       4200         4200             4200     0   \n",
        "32  22241940   24564838      20650        20650            20650     1   \n",
        "33  27460292   29953368      13200        13200            13200     0   \n",
        "34  27320215   29813290       5000         5000             5000     0   \n",
        "35  27310150   29803213      10000        10000            10000     0   \n",
        "36  27390168   29883235      35000        35000            35000     1   \n",
        "37  27190347   29693395      15000        15000            15000     0   \n",
        "38  27070190   29573232      18000        18000            18000     1   \n",
        "39  27200259   29543312      20000        20000            20000     0   \n",
        "40  27010197   29503238       1200         1200             1200     0   \n",
        "41  27130148   29633189      35000        35000            35000     1   \n",
        "42  26800143   29283093      25000        25000            25000     0   \n",
        "43  26990122   29483165       7200         7200             7200     0   \n",
        "44  26750159   29243115      17000        17000            17000     0   \n",
        "45  26969998   29463027      20000        20000            20000     1   \n",
        "46  27059908   29562939       7075         7075             7075     0   \n",
        "47  27129952   29632986      22650        22650            22650     1   \n",
        "48  25747397   28200358      30000        30000            30000     0   \n",
        "49  26569115   29062177      22675        22675            22675     1   \n",
        "\n",
        "    int_rate  installment sub_grade  emp_title  emp_length home_ownership  \\\n",
        "20     22.15       529.85         5         15           6           RENT   \n",
        "21      7.69       446.07         4         14           2       MORTGAGE   \n",
        "22     16.99       257.56         3         12           2            OWN   \n",
        "23     14.49       495.60         4         19           2           RENT   \n",
        "24     13.98       102.51         3          2           2       MORTGAGE   \n",
        "25     17.57       236.29         4          7           2       MORTGAGE   \n",
        "26     10.15       323.38         2         18           6       MORTGAGE   \n",
        "27     10.15       323.38         2         15           2           RENT   \n",
        "28     14.49       206.50         4          7          10            OWN   \n",
        "29     17.57       301.93         4          6           2       MORTGAGE   \n",
        "30     22.15      1070.55         5         15           9           RENT   \n",
        "31     17.57       150.94         4         12          10           RENT   \n",
        "32     24.50       600.07         3         15           7            OWN   \n",
        "33     16.29       465.97         2         16           4       MORTGAGE   \n",
        "34     14.49       172.09         4          3           1       MORTGAGE   \n",
        "35     11.67       330.57         4          8           2       MORTGAGE   \n",
        "36     25.80      1043.78         1         23          11       MORTGAGE   \n",
        "37     13.98       512.52         3         10           2           RENT   \n",
        "38     14.99       428.13         5         10           2           RENT   \n",
        "39     12.99       673.79         1         15           2           RENT   \n",
        "40     12.99        40.43         1          8           4       MORTGAGE   \n",
        "41     14.99       832.47         5         25           0       MORTGAGE   \n",
        "42      6.49       766.12         2         18           2       MORTGAGE   \n",
        "43     10.15       232.84         2         24           2           RENT   \n",
        "44      6.49       520.96         2         13           9       MORTGAGE   \n",
        "45      9.17       416.82         1         12          10           RENT   \n",
        "46     16.99       252.21         3         15           7       MORTGAGE   \n",
        "47     25.80       675.48         1         19           0       MORTGAGE   \n",
        "48     25.80      1205.53         1         20           0       MORTGAGE   \n",
        "49     20.99       613.31         4         29           8       MORTGAGE   \n",
        "\n",
        "    annual_inc  is_inc_v    issue_d  loan_status pymnt_plan  \\\n",
        "20    56356.00         0 2014-09-01            1          n   \n",
        "21    78000.00         1 2014-09-01            1          n   \n",
        "22    62000.00         1 2014-09-01            1          n   \n",
        "23    85000.00         2 2014-09-01            1          n   \n",
        "24   100000.00         0 2014-09-01            1          n   \n",
        "25    72155.00         1 2014-09-01            1          n   \n",
        "26    32000.00         2 2014-09-01            1          n   \n",
        "27    82000.00         1 2014-09-01            1          n   \n",
        "28    52000.00         1 2014-09-01            1          n   \n",
        "29    37000.00         1 2014-09-01            1          n   \n",
        "30    70000.00         2 2014-09-01            1          n   \n",
        "31    65000.00         1 2014-09-01            1          n   \n",
        "32    61000.00         2 2014-09-01            1          n   \n",
        "33    77000.00         1 2014-09-01            1          n   \n",
        "34   125000.00         0 2014-09-01            1          n   \n",
        "35    55000.00         2 2014-09-01            1          n   \n",
        "36   105000.00         2 2014-09-01            1          n   \n",
        "37    90000.00         0 2014-09-01            1          n   \n",
        "38    45000.00         1 2014-09-01            1          n   \n",
        "39   105000.00         1 2014-09-01            1          n   \n",
        "40    39000.00         1 2014-09-01            1          n   \n",
        "41   110000.00         2 2014-09-01            1          n   \n",
        "42    95000.00         1 2014-09-01            1          n   \n",
        "43   117631.02         1 2014-09-01            1          n   \n",
        "44   100380.00         0 2014-09-01            1          n   \n",
        "45   100000.00         1 2014-09-01            1          n   \n",
        "46    55000.00         2 2014-09-01            1          n   \n",
        "47   100000.00         2 2014-09-01            1          n   \n",
        "48   185000.00         2 2014-09-01            1          n   \n",
        "49    63000.00         2 2014-09-01            1          n   \n",
        "\n",
        "                                                  url  desc  \\\n",
        "20  https://www.lendingclub.com/browse/loanDetail....  bmFu   \n",
        "21  https://www.lendingclub.com/browse/loanDetail....  bmFu   \n",
        "22  https://www.lendingclub.com/browse/loanDetail....  bmFu   \n",
        "23  https://www.lendingclub.com/browse/loanDetail....  bmFu   \n",
        "24  https://www.lendingclub.com/browse/loanDetail....  bmFu   \n",
        "25  https://www.lendingclub.com/browse/loanDetail....  bmFu   \n",
        "26  https://www.lendingclub.com/browse/loanDetail....  bmFu   \n",
        "27  https://www.lendingclub.com/browse/loanDetail....  bmFu   \n",
        "28  https://www.lendingclub.com/browse/loanDetail....  bmFu   \n",
        "29  https://www.lendingclub.com/browse/loanDetail....  bmFu   \n",
        "30  https://www.lendingclub.com/browse/loanDetail....  bmFu   \n",
        "31  https://www.lendingclub.com/browse/loanDetail....  bmFu   \n",
        "32  https://www.lendingclub.com/browse/loanDetail....  bmFu   \n",
        "33  https://www.lendingclub.com/browse/loanDetail....  bmFu   \n",
        "34  https://www.lendingclub.com/browse/loanDetail....  bmFu   \n",
        "35  https://www.lendingclub.com/browse/loanDetail....  bmFu   \n",
        "36  https://www.lendingclub.com/browse/loanDetail....  bmFu   \n",
        "37  https://www.lendingclub.com/browse/loanDetail....  bmFu   \n",
        "38  https://www.lendingclub.com/browse/loanDetail....  bmFu   \n",
        "39  https://www.lendingclub.com/browse/loanDetail....  bmFu   \n",
        "40  https://www.lendingclub.com/browse/loanDetail....  bmFu   \n",
        "41  https://www.lendingclub.com/browse/loanDetail....  bmFu   \n",
        "42  https://www.lendingclub.com/browse/loanDetail....  bmFu   \n",
        "43  https://www.lendingclub.com/browse/loanDetail....  bmFu   \n",
        "44  https://www.lendingclub.com/browse/loanDetail....  bmFu   \n",
        "45  https://www.lendingclub.com/browse/loanDetail....  bmFu   \n",
        "46  https://www.lendingclub.com/browse/loanDetail....  bmFu   \n",
        "47  https://www.lendingclub.com/browse/loanDetail....  bmFu   \n",
        "48  https://www.lendingclub.com/browse/loanDetail....  bmFu   \n",
        "49  https://www.lendingclub.com/browse/loanDetail....  bmFu   \n",
        "\n",
        "               purpose                    title zip_code addr_state    dti  \\\n",
        "20  debt_consolidation       Debt consolidation      902         CA  15.80   \n",
        "21  debt_consolidation       Debt consolidation      450         OH  16.49   \n",
        "22  debt_consolidation       Debt consolidation      320         FL  15.62   \n",
        "23               other                    Other      029         RI   7.65   \n",
        "24  debt_consolidation       Debt consolidation      483         MI  21.71   \n",
        "25         credit_card  Credit card refinancing      750         TX  30.36   \n",
        "26  debt_consolidation       Debt consolidation      331         FL  10.43   \n",
        "27  debt_consolidation       Debt consolidation      844         UT   7.73   \n",
        "28  debt_consolidation       Debt consolidation      217         MD  17.54   \n",
        "29  debt_consolidation       Debt consolidation      992         WA  26.44   \n",
        "30      small_business                 Business      112         NY   3.93   \n",
        "31  debt_consolidation       Debt consolidation      480         MI  13.03   \n",
        "32  debt_consolidation       Debt consolidation      300         GA  28.03   \n",
        "33  debt_consolidation       Debt consolidation      064         CT  21.76   \n",
        "34  debt_consolidation       Debt consolidation      945         CA   7.22   \n",
        "35  debt_consolidation       Debt consolidation      541         WI   9.43   \n",
        "36  debt_consolidation       Debt consolidation      450         OH  21.46   \n",
        "37               house              Home buying      070         NJ  13.41   \n",
        "38  debt_consolidation       Debt consolidation      881         NM  21.25   \n",
        "39  debt_consolidation       Debt consolidation      117         NY  20.87   \n",
        "40      small_business                 Business      891         NV  21.45   \n",
        "41    home_improvement         Home improvement      207         MD   9.34   \n",
        "42  debt_consolidation       Debt consolidation      328         FL   8.62   \n",
        "43               other                    Other      331         FL   2.94   \n",
        "44  debt_consolidation       Debt consolidation      784         TX  12.68   \n",
        "45  debt_consolidation       Debt consolidation      612         IL  16.92   \n",
        "46  debt_consolidation       Debt consolidation      402         KY   8.77   \n",
        "47  debt_consolidation       Debt consolidation      951         CA  22.04   \n",
        "48               other                    Other      344         FL   4.33   \n",
        "49  debt_consolidation       Debt consolidation      301         GA  30.30   \n",
        "\n",
        "    delinq_2yrs earliest_cr_line  inq_last_6mths  mths_since_last_delinq  \\\n",
        "20            0         Aug-1995               0                      -1   \n",
        "21            0         Aug-1978               0                      65   \n",
        "22            0         Oct-1999               1                      -1   \n",
        "23            0         Nov-2003               3                      60   \n",
        "24            0         Nov-1985               0                      -1   \n",
        "25            0         Nov-1999               0                      -1   \n",
        "26            0         Sep-2004               0                      63   \n",
        "27            0         Mar-1996               1                      -1   \n",
        "28            0         Oct-2005               0                      -1   \n",
        "29            0         Nov-1997               3                      -1   \n",
        "30            1         Feb-2003               1                      21   \n",
        "31            2         Jan-1998               2                       7   \n",
        "32            1         Aug-1996               5                      56   \n",
        "33            0         Dec-2000               1                      60   \n",
        "34            0         Nov-2000               0                      58   \n",
        "35            0         Oct-2000               1                      -1   \n",
        "36            0         Oct-2003               2                      -1   \n",
        "37            0         Jan-1999               0                      70   \n",
        "38            0         Sep-2002               0                      -1   \n",
        "39            2         Nov-1990               0                      16   \n",
        "40            0         Sep-2001               1                      -1   \n",
        "41            0         Feb-1996               0                      81   \n",
        "42            0         Aug-1995               0                      -1   \n",
        "43            0         Sep-1998               0                      70   \n",
        "44            0         Jan-2003               0                      -1   \n",
        "45            0         Sep-2001               0                      -1   \n",
        "46            0         Jul-2002               1                      -1   \n",
        "47            0         Nov-2001               0                      -1   \n",
        "48            0         Feb-2001               1                      -1   \n",
        "49            0         Feb-2001               0                      -1   \n",
        "\n",
        "    mths_since_last_record  open_acc  pub_rec  revol_bal  revol_util  \\\n",
        "20                      49         8        1       3291        32.3   \n",
        "21                      -1         8        0      21490        74.9   \n",
        "22                      90         5        1       1685        49.6   \n",
        "23                      -1         7        0       9180        50.2   \n",
        "24                      -1         8        0      18063        42.8   \n",
        "25                      -1         7        0      44351        91.8   \n",
        "26                      -1        13        0      11267        48.6   \n",
        "27                      61         8        1       8969        72.3   \n",
        "28                      -1         5        0       9382        90.2   \n",
        "29                      -1        13        0      24670        46.0   \n",
        "30                      -1         8        0       5914        12.2   \n",
        "31                      -1        21        0        852         5.6   \n",
        "32                      -1        16        0      10132        35.0   \n",
        "33                      -1        11        0      13390        50.1   \n",
        "34                      -1         7        0      29673        82.4   \n",
        "35                      -1         6        0      13078        96.9   \n",
        "36                      -1        15        0      34032        71.6   \n",
        "37                      -1         8        0       8307        46.4   \n",
        "38                      -1         7        0      15329        52.0   \n",
        "39                      -1        14        0      44319        83.6   \n",
        "40                      -1        14        0      20315        42.6   \n",
        "41                      -1        13        0      10087        29.7   \n",
        "42                      -1         9        0      11553        17.7   \n",
        "43                      69         6        1       7920        61.4   \n",
        "44                      -1         9        0      14649        46.8   \n",
        "45                      -1        14        0      11550        43.6   \n",
        "46                      -1         6        0       5995        63.1   \n",
        "47                      -1        11        0      18703        77.0   \n",
        "48                      80        13        1      11658        53.7   \n",
        "49                      -1        16        0      36671        84.9   \n",
        "\n",
        "    total_acc  out_prncp  out_prncp_inv   total_pymnt  total_pymnt_inv  \\\n",
        "20         27          0              0  19478.020000         19478.02   \n",
        "21         23          0              0  14391.639167         14391.64   \n",
        "22          9          0              0   7327.293958          7327.29   \n",
        "23         18          0              0  14573.880000         14573.88   \n",
        "24         18          0              0   3034.950000          3034.95   \n",
        "25         15          0              0   6765.487775          6765.49   \n",
        "26         36          0              0  10084.583333         10084.58   \n",
        "27         41          0              0  10084.590000         10084.59   \n",
        "28         12          0              0   6114.950000          6114.95   \n",
        "29         23          0              0  12175.700000         12175.70   \n",
        "30         12          0              0  28491.371875         28491.37   \n",
        "31         59          0              0   4261.495000          4261.50   \n",
        "32         37          0              0  21071.610000         21071.61   \n",
        "33         37          0              0  13379.190000         13379.19   \n",
        "34         20          0              0   5060.380000          5060.38   \n",
        "35         49          0              0  10097.250000         10097.25   \n",
        "36         42          0              0  35752.500000         35752.50   \n",
        "37         23          0              0  15174.750000         15174.75   \n",
        "38          9          0              0  18224.850000         18224.85   \n",
        "39         42          0              0  20230.610000         20230.61   \n",
        "40         35          0              0   1212.990000          1212.99   \n",
        "41         34          0              0  35437.210000         35437.21   \n",
        "42         46          0              0  25135.208333         25135.21   \n",
        "43         27          0              0   7320.350000          7320.35   \n",
        "44         42          0              0  17181.563059         17181.56   \n",
        "45         39          0              0  20152.833333         20152.83   \n",
        "46          9          0              0   7175.170208          7175.17   \n",
        "47         26          0              0  23619.900000         23619.90   \n",
        "48         20          0              0  31277.950000         31277.95   \n",
        "49         28          0              0  23071.630000         23071.63   \n",
        "\n",
        "    total_rec_prncp  total_rec_int  total_rec_late_fee  recoveries  \\\n",
        "20            19125         353.02                   0           0   \n",
        "21            14300          91.64                   0           0   \n",
        "22             7225         102.29                   0           0   \n",
        "23            14400         173.88                   0           0   \n",
        "24             3000          34.95                   0           0   \n",
        "25             6575         190.49                   0           0   \n",
        "26            10000          84.58                   0           0   \n",
        "27            10000          84.59                   0           0   \n",
        "28             6000         114.95                   0           0   \n",
        "29            12000         175.70                   0           0   \n",
        "30            27975         516.37                   0           0   \n",
        "31             4200          61.50                   0           0   \n",
        "32            20650         421.61                   0           0   \n",
        "33            13200         179.19                   0           0   \n",
        "34             5000          60.38                   0           0   \n",
        "35            10000          97.25                   0           0   \n",
        "36            35000         752.50                   0           0   \n",
        "37            15000         174.75                   0           0   \n",
        "38            18000         224.85                   0           0   \n",
        "39            20000         230.61                   0           0   \n",
        "40             1200          12.99                   0           0   \n",
        "41            35000         437.21                   0           0   \n",
        "42            25000         135.21                   0           0   \n",
        "43             7200         120.35                   0           0   \n",
        "44            17000         181.56                   0           0   \n",
        "45            20000         152.83                   0           0   \n",
        "46             7075         100.17                   0           0   \n",
        "47            22650         969.90                   0           0   \n",
        "48            30000        1277.95                   0           0   \n",
        "49            22675         396.63                   0           0   \n",
        "\n",
        "    collection_recovery_fee  last_pymnt_d  last_pymnt_amnt next_pymnt_d  \\\n",
        "20                        0    2014-10-01         19478.02          NaN   \n",
        "21                        0    2014-10-01         14391.64          NaN   \n",
        "22                        0    2014-10-01          7327.29          NaN   \n",
        "23                        0    2014-10-01         14573.88          NaN   \n",
        "24                        0    2014-10-01          3034.95          NaN   \n",
        "25                        0    2014-11-01          6529.20          NaN   \n",
        "26                        0    2014-10-01         10084.58          NaN   \n",
        "27                        0    2014-10-01         10084.59          NaN   \n",
        "28                        0    2014-10-01          6114.95          NaN   \n",
        "29                        0    2014-10-01         12175.70          NaN   \n",
        "30                        0    2014-10-01         28491.37          NaN   \n",
        "31                        0    2014-10-01          4261.50          NaN   \n",
        "32                        0    2014-10-01         21071.61          NaN   \n",
        "33                        0    2014-10-01         13379.19          NaN   \n",
        "34                        0    2014-10-01          5060.38          NaN   \n",
        "35                        0    2014-10-01         10097.25          NaN   \n",
        "36                        0    2014-10-01         35752.50          NaN   \n",
        "37                        0    2014-10-01         15174.75          NaN   \n",
        "38                        0    2014-10-01         18224.85          NaN   \n",
        "39                        0    2014-10-01         20230.61          NaN   \n",
        "40                        0    2014-10-01          1212.99          NaN   \n",
        "41                        0    2014-10-01         35437.21          NaN   \n",
        "42                        0    2014-10-01         25135.21          NaN   \n",
        "43                        0    2014-11-01          7087.51          NaN   \n",
        "44                        0    2014-11-01         16660.60          NaN   \n",
        "45                        0    2014-10-01         20152.83          NaN   \n",
        "46                        0    2014-10-01          7175.17          NaN   \n",
        "47                        0    2014-11-01         22944.42          NaN   \n",
        "48                        0    2014-11-01         30072.42          NaN   \n",
        "49                        0    2014-10-01         23071.63          NaN   \n",
        "\n",
        "   last_credit_pull_d  collections_12_mths_ex_med  \\\n",
        "20           Nov-2014                           0   \n",
        "21           Nov-2014                           0   \n",
        "22           Oct-2014                           0   \n",
        "23           Nov-2014                           0   \n",
        "24           Oct-2014                           0   \n",
        "25           Nov-2014                           0   \n",
        "26           Oct-2014                           0   \n",
        "27           Oct-2014                           0   \n",
        "28           Nov-2014                           0   \n",
        "29           Oct-2014                           0   \n",
        "30           Nov-2014                           0   \n",
        "31           Nov-2014                           0   \n",
        "32           Oct-2014                           0   \n",
        "33           Nov-2014                           0   \n",
        "34           Oct-2014                           0   \n",
        "35           Oct-2014                           0   \n",
        "36           Nov-2014                           0   \n",
        "37           Nov-2014                           0   \n",
        "38           Oct-2014                           0   \n",
        "39           Oct-2014                           0   \n",
        "40           Oct-2014                           0   \n",
        "41           Oct-2014                           0   \n",
        "42           Oct-2014                           0   \n",
        "43           Nov-2014                           0   \n",
        "44           Nov-2014                           0   \n",
        "45           Oct-2014                           0   \n",
        "46           Nov-2014                           0   \n",
        "47           Nov-2014                           0   \n",
        "48           Nov-2014                           0   \n",
        "49           Oct-2014                           0   \n",
        "\n",
        "    mths_since_last_major_derog  policy_code  A  B  C  D  E  F  G  ANY  \\\n",
        "20                           -1            1  0  0  0  0  1  0  0    0   \n",
        "21                           65            1  1  0  0  0  0  0  0    0   \n",
        "22                           -1            1  0  0  0  1  0  0  0    0   \n",
        "23                           60            1  0  0  1  0  0  0  0    0   \n",
        "24                           -1            1  0  0  1  0  0  0  0    0   \n",
        "25                           -1            1  0  0  0  1  0  0  0    0   \n",
        "26                           66            1  0  1  0  0  0  0  0    0   \n",
        "27                           -1            1  0  1  0  0  0  0  0    0   \n",
        "28                           -1            1  0  0  1  0  0  0  0    0   \n",
        "29                           -1            1  0  0  0  1  0  0  0    0   \n",
        "30                           -1            1  0  0  0  0  1  0  0    0   \n",
        "31                            7            1  0  0  0  1  0  0  0    0   \n",
        "32                           43            1  0  0  0  0  0  1  0    0   \n",
        "33                           60            1  0  0  0  1  0  0  0    0   \n",
        "34                           -1            1  0  0  1  0  0  0  0    0   \n",
        "35                           -1            1  0  1  0  0  0  0  0    0   \n",
        "36                           -1            1  0  0  0  0  0  0  1    0   \n",
        "37                           -1            1  0  0  1  0  0  0  0    0   \n",
        "38                           -1            1  0  0  1  0  0  0  0    0   \n",
        "39                           -1            1  0  0  1  0  0  0  0    0   \n",
        "40                           -1            1  0  0  1  0  0  0  0    0   \n",
        "41                           -1            1  0  0  1  0  0  0  0    0   \n",
        "42                           -1            1  1  0  0  0  0  0  0    0   \n",
        "43                           70            1  0  1  0  0  0  0  0    0   \n",
        "44                           -1            1  1  0  0  0  0  0  0    0   \n",
        "45                           -1            1  0  1  0  0  0  0  0    0   \n",
        "46                           -1            1  0  0  0  1  0  0  0    0   \n",
        "47                           -1            1  0  0  0  0  0  0  1    0   \n",
        "48                           -1            1  0  0  0  0  0  0  1    0   \n",
        "49                           -1            1  0  0  0  0  1  0  0    0   \n",
        "\n",
        "    MORTGAGE  OWN  RENT  days_active  issue_month  issue_year  \\\n",
        "20         0    0     1           30            9        2014   \n",
        "21         1    0     0           30            9        2014   \n",
        "22         0    1     0           30            9        2014   \n",
        "23         0    0     1           30            9        2014   \n",
        "24         1    0     0           30            9        2014   \n",
        "25         1    0     0           61            9        2014   \n",
        "26         1    0     0           30            9        2014   \n",
        "27         0    0     1           30            9        2014   \n",
        "28         0    1     0           30            9        2014   \n",
        "29         1    0     0           30            9        2014   \n",
        "30         0    0     1           30            9        2014   \n",
        "31         0    0     1           30            9        2014   \n",
        "32         0    1     0           30            9        2014   \n",
        "33         1    0     0           30            9        2014   \n",
        "34         1    0     0           30            9        2014   \n",
        "35         1    0     0           30            9        2014   \n",
        "36         1    0     0           30            9        2014   \n",
        "37         0    0     1           30            9        2014   \n",
        "38         0    0     1           30            9        2014   \n",
        "39         0    0     1           30            9        2014   \n",
        "40         1    0     0           30            9        2014   \n",
        "41         1    0     0           30            9        2014   \n",
        "42         1    0     0           30            9        2014   \n",
        "43         0    0     1           61            9        2014   \n",
        "44         1    0     0           61            9        2014   \n",
        "45         0    0     1           30            9        2014   \n",
        "46         1    0     0           30            9        2014   \n",
        "47         1    0     0           61            9        2014   \n",
        "48         1    0     0           61            9        2014   \n",
        "49         1    0     0           30            9        2014   \n",
        "\n",
        "    last_pymnt_month  last_pymnt_year  car  credit_card  debt_consolidation  \\\n",
        "20                10             2014    0            0                   1   \n",
        "21                10             2014    0            0                   1   \n",
        "22                10             2014    0            0                   1   \n",
        "23                10             2014    0            0                   0   \n",
        "24                10             2014    0            0                   1   \n",
        "25                11             2014    0            1                   0   \n",
        "26                10             2014    0            0                   1   \n",
        "27                10             2014    0            0                   1   \n",
        "28                10             2014    0            0                   1   \n",
        "29                10             2014    0            0                   1   \n",
        "30                10             2014    0            0                   0   \n",
        "31                10             2014    0            0                   1   \n",
        "32                10             2014    0            0                   1   \n",
        "33                10             2014    0            0                   1   \n",
        "34                10             2014    0            0                   1   \n",
        "35                10             2014    0            0                   1   \n",
        "36                10             2014    0            0                   1   \n",
        "37                10             2014    0            0                   0   \n",
        "38                10             2014    0            0                   1   \n",
        "39                10             2014    0            0                   1   \n",
        "40                10             2014    0            0                   0   \n",
        "41                10             2014    0            0                   0   \n",
        "42                10             2014    0            0                   1   \n",
        "43                11             2014    0            0                   0   \n",
        "44                11             2014    0            0                   1   \n",
        "45                10             2014    0            0                   1   \n",
        "46                10             2014    0            0                   1   \n",
        "47                11             2014    0            0                   1   \n",
        "48                11             2014    0            0                   0   \n",
        "49                10             2014    0            0                   1   \n",
        "\n",
        "    home_improvement  house  major_purchase  medical  moving  other  \\\n",
        "20                 0      0               0        0       0      0   \n",
        "21                 0      0               0        0       0      0   \n",
        "22                 0      0               0        0       0      0   \n",
        "23                 0      0               0        0       0      1   \n",
        "24                 0      0               0        0       0      0   \n",
        "25                 0      0               0        0       0      0   \n",
        "26                 0      0               0        0       0      0   \n",
        "27                 0      0               0        0       0      0   \n",
        "28                 0      0               0        0       0      0   \n",
        "29                 0      0               0        0       0      0   \n",
        "30                 0      0               0        0       0      0   \n",
        "31                 0      0               0        0       0      0   \n",
        "32                 0      0               0        0       0      0   \n",
        "33                 0      0               0        0       0      0   \n",
        "34                 0      0               0        0       0      0   \n",
        "35                 0      0               0        0       0      0   \n",
        "36                 0      0               0        0       0      0   \n",
        "37                 0      1               0        0       0      0   \n",
        "38                 0      0               0        0       0      0   \n",
        "39                 0      0               0        0       0      0   \n",
        "40                 0      0               0        0       0      0   \n",
        "41                 1      0               0        0       0      0   \n",
        "42                 0      0               0        0       0      0   \n",
        "43                 0      0               0        0       0      1   \n",
        "44                 0      0               0        0       0      0   \n",
        "45                 0      0               0        0       0      0   \n",
        "46                 0      0               0        0       0      0   \n",
        "47                 0      0               0        0       0      0   \n",
        "48                 0      0               0        0       0      1   \n",
        "49                 0      0               0        0       0      0   \n",
        "\n",
        "    renewable_energy  small_business  vacation  wedding  AK  AL  AR  AZ  CA  \\\n",
        "20                 0               0         0        0   0   0   0   0   1   \n",
        "21                 0               0         0        0   0   0   0   0   0   \n",
        "22                 0               0         0        0   0   0   0   0   0   \n",
        "23                 0               0         0        0   0   0   0   0   0   \n",
        "24                 0               0         0        0   0   0   0   0   0   \n",
        "25                 0               0         0        0   0   0   0   0   0   \n",
        "26                 0               0         0        0   0   0   0   0   0   \n",
        "27                 0               0         0        0   0   0   0   0   0   \n",
        "28                 0               0         0        0   0   0   0   0   0   \n",
        "29                 0               0         0        0   0   0   0   0   0   \n",
        "30                 0               1         0        0   0   0   0   0   0   \n",
        "31                 0               0         0        0   0   0   0   0   0   \n",
        "32                 0               0         0        0   0   0   0   0   0   \n",
        "33                 0               0         0        0   0   0   0   0   0   \n",
        "34                 0               0         0        0   0   0   0   0   1   \n",
        "35                 0               0         0        0   0   0   0   0   0   \n",
        "36                 0               0         0        0   0   0   0   0   0   \n",
        "37                 0               0         0        0   0   0   0   0   0   \n",
        "38                 0               0         0        0   0   0   0   0   0   \n",
        "39                 0               0         0        0   0   0   0   0   0   \n",
        "40                 0               1         0        0   0   0   0   0   0   \n",
        "41                 0               0         0        0   0   0   0   0   0   \n",
        "42                 0               0         0        0   0   0   0   0   0   \n",
        "43                 0               0         0        0   0   0   0   0   0   \n",
        "44                 0               0         0        0   0   0   0   0   0   \n",
        "45                 0               0         0        0   0   0   0   0   0   \n",
        "46                 0               0         0        0   0   0   0   0   0   \n",
        "47                 0               0         0        0   0   0   0   0   1   \n",
        "48                 0               0         0        0   0   0   0   0   0   \n",
        "49                 0               0         0        0   0   0   0   0   0   \n",
        "\n",
        "    CO  CT  DC  DE  FL  GA  HI  IL  IN  KS  KY  LA  MA  MD  MI  MN  MO  MS  \\\n",
        "20   0   0   0   0   0   0   0   0   0   0   0   0   0   0   0   0   0   0   \n",
        "21   0   0   0   0   0   0   0   0   0   0   0   0   0   0   0   0   0   0   \n",
        "22   0   0   0   0   1   0   0   0   0   0   0   0   0   0   0   0   0   0   \n",
        "23   0   0   0   0   0   0   0   0   0   0   0   0   0   0   0   0   0   0   \n",
        "24   0   0   0   0   0   0   0   0   0   0   0   0   0   0   1   0   0   0   \n",
        "25   0   0   0   0   0   0   0   0   0   0   0   0   0   0   0   0   0   0   \n",
        "26   0   0   0   0   1   0   0   0   0   0   0   0   0   0   0   0   0   0   \n",
        "27   0   0   0   0   0   0   0   0   0   0   0   0   0   0   0   0   0   0   \n",
        "28   0   0   0   0   0   0   0   0   0   0   0   0   0   1   0   0   0   0   \n",
        "29   0   0   0   0   0   0   0   0   0   0   0   0   0   0   0   0   0   0   \n",
        "30   0   0   0   0   0   0   0   0   0   0   0   0   0   0   0   0   0   0   \n",
        "31   0   0   0   0   0   0   0   0   0   0   0   0   0   0   1   0   0   0   \n",
        "32   0   0   0   0   0   1   0   0   0   0   0   0   0   0   0   0   0   0   \n",
        "33   0   1   0   0   0   0   0   0   0   0   0   0   0   0   0   0   0   0   \n",
        "34   0   0   0   0   0   0   0   0   0   0   0   0   0   0   0   0   0   0   \n",
        "35   0   0   0   0   0   0   0   0   0   0   0   0   0   0   0   0   0   0   \n",
        "36   0   0   0   0   0   0   0   0   0   0   0   0   0   0   0   0   0   0   \n",
        "37   0   0   0   0   0   0   0   0   0   0   0   0   0   0   0   0   0   0   \n",
        "38   0   0   0   0   0   0   0   0   0   0   0   0   0   0   0   0   0   0   \n",
        "39   0   0   0   0   0   0   0   0   0   0   0   0   0   0   0   0   0   0   \n",
        "40   0   0   0   0   0   0   0   0   0   0   0   0   0   0   0   0   0   0   \n",
        "41   0   0   0   0   0   0   0   0   0   0   0   0   0   1   0   0   0   0   \n",
        "42   0   0   0   0   1   0   0   0   0   0   0   0   0   0   0   0   0   0   \n",
        "43   0   0   0   0   1   0   0   0   0   0   0   0   0   0   0   0   0   0   \n",
        "44   0   0   0   0   0   0   0   0   0   0   0   0   0   0   0   0   0   0   \n",
        "45   0   0   0   0   0   0   0   1   0   0   0   0   0   0   0   0   0   0   \n",
        "46   0   0   0   0   0   0   0   0   0   0   1   0   0   0   0   0   0   0   \n",
        "47   0   0   0   0   0   0   0   0   0   0   0   0   0   0   0   0   0   0   \n",
        "48   0   0   0   0   1   0   0   0   0   0   0   0   0   0   0   0   0   0   \n",
        "49   0   0   0   0   0   1   0   0   0   0   0   0   0   0   0   0   0   0   \n",
        "\n",
        "    MT  NC  NH  NJ  NM  NV  NY  OH  OK  OR  PA  RI  SC  SD  TN  TX  UT  VA  \\\n",
        "20   0   0   0   0   0   0   0   0   0   0   0   0   0   0   0   0   0   0   \n",
        "21   0   0   0   0   0   0   0   1   0   0   0   0   0   0   0   0   0   0   \n",
        "22   0   0   0   0   0   0   0   0   0   0   0   0   0   0   0   0   0   0   \n",
        "23   0   0   0   0   0   0   0   0   0   0   0   1   0   0   0   0   0   0   \n",
        "24   0   0   0   0   0   0   0   0   0   0   0   0   0   0   0   0   0   0   \n",
        "25   0   0   0   0   0   0   0   0   0   0   0   0   0   0   0   1   0   0   \n",
        "26   0   0   0   0   0   0   0   0   0   0   0   0   0   0   0   0   0   0   \n",
        "27   0   0   0   0   0   0   0   0   0   0   0   0   0   0   0   0   1   0   \n",
        "28   0   0   0   0   0   0   0   0   0   0   0   0   0   0   0   0   0   0   \n",
        "29   0   0   0   0   0   0   0   0   0   0   0   0   0   0   0   0   0   0   \n",
        "30   0   0   0   0   0   0   1   0   0   0   0   0   0   0   0   0   0   0   \n",
        "31   0   0   0   0   0   0   0   0   0   0   0   0   0   0   0   0   0   0   \n",
        "32   0   0   0   0   0   0   0   0   0   0   0   0   0   0   0   0   0   0   \n",
        "33   0   0   0   0   0   0   0   0   0   0   0   0   0   0   0   0   0   0   \n",
        "34   0   0   0   0   0   0   0   0   0   0   0   0   0   0   0   0   0   0   \n",
        "35   0   0   0   0   0   0   0   0   0   0   0   0   0   0   0   0   0   0   \n",
        "36   0   0   0   0   0   0   0   1   0   0   0   0   0   0   0   0   0   0   \n",
        "37   0   0   0   1   0   0   0   0   0   0   0   0   0   0   0   0   0   0   \n",
        "38   0   0   0   0   1   0   0   0   0   0   0   0   0   0   0   0   0   0   \n",
        "39   0   0   0   0   0   0   1   0   0   0   0   0   0   0   0   0   0   0   \n",
        "40   0   0   0   0   0   1   0   0   0   0   0   0   0   0   0   0   0   0   \n",
        "41   0   0   0   0   0   0   0   0   0   0   0   0   0   0   0   0   0   0   \n",
        "42   0   0   0   0   0   0   0   0   0   0   0   0   0   0   0   0   0   0   \n",
        "43   0   0   0   0   0   0   0   0   0   0   0   0   0   0   0   0   0   0   \n",
        "44   0   0   0   0   0   0   0   0   0   0   0   0   0   0   0   1   0   0   \n",
        "45   0   0   0   0   0   0   0   0   0   0   0   0   0   0   0   0   0   0   \n",
        "46   0   0   0   0   0   0   0   0   0   0   0   0   0   0   0   0   0   0   \n",
        "47   0   0   0   0   0   0   0   0   0   0   0   0   0   0   0   0   0   0   \n",
        "48   0   0   0   0   0   0   0   0   0   0   0   0   0   0   0   0   0   0   \n",
        "49   0   0   0   0   0   0   0   0   0   0   0   0   0   0   0   0   0   0   \n",
        "\n",
        "    VT  WA  WI  WV  WY  yrs_since_first_cr_line  desc_length  title_length  \\\n",
        "20   0   0   0   0   0                       20            3            18   \n",
        "21   0   0   0   0   0                       37            3            18   \n",
        "22   0   0   0   0   0                       16            3            18   \n",
        "23   0   0   0   0   0                       12            3             5   \n",
        "24   0   0   0   0   0                       30            3            18   \n",
        "25   0   0   0   0   0                       16            3            23   \n",
        "26   0   0   0   0   0                       11            3            18   \n",
        "27   0   0   0   0   0                       19            3            18   \n",
        "28   0   0   0   0   0                       10            3            18   \n",
        "29   0   1   0   0   0                       18            3            18   \n",
        "30   0   0   0   0   0                       12            3             8   \n",
        "31   0   0   0   0   0                       17            3            18   \n",
        "32   0   0   0   0   0                       19            3            18   \n",
        "33   0   0   0   0   0                       15            3            18   \n",
        "34   0   0   0   0   0                       15            3            18   \n",
        "35   0   0   1   0   0                       15            3            18   \n",
        "36   0   0   0   0   0                       12            3            18   \n",
        "37   0   0   0   0   0                       16            3            11   \n",
        "38   0   0   0   0   0                       13            3            18   \n",
        "39   0   0   0   0   0                       25            3            18   \n",
        "40   0   0   0   0   0                       14            3             8   \n",
        "41   0   0   0   0   0                       19            3            16   \n",
        "42   0   0   0   0   0                       20            3            18   \n",
        "43   0   0   0   0   0                       17            3             5   \n",
        "44   0   0   0   0   0                       12            3            18   \n",
        "45   0   0   0   0   0                       14            3            18   \n",
        "46   0   0   0   0   0                       13            3            18   \n",
        "47   0   0   0   0   0                       14            3            18   \n",
        "48   0   0   0   0   0                       14            3             5   \n",
        "49   0   0   0   0   0                       14            3            18   \n",
        "\n",
        "    install_frac_of_monthly_inc  unemp_rate_12mths  unemp_rate_6mths  \\\n",
        "20                     0.112822                8.5               8.4   \n",
        "21                     0.068626                7.1               6.2   \n",
        "22                     0.049850                7.1               6.4   \n",
        "23                     0.069967                9.0               9.1   \n",
        "24                     0.012301                8.2               8.0   \n",
        "25                     0.039297                6.2               5.3   \n",
        "26                     0.121268                7.1               6.4   \n",
        "27                     0.047324                4.0               4.4   \n",
        "28                     0.047654                6.2               5.8   \n",
        "29                     0.097923                6.4               6.9   \n",
        "30                     0.183523                7.4               7.2   \n",
        "31                     0.027866                8.2               8.0   \n",
        "32                     0.118047                7.8               7.0   \n",
        "33                     0.072619                7.5               7.4   \n",
        "34                     0.016521                8.5               8.4   \n",
        "35                     0.072124                6.0               6.7   \n",
        "36                     0.119289                7.1               6.2   \n",
        "37                     0.068336                7.7               7.6   \n",
        "38                     0.114168                6.6               7.3   \n",
        "39                     0.077005                7.4               7.2   \n",
        "40                     0.012440                9.5               8.7   \n",
        "41                     0.090815                6.2               5.8   \n",
        "42                     0.096773                7.1               6.4   \n",
        "43                     0.023753                7.1               6.4   \n",
        "44                     0.062279                6.2               5.3   \n",
        "45                     0.050018                8.6               8.3   \n",
        "46                     0.055028                7.9               8.4   \n",
        "47                     0.081058                8.5               8.4   \n",
        "48                     0.078197                7.1               6.4   \n",
        "49                     0.116821                7.8               7.0   \n",
        "\n",
        "    unemp_rate_3mths  \n",
        "20               7.3  \n",
        "21               5.9  \n",
        "22               6.3  \n",
        "23               7.1  \n",
        "24               7.9  \n",
        "25               5.5  \n",
        "26               6.3  \n",
        "27               3.9  \n",
        "28               6.2  \n",
        "29               5.3  \n",
        "30               6.5  \n",
        "31               7.9  \n",
        "32               7.8  \n",
        "33               6.5  \n",
        "34               7.3  \n",
        "35               6.0  \n",
        "36               5.9  \n",
        "37               6.4  \n",
        "38               7.3  \n",
        "39               6.5  \n",
        "40               7.8  \n",
        "41               6.2  \n",
        "42               6.3  \n",
        "43               6.3  \n",
        "44               5.5  \n",
        "45               7.1  \n",
        "46               7.4  \n",
        "47               7.3  \n",
        "48               6.3  \n",
        "49               7.8  \n",
        "\n",
        "[30 rows x 132 columns]"
       ]
      }
     ],
     "prompt_number": 22
    },
    {
     "cell_type": "code",
     "collapsed": false,
     "input": [
      "np.sum(loanData['loan_status'] == 1)"
     ],
     "language": "python",
     "metadata": {},
     "outputs": [
      {
       "metadata": {},
       "output_type": "pyout",
       "prompt_number": 24,
       "text": [
        "7946"
       ]
      }
     ],
     "prompt_number": 24
    },
    {
     "cell_type": "code",
     "collapsed": false,
     "input": [
      "loanData = loanData[loanData['annual_inc'] > 0]"
     ],
     "language": "python",
     "metadata": {},
     "outputs": [],
     "prompt_number": 161
    },
    {
     "cell_type": "code",
     "collapsed": false,
     "input": [
      "loanData = loanData.drop(['days_active'], 1)"
     ],
     "language": "python",
     "metadata": {},
     "outputs": [],
     "prompt_number": 162
    },
    {
     "cell_type": "code",
     "collapsed": false,
     "input": [
      "loanData = loanData.dropna()"
     ],
     "language": "python",
     "metadata": {},
     "outputs": [],
     "prompt_number": 163
    },
    {
     "cell_type": "code",
     "collapsed": false,
     "input": [
      "loanData = loanData[loanData['last_pymnt_d'] != 'NaT']\n",
      "loanData.index = range(len(loanData))"
     ],
     "language": "python",
     "metadata": {},
     "outputs": [
      {
       "output_type": "stream",
       "stream": "stdout",
       "text": [
        "\n"
       ]
      }
     ],
     "prompt_number": 6
    },
    {
     "cell_type": "code",
     "collapsed": false,
     "input": [
      "loanData['issue_d'] = [datetime.strptime(str(x), '%Y-%m-%d %H:%M:%S') for x in loanData['issue_d']]\n",
      "loanData['last_pymnt_d'] = [datetime.strptime(str(x), '%Y-%m-%d %H:%M:%S') for x in loanData['last_pymnt_d']]"
     ],
     "language": "python",
     "metadata": {},
     "outputs": [],
     "prompt_number": 8
    },
    {
     "cell_type": "code",
     "collapsed": false,
     "input": [
      "loanData['last_pymnt_d'].astype(str)"
     ],
     "language": "python",
     "metadata": {},
     "outputs": [
      {
       "metadata": {},
       "output_type": "pyout",
       "prompt_number": 17,
       "text": [
        "0     2011-10-19 00:00:00\n",
        "1     2010-03-19 00:00:00\n",
        "2     2011-06-19 00:00:00\n",
        "3     2008-10-19 00:00:00\n",
        "4     2013-03-19 00:00:00\n",
        "5     2012-11-19 00:00:00\n",
        "6     2014-06-19 00:00:00\n",
        "7     2011-04-19 00:00:00\n",
        "8     2012-10-19 00:00:00\n",
        "9     2012-03-19 00:00:00\n",
        "10    2012-10-19 00:00:00\n",
        "11    2011-02-19 00:00:00\n",
        "12    2011-06-19 00:00:00\n",
        "13    2008-12-19 00:00:00\n",
        "14    2010-05-19 00:00:00\n",
        "...\n",
        "98197    2014-10-19 00:00:00\n",
        "98198    2014-10-19 00:00:00\n",
        "98199    2014-10-19 00:00:00\n",
        "98200    2014-10-19 00:00:00\n",
        "98201    2014-10-19 00:00:00\n",
        "98202    2014-10-19 00:00:00\n",
        "98203    2014-10-19 00:00:00\n",
        "98204    2014-10-19 00:00:00\n",
        "98205    2014-10-19 00:00:00\n",
        "98206    2014-10-19 00:00:00\n",
        "98207    2014-10-19 00:00:00\n",
        "98208    2014-10-19 00:00:00\n",
        "98209    2014-10-19 00:00:00\n",
        "98210    2014-10-19 00:00:00\n",
        "98211    2014-10-19 00:00:00\n",
        "Name: last_pymnt_d, Length: 98212, dtype: object"
       ]
      }
     ],
     "prompt_number": 17
    },
    {
     "cell_type": "code",
     "collapsed": false,
     "input": [
      "days_active = [(loanData['last_pymnt_d'][i] - loanData['issue_d'][i]).days for i in range(len(loanData))]"
     ],
     "language": "python",
     "metadata": {},
     "outputs": [],
     "prompt_number": 179
    },
    {
     "cell_type": "code",
     "collapsed": false,
     "input": [
      "loanData['days_active'] = days_active"
     ],
     "language": "python",
     "metadata": {},
     "outputs": [],
     "prompt_number": 181
    },
    {
     "cell_type": "code",
     "collapsed": false,
     "input": [
      "loanData.index = range(len(loanData))"
     ],
     "language": "python",
     "metadata": {},
     "outputs": [],
     "prompt_number": 55
    },
    {
     "cell_type": "code",
     "collapsed": false,
     "input": [
      "days_active = [(loanData['last_pymnt_d'][i]-loanData['issue_d'][i]).days for i in range(len(loanData['last_pymnt_d']))]"
     ],
     "language": "python",
     "metadata": {},
     "outputs": [
      {
       "ename": "OverflowError",
       "evalue": "days=1768571585; must have magnitude <= 999999999",
       "output_type": "pyerr",
       "traceback": [
        "\u001b[0;31m---------------------------------------------------------------------------\u001b[0m\n\u001b[0;31mOverflowError\u001b[0m                             Traceback (most recent call last)",
        "\u001b[0;32m<ipython-input-103-0288c56fb1e5>\u001b[0m in \u001b[0;36m<module>\u001b[0;34m()\u001b[0m\n\u001b[0;32m----> 1\u001b[0;31m \u001b[0mdays_active\u001b[0m \u001b[0;34m=\u001b[0m \u001b[0;34m[\u001b[0m\u001b[0;34m(\u001b[0m\u001b[0mloanData\u001b[0m\u001b[0;34m[\u001b[0m\u001b[0;34m'last_pymnt_d'\u001b[0m\u001b[0;34m]\u001b[0m\u001b[0;34m[\u001b[0m\u001b[0mi\u001b[0m\u001b[0;34m]\u001b[0m\u001b[0;34m-\u001b[0m\u001b[0mloanData\u001b[0m\u001b[0;34m[\u001b[0m\u001b[0;34m'issue_d'\u001b[0m\u001b[0;34m]\u001b[0m\u001b[0;34m[\u001b[0m\u001b[0mi\u001b[0m\u001b[0;34m]\u001b[0m\u001b[0;34m)\u001b[0m\u001b[0;34m.\u001b[0m\u001b[0mdays\u001b[0m \u001b[0;32mfor\u001b[0m \u001b[0mi\u001b[0m \u001b[0;32min\u001b[0m \u001b[0mrange\u001b[0m\u001b[0;34m(\u001b[0m\u001b[0mlen\u001b[0m\u001b[0;34m(\u001b[0m\u001b[0mloanData\u001b[0m\u001b[0;34m[\u001b[0m\u001b[0;34m'last_pymnt_d'\u001b[0m\u001b[0;34m]\u001b[0m\u001b[0;34m)\u001b[0m\u001b[0;34m)\u001b[0m\u001b[0;34m]\u001b[0m\u001b[0;34m\u001b[0m\u001b[0m\n\u001b[0m",
        "\u001b[0;32m/Library/Python/2.7/site-packages/pandas/tslib.so\u001b[0m in \u001b[0;36mpandas.tslib._Timestamp.__sub__ (pandas/tslib.c:11918)\u001b[0;34m()\u001b[0m\n",
        "\u001b[0;31mOverflowError\u001b[0m: days=1768571585; must have magnitude <= 999999999"
       ]
      }
     ],
     "prompt_number": 103
    },
    {
     "cell_type": "code",
     "collapsed": false,
     "input": [
      "mysql = mysql_connector.MySQL_Connector()\n",
      "mysql.connect()"
     ],
     "language": "python",
     "metadata": {},
     "outputs": [],
     "prompt_number": 108
    },
    {
     "cell_type": "code",
     "collapsed": false,
     "input": [
      "int_rate_swap_tuple = mysql.execute(\"SELECT * FROM interest_rate_swaps\")\n",
      "\n",
      "int_rate_swap_dict = dict()\n",
      "for entry in int_rate_swap_tuple:\n",
      "\tint_rate_swap_year = entry[1]\n",
      "\tint_rate_swap_rate = entry[3]\n",
      "\tint_rate_swap_dict[int_rate_swap_year] = int_rate_swap_rate\n",
      "\tunemp_rate_dict[key] = unemp_rate\n",
      "loanData['implied_risk'] = 0\n",
      "for i in range(len(loanData)):\n",
      "    swap_rate_i = int_rate_swap_dict[loanData['issue_year'][i]]\n",
      "    int_rate_i = loanData['int_rate'][i]\n",
      "    impl_risk = int_rate_i - swap_rate_i\n",
      "    loanData['implied_risk'].iloc[i] = impl_risk"
     ],
     "language": "python",
     "metadata": {},
     "outputs": [
      {
       "ename": "KeyError",
       "evalue": "24439",
       "output_type": "pyerr",
       "traceback": [
        "\u001b[0;31m---------------------------------------------------------------------------\u001b[0m\n\u001b[0;31mKeyError\u001b[0m                                  Traceback (most recent call last)",
        "\u001b[0;32m<ipython-input-106-104192ae7c8f>\u001b[0m in \u001b[0;36m<module>\u001b[0;34m()\u001b[0m\n\u001b[1;32m      9\u001b[0m \u001b[0mloanData\u001b[0m\u001b[0;34m[\u001b[0m\u001b[0;34m'implied_risk'\u001b[0m\u001b[0;34m]\u001b[0m \u001b[0;34m=\u001b[0m \u001b[0;36m0\u001b[0m\u001b[0;34m\u001b[0m\u001b[0m\n\u001b[1;32m     10\u001b[0m \u001b[0;32mfor\u001b[0m \u001b[0mi\u001b[0m \u001b[0;32min\u001b[0m \u001b[0mrange\u001b[0m\u001b[0;34m(\u001b[0m\u001b[0mlen\u001b[0m\u001b[0;34m(\u001b[0m\u001b[0mloanData\u001b[0m\u001b[0;34m)\u001b[0m\u001b[0;34m)\u001b[0m\u001b[0;34m:\u001b[0m\u001b[0;34m\u001b[0m\u001b[0m\n\u001b[0;32m---> 11\u001b[0;31m     \u001b[0mswap_rate_i\u001b[0m \u001b[0;34m=\u001b[0m \u001b[0mint_rate_swap_dict\u001b[0m\u001b[0;34m[\u001b[0m\u001b[0mloanData\u001b[0m\u001b[0;34m[\u001b[0m\u001b[0;34m'issue_year'\u001b[0m\u001b[0;34m]\u001b[0m\u001b[0;34m[\u001b[0m\u001b[0mi\u001b[0m\u001b[0;34m]\u001b[0m\u001b[0;34m]\u001b[0m\u001b[0;34m\u001b[0m\u001b[0m\n\u001b[0m\u001b[1;32m     12\u001b[0m     \u001b[0mint_rate_i\u001b[0m \u001b[0;34m=\u001b[0m \u001b[0mloanData\u001b[0m\u001b[0;34m[\u001b[0m\u001b[0;34m'int_rate'\u001b[0m\u001b[0;34m]\u001b[0m\u001b[0;34m[\u001b[0m\u001b[0mi\u001b[0m\u001b[0;34m]\u001b[0m\u001b[0;34m\u001b[0m\u001b[0m\n\u001b[1;32m     13\u001b[0m     \u001b[0mimpl_risk\u001b[0m \u001b[0;34m=\u001b[0m \u001b[0mint_rate_i\u001b[0m \u001b[0;34m-\u001b[0m \u001b[0mswap_rate_i\u001b[0m\u001b[0;34m\u001b[0m\u001b[0m\n",
        "\u001b[0;32m/Library/Python/2.7/site-packages/pandas/core/series.pyc\u001b[0m in \u001b[0;36m__getitem__\u001b[0;34m(self, key)\u001b[0m\n\u001b[1;32m    489\u001b[0m     \u001b[0;32mdef\u001b[0m \u001b[0m__getitem__\u001b[0m\u001b[0;34m(\u001b[0m\u001b[0mself\u001b[0m\u001b[0;34m,\u001b[0m \u001b[0mkey\u001b[0m\u001b[0;34m)\u001b[0m\u001b[0;34m:\u001b[0m\u001b[0;34m\u001b[0m\u001b[0m\n\u001b[1;32m    490\u001b[0m         \u001b[0;32mtry\u001b[0m\u001b[0;34m:\u001b[0m\u001b[0;34m\u001b[0m\u001b[0m\n\u001b[0;32m--> 491\u001b[0;31m             \u001b[0mresult\u001b[0m \u001b[0;34m=\u001b[0m \u001b[0mself\u001b[0m\u001b[0;34m.\u001b[0m\u001b[0mindex\u001b[0m\u001b[0;34m.\u001b[0m\u001b[0mget_value\u001b[0m\u001b[0;34m(\u001b[0m\u001b[0mself\u001b[0m\u001b[0;34m,\u001b[0m \u001b[0mkey\u001b[0m\u001b[0;34m)\u001b[0m\u001b[0;34m\u001b[0m\u001b[0m\n\u001b[0m\u001b[1;32m    492\u001b[0m             \u001b[0;32mif\u001b[0m \u001b[0misinstance\u001b[0m\u001b[0;34m(\u001b[0m\u001b[0mresult\u001b[0m\u001b[0;34m,\u001b[0m \u001b[0mnp\u001b[0m\u001b[0;34m.\u001b[0m\u001b[0mndarray\u001b[0m\u001b[0;34m)\u001b[0m\u001b[0;34m:\u001b[0m\u001b[0;34m\u001b[0m\u001b[0m\n\u001b[1;32m    493\u001b[0m                 \u001b[0;32mreturn\u001b[0m \u001b[0mself\u001b[0m\u001b[0;34m.\u001b[0m\u001b[0m_constructor\u001b[0m\u001b[0;34m(\u001b[0m\u001b[0mresult\u001b[0m\u001b[0;34m,\u001b[0m\u001b[0mindex\u001b[0m\u001b[0;34m=\u001b[0m\u001b[0;34m[\u001b[0m\u001b[0mkey\u001b[0m\u001b[0;34m]\u001b[0m\u001b[0;34m*\u001b[0m\u001b[0mlen\u001b[0m\u001b[0;34m(\u001b[0m\u001b[0mresult\u001b[0m\u001b[0;34m)\u001b[0m\u001b[0;34m)\u001b[0m\u001b[0;34m.\u001b[0m\u001b[0m__finalize__\u001b[0m\u001b[0;34m(\u001b[0m\u001b[0mself\u001b[0m\u001b[0;34m)\u001b[0m\u001b[0;34m\u001b[0m\u001b[0m\n",
        "\u001b[0;32m/Library/Python/2.7/site-packages/pandas/core/index.pyc\u001b[0m in \u001b[0;36mget_value\u001b[0;34m(self, series, key)\u001b[0m\n\u001b[1;32m   1030\u001b[0m \u001b[0;34m\u001b[0m\u001b[0m\n\u001b[1;32m   1031\u001b[0m         \u001b[0;32mtry\u001b[0m\u001b[0;34m:\u001b[0m\u001b[0;34m\u001b[0m\u001b[0m\n\u001b[0;32m-> 1032\u001b[0;31m             \u001b[0;32mreturn\u001b[0m \u001b[0mself\u001b[0m\u001b[0;34m.\u001b[0m\u001b[0m_engine\u001b[0m\u001b[0;34m.\u001b[0m\u001b[0mget_value\u001b[0m\u001b[0;34m(\u001b[0m\u001b[0ms\u001b[0m\u001b[0;34m,\u001b[0m \u001b[0mk\u001b[0m\u001b[0;34m)\u001b[0m\u001b[0;34m\u001b[0m\u001b[0m\n\u001b[0m\u001b[1;32m   1033\u001b[0m         \u001b[0;32mexcept\u001b[0m \u001b[0mKeyError\u001b[0m \u001b[0;32mas\u001b[0m \u001b[0me1\u001b[0m\u001b[0;34m:\u001b[0m\u001b[0;34m\u001b[0m\u001b[0m\n\u001b[1;32m   1034\u001b[0m             \u001b[0;32mif\u001b[0m \u001b[0mlen\u001b[0m\u001b[0;34m(\u001b[0m\u001b[0mself\u001b[0m\u001b[0;34m)\u001b[0m \u001b[0;34m>\u001b[0m \u001b[0;36m0\u001b[0m \u001b[0;32mand\u001b[0m \u001b[0mself\u001b[0m\u001b[0;34m.\u001b[0m\u001b[0minferred_type\u001b[0m \u001b[0;34m==\u001b[0m \u001b[0;34m'integer'\u001b[0m\u001b[0;34m:\u001b[0m\u001b[0;34m\u001b[0m\u001b[0m\n",
        "\u001b[0;32m/Library/Python/2.7/site-packages/pandas/index.so\u001b[0m in \u001b[0;36mpandas.index.IndexEngine.get_value (pandas/index.c:2661)\u001b[0;34m()\u001b[0m\n",
        "\u001b[0;32m/Library/Python/2.7/site-packages/pandas/index.so\u001b[0m in \u001b[0;36mpandas.index.IndexEngine.get_value (pandas/index.c:2476)\u001b[0;34m()\u001b[0m\n",
        "\u001b[0;32m/Library/Python/2.7/site-packages/pandas/index.so\u001b[0m in \u001b[0;36mpandas.index.IndexEngine.get_loc (pandas/index.c:3215)\u001b[0;34m()\u001b[0m\n",
        "\u001b[0;32m/Library/Python/2.7/site-packages/pandas/hashtable.so\u001b[0m in \u001b[0;36mpandas.hashtable.Int64HashTable.get_item (pandas/hashtable.c:6450)\u001b[0;34m()\u001b[0m\n",
        "\u001b[0;32m/Library/Python/2.7/site-packages/pandas/hashtable.so\u001b[0m in \u001b[0;36mpandas.hashtable.Int64HashTable.get_item (pandas/hashtable.c:6394)\u001b[0;34m()\u001b[0m\n",
        "\u001b[0;31mKeyError\u001b[0m: 24439"
       ]
      }
     ],
     "prompt_number": 106
    },
    {
     "cell_type": "code",
     "collapsed": false,
     "input": [
      "len(loanData)"
     ],
     "language": "python",
     "metadata": {},
     "outputs": [
      {
       "html": [
        "<div style=\"max-height:1000px;max-width:1500px;overflow:auto;\">\n",
        "<table border=\"1\" class=\"dataframe\">\n",
        "  <thead>\n",
        "    <tr style=\"text-align: right;\">\n",
        "      <th></th>\n",
        "      <th>id</th>\n",
        "      <th>member_id</th>\n",
        "      <th>loan_amnt</th>\n",
        "      <th>funded_amnt</th>\n",
        "      <th>funded_amnt_inv</th>\n",
        "      <th>term</th>\n",
        "      <th>int_rate</th>\n",
        "      <th>installment</th>\n",
        "      <th>sub_grade</th>\n",
        "      <th>emp_title</th>\n",
        "      <th>emp_length</th>\n",
        "      <th>home_ownership</th>\n",
        "      <th>annual_inc</th>\n",
        "      <th>is_inc_v</th>\n",
        "      <th>issue_d</th>\n",
        "      <th>loan_status</th>\n",
        "      <th>pymnt_plan</th>\n",
        "      <th>url</th>\n",
        "      <th>desc</th>\n",
        "      <th>purpose</th>\n",
        "      <th>title</th>\n",
        "      <th>zip_code</th>\n",
        "      <th>addr_state</th>\n",
        "      <th>dti</th>\n",
        "      <th>delinq_2yrs</th>\n",
        "      <th>earliest_cr_line</th>\n",
        "      <th>inq_last_6mths</th>\n",
        "      <th>mths_since_last_delinq</th>\n",
        "      <th>mths_since_last_record</th>\n",
        "      <th>open_acc</th>\n",
        "      <th>pub_rec</th>\n",
        "      <th>revol_bal</th>\n",
        "      <th>revol_util</th>\n",
        "      <th>total_acc</th>\n",
        "      <th>out_prncp</th>\n",
        "      <th>out_prncp_inv</th>\n",
        "      <th>total_pymnt</th>\n",
        "      <th>total_pymnt_inv</th>\n",
        "      <th>total_rec_prncp</th>\n",
        "      <th>total_rec_int</th>\n",
        "      <th>total_rec_late_fee</th>\n",
        "      <th>recoveries</th>\n",
        "      <th>collection_recovery_fee</th>\n",
        "      <th>last_pymnt_d</th>\n",
        "      <th>last_pymnt_amnt</th>\n",
        "      <th>next_pymnt_d</th>\n",
        "      <th>last_credit_pull_d</th>\n",
        "      <th>collections_12_mths_ex_med</th>\n",
        "      <th>mths_since_last_major_derog</th>\n",
        "      <th>policy_code</th>\n",
        "      <th>A</th>\n",
        "      <th>B</th>\n",
        "      <th>C</th>\n",
        "      <th>D</th>\n",
        "      <th>E</th>\n",
        "      <th>F</th>\n",
        "      <th>G</th>\n",
        "      <th>ANY</th>\n",
        "      <th>MORTGAGE</th>\n",
        "      <th>OWN</th>\n",
        "      <th>RENT</th>\n",
        "      <th>days_active</th>\n",
        "      <th>issue_month</th>\n",
        "      <th>issue_year</th>\n",
        "      <th>last_pymnt_month</th>\n",
        "      <th>last_pymnt_year</th>\n",
        "      <th>car</th>\n",
        "      <th>credit_card</th>\n",
        "      <th>debt_consolidation</th>\n",
        "      <th>home_improvement</th>\n",
        "      <th>house</th>\n",
        "      <th>major_purchase</th>\n",
        "      <th>medical</th>\n",
        "      <th>moving</th>\n",
        "      <th>other</th>\n",
        "      <th>renewable_energy</th>\n",
        "      <th>small_business</th>\n",
        "      <th>vacation</th>\n",
        "      <th>wedding</th>\n",
        "      <th>AK</th>\n",
        "      <th>AL</th>\n",
        "      <th>AR</th>\n",
        "      <th>AZ</th>\n",
        "      <th>CA</th>\n",
        "      <th>CO</th>\n",
        "      <th>CT</th>\n",
        "      <th>DC</th>\n",
        "      <th>DE</th>\n",
        "      <th>FL</th>\n",
        "      <th>GA</th>\n",
        "      <th>HI</th>\n",
        "      <th>IL</th>\n",
        "      <th>IN</th>\n",
        "      <th>KS</th>\n",
        "      <th>KY</th>\n",
        "      <th>LA</th>\n",
        "      <th>MA</th>\n",
        "      <th>MD</th>\n",
        "      <th>MI</th>\n",
        "      <th>MN</th>\n",
        "      <th>MO</th>\n",
        "      <th>MS</th>\n",
        "      <th>MT</th>\n",
        "      <th>NC</th>\n",
        "      <th>NH</th>\n",
        "      <th>NJ</th>\n",
        "      <th>NM</th>\n",
        "      <th>NV</th>\n",
        "      <th>NY</th>\n",
        "      <th>OH</th>\n",
        "      <th>OK</th>\n",
        "      <th>OR</th>\n",
        "      <th>PA</th>\n",
        "      <th>RI</th>\n",
        "      <th>SC</th>\n",
        "      <th>SD</th>\n",
        "      <th>TN</th>\n",
        "      <th>TX</th>\n",
        "      <th>UT</th>\n",
        "      <th>VA</th>\n",
        "      <th>VT</th>\n",
        "      <th>WA</th>\n",
        "      <th>WI</th>\n",
        "      <th>WV</th>\n",
        "      <th>WY</th>\n",
        "      <th>yrs_since_first_cr_line</th>\n",
        "      <th>desc_length</th>\n",
        "      <th>title_length</th>\n",
        "      <th>install_frac_of_monthly_inc</th>\n",
        "      <th>unemp_rate_12mths</th>\n",
        "      <th>unemp_rate_6mths</th>\n",
        "      <th>unemp_rate_3mths</th>\n",
        "      <th>implied_risk</th>\n",
        "    </tr>\n",
        "  </thead>\n",
        "  <tbody>\n",
        "    <tr>\n",
        "      <th>0</th>\n",
        "      <td> 27521813</td>\n",
        "      <td> 30024948</td>\n",
        "      <td> 28750</td>\n",
        "      <td> 28750</td>\n",
        "      <td> 28750</td>\n",
        "      <td> 1</td>\n",
        "      <td>  9.17</td>\n",
        "      <td> 599.18</td>\n",
        "      <td> 1</td>\n",
        "      <td>  3</td>\n",
        "      <td>  1</td>\n",
        "      <td> MORTGAGE</td>\n",
        "      <td>  59736</td>\n",
        "      <td> 2</td>\n",
        "      <td>2014-09-01</td>\n",
        "      <td> 1</td>\n",
        "      <td> n</td>\n",
        "      <td> https://www.lendingclub.com/browse/loanDetail....</td>\n",
        "      <td> bmFu</td>\n",
        "      <td> debt_consolidation</td>\n",
        "      <td>      Debt consolidation</td>\n",
        "      <td> 207</td>\n",
        "      <td> MD</td>\n",
        "      <td> 21.33</td>\n",
        "      <td> 0</td>\n",
        "      <td> Aug-2001</td>\n",
        "      <td> 0</td>\n",
        "      <td> -1</td>\n",
        "      <td>  -1</td>\n",
        "      <td> 11</td>\n",
        "      <td> 0</td>\n",
        "      <td> 56838</td>\n",
        "      <td> 28.4</td>\n",
        "      <td> 29</td>\n",
        "      <td> 0</td>\n",
        "      <td> 0</td>\n",
        "      <td> 28969.700000</td>\n",
        "      <td> 28969.70</td>\n",
        "      <td> 28750</td>\n",
        "      <td> 219.70</td>\n",
        "      <td> 0</td>\n",
        "      <td> 0</td>\n",
        "      <td> 0</td>\n",
        "      <td>2014-10-01</td>\n",
        "      <td> 28969.70</td>\n",
        "      <td> NaN</td>\n",
        "      <td> Oct-2014</td>\n",
        "      <td> 0</td>\n",
        "      <td> -1</td>\n",
        "      <td> 1</td>\n",
        "      <td> 0</td>\n",
        "      <td> 1</td>\n",
        "      <td> 0</td>\n",
        "      <td> 0</td>\n",
        "      <td> 0</td>\n",
        "      <td> 0</td>\n",
        "      <td> 0</td>\n",
        "      <td> 0</td>\n",
        "      <td> 1</td>\n",
        "      <td> 0</td>\n",
        "      <td> 0</td>\n",
        "      <td> 30</td>\n",
        "      <td> 9</td>\n",
        "      <td> 2014</td>\n",
        "      <td> 10</td>\n",
        "      <td> 2014</td>\n",
        "      <td> 0</td>\n",
        "      <td> 0</td>\n",
        "      <td> 1</td>\n",
        "      <td> 0</td>\n",
        "      <td> 0</td>\n",
        "      <td> 0</td>\n",
        "      <td> 0</td>\n",
        "      <td> 0</td>\n",
        "      <td> 0</td>\n",
        "      <td> 0</td>\n",
        "      <td> 0</td>\n",
        "      <td> 0</td>\n",
        "      <td> 0</td>\n",
        "      <td> 0</td>\n",
        "      <td> 0</td>\n",
        "      <td> 0</td>\n",
        "      <td> 0</td>\n",
        "      <td> 0</td>\n",
        "      <td> 0</td>\n",
        "      <td> 0</td>\n",
        "      <td> 0</td>\n",
        "      <td> 0</td>\n",
        "      <td> 0</td>\n",
        "      <td> 0</td>\n",
        "      <td> 0</td>\n",
        "      <td> 0</td>\n",
        "      <td> 0</td>\n",
        "      <td> 0</td>\n",
        "      <td> 0</td>\n",
        "      <td> 0</td>\n",
        "      <td> 0</td>\n",
        "      <td> 1</td>\n",
        "      <td> 0</td>\n",
        "      <td> 0</td>\n",
        "      <td> 0</td>\n",
        "      <td> 0</td>\n",
        "      <td> 0</td>\n",
        "      <td> 0</td>\n",
        "      <td> 0</td>\n",
        "      <td> 0</td>\n",
        "      <td> 0</td>\n",
        "      <td> 0</td>\n",
        "      <td> 0</td>\n",
        "      <td> 0</td>\n",
        "      <td> 0</td>\n",
        "      <td> 0</td>\n",
        "      <td> 0</td>\n",
        "      <td> 0</td>\n",
        "      <td> 0</td>\n",
        "      <td> 0</td>\n",
        "      <td> 0</td>\n",
        "      <td> 0</td>\n",
        "      <td> 0</td>\n",
        "      <td> 0</td>\n",
        "      <td> 0</td>\n",
        "      <td> 0</td>\n",
        "      <td> 0</td>\n",
        "      <td> 0</td>\n",
        "      <td> 0</td>\n",
        "      <td> 14</td>\n",
        "      <td> 3</td>\n",
        "      <td> 18</td>\n",
        "      <td> 0.120366</td>\n",
        "      <td> 6.2</td>\n",
        "      <td> 5.8</td>\n",
        "      <td> 6.2</td>\n",
        "      <td>  8.13</td>\n",
        "    </tr>\n",
        "    <tr>\n",
        "      <th>1</th>\n",
        "      <td> 27522055</td>\n",
        "      <td> 30025199</td>\n",
        "      <td> 17000</td>\n",
        "      <td> 17000</td>\n",
        "      <td> 16975</td>\n",
        "      <td> 0</td>\n",
        "      <td>  6.49</td>\n",
        "      <td> 520.96</td>\n",
        "      <td> 2</td>\n",
        "      <td> 22</td>\n",
        "      <td>  3</td>\n",
        "      <td> MORTGAGE</td>\n",
        "      <td> 129996</td>\n",
        "      <td> 0</td>\n",
        "      <td>2014-09-01</td>\n",
        "      <td> 1</td>\n",
        "      <td> n</td>\n",
        "      <td> https://www.lendingclub.com/browse/loanDetail....</td>\n",
        "      <td> bmFu</td>\n",
        "      <td>                car</td>\n",
        "      <td>           Car financing</td>\n",
        "      <td> 296</td>\n",
        "      <td> SC</td>\n",
        "      <td>  7.07</td>\n",
        "      <td> 1</td>\n",
        "      <td> Feb-1996</td>\n",
        "      <td> 1</td>\n",
        "      <td>  5</td>\n",
        "      <td>  -1</td>\n",
        "      <td>  8</td>\n",
        "      <td> 0</td>\n",
        "      <td>  7845</td>\n",
        "      <td> 13.9</td>\n",
        "      <td> 21</td>\n",
        "      <td> 0</td>\n",
        "      <td> 0</td>\n",
        "      <td> 17100.910000</td>\n",
        "      <td> 17075.76</td>\n",
        "      <td> 17000</td>\n",
        "      <td> 100.91</td>\n",
        "      <td> 0</td>\n",
        "      <td> 0</td>\n",
        "      <td> 0</td>\n",
        "      <td>2014-10-01</td>\n",
        "      <td> 17100.91</td>\n",
        "      <td> NaN</td>\n",
        "      <td> Oct-2014</td>\n",
        "      <td> 0</td>\n",
        "      <td> -1</td>\n",
        "      <td> 1</td>\n",
        "      <td> 1</td>\n",
        "      <td> 0</td>\n",
        "      <td> 0</td>\n",
        "      <td> 0</td>\n",
        "      <td> 0</td>\n",
        "      <td> 0</td>\n",
        "      <td> 0</td>\n",
        "      <td> 0</td>\n",
        "      <td> 1</td>\n",
        "      <td> 0</td>\n",
        "      <td> 0</td>\n",
        "      <td> 30</td>\n",
        "      <td> 9</td>\n",
        "      <td> 2014</td>\n",
        "      <td> 10</td>\n",
        "      <td> 2014</td>\n",
        "      <td> 1</td>\n",
        "      <td> 0</td>\n",
        "      <td> 0</td>\n",
        "      <td> 0</td>\n",
        "      <td> 0</td>\n",
        "      <td> 0</td>\n",
        "      <td> 0</td>\n",
        "      <td> 0</td>\n",
        "      <td> 0</td>\n",
        "      <td> 0</td>\n",
        "      <td> 0</td>\n",
        "      <td> 0</td>\n",
        "      <td> 0</td>\n",
        "      <td> 0</td>\n",
        "      <td> 0</td>\n",
        "      <td> 0</td>\n",
        "      <td> 0</td>\n",
        "      <td> 0</td>\n",
        "      <td> 0</td>\n",
        "      <td> 0</td>\n",
        "      <td> 0</td>\n",
        "      <td> 0</td>\n",
        "      <td> 0</td>\n",
        "      <td> 0</td>\n",
        "      <td> 0</td>\n",
        "      <td> 0</td>\n",
        "      <td> 0</td>\n",
        "      <td> 0</td>\n",
        "      <td> 0</td>\n",
        "      <td> 0</td>\n",
        "      <td> 0</td>\n",
        "      <td> 0</td>\n",
        "      <td> 0</td>\n",
        "      <td> 0</td>\n",
        "      <td> 0</td>\n",
        "      <td> 0</td>\n",
        "      <td> 0</td>\n",
        "      <td> 0</td>\n",
        "      <td> 0</td>\n",
        "      <td> 0</td>\n",
        "      <td> 0</td>\n",
        "      <td> 0</td>\n",
        "      <td> 0</td>\n",
        "      <td> 0</td>\n",
        "      <td> 0</td>\n",
        "      <td> 0</td>\n",
        "      <td> 0</td>\n",
        "      <td> 0</td>\n",
        "      <td> 1</td>\n",
        "      <td> 0</td>\n",
        "      <td> 0</td>\n",
        "      <td> 0</td>\n",
        "      <td> 0</td>\n",
        "      <td> 0</td>\n",
        "      <td> 0</td>\n",
        "      <td> 0</td>\n",
        "      <td> 0</td>\n",
        "      <td> 0</td>\n",
        "      <td> 0</td>\n",
        "      <td> 19</td>\n",
        "      <td> 3</td>\n",
        "      <td> 13</td>\n",
        "      <td> 0.048090</td>\n",
        "      <td> 7.2</td>\n",
        "      <td> 5.4</td>\n",
        "      <td> 5.7</td>\n",
        "      <td>  5.45</td>\n",
        "    </tr>\n",
        "    <tr>\n",
        "      <th>2</th>\n",
        "      <td> 27541860</td>\n",
        "      <td> 30044989</td>\n",
        "      <td> 20000</td>\n",
        "      <td> 20000</td>\n",
        "      <td> 20000</td>\n",
        "      <td> 1</td>\n",
        "      <td> 11.67</td>\n",
        "      <td> 441.57</td>\n",
        "      <td> 4</td>\n",
        "      <td> 14</td>\n",
        "      <td>  4</td>\n",
        "      <td> MORTGAGE</td>\n",
        "      <td> 100000</td>\n",
        "      <td> 1</td>\n",
        "      <td>2014-09-01</td>\n",
        "      <td> 1</td>\n",
        "      <td> n</td>\n",
        "      <td> https://www.lendingclub.com/browse/loanDetail....</td>\n",
        "      <td> bmFu</td>\n",
        "      <td> debt_consolidation</td>\n",
        "      <td>      Debt consolidation</td>\n",
        "      <td> 217</td>\n",
        "      <td> MD</td>\n",
        "      <td>  7.72</td>\n",
        "      <td> 1</td>\n",
        "      <td> Sep-1995</td>\n",
        "      <td> 1</td>\n",
        "      <td> 22</td>\n",
        "      <td>  -1</td>\n",
        "      <td> 11</td>\n",
        "      <td> 0</td>\n",
        "      <td> 11481</td>\n",
        "      <td> 64.9</td>\n",
        "      <td> 34</td>\n",
        "      <td> 0</td>\n",
        "      <td> 0</td>\n",
        "      <td> 20194.500000</td>\n",
        "      <td> 20194.50</td>\n",
        "      <td> 20000</td>\n",
        "      <td> 194.50</td>\n",
        "      <td> 0</td>\n",
        "      <td> 0</td>\n",
        "      <td> 0</td>\n",
        "      <td>2014-10-01</td>\n",
        "      <td> 20194.50</td>\n",
        "      <td> NaN</td>\n",
        "      <td> Oct-2014</td>\n",
        "      <td> 0</td>\n",
        "      <td> 22</td>\n",
        "      <td> 1</td>\n",
        "      <td> 0</td>\n",
        "      <td> 1</td>\n",
        "      <td> 0</td>\n",
        "      <td> 0</td>\n",
        "      <td> 0</td>\n",
        "      <td> 0</td>\n",
        "      <td> 0</td>\n",
        "      <td> 0</td>\n",
        "      <td> 1</td>\n",
        "      <td> 0</td>\n",
        "      <td> 0</td>\n",
        "      <td> 30</td>\n",
        "      <td> 9</td>\n",
        "      <td> 2014</td>\n",
        "      <td> 10</td>\n",
        "      <td> 2014</td>\n",
        "      <td> 0</td>\n",
        "      <td> 0</td>\n",
        "      <td> 1</td>\n",
        "      <td> 0</td>\n",
        "      <td> 0</td>\n",
        "      <td> 0</td>\n",
        "      <td> 0</td>\n",
        "      <td> 0</td>\n",
        "      <td> 0</td>\n",
        "      <td> 0</td>\n",
        "      <td> 0</td>\n",
        "      <td> 0</td>\n",
        "      <td> 0</td>\n",
        "      <td> 0</td>\n",
        "      <td> 0</td>\n",
        "      <td> 0</td>\n",
        "      <td> 0</td>\n",
        "      <td> 0</td>\n",
        "      <td> 0</td>\n",
        "      <td> 0</td>\n",
        "      <td> 0</td>\n",
        "      <td> 0</td>\n",
        "      <td> 0</td>\n",
        "      <td> 0</td>\n",
        "      <td> 0</td>\n",
        "      <td> 0</td>\n",
        "      <td> 0</td>\n",
        "      <td> 0</td>\n",
        "      <td> 0</td>\n",
        "      <td> 0</td>\n",
        "      <td> 0</td>\n",
        "      <td> 1</td>\n",
        "      <td> 0</td>\n",
        "      <td> 0</td>\n",
        "      <td> 0</td>\n",
        "      <td> 0</td>\n",
        "      <td> 0</td>\n",
        "      <td> 0</td>\n",
        "      <td> 0</td>\n",
        "      <td> 0</td>\n",
        "      <td> 0</td>\n",
        "      <td> 0</td>\n",
        "      <td> 0</td>\n",
        "      <td> 0</td>\n",
        "      <td> 0</td>\n",
        "      <td> 0</td>\n",
        "      <td> 0</td>\n",
        "      <td> 0</td>\n",
        "      <td> 0</td>\n",
        "      <td> 0</td>\n",
        "      <td> 0</td>\n",
        "      <td> 0</td>\n",
        "      <td> 0</td>\n",
        "      <td> 0</td>\n",
        "      <td> 0</td>\n",
        "      <td> 0</td>\n",
        "      <td> 0</td>\n",
        "      <td> 0</td>\n",
        "      <td> 0</td>\n",
        "      <td> 20</td>\n",
        "      <td> 3</td>\n",
        "      <td> 18</td>\n",
        "      <td> 0.052988</td>\n",
        "      <td> 6.2</td>\n",
        "      <td> 5.8</td>\n",
        "      <td> 6.2</td>\n",
        "      <td> 10.63</td>\n",
        "    </tr>\n",
        "    <tr>\n",
        "      <th>3</th>\n",
        "      <td> 27691885</td>\n",
        "      <td> 30205040</td>\n",
        "      <td> 10000</td>\n",
        "      <td> 10000</td>\n",
        "      <td> 10000</td>\n",
        "      <td> 1</td>\n",
        "      <td> 23.43</td>\n",
        "      <td> 284.39</td>\n",
        "      <td> 1</td>\n",
        "      <td> 15</td>\n",
        "      <td>  2</td>\n",
        "      <td> MORTGAGE</td>\n",
        "      <td>  68000</td>\n",
        "      <td> 2</td>\n",
        "      <td>2014-09-01</td>\n",
        "      <td> 1</td>\n",
        "      <td> n</td>\n",
        "      <td> https://www.lendingclub.com/browse/loanDetail....</td>\n",
        "      <td> bmFu</td>\n",
        "      <td> debt_consolidation</td>\n",
        "      <td>      Debt consolidation</td>\n",
        "      <td> 407</td>\n",
        "      <td> KY</td>\n",
        "      <td> 24.57</td>\n",
        "      <td> 0</td>\n",
        "      <td> Jan-2003</td>\n",
        "      <td> 3</td>\n",
        "      <td> 32</td>\n",
        "      <td>  -1</td>\n",
        "      <td> 13</td>\n",
        "      <td> 0</td>\n",
        "      <td> 10971</td>\n",
        "      <td> 47.5</td>\n",
        "      <td> 45</td>\n",
        "      <td> 0</td>\n",
        "      <td> 0</td>\n",
        "      <td> 10382.310000</td>\n",
        "      <td> 10382.31</td>\n",
        "      <td> 10000</td>\n",
        "      <td> 382.31</td>\n",
        "      <td> 0</td>\n",
        "      <td> 0</td>\n",
        "      <td> 0</td>\n",
        "      <td>2014-10-01</td>\n",
        "      <td> 10382.31</td>\n",
        "      <td> NaN</td>\n",
        "      <td> Nov-2014</td>\n",
        "      <td> 0</td>\n",
        "      <td> -1</td>\n",
        "      <td> 1</td>\n",
        "      <td> 0</td>\n",
        "      <td> 0</td>\n",
        "      <td> 0</td>\n",
        "      <td> 0</td>\n",
        "      <td> 0</td>\n",
        "      <td> 1</td>\n",
        "      <td> 0</td>\n",
        "      <td> 0</td>\n",
        "      <td> 1</td>\n",
        "      <td> 0</td>\n",
        "      <td> 0</td>\n",
        "      <td> 30</td>\n",
        "      <td> 9</td>\n",
        "      <td> 2014</td>\n",
        "      <td> 10</td>\n",
        "      <td> 2014</td>\n",
        "      <td> 0</td>\n",
        "      <td> 0</td>\n",
        "      <td> 1</td>\n",
        "      <td> 0</td>\n",
        "      <td> 0</td>\n",
        "      <td> 0</td>\n",
        "      <td> 0</td>\n",
        "      <td> 0</td>\n",
        "      <td> 0</td>\n",
        "      <td> 0</td>\n",
        "      <td> 0</td>\n",
        "      <td> 0</td>\n",
        "      <td> 0</td>\n",
        "      <td> 0</td>\n",
        "      <td> 0</td>\n",
        "      <td> 0</td>\n",
        "      <td> 0</td>\n",
        "      <td> 0</td>\n",
        "      <td> 0</td>\n",
        "      <td> 0</td>\n",
        "      <td> 0</td>\n",
        "      <td> 0</td>\n",
        "      <td> 0</td>\n",
        "      <td> 0</td>\n",
        "      <td> 0</td>\n",
        "      <td> 0</td>\n",
        "      <td> 0</td>\n",
        "      <td> 0</td>\n",
        "      <td> 1</td>\n",
        "      <td> 0</td>\n",
        "      <td> 0</td>\n",
        "      <td> 0</td>\n",
        "      <td> 0</td>\n",
        "      <td> 0</td>\n",
        "      <td> 0</td>\n",
        "      <td> 0</td>\n",
        "      <td> 0</td>\n",
        "      <td> 0</td>\n",
        "      <td> 0</td>\n",
        "      <td> 0</td>\n",
        "      <td> 0</td>\n",
        "      <td> 0</td>\n",
        "      <td> 0</td>\n",
        "      <td> 0</td>\n",
        "      <td> 0</td>\n",
        "      <td> 0</td>\n",
        "      <td> 0</td>\n",
        "      <td> 0</td>\n",
        "      <td> 0</td>\n",
        "      <td> 0</td>\n",
        "      <td> 0</td>\n",
        "      <td> 0</td>\n",
        "      <td> 0</td>\n",
        "      <td> 0</td>\n",
        "      <td> 0</td>\n",
        "      <td> 0</td>\n",
        "      <td> 0</td>\n",
        "      <td> 0</td>\n",
        "      <td> 0</td>\n",
        "      <td> 12</td>\n",
        "      <td> 3</td>\n",
        "      <td> 18</td>\n",
        "      <td> 0.050186</td>\n",
        "      <td> 7.9</td>\n",
        "      <td> 8.4</td>\n",
        "      <td> 7.4</td>\n",
        "      <td> 22.39</td>\n",
        "    </tr>\n",
        "    <tr>\n",
        "      <th>4</th>\n",
        "      <td> 27511563</td>\n",
        "      <td> 30014695</td>\n",
        "      <td> 10000</td>\n",
        "      <td> 10000</td>\n",
        "      <td> 10000</td>\n",
        "      <td> 0</td>\n",
        "      <td>  6.49</td>\n",
        "      <td> 306.45</td>\n",
        "      <td> 2</td>\n",
        "      <td> 12</td>\n",
        "      <td>  2</td>\n",
        "      <td> MORTGAGE</td>\n",
        "      <td>  80000</td>\n",
        "      <td> 0</td>\n",
        "      <td>2014-09-01</td>\n",
        "      <td> 1</td>\n",
        "      <td> n</td>\n",
        "      <td> https://www.lendingclub.com/browse/loanDetail....</td>\n",
        "      <td> bmFu</td>\n",
        "      <td> debt_consolidation</td>\n",
        "      <td>      Debt consolidation</td>\n",
        "      <td> 712</td>\n",
        "      <td> LA</td>\n",
        "      <td> 13.13</td>\n",
        "      <td> 0</td>\n",
        "      <td> Feb-1995</td>\n",
        "      <td> 1</td>\n",
        "      <td> 39</td>\n",
        "      <td>  -1</td>\n",
        "      <td> 13</td>\n",
        "      <td> 0</td>\n",
        "      <td>   139</td>\n",
        "      <td>  0.3</td>\n",
        "      <td> 35</td>\n",
        "      <td> 0</td>\n",
        "      <td> 0</td>\n",
        "      <td> 10071.660000</td>\n",
        "      <td> 10071.66</td>\n",
        "      <td> 10000</td>\n",
        "      <td>  71.66</td>\n",
        "      <td> 0</td>\n",
        "      <td> 0</td>\n",
        "      <td> 0</td>\n",
        "      <td>2014-10-01</td>\n",
        "      <td> 10071.66</td>\n",
        "      <td> NaN</td>\n",
        "      <td> Nov-2014</td>\n",
        "      <td> 0</td>\n",
        "      <td> -1</td>\n",
        "      <td> 1</td>\n",
        "      <td> 1</td>\n",
        "      <td> 0</td>\n",
        "      <td> 0</td>\n",
        "      <td> 0</td>\n",
        "      <td> 0</td>\n",
        "      <td> 0</td>\n",
        "      <td> 0</td>\n",
        "      <td> 0</td>\n",
        "      <td> 1</td>\n",
        "      <td> 0</td>\n",
        "      <td> 0</td>\n",
        "      <td> 30</td>\n",
        "      <td> 9</td>\n",
        "      <td> 2014</td>\n",
        "      <td> 10</td>\n",
        "      <td> 2014</td>\n",
        "      <td> 0</td>\n",
        "      <td> 0</td>\n",
        "      <td> 1</td>\n",
        "      <td> 0</td>\n",
        "      <td> 0</td>\n",
        "      <td> 0</td>\n",
        "      <td> 0</td>\n",
        "      <td> 0</td>\n",
        "      <td> 0</td>\n",
        "      <td> 0</td>\n",
        "      <td> 0</td>\n",
        "      <td> 0</td>\n",
        "      <td> 0</td>\n",
        "      <td> 0</td>\n",
        "      <td> 0</td>\n",
        "      <td> 0</td>\n",
        "      <td> 0</td>\n",
        "      <td> 0</td>\n",
        "      <td> 0</td>\n",
        "      <td> 0</td>\n",
        "      <td> 0</td>\n",
        "      <td> 0</td>\n",
        "      <td> 0</td>\n",
        "      <td> 0</td>\n",
        "      <td> 0</td>\n",
        "      <td> 0</td>\n",
        "      <td> 0</td>\n",
        "      <td> 0</td>\n",
        "      <td> 0</td>\n",
        "      <td> 1</td>\n",
        "      <td> 0</td>\n",
        "      <td> 0</td>\n",
        "      <td> 0</td>\n",
        "      <td> 0</td>\n",
        "      <td> 0</td>\n",
        "      <td> 0</td>\n",
        "      <td> 0</td>\n",
        "      <td> 0</td>\n",
        "      <td> 0</td>\n",
        "      <td> 0</td>\n",
        "      <td> 0</td>\n",
        "      <td> 0</td>\n",
        "      <td> 0</td>\n",
        "      <td> 0</td>\n",
        "      <td> 0</td>\n",
        "      <td> 0</td>\n",
        "      <td> 0</td>\n",
        "      <td> 0</td>\n",
        "      <td> 0</td>\n",
        "      <td> 0</td>\n",
        "      <td> 0</td>\n",
        "      <td> 0</td>\n",
        "      <td> 0</td>\n",
        "      <td> 0</td>\n",
        "      <td> 0</td>\n",
        "      <td> 0</td>\n",
        "      <td> 0</td>\n",
        "      <td> 0</td>\n",
        "      <td> 0</td>\n",
        "      <td> 20</td>\n",
        "      <td> 3</td>\n",
        "      <td> 18</td>\n",
        "      <td> 0.045967</td>\n",
        "      <td> 6.0</td>\n",
        "      <td> 4.5</td>\n",
        "      <td> 5.7</td>\n",
        "      <td>  5.45</td>\n",
        "    </tr>\n",
        "    <tr>\n",
        "      <th>5</th>\n",
        "      <td> 27531551</td>\n",
        "      <td> 30034689</td>\n",
        "      <td>  4000</td>\n",
        "      <td>  4000</td>\n",
        "      <td>  4000</td>\n",
        "      <td> 0</td>\n",
        "      <td> 13.98</td>\n",
        "      <td> 136.68</td>\n",
        "      <td> 3</td>\n",
        "      <td> 17</td>\n",
        "      <td>  2</td>\n",
        "      <td>     RENT</td>\n",
        "      <td>  45600</td>\n",
        "      <td> 0</td>\n",
        "      <td>2014-09-01</td>\n",
        "      <td> 1</td>\n",
        "      <td> n</td>\n",
        "      <td> https://www.lendingclub.com/browse/loanDetail....</td>\n",
        "      <td> bmFu</td>\n",
        "      <td>        credit_card</td>\n",
        "      <td> Credit card refinancing</td>\n",
        "      <td> 267</td>\n",
        "      <td> WV</td>\n",
        "      <td> 19.45</td>\n",
        "      <td> 1</td>\n",
        "      <td> Aug-1992</td>\n",
        "      <td> 1</td>\n",
        "      <td> 22</td>\n",
        "      <td>  81</td>\n",
        "      <td>  9</td>\n",
        "      <td> 1</td>\n",
        "      <td> 11479</td>\n",
        "      <td> 72.7</td>\n",
        "      <td> 32</td>\n",
        "      <td> 0</td>\n",
        "      <td> 0</td>\n",
        "      <td>  4092.150568</td>\n",
        "      <td>  4092.15</td>\n",
        "      <td>  4000</td>\n",
        "      <td>  92.15</td>\n",
        "      <td> 0</td>\n",
        "      <td> 0</td>\n",
        "      <td> 0</td>\n",
        "      <td>2014-11-01</td>\n",
        "      <td>  3955.47</td>\n",
        "      <td> NaN</td>\n",
        "      <td> Nov-2014</td>\n",
        "      <td> 0</td>\n",
        "      <td> 22</td>\n",
        "      <td> 1</td>\n",
        "      <td> 0</td>\n",
        "      <td> 0</td>\n",
        "      <td> 1</td>\n",
        "      <td> 0</td>\n",
        "      <td> 0</td>\n",
        "      <td> 0</td>\n",
        "      <td> 0</td>\n",
        "      <td> 0</td>\n",
        "      <td> 0</td>\n",
        "      <td> 0</td>\n",
        "      <td> 1</td>\n",
        "      <td> 61</td>\n",
        "      <td> 9</td>\n",
        "      <td> 2014</td>\n",
        "      <td> 11</td>\n",
        "      <td> 2014</td>\n",
        "      <td> 0</td>\n",
        "      <td> 1</td>\n",
        "      <td> 0</td>\n",
        "      <td> 0</td>\n",
        "      <td> 0</td>\n",
        "      <td> 0</td>\n",
        "      <td> 0</td>\n",
        "      <td> 0</td>\n",
        "      <td> 0</td>\n",
        "      <td> 0</td>\n",
        "      <td> 0</td>\n",
        "      <td> 0</td>\n",
        "      <td> 0</td>\n",
        "      <td> 0</td>\n",
        "      <td> 0</td>\n",
        "      <td> 0</td>\n",
        "      <td> 0</td>\n",
        "      <td> 0</td>\n",
        "      <td> 0</td>\n",
        "      <td> 0</td>\n",
        "      <td> 0</td>\n",
        "      <td> 0</td>\n",
        "      <td> 0</td>\n",
        "      <td> 0</td>\n",
        "      <td> 0</td>\n",
        "      <td> 0</td>\n",
        "      <td> 0</td>\n",
        "      <td> 0</td>\n",
        "      <td> 0</td>\n",
        "      <td> 0</td>\n",
        "      <td> 0</td>\n",
        "      <td> 0</td>\n",
        "      <td> 0</td>\n",
        "      <td> 0</td>\n",
        "      <td> 0</td>\n",
        "      <td> 0</td>\n",
        "      <td> 0</td>\n",
        "      <td> 0</td>\n",
        "      <td> 0</td>\n",
        "      <td> 0</td>\n",
        "      <td> 0</td>\n",
        "      <td> 0</td>\n",
        "      <td> 0</td>\n",
        "      <td> 0</td>\n",
        "      <td> 0</td>\n",
        "      <td> 0</td>\n",
        "      <td> 0</td>\n",
        "      <td> 0</td>\n",
        "      <td> 0</td>\n",
        "      <td> 0</td>\n",
        "      <td> 0</td>\n",
        "      <td> 0</td>\n",
        "      <td> 0</td>\n",
        "      <td> 0</td>\n",
        "      <td> 0</td>\n",
        "      <td> 0</td>\n",
        "      <td> 0</td>\n",
        "      <td> 1</td>\n",
        "      <td> 0</td>\n",
        "      <td> 23</td>\n",
        "      <td> 3</td>\n",
        "      <td> 23</td>\n",
        "      <td> 0.035968</td>\n",
        "      <td> 5.7</td>\n",
        "      <td> 6.9</td>\n",
        "      <td> 5.9</td>\n",
        "      <td> 12.94</td>\n",
        "    </tr>\n",
        "    <tr>\n",
        "      <th>6</th>\n",
        "      <td> 27571343</td>\n",
        "      <td> 30074474</td>\n",
        "      <td> 10000</td>\n",
        "      <td> 10000</td>\n",
        "      <td> 10000</td>\n",
        "      <td> 0</td>\n",
        "      <td> 19.52</td>\n",
        "      <td> 369.20</td>\n",
        "      <td> 2</td>\n",
        "      <td>  9</td>\n",
        "      <td>  3</td>\n",
        "      <td>     RENT</td>\n",
        "      <td>  25000</td>\n",
        "      <td> 1</td>\n",
        "      <td>2014-09-01</td>\n",
        "      <td> 1</td>\n",
        "      <td> n</td>\n",
        "      <td> https://www.lendingclub.com/browse/loanDetail....</td>\n",
        "      <td> bmFu</td>\n",
        "      <td>             moving</td>\n",
        "      <td>   Moving and relocation</td>\n",
        "      <td> 124</td>\n",
        "      <td> NY</td>\n",
        "      <td> 23.67</td>\n",
        "      <td> 0</td>\n",
        "      <td> Nov-2007</td>\n",
        "      <td> 1</td>\n",
        "      <td> 55</td>\n",
        "      <td>  -1</td>\n",
        "      <td> 11</td>\n",
        "      <td> 0</td>\n",
        "      <td>  8301</td>\n",
        "      <td> 58.9</td>\n",
        "      <td> 19</td>\n",
        "      <td> 0</td>\n",
        "      <td> 0</td>\n",
        "      <td> 10162.666667</td>\n",
        "      <td> 10162.67</td>\n",
        "      <td> 10000</td>\n",
        "      <td> 162.67</td>\n",
        "      <td> 0</td>\n",
        "      <td> 0</td>\n",
        "      <td> 0</td>\n",
        "      <td>2014-10-01</td>\n",
        "      <td> 10162.67</td>\n",
        "      <td> NaN</td>\n",
        "      <td> Oct-2014</td>\n",
        "      <td> 0</td>\n",
        "      <td> 55</td>\n",
        "      <td> 1</td>\n",
        "      <td> 0</td>\n",
        "      <td> 0</td>\n",
        "      <td> 0</td>\n",
        "      <td> 0</td>\n",
        "      <td> 1</td>\n",
        "      <td> 0</td>\n",
        "      <td> 0</td>\n",
        "      <td> 0</td>\n",
        "      <td> 0</td>\n",
        "      <td> 0</td>\n",
        "      <td> 1</td>\n",
        "      <td> 30</td>\n",
        "      <td> 9</td>\n",
        "      <td> 2014</td>\n",
        "      <td> 10</td>\n",
        "      <td> 2014</td>\n",
        "      <td> 0</td>\n",
        "      <td> 0</td>\n",
        "      <td> 0</td>\n",
        "      <td> 0</td>\n",
        "      <td> 0</td>\n",
        "      <td> 0</td>\n",
        "      <td> 0</td>\n",
        "      <td> 1</td>\n",
        "      <td> 0</td>\n",
        "      <td> 0</td>\n",
        "      <td> 0</td>\n",
        "      <td> 0</td>\n",
        "      <td> 0</td>\n",
        "      <td> 0</td>\n",
        "      <td> 0</td>\n",
        "      <td> 0</td>\n",
        "      <td> 0</td>\n",
        "      <td> 0</td>\n",
        "      <td> 0</td>\n",
        "      <td> 0</td>\n",
        "      <td> 0</td>\n",
        "      <td> 0</td>\n",
        "      <td> 0</td>\n",
        "      <td> 0</td>\n",
        "      <td> 0</td>\n",
        "      <td> 0</td>\n",
        "      <td> 0</td>\n",
        "      <td> 0</td>\n",
        "      <td> 0</td>\n",
        "      <td> 0</td>\n",
        "      <td> 0</td>\n",
        "      <td> 0</td>\n",
        "      <td> 0</td>\n",
        "      <td> 0</td>\n",
        "      <td> 0</td>\n",
        "      <td> 0</td>\n",
        "      <td> 0</td>\n",
        "      <td> 0</td>\n",
        "      <td> 0</td>\n",
        "      <td> 0</td>\n",
        "      <td> 0</td>\n",
        "      <td> 0</td>\n",
        "      <td> 1</td>\n",
        "      <td> 0</td>\n",
        "      <td> 0</td>\n",
        "      <td> 0</td>\n",
        "      <td> 0</td>\n",
        "      <td> 0</td>\n",
        "      <td> 0</td>\n",
        "      <td> 0</td>\n",
        "      <td> 0</td>\n",
        "      <td> 0</td>\n",
        "      <td> 0</td>\n",
        "      <td> 0</td>\n",
        "      <td> 0</td>\n",
        "      <td> 0</td>\n",
        "      <td> 0</td>\n",
        "      <td> 0</td>\n",
        "      <td> 0</td>\n",
        "      <td>  8</td>\n",
        "      <td> 3</td>\n",
        "      <td> 21</td>\n",
        "      <td> 0.177216</td>\n",
        "      <td> 7.4</td>\n",
        "      <td> 7.2</td>\n",
        "      <td> 6.5</td>\n",
        "      <td> 18.48</td>\n",
        "    </tr>\n",
        "    <tr>\n",
        "      <th>7</th>\n",
        "      <td> 27571151</td>\n",
        "      <td> 30074267</td>\n",
        "      <td> 25000</td>\n",
        "      <td> 25000</td>\n",
        "      <td> 25000</td>\n",
        "      <td> 1</td>\n",
        "      <td> 16.29</td>\n",
        "      <td> 611.82</td>\n",
        "      <td> 2</td>\n",
        "      <td> 21</td>\n",
        "      <td>  0</td>\n",
        "      <td>      OWN</td>\n",
        "      <td>  62000</td>\n",
        "      <td> 1</td>\n",
        "      <td>2014-09-01</td>\n",
        "      <td> 1</td>\n",
        "      <td> n</td>\n",
        "      <td> https://www.lendingclub.com/browse/loanDetail....</td>\n",
        "      <td> bmFu</td>\n",
        "      <td>   home_improvement</td>\n",
        "      <td>        Home improvement</td>\n",
        "      <td> 275</td>\n",
        "      <td> NC</td>\n",
        "      <td> 16.82</td>\n",
        "      <td> 0</td>\n",
        "      <td> Dec-1995</td>\n",
        "      <td> 0</td>\n",
        "      <td> 35</td>\n",
        "      <td> 114</td>\n",
        "      <td> 11</td>\n",
        "      <td> 1</td>\n",
        "      <td> 12486</td>\n",
        "      <td> 73.0</td>\n",
        "      <td> 22</td>\n",
        "      <td> 0</td>\n",
        "      <td> 0</td>\n",
        "      <td> 25675.060000</td>\n",
        "      <td> 25675.06</td>\n",
        "      <td> 25000</td>\n",
        "      <td> 675.06</td>\n",
        "      <td> 0</td>\n",
        "      <td> 0</td>\n",
        "      <td> 0</td>\n",
        "      <td>2014-10-01</td>\n",
        "      <td> 25675.06</td>\n",
        "      <td> NaN</td>\n",
        "      <td> Nov-2014</td>\n",
        "      <td> 0</td>\n",
        "      <td> 51</td>\n",
        "      <td> 1</td>\n",
        "      <td> 0</td>\n",
        "      <td> 0</td>\n",
        "      <td> 0</td>\n",
        "      <td> 1</td>\n",
        "      <td> 0</td>\n",
        "      <td> 0</td>\n",
        "      <td> 0</td>\n",
        "      <td> 0</td>\n",
        "      <td> 0</td>\n",
        "      <td> 1</td>\n",
        "      <td> 0</td>\n",
        "      <td> 30</td>\n",
        "      <td> 9</td>\n",
        "      <td> 2014</td>\n",
        "      <td> 10</td>\n",
        "      <td> 2014</td>\n",
        "      <td> 0</td>\n",
        "      <td> 0</td>\n",
        "      <td> 0</td>\n",
        "      <td> 1</td>\n",
        "      <td> 0</td>\n",
        "      <td> 0</td>\n",
        "      <td> 0</td>\n",
        "      <td> 0</td>\n",
        "      <td> 0</td>\n",
        "      <td> 0</td>\n",
        "      <td> 0</td>\n",
        "      <td> 0</td>\n",
        "      <td> 0</td>\n",
        "      <td> 0</td>\n",
        "      <td> 0</td>\n",
        "      <td> 0</td>\n",
        "      <td> 0</td>\n",
        "      <td> 0</td>\n",
        "      <td> 0</td>\n",
        "      <td> 0</td>\n",
        "      <td> 0</td>\n",
        "      <td> 0</td>\n",
        "      <td> 0</td>\n",
        "      <td> 0</td>\n",
        "      <td> 0</td>\n",
        "      <td> 0</td>\n",
        "      <td> 0</td>\n",
        "      <td> 0</td>\n",
        "      <td> 0</td>\n",
        "      <td> 0</td>\n",
        "      <td> 0</td>\n",
        "      <td> 0</td>\n",
        "      <td> 0</td>\n",
        "      <td> 0</td>\n",
        "      <td> 0</td>\n",
        "      <td> 0</td>\n",
        "      <td> 0</td>\n",
        "      <td> 1</td>\n",
        "      <td> 0</td>\n",
        "      <td> 0</td>\n",
        "      <td> 0</td>\n",
        "      <td> 0</td>\n",
        "      <td> 0</td>\n",
        "      <td> 0</td>\n",
        "      <td> 0</td>\n",
        "      <td> 0</td>\n",
        "      <td> 0</td>\n",
        "      <td> 0</td>\n",
        "      <td> 0</td>\n",
        "      <td> 0</td>\n",
        "      <td> 0</td>\n",
        "      <td> 0</td>\n",
        "      <td> 0</td>\n",
        "      <td> 0</td>\n",
        "      <td> 0</td>\n",
        "      <td> 0</td>\n",
        "      <td> 0</td>\n",
        "      <td> 0</td>\n",
        "      <td> 0</td>\n",
        "      <td> 20</td>\n",
        "      <td> 3</td>\n",
        "      <td> 16</td>\n",
        "      <td> 0.118417</td>\n",
        "      <td> 7.3</td>\n",
        "      <td> 6.6</td>\n",
        "      <td> 6.5</td>\n",
        "      <td> 15.25</td>\n",
        "    </tr>\n",
        "    <tr>\n",
        "      <th>8</th>\n",
        "      <td> 27711360</td>\n",
        "      <td> 30174474</td>\n",
        "      <td>  6200</td>\n",
        "      <td>  6200</td>\n",
        "      <td>  6200</td>\n",
        "      <td> 0</td>\n",
        "      <td> 12.49</td>\n",
        "      <td> 207.39</td>\n",
        "      <td> 5</td>\n",
        "      <td> 34</td>\n",
        "      <td>  8</td>\n",
        "      <td>     RENT</td>\n",
        "      <td>  56000</td>\n",
        "      <td> 1</td>\n",
        "      <td>2014-09-01</td>\n",
        "      <td> 1</td>\n",
        "      <td> n</td>\n",
        "      <td> https://www.lendingclub.com/browse/loanDetail....</td>\n",
        "      <td> bmFu</td>\n",
        "      <td> debt_consolidation</td>\n",
        "      <td>      Debt consolidation</td>\n",
        "      <td> 787</td>\n",
        "      <td> TX</td>\n",
        "      <td> 10.54</td>\n",
        "      <td> 0</td>\n",
        "      <td> Sep-2000</td>\n",
        "      <td> 0</td>\n",
        "      <td> 45</td>\n",
        "      <td>  43</td>\n",
        "      <td> 13</td>\n",
        "      <td> 1</td>\n",
        "      <td>  5200</td>\n",
        "      <td> 38.8</td>\n",
        "      <td> 31</td>\n",
        "      <td> 0</td>\n",
        "      <td> 0</td>\n",
        "      <td>  6264.540000</td>\n",
        "      <td>  6264.54</td>\n",
        "      <td>  6200</td>\n",
        "      <td>  64.54</td>\n",
        "      <td> 0</td>\n",
        "      <td> 0</td>\n",
        "      <td> 0</td>\n",
        "      <td>2014-10-01</td>\n",
        "      <td>  6264.54</td>\n",
        "      <td> NaN</td>\n",
        "      <td> Nov-2014</td>\n",
        "      <td> 0</td>\n",
        "      <td> 65</td>\n",
        "      <td> 1</td>\n",
        "      <td> 0</td>\n",
        "      <td> 1</td>\n",
        "      <td> 0</td>\n",
        "      <td> 0</td>\n",
        "      <td> 0</td>\n",
        "      <td> 0</td>\n",
        "      <td> 0</td>\n",
        "      <td> 0</td>\n",
        "      <td> 0</td>\n",
        "      <td> 0</td>\n",
        "      <td> 1</td>\n",
        "      <td> 30</td>\n",
        "      <td> 9</td>\n",
        "      <td> 2014</td>\n",
        "      <td> 10</td>\n",
        "      <td> 2014</td>\n",
        "      <td> 0</td>\n",
        "      <td> 0</td>\n",
        "      <td> 1</td>\n",
        "      <td> 0</td>\n",
        "      <td> 0</td>\n",
        "      <td> 0</td>\n",
        "      <td> 0</td>\n",
        "      <td> 0</td>\n",
        "      <td> 0</td>\n",
        "      <td> 0</td>\n",
        "      <td> 0</td>\n",
        "      <td> 0</td>\n",
        "      <td> 0</td>\n",
        "      <td> 0</td>\n",
        "      <td> 0</td>\n",
        "      <td> 0</td>\n",
        "      <td> 0</td>\n",
        "      <td> 0</td>\n",
        "      <td> 0</td>\n",
        "      <td> 0</td>\n",
        "      <td> 0</td>\n",
        "      <td> 0</td>\n",
        "      <td> 0</td>\n",
        "      <td> 0</td>\n",
        "      <td> 0</td>\n",
        "      <td> 0</td>\n",
        "      <td> 0</td>\n",
        "      <td> 0</td>\n",
        "      <td> 0</td>\n",
        "      <td> 0</td>\n",
        "      <td> 0</td>\n",
        "      <td> 0</td>\n",
        "      <td> 0</td>\n",
        "      <td> 0</td>\n",
        "      <td> 0</td>\n",
        "      <td> 0</td>\n",
        "      <td> 0</td>\n",
        "      <td> 0</td>\n",
        "      <td> 0</td>\n",
        "      <td> 0</td>\n",
        "      <td> 0</td>\n",
        "      <td> 0</td>\n",
        "      <td> 0</td>\n",
        "      <td> 0</td>\n",
        "      <td> 0</td>\n",
        "      <td> 0</td>\n",
        "      <td> 0</td>\n",
        "      <td> 0</td>\n",
        "      <td> 0</td>\n",
        "      <td> 0</td>\n",
        "      <td> 0</td>\n",
        "      <td> 1</td>\n",
        "      <td> 0</td>\n",
        "      <td> 0</td>\n",
        "      <td> 0</td>\n",
        "      <td> 0</td>\n",
        "      <td> 0</td>\n",
        "      <td> 0</td>\n",
        "      <td> 0</td>\n",
        "      <td> 15</td>\n",
        "      <td> 3</td>\n",
        "      <td> 18</td>\n",
        "      <td> 0.044441</td>\n",
        "      <td> 6.2</td>\n",
        "      <td> 5.3</td>\n",
        "      <td> 5.5</td>\n",
        "      <td> 11.45</td>\n",
        "    </tr>\n",
        "    <tr>\n",
        "      <th>9</th>\n",
        "      <td> 27531299</td>\n",
        "      <td> 30034425</td>\n",
        "      <td>  7800</td>\n",
        "      <td>  7800</td>\n",
        "      <td>  7800</td>\n",
        "      <td> 0</td>\n",
        "      <td>  6.49</td>\n",
        "      <td> 239.03</td>\n",
        "      <td> 2</td>\n",
        "      <td> 17</td>\n",
        "      <td> 10</td>\n",
        "      <td>     RENT</td>\n",
        "      <td>  61500</td>\n",
        "      <td> 1</td>\n",
        "      <td>2014-09-01</td>\n",
        "      <td> 1</td>\n",
        "      <td> n</td>\n",
        "      <td> https://www.lendingclub.com/browse/loanDetail....</td>\n",
        "      <td> bmFu</td>\n",
        "      <td>        credit_card</td>\n",
        "      <td> Credit card refinancing</td>\n",
        "      <td> 072</td>\n",
        "      <td> NJ</td>\n",
        "      <td> 31.63</td>\n",
        "      <td> 0</td>\n",
        "      <td> Mar-1987</td>\n",
        "      <td> 0</td>\n",
        "      <td> -1</td>\n",
        "      <td>  -1</td>\n",
        "      <td> 16</td>\n",
        "      <td> 0</td>\n",
        "      <td>  7265</td>\n",
        "      <td> 24.5</td>\n",
        "      <td> 32</td>\n",
        "      <td> 0</td>\n",
        "      <td> 0</td>\n",
        "      <td>  7846.510000</td>\n",
        "      <td>  7846.51</td>\n",
        "      <td>  7800</td>\n",
        "      <td>  46.51</td>\n",
        "      <td> 0</td>\n",
        "      <td> 0</td>\n",
        "      <td> 0</td>\n",
        "      <td>2014-10-01</td>\n",
        "      <td>  7846.51</td>\n",
        "      <td> NaN</td>\n",
        "      <td> Oct-2014</td>\n",
        "      <td> 0</td>\n",
        "      <td> -1</td>\n",
        "      <td> 1</td>\n",
        "      <td> 1</td>\n",
        "      <td> 0</td>\n",
        "      <td> 0</td>\n",
        "      <td> 0</td>\n",
        "      <td> 0</td>\n",
        "      <td> 0</td>\n",
        "      <td> 0</td>\n",
        "      <td> 0</td>\n",
        "      <td> 0</td>\n",
        "      <td> 0</td>\n",
        "      <td> 1</td>\n",
        "      <td> 30</td>\n",
        "      <td> 9</td>\n",
        "      <td> 2014</td>\n",
        "      <td> 10</td>\n",
        "      <td> 2014</td>\n",
        "      <td> 0</td>\n",
        "      <td> 1</td>\n",
        "      <td> 0</td>\n",
        "      <td> 0</td>\n",
        "      <td> 0</td>\n",
        "      <td> 0</td>\n",
        "      <td> 0</td>\n",
        "      <td> 0</td>\n",
        "      <td> 0</td>\n",
        "      <td> 0</td>\n",
        "      <td> 0</td>\n",
        "      <td> 0</td>\n",
        "      <td> 0</td>\n",
        "      <td> 0</td>\n",
        "      <td> 0</td>\n",
        "      <td> 0</td>\n",
        "      <td> 0</td>\n",
        "      <td> 0</td>\n",
        "      <td> 0</td>\n",
        "      <td> 0</td>\n",
        "      <td> 0</td>\n",
        "      <td> 0</td>\n",
        "      <td> 0</td>\n",
        "      <td> 0</td>\n",
        "      <td> 0</td>\n",
        "      <td> 0</td>\n",
        "      <td> 0</td>\n",
        "      <td> 0</td>\n",
        "      <td> 0</td>\n",
        "      <td> 0</td>\n",
        "      <td> 0</td>\n",
        "      <td> 0</td>\n",
        "      <td> 0</td>\n",
        "      <td> 0</td>\n",
        "      <td> 0</td>\n",
        "      <td> 0</td>\n",
        "      <td> 0</td>\n",
        "      <td> 0</td>\n",
        "      <td> 0</td>\n",
        "      <td> 1</td>\n",
        "      <td> 0</td>\n",
        "      <td> 0</td>\n",
        "      <td> 0</td>\n",
        "      <td> 0</td>\n",
        "      <td> 0</td>\n",
        "      <td> 0</td>\n",
        "      <td> 0</td>\n",
        "      <td> 0</td>\n",
        "      <td> 0</td>\n",
        "      <td> 0</td>\n",
        "      <td> 0</td>\n",
        "      <td> 0</td>\n",
        "      <td> 0</td>\n",
        "      <td> 0</td>\n",
        "      <td> 0</td>\n",
        "      <td> 0</td>\n",
        "      <td> 0</td>\n",
        "      <td> 0</td>\n",
        "      <td> 0</td>\n",
        "      <td> 28</td>\n",
        "      <td> 3</td>\n",
        "      <td> 23</td>\n",
        "      <td> 0.046640</td>\n",
        "      <td> 7.7</td>\n",
        "      <td> 7.6</td>\n",
        "      <td> 6.4</td>\n",
        "      <td>  5.45</td>\n",
        "    </tr>\n",
        "  </tbody>\n",
        "</table>\n",
        "<p>10 rows \u00d7 133 columns</p>\n",
        "</div>"
       ],
       "metadata": {},
       "output_type": "pyout",
       "prompt_number": 61,
       "text": [
        "         id  member_id  loan_amnt  funded_amnt  funded_amnt_inv  term  \\\n",
        "0  27521813   30024948      28750        28750            28750     1   \n",
        "1  27522055   30025199      17000        17000            16975     0   \n",
        "2  27541860   30044989      20000        20000            20000     1   \n",
        "3  27691885   30205040      10000        10000            10000     1   \n",
        "4  27511563   30014695      10000        10000            10000     0   \n",
        "5  27531551   30034689       4000         4000             4000     0   \n",
        "6  27571343   30074474      10000        10000            10000     0   \n",
        "7  27571151   30074267      25000        25000            25000     1   \n",
        "8  27711360   30174474       6200         6200             6200     0   \n",
        "9  27531299   30034425       7800         7800             7800     0   \n",
        "\n",
        "   int_rate  installment sub_grade  emp_title  emp_length home_ownership  \\\n",
        "0      9.17       599.18         1          3           1       MORTGAGE   \n",
        "1      6.49       520.96         2         22           3       MORTGAGE   \n",
        "2     11.67       441.57         4         14           4       MORTGAGE   \n",
        "3     23.43       284.39         1         15           2       MORTGAGE   \n",
        "4      6.49       306.45         2         12           2       MORTGAGE   \n",
        "5     13.98       136.68         3         17           2           RENT   \n",
        "6     19.52       369.20         2          9           3           RENT   \n",
        "7     16.29       611.82         2         21           0            OWN   \n",
        "8     12.49       207.39         5         34           8           RENT   \n",
        "9      6.49       239.03         2         17          10           RENT   \n",
        "\n",
        "   annual_inc  is_inc_v    issue_d  loan_status pymnt_plan  \\\n",
        "0       59736         2 2014-09-01            1          n   \n",
        "1      129996         0 2014-09-01            1          n   \n",
        "2      100000         1 2014-09-01            1          n   \n",
        "3       68000         2 2014-09-01            1          n   \n",
        "4       80000         0 2014-09-01            1          n   \n",
        "5       45600         0 2014-09-01            1          n   \n",
        "6       25000         1 2014-09-01            1          n   \n",
        "7       62000         1 2014-09-01            1          n   \n",
        "8       56000         1 2014-09-01            1          n   \n",
        "9       61500         1 2014-09-01            1          n   \n",
        "\n",
        "                                                 url  desc  \\\n",
        "0  https://www.lendingclub.com/browse/loanDetail....  bmFu   \n",
        "1  https://www.lendingclub.com/browse/loanDetail....  bmFu   \n",
        "2  https://www.lendingclub.com/browse/loanDetail....  bmFu   \n",
        "3  https://www.lendingclub.com/browse/loanDetail....  bmFu   \n",
        "4  https://www.lendingclub.com/browse/loanDetail....  bmFu   \n",
        "5  https://www.lendingclub.com/browse/loanDetail....  bmFu   \n",
        "6  https://www.lendingclub.com/browse/loanDetail....  bmFu   \n",
        "7  https://www.lendingclub.com/browse/loanDetail....  bmFu   \n",
        "8  https://www.lendingclub.com/browse/loanDetail....  bmFu   \n",
        "9  https://www.lendingclub.com/browse/loanDetail....  bmFu   \n",
        "\n",
        "              purpose                    title zip_code addr_state    dti  \\\n",
        "0  debt_consolidation       Debt consolidation      207         MD  21.33   \n",
        "1                 car            Car financing      296         SC   7.07   \n",
        "2  debt_consolidation       Debt consolidation      217         MD   7.72   \n",
        "3  debt_consolidation       Debt consolidation      407         KY  24.57   \n",
        "4  debt_consolidation       Debt consolidation      712         LA  13.13   \n",
        "5         credit_card  Credit card refinancing      267         WV  19.45   \n",
        "6              moving    Moving and relocation      124         NY  23.67   \n",
        "7    home_improvement         Home improvement      275         NC  16.82   \n",
        "8  debt_consolidation       Debt consolidation      787         TX  10.54   \n",
        "9         credit_card  Credit card refinancing      072         NJ  31.63   \n",
        "\n",
        "   delinq_2yrs earliest_cr_line  inq_last_6mths  mths_since_last_delinq  \\\n",
        "0            0         Aug-2001               0                      -1   \n",
        "1            1         Feb-1996               1                       5   \n",
        "2            1         Sep-1995               1                      22   \n",
        "3            0         Jan-2003               3                      32   \n",
        "4            0         Feb-1995               1                      39   \n",
        "5            1         Aug-1992               1                      22   \n",
        "6            0         Nov-2007               1                      55   \n",
        "7            0         Dec-1995               0                      35   \n",
        "8            0         Sep-2000               0                      45   \n",
        "9            0         Mar-1987               0                      -1   \n",
        "\n",
        "   mths_since_last_record  open_acc  pub_rec  revol_bal  revol_util  \\\n",
        "0                      -1        11        0      56838        28.4   \n",
        "1                      -1         8        0       7845        13.9   \n",
        "2                      -1        11        0      11481        64.9   \n",
        "3                      -1        13        0      10971        47.5   \n",
        "4                      -1        13        0        139         0.3   \n",
        "5                      81         9        1      11479        72.7   \n",
        "6                      -1        11        0       8301        58.9   \n",
        "7                     114        11        1      12486        73.0   \n",
        "8                      43        13        1       5200        38.8   \n",
        "9                      -1        16        0       7265        24.5   \n",
        "\n",
        "   total_acc  out_prncp  out_prncp_inv   total_pymnt  total_pymnt_inv  \\\n",
        "0         29          0              0  28969.700000         28969.70   \n",
        "1         21          0              0  17100.910000         17075.76   \n",
        "2         34          0              0  20194.500000         20194.50   \n",
        "3         45          0              0  10382.310000         10382.31   \n",
        "4         35          0              0  10071.660000         10071.66   \n",
        "5         32          0              0   4092.150568          4092.15   \n",
        "6         19          0              0  10162.666667         10162.67   \n",
        "7         22          0              0  25675.060000         25675.06   \n",
        "8         31          0              0   6264.540000          6264.54   \n",
        "9         32          0              0   7846.510000          7846.51   \n",
        "\n",
        "   total_rec_prncp  total_rec_int  total_rec_late_fee  recoveries  \\\n",
        "0            28750         219.70                   0           0   \n",
        "1            17000         100.91                   0           0   \n",
        "2            20000         194.50                   0           0   \n",
        "3            10000         382.31                   0           0   \n",
        "4            10000          71.66                   0           0   \n",
        "5             4000          92.15                   0           0   \n",
        "6            10000         162.67                   0           0   \n",
        "7            25000         675.06                   0           0   \n",
        "8             6200          64.54                   0           0   \n",
        "9             7800          46.51                   0           0   \n",
        "\n",
        "   collection_recovery_fee  last_pymnt_d  last_pymnt_amnt next_pymnt_d  \\\n",
        "0                        0    2014-10-01         28969.70          NaN   \n",
        "1                        0    2014-10-01         17100.91          NaN   \n",
        "2                        0    2014-10-01         20194.50          NaN   \n",
        "3                        0    2014-10-01         10382.31          NaN   \n",
        "4                        0    2014-10-01         10071.66          NaN   \n",
        "5                        0    2014-11-01          3955.47          NaN   \n",
        "6                        0    2014-10-01         10162.67          NaN   \n",
        "7                        0    2014-10-01         25675.06          NaN   \n",
        "8                        0    2014-10-01          6264.54          NaN   \n",
        "9                        0    2014-10-01          7846.51          NaN   \n",
        "\n",
        "  last_credit_pull_d  collections_12_mths_ex_med  mths_since_last_major_derog  \\\n",
        "0           Oct-2014                           0                           -1   \n",
        "1           Oct-2014                           0                           -1   \n",
        "2           Oct-2014                           0                           22   \n",
        "3           Nov-2014                           0                           -1   \n",
        "4           Nov-2014                           0                           -1   \n",
        "5           Nov-2014                           0                           22   \n",
        "6           Oct-2014                           0                           55   \n",
        "7           Nov-2014                           0                           51   \n",
        "8           Nov-2014                           0                           65   \n",
        "9           Oct-2014                           0                           -1   \n",
        "\n",
        "   policy_code  A  B  C  D  E  F  G  ANY  MORTGAGE  OWN  RENT  days_active  \\\n",
        "0            1  0  1  0  0  0  0  0    0         1    0     0           30   \n",
        "1            1  1  0  0  0  0  0  0    0         1    0     0           30   \n",
        "2            1  0  1  0  0  0  0  0    0         1    0     0           30   \n",
        "3            1  0  0  0  0  0  1  0    0         1    0     0           30   \n",
        "4            1  1  0  0  0  0  0  0    0         1    0     0           30   \n",
        "5            1  0  0  1  0  0  0  0    0         0    0     1           61   \n",
        "6            1  0  0  0  0  1  0  0    0         0    0     1           30   \n",
        "7            1  0  0  0  1  0  0  0    0         0    1     0           30   \n",
        "8            1  0  1  0  0  0  0  0    0         0    0     1           30   \n",
        "9            1  1  0  0  0  0  0  0    0         0    0     1           30   \n",
        "\n",
        "   issue_month  issue_year  last_pymnt_month  last_pymnt_year  car  \\\n",
        "0            9        2014                10             2014    0   \n",
        "1            9        2014                10             2014    1   \n",
        "2            9        2014                10             2014    0   \n",
        "3            9        2014                10             2014    0   \n",
        "4            9        2014                10             2014    0   \n",
        "5            9        2014                11             2014    0   \n",
        "6            9        2014                10             2014    0   \n",
        "7            9        2014                10             2014    0   \n",
        "8            9        2014                10             2014    0   \n",
        "9            9        2014                10             2014    0   \n",
        "\n",
        "   credit_card  debt_consolidation  home_improvement  house  major_purchase  \\\n",
        "0            0                   1                 0      0               0   \n",
        "1            0                   0                 0      0               0   \n",
        "2            0                   1                 0      0               0   \n",
        "3            0                   1                 0      0               0   \n",
        "4            0                   1                 0      0               0   \n",
        "5            1                   0                 0      0               0   \n",
        "6            0                   0                 0      0               0   \n",
        "7            0                   0                 1      0               0   \n",
        "8            0                   1                 0      0               0   \n",
        "9            1                   0                 0      0               0   \n",
        "\n",
        "   medical  moving  other  renewable_energy  small_business  vacation  \\\n",
        "0        0       0      0                 0               0         0   \n",
        "1        0       0      0                 0               0         0   \n",
        "2        0       0      0                 0               0         0   \n",
        "3        0       0      0                 0               0         0   \n",
        "4        0       0      0                 0               0         0   \n",
        "5        0       0      0                 0               0         0   \n",
        "6        0       1      0                 0               0         0   \n",
        "7        0       0      0                 0               0         0   \n",
        "8        0       0      0                 0               0         0   \n",
        "9        0       0      0                 0               0         0   \n",
        "\n",
        "   wedding  AK  AL  AR  AZ  CA  CO  CT  DC  DE  FL  GA  HI  IL  IN  KS  KY  \\\n",
        "0        0   0   0   0   0   0   0   0   0   0   0   0   0   0   0   0   0   \n",
        "1        0   0   0   0   0   0   0   0   0   0   0   0   0   0   0   0   0   \n",
        "2        0   0   0   0   0   0   0   0   0   0   0   0   0   0   0   0   0   \n",
        "3        0   0   0   0   0   0   0   0   0   0   0   0   0   0   0   0   1   \n",
        "4        0   0   0   0   0   0   0   0   0   0   0   0   0   0   0   0   0   \n",
        "5        0   0   0   0   0   0   0   0   0   0   0   0   0   0   0   0   0   \n",
        "6        0   0   0   0   0   0   0   0   0   0   0   0   0   0   0   0   0   \n",
        "7        0   0   0   0   0   0   0   0   0   0   0   0   0   0   0   0   0   \n",
        "8        0   0   0   0   0   0   0   0   0   0   0   0   0   0   0   0   0   \n",
        "9        0   0   0   0   0   0   0   0   0   0   0   0   0   0   0   0   0   \n",
        "\n",
        "   LA  MA  MD  MI  MN  MO  MS  MT  NC  NH  NJ  NM  NV  NY  OH  OK  OR  PA  RI  \\\n",
        "0   0   0   1   0   0   0   0   0   0   0   0   0   0   0   0   0   0   0   0   \n",
        "1   0   0   0   0   0   0   0   0   0   0   0   0   0   0   0   0   0   0   0   \n",
        "2   0   0   1   0   0   0   0   0   0   0   0   0   0   0   0   0   0   0   0   \n",
        "3   0   0   0   0   0   0   0   0   0   0   0   0   0   0   0   0   0   0   0   \n",
        "4   1   0   0   0   0   0   0   0   0   0   0   0   0   0   0   0   0   0   0   \n",
        "5   0   0   0   0   0   0   0   0   0   0   0   0   0   0   0   0   0   0   0   \n",
        "6   0   0   0   0   0   0   0   0   0   0   0   0   0   1   0   0   0   0   0   \n",
        "7   0   0   0   0   0   0   0   0   1   0   0   0   0   0   0   0   0   0   0   \n",
        "8   0   0   0   0   0   0   0   0   0   0   0   0   0   0   0   0   0   0   0   \n",
        "9   0   0   0   0   0   0   0   0   0   0   1   0   0   0   0   0   0   0   0   \n",
        "\n",
        "   SC  SD  TN  TX  UT  VA  VT  WA  WI  WV  WY  yrs_since_first_cr_line  \\\n",
        "0   0   0   0   0   0   0   0   0   0   0   0                       14   \n",
        "1   1   0   0   0   0   0   0   0   0   0   0                       19   \n",
        "2   0   0   0   0   0   0   0   0   0   0   0                       20   \n",
        "3   0   0   0   0   0   0   0   0   0   0   0                       12   \n",
        "4   0   0   0   0   0   0   0   0   0   0   0                       20   \n",
        "5   0   0   0   0   0   0   0   0   0   1   0                       23   \n",
        "6   0   0   0   0   0   0   0   0   0   0   0                        8   \n",
        "7   0   0   0   0   0   0   0   0   0   0   0                       20   \n",
        "8   0   0   0   1   0   0   0   0   0   0   0                       15   \n",
        "9   0   0   0   0   0   0   0   0   0   0   0                       28   \n",
        "\n",
        "   desc_length  title_length  install_frac_of_monthly_inc  unemp_rate_12mths  \\\n",
        "0            3            18                     0.120366                6.2   \n",
        "1            3            13                     0.048090                7.2   \n",
        "2            3            18                     0.052988                6.2   \n",
        "3            3            18                     0.050186                7.9   \n",
        "4            3            18                     0.045967                6.0   \n",
        "5            3            23                     0.035968                5.7   \n",
        "6            3            21                     0.177216                7.4   \n",
        "7            3            16                     0.118417                7.3   \n",
        "8            3            18                     0.044441                6.2   \n",
        "9            3            23                     0.046640                7.7   \n",
        "\n",
        "   unemp_rate_6mths  unemp_rate_3mths  implied_risk  \n",
        "0               5.8               6.2          8.13  \n",
        "1               5.4               5.7          5.45  \n",
        "2               5.8               6.2         10.63  \n",
        "3               8.4               7.4         22.39  \n",
        "4               4.5               5.7          5.45  \n",
        "5               6.9               5.9         12.94  \n",
        "6               7.2               6.5         18.48  \n",
        "7               6.6               6.5         15.25  \n",
        "8               5.3               5.5         11.45  \n",
        "9               7.6               6.4          5.45  \n",
        "\n",
        "[10 rows x 133 columns]"
       ]
      }
     ],
     "prompt_number": 61
    },
    {
     "cell_type": "code",
     "collapsed": false,
     "input": [],
     "language": "python",
     "metadata": {},
     "outputs": []
    },
    {
     "cell_type": "code",
     "collapsed": false,
     "input": [],
     "language": "python",
     "metadata": {},
     "outputs": []
    },
    {
     "cell_type": "code",
     "collapsed": false,
     "input": [],
     "language": "python",
     "metadata": {},
     "outputs": []
    },
    {
     "cell_type": "code",
     "collapsed": false,
     "input": [],
     "language": "python",
     "metadata": {},
     "outputs": []
    },
    {
     "cell_type": "code",
     "collapsed": false,
     "input": [
      "days_active = loanData['last_pymnt_d'] - loanData['issue_d']\n",
      "loanData['days_active'] = [x.item().days for x in days_active]"
     ],
     "language": "python",
     "metadata": {},
     "outputs": [],
     "prompt_number": 6
    },
    {
     "cell_type": "code",
     "collapsed": false,
     "input": [
      "loanData = loanData.drop(['issue_d', 'last_pymnt_d'], 1)"
     ],
     "language": "python",
     "metadata": {},
     "outputs": [],
     "prompt_number": 7
    },
    {
     "cell_type": "code",
     "collapsed": false,
     "input": [],
     "language": "python",
     "metadata": {},
     "outputs": [],
     "prompt_number": 8
    },
    {
     "cell_type": "code",
     "collapsed": false,
     "input": [
      "loanData['install_frac_of_monthly_inc'] = loanData['installment']/loanData['annual_inc']*12.0"
     ],
     "language": "python",
     "metadata": {},
     "outputs": [],
     "prompt_number": 9
    },
    {
     "cell_type": "code",
     "collapsed": false,
     "input": [
      "s = [x.item().days for x in days_active]"
     ],
     "language": "python",
     "metadata": {},
     "outputs": [],
     "prompt_number": 60
    },
    {
     "cell_type": "code",
     "collapsed": false,
     "input": [
      "mysql = mysql_connector.MySQL_Connector()\n",
      "mysql.connect()\n",
      "unemp_rate_tuple = mysql.execute(\"SELECT * FROM unemployment_rates\")\n",
      "\n",
      "unemp_rate_dict = dict()\n",
      "for entry in unemp_rate_tuple:\n",
      "\tunemp_state = entry[1]\n",
      "\tunemp_year = entry[2]\n",
      "\tunemp_month = entry[3]\n",
      "\tunemp_rate = entry[4]\n",
      "\tkey = \"%s%s%s\" %(unemp_state, unemp_year, unemp_month)\n",
      "\tunemp_rate_dict[key] = unemp_rate\n",
      "loanData['unemp_rate_12mths'] = 0\n",
      "loanData['unemp_rate_6mths'] = 0\n",
      "loanData['unemp_rate_3mths'] = 0\n",
      "for i, loan in enumerate(loanData):\n",
      "\tprint i, loanData['addr_state'][i], loanData['issue_year'][i], loanData['issue_month'][i]\n",
      "\tkey_12mths = \"%s%s%s\" %(loanData['addr_state'][i],\n",
      "\t\t\t\t\t\t\t(loanData['issue_year'][i]-1),\n",
      "\t\t\t\t\t\t\tloanData['issue_month'][i])\n",
      "\tif loanData['issue_month'][i] <= 6:\n",
      "\t\tkey_6mths = \"%s%s%s\" %(loanData['addr_state'][i],\n",
      "\t\t\t\t\t\t\t\t(loanData['issue_year'][i]-1),\n",
      "\t\t\t\t\t\t\t\tloanData['issue_month'][i]+6)\n",
      "\telse:\n",
      "\t\tkey_6mths = \"%s%s%s\" %(loanData['addr_state'][i],\n",
      "\t\t\t\t\t\t\t\t(loanData['issue_year'][i]),\n",
      "\t\t\t\t\t\t\t\tloanData['issue_month'][i]-6)\n",
      "\tif loanData['issue_month'][i] <= 3:\n",
      "\t\tkey_3mths = \"%s%s%s\" %(loanData['addr_state'][i],\n",
      "\t\t\t\t\t\t\t\t(loanData['issue_year'][i]-1),\n",
      "\t\t\t\t\t\t\t\tloanData['issue_month'][i]+3)\n",
      "\telse:\n",
      "\t\tkey_3mths = \"%s%s%s\" %(loanData['addr_state'][i],\n",
      "\t\t\t\t\t\t\t\t(loanData['issue_year'][i]),\n",
      "\t\t\t\t\t\t\t\tloanData['issue_month'][i]-3)\n",
      "\ttry:\n",
      "\t\tloanData['unemp_rate_12mths'].iloc[i] = unemp_rate_dict[key_12mths]\n",
      "\t\tloanData['unemp_rate_6mths'].iloc[i] = unemp_rate_dict[key_6mths]\n",
      "\t\tloanData['unemp_rate_3mths'].iloc[i] = unemp_rate_dict[key_3mths]\n",
      "\texcept KeyError:\n",
      "\t\tprint KeyError, \"loan \", i\n",
      "\t\tloanData = loanData.drop(loanData.index[i])\n",
      "mysql.disconnect()"
     ],
     "language": "python",
     "metadata": {},
     "outputs": [
      {
       "output_type": "stream",
       "stream": "stdout",
       "text": [
        "0"
       ]
      },
      {
       "ename": "KeyError",
       "evalue": "u'no item named addr_state'",
       "output_type": "pyerr",
       "traceback": [
        "\u001b[0;31m---------------------------------------------------------------------------\u001b[0m\n\u001b[0;31mKeyError\u001b[0m                                  Traceback (most recent call last)",
        "\u001b[0;32m<ipython-input-4-c5fdb8792fea>\u001b[0m in \u001b[0;36m<module>\u001b[0;34m()\u001b[0m\n\u001b[1;32m     15\u001b[0m \u001b[0mloanData\u001b[0m\u001b[0;34m[\u001b[0m\u001b[0;34m'unemp_rate_3mths'\u001b[0m\u001b[0;34m]\u001b[0m \u001b[0;34m=\u001b[0m \u001b[0;36m0\u001b[0m\u001b[0;34m\u001b[0m\u001b[0m\n\u001b[1;32m     16\u001b[0m \u001b[0;32mfor\u001b[0m \u001b[0mi\u001b[0m\u001b[0;34m,\u001b[0m \u001b[0mloan\u001b[0m \u001b[0;32min\u001b[0m \u001b[0menumerate\u001b[0m\u001b[0;34m(\u001b[0m\u001b[0mloanData\u001b[0m\u001b[0;34m)\u001b[0m\u001b[0;34m:\u001b[0m\u001b[0;34m\u001b[0m\u001b[0m\n\u001b[0;32m---> 17\u001b[0;31m         \u001b[0;32mprint\u001b[0m \u001b[0mi\u001b[0m\u001b[0;34m,\u001b[0m \u001b[0mloanData\u001b[0m\u001b[0;34m[\u001b[0m\u001b[0;34m'addr_state'\u001b[0m\u001b[0;34m]\u001b[0m\u001b[0;34m[\u001b[0m\u001b[0mi\u001b[0m\u001b[0;34m]\u001b[0m\u001b[0;34m,\u001b[0m \u001b[0mloanData\u001b[0m\u001b[0;34m[\u001b[0m\u001b[0;34m'issue_year'\u001b[0m\u001b[0;34m]\u001b[0m\u001b[0;34m[\u001b[0m\u001b[0mi\u001b[0m\u001b[0;34m]\u001b[0m\u001b[0;34m,\u001b[0m \u001b[0mloanData\u001b[0m\u001b[0;34m[\u001b[0m\u001b[0;34m'issue_month'\u001b[0m\u001b[0;34m]\u001b[0m\u001b[0;34m[\u001b[0m\u001b[0mi\u001b[0m\u001b[0;34m]\u001b[0m\u001b[0;34m\u001b[0m\u001b[0m\n\u001b[0m\u001b[1;32m     18\u001b[0m \tkey_12mths = \"%s%s%s\" %(loanData['addr_state'][i],\n\u001b[1;32m     19\u001b[0m                                                         \u001b[0;34m(\u001b[0m\u001b[0mloanData\u001b[0m\u001b[0;34m[\u001b[0m\u001b[0;34m'issue_year'\u001b[0m\u001b[0;34m]\u001b[0m\u001b[0;34m[\u001b[0m\u001b[0mi\u001b[0m\u001b[0;34m]\u001b[0m\u001b[0;34m-\u001b[0m\u001b[0;36m1\u001b[0m\u001b[0;34m)\u001b[0m\u001b[0;34m,\u001b[0m\u001b[0;34m\u001b[0m\u001b[0m\n",
        "\u001b[0;32m/Library/Python/2.7/site-packages/pandas/core/frame.pyc\u001b[0m in \u001b[0;36m__getitem__\u001b[0;34m(self, key)\u001b[0m\n\u001b[1;32m   1656\u001b[0m             \u001b[0;32mreturn\u001b[0m \u001b[0mself\u001b[0m\u001b[0;34m.\u001b[0m\u001b[0m_getitem_multilevel\u001b[0m\u001b[0;34m(\u001b[0m\u001b[0mkey\u001b[0m\u001b[0;34m)\u001b[0m\u001b[0;34m\u001b[0m\u001b[0m\n\u001b[1;32m   1657\u001b[0m         \u001b[0;32melse\u001b[0m\u001b[0;34m:\u001b[0m\u001b[0;34m\u001b[0m\u001b[0m\n\u001b[0;32m-> 1658\u001b[0;31m             \u001b[0;32mreturn\u001b[0m \u001b[0mself\u001b[0m\u001b[0;34m.\u001b[0m\u001b[0m_getitem_column\u001b[0m\u001b[0;34m(\u001b[0m\u001b[0mkey\u001b[0m\u001b[0;34m)\u001b[0m\u001b[0;34m\u001b[0m\u001b[0m\n\u001b[0m\u001b[1;32m   1659\u001b[0m \u001b[0;34m\u001b[0m\u001b[0m\n\u001b[1;32m   1660\u001b[0m     \u001b[0;32mdef\u001b[0m \u001b[0m_getitem_column\u001b[0m\u001b[0;34m(\u001b[0m\u001b[0mself\u001b[0m\u001b[0;34m,\u001b[0m \u001b[0mkey\u001b[0m\u001b[0;34m)\u001b[0m\u001b[0;34m:\u001b[0m\u001b[0;34m\u001b[0m\u001b[0m\n",
        "\u001b[0;32m/Library/Python/2.7/site-packages/pandas/core/frame.pyc\u001b[0m in \u001b[0;36m_getitem_column\u001b[0;34m(self, key)\u001b[0m\n\u001b[1;32m   1663\u001b[0m         \u001b[0;31m# get column\u001b[0m\u001b[0;34m\u001b[0m\u001b[0;34m\u001b[0m\u001b[0m\n\u001b[1;32m   1664\u001b[0m         \u001b[0;32mif\u001b[0m \u001b[0mself\u001b[0m\u001b[0;34m.\u001b[0m\u001b[0mcolumns\u001b[0m\u001b[0;34m.\u001b[0m\u001b[0mis_unique\u001b[0m\u001b[0;34m:\u001b[0m\u001b[0;34m\u001b[0m\u001b[0m\n\u001b[0;32m-> 1665\u001b[0;31m             \u001b[0;32mreturn\u001b[0m \u001b[0mself\u001b[0m\u001b[0;34m.\u001b[0m\u001b[0m_get_item_cache\u001b[0m\u001b[0;34m(\u001b[0m\u001b[0mkey\u001b[0m\u001b[0;34m)\u001b[0m\u001b[0;34m\u001b[0m\u001b[0m\n\u001b[0m\u001b[1;32m   1666\u001b[0m \u001b[0;34m\u001b[0m\u001b[0m\n\u001b[1;32m   1667\u001b[0m         \u001b[0;31m# duplicate columns & possible reduce dimensionaility\u001b[0m\u001b[0;34m\u001b[0m\u001b[0;34m\u001b[0m\u001b[0m\n",
        "\u001b[0;32m/Library/Python/2.7/site-packages/pandas/core/generic.pyc\u001b[0m in \u001b[0;36m_get_item_cache\u001b[0;34m(self, item)\u001b[0m\n\u001b[1;32m   1003\u001b[0m         \u001b[0mres\u001b[0m \u001b[0;34m=\u001b[0m \u001b[0mcache\u001b[0m\u001b[0;34m.\u001b[0m\u001b[0mget\u001b[0m\u001b[0;34m(\u001b[0m\u001b[0mitem\u001b[0m\u001b[0;34m)\u001b[0m\u001b[0;34m\u001b[0m\u001b[0m\n\u001b[1;32m   1004\u001b[0m         \u001b[0;32mif\u001b[0m \u001b[0mres\u001b[0m \u001b[0;32mis\u001b[0m \u001b[0mNone\u001b[0m\u001b[0;34m:\u001b[0m\u001b[0;34m\u001b[0m\u001b[0m\n\u001b[0;32m-> 1005\u001b[0;31m             \u001b[0mvalues\u001b[0m \u001b[0;34m=\u001b[0m \u001b[0mself\u001b[0m\u001b[0;34m.\u001b[0m\u001b[0m_data\u001b[0m\u001b[0;34m.\u001b[0m\u001b[0mget\u001b[0m\u001b[0;34m(\u001b[0m\u001b[0mitem\u001b[0m\u001b[0;34m)\u001b[0m\u001b[0;34m\u001b[0m\u001b[0m\n\u001b[0m\u001b[1;32m   1006\u001b[0m             \u001b[0mres\u001b[0m \u001b[0;34m=\u001b[0m \u001b[0mself\u001b[0m\u001b[0;34m.\u001b[0m\u001b[0m_box_item_values\u001b[0m\u001b[0;34m(\u001b[0m\u001b[0mitem\u001b[0m\u001b[0;34m,\u001b[0m \u001b[0mvalues\u001b[0m\u001b[0;34m)\u001b[0m\u001b[0;34m\u001b[0m\u001b[0m\n\u001b[1;32m   1007\u001b[0m             \u001b[0mcache\u001b[0m\u001b[0;34m[\u001b[0m\u001b[0mitem\u001b[0m\u001b[0;34m]\u001b[0m \u001b[0;34m=\u001b[0m \u001b[0mres\u001b[0m\u001b[0;34m\u001b[0m\u001b[0m\n",
        "\u001b[0;32m/Library/Python/2.7/site-packages/pandas/core/internals.pyc\u001b[0m in \u001b[0;36mget\u001b[0;34m(self, item)\u001b[0m\n\u001b[1;32m   2871\u001b[0m                 \u001b[0;32mreturn\u001b[0m \u001b[0mself\u001b[0m\u001b[0;34m.\u001b[0m\u001b[0mget_for_nan_indexer\u001b[0m\u001b[0;34m(\u001b[0m\u001b[0mindexer\u001b[0m\u001b[0;34m)\u001b[0m\u001b[0;34m\u001b[0m\u001b[0m\n\u001b[1;32m   2872\u001b[0m \u001b[0;34m\u001b[0m\u001b[0m\n\u001b[0;32m-> 2873\u001b[0;31m             \u001b[0m_\u001b[0m\u001b[0;34m,\u001b[0m \u001b[0mblock\u001b[0m \u001b[0;34m=\u001b[0m \u001b[0mself\u001b[0m\u001b[0;34m.\u001b[0m\u001b[0m_find_block\u001b[0m\u001b[0;34m(\u001b[0m\u001b[0mitem\u001b[0m\u001b[0;34m)\u001b[0m\u001b[0;34m\u001b[0m\u001b[0m\n\u001b[0m\u001b[1;32m   2874\u001b[0m             \u001b[0;32mreturn\u001b[0m \u001b[0mblock\u001b[0m\u001b[0;34m.\u001b[0m\u001b[0mget\u001b[0m\u001b[0;34m(\u001b[0m\u001b[0mitem\u001b[0m\u001b[0;34m)\u001b[0m\u001b[0;34m\u001b[0m\u001b[0m\n\u001b[1;32m   2875\u001b[0m         \u001b[0;32melse\u001b[0m\u001b[0;34m:\u001b[0m\u001b[0;34m\u001b[0m\u001b[0m\n",
        "\u001b[0;32m/Library/Python/2.7/site-packages/pandas/core/internals.pyc\u001b[0m in \u001b[0;36m_find_block\u001b[0;34m(self, item)\u001b[0m\n\u001b[1;32m   3183\u001b[0m \u001b[0;34m\u001b[0m\u001b[0m\n\u001b[1;32m   3184\u001b[0m     \u001b[0;32mdef\u001b[0m \u001b[0m_find_block\u001b[0m\u001b[0;34m(\u001b[0m\u001b[0mself\u001b[0m\u001b[0;34m,\u001b[0m \u001b[0mitem\u001b[0m\u001b[0;34m)\u001b[0m\u001b[0;34m:\u001b[0m\u001b[0;34m\u001b[0m\u001b[0m\n\u001b[0;32m-> 3185\u001b[0;31m         \u001b[0mself\u001b[0m\u001b[0;34m.\u001b[0m\u001b[0m_check_have\u001b[0m\u001b[0;34m(\u001b[0m\u001b[0mitem\u001b[0m\u001b[0;34m)\u001b[0m\u001b[0;34m\u001b[0m\u001b[0m\n\u001b[0m\u001b[1;32m   3186\u001b[0m         \u001b[0;32mfor\u001b[0m \u001b[0mi\u001b[0m\u001b[0;34m,\u001b[0m \u001b[0mblock\u001b[0m \u001b[0;32min\u001b[0m \u001b[0menumerate\u001b[0m\u001b[0;34m(\u001b[0m\u001b[0mself\u001b[0m\u001b[0;34m.\u001b[0m\u001b[0mblocks\u001b[0m\u001b[0;34m)\u001b[0m\u001b[0;34m:\u001b[0m\u001b[0;34m\u001b[0m\u001b[0m\n\u001b[1;32m   3187\u001b[0m             \u001b[0;32mif\u001b[0m \u001b[0mitem\u001b[0m \u001b[0;32min\u001b[0m \u001b[0mblock\u001b[0m\u001b[0;34m:\u001b[0m\u001b[0;34m\u001b[0m\u001b[0m\n",
        "\u001b[0;32m/Library/Python/2.7/site-packages/pandas/core/internals.pyc\u001b[0m in \u001b[0;36m_check_have\u001b[0;34m(self, item)\u001b[0m\n\u001b[1;32m   3190\u001b[0m     \u001b[0;32mdef\u001b[0m \u001b[0m_check_have\u001b[0m\u001b[0;34m(\u001b[0m\u001b[0mself\u001b[0m\u001b[0;34m,\u001b[0m \u001b[0mitem\u001b[0m\u001b[0;34m)\u001b[0m\u001b[0;34m:\u001b[0m\u001b[0;34m\u001b[0m\u001b[0m\n\u001b[1;32m   3191\u001b[0m         \u001b[0;32mif\u001b[0m \u001b[0mitem\u001b[0m \u001b[0;32mnot\u001b[0m \u001b[0;32min\u001b[0m \u001b[0mself\u001b[0m\u001b[0;34m.\u001b[0m\u001b[0mitems\u001b[0m\u001b[0;34m:\u001b[0m\u001b[0;34m\u001b[0m\u001b[0m\n\u001b[0;32m-> 3192\u001b[0;31m             \u001b[0;32mraise\u001b[0m \u001b[0mKeyError\u001b[0m\u001b[0;34m(\u001b[0m\u001b[0;34m'no item named %s'\u001b[0m \u001b[0;34m%\u001b[0m \u001b[0mcom\u001b[0m\u001b[0;34m.\u001b[0m\u001b[0mpprint_thing\u001b[0m\u001b[0;34m(\u001b[0m\u001b[0mitem\u001b[0m\u001b[0;34m)\u001b[0m\u001b[0;34m)\u001b[0m\u001b[0;34m\u001b[0m\u001b[0m\n\u001b[0m\u001b[1;32m   3193\u001b[0m \u001b[0;34m\u001b[0m\u001b[0m\n\u001b[1;32m   3194\u001b[0m     def reindex_axis(self, new_axis, indexer=None, method=None, axis=0,\n",
        "\u001b[0;31mKeyError\u001b[0m: u'no item named addr_state'"
       ]
      }
     ],
     "prompt_number": 4
    },
    {
     "cell_type": "code",
     "collapsed": false,
     "input": [
      "int_rate_swap_tuple = mysql.execute(\"SELECT * FROM interest_rate_swaps\")\n",
      "\n",
      "int_rate_swap_dict = dict()\n",
      "for entry in int_rate_swap_tuple:\n",
      "\tint_rate_swap_year = entry[1]\n",
      "\tint_rate_swap_rate = entry[3]\n",
      "\tint_rate_swap_dict[int_rate_swap_year] = int_rate_swap_rate\n",
      "\tunemp_rate_dict[key] = unemp_rate\n",
      "loanData['implied_risk'] = 0\n",
      "loanData.index = range(len(loanData))\n",
      "indices_to_drop = []\n",
      "for i in range(len(loanData)):\n",
      "    if i%100 == 0:\n",
      "        print i\n",
      "    year_i = loanData['issue_year'][i]\n",
      "    swap_rate_i = int_rate_swap_dict[year_i]\n",
      "    int_rate_i = loanData['int_rate'][i]\n",
      "    impl_risk = int_rate_i - swap_rate_i\n",
      "    try:\n",
      "        loanData['implied_risk'].iloc[i] = impl_risk\n",
      "    except Error:\n",
      "        print Error, \"loan \", i\n",
      "loanData = loanData[loanData['implied_risk'] != 0]\n",
      "loanData.index = range(len(loanData))"
     ],
     "language": "python",
     "metadata": {},
     "outputs": [
      {
       "output_type": "stream",
       "stream": "stdout",
       "text": [
        "0\n",
        "100"
       ]
      },
      {
       "output_type": "stream",
       "stream": "stdout",
       "text": [
        "\n",
        "200"
       ]
      },
      {
       "output_type": "stream",
       "stream": "stdout",
       "text": [
        "\n",
        "300"
       ]
      },
      {
       "output_type": "stream",
       "stream": "stdout",
       "text": [
        "\n",
        "400"
       ]
      },
      {
       "output_type": "stream",
       "stream": "stdout",
       "text": [
        "\n",
        "500"
       ]
      },
      {
       "output_type": "stream",
       "stream": "stdout",
       "text": [
        "\n",
        "600"
       ]
      },
      {
       "output_type": "stream",
       "stream": "stdout",
       "text": [
        "\n",
        "700"
       ]
      },
      {
       "output_type": "stream",
       "stream": "stdout",
       "text": [
        "\n",
        "800"
       ]
      },
      {
       "output_type": "stream",
       "stream": "stdout",
       "text": [
        "\n",
        "900"
       ]
      },
      {
       "output_type": "stream",
       "stream": "stdout",
       "text": [
        "\n",
        "1000"
       ]
      },
      {
       "output_type": "stream",
       "stream": "stdout",
       "text": [
        "\n",
        "1100"
       ]
      },
      {
       "output_type": "stream",
       "stream": "stdout",
       "text": [
        "\n",
        "1200"
       ]
      },
      {
       "output_type": "stream",
       "stream": "stdout",
       "text": [
        "\n",
        "1300"
       ]
      },
      {
       "output_type": "stream",
       "stream": "stdout",
       "text": [
        "\n",
        "1400"
       ]
      },
      {
       "output_type": "stream",
       "stream": "stdout",
       "text": [
        "\n",
        "1500"
       ]
      },
      {
       "output_type": "stream",
       "stream": "stdout",
       "text": [
        "\n",
        "1600"
       ]
      },
      {
       "output_type": "stream",
       "stream": "stdout",
       "text": [
        "\n",
        "1700"
       ]
      },
      {
       "output_type": "stream",
       "stream": "stdout",
       "text": [
        "\n",
        "1800"
       ]
      },
      {
       "output_type": "stream",
       "stream": "stdout",
       "text": [
        "\n",
        "1900"
       ]
      },
      {
       "output_type": "stream",
       "stream": "stdout",
       "text": [
        "\n",
        "2000"
       ]
      },
      {
       "output_type": "stream",
       "stream": "stdout",
       "text": [
        "\n",
        "2100"
       ]
      },
      {
       "output_type": "stream",
       "stream": "stdout",
       "text": [
        "\n",
        "2200"
       ]
      },
      {
       "output_type": "stream",
       "stream": "stdout",
       "text": [
        "\n",
        "2300"
       ]
      },
      {
       "output_type": "stream",
       "stream": "stdout",
       "text": [
        "\n",
        "2400"
       ]
      },
      {
       "output_type": "stream",
       "stream": "stdout",
       "text": [
        "\n",
        "2500"
       ]
      },
      {
       "output_type": "stream",
       "stream": "stdout",
       "text": [
        "\n",
        "2600"
       ]
      },
      {
       "output_type": "stream",
       "stream": "stdout",
       "text": [
        "\n",
        "2700"
       ]
      },
      {
       "output_type": "stream",
       "stream": "stdout",
       "text": [
        "\n",
        "2800"
       ]
      },
      {
       "output_type": "stream",
       "stream": "stdout",
       "text": [
        "\n",
        "2900"
       ]
      },
      {
       "output_type": "stream",
       "stream": "stdout",
       "text": [
        "\n",
        "3000"
       ]
      },
      {
       "output_type": "stream",
       "stream": "stdout",
       "text": [
        "\n",
        "3100"
       ]
      },
      {
       "output_type": "stream",
       "stream": "stdout",
       "text": [
        "\n",
        "3200"
       ]
      },
      {
       "output_type": "stream",
       "stream": "stdout",
       "text": [
        "\n",
        "3300"
       ]
      },
      {
       "output_type": "stream",
       "stream": "stdout",
       "text": [
        "\n",
        "3400"
       ]
      },
      {
       "output_type": "stream",
       "stream": "stdout",
       "text": [
        "\n",
        "3500"
       ]
      },
      {
       "output_type": "stream",
       "stream": "stdout",
       "text": [
        "\n",
        "3600"
       ]
      },
      {
       "output_type": "stream",
       "stream": "stdout",
       "text": [
        "\n",
        "3700"
       ]
      },
      {
       "output_type": "stream",
       "stream": "stdout",
       "text": [
        "\n",
        "3800"
       ]
      },
      {
       "output_type": "stream",
       "stream": "stdout",
       "text": [
        "\n",
        "3900"
       ]
      },
      {
       "output_type": "stream",
       "stream": "stdout",
       "text": [
        "\n",
        "4000"
       ]
      },
      {
       "output_type": "stream",
       "stream": "stdout",
       "text": [
        "\n",
        "4100"
       ]
      },
      {
       "output_type": "stream",
       "stream": "stdout",
       "text": [
        "\n",
        "4200"
       ]
      },
      {
       "output_type": "stream",
       "stream": "stdout",
       "text": [
        "\n",
        "4300"
       ]
      },
      {
       "output_type": "stream",
       "stream": "stdout",
       "text": [
        "\n",
        "4400"
       ]
      },
      {
       "output_type": "stream",
       "stream": "stdout",
       "text": [
        "\n",
        "4500"
       ]
      },
      {
       "output_type": "stream",
       "stream": "stdout",
       "text": [
        "\n",
        "4600"
       ]
      },
      {
       "output_type": "stream",
       "stream": "stdout",
       "text": [
        "\n",
        "4700"
       ]
      },
      {
       "output_type": "stream",
       "stream": "stdout",
       "text": [
        "\n",
        "4800"
       ]
      },
      {
       "output_type": "stream",
       "stream": "stdout",
       "text": [
        "\n",
        "4900"
       ]
      },
      {
       "output_type": "stream",
       "stream": "stdout",
       "text": [
        "\n",
        "5000"
       ]
      },
      {
       "output_type": "stream",
       "stream": "stdout",
       "text": [
        "\n",
        "5100"
       ]
      },
      {
       "output_type": "stream",
       "stream": "stdout",
       "text": [
        "\n",
        "5200"
       ]
      },
      {
       "output_type": "stream",
       "stream": "stdout",
       "text": [
        "\n",
        "5300"
       ]
      },
      {
       "output_type": "stream",
       "stream": "stdout",
       "text": [
        "\n",
        "5400"
       ]
      },
      {
       "output_type": "stream",
       "stream": "stdout",
       "text": [
        "\n",
        "5500"
       ]
      },
      {
       "output_type": "stream",
       "stream": "stdout",
       "text": [
        "\n",
        "5600"
       ]
      },
      {
       "output_type": "stream",
       "stream": "stdout",
       "text": [
        "\n",
        "5700"
       ]
      },
      {
       "output_type": "stream",
       "stream": "stdout",
       "text": [
        "\n",
        "5800"
       ]
      },
      {
       "output_type": "stream",
       "stream": "stdout",
       "text": [
        "\n",
        "5900"
       ]
      },
      {
       "output_type": "stream",
       "stream": "stdout",
       "text": [
        "\n",
        "6000"
       ]
      },
      {
       "output_type": "stream",
       "stream": "stdout",
       "text": [
        "\n",
        "6100"
       ]
      },
      {
       "output_type": "stream",
       "stream": "stdout",
       "text": [
        "\n",
        "6200"
       ]
      },
      {
       "output_type": "stream",
       "stream": "stdout",
       "text": [
        "\n",
        "6300"
       ]
      },
      {
       "output_type": "stream",
       "stream": "stdout",
       "text": [
        "\n",
        "6400"
       ]
      },
      {
       "output_type": "stream",
       "stream": "stdout",
       "text": [
        "\n",
        "6500"
       ]
      },
      {
       "output_type": "stream",
       "stream": "stdout",
       "text": [
        "\n",
        "6600"
       ]
      },
      {
       "output_type": "stream",
       "stream": "stdout",
       "text": [
        "\n",
        "6700"
       ]
      },
      {
       "output_type": "stream",
       "stream": "stdout",
       "text": [
        "\n",
        "6800"
       ]
      },
      {
       "output_type": "stream",
       "stream": "stdout",
       "text": [
        "\n",
        "6900"
       ]
      },
      {
       "output_type": "stream",
       "stream": "stdout",
       "text": [
        "\n",
        "7000"
       ]
      },
      {
       "output_type": "stream",
       "stream": "stdout",
       "text": [
        "\n",
        "7100"
       ]
      },
      {
       "output_type": "stream",
       "stream": "stdout",
       "text": [
        "\n",
        "7200"
       ]
      },
      {
       "output_type": "stream",
       "stream": "stdout",
       "text": [
        "\n",
        "7300"
       ]
      },
      {
       "output_type": "stream",
       "stream": "stdout",
       "text": [
        "\n",
        "7400"
       ]
      },
      {
       "output_type": "stream",
       "stream": "stdout",
       "text": [
        "\n",
        "7500"
       ]
      },
      {
       "output_type": "stream",
       "stream": "stdout",
       "text": [
        "\n",
        "7600"
       ]
      },
      {
       "output_type": "stream",
       "stream": "stdout",
       "text": [
        "\n",
        "7700"
       ]
      },
      {
       "output_type": "stream",
       "stream": "stdout",
       "text": [
        "\n",
        "7800"
       ]
      },
      {
       "output_type": "stream",
       "stream": "stdout",
       "text": [
        "\n",
        "7900"
       ]
      },
      {
       "output_type": "stream",
       "stream": "stdout",
       "text": [
        "\n",
        "8000"
       ]
      },
      {
       "output_type": "stream",
       "stream": "stdout",
       "text": [
        "\n",
        "8100"
       ]
      },
      {
       "output_type": "stream",
       "stream": "stdout",
       "text": [
        "\n",
        "8200"
       ]
      },
      {
       "output_type": "stream",
       "stream": "stdout",
       "text": [
        "\n",
        "8300"
       ]
      },
      {
       "output_type": "stream",
       "stream": "stdout",
       "text": [
        "\n",
        "8400"
       ]
      },
      {
       "output_type": "stream",
       "stream": "stdout",
       "text": [
        "\n",
        "8500"
       ]
      },
      {
       "output_type": "stream",
       "stream": "stdout",
       "text": [
        "\n",
        "8600"
       ]
      },
      {
       "output_type": "stream",
       "stream": "stdout",
       "text": [
        "\n",
        "8700"
       ]
      },
      {
       "output_type": "stream",
       "stream": "stdout",
       "text": [
        "\n",
        "8800"
       ]
      },
      {
       "output_type": "stream",
       "stream": "stdout",
       "text": [
        "\n",
        "8900"
       ]
      },
      {
       "output_type": "stream",
       "stream": "stdout",
       "text": [
        "\n",
        "9000"
       ]
      },
      {
       "output_type": "stream",
       "stream": "stdout",
       "text": [
        "\n",
        "9100"
       ]
      },
      {
       "output_type": "stream",
       "stream": "stdout",
       "text": [
        "\n",
        "9200"
       ]
      },
      {
       "output_type": "stream",
       "stream": "stdout",
       "text": [
        "\n",
        "9300"
       ]
      },
      {
       "output_type": "stream",
       "stream": "stdout",
       "text": [
        "\n",
        "9400"
       ]
      },
      {
       "output_type": "stream",
       "stream": "stdout",
       "text": [
        "\n",
        "9500"
       ]
      },
      {
       "output_type": "stream",
       "stream": "stdout",
       "text": [
        "\n",
        "9600"
       ]
      },
      {
       "output_type": "stream",
       "stream": "stdout",
       "text": [
        "\n",
        "9700"
       ]
      },
      {
       "output_type": "stream",
       "stream": "stdout",
       "text": [
        "\n",
        "9800"
       ]
      },
      {
       "output_type": "stream",
       "stream": "stdout",
       "text": [
        "\n",
        "9900"
       ]
      },
      {
       "output_type": "stream",
       "stream": "stdout",
       "text": [
        "\n",
        "10000"
       ]
      },
      {
       "output_type": "stream",
       "stream": "stdout",
       "text": [
        "\n",
        "10100"
       ]
      },
      {
       "output_type": "stream",
       "stream": "stdout",
       "text": [
        "\n",
        "10200"
       ]
      },
      {
       "output_type": "stream",
       "stream": "stdout",
       "text": [
        "\n",
        "10300"
       ]
      },
      {
       "output_type": "stream",
       "stream": "stdout",
       "text": [
        "\n",
        "10400"
       ]
      },
      {
       "output_type": "stream",
       "stream": "stdout",
       "text": [
        "\n",
        "10500"
       ]
      },
      {
       "output_type": "stream",
       "stream": "stdout",
       "text": [
        "\n",
        "10600"
       ]
      },
      {
       "output_type": "stream",
       "stream": "stdout",
       "text": [
        "\n",
        "10700"
       ]
      },
      {
       "output_type": "stream",
       "stream": "stdout",
       "text": [
        "\n",
        "10800"
       ]
      },
      {
       "output_type": "stream",
       "stream": "stdout",
       "text": [
        "\n",
        "10900"
       ]
      },
      {
       "output_type": "stream",
       "stream": "stdout",
       "text": [
        "\n",
        "11000"
       ]
      },
      {
       "output_type": "stream",
       "stream": "stdout",
       "text": [
        "\n",
        "11100"
       ]
      },
      {
       "output_type": "stream",
       "stream": "stdout",
       "text": [
        "\n",
        "11200"
       ]
      },
      {
       "output_type": "stream",
       "stream": "stdout",
       "text": [
        "\n",
        "11300"
       ]
      },
      {
       "output_type": "stream",
       "stream": "stdout",
       "text": [
        "\n",
        "11400"
       ]
      },
      {
       "output_type": "stream",
       "stream": "stdout",
       "text": [
        "\n",
        "11500"
       ]
      },
      {
       "output_type": "stream",
       "stream": "stdout",
       "text": [
        "\n",
        "11600"
       ]
      },
      {
       "output_type": "stream",
       "stream": "stdout",
       "text": [
        "\n",
        "11700"
       ]
      },
      {
       "output_type": "stream",
       "stream": "stdout",
       "text": [
        "\n",
        "11800"
       ]
      },
      {
       "output_type": "stream",
       "stream": "stdout",
       "text": [
        "\n",
        "11900"
       ]
      },
      {
       "output_type": "stream",
       "stream": "stdout",
       "text": [
        "\n",
        "12000"
       ]
      },
      {
       "output_type": "stream",
       "stream": "stdout",
       "text": [
        "\n",
        "12100"
       ]
      },
      {
       "output_type": "stream",
       "stream": "stdout",
       "text": [
        "\n",
        "12200"
       ]
      },
      {
       "output_type": "stream",
       "stream": "stdout",
       "text": [
        "\n",
        "12300"
       ]
      },
      {
       "output_type": "stream",
       "stream": "stdout",
       "text": [
        "\n",
        "12400"
       ]
      },
      {
       "output_type": "stream",
       "stream": "stdout",
       "text": [
        "\n",
        "12500"
       ]
      },
      {
       "output_type": "stream",
       "stream": "stdout",
       "text": [
        "\n",
        "12600"
       ]
      },
      {
       "output_type": "stream",
       "stream": "stdout",
       "text": [
        "\n",
        "12700"
       ]
      },
      {
       "output_type": "stream",
       "stream": "stdout",
       "text": [
        "\n",
        "12800"
       ]
      },
      {
       "output_type": "stream",
       "stream": "stdout",
       "text": [
        "\n",
        "12900"
       ]
      },
      {
       "output_type": "stream",
       "stream": "stdout",
       "text": [
        "\n",
        "13000"
       ]
      },
      {
       "output_type": "stream",
       "stream": "stdout",
       "text": [
        "\n",
        "13100"
       ]
      },
      {
       "output_type": "stream",
       "stream": "stdout",
       "text": [
        "\n",
        "13200"
       ]
      },
      {
       "output_type": "stream",
       "stream": "stdout",
       "text": [
        "\n",
        "13300"
       ]
      },
      {
       "output_type": "stream",
       "stream": "stdout",
       "text": [
        "\n",
        "13400"
       ]
      },
      {
       "output_type": "stream",
       "stream": "stdout",
       "text": [
        "\n",
        "13500"
       ]
      },
      {
       "output_type": "stream",
       "stream": "stdout",
       "text": [
        "\n",
        "13600"
       ]
      },
      {
       "output_type": "stream",
       "stream": "stdout",
       "text": [
        "\n",
        "13700"
       ]
      },
      {
       "output_type": "stream",
       "stream": "stdout",
       "text": [
        "\n",
        "13800"
       ]
      },
      {
       "output_type": "stream",
       "stream": "stdout",
       "text": [
        "\n",
        "13900"
       ]
      },
      {
       "output_type": "stream",
       "stream": "stdout",
       "text": [
        "\n",
        "14000"
       ]
      },
      {
       "output_type": "stream",
       "stream": "stdout",
       "text": [
        "\n",
        "14100"
       ]
      },
      {
       "output_type": "stream",
       "stream": "stdout",
       "text": [
        "\n",
        "14200"
       ]
      },
      {
       "output_type": "stream",
       "stream": "stdout",
       "text": [
        "\n",
        "14300"
       ]
      },
      {
       "output_type": "stream",
       "stream": "stdout",
       "text": [
        "\n",
        "14400"
       ]
      },
      {
       "output_type": "stream",
       "stream": "stdout",
       "text": [
        "\n",
        "14500"
       ]
      },
      {
       "output_type": "stream",
       "stream": "stdout",
       "text": [
        "\n",
        "14600"
       ]
      },
      {
       "output_type": "stream",
       "stream": "stdout",
       "text": [
        "\n",
        "14700"
       ]
      },
      {
       "output_type": "stream",
       "stream": "stdout",
       "text": [
        "\n",
        "14800"
       ]
      },
      {
       "output_type": "stream",
       "stream": "stdout",
       "text": [
        "\n",
        "14900"
       ]
      },
      {
       "output_type": "stream",
       "stream": "stdout",
       "text": [
        "\n",
        "15000"
       ]
      },
      {
       "output_type": "stream",
       "stream": "stdout",
       "text": [
        "\n",
        "15100"
       ]
      },
      {
       "output_type": "stream",
       "stream": "stdout",
       "text": [
        "\n",
        "15200"
       ]
      },
      {
       "output_type": "stream",
       "stream": "stdout",
       "text": [
        "\n",
        "15300"
       ]
      },
      {
       "output_type": "stream",
       "stream": "stdout",
       "text": [
        "\n",
        "15400"
       ]
      },
      {
       "output_type": "stream",
       "stream": "stdout",
       "text": [
        "\n",
        "15500"
       ]
      },
      {
       "output_type": "stream",
       "stream": "stdout",
       "text": [
        "\n",
        "15600"
       ]
      },
      {
       "output_type": "stream",
       "stream": "stdout",
       "text": [
        "\n",
        "15700"
       ]
      },
      {
       "output_type": "stream",
       "stream": "stdout",
       "text": [
        "\n",
        "15800"
       ]
      },
      {
       "output_type": "stream",
       "stream": "stdout",
       "text": [
        "\n",
        "15900"
       ]
      },
      {
       "output_type": "stream",
       "stream": "stdout",
       "text": [
        "\n",
        "16000"
       ]
      },
      {
       "output_type": "stream",
       "stream": "stdout",
       "text": [
        "\n",
        "16100"
       ]
      },
      {
       "output_type": "stream",
       "stream": "stdout",
       "text": [
        "\n",
        "16200"
       ]
      },
      {
       "output_type": "stream",
       "stream": "stdout",
       "text": [
        "\n",
        "16300"
       ]
      },
      {
       "output_type": "stream",
       "stream": "stdout",
       "text": [
        "\n",
        "16400"
       ]
      },
      {
       "output_type": "stream",
       "stream": "stdout",
       "text": [
        "\n",
        "16500"
       ]
      },
      {
       "output_type": "stream",
       "stream": "stdout",
       "text": [
        "\n",
        "16600"
       ]
      },
      {
       "output_type": "stream",
       "stream": "stdout",
       "text": [
        "\n",
        "16700"
       ]
      },
      {
       "output_type": "stream",
       "stream": "stdout",
       "text": [
        "\n",
        "16800"
       ]
      },
      {
       "output_type": "stream",
       "stream": "stdout",
       "text": [
        "\n",
        "16900"
       ]
      },
      {
       "output_type": "stream",
       "stream": "stdout",
       "text": [
        "\n",
        "17000"
       ]
      },
      {
       "output_type": "stream",
       "stream": "stdout",
       "text": [
        "\n",
        "17100"
       ]
      },
      {
       "output_type": "stream",
       "stream": "stdout",
       "text": [
        "\n",
        "17200"
       ]
      },
      {
       "output_type": "stream",
       "stream": "stdout",
       "text": [
        "\n",
        "17300"
       ]
      },
      {
       "output_type": "stream",
       "stream": "stdout",
       "text": [
        "\n",
        "17400"
       ]
      },
      {
       "output_type": "stream",
       "stream": "stdout",
       "text": [
        "\n",
        "17500"
       ]
      },
      {
       "output_type": "stream",
       "stream": "stdout",
       "text": [
        "\n",
        "17600"
       ]
      },
      {
       "output_type": "stream",
       "stream": "stdout",
       "text": [
        "\n",
        "17700"
       ]
      },
      {
       "output_type": "stream",
       "stream": "stdout",
       "text": [
        "\n",
        "17800"
       ]
      },
      {
       "output_type": "stream",
       "stream": "stdout",
       "text": [
        "\n",
        "17900"
       ]
      },
      {
       "output_type": "stream",
       "stream": "stdout",
       "text": [
        "\n",
        "18000"
       ]
      },
      {
       "output_type": "stream",
       "stream": "stdout",
       "text": [
        "\n",
        "18100"
       ]
      },
      {
       "output_type": "stream",
       "stream": "stdout",
       "text": [
        "\n",
        "18200"
       ]
      },
      {
       "output_type": "stream",
       "stream": "stdout",
       "text": [
        "\n",
        "18300"
       ]
      },
      {
       "output_type": "stream",
       "stream": "stdout",
       "text": [
        "\n",
        "18400"
       ]
      },
      {
       "output_type": "stream",
       "stream": "stdout",
       "text": [
        "\n",
        "18500"
       ]
      },
      {
       "output_type": "stream",
       "stream": "stdout",
       "text": [
        "\n",
        "18600"
       ]
      },
      {
       "output_type": "stream",
       "stream": "stdout",
       "text": [
        "\n",
        "18700"
       ]
      },
      {
       "output_type": "stream",
       "stream": "stdout",
       "text": [
        "\n",
        "18800"
       ]
      },
      {
       "output_type": "stream",
       "stream": "stdout",
       "text": [
        "\n",
        "18900"
       ]
      },
      {
       "output_type": "stream",
       "stream": "stdout",
       "text": [
        "\n",
        "19000"
       ]
      },
      {
       "output_type": "stream",
       "stream": "stdout",
       "text": [
        "\n",
        "19100"
       ]
      },
      {
       "output_type": "stream",
       "stream": "stdout",
       "text": [
        "\n",
        "19200"
       ]
      },
      {
       "output_type": "stream",
       "stream": "stdout",
       "text": [
        "\n",
        "19300"
       ]
      },
      {
       "output_type": "stream",
       "stream": "stdout",
       "text": [
        "\n",
        "19400"
       ]
      },
      {
       "output_type": "stream",
       "stream": "stdout",
       "text": [
        "\n",
        "19500"
       ]
      },
      {
       "output_type": "stream",
       "stream": "stdout",
       "text": [
        "\n",
        "19600"
       ]
      },
      {
       "output_type": "stream",
       "stream": "stdout",
       "text": [
        "\n",
        "19700"
       ]
      },
      {
       "output_type": "stream",
       "stream": "stdout",
       "text": [
        "\n",
        "19800"
       ]
      },
      {
       "output_type": "stream",
       "stream": "stdout",
       "text": [
        "\n",
        "19900"
       ]
      },
      {
       "output_type": "stream",
       "stream": "stdout",
       "text": [
        "\n",
        "20000"
       ]
      },
      {
       "output_type": "stream",
       "stream": "stdout",
       "text": [
        "\n",
        "20100"
       ]
      },
      {
       "output_type": "stream",
       "stream": "stdout",
       "text": [
        "\n",
        "20200"
       ]
      },
      {
       "output_type": "stream",
       "stream": "stdout",
       "text": [
        "\n",
        "20300"
       ]
      },
      {
       "output_type": "stream",
       "stream": "stdout",
       "text": [
        "\n",
        "20400"
       ]
      },
      {
       "output_type": "stream",
       "stream": "stdout",
       "text": [
        "\n",
        "20500"
       ]
      },
      {
       "output_type": "stream",
       "stream": "stdout",
       "text": [
        "\n",
        "20600"
       ]
      },
      {
       "output_type": "stream",
       "stream": "stdout",
       "text": [
        "\n",
        "20700"
       ]
      },
      {
       "output_type": "stream",
       "stream": "stdout",
       "text": [
        "\n",
        "20800"
       ]
      },
      {
       "output_type": "stream",
       "stream": "stdout",
       "text": [
        "\n",
        "20900"
       ]
      },
      {
       "output_type": "stream",
       "stream": "stdout",
       "text": [
        "\n",
        "21000"
       ]
      },
      {
       "output_type": "stream",
       "stream": "stdout",
       "text": [
        "\n",
        "21100"
       ]
      },
      {
       "output_type": "stream",
       "stream": "stdout",
       "text": [
        "\n",
        "21200"
       ]
      },
      {
       "output_type": "stream",
       "stream": "stdout",
       "text": [
        "\n",
        "21300"
       ]
      },
      {
       "output_type": "stream",
       "stream": "stdout",
       "text": [
        "\n",
        "21400"
       ]
      },
      {
       "output_type": "stream",
       "stream": "stdout",
       "text": [
        "\n",
        "21500"
       ]
      },
      {
       "output_type": "stream",
       "stream": "stdout",
       "text": [
        "\n",
        "21600"
       ]
      },
      {
       "output_type": "stream",
       "stream": "stdout",
       "text": [
        "\n",
        "21700"
       ]
      },
      {
       "output_type": "stream",
       "stream": "stdout",
       "text": [
        "\n",
        "21800"
       ]
      },
      {
       "output_type": "stream",
       "stream": "stdout",
       "text": [
        "\n",
        "21900"
       ]
      },
      {
       "output_type": "stream",
       "stream": "stdout",
       "text": [
        "\n",
        "22000"
       ]
      },
      {
       "output_type": "stream",
       "stream": "stdout",
       "text": [
        "\n",
        "22100"
       ]
      },
      {
       "output_type": "stream",
       "stream": "stdout",
       "text": [
        "\n",
        "22200"
       ]
      },
      {
       "output_type": "stream",
       "stream": "stdout",
       "text": [
        "\n",
        "22300"
       ]
      },
      {
       "output_type": "stream",
       "stream": "stdout",
       "text": [
        "\n",
        "22400"
       ]
      },
      {
       "output_type": "stream",
       "stream": "stdout",
       "text": [
        "\n",
        "22500"
       ]
      },
      {
       "output_type": "stream",
       "stream": "stdout",
       "text": [
        "\n",
        "22600"
       ]
      },
      {
       "output_type": "stream",
       "stream": "stdout",
       "text": [
        "\n",
        "22700"
       ]
      },
      {
       "output_type": "stream",
       "stream": "stdout",
       "text": [
        "\n",
        "22800"
       ]
      },
      {
       "output_type": "stream",
       "stream": "stdout",
       "text": [
        "\n",
        "22900"
       ]
      },
      {
       "output_type": "stream",
       "stream": "stdout",
       "text": [
        "\n",
        "23000"
       ]
      },
      {
       "output_type": "stream",
       "stream": "stdout",
       "text": [
        "\n",
        "23100"
       ]
      },
      {
       "output_type": "stream",
       "stream": "stdout",
       "text": [
        "\n",
        "23200"
       ]
      },
      {
       "output_type": "stream",
       "stream": "stdout",
       "text": [
        "\n",
        "23300"
       ]
      },
      {
       "output_type": "stream",
       "stream": "stdout",
       "text": [
        "\n",
        "23400"
       ]
      },
      {
       "output_type": "stream",
       "stream": "stdout",
       "text": [
        "\n",
        "23500"
       ]
      },
      {
       "output_type": "stream",
       "stream": "stdout",
       "text": [
        "\n",
        "23600"
       ]
      },
      {
       "output_type": "stream",
       "stream": "stdout",
       "text": [
        "\n",
        "23700"
       ]
      },
      {
       "output_type": "stream",
       "stream": "stdout",
       "text": [
        "\n",
        "23800"
       ]
      },
      {
       "output_type": "stream",
       "stream": "stdout",
       "text": [
        "\n",
        "23900"
       ]
      },
      {
       "output_type": "stream",
       "stream": "stdout",
       "text": [
        "\n",
        "24000"
       ]
      },
      {
       "output_type": "stream",
       "stream": "stdout",
       "text": [
        "\n",
        "24100"
       ]
      },
      {
       "output_type": "stream",
       "stream": "stdout",
       "text": [
        "\n",
        "24200"
       ]
      },
      {
       "output_type": "stream",
       "stream": "stdout",
       "text": [
        "\n",
        "24300"
       ]
      },
      {
       "output_type": "stream",
       "stream": "stdout",
       "text": [
        "\n",
        "24400"
       ]
      },
      {
       "output_type": "stream",
       "stream": "stdout",
       "text": [
        "\n",
        "24500"
       ]
      },
      {
       "output_type": "stream",
       "stream": "stdout",
       "text": [
        "\n",
        "24600"
       ]
      },
      {
       "output_type": "stream",
       "stream": "stdout",
       "text": [
        "\n",
        "24700"
       ]
      },
      {
       "output_type": "stream",
       "stream": "stdout",
       "text": [
        "\n",
        "24800"
       ]
      },
      {
       "output_type": "stream",
       "stream": "stdout",
       "text": [
        "\n",
        "24900"
       ]
      },
      {
       "output_type": "stream",
       "stream": "stdout",
       "text": [
        "\n",
        "25000"
       ]
      },
      {
       "output_type": "stream",
       "stream": "stdout",
       "text": [
        "\n",
        "25100"
       ]
      },
      {
       "output_type": "stream",
       "stream": "stdout",
       "text": [
        "\n",
        "25200"
       ]
      },
      {
       "output_type": "stream",
       "stream": "stdout",
       "text": [
        "\n",
        "25300"
       ]
      },
      {
       "output_type": "stream",
       "stream": "stdout",
       "text": [
        "\n",
        "25400"
       ]
      },
      {
       "output_type": "stream",
       "stream": "stdout",
       "text": [
        "\n",
        "25500"
       ]
      },
      {
       "output_type": "stream",
       "stream": "stdout",
       "text": [
        "\n",
        "25600"
       ]
      },
      {
       "output_type": "stream",
       "stream": "stdout",
       "text": [
        "\n",
        "25700"
       ]
      },
      {
       "output_type": "stream",
       "stream": "stdout",
       "text": [
        "\n",
        "25800"
       ]
      },
      {
       "output_type": "stream",
       "stream": "stdout",
       "text": [
        "\n",
        "25900"
       ]
      },
      {
       "output_type": "stream",
       "stream": "stdout",
       "text": [
        "\n",
        "26000"
       ]
      },
      {
       "output_type": "stream",
       "stream": "stdout",
       "text": [
        "\n",
        "26100"
       ]
      },
      {
       "output_type": "stream",
       "stream": "stdout",
       "text": [
        "\n",
        "26200"
       ]
      },
      {
       "output_type": "stream",
       "stream": "stdout",
       "text": [
        "\n",
        "26300"
       ]
      },
      {
       "output_type": "stream",
       "stream": "stdout",
       "text": [
        "\n",
        "26400"
       ]
      },
      {
       "output_type": "stream",
       "stream": "stdout",
       "text": [
        "\n",
        "26500"
       ]
      },
      {
       "output_type": "stream",
       "stream": "stdout",
       "text": [
        "\n",
        "26600"
       ]
      },
      {
       "output_type": "stream",
       "stream": "stdout",
       "text": [
        "\n",
        "26700"
       ]
      },
      {
       "output_type": "stream",
       "stream": "stdout",
       "text": [
        "\n",
        "26800"
       ]
      },
      {
       "output_type": "stream",
       "stream": "stdout",
       "text": [
        "\n",
        "26900"
       ]
      },
      {
       "output_type": "stream",
       "stream": "stdout",
       "text": [
        "\n",
        "27000"
       ]
      },
      {
       "output_type": "stream",
       "stream": "stdout",
       "text": [
        "\n",
        "27100"
       ]
      },
      {
       "output_type": "stream",
       "stream": "stdout",
       "text": [
        "\n",
        "27200"
       ]
      },
      {
       "output_type": "stream",
       "stream": "stdout",
       "text": [
        "\n",
        "27300"
       ]
      },
      {
       "output_type": "stream",
       "stream": "stdout",
       "text": [
        "\n",
        "27400"
       ]
      },
      {
       "output_type": "stream",
       "stream": "stdout",
       "text": [
        "\n",
        "27500"
       ]
      },
      {
       "output_type": "stream",
       "stream": "stdout",
       "text": [
        "\n",
        "27600"
       ]
      },
      {
       "output_type": "stream",
       "stream": "stdout",
       "text": [
        "\n",
        "27700"
       ]
      },
      {
       "output_type": "stream",
       "stream": "stdout",
       "text": [
        "\n",
        "27800"
       ]
      },
      {
       "output_type": "stream",
       "stream": "stdout",
       "text": [
        "\n",
        "27900"
       ]
      },
      {
       "output_type": "stream",
       "stream": "stdout",
       "text": [
        "\n",
        "28000"
       ]
      },
      {
       "output_type": "stream",
       "stream": "stdout",
       "text": [
        "\n",
        "28100"
       ]
      },
      {
       "output_type": "stream",
       "stream": "stdout",
       "text": [
        "\n",
        "28200"
       ]
      },
      {
       "output_type": "stream",
       "stream": "stdout",
       "text": [
        "\n",
        "28300"
       ]
      },
      {
       "output_type": "stream",
       "stream": "stdout",
       "text": [
        "\n",
        "28400"
       ]
      },
      {
       "output_type": "stream",
       "stream": "stdout",
       "text": [
        "\n",
        "28500"
       ]
      },
      {
       "output_type": "stream",
       "stream": "stdout",
       "text": [
        "\n",
        "28600"
       ]
      },
      {
       "output_type": "stream",
       "stream": "stdout",
       "text": [
        "\n",
        "28700"
       ]
      },
      {
       "output_type": "stream",
       "stream": "stdout",
       "text": [
        "\n",
        "28800"
       ]
      },
      {
       "output_type": "stream",
       "stream": "stdout",
       "text": [
        "\n",
        "28900"
       ]
      },
      {
       "output_type": "stream",
       "stream": "stdout",
       "text": [
        "\n",
        "29000"
       ]
      },
      {
       "output_type": "stream",
       "stream": "stdout",
       "text": [
        "\n",
        "29100"
       ]
      },
      {
       "output_type": "stream",
       "stream": "stdout",
       "text": [
        "\n",
        "29200"
       ]
      },
      {
       "output_type": "stream",
       "stream": "stdout",
       "text": [
        "\n",
        "29300"
       ]
      },
      {
       "output_type": "stream",
       "stream": "stdout",
       "text": [
        "\n",
        "29400"
       ]
      },
      {
       "output_type": "stream",
       "stream": "stdout",
       "text": [
        "\n",
        "29500"
       ]
      },
      {
       "output_type": "stream",
       "stream": "stdout",
       "text": [
        "\n",
        "29600"
       ]
      },
      {
       "output_type": "stream",
       "stream": "stdout",
       "text": [
        "\n",
        "29700"
       ]
      },
      {
       "output_type": "stream",
       "stream": "stdout",
       "text": [
        "\n",
        "29800"
       ]
      },
      {
       "output_type": "stream",
       "stream": "stdout",
       "text": [
        "\n",
        "29900"
       ]
      },
      {
       "output_type": "stream",
       "stream": "stdout",
       "text": [
        "\n",
        "30000"
       ]
      },
      {
       "output_type": "stream",
       "stream": "stdout",
       "text": [
        "\n",
        "30100"
       ]
      },
      {
       "output_type": "stream",
       "stream": "stdout",
       "text": [
        "\n",
        "30200"
       ]
      },
      {
       "output_type": "stream",
       "stream": "stdout",
       "text": [
        "\n",
        "30300"
       ]
      },
      {
       "output_type": "stream",
       "stream": "stdout",
       "text": [
        "\n",
        "30400"
       ]
      },
      {
       "output_type": "stream",
       "stream": "stdout",
       "text": [
        "\n",
        "30500"
       ]
      },
      {
       "output_type": "stream",
       "stream": "stdout",
       "text": [
        "\n",
        "30600"
       ]
      },
      {
       "output_type": "stream",
       "stream": "stdout",
       "text": [
        "\n",
        "30700"
       ]
      },
      {
       "output_type": "stream",
       "stream": "stdout",
       "text": [
        "\n",
        "30800"
       ]
      },
      {
       "output_type": "stream",
       "stream": "stdout",
       "text": [
        "\n",
        "30900"
       ]
      },
      {
       "output_type": "stream",
       "stream": "stdout",
       "text": [
        "\n",
        "31000"
       ]
      },
      {
       "output_type": "stream",
       "stream": "stdout",
       "text": [
        "\n",
        "31100"
       ]
      },
      {
       "output_type": "stream",
       "stream": "stdout",
       "text": [
        "\n",
        "31200"
       ]
      },
      {
       "output_type": "stream",
       "stream": "stdout",
       "text": [
        "\n",
        "31300"
       ]
      },
      {
       "output_type": "stream",
       "stream": "stdout",
       "text": [
        "\n",
        "31400"
       ]
      },
      {
       "output_type": "stream",
       "stream": "stdout",
       "text": [
        "\n",
        "31500"
       ]
      },
      {
       "output_type": "stream",
       "stream": "stdout",
       "text": [
        "\n",
        "31600"
       ]
      },
      {
       "output_type": "stream",
       "stream": "stdout",
       "text": [
        "\n",
        "31700"
       ]
      },
      {
       "output_type": "stream",
       "stream": "stdout",
       "text": [
        "\n",
        "31800"
       ]
      },
      {
       "output_type": "stream",
       "stream": "stdout",
       "text": [
        "\n",
        "31900"
       ]
      },
      {
       "output_type": "stream",
       "stream": "stdout",
       "text": [
        "\n",
        "32000"
       ]
      },
      {
       "output_type": "stream",
       "stream": "stdout",
       "text": [
        "\n",
        "32100"
       ]
      },
      {
       "output_type": "stream",
       "stream": "stdout",
       "text": [
        "\n",
        "32200"
       ]
      },
      {
       "output_type": "stream",
       "stream": "stdout",
       "text": [
        "\n",
        "32300"
       ]
      },
      {
       "output_type": "stream",
       "stream": "stdout",
       "text": [
        "\n",
        "32400"
       ]
      },
      {
       "output_type": "stream",
       "stream": "stdout",
       "text": [
        "\n",
        "32500"
       ]
      },
      {
       "output_type": "stream",
       "stream": "stdout",
       "text": [
        "\n",
        "32600"
       ]
      },
      {
       "output_type": "stream",
       "stream": "stdout",
       "text": [
        "\n",
        "32700"
       ]
      },
      {
       "output_type": "stream",
       "stream": "stdout",
       "text": [
        "\n",
        "32800"
       ]
      },
      {
       "output_type": "stream",
       "stream": "stdout",
       "text": [
        "\n",
        "32900"
       ]
      },
      {
       "output_type": "stream",
       "stream": "stdout",
       "text": [
        "\n",
        "33000"
       ]
      },
      {
       "output_type": "stream",
       "stream": "stdout",
       "text": [
        "\n",
        "33100"
       ]
      },
      {
       "output_type": "stream",
       "stream": "stdout",
       "text": [
        "\n",
        "33200"
       ]
      },
      {
       "output_type": "stream",
       "stream": "stdout",
       "text": [
        "\n",
        "33300"
       ]
      },
      {
       "output_type": "stream",
       "stream": "stdout",
       "text": [
        "\n",
        "33400"
       ]
      },
      {
       "output_type": "stream",
       "stream": "stdout",
       "text": [
        "\n",
        "33500"
       ]
      },
      {
       "output_type": "stream",
       "stream": "stdout",
       "text": [
        "\n",
        "33600"
       ]
      },
      {
       "output_type": "stream",
       "stream": "stdout",
       "text": [
        "\n",
        "33700"
       ]
      },
      {
       "output_type": "stream",
       "stream": "stdout",
       "text": [
        "\n",
        "33800"
       ]
      },
      {
       "output_type": "stream",
       "stream": "stdout",
       "text": [
        "\n",
        "33900"
       ]
      },
      {
       "output_type": "stream",
       "stream": "stdout",
       "text": [
        "\n",
        "34000"
       ]
      },
      {
       "output_type": "stream",
       "stream": "stdout",
       "text": [
        "\n",
        "34100"
       ]
      },
      {
       "output_type": "stream",
       "stream": "stdout",
       "text": [
        "\n",
        "34200"
       ]
      },
      {
       "output_type": "stream",
       "stream": "stdout",
       "text": [
        "\n",
        "34300"
       ]
      },
      {
       "output_type": "stream",
       "stream": "stdout",
       "text": [
        "\n",
        "34400"
       ]
      },
      {
       "output_type": "stream",
       "stream": "stdout",
       "text": [
        "\n",
        "34500"
       ]
      },
      {
       "output_type": "stream",
       "stream": "stdout",
       "text": [
        "\n",
        "34600"
       ]
      },
      {
       "output_type": "stream",
       "stream": "stdout",
       "text": [
        "\n",
        "34700"
       ]
      },
      {
       "output_type": "stream",
       "stream": "stdout",
       "text": [
        "\n",
        "34800"
       ]
      },
      {
       "output_type": "stream",
       "stream": "stdout",
       "text": [
        "\n",
        "34900"
       ]
      },
      {
       "output_type": "stream",
       "stream": "stdout",
       "text": [
        "\n",
        "35000"
       ]
      },
      {
       "output_type": "stream",
       "stream": "stdout",
       "text": [
        "\n",
        "35100"
       ]
      },
      {
       "output_type": "stream",
       "stream": "stdout",
       "text": [
        "\n",
        "35200"
       ]
      },
      {
       "output_type": "stream",
       "stream": "stdout",
       "text": [
        "\n",
        "35300"
       ]
      },
      {
       "output_type": "stream",
       "stream": "stdout",
       "text": [
        "\n",
        "35400"
       ]
      },
      {
       "output_type": "stream",
       "stream": "stdout",
       "text": [
        "\n",
        "35500"
       ]
      },
      {
       "output_type": "stream",
       "stream": "stdout",
       "text": [
        "\n",
        "35600"
       ]
      },
      {
       "output_type": "stream",
       "stream": "stdout",
       "text": [
        "\n",
        "35700"
       ]
      },
      {
       "output_type": "stream",
       "stream": "stdout",
       "text": [
        "\n",
        "35800"
       ]
      },
      {
       "output_type": "stream",
       "stream": "stdout",
       "text": [
        "\n",
        "35900"
       ]
      },
      {
       "output_type": "stream",
       "stream": "stdout",
       "text": [
        "\n",
        "36000"
       ]
      },
      {
       "output_type": "stream",
       "stream": "stdout",
       "text": [
        "\n",
        "36100"
       ]
      },
      {
       "output_type": "stream",
       "stream": "stdout",
       "text": [
        "\n",
        "36200"
       ]
      },
      {
       "output_type": "stream",
       "stream": "stdout",
       "text": [
        "\n",
        "36300"
       ]
      },
      {
       "output_type": "stream",
       "stream": "stdout",
       "text": [
        "\n",
        "36400"
       ]
      },
      {
       "output_type": "stream",
       "stream": "stdout",
       "text": [
        "\n",
        "36500"
       ]
      },
      {
       "output_type": "stream",
       "stream": "stdout",
       "text": [
        "\n",
        "36600"
       ]
      },
      {
       "output_type": "stream",
       "stream": "stdout",
       "text": [
        "\n",
        "36700"
       ]
      },
      {
       "output_type": "stream",
       "stream": "stdout",
       "text": [
        "\n",
        "36800"
       ]
      },
      {
       "output_type": "stream",
       "stream": "stdout",
       "text": [
        "\n",
        "36900"
       ]
      },
      {
       "output_type": "stream",
       "stream": "stdout",
       "text": [
        "\n",
        "37000"
       ]
      },
      {
       "output_type": "stream",
       "stream": "stdout",
       "text": [
        "\n",
        "37100"
       ]
      },
      {
       "output_type": "stream",
       "stream": "stdout",
       "text": [
        "\n",
        "37200"
       ]
      },
      {
       "output_type": "stream",
       "stream": "stdout",
       "text": [
        "\n",
        "37300"
       ]
      },
      {
       "output_type": "stream",
       "stream": "stdout",
       "text": [
        "\n",
        "37400"
       ]
      },
      {
       "output_type": "stream",
       "stream": "stdout",
       "text": [
        "\n",
        "37500"
       ]
      },
      {
       "output_type": "stream",
       "stream": "stdout",
       "text": [
        "\n",
        "37600"
       ]
      },
      {
       "output_type": "stream",
       "stream": "stdout",
       "text": [
        "\n",
        "37700"
       ]
      },
      {
       "output_type": "stream",
       "stream": "stdout",
       "text": [
        "\n",
        "37800"
       ]
      },
      {
       "output_type": "stream",
       "stream": "stdout",
       "text": [
        "\n",
        "37900"
       ]
      },
      {
       "output_type": "stream",
       "stream": "stdout",
       "text": [
        "\n",
        "38000"
       ]
      },
      {
       "output_type": "stream",
       "stream": "stdout",
       "text": [
        "\n",
        "38100"
       ]
      },
      {
       "output_type": "stream",
       "stream": "stdout",
       "text": [
        "\n",
        "38200"
       ]
      },
      {
       "output_type": "stream",
       "stream": "stdout",
       "text": [
        "\n",
        "38300"
       ]
      },
      {
       "output_type": "stream",
       "stream": "stdout",
       "text": [
        "\n",
        "38400"
       ]
      },
      {
       "output_type": "stream",
       "stream": "stdout",
       "text": [
        "\n",
        "38500"
       ]
      },
      {
       "output_type": "stream",
       "stream": "stdout",
       "text": [
        "\n",
        "38600"
       ]
      },
      {
       "output_type": "stream",
       "stream": "stdout",
       "text": [
        "\n",
        "38700"
       ]
      },
      {
       "output_type": "stream",
       "stream": "stdout",
       "text": [
        "\n",
        "38800"
       ]
      },
      {
       "output_type": "stream",
       "stream": "stdout",
       "text": [
        "\n",
        "38900"
       ]
      },
      {
       "output_type": "stream",
       "stream": "stdout",
       "text": [
        "\n",
        "39000"
       ]
      },
      {
       "output_type": "stream",
       "stream": "stdout",
       "text": [
        "\n",
        "39100"
       ]
      },
      {
       "output_type": "stream",
       "stream": "stdout",
       "text": [
        "\n",
        "39200"
       ]
      },
      {
       "output_type": "stream",
       "stream": "stdout",
       "text": [
        "\n",
        "39300"
       ]
      },
      {
       "output_type": "stream",
       "stream": "stdout",
       "text": [
        "\n",
        "39400"
       ]
      },
      {
       "output_type": "stream",
       "stream": "stdout",
       "text": [
        "\n",
        "39500"
       ]
      },
      {
       "output_type": "stream",
       "stream": "stdout",
       "text": [
        "\n",
        "39600"
       ]
      },
      {
       "output_type": "stream",
       "stream": "stdout",
       "text": [
        "\n",
        "39700"
       ]
      },
      {
       "output_type": "stream",
       "stream": "stdout",
       "text": [
        "\n",
        "39800"
       ]
      },
      {
       "output_type": "stream",
       "stream": "stdout",
       "text": [
        "\n",
        "39900"
       ]
      },
      {
       "output_type": "stream",
       "stream": "stdout",
       "text": [
        "\n",
        "40000"
       ]
      },
      {
       "output_type": "stream",
       "stream": "stdout",
       "text": [
        "\n",
        "40100"
       ]
      },
      {
       "output_type": "stream",
       "stream": "stdout",
       "text": [
        "\n",
        "40200"
       ]
      },
      {
       "output_type": "stream",
       "stream": "stdout",
       "text": [
        "\n",
        "40300"
       ]
      },
      {
       "output_type": "stream",
       "stream": "stdout",
       "text": [
        "\n",
        "40400"
       ]
      },
      {
       "output_type": "stream",
       "stream": "stdout",
       "text": [
        "\n",
        "40500"
       ]
      },
      {
       "output_type": "stream",
       "stream": "stdout",
       "text": [
        "\n",
        "40600"
       ]
      },
      {
       "output_type": "stream",
       "stream": "stdout",
       "text": [
        "\n",
        "40700"
       ]
      },
      {
       "output_type": "stream",
       "stream": "stdout",
       "text": [
        "\n",
        "40800"
       ]
      },
      {
       "output_type": "stream",
       "stream": "stdout",
       "text": [
        "\n",
        "40900"
       ]
      },
      {
       "output_type": "stream",
       "stream": "stdout",
       "text": [
        "\n",
        "41000"
       ]
      },
      {
       "output_type": "stream",
       "stream": "stdout",
       "text": [
        "\n",
        "41100"
       ]
      },
      {
       "output_type": "stream",
       "stream": "stdout",
       "text": [
        "\n",
        "41200"
       ]
      },
      {
       "output_type": "stream",
       "stream": "stdout",
       "text": [
        "\n",
        "41300"
       ]
      },
      {
       "output_type": "stream",
       "stream": "stdout",
       "text": [
        "\n",
        "41400"
       ]
      },
      {
       "output_type": "stream",
       "stream": "stdout",
       "text": [
        "\n",
        "41500"
       ]
      },
      {
       "output_type": "stream",
       "stream": "stdout",
       "text": [
        "\n",
        "41600"
       ]
      },
      {
       "output_type": "stream",
       "stream": "stdout",
       "text": [
        "\n",
        "41700"
       ]
      },
      {
       "output_type": "stream",
       "stream": "stdout",
       "text": [
        "\n",
        "41800"
       ]
      },
      {
       "output_type": "stream",
       "stream": "stdout",
       "text": [
        "\n",
        "41900"
       ]
      },
      {
       "output_type": "stream",
       "stream": "stdout",
       "text": [
        "\n",
        "42000"
       ]
      },
      {
       "output_type": "stream",
       "stream": "stdout",
       "text": [
        "\n",
        "42100"
       ]
      },
      {
       "output_type": "stream",
       "stream": "stdout",
       "text": [
        "\n",
        "42200"
       ]
      },
      {
       "output_type": "stream",
       "stream": "stdout",
       "text": [
        "\n",
        "42300"
       ]
      },
      {
       "output_type": "stream",
       "stream": "stdout",
       "text": [
        "\n",
        "42400"
       ]
      },
      {
       "output_type": "stream",
       "stream": "stdout",
       "text": [
        "\n",
        "42500"
       ]
      },
      {
       "output_type": "stream",
       "stream": "stdout",
       "text": [
        "\n",
        "42600"
       ]
      },
      {
       "output_type": "stream",
       "stream": "stdout",
       "text": [
        "\n",
        "42700"
       ]
      },
      {
       "output_type": "stream",
       "stream": "stdout",
       "text": [
        "\n",
        "42800"
       ]
      },
      {
       "output_type": "stream",
       "stream": "stdout",
       "text": [
        "\n",
        "42900"
       ]
      },
      {
       "output_type": "stream",
       "stream": "stdout",
       "text": [
        "\n",
        "43000"
       ]
      },
      {
       "output_type": "stream",
       "stream": "stdout",
       "text": [
        "\n",
        "43100"
       ]
      },
      {
       "output_type": "stream",
       "stream": "stdout",
       "text": [
        "\n",
        "43200"
       ]
      },
      {
       "output_type": "stream",
       "stream": "stdout",
       "text": [
        "\n",
        "43300"
       ]
      },
      {
       "output_type": "stream",
       "stream": "stdout",
       "text": [
        "\n",
        "43400"
       ]
      },
      {
       "output_type": "stream",
       "stream": "stdout",
       "text": [
        "\n",
        "43500"
       ]
      },
      {
       "output_type": "stream",
       "stream": "stdout",
       "text": [
        "\n",
        "43600"
       ]
      },
      {
       "output_type": "stream",
       "stream": "stdout",
       "text": [
        "\n",
        "43700"
       ]
      },
      {
       "output_type": "stream",
       "stream": "stdout",
       "text": [
        "\n",
        "43800"
       ]
      },
      {
       "output_type": "stream",
       "stream": "stdout",
       "text": [
        "\n",
        "43900"
       ]
      },
      {
       "output_type": "stream",
       "stream": "stdout",
       "text": [
        "\n",
        "44000"
       ]
      },
      {
       "output_type": "stream",
       "stream": "stdout",
       "text": [
        "\n",
        "44100"
       ]
      },
      {
       "output_type": "stream",
       "stream": "stdout",
       "text": [
        "\n",
        "44200"
       ]
      },
      {
       "output_type": "stream",
       "stream": "stdout",
       "text": [
        "\n",
        "44300"
       ]
      },
      {
       "output_type": "stream",
       "stream": "stdout",
       "text": [
        "\n",
        "44400"
       ]
      },
      {
       "output_type": "stream",
       "stream": "stdout",
       "text": [
        "\n",
        "44500"
       ]
      },
      {
       "output_type": "stream",
       "stream": "stdout",
       "text": [
        "\n",
        "44600"
       ]
      },
      {
       "output_type": "stream",
       "stream": "stdout",
       "text": [
        "\n",
        "44700"
       ]
      },
      {
       "output_type": "stream",
       "stream": "stdout",
       "text": [
        "\n",
        "44800"
       ]
      },
      {
       "output_type": "stream",
       "stream": "stdout",
       "text": [
        "\n",
        "44900"
       ]
      },
      {
       "output_type": "stream",
       "stream": "stdout",
       "text": [
        "\n",
        "45000"
       ]
      },
      {
       "output_type": "stream",
       "stream": "stdout",
       "text": [
        "\n",
        "45100"
       ]
      },
      {
       "output_type": "stream",
       "stream": "stdout",
       "text": [
        "\n",
        "45200"
       ]
      },
      {
       "output_type": "stream",
       "stream": "stdout",
       "text": [
        "\n",
        "45300"
       ]
      },
      {
       "output_type": "stream",
       "stream": "stdout",
       "text": [
        "\n",
        "45400"
       ]
      },
      {
       "output_type": "stream",
       "stream": "stdout",
       "text": [
        "\n",
        "45500"
       ]
      },
      {
       "output_type": "stream",
       "stream": "stdout",
       "text": [
        "\n",
        "45600"
       ]
      },
      {
       "output_type": "stream",
       "stream": "stdout",
       "text": [
        "\n",
        "45700"
       ]
      },
      {
       "output_type": "stream",
       "stream": "stdout",
       "text": [
        "\n",
        "45800"
       ]
      },
      {
       "output_type": "stream",
       "stream": "stdout",
       "text": [
        "\n",
        "45900"
       ]
      },
      {
       "output_type": "stream",
       "stream": "stdout",
       "text": [
        "\n",
        "46000"
       ]
      },
      {
       "output_type": "stream",
       "stream": "stdout",
       "text": [
        "\n",
        "46100"
       ]
      },
      {
       "output_type": "stream",
       "stream": "stdout",
       "text": [
        "\n",
        "46200"
       ]
      },
      {
       "output_type": "stream",
       "stream": "stdout",
       "text": [
        "\n",
        "46300"
       ]
      },
      {
       "output_type": "stream",
       "stream": "stdout",
       "text": [
        "\n",
        "46400"
       ]
      },
      {
       "output_type": "stream",
       "stream": "stdout",
       "text": [
        "\n",
        "46500"
       ]
      },
      {
       "output_type": "stream",
       "stream": "stdout",
       "text": [
        "\n",
        "46600"
       ]
      },
      {
       "output_type": "stream",
       "stream": "stdout",
       "text": [
        "\n",
        "46700"
       ]
      },
      {
       "output_type": "stream",
       "stream": "stdout",
       "text": [
        "\n",
        "46800"
       ]
      },
      {
       "output_type": "stream",
       "stream": "stdout",
       "text": [
        "\n",
        "46900"
       ]
      },
      {
       "output_type": "stream",
       "stream": "stdout",
       "text": [
        "\n",
        "47000"
       ]
      },
      {
       "output_type": "stream",
       "stream": "stdout",
       "text": [
        "\n",
        "47100"
       ]
      },
      {
       "output_type": "stream",
       "stream": "stdout",
       "text": [
        "\n",
        "47200"
       ]
      },
      {
       "output_type": "stream",
       "stream": "stdout",
       "text": [
        "\n",
        "47300"
       ]
      },
      {
       "output_type": "stream",
       "stream": "stdout",
       "text": [
        "\n",
        "47400"
       ]
      },
      {
       "output_type": "stream",
       "stream": "stdout",
       "text": [
        "\n",
        "47500"
       ]
      },
      {
       "output_type": "stream",
       "stream": "stdout",
       "text": [
        "\n",
        "47600"
       ]
      },
      {
       "output_type": "stream",
       "stream": "stdout",
       "text": [
        "\n",
        "47700"
       ]
      },
      {
       "output_type": "stream",
       "stream": "stdout",
       "text": [
        "\n",
        "47800"
       ]
      },
      {
       "output_type": "stream",
       "stream": "stdout",
       "text": [
        "\n",
        "47900"
       ]
      },
      {
       "output_type": "stream",
       "stream": "stdout",
       "text": [
        "\n",
        "48000"
       ]
      },
      {
       "output_type": "stream",
       "stream": "stdout",
       "text": [
        "\n",
        "48100"
       ]
      },
      {
       "output_type": "stream",
       "stream": "stdout",
       "text": [
        "\n",
        "48200"
       ]
      },
      {
       "output_type": "stream",
       "stream": "stdout",
       "text": [
        "\n",
        "48300"
       ]
      },
      {
       "output_type": "stream",
       "stream": "stdout",
       "text": [
        "\n",
        "48400"
       ]
      },
      {
       "output_type": "stream",
       "stream": "stdout",
       "text": [
        "\n",
        "48500"
       ]
      },
      {
       "output_type": "stream",
       "stream": "stdout",
       "text": [
        "\n",
        "48600"
       ]
      },
      {
       "output_type": "stream",
       "stream": "stdout",
       "text": [
        "\n",
        "48700"
       ]
      },
      {
       "output_type": "stream",
       "stream": "stdout",
       "text": [
        "\n",
        "48800"
       ]
      },
      {
       "output_type": "stream",
       "stream": "stdout",
       "text": [
        "\n",
        "48900"
       ]
      },
      {
       "output_type": "stream",
       "stream": "stdout",
       "text": [
        "\n",
        "49000"
       ]
      },
      {
       "output_type": "stream",
       "stream": "stdout",
       "text": [
        "\n",
        "49100"
       ]
      },
      {
       "output_type": "stream",
       "stream": "stdout",
       "text": [
        "\n",
        "49200"
       ]
      },
      {
       "output_type": "stream",
       "stream": "stdout",
       "text": [
        "\n",
        "49300"
       ]
      },
      {
       "output_type": "stream",
       "stream": "stdout",
       "text": [
        "\n",
        "49400"
       ]
      },
      {
       "output_type": "stream",
       "stream": "stdout",
       "text": [
        "\n",
        "49500"
       ]
      },
      {
       "output_type": "stream",
       "stream": "stdout",
       "text": [
        "\n",
        "49600"
       ]
      },
      {
       "output_type": "stream",
       "stream": "stdout",
       "text": [
        "\n",
        "49700"
       ]
      },
      {
       "output_type": "stream",
       "stream": "stdout",
       "text": [
        "\n",
        "49800"
       ]
      },
      {
       "output_type": "stream",
       "stream": "stdout",
       "text": [
        "\n",
        "49900"
       ]
      },
      {
       "output_type": "stream",
       "stream": "stdout",
       "text": [
        "\n",
        "50000"
       ]
      },
      {
       "output_type": "stream",
       "stream": "stdout",
       "text": [
        "\n",
        "50100"
       ]
      },
      {
       "output_type": "stream",
       "stream": "stdout",
       "text": [
        "\n",
        "50200"
       ]
      },
      {
       "output_type": "stream",
       "stream": "stdout",
       "text": [
        "\n",
        "50300"
       ]
      },
      {
       "output_type": "stream",
       "stream": "stdout",
       "text": [
        "\n",
        "50400"
       ]
      },
      {
       "output_type": "stream",
       "stream": "stdout",
       "text": [
        "\n",
        "50500"
       ]
      },
      {
       "output_type": "stream",
       "stream": "stdout",
       "text": [
        "\n",
        "50600"
       ]
      },
      {
       "output_type": "stream",
       "stream": "stdout",
       "text": [
        "\n",
        "50700"
       ]
      },
      {
       "output_type": "stream",
       "stream": "stdout",
       "text": [
        "\n",
        "50800"
       ]
      },
      {
       "output_type": "stream",
       "stream": "stdout",
       "text": [
        "\n",
        "50900"
       ]
      },
      {
       "output_type": "stream",
       "stream": "stdout",
       "text": [
        "\n",
        "51000"
       ]
      },
      {
       "output_type": "stream",
       "stream": "stdout",
       "text": [
        "\n",
        "51100"
       ]
      },
      {
       "output_type": "stream",
       "stream": "stdout",
       "text": [
        "\n",
        "51200"
       ]
      },
      {
       "output_type": "stream",
       "stream": "stdout",
       "text": [
        "\n",
        "51300"
       ]
      },
      {
       "output_type": "stream",
       "stream": "stdout",
       "text": [
        "\n",
        "51400"
       ]
      },
      {
       "output_type": "stream",
       "stream": "stdout",
       "text": [
        "\n",
        "51500"
       ]
      },
      {
       "output_type": "stream",
       "stream": "stdout",
       "text": [
        "\n",
        "51600"
       ]
      },
      {
       "output_type": "stream",
       "stream": "stdout",
       "text": [
        "\n",
        "51700"
       ]
      },
      {
       "output_type": "stream",
       "stream": "stdout",
       "text": [
        "\n",
        "51800"
       ]
      },
      {
       "output_type": "stream",
       "stream": "stdout",
       "text": [
        "\n",
        "51900"
       ]
      },
      {
       "output_type": "stream",
       "stream": "stdout",
       "text": [
        "\n",
        "52000"
       ]
      },
      {
       "output_type": "stream",
       "stream": "stdout",
       "text": [
        "\n",
        "52100"
       ]
      },
      {
       "output_type": "stream",
       "stream": "stdout",
       "text": [
        "\n",
        "52200"
       ]
      },
      {
       "output_type": "stream",
       "stream": "stdout",
       "text": [
        "\n",
        "52300"
       ]
      },
      {
       "output_type": "stream",
       "stream": "stdout",
       "text": [
        "\n",
        "52400"
       ]
      },
      {
       "output_type": "stream",
       "stream": "stdout",
       "text": [
        "\n",
        "52500"
       ]
      },
      {
       "output_type": "stream",
       "stream": "stdout",
       "text": [
        "\n",
        "52600"
       ]
      },
      {
       "output_type": "stream",
       "stream": "stdout",
       "text": [
        "\n",
        "52700"
       ]
      },
      {
       "output_type": "stream",
       "stream": "stdout",
       "text": [
        "\n",
        "52800"
       ]
      },
      {
       "output_type": "stream",
       "stream": "stdout",
       "text": [
        "\n",
        "52900"
       ]
      },
      {
       "output_type": "stream",
       "stream": "stdout",
       "text": [
        "\n",
        "53000"
       ]
      },
      {
       "output_type": "stream",
       "stream": "stdout",
       "text": [
        "\n",
        "53100"
       ]
      },
      {
       "output_type": "stream",
       "stream": "stdout",
       "text": [
        "\n",
        "53200"
       ]
      },
      {
       "output_type": "stream",
       "stream": "stdout",
       "text": [
        "\n",
        "53300"
       ]
      },
      {
       "output_type": "stream",
       "stream": "stdout",
       "text": [
        "\n",
        "53400"
       ]
      },
      {
       "output_type": "stream",
       "stream": "stdout",
       "text": [
        "\n",
        "53500"
       ]
      },
      {
       "output_type": "stream",
       "stream": "stdout",
       "text": [
        "\n",
        "53600"
       ]
      },
      {
       "output_type": "stream",
       "stream": "stdout",
       "text": [
        "\n",
        "53700"
       ]
      },
      {
       "output_type": "stream",
       "stream": "stdout",
       "text": [
        "\n",
        "53800"
       ]
      },
      {
       "output_type": "stream",
       "stream": "stdout",
       "text": [
        "\n",
        "53900"
       ]
      },
      {
       "output_type": "stream",
       "stream": "stdout",
       "text": [
        "\n",
        "54000"
       ]
      },
      {
       "output_type": "stream",
       "stream": "stdout",
       "text": [
        "\n",
        "54100"
       ]
      },
      {
       "output_type": "stream",
       "stream": "stdout",
       "text": [
        "\n",
        "54200"
       ]
      },
      {
       "output_type": "stream",
       "stream": "stdout",
       "text": [
        "\n",
        "54300"
       ]
      },
      {
       "output_type": "stream",
       "stream": "stdout",
       "text": [
        "\n",
        "54400"
       ]
      },
      {
       "output_type": "stream",
       "stream": "stdout",
       "text": [
        "\n",
        "54500"
       ]
      },
      {
       "output_type": "stream",
       "stream": "stdout",
       "text": [
        "\n",
        "54600"
       ]
      },
      {
       "output_type": "stream",
       "stream": "stdout",
       "text": [
        "\n",
        "54700"
       ]
      },
      {
       "output_type": "stream",
       "stream": "stdout",
       "text": [
        "\n",
        "54800"
       ]
      },
      {
       "output_type": "stream",
       "stream": "stdout",
       "text": [
        "\n",
        "54900"
       ]
      },
      {
       "output_type": "stream",
       "stream": "stdout",
       "text": [
        "\n",
        "55000"
       ]
      },
      {
       "output_type": "stream",
       "stream": "stdout",
       "text": [
        "\n",
        "55100"
       ]
      },
      {
       "output_type": "stream",
       "stream": "stdout",
       "text": [
        "\n",
        "55200"
       ]
      },
      {
       "output_type": "stream",
       "stream": "stdout",
       "text": [
        "\n",
        "55300"
       ]
      },
      {
       "output_type": "stream",
       "stream": "stdout",
       "text": [
        "\n",
        "55400"
       ]
      },
      {
       "output_type": "stream",
       "stream": "stdout",
       "text": [
        "\n",
        "55500"
       ]
      },
      {
       "output_type": "stream",
       "stream": "stdout",
       "text": [
        "\n",
        "55600"
       ]
      },
      {
       "output_type": "stream",
       "stream": "stdout",
       "text": [
        "\n",
        "55700"
       ]
      },
      {
       "output_type": "stream",
       "stream": "stdout",
       "text": [
        "\n",
        "55800"
       ]
      },
      {
       "output_type": "stream",
       "stream": "stdout",
       "text": [
        "\n",
        "55900"
       ]
      },
      {
       "output_type": "stream",
       "stream": "stdout",
       "text": [
        "\n",
        "56000"
       ]
      },
      {
       "output_type": "stream",
       "stream": "stdout",
       "text": [
        "\n",
        "56100"
       ]
      },
      {
       "output_type": "stream",
       "stream": "stdout",
       "text": [
        "\n",
        "56200"
       ]
      },
      {
       "output_type": "stream",
       "stream": "stdout",
       "text": [
        "\n",
        "56300"
       ]
      },
      {
       "output_type": "stream",
       "stream": "stdout",
       "text": [
        "\n",
        "56400"
       ]
      },
      {
       "output_type": "stream",
       "stream": "stdout",
       "text": [
        "\n",
        "56500"
       ]
      },
      {
       "output_type": "stream",
       "stream": "stdout",
       "text": [
        "\n",
        "56600"
       ]
      },
      {
       "output_type": "stream",
       "stream": "stdout",
       "text": [
        "\n",
        "56700"
       ]
      },
      {
       "output_type": "stream",
       "stream": "stdout",
       "text": [
        "\n",
        "56800"
       ]
      },
      {
       "output_type": "stream",
       "stream": "stdout",
       "text": [
        "\n",
        "56900"
       ]
      },
      {
       "output_type": "stream",
       "stream": "stdout",
       "text": [
        "\n",
        "57000"
       ]
      },
      {
       "output_type": "stream",
       "stream": "stdout",
       "text": [
        "\n",
        "57100"
       ]
      },
      {
       "output_type": "stream",
       "stream": "stdout",
       "text": [
        "\n",
        "57200"
       ]
      },
      {
       "output_type": "stream",
       "stream": "stdout",
       "text": [
        "\n",
        "57300"
       ]
      },
      {
       "output_type": "stream",
       "stream": "stdout",
       "text": [
        "\n",
        "57400"
       ]
      },
      {
       "output_type": "stream",
       "stream": "stdout",
       "text": [
        "\n",
        "57500"
       ]
      },
      {
       "output_type": "stream",
       "stream": "stdout",
       "text": [
        "\n",
        "57600"
       ]
      },
      {
       "output_type": "stream",
       "stream": "stdout",
       "text": [
        "\n",
        "57700"
       ]
      },
      {
       "output_type": "stream",
       "stream": "stdout",
       "text": [
        "\n",
        "57800"
       ]
      },
      {
       "output_type": "stream",
       "stream": "stdout",
       "text": [
        "\n",
        "57900"
       ]
      },
      {
       "output_type": "stream",
       "stream": "stdout",
       "text": [
        "\n",
        "58000"
       ]
      },
      {
       "output_type": "stream",
       "stream": "stdout",
       "text": [
        "\n",
        "58100"
       ]
      },
      {
       "output_type": "stream",
       "stream": "stdout",
       "text": [
        "\n",
        "58200"
       ]
      },
      {
       "output_type": "stream",
       "stream": "stdout",
       "text": [
        "\n",
        "58300"
       ]
      },
      {
       "output_type": "stream",
       "stream": "stdout",
       "text": [
        "\n",
        "58400"
       ]
      },
      {
       "output_type": "stream",
       "stream": "stdout",
       "text": [
        "\n",
        "58500"
       ]
      },
      {
       "output_type": "stream",
       "stream": "stdout",
       "text": [
        "\n",
        "58600"
       ]
      },
      {
       "output_type": "stream",
       "stream": "stdout",
       "text": [
        "\n",
        "58700"
       ]
      },
      {
       "output_type": "stream",
       "stream": "stdout",
       "text": [
        "\n",
        "58800"
       ]
      },
      {
       "output_type": "stream",
       "stream": "stdout",
       "text": [
        "\n",
        "58900"
       ]
      },
      {
       "output_type": "stream",
       "stream": "stdout",
       "text": [
        "\n",
        "59000"
       ]
      },
      {
       "output_type": "stream",
       "stream": "stdout",
       "text": [
        "\n",
        "59100"
       ]
      },
      {
       "output_type": "stream",
       "stream": "stdout",
       "text": [
        "\n",
        "59200"
       ]
      },
      {
       "output_type": "stream",
       "stream": "stdout",
       "text": [
        "\n",
        "59300"
       ]
      },
      {
       "output_type": "stream",
       "stream": "stdout",
       "text": [
        "\n",
        "59400"
       ]
      },
      {
       "output_type": "stream",
       "stream": "stdout",
       "text": [
        "\n",
        "59500"
       ]
      },
      {
       "output_type": "stream",
       "stream": "stdout",
       "text": [
        "\n",
        "59600"
       ]
      },
      {
       "output_type": "stream",
       "stream": "stdout",
       "text": [
        "\n",
        "59700"
       ]
      },
      {
       "output_type": "stream",
       "stream": "stdout",
       "text": [
        "\n",
        "59800"
       ]
      },
      {
       "output_type": "stream",
       "stream": "stdout",
       "text": [
        "\n",
        "59900"
       ]
      },
      {
       "output_type": "stream",
       "stream": "stdout",
       "text": [
        "\n",
        "60000"
       ]
      },
      {
       "output_type": "stream",
       "stream": "stdout",
       "text": [
        "\n",
        "60100"
       ]
      },
      {
       "output_type": "stream",
       "stream": "stdout",
       "text": [
        "\n",
        "60200"
       ]
      },
      {
       "output_type": "stream",
       "stream": "stdout",
       "text": [
        "\n",
        "60300"
       ]
      },
      {
       "output_type": "stream",
       "stream": "stdout",
       "text": [
        "\n",
        "60400"
       ]
      },
      {
       "output_type": "stream",
       "stream": "stdout",
       "text": [
        "\n",
        "60500"
       ]
      },
      {
       "output_type": "stream",
       "stream": "stdout",
       "text": [
        "\n",
        "60600"
       ]
      },
      {
       "output_type": "stream",
       "stream": "stdout",
       "text": [
        "\n",
        "60700"
       ]
      },
      {
       "output_type": "stream",
       "stream": "stdout",
       "text": [
        "\n",
        "60800"
       ]
      },
      {
       "output_type": "stream",
       "stream": "stdout",
       "text": [
        "\n",
        "60900"
       ]
      },
      {
       "output_type": "stream",
       "stream": "stdout",
       "text": [
        "\n",
        "61000"
       ]
      },
      {
       "output_type": "stream",
       "stream": "stdout",
       "text": [
        "\n",
        "61100"
       ]
      },
      {
       "output_type": "stream",
       "stream": "stdout",
       "text": [
        "\n",
        "61200"
       ]
      },
      {
       "output_type": "stream",
       "stream": "stdout",
       "text": [
        "\n",
        "61300"
       ]
      },
      {
       "output_type": "stream",
       "stream": "stdout",
       "text": [
        "\n",
        "61400"
       ]
      },
      {
       "output_type": "stream",
       "stream": "stdout",
       "text": [
        "\n",
        "61500"
       ]
      },
      {
       "output_type": "stream",
       "stream": "stdout",
       "text": [
        "\n",
        "61600"
       ]
      },
      {
       "output_type": "stream",
       "stream": "stdout",
       "text": [
        "\n",
        "61700"
       ]
      },
      {
       "output_type": "stream",
       "stream": "stdout",
       "text": [
        "\n",
        "61800"
       ]
      },
      {
       "output_type": "stream",
       "stream": "stdout",
       "text": [
        "\n",
        "61900"
       ]
      },
      {
       "output_type": "stream",
       "stream": "stdout",
       "text": [
        "\n",
        "62000"
       ]
      },
      {
       "output_type": "stream",
       "stream": "stdout",
       "text": [
        "\n",
        "62100"
       ]
      },
      {
       "output_type": "stream",
       "stream": "stdout",
       "text": [
        "\n",
        "62200"
       ]
      },
      {
       "output_type": "stream",
       "stream": "stdout",
       "text": [
        "\n",
        "62300"
       ]
      },
      {
       "output_type": "stream",
       "stream": "stdout",
       "text": [
        "\n",
        "62400"
       ]
      },
      {
       "output_type": "stream",
       "stream": "stdout",
       "text": [
        "\n",
        "62500"
       ]
      },
      {
       "output_type": "stream",
       "stream": "stdout",
       "text": [
        "\n",
        "62600"
       ]
      },
      {
       "output_type": "stream",
       "stream": "stdout",
       "text": [
        "\n",
        "62700"
       ]
      },
      {
       "output_type": "stream",
       "stream": "stdout",
       "text": [
        "\n",
        "62800"
       ]
      },
      {
       "output_type": "stream",
       "stream": "stdout",
       "text": [
        "\n",
        "62900"
       ]
      },
      {
       "output_type": "stream",
       "stream": "stdout",
       "text": [
        "\n",
        "63000"
       ]
      },
      {
       "output_type": "stream",
       "stream": "stdout",
       "text": [
        "\n",
        "63100"
       ]
      },
      {
       "output_type": "stream",
       "stream": "stdout",
       "text": [
        "\n",
        "63200"
       ]
      },
      {
       "output_type": "stream",
       "stream": "stdout",
       "text": [
        "\n",
        "63300"
       ]
      },
      {
       "output_type": "stream",
       "stream": "stdout",
       "text": [
        "\n",
        "63400"
       ]
      },
      {
       "output_type": "stream",
       "stream": "stdout",
       "text": [
        "\n",
        "63500"
       ]
      },
      {
       "output_type": "stream",
       "stream": "stdout",
       "text": [
        "\n",
        "63600"
       ]
      },
      {
       "output_type": "stream",
       "stream": "stdout",
       "text": [
        "\n",
        "63700"
       ]
      },
      {
       "output_type": "stream",
       "stream": "stdout",
       "text": [
        "\n",
        "63800"
       ]
      },
      {
       "output_type": "stream",
       "stream": "stdout",
       "text": [
        "\n",
        "63900"
       ]
      },
      {
       "output_type": "stream",
       "stream": "stdout",
       "text": [
        "\n",
        "64000"
       ]
      },
      {
       "output_type": "stream",
       "stream": "stdout",
       "text": [
        "\n",
        "64100"
       ]
      },
      {
       "output_type": "stream",
       "stream": "stdout",
       "text": [
        "\n",
        "64200"
       ]
      },
      {
       "output_type": "stream",
       "stream": "stdout",
       "text": [
        "\n",
        "64300"
       ]
      },
      {
       "output_type": "stream",
       "stream": "stdout",
       "text": [
        "\n",
        "64400"
       ]
      },
      {
       "output_type": "stream",
       "stream": "stdout",
       "text": [
        "\n",
        "64500"
       ]
      },
      {
       "output_type": "stream",
       "stream": "stdout",
       "text": [
        "\n",
        "64600"
       ]
      },
      {
       "output_type": "stream",
       "stream": "stdout",
       "text": [
        "\n",
        "64700"
       ]
      },
      {
       "output_type": "stream",
       "stream": "stdout",
       "text": [
        "\n",
        "64800"
       ]
      },
      {
       "output_type": "stream",
       "stream": "stdout",
       "text": [
        "\n",
        "64900"
       ]
      },
      {
       "output_type": "stream",
       "stream": "stdout",
       "text": [
        "\n",
        "65000"
       ]
      },
      {
       "output_type": "stream",
       "stream": "stdout",
       "text": [
        "\n",
        "65100"
       ]
      },
      {
       "output_type": "stream",
       "stream": "stdout",
       "text": [
        "\n",
        "65200"
       ]
      },
      {
       "output_type": "stream",
       "stream": "stdout",
       "text": [
        "\n",
        "65300"
       ]
      },
      {
       "output_type": "stream",
       "stream": "stdout",
       "text": [
        "\n",
        "65400"
       ]
      },
      {
       "output_type": "stream",
       "stream": "stdout",
       "text": [
        "\n",
        "65500"
       ]
      },
      {
       "output_type": "stream",
       "stream": "stdout",
       "text": [
        "\n",
        "65600"
       ]
      },
      {
       "output_type": "stream",
       "stream": "stdout",
       "text": [
        "\n",
        "65700"
       ]
      },
      {
       "output_type": "stream",
       "stream": "stdout",
       "text": [
        "\n",
        "65800"
       ]
      },
      {
       "output_type": "stream",
       "stream": "stdout",
       "text": [
        "\n",
        "65900"
       ]
      },
      {
       "output_type": "stream",
       "stream": "stdout",
       "text": [
        "\n",
        "66000"
       ]
      },
      {
       "output_type": "stream",
       "stream": "stdout",
       "text": [
        "\n",
        "66100"
       ]
      },
      {
       "output_type": "stream",
       "stream": "stdout",
       "text": [
        "\n",
        "66200"
       ]
      },
      {
       "output_type": "stream",
       "stream": "stdout",
       "text": [
        "\n",
        "66300"
       ]
      },
      {
       "output_type": "stream",
       "stream": "stdout",
       "text": [
        "\n",
        "66400"
       ]
      },
      {
       "output_type": "stream",
       "stream": "stdout",
       "text": [
        "\n",
        "66500"
       ]
      },
      {
       "output_type": "stream",
       "stream": "stdout",
       "text": [
        "\n",
        "66600"
       ]
      },
      {
       "output_type": "stream",
       "stream": "stdout",
       "text": [
        "\n",
        "66700"
       ]
      },
      {
       "output_type": "stream",
       "stream": "stdout",
       "text": [
        "\n",
        "66800"
       ]
      },
      {
       "output_type": "stream",
       "stream": "stdout",
       "text": [
        "\n",
        "66900"
       ]
      },
      {
       "output_type": "stream",
       "stream": "stdout",
       "text": [
        "\n",
        "67000"
       ]
      },
      {
       "output_type": "stream",
       "stream": "stdout",
       "text": [
        "\n",
        "67100"
       ]
      },
      {
       "output_type": "stream",
       "stream": "stdout",
       "text": [
        "\n",
        "67200"
       ]
      },
      {
       "output_type": "stream",
       "stream": "stdout",
       "text": [
        "\n",
        "67300"
       ]
      },
      {
       "output_type": "stream",
       "stream": "stdout",
       "text": [
        "\n",
        "67400"
       ]
      },
      {
       "output_type": "stream",
       "stream": "stdout",
       "text": [
        "\n",
        "67500"
       ]
      },
      {
       "output_type": "stream",
       "stream": "stdout",
       "text": [
        "\n",
        "67600"
       ]
      },
      {
       "output_type": "stream",
       "stream": "stdout",
       "text": [
        "\n",
        "67700"
       ]
      },
      {
       "output_type": "stream",
       "stream": "stdout",
       "text": [
        "\n",
        "67800"
       ]
      },
      {
       "output_type": "stream",
       "stream": "stdout",
       "text": [
        "\n",
        "67900"
       ]
      },
      {
       "output_type": "stream",
       "stream": "stdout",
       "text": [
        "\n",
        "68000"
       ]
      },
      {
       "output_type": "stream",
       "stream": "stdout",
       "text": [
        "\n",
        "68100"
       ]
      },
      {
       "output_type": "stream",
       "stream": "stdout",
       "text": [
        "\n",
        "68200"
       ]
      },
      {
       "output_type": "stream",
       "stream": "stdout",
       "text": [
        "\n",
        "68300"
       ]
      },
      {
       "output_type": "stream",
       "stream": "stdout",
       "text": [
        "\n",
        "68400"
       ]
      },
      {
       "output_type": "stream",
       "stream": "stdout",
       "text": [
        "\n",
        "68500"
       ]
      },
      {
       "output_type": "stream",
       "stream": "stdout",
       "text": [
        "\n",
        "68600"
       ]
      },
      {
       "output_type": "stream",
       "stream": "stdout",
       "text": [
        "\n",
        "68700"
       ]
      },
      {
       "output_type": "stream",
       "stream": "stdout",
       "text": [
        "\n",
        "68800"
       ]
      },
      {
       "output_type": "stream",
       "stream": "stdout",
       "text": [
        "\n",
        "68900"
       ]
      },
      {
       "output_type": "stream",
       "stream": "stdout",
       "text": [
        "\n",
        "69000"
       ]
      },
      {
       "output_type": "stream",
       "stream": "stdout",
       "text": [
        "\n",
        "69100"
       ]
      },
      {
       "output_type": "stream",
       "stream": "stdout",
       "text": [
        "\n",
        "69200"
       ]
      },
      {
       "output_type": "stream",
       "stream": "stdout",
       "text": [
        "\n",
        "69300"
       ]
      },
      {
       "output_type": "stream",
       "stream": "stdout",
       "text": [
        "\n",
        "69400"
       ]
      },
      {
       "output_type": "stream",
       "stream": "stdout",
       "text": [
        "\n",
        "69500"
       ]
      },
      {
       "output_type": "stream",
       "stream": "stdout",
       "text": [
        "\n",
        "69600"
       ]
      },
      {
       "output_type": "stream",
       "stream": "stdout",
       "text": [
        "\n",
        "69700"
       ]
      },
      {
       "output_type": "stream",
       "stream": "stdout",
       "text": [
        "\n",
        "69800"
       ]
      },
      {
       "output_type": "stream",
       "stream": "stdout",
       "text": [
        "\n",
        "69900"
       ]
      },
      {
       "output_type": "stream",
       "stream": "stdout",
       "text": [
        "\n",
        "70000"
       ]
      },
      {
       "output_type": "stream",
       "stream": "stdout",
       "text": [
        "\n",
        "70100"
       ]
      },
      {
       "output_type": "stream",
       "stream": "stdout",
       "text": [
        "\n",
        "70200"
       ]
      },
      {
       "output_type": "stream",
       "stream": "stdout",
       "text": [
        "\n",
        "70300"
       ]
      },
      {
       "output_type": "stream",
       "stream": "stdout",
       "text": [
        "\n",
        "70400"
       ]
      },
      {
       "output_type": "stream",
       "stream": "stdout",
       "text": [
        "\n",
        "70500"
       ]
      },
      {
       "output_type": "stream",
       "stream": "stdout",
       "text": [
        "\n",
        "70600"
       ]
      },
      {
       "output_type": "stream",
       "stream": "stdout",
       "text": [
        "\n",
        "70700"
       ]
      },
      {
       "output_type": "stream",
       "stream": "stdout",
       "text": [
        "\n",
        "70800"
       ]
      },
      {
       "output_type": "stream",
       "stream": "stdout",
       "text": [
        "\n",
        "70900"
       ]
      },
      {
       "output_type": "stream",
       "stream": "stdout",
       "text": [
        "\n",
        "71000"
       ]
      },
      {
       "output_type": "stream",
       "stream": "stdout",
       "text": [
        "\n",
        "71100"
       ]
      },
      {
       "output_type": "stream",
       "stream": "stdout",
       "text": [
        "\n",
        "71200"
       ]
      },
      {
       "output_type": "stream",
       "stream": "stdout",
       "text": [
        "\n",
        "71300"
       ]
      },
      {
       "output_type": "stream",
       "stream": "stdout",
       "text": [
        "\n",
        "71400"
       ]
      },
      {
       "output_type": "stream",
       "stream": "stdout",
       "text": [
        "\n",
        "71500"
       ]
      },
      {
       "output_type": "stream",
       "stream": "stdout",
       "text": [
        "\n",
        "71600"
       ]
      },
      {
       "output_type": "stream",
       "stream": "stdout",
       "text": [
        "\n",
        "71700"
       ]
      },
      {
       "output_type": "stream",
       "stream": "stdout",
       "text": [
        "\n",
        "71800"
       ]
      },
      {
       "output_type": "stream",
       "stream": "stdout",
       "text": [
        "\n",
        "71900"
       ]
      },
      {
       "output_type": "stream",
       "stream": "stdout",
       "text": [
        "\n",
        "72000"
       ]
      },
      {
       "output_type": "stream",
       "stream": "stdout",
       "text": [
        "\n",
        "72100"
       ]
      },
      {
       "output_type": "stream",
       "stream": "stdout",
       "text": [
        "\n",
        "72200"
       ]
      },
      {
       "output_type": "stream",
       "stream": "stdout",
       "text": [
        "\n",
        "72300"
       ]
      },
      {
       "output_type": "stream",
       "stream": "stdout",
       "text": [
        "\n",
        "72400"
       ]
      },
      {
       "output_type": "stream",
       "stream": "stdout",
       "text": [
        "\n",
        "72500"
       ]
      },
      {
       "output_type": "stream",
       "stream": "stdout",
       "text": [
        "\n",
        "72600"
       ]
      },
      {
       "output_type": "stream",
       "stream": "stdout",
       "text": [
        "\n",
        "72700"
       ]
      },
      {
       "output_type": "stream",
       "stream": "stdout",
       "text": [
        "\n",
        "72800"
       ]
      },
      {
       "output_type": "stream",
       "stream": "stdout",
       "text": [
        "\n",
        "72900"
       ]
      },
      {
       "output_type": "stream",
       "stream": "stdout",
       "text": [
        "\n",
        "73000"
       ]
      },
      {
       "output_type": "stream",
       "stream": "stdout",
       "text": [
        "\n",
        "73100"
       ]
      },
      {
       "output_type": "stream",
       "stream": "stdout",
       "text": [
        "\n",
        "73200"
       ]
      },
      {
       "output_type": "stream",
       "stream": "stdout",
       "text": [
        "\n",
        "73300"
       ]
      },
      {
       "output_type": "stream",
       "stream": "stdout",
       "text": [
        "\n",
        "73400"
       ]
      },
      {
       "output_type": "stream",
       "stream": "stdout",
       "text": [
        "\n",
        "73500"
       ]
      },
      {
       "output_type": "stream",
       "stream": "stdout",
       "text": [
        "\n",
        "73600"
       ]
      },
      {
       "output_type": "stream",
       "stream": "stdout",
       "text": [
        "\n",
        "73700"
       ]
      },
      {
       "output_type": "stream",
       "stream": "stdout",
       "text": [
        "\n",
        "73800"
       ]
      },
      {
       "output_type": "stream",
       "stream": "stdout",
       "text": [
        "\n",
        "73900"
       ]
      },
      {
       "output_type": "stream",
       "stream": "stdout",
       "text": [
        "\n",
        "74000"
       ]
      },
      {
       "output_type": "stream",
       "stream": "stdout",
       "text": [
        "\n",
        "74100"
       ]
      },
      {
       "output_type": "stream",
       "stream": "stdout",
       "text": [
        "\n",
        "74200"
       ]
      },
      {
       "output_type": "stream",
       "stream": "stdout",
       "text": [
        "\n",
        "74300"
       ]
      },
      {
       "output_type": "stream",
       "stream": "stdout",
       "text": [
        "\n",
        "74400"
       ]
      },
      {
       "output_type": "stream",
       "stream": "stdout",
       "text": [
        "\n",
        "74500"
       ]
      },
      {
       "output_type": "stream",
       "stream": "stdout",
       "text": [
        "\n",
        "74600"
       ]
      },
      {
       "output_type": "stream",
       "stream": "stdout",
       "text": [
        "\n",
        "74700"
       ]
      },
      {
       "output_type": "stream",
       "stream": "stdout",
       "text": [
        "\n",
        "74800"
       ]
      },
      {
       "output_type": "stream",
       "stream": "stdout",
       "text": [
        "\n",
        "74900"
       ]
      },
      {
       "output_type": "stream",
       "stream": "stdout",
       "text": [
        "\n",
        "75000"
       ]
      },
      {
       "output_type": "stream",
       "stream": "stdout",
       "text": [
        "\n",
        "75100"
       ]
      },
      {
       "output_type": "stream",
       "stream": "stdout",
       "text": [
        "\n",
        "75200"
       ]
      },
      {
       "output_type": "stream",
       "stream": "stdout",
       "text": [
        "\n",
        "75300"
       ]
      },
      {
       "output_type": "stream",
       "stream": "stdout",
       "text": [
        "\n",
        "75400"
       ]
      },
      {
       "output_type": "stream",
       "stream": "stdout",
       "text": [
        "\n",
        "75500"
       ]
      },
      {
       "output_type": "stream",
       "stream": "stdout",
       "text": [
        "\n",
        "75600"
       ]
      },
      {
       "output_type": "stream",
       "stream": "stdout",
       "text": [
        "\n",
        "75700"
       ]
      },
      {
       "output_type": "stream",
       "stream": "stdout",
       "text": [
        "\n",
        "75800"
       ]
      },
      {
       "output_type": "stream",
       "stream": "stdout",
       "text": [
        "\n",
        "75900"
       ]
      },
      {
       "output_type": "stream",
       "stream": "stdout",
       "text": [
        "\n",
        "76000"
       ]
      },
      {
       "output_type": "stream",
       "stream": "stdout",
       "text": [
        "\n",
        "76100"
       ]
      },
      {
       "output_type": "stream",
       "stream": "stdout",
       "text": [
        "\n",
        "76200"
       ]
      },
      {
       "output_type": "stream",
       "stream": "stdout",
       "text": [
        "\n",
        "76300"
       ]
      },
      {
       "output_type": "stream",
       "stream": "stdout",
       "text": [
        "\n",
        "76400"
       ]
      },
      {
       "output_type": "stream",
       "stream": "stdout",
       "text": [
        "\n",
        "76500"
       ]
      },
      {
       "output_type": "stream",
       "stream": "stdout",
       "text": [
        "\n",
        "76600"
       ]
      },
      {
       "output_type": "stream",
       "stream": "stdout",
       "text": [
        "\n",
        "76700"
       ]
      },
      {
       "output_type": "stream",
       "stream": "stdout",
       "text": [
        "\n",
        "76800"
       ]
      },
      {
       "output_type": "stream",
       "stream": "stdout",
       "text": [
        "\n",
        "76900"
       ]
      },
      {
       "output_type": "stream",
       "stream": "stdout",
       "text": [
        "\n",
        "77000"
       ]
      },
      {
       "output_type": "stream",
       "stream": "stdout",
       "text": [
        "\n",
        "77100"
       ]
      },
      {
       "output_type": "stream",
       "stream": "stdout",
       "text": [
        "\n",
        "77200"
       ]
      },
      {
       "output_type": "stream",
       "stream": "stdout",
       "text": [
        "\n",
        "77300"
       ]
      },
      {
       "output_type": "stream",
       "stream": "stdout",
       "text": [
        "\n",
        "77400"
       ]
      },
      {
       "output_type": "stream",
       "stream": "stdout",
       "text": [
        "\n",
        "77500"
       ]
      },
      {
       "output_type": "stream",
       "stream": "stdout",
       "text": [
        "\n",
        "77600"
       ]
      },
      {
       "output_type": "stream",
       "stream": "stdout",
       "text": [
        "\n",
        "77700"
       ]
      },
      {
       "output_type": "stream",
       "stream": "stdout",
       "text": [
        "\n",
        "77800"
       ]
      },
      {
       "output_type": "stream",
       "stream": "stdout",
       "text": [
        "\n",
        "77900"
       ]
      },
      {
       "output_type": "stream",
       "stream": "stdout",
       "text": [
        "\n",
        "78000"
       ]
      },
      {
       "output_type": "stream",
       "stream": "stdout",
       "text": [
        "\n",
        "78100"
       ]
      },
      {
       "output_type": "stream",
       "stream": "stdout",
       "text": [
        "\n",
        "78200"
       ]
      },
      {
       "output_type": "stream",
       "stream": "stdout",
       "text": [
        "\n",
        "78300"
       ]
      },
      {
       "output_type": "stream",
       "stream": "stdout",
       "text": [
        "\n",
        "78400"
       ]
      },
      {
       "output_type": "stream",
       "stream": "stdout",
       "text": [
        "\n",
        "78500"
       ]
      },
      {
       "output_type": "stream",
       "stream": "stdout",
       "text": [
        "\n",
        "78600"
       ]
      },
      {
       "output_type": "stream",
       "stream": "stdout",
       "text": [
        "\n",
        "78700"
       ]
      },
      {
       "output_type": "stream",
       "stream": "stdout",
       "text": [
        "\n",
        "78800"
       ]
      },
      {
       "output_type": "stream",
       "stream": "stdout",
       "text": [
        "\n",
        "78900"
       ]
      },
      {
       "output_type": "stream",
       "stream": "stdout",
       "text": [
        "\n",
        "79000"
       ]
      },
      {
       "output_type": "stream",
       "stream": "stdout",
       "text": [
        "\n",
        "79100"
       ]
      },
      {
       "output_type": "stream",
       "stream": "stdout",
       "text": [
        "\n",
        "79200"
       ]
      },
      {
       "output_type": "stream",
       "stream": "stdout",
       "text": [
        "\n",
        "79300"
       ]
      },
      {
       "output_type": "stream",
       "stream": "stdout",
       "text": [
        "\n",
        "79400"
       ]
      },
      {
       "output_type": "stream",
       "stream": "stdout",
       "text": [
        "\n",
        "79500"
       ]
      },
      {
       "output_type": "stream",
       "stream": "stdout",
       "text": [
        "\n",
        "79600"
       ]
      },
      {
       "output_type": "stream",
       "stream": "stdout",
       "text": [
        "\n",
        "79700"
       ]
      },
      {
       "output_type": "stream",
       "stream": "stdout",
       "text": [
        "\n",
        "79800"
       ]
      },
      {
       "output_type": "stream",
       "stream": "stdout",
       "text": [
        "\n",
        "79900"
       ]
      },
      {
       "output_type": "stream",
       "stream": "stdout",
       "text": [
        "\n",
        "80000"
       ]
      },
      {
       "output_type": "stream",
       "stream": "stdout",
       "text": [
        "\n",
        "80100"
       ]
      },
      {
       "output_type": "stream",
       "stream": "stdout",
       "text": [
        "\n",
        "80200"
       ]
      },
      {
       "output_type": "stream",
       "stream": "stdout",
       "text": [
        "\n",
        "80300"
       ]
      },
      {
       "output_type": "stream",
       "stream": "stdout",
       "text": [
        "\n",
        "80400"
       ]
      },
      {
       "output_type": "stream",
       "stream": "stdout",
       "text": [
        "\n",
        "80500"
       ]
      },
      {
       "output_type": "stream",
       "stream": "stdout",
       "text": [
        "\n",
        "80600"
       ]
      },
      {
       "output_type": "stream",
       "stream": "stdout",
       "text": [
        "\n",
        "80700"
       ]
      },
      {
       "output_type": "stream",
       "stream": "stdout",
       "text": [
        "\n",
        "80800"
       ]
      },
      {
       "output_type": "stream",
       "stream": "stdout",
       "text": [
        "\n",
        "80900"
       ]
      },
      {
       "output_type": "stream",
       "stream": "stdout",
       "text": [
        "\n",
        "81000"
       ]
      },
      {
       "output_type": "stream",
       "stream": "stdout",
       "text": [
        "\n",
        "81100"
       ]
      },
      {
       "output_type": "stream",
       "stream": "stdout",
       "text": [
        "\n",
        "81200"
       ]
      },
      {
       "output_type": "stream",
       "stream": "stdout",
       "text": [
        "\n",
        "81300"
       ]
      },
      {
       "output_type": "stream",
       "stream": "stdout",
       "text": [
        "\n",
        "81400"
       ]
      },
      {
       "output_type": "stream",
       "stream": "stdout",
       "text": [
        "\n",
        "81500"
       ]
      },
      {
       "output_type": "stream",
       "stream": "stdout",
       "text": [
        "\n",
        "81600"
       ]
      },
      {
       "output_type": "stream",
       "stream": "stdout",
       "text": [
        "\n",
        "81700"
       ]
      },
      {
       "output_type": "stream",
       "stream": "stdout",
       "text": [
        "\n",
        "81800"
       ]
      },
      {
       "output_type": "stream",
       "stream": "stdout",
       "text": [
        "\n",
        "81900"
       ]
      },
      {
       "output_type": "stream",
       "stream": "stdout",
       "text": [
        "\n",
        "82000"
       ]
      },
      {
       "output_type": "stream",
       "stream": "stdout",
       "text": [
        "\n",
        "82100"
       ]
      },
      {
       "output_type": "stream",
       "stream": "stdout",
       "text": [
        "\n",
        "82200"
       ]
      },
      {
       "output_type": "stream",
       "stream": "stdout",
       "text": [
        "\n",
        "82300"
       ]
      },
      {
       "output_type": "stream",
       "stream": "stdout",
       "text": [
        "\n",
        "82400"
       ]
      },
      {
       "output_type": "stream",
       "stream": "stdout",
       "text": [
        "\n",
        "82500"
       ]
      },
      {
       "output_type": "stream",
       "stream": "stdout",
       "text": [
        "\n",
        "82600"
       ]
      },
      {
       "output_type": "stream",
       "stream": "stdout",
       "text": [
        "\n",
        "82700"
       ]
      },
      {
       "output_type": "stream",
       "stream": "stdout",
       "text": [
        "\n",
        "82800"
       ]
      },
      {
       "output_type": "stream",
       "stream": "stdout",
       "text": [
        "\n",
        "82900"
       ]
      },
      {
       "output_type": "stream",
       "stream": "stdout",
       "text": [
        "\n",
        "83000"
       ]
      },
      {
       "output_type": "stream",
       "stream": "stdout",
       "text": [
        "\n",
        "83100"
       ]
      },
      {
       "output_type": "stream",
       "stream": "stdout",
       "text": [
        "\n",
        "83200"
       ]
      },
      {
       "output_type": "stream",
       "stream": "stdout",
       "text": [
        "\n",
        "83300"
       ]
      },
      {
       "output_type": "stream",
       "stream": "stdout",
       "text": [
        "\n",
        "83400"
       ]
      },
      {
       "output_type": "stream",
       "stream": "stdout",
       "text": [
        "\n",
        "83500"
       ]
      },
      {
       "output_type": "stream",
       "stream": "stdout",
       "text": [
        "\n",
        "83600"
       ]
      },
      {
       "output_type": "stream",
       "stream": "stdout",
       "text": [
        "\n",
        "83700"
       ]
      },
      {
       "output_type": "stream",
       "stream": "stdout",
       "text": [
        "\n",
        "83800"
       ]
      },
      {
       "output_type": "stream",
       "stream": "stdout",
       "text": [
        "\n",
        "83900"
       ]
      },
      {
       "output_type": "stream",
       "stream": "stdout",
       "text": [
        "\n",
        "84000"
       ]
      },
      {
       "output_type": "stream",
       "stream": "stdout",
       "text": [
        "\n",
        "84100"
       ]
      },
      {
       "output_type": "stream",
       "stream": "stdout",
       "text": [
        "\n",
        "84200"
       ]
      },
      {
       "output_type": "stream",
       "stream": "stdout",
       "text": [
        "\n",
        "84300"
       ]
      },
      {
       "output_type": "stream",
       "stream": "stdout",
       "text": [
        "\n",
        "84400"
       ]
      },
      {
       "output_type": "stream",
       "stream": "stdout",
       "text": [
        "\n",
        "84500"
       ]
      },
      {
       "output_type": "stream",
       "stream": "stdout",
       "text": [
        "\n",
        "84600"
       ]
      },
      {
       "output_type": "stream",
       "stream": "stdout",
       "text": [
        "\n",
        "84700"
       ]
      },
      {
       "output_type": "stream",
       "stream": "stdout",
       "text": [
        "\n",
        "84800"
       ]
      },
      {
       "output_type": "stream",
       "stream": "stdout",
       "text": [
        "\n",
        "84900"
       ]
      },
      {
       "output_type": "stream",
       "stream": "stdout",
       "text": [
        "\n",
        "85000"
       ]
      },
      {
       "output_type": "stream",
       "stream": "stdout",
       "text": [
        "\n",
        "85100"
       ]
      },
      {
       "output_type": "stream",
       "stream": "stdout",
       "text": [
        "\n",
        "85200"
       ]
      },
      {
       "output_type": "stream",
       "stream": "stdout",
       "text": [
        "\n",
        "85300"
       ]
      },
      {
       "output_type": "stream",
       "stream": "stdout",
       "text": [
        "\n",
        "85400"
       ]
      },
      {
       "output_type": "stream",
       "stream": "stdout",
       "text": [
        "\n",
        "85500"
       ]
      },
      {
       "output_type": "stream",
       "stream": "stdout",
       "text": [
        "\n",
        "85600"
       ]
      },
      {
       "output_type": "stream",
       "stream": "stdout",
       "text": [
        "\n",
        "85700"
       ]
      },
      {
       "output_type": "stream",
       "stream": "stdout",
       "text": [
        "\n",
        "85800"
       ]
      },
      {
       "output_type": "stream",
       "stream": "stdout",
       "text": [
        "\n",
        "85900"
       ]
      },
      {
       "output_type": "stream",
       "stream": "stdout",
       "text": [
        "\n",
        "86000"
       ]
      },
      {
       "output_type": "stream",
       "stream": "stdout",
       "text": [
        "\n",
        "86100"
       ]
      },
      {
       "output_type": "stream",
       "stream": "stdout",
       "text": [
        "\n",
        "86200"
       ]
      },
      {
       "output_type": "stream",
       "stream": "stdout",
       "text": [
        "\n",
        "86300"
       ]
      },
      {
       "output_type": "stream",
       "stream": "stdout",
       "text": [
        "\n",
        "86400"
       ]
      },
      {
       "output_type": "stream",
       "stream": "stdout",
       "text": [
        "\n",
        "86500"
       ]
      },
      {
       "output_type": "stream",
       "stream": "stdout",
       "text": [
        "\n",
        "86600"
       ]
      },
      {
       "output_type": "stream",
       "stream": "stdout",
       "text": [
        "\n",
        "86700"
       ]
      },
      {
       "output_type": "stream",
       "stream": "stdout",
       "text": [
        "\n",
        "86800"
       ]
      },
      {
       "output_type": "stream",
       "stream": "stdout",
       "text": [
        "\n",
        "86900"
       ]
      },
      {
       "output_type": "stream",
       "stream": "stdout",
       "text": [
        "\n",
        "87000"
       ]
      },
      {
       "output_type": "stream",
       "stream": "stdout",
       "text": [
        "\n",
        "87100"
       ]
      },
      {
       "output_type": "stream",
       "stream": "stdout",
       "text": [
        "\n",
        "87200"
       ]
      },
      {
       "output_type": "stream",
       "stream": "stdout",
       "text": [
        "\n",
        "87300"
       ]
      },
      {
       "output_type": "stream",
       "stream": "stdout",
       "text": [
        "\n",
        "87400"
       ]
      },
      {
       "output_type": "stream",
       "stream": "stdout",
       "text": [
        "\n",
        "87500"
       ]
      },
      {
       "output_type": "stream",
       "stream": "stdout",
       "text": [
        "\n",
        "87600"
       ]
      },
      {
       "output_type": "stream",
       "stream": "stdout",
       "text": [
        "\n",
        "87700"
       ]
      },
      {
       "output_type": "stream",
       "stream": "stdout",
       "text": [
        "\n",
        "87800"
       ]
      },
      {
       "output_type": "stream",
       "stream": "stdout",
       "text": [
        "\n",
        "87900"
       ]
      },
      {
       "output_type": "stream",
       "stream": "stdout",
       "text": [
        "\n",
        "88000"
       ]
      },
      {
       "output_type": "stream",
       "stream": "stdout",
       "text": [
        "\n",
        "88100"
       ]
      },
      {
       "output_type": "stream",
       "stream": "stdout",
       "text": [
        "\n",
        "88200"
       ]
      },
      {
       "output_type": "stream",
       "stream": "stdout",
       "text": [
        "\n",
        "88300"
       ]
      },
      {
       "output_type": "stream",
       "stream": "stdout",
       "text": [
        "\n",
        "88400"
       ]
      },
      {
       "output_type": "stream",
       "stream": "stdout",
       "text": [
        "\n",
        "88500"
       ]
      },
      {
       "output_type": "stream",
       "stream": "stdout",
       "text": [
        "\n",
        "88600"
       ]
      },
      {
       "output_type": "stream",
       "stream": "stdout",
       "text": [
        "\n",
        "88700"
       ]
      },
      {
       "output_type": "stream",
       "stream": "stdout",
       "text": [
        "\n",
        "88800"
       ]
      },
      {
       "output_type": "stream",
       "stream": "stdout",
       "text": [
        "\n",
        "88900"
       ]
      },
      {
       "output_type": "stream",
       "stream": "stdout",
       "text": [
        "\n",
        "89000"
       ]
      },
      {
       "output_type": "stream",
       "stream": "stdout",
       "text": [
        "\n",
        "89100"
       ]
      },
      {
       "output_type": "stream",
       "stream": "stdout",
       "text": [
        "\n",
        "89200"
       ]
      },
      {
       "output_type": "stream",
       "stream": "stdout",
       "text": [
        "\n",
        "89300"
       ]
      },
      {
       "output_type": "stream",
       "stream": "stdout",
       "text": [
        "\n",
        "89400"
       ]
      },
      {
       "output_type": "stream",
       "stream": "stdout",
       "text": [
        "\n",
        "89500"
       ]
      },
      {
       "output_type": "stream",
       "stream": "stdout",
       "text": [
        "\n",
        "89600"
       ]
      },
      {
       "output_type": "stream",
       "stream": "stdout",
       "text": [
        "\n",
        "89700"
       ]
      },
      {
       "output_type": "stream",
       "stream": "stdout",
       "text": [
        "\n",
        "89800"
       ]
      },
      {
       "output_type": "stream",
       "stream": "stdout",
       "text": [
        "\n",
        "89900"
       ]
      },
      {
       "output_type": "stream",
       "stream": "stdout",
       "text": [
        "\n",
        "90000"
       ]
      },
      {
       "output_type": "stream",
       "stream": "stdout",
       "text": [
        "\n",
        "90100"
       ]
      },
      {
       "output_type": "stream",
       "stream": "stdout",
       "text": [
        "\n",
        "90200"
       ]
      },
      {
       "output_type": "stream",
       "stream": "stdout",
       "text": [
        "\n",
        "90300"
       ]
      },
      {
       "output_type": "stream",
       "stream": "stdout",
       "text": [
        "\n",
        "90400"
       ]
      },
      {
       "output_type": "stream",
       "stream": "stdout",
       "text": [
        "\n",
        "90500"
       ]
      },
      {
       "output_type": "stream",
       "stream": "stdout",
       "text": [
        "\n",
        "90600"
       ]
      },
      {
       "output_type": "stream",
       "stream": "stdout",
       "text": [
        "\n",
        "90700"
       ]
      },
      {
       "output_type": "stream",
       "stream": "stdout",
       "text": [
        "\n",
        "90800"
       ]
      },
      {
       "output_type": "stream",
       "stream": "stdout",
       "text": [
        "\n",
        "90900"
       ]
      },
      {
       "output_type": "stream",
       "stream": "stdout",
       "text": [
        "\n",
        "91000"
       ]
      },
      {
       "output_type": "stream",
       "stream": "stdout",
       "text": [
        "\n",
        "91100"
       ]
      },
      {
       "output_type": "stream",
       "stream": "stdout",
       "text": [
        "\n",
        "91200"
       ]
      },
      {
       "output_type": "stream",
       "stream": "stdout",
       "text": [
        "\n",
        "91300"
       ]
      },
      {
       "output_type": "stream",
       "stream": "stdout",
       "text": [
        "\n",
        "91400"
       ]
      },
      {
       "output_type": "stream",
       "stream": "stdout",
       "text": [
        "\n",
        "91500"
       ]
      },
      {
       "output_type": "stream",
       "stream": "stdout",
       "text": [
        "\n",
        "91600"
       ]
      },
      {
       "output_type": "stream",
       "stream": "stdout",
       "text": [
        "\n",
        "91700"
       ]
      },
      {
       "output_type": "stream",
       "stream": "stdout",
       "text": [
        "\n",
        "91800"
       ]
      },
      {
       "output_type": "stream",
       "stream": "stdout",
       "text": [
        "\n",
        "91900"
       ]
      },
      {
       "output_type": "stream",
       "stream": "stdout",
       "text": [
        "\n",
        "92000"
       ]
      },
      {
       "output_type": "stream",
       "stream": "stdout",
       "text": [
        "\n",
        "92100"
       ]
      },
      {
       "output_type": "stream",
       "stream": "stdout",
       "text": [
        "\n",
        "92200"
       ]
      },
      {
       "output_type": "stream",
       "stream": "stdout",
       "text": [
        "\n",
        "92300"
       ]
      },
      {
       "output_type": "stream",
       "stream": "stdout",
       "text": [
        "\n",
        "92400"
       ]
      },
      {
       "output_type": "stream",
       "stream": "stdout",
       "text": [
        "\n",
        "92500"
       ]
      },
      {
       "output_type": "stream",
       "stream": "stdout",
       "text": [
        "\n",
        "92600"
       ]
      },
      {
       "output_type": "stream",
       "stream": "stdout",
       "text": [
        "\n",
        "92700"
       ]
      },
      {
       "output_type": "stream",
       "stream": "stdout",
       "text": [
        "\n",
        "92800"
       ]
      },
      {
       "output_type": "stream",
       "stream": "stdout",
       "text": [
        "\n",
        "92900"
       ]
      },
      {
       "output_type": "stream",
       "stream": "stdout",
       "text": [
        "\n",
        "93000"
       ]
      },
      {
       "output_type": "stream",
       "stream": "stdout",
       "text": [
        "\n",
        "93100"
       ]
      },
      {
       "output_type": "stream",
       "stream": "stdout",
       "text": [
        "\n",
        "93200"
       ]
      },
      {
       "output_type": "stream",
       "stream": "stdout",
       "text": [
        "\n",
        "93300"
       ]
      },
      {
       "output_type": "stream",
       "stream": "stdout",
       "text": [
        "\n",
        "93400"
       ]
      },
      {
       "output_type": "stream",
       "stream": "stdout",
       "text": [
        "\n",
        "93500"
       ]
      },
      {
       "output_type": "stream",
       "stream": "stdout",
       "text": [
        "\n",
        "93600"
       ]
      },
      {
       "output_type": "stream",
       "stream": "stdout",
       "text": [
        "\n",
        "93700"
       ]
      },
      {
       "output_type": "stream",
       "stream": "stdout",
       "text": [
        "\n",
        "93800"
       ]
      },
      {
       "output_type": "stream",
       "stream": "stdout",
       "text": [
        "\n",
        "93900"
       ]
      },
      {
       "output_type": "stream",
       "stream": "stdout",
       "text": [
        "\n",
        "94000"
       ]
      },
      {
       "output_type": "stream",
       "stream": "stdout",
       "text": [
        "\n",
        "94100"
       ]
      },
      {
       "output_type": "stream",
       "stream": "stdout",
       "text": [
        "\n",
        "94200"
       ]
      },
      {
       "output_type": "stream",
       "stream": "stdout",
       "text": [
        "\n",
        "94300"
       ]
      },
      {
       "output_type": "stream",
       "stream": "stdout",
       "text": [
        "\n",
        "94400"
       ]
      },
      {
       "output_type": "stream",
       "stream": "stdout",
       "text": [
        "\n",
        "94500"
       ]
      },
      {
       "output_type": "stream",
       "stream": "stdout",
       "text": [
        "\n",
        "94600"
       ]
      },
      {
       "output_type": "stream",
       "stream": "stdout",
       "text": [
        "\n",
        "94700"
       ]
      },
      {
       "output_type": "stream",
       "stream": "stdout",
       "text": [
        "\n",
        "94800"
       ]
      },
      {
       "output_type": "stream",
       "stream": "stdout",
       "text": [
        "\n",
        "94900"
       ]
      },
      {
       "output_type": "stream",
       "stream": "stdout",
       "text": [
        "\n",
        "95000"
       ]
      },
      {
       "output_type": "stream",
       "stream": "stdout",
       "text": [
        "\n",
        "95100"
       ]
      },
      {
       "output_type": "stream",
       "stream": "stdout",
       "text": [
        "\n",
        "95200"
       ]
      },
      {
       "output_type": "stream",
       "stream": "stdout",
       "text": [
        "\n",
        "95300"
       ]
      },
      {
       "output_type": "stream",
       "stream": "stdout",
       "text": [
        "\n",
        "95400"
       ]
      },
      {
       "output_type": "stream",
       "stream": "stdout",
       "text": [
        "\n",
        "95500"
       ]
      },
      {
       "output_type": "stream",
       "stream": "stdout",
       "text": [
        "\n",
        "95600"
       ]
      },
      {
       "output_type": "stream",
       "stream": "stdout",
       "text": [
        "\n",
        "95700"
       ]
      },
      {
       "output_type": "stream",
       "stream": "stdout",
       "text": [
        "\n",
        "95800"
       ]
      },
      {
       "output_type": "stream",
       "stream": "stdout",
       "text": [
        "\n",
        "95900"
       ]
      },
      {
       "output_type": "stream",
       "stream": "stdout",
       "text": [
        "\n",
        "96000"
       ]
      },
      {
       "output_type": "stream",
       "stream": "stdout",
       "text": [
        "\n",
        "96100"
       ]
      },
      {
       "output_type": "stream",
       "stream": "stdout",
       "text": [
        "\n",
        "96200"
       ]
      },
      {
       "output_type": "stream",
       "stream": "stdout",
       "text": [
        "\n",
        "96300"
       ]
      },
      {
       "output_type": "stream",
       "stream": "stdout",
       "text": [
        "\n",
        "96400"
       ]
      },
      {
       "output_type": "stream",
       "stream": "stdout",
       "text": [
        "\n",
        "96500"
       ]
      },
      {
       "output_type": "stream",
       "stream": "stdout",
       "text": [
        "\n",
        "96600"
       ]
      },
      {
       "output_type": "stream",
       "stream": "stdout",
       "text": [
        "\n",
        "96700"
       ]
      },
      {
       "output_type": "stream",
       "stream": "stdout",
       "text": [
        "\n",
        "96800"
       ]
      },
      {
       "output_type": "stream",
       "stream": "stdout",
       "text": [
        "\n",
        "96900"
       ]
      },
      {
       "output_type": "stream",
       "stream": "stdout",
       "text": [
        "\n",
        "97000"
       ]
      },
      {
       "output_type": "stream",
       "stream": "stdout",
       "text": [
        "\n",
        "97100"
       ]
      },
      {
       "output_type": "stream",
       "stream": "stdout",
       "text": [
        "\n",
        "97200"
       ]
      },
      {
       "output_type": "stream",
       "stream": "stdout",
       "text": [
        "\n",
        "97300"
       ]
      },
      {
       "output_type": "stream",
       "stream": "stdout",
       "text": [
        "\n",
        "97400"
       ]
      },
      {
       "output_type": "stream",
       "stream": "stdout",
       "text": [
        "\n",
        "97500"
       ]
      },
      {
       "output_type": "stream",
       "stream": "stdout",
       "text": [
        "\n",
        "97600"
       ]
      },
      {
       "output_type": "stream",
       "stream": "stdout",
       "text": [
        "\n",
        "97700"
       ]
      },
      {
       "output_type": "stream",
       "stream": "stdout",
       "text": [
        "\n",
        "97800"
       ]
      },
      {
       "output_type": "stream",
       "stream": "stdout",
       "text": [
        "\n",
        "97900"
       ]
      },
      {
       "output_type": "stream",
       "stream": "stdout",
       "text": [
        "\n",
        "98000"
       ]
      },
      {
       "output_type": "stream",
       "stream": "stdout",
       "text": [
        "\n",
        "98100"
       ]
      },
      {
       "output_type": "stream",
       "stream": "stdout",
       "text": [
        "\n",
        "98200"
       ]
      },
      {
       "output_type": "stream",
       "stream": "stdout",
       "text": [
        "\n",
        "98300"
       ]
      },
      {
       "output_type": "stream",
       "stream": "stdout",
       "text": [
        "\n",
        "98400"
       ]
      },
      {
       "output_type": "stream",
       "stream": "stdout",
       "text": [
        "\n",
        "98500"
       ]
      },
      {
       "output_type": "stream",
       "stream": "stdout",
       "text": [
        "\n",
        "98600"
       ]
      },
      {
       "output_type": "stream",
       "stream": "stdout",
       "text": [
        "\n",
        "98700"
       ]
      },
      {
       "output_type": "stream",
       "stream": "stdout",
       "text": [
        "\n",
        "98800"
       ]
      },
      {
       "output_type": "stream",
       "stream": "stdout",
       "text": [
        "\n",
        "98900"
       ]
      },
      {
       "output_type": "stream",
       "stream": "stdout",
       "text": [
        "\n"
       ]
      }
     ],
     "prompt_number": 112
    },
    {
     "cell_type": "code",
     "collapsed": false,
     "input": [
      "loanData['implied_risk'][:10]"
     ],
     "language": "python",
     "metadata": {},
     "outputs": [
      {
       "metadata": {},
       "output_type": "pyout",
       "prompt_number": 111,
       "text": [
        "0    14.22\n",
        "1    14.91\n",
        "2    20.23\n",
        "3    11.64\n",
        "4    13.60\n",
        "5    11.64\n",
        "6    12.44\n",
        "7     9.60\n",
        "8     4.98\n",
        "9     4.98\n",
        "Name: implied_risk, dtype: float64"
       ]
      }
     ],
     "prompt_number": 111
    },
    {
     "cell_type": "code",
     "collapsed": false,
     "input": [
      "loanData.index = range(len(loanData))"
     ],
     "language": "python",
     "metadata": {},
     "outputs": [],
     "prompt_number": 98
    },
    {
     "cell_type": "code",
     "collapsed": false,
     "input": [],
     "language": "python",
     "metadata": {},
     "outputs": []
    },
    {
     "cell_type": "code",
     "collapsed": false,
     "input": [],
     "language": "python",
     "metadata": {},
     "outputs": []
    },
    {
     "cell_type": "code",
     "collapsed": false,
     "input": [],
     "language": "python",
     "metadata": {},
     "outputs": []
    },
    {
     "cell_type": "code",
     "collapsed": false,
     "input": [],
     "language": "python",
     "metadata": {},
     "outputs": []
    },
    {
     "cell_type": "heading",
     "level": 3,
     "metadata": {},
     "source": [
      "Classify if a loan will default"
     ]
    },
    {
     "cell_type": "code",
     "collapsed": false,
     "input": [],
     "language": "python",
     "metadata": {},
     "outputs": []
    },
    {
     "cell_type": "code",
     "collapsed": false,
     "input": [
      "features = loanData.drop(['loan_status'], 1).values\n",
      "targets = loanData['loan_status'].values"
     ],
     "language": "python",
     "metadata": {},
     "outputs": [],
     "prompt_number": 157
    },
    {
     "cell_type": "code",
     "collapsed": false,
     "input": [
      "X_train, X_test, y_train, y_test = train_test_split(features, \n",
      "\t\t\t\t\t\t\t\t\t\t\t\t\t\t\ttargets, \n",
      "\t\t\t\t\t\t\t\t\t\t\t\t\t\t\ttest_size=0.1)"
     ],
     "language": "python",
     "metadata": {},
     "outputs": [],
     "prompt_number": 158
    },
    {
     "cell_type": "code",
     "collapsed": false,
     "input": [
      "X_train = X_train.astype(float)\n",
      "y_train = y_train.astype(float)\n",
      "X_test = X_test.astype(float)\n",
      "y_test = y_test.astype(float)"
     ],
     "language": "python",
     "metadata": {},
     "outputs": [],
     "prompt_number": 159
    },
    {
     "cell_type": "code",
     "collapsed": false,
     "input": [
      "pca = PCA(n_components=30)\n",
      "X_train = pca.fit_transform(X_train)\n",
      "print \"Reduced data down to \", pca.n_components_, \" dimensions: \"\n",
      "print \"Transforming test data ...\"\n",
      "X_test = pca.transform(X_test)"
     ],
     "language": "python",
     "metadata": {},
     "outputs": [
      {
       "output_type": "stream",
       "stream": "stdout",
       "text": [
        "Reduced data down to  20  dimensions: \n",
        "Transforming test data ...\n"
       ]
      }
     ],
     "prompt_number": 80
    },
    {
     "cell_type": "code",
     "collapsed": false,
     "input": [
      "X_train.shape"
     ],
     "language": "python",
     "metadata": {},
     "outputs": [
      {
       "metadata": {},
       "output_type": "pyout",
       "prompt_number": 160,
       "text": [
        "(88387, 110)"
       ]
      }
     ],
     "prompt_number": 160
    },
    {
     "cell_type": "code",
     "collapsed": false,
     "input": [
      "#balance the loan categories\n",
      "loans_per_default_period = [np.sum(y_train == 0), \n",
      "                           np.sum(y_train == 1), \n",
      "                           np.sum(y_train == 2), \n",
      "                           np.sum(y_train == 3)]\n",
      "total_loans = len(y_train)\n",
      "max_num = max(loans_per_default_period)\n",
      "print \"the largest category has %s loans\" %max_num\n",
      "for index, q in enumerate(loans_per_default_period):\n",
      "    print \"balancing loans in category %s\" %index\n",
      "    print \"there are currently %s loans\" %q\n",
      "    num_loans_to_add = max_num - q\n",
      "    print \"we are going to add %s loans\" %num_loans_to_add\n",
      "    X_train_to_add = []\n",
      "    y_train_to_add = []\n",
      "    loan_category_indices = []\n",
      "    for cat_index, j in enumerate(y_train):\n",
      "        if j == index:\n",
      "            loan_category_indices.append(cat_index)\n",
      "    loans_in_category = X_train[loan_category_indices]\n",
      "    targets_in_category = y_train[loan_category_indices]\n",
      "    print \"About to add %s loans\" %num_loans_to_add\n",
      "    for i in range(num_loans_to_add):\n",
      "        r = np.random.randint(q-1)\n",
      "        X_train_to_add.append(loans_in_category[r])\n",
      "        y_train_to_add.append(targets_in_category[r])\n",
      "    if len(y_train_to_add) > 0:\n",
      "        X_train_to_add = np.array(X_train_to_add)\n",
      "        y_train_to_add = np.array(y_train_to_add)\n",
      "        print \"appending %s loans\" %len(y_train_to_add)\n",
      "        print \"length of y_train before: %s\" %len(y_train)\n",
      "        X_train = np.concatenate((X_train, X_train_to_add))\n",
      "        y_train = np.concatenate((y_train, y_train_to_add))\n",
      "        print \"length of y_train after: %s\" %len(y_train)\n",
      "    \n"
     ],
     "language": "python",
     "metadata": {},
     "outputs": [
      {
       "output_type": "stream",
       "stream": "stdout",
       "text": [
        "the largest category has 72665 loans\n",
        "balancing loans in category 0\n",
        "there are currently 16648 loans\n",
        "we are going to add 56017 loans\n",
        "About to add 56017 loans"
       ]
      },
      {
       "output_type": "stream",
       "stream": "stdout",
       "text": [
        "\n",
        "appending 56017 loans"
       ]
      },
      {
       "output_type": "stream",
       "stream": "stdout",
       "text": [
        "\n",
        "length of y_train before: 89313\n",
        "length of y_train after: 145330"
       ]
      },
      {
       "output_type": "stream",
       "stream": "stdout",
       "text": [
        "\n",
        "balancing loans in category 1\n",
        "there are currently 72665 loans\n",
        "we are going to add 0 loans\n",
        "About to add 0 loans"
       ]
      },
      {
       "output_type": "stream",
       "stream": "stdout",
       "text": [
        "\n",
        "balancing loans in category 2\n",
        "there are currently 0 loans\n",
        "we are going to add 72665 loans\n",
        "About to add 72665 loans"
       ]
      },
      {
       "output_type": "stream",
       "stream": "stdout",
       "text": [
        "\n"
       ]
      },
      {
       "ename": "ValueError",
       "evalue": "low >= high",
       "output_type": "pyerr",
       "traceback": [
        "\u001b[0;31m---------------------------------------------------------------------------\u001b[0m\n\u001b[0;31mValueError\u001b[0m                                Traceback (most recent call last)",
        "\u001b[0;32m<ipython-input-66-d5e223952af4>\u001b[0m in \u001b[0;36m<module>\u001b[0;34m()\u001b[0m\n\u001b[1;32m     22\u001b[0m     \u001b[0;32mprint\u001b[0m \u001b[0;34m\"About to add %s loans\"\u001b[0m \u001b[0;34m%\u001b[0m\u001b[0mnum_loans_to_add\u001b[0m\u001b[0;34m\u001b[0m\u001b[0m\n\u001b[1;32m     23\u001b[0m     \u001b[0;32mfor\u001b[0m \u001b[0mi\u001b[0m \u001b[0;32min\u001b[0m \u001b[0mrange\u001b[0m\u001b[0;34m(\u001b[0m\u001b[0mnum_loans_to_add\u001b[0m\u001b[0;34m)\u001b[0m\u001b[0;34m:\u001b[0m\u001b[0;34m\u001b[0m\u001b[0m\n\u001b[0;32m---> 24\u001b[0;31m         \u001b[0mr\u001b[0m \u001b[0;34m=\u001b[0m \u001b[0mnp\u001b[0m\u001b[0;34m.\u001b[0m\u001b[0mrandom\u001b[0m\u001b[0;34m.\u001b[0m\u001b[0mrandint\u001b[0m\u001b[0;34m(\u001b[0m\u001b[0mq\u001b[0m\u001b[0;34m-\u001b[0m\u001b[0;36m1\u001b[0m\u001b[0;34m)\u001b[0m\u001b[0;34m\u001b[0m\u001b[0m\n\u001b[0m\u001b[1;32m     25\u001b[0m         \u001b[0mX_train_to_add\u001b[0m\u001b[0;34m.\u001b[0m\u001b[0mappend\u001b[0m\u001b[0;34m(\u001b[0m\u001b[0mloans_in_category\u001b[0m\u001b[0;34m[\u001b[0m\u001b[0mr\u001b[0m\u001b[0;34m]\u001b[0m\u001b[0;34m)\u001b[0m\u001b[0;34m\u001b[0m\u001b[0m\n\u001b[1;32m     26\u001b[0m         \u001b[0my_train_to_add\u001b[0m\u001b[0;34m.\u001b[0m\u001b[0mappend\u001b[0m\u001b[0;34m(\u001b[0m\u001b[0mtargets_in_category\u001b[0m\u001b[0;34m[\u001b[0m\u001b[0mr\u001b[0m\u001b[0;34m]\u001b[0m\u001b[0;34m)\u001b[0m\u001b[0;34m\u001b[0m\u001b[0m\n",
        "\u001b[0;32m/System/Library/Frameworks/Python.framework/Versions/2.7/Extras/lib/python/numpy/random/mtrand.so\u001b[0m in \u001b[0;36mmtrand.RandomState.randint (numpy/random/mtrand/mtrand.c:6117)\u001b[0;34m()\u001b[0m\n",
        "\u001b[0;31mValueError\u001b[0m: low >= high"
       ]
      }
     ],
     "prompt_number": 66
    },
    {
     "cell_type": "code",
     "collapsed": false,
     "input": [
      "clf = SVC(C=1, gamma=0.1)"
     ],
     "language": "python",
     "metadata": {},
     "outputs": [],
     "prompt_number": 198
    },
    {
     "cell_type": "code",
     "collapsed": false,
     "input": [
      "clf.fit(X_train, y_train)"
     ],
     "language": "python",
     "metadata": {},
     "outputs": []
    },
    {
     "cell_type": "code",
     "collapsed": false,
     "input": [
      "score = clf.score(X_test, y_test)\n",
      "print score"
     ],
     "language": "python",
     "metadata": {},
     "outputs": []
    },
    {
     "cell_type": "code",
     "collapsed": false,
     "input": [
      "prediction = clf.predict(X_test)"
     ],
     "language": "python",
     "metadata": {},
     "outputs": []
    },
    {
     "cell_type": "code",
     "collapsed": false,
     "input": [
      "predict_prob = clf.predict_proba(X_test)"
     ],
     "language": "python",
     "metadata": {},
     "outputs": []
    },
    {
     "cell_type": "code",
     "collapsed": false,
     "input": [
      "print np.sum(prediction == 0)\n",
      "print np.sum(prediction == 1)"
     ],
     "language": "python",
     "metadata": {},
     "outputs": []
    },
    {
     "cell_type": "code",
     "collapsed": false,
     "input": [
      "print np.sum(y_test == 0)\n",
      "print np.sum(y_test == 1)"
     ],
     "language": "python",
     "metadata": {},
     "outputs": []
    },
    {
     "cell_type": "code",
     "collapsed": false,
     "input": [
      "cm = confusion_matrix(y_test, prediction)\n",
      "plt.matshow(cm)\n",
      "plt.title('Confusion matrix')\n",
      "plt.colorbar()\n",
      "plt.ylabel('True label')\n",
      "plt.xlabel('Predicted label')\n",
      "plt.show()"
     ],
     "language": "python",
     "metadata": {},
     "outputs": []
    },
    {
     "cell_type": "code",
     "collapsed": false,
     "input": [
      "print classification_report(y_test, prediction)"
     ],
     "language": "python",
     "metadata": {},
     "outputs": []
    },
    {
     "cell_type": "code",
     "collapsed": false,
     "input": [
      "clf.feature_importances_"
     ],
     "language": "python",
     "metadata": {},
     "outputs": [
      {
       "metadata": {},
       "output_type": "pyout",
       "prompt_number": 130,
       "text": [
        "array([  3.63591762e-02,   1.10863074e-02,   5.08078766e-02,\n",
        "         4.23003542e-02,   2.75381271e-02,   4.81191393e-02,\n",
        "         1.11548200e-02,   4.13505994e-02,   4.84716925e-02,\n",
        "         7.28698820e-03,   1.88401723e-02,   2.20415437e-02,\n",
        "         7.70915678e-03,   3.13628318e-02,   3.87679947e-03,\n",
        "         4.42551239e-02,   4.72268583e-02,   3.77463201e-02,\n",
        "         4.88117322e-04,   8.23392925e-03,   6.66981371e-03,\n",
        "         4.00131149e-03,   4.11344257e-03,   4.82963280e-03,\n",
        "         3.57028473e-03,   3.28561032e-03,   1.09477704e-03,\n",
        "         0.00000000e+00,   6.11324044e-03,   4.81255443e-05,\n",
        "         3.57032128e-03,   6.28470800e-03,   7.40591530e-02,\n",
        "         2.87576571e-02,   2.83551331e-02,   1.29918293e-03,\n",
        "         5.04349548e-03,   6.59756868e-03,   5.15450402e-04,\n",
        "         3.04372098e-03,   1.06681954e-03,   1.92581706e-03,\n",
        "         1.42332841e-03,   1.21155686e-03,   3.53780850e-04,\n",
        "         4.82538618e-03,   8.76714678e-04,   1.18779327e-03,\n",
        "         3.50291467e-04,   1.40466812e-03,   8.20085223e-04,\n",
        "         2.16122597e-03,   5.32672966e-03,   1.60896409e-03,\n",
        "         1.41508711e-03,   4.28864654e-04,   4.41509377e-04,\n",
        "         4.49765084e-03,   2.53514953e-03,   7.80564878e-04,\n",
        "         1.56622824e-05,   2.68909089e-03,   4.28387491e-06,\n",
        "         8.72320639e-04,   9.19651430e-04,   1.27137895e-03,\n",
        "         1.28902137e-03,   1.81631388e-03,   2.11932836e-03,\n",
        "         1.22672516e-06,   2.19746889e-03,   1.65718707e-03,\n",
        "         1.83013924e-03,   3.21630104e-05,   4.16072084e-04,\n",
        "         2.44912828e-03,   4.64612851e-05,   5.22913406e-04,\n",
        "         3.04551903e-03,   8.64992017e-04,   2.04644390e-03,\n",
        "         4.22149656e-03,   2.32899699e-03,   1.19782556e-03,\n",
        "         1.25473559e-03,   2.49431712e-03,   7.53403437e-04,\n",
        "         1.21537049e-03,   2.98685507e-04,   9.66986207e-04,\n",
        "         3.61904825e-03,   8.97304586e-04,   2.26130854e-03,\n",
        "         2.88593005e-04,   1.73017924e-03,   1.34763696e-03,\n",
        "         4.61798995e-04,   2.18605945e-04,   3.48455701e-02,\n",
        "         3.02079663e-02,   3.26806476e-02,   2.60869893e-04,\n",
        "         2.52167482e-04,   2.28676654e-04,   1.67091660e-03,\n",
        "         1.52047097e-03,   1.75449377e-02,   2.49242544e-04,\n",
        "         3.74232114e-03,   5.29826023e-02])"
       ]
      }
     ],
     "prompt_number": 130
    },
    {
     "cell_type": "heading",
     "level": 3,
     "metadata": {},
     "source": [
      "Regression - Predict days to default"
     ]
    },
    {
     "cell_type": "code",
     "collapsed": false,
     "input": [
      "df = loanData[loanData['term'] == 1]\n",
      "df = df[df['days_active'] < 2000]  #throw out data points with illegal dates\n",
      "df.index = range(len(df))\n",
      "df['days_to_default'] = 1095  #doesn't default at all - 1095 days == 36 months"
     ],
     "language": "python",
     "metadata": {},
     "outputs": [],
     "prompt_number": 10
    },
    {
     "cell_type": "code",
     "collapsed": false,
     "input": [
      "len(df)"
     ],
     "language": "python",
     "metadata": {},
     "outputs": [
      {
       "metadata": {},
       "output_type": "pyout",
       "prompt_number": 11,
       "text": [
        "19491"
       ]
      }
     ],
     "prompt_number": 11
    },
    {
     "cell_type": "code",
     "collapsed": false,
     "input": [
      "for i, val in enumerate(df['days_active']):\n",
      "    if df['loan_status'][i] == 0:\n",
      "        df['days_to_default'].iloc[i] = df['days_active'].iloc[i]"
     ],
     "language": "python",
     "metadata": {},
     "outputs": [],
     "prompt_number": 12
    },
    {
     "cell_type": "code",
     "collapsed": false,
     "input": [
      "features = df.drop(['loan_status', 'days_to_default'], 1).values\n",
      "targets = df['days_to_default'].values"
     ],
     "language": "python",
     "metadata": {},
     "outputs": [],
     "prompt_number": 13
    },
    {
     "cell_type": "code",
     "collapsed": false,
     "input": [
      "X_train, X_test, y_train, y_test = train_test_split(features, \n",
      "\t\t\t\t\t\t\t\t\t\t\t\t\t\t\ttargets, \n",
      "\t\t\t\t\t\t\t\t\t\t\t\t\t\t\ttest_size=0.1)"
     ],
     "language": "python",
     "metadata": {},
     "outputs": [],
     "prompt_number": 14
    },
    {
     "cell_type": "code",
     "collapsed": false,
     "input": [
      "scalerX = StandardScaler().fit(X_train)"
     ],
     "language": "python",
     "metadata": {},
     "outputs": [],
     "prompt_number": 15
    },
    {
     "cell_type": "code",
     "collapsed": false,
     "input": [
      "X_train, X_test = scalerX.transform(X_train), scalerX.transform(X_test)"
     ],
     "language": "python",
     "metadata": {},
     "outputs": [],
     "prompt_number": 16
    },
    {
     "cell_type": "code",
     "collapsed": false,
     "input": [
      "max(y_test)"
     ],
     "language": "python",
     "metadata": {},
     "outputs": [
      {
       "metadata": {},
       "output_type": "pyout",
       "prompt_number": 17,
       "text": [
        "1461"
       ]
      }
     ],
     "prompt_number": 17
    },
    {
     "cell_type": "code",
     "collapsed": false,
     "input": [
      "clf = LinearRegression()"
     ],
     "language": "python",
     "metadata": {},
     "outputs": [],
     "prompt_number": 18
    },
    {
     "cell_type": "code",
     "collapsed": false,
     "input": [
      "clf.fit(X_train, y_train)"
     ],
     "language": "python",
     "metadata": {},
     "outputs": [
      {
       "metadata": {},
       "output_type": "pyout",
       "prompt_number": 19,
       "text": [
        "LinearRegression(copy_X=True, fit_intercept=True, normalize=False)"
       ]
      }
     ],
     "prompt_number": 19
    },
    {
     "cell_type": "code",
     "collapsed": false,
     "input": [
      "clf.score(X_test, y_test)"
     ],
     "language": "python",
     "metadata": {},
     "outputs": [
      {
       "metadata": {},
       "output_type": "pyout",
       "prompt_number": 20,
       "text": [
        "0.14688121037882163"
       ]
      }
     ],
     "prompt_number": 20
    },
    {
     "cell_type": "code",
     "collapsed": false,
     "input": [
      "prediction = clf.predict(X_test)"
     ],
     "language": "python",
     "metadata": {},
     "outputs": [],
     "prompt_number": 21
    },
    {
     "cell_type": "code",
     "collapsed": false,
     "input": [
      "for i in range(20):\n",
      "    print y_test[i], prediction[i]"
     ],
     "language": "python",
     "metadata": {},
     "outputs": [
      {
       "output_type": "stream",
       "stream": "stdout",
       "text": [
        "425 832.985831042\n",
        "1095 1062.36083104\n",
        "1095 753.860831042\n",
        "1095 977.485831042\n",
        "1095 943.860831042\n",
        "1095 936.610831042\n",
        "1095 927.860831042\n",
        "183 684.860831042\n",
        "1095 558.767081042\n",
        "1095 769.610831042\n",
        "1095 1025.73583104\n",
        "1095 1063.98583104\n",
        "1095 969.173331042\n",
        "1095 1019.61083104\n",
        "92 832.501456042\n",
        "1095 757.610831042\n",
        "1095 989.485831042\n",
        "1095 750.360831042\n",
        "610 971.610831042\n",
        "212 782.204581042\n"
       ]
      }
     ],
     "prompt_number": 22
    },
    {
     "cell_type": "code",
     "collapsed": false,
     "input": [
      "plt.scatter(prediction, y_test)\n",
      "plt.xlabel('prediction')\n",
      "plt.ylabel('y_test')\n",
      "plt.show()"
     ],
     "language": "python",
     "metadata": {},
     "outputs": [
      {
       "metadata": {},
       "output_type": "display_data",
       "png": "[encoded data removed]",
       "text": [
        "<matplotlib.figure.Figure at 0x111005b90>"
       ]
      }
     ],
     "prompt_number": 23
    },
    {
     "cell_type": "code",
     "collapsed": false,
     "input": [
      "clf = SVR(C=1, gamma=0.01, degree=5, kernel='rbf')"
     ],
     "language": "python",
     "metadata": {},
     "outputs": [],
     "prompt_number": 161
    },
    {
     "cell_type": "code",
     "collapsed": false,
     "input": [
      "clf.fit(X_train, y_train)"
     ],
     "language": "python",
     "metadata": {},
     "outputs": [
      {
       "metadata": {},
       "output_type": "pyout",
       "prompt_number": 162,
       "text": [
        "SVR(C=1, cache_size=200, coef0=0.0, degree=5, epsilon=0.1, gamma=0.01,\n",
        "  kernel='rbf', max_iter=-1, probability=False, random_state=None,\n",
        "  shrinking=True, tol=0.001, verbose=False)"
       ]
      }
     ],
     "prompt_number": 162
    },
    {
     "cell_type": "code",
     "collapsed": false,
     "input": [
      "prediction = clf.predict(X_test)"
     ],
     "language": "python",
     "metadata": {},
     "outputs": [],
     "prompt_number": 163
    },
    {
     "cell_type": "code",
     "collapsed": false,
     "input": [
      "clf.score(X_test, y_test)"
     ],
     "language": "python",
     "metadata": {},
     "outputs": [
      {
       "metadata": {},
       "output_type": "pyout",
       "prompt_number": 164,
       "text": [
        "-0.0075787310728314683"
       ]
      }
     ],
     "prompt_number": 164
    },
    {
     "cell_type": "code",
     "collapsed": false,
     "input": [
      "plt.scatter(prediction, y_test)\n",
      "plt.plot([-1,0.5], [-1,0.5])\n",
      "plt.plot([-1,0.5], [0,0], '--', color='black')\n",
      "plt.plot([0,0], [-1,0.5], '--', color='black')\n",
      "plt.xlabel('Predicted ROI')\n",
      "plt.ylabel('Actual ROI')\n",
      "plt.title('Predicted vs Actual ROI')\n",
      "plt.show()"
     ],
     "language": "python",
     "metadata": {},
     "outputs": [
      {
       "metadata": {},
       "output_type": "display_data",
       "png": "[encoded data removed]",
       "text": [
        "<matplotlib.figure.Figure at 0x114ec0c90>"
       ]
      }
     ],
     "prompt_number": 165
    },
    {
     "cell_type": "code",
     "collapsed": false,
     "input": [
      "clf = RandomForestRegressor(n_estimators=100)"
     ],
     "language": "python",
     "metadata": {},
     "outputs": [],
     "prompt_number": 303
    },
    {
     "cell_type": "code",
     "collapsed": false,
     "input": [
      "clf.fit(X_train, y_train)"
     ],
     "language": "python",
     "metadata": {},
     "outputs": [
      {
       "metadata": {},
       "output_type": "pyout",
       "prompt_number": 304,
       "text": [
        "RandomForestRegressor(bootstrap=True, compute_importances=None,\n",
        "           criterion='mse', max_depth=None, max_features='auto',\n",
        "           max_leaf_nodes=None, min_density=None, min_samples_leaf=1,\n",
        "           min_samples_split=2, n_estimators=100, n_jobs=1,\n",
        "           oob_score=False, random_state=None, verbose=0)"
       ]
      }
     ],
     "prompt_number": 304
    },
    {
     "cell_type": "code",
     "collapsed": false,
     "input": [
      "prediction = clf.predict(X_test)"
     ],
     "language": "python",
     "metadata": {},
     "outputs": [],
     "prompt_number": 305
    },
    {
     "cell_type": "code",
     "collapsed": false,
     "input": [
      "clf.score(X_test, y_test)"
     ],
     "language": "python",
     "metadata": {},
     "outputs": [
      {
       "metadata": {},
       "output_type": "pyout",
       "prompt_number": 306,
       "text": [
        "0.38084135072713532"
       ]
      }
     ],
     "prompt_number": 306
    },
    {
     "cell_type": "code",
     "collapsed": false,
     "input": [
      "plt.scatter(prediction, y_test)\n",
      "plt.plot([-1,0.5], [-1,0.5])\n",
      "plt.plot([-1,0.5], [0,0], '--', color='black')\n",
      "plt.plot([0,0], [-1,0.5], '--', color='black')\n",
      "plt.xlabel('Predicted ROI')\n",
      "plt.ylabel('Actual ROI')\n",
      "plt.title('Predicted vs Actual ROI')\n",
      "#plt.savefig('random_forest_A.pdf')\n",
      "plt.show()"
     ],
     "language": "python",
     "metadata": {},
     "outputs": [
      {
       "metadata": {},
       "output_type": "display_data",
       "png": "[encoded data removed]",
       "text": [
        "<matplotlib.figure.Figure at 0x15692b850>"
       ]
      }
     ],
     "prompt_number": 307
    },
    {
     "cell_type": "code",
     "collapsed": false,
     "input": [
      "len(X_test)"
     ],
     "language": "python",
     "metadata": {},
     "outputs": [
      {
       "metadata": {},
       "output_type": "pyout",
       "prompt_number": 112,
       "text": [
        "3267"
       ]
      }
     ],
     "prompt_number": 112
    },
    {
     "cell_type": "code",
     "collapsed": false,
     "input": [
      "len(X_train)"
     ],
     "language": "python",
     "metadata": {},
     "outputs": [
      {
       "metadata": {},
       "output_type": "pyout",
       "prompt_number": 113,
       "text": [
        "29398"
       ]
      }
     ],
     "prompt_number": 113
    },
    {
     "cell_type": "code",
     "collapsed": false,
     "input": [
      "A_loans.drop(['loan_status', 'total_pymnt', 'roi'], 1)[:1]"
     ],
     "language": "python",
     "metadata": {},
     "outputs": [
      {
       "html": [
        "<div style=\"max-height:1000px;max-width:1500px;overflow:auto;\">\n",
        "<table border=\"1\" class=\"dataframe\">\n",
        "  <thead>\n",
        "    <tr style=\"text-align: right;\">\n",
        "      <th></th>\n",
        "      <th>loan_amnt</th>\n",
        "      <th>funded_amnt</th>\n",
        "      <th>funded_amnt_inv</th>\n",
        "      <th>term</th>\n",
        "      <th>int_rate</th>\n",
        "      <th>installment</th>\n",
        "      <th>sub_grade</th>\n",
        "      <th>emp_length</th>\n",
        "      <th>annual_inc</th>\n",
        "      <th>is_inc_v</th>\n",
        "      <th>zip_code</th>\n",
        "      <th>dti</th>\n",
        "      <th>delinq_2yrs</th>\n",
        "      <th>inq_last_6mths</th>\n",
        "      <th>mths_since_last_delinq</th>\n",
        "      <th>mths_since_last_record</th>\n",
        "      <th>open_acc</th>\n",
        "      <th>pub_rec</th>\n",
        "      <th>revol_bal</th>\n",
        "      <th>revol_util</th>\n",
        "      <th>total_acc</th>\n",
        "      <th>collections_12_mths_ex_med</th>\n",
        "      <th>mths_since_last_major_derog</th>\n",
        "      <th>ANY</th>\n",
        "      <th>MORTGAGE</th>\n",
        "      <th>NONE</th>\n",
        "      <th>OTHER</th>\n",
        "      <th>OWN</th>\n",
        "      <th>RENT</th>\n",
        "      <th>issue_month</th>\n",
        "      <th>issue_year</th>\n",
        "      <th>car</th>\n",
        "      <th>credit_card</th>\n",
        "      <th>debt_consolidation</th>\n",
        "      <th>educational</th>\n",
        "      <th>home_improvement</th>\n",
        "      <th>house</th>\n",
        "      <th>major_purchase</th>\n",
        "      <th>medical</th>\n",
        "      <th>moving</th>\n",
        "      <th>other</th>\n",
        "      <th>renewable_energy</th>\n",
        "      <th>small_business</th>\n",
        "      <th>vacation</th>\n",
        "      <th>wedding</th>\n",
        "      <th>AK</th>\n",
        "      <th>AL</th>\n",
        "      <th>AR</th>\n",
        "      <th>AZ</th>\n",
        "      <th>CA</th>\n",
        "      <th>CO</th>\n",
        "      <th>CT</th>\n",
        "      <th>DC</th>\n",
        "      <th>DE</th>\n",
        "      <th>FL</th>\n",
        "      <th>GA</th>\n",
        "      <th>HI</th>\n",
        "      <th>IA</th>\n",
        "      <th>ID</th>\n",
        "      <th>IL</th>\n",
        "      <th>IN</th>\n",
        "      <th>KS</th>\n",
        "      <th>KY</th>\n",
        "      <th>LA</th>\n",
        "      <th>MA</th>\n",
        "      <th>MD</th>\n",
        "      <th>ME</th>\n",
        "      <th>MI</th>\n",
        "      <th>MN</th>\n",
        "      <th>MO</th>\n",
        "      <th>MS</th>\n",
        "      <th>MT</th>\n",
        "      <th>NC</th>\n",
        "      <th>NE</th>\n",
        "      <th>NH</th>\n",
        "      <th>NJ</th>\n",
        "      <th>NM</th>\n",
        "      <th>NV</th>\n",
        "      <th>NY</th>\n",
        "      <th>OH</th>\n",
        "      <th>OK</th>\n",
        "      <th>OR</th>\n",
        "      <th>PA</th>\n",
        "      <th>RI</th>\n",
        "      <th>SC</th>\n",
        "      <th>SD</th>\n",
        "      <th>TN</th>\n",
        "      <th>TX</th>\n",
        "      <th>UT</th>\n",
        "      <th>VA</th>\n",
        "      <th>VT</th>\n",
        "      <th>WA</th>\n",
        "      <th>WI</th>\n",
        "      <th>WV</th>\n",
        "      <th>WY</th>\n",
        "      <th>yrs_since_first_cr_line</th>\n",
        "      <th>desc_length</th>\n",
        "      <th>title_length</th>\n",
        "    </tr>\n",
        "  </thead>\n",
        "  <tbody>\n",
        "    <tr>\n",
        "      <th>8</th>\n",
        "      <td> 3600</td>\n",
        "      <td> 3600</td>\n",
        "      <td> 3600</td>\n",
        "      <td> 0</td>\n",
        "      <td> 6.03</td>\n",
        "      <td> 109.57</td>\n",
        "      <td> 1</td>\n",
        "      <td> 0</td>\n",
        "      <td> 110000</td>\n",
        "      <td> 0</td>\n",
        "      <td> 67</td>\n",
        "      <td> 10.52</td>\n",
        "      <td> 0</td>\n",
        "      <td> 0</td>\n",
        "      <td>-1</td>\n",
        "      <td>-1</td>\n",
        "      <td> 20</td>\n",
        "      <td> 0</td>\n",
        "      <td> 22836</td>\n",
        "      <td> 16</td>\n",
        "      <td> 42</td>\n",
        "      <td> 0</td>\n",
        "      <td>-1</td>\n",
        "      <td> 0</td>\n",
        "      <td> 1</td>\n",
        "      <td> 0</td>\n",
        "      <td> 0</td>\n",
        "      <td> 0</td>\n",
        "      <td> 0</td>\n",
        "      <td> 12</td>\n",
        "      <td> 2011</td>\n",
        "      <td> 0</td>\n",
        "      <td> 0</td>\n",
        "      <td> 0</td>\n",
        "      <td> 0</td>\n",
        "      <td> 0</td>\n",
        "      <td> 0</td>\n",
        "      <td> 1</td>\n",
        "      <td> 0</td>\n",
        "      <td> 0</td>\n",
        "      <td> 0</td>\n",
        "      <td> 0</td>\n",
        "      <td> 0</td>\n",
        "      <td> 0</td>\n",
        "      <td> 0</td>\n",
        "      <td> 0</td>\n",
        "      <td> 0</td>\n",
        "      <td> 0</td>\n",
        "      <td> 0</td>\n",
        "      <td> 0</td>\n",
        "      <td> 0</td>\n",
        "      <td> 1</td>\n",
        "      <td> 0</td>\n",
        "      <td> 0</td>\n",
        "      <td> 0</td>\n",
        "      <td> 0</td>\n",
        "      <td> 0</td>\n",
        "      <td> 0</td>\n",
        "      <td> 0</td>\n",
        "      <td> 0</td>\n",
        "      <td> 0</td>\n",
        "      <td> 0</td>\n",
        "      <td> 0</td>\n",
        "      <td> 0</td>\n",
        "      <td> 0</td>\n",
        "      <td> 0</td>\n",
        "      <td> 0</td>\n",
        "      <td> 0</td>\n",
        "      <td> 0</td>\n",
        "      <td> 0</td>\n",
        "      <td> 0</td>\n",
        "      <td> 0</td>\n",
        "      <td> 0</td>\n",
        "      <td> 0</td>\n",
        "      <td> 0</td>\n",
        "      <td> 0</td>\n",
        "      <td> 0</td>\n",
        "      <td> 0</td>\n",
        "      <td> 0</td>\n",
        "      <td> 0</td>\n",
        "      <td> 0</td>\n",
        "      <td> 0</td>\n",
        "      <td> 0</td>\n",
        "      <td> 0</td>\n",
        "      <td> 0</td>\n",
        "      <td> 0</td>\n",
        "      <td> 0</td>\n",
        "      <td> 0</td>\n",
        "      <td> 0</td>\n",
        "      <td> 0</td>\n",
        "      <td> 0</td>\n",
        "      <td> 0</td>\n",
        "      <td> 0</td>\n",
        "      <td> 0</td>\n",
        "      <td> 0</td>\n",
        "      <td> 22</td>\n",
        "      <td> 198</td>\n",
        "      <td> 7</td>\n",
        "    </tr>\n",
        "  </tbody>\n",
        "</table>\n",
        "<p>1 rows \u00d7 98 columns</p>\n",
        "</div>"
       ],
       "metadata": {},
       "output_type": "pyout",
       "prompt_number": 126,
       "text": [
        "   loan_amnt  funded_amnt  funded_amnt_inv  term  int_rate  installment  \\\n",
        "8       3600         3600             3600     0      6.03       109.57   \n",
        "\n",
        "   sub_grade  emp_length  annual_inc  is_inc_v  zip_code    dti  delinq_2yrs  \\\n",
        "8          1           0      110000         0        67  10.52            0   \n",
        "\n",
        "   inq_last_6mths  mths_since_last_delinq  mths_since_last_record  open_acc  \\\n",
        "8               0                      -1                      -1        20   \n",
        "\n",
        "   pub_rec  revol_bal  revol_util  total_acc  collections_12_mths_ex_med  \\\n",
        "8        0      22836          16         42                           0   \n",
        "\n",
        "   mths_since_last_major_derog  ANY  MORTGAGE  NONE  OTHER  OWN  RENT  \\\n",
        "8                           -1    0         1     0      0    0     0   \n",
        "\n",
        "   issue_month  issue_year  car  credit_card  debt_consolidation  educational  \\\n",
        "8           12        2011    0            0                   0            0   \n",
        "\n",
        "   home_improvement  house  major_purchase  medical  moving  other  \\\n",
        "8                 0      0               1        0       0      0   \n",
        "\n",
        "   renewable_energy  small_business  vacation  wedding  AK  AL  AR  AZ  CA  \\\n",
        "8                 0               0         0        0   0   0   0   0   0   \n",
        "\n",
        "   CO  CT  DC  DE  FL  GA  HI  IA  ID  IL  IN  KS  KY  LA  MA  MD  ME  MI  MN  \\\n",
        "8   0   1   0   0   0   0   0   0   0   0   0   0   0   0   0   0   0   0   0   \n",
        "\n",
        "   MO  MS  MT  NC  NE  NH  NJ  NM  NV  NY  OH  OK  OR  PA  RI  SC  SD  TN  TX  \\\n",
        "8   0   0   0   0   0   0   0   0   0   0   0   0   0   0   0   0   0   0   0   \n",
        "\n",
        "   UT  VA  VT  WA  WI  WV  WY  yrs_since_first_cr_line  desc_length  \\\n",
        "8   0   0   0   0   0   0   0                       22          198   \n",
        "\n",
        "   title_length  \n",
        "8             7  \n",
        "\n",
        "[1 rows x 98 columns]"
       ]
      }
     ],
     "prompt_number": 126
    },
    {
     "cell_type": "code",
     "collapsed": false,
     "input": [
      "print recall_score(y_test, prediction, average=\"macro\")"
     ],
     "language": "python",
     "metadata": {},
     "outputs": [
      {
       "ename": "ValueError",
       "evalue": "continuous is not supported",
       "output_type": "pyerr",
       "traceback": [
        "\u001b[0;31m---------------------------------------------------------------------------\u001b[0m\n\u001b[0;31mValueError\u001b[0m                                Traceback (most recent call last)",
        "\u001b[0;32m<ipython-input-225-33cd856ee76d>\u001b[0m in \u001b[0;36m<module>\u001b[0;34m()\u001b[0m\n\u001b[0;32m----> 1\u001b[0;31m \u001b[0;32mprint\u001b[0m \u001b[0mrecall_score\u001b[0m\u001b[0;34m(\u001b[0m\u001b[0my_test\u001b[0m\u001b[0;34m,\u001b[0m \u001b[0mprediction\u001b[0m\u001b[0;34m,\u001b[0m \u001b[0maverage\u001b[0m\u001b[0;34m=\u001b[0m\u001b[0;34m\"macro\"\u001b[0m\u001b[0;34m)\u001b[0m\u001b[0;34m\u001b[0m\u001b[0m\n\u001b[0m",
        "\u001b[0;32m/Library/Python/2.7/site-packages/sklearn/metrics/metrics.pyc\u001b[0m in \u001b[0;36mrecall_score\u001b[0;34m(y_true, y_pred, labels, pos_label, average, sample_weight)\u001b[0m\n\u001b[1;32m   1964\u001b[0m                                                  \u001b[0maverage\u001b[0m\u001b[0;34m=\u001b[0m\u001b[0maverage\u001b[0m\u001b[0;34m,\u001b[0m\u001b[0;34m\u001b[0m\u001b[0m\n\u001b[1;32m   1965\u001b[0m                                                  \u001b[0mwarn_for\u001b[0m\u001b[0;34m=\u001b[0m\u001b[0;34m(\u001b[0m\u001b[0;34m'recall'\u001b[0m\u001b[0;34m,\u001b[0m\u001b[0;34m)\u001b[0m\u001b[0;34m,\u001b[0m\u001b[0;34m\u001b[0m\u001b[0m\n\u001b[0;32m-> 1966\u001b[0;31m                                                  sample_weight=sample_weight)\n\u001b[0m\u001b[1;32m   1967\u001b[0m     \u001b[0;32mreturn\u001b[0m \u001b[0mr\u001b[0m\u001b[0;34m\u001b[0m\u001b[0m\n\u001b[1;32m   1968\u001b[0m \u001b[0;34m\u001b[0m\u001b[0m\n",
        "\u001b[0;32m/Library/Python/2.7/site-packages/sklearn/metrics/metrics.pyc\u001b[0m in \u001b[0;36mprecision_recall_fscore_support\u001b[0;34m(y_true, y_pred, beta, labels, pos_label, average, warn_for, sample_weight)\u001b[0m\n\u001b[1;32m   1667\u001b[0m         \u001b[0;32mraise\u001b[0m \u001b[0mValueError\u001b[0m\u001b[0;34m(\u001b[0m\u001b[0;34m\"beta should be >0 in the F-beta score\"\u001b[0m\u001b[0;34m)\u001b[0m\u001b[0;34m\u001b[0m\u001b[0m\n\u001b[1;32m   1668\u001b[0m \u001b[0;34m\u001b[0m\u001b[0m\n\u001b[0;32m-> 1669\u001b[0;31m     \u001b[0my_type\u001b[0m\u001b[0;34m,\u001b[0m \u001b[0my_true\u001b[0m\u001b[0;34m,\u001b[0m \u001b[0my_pred\u001b[0m \u001b[0;34m=\u001b[0m \u001b[0m_check_clf_targets\u001b[0m\u001b[0;34m(\u001b[0m\u001b[0my_true\u001b[0m\u001b[0;34m,\u001b[0m \u001b[0my_pred\u001b[0m\u001b[0;34m)\u001b[0m\u001b[0;34m\u001b[0m\u001b[0m\n\u001b[0m\u001b[1;32m   1670\u001b[0m \u001b[0;34m\u001b[0m\u001b[0m\n\u001b[1;32m   1671\u001b[0m     \u001b[0mlabel_order\u001b[0m \u001b[0;34m=\u001b[0m \u001b[0mlabels\u001b[0m  \u001b[0;31m# save this for later\u001b[0m\u001b[0;34m\u001b[0m\u001b[0m\n",
        "\u001b[0;32m/Library/Python/2.7/site-packages/sklearn/metrics/metrics.pyc\u001b[0m in \u001b[0;36m_check_clf_targets\u001b[0;34m(y_true, y_pred)\u001b[0m\n\u001b[1;32m    125\u001b[0m     if (y_type not in [\"binary\", \"multiclass\", \"multilabel-indicator\",\n\u001b[1;32m    126\u001b[0m                        \"multilabel-sequences\"]):\n\u001b[0;32m--> 127\u001b[0;31m         \u001b[0;32mraise\u001b[0m \u001b[0mValueError\u001b[0m\u001b[0;34m(\u001b[0m\u001b[0;34m\"{0} is not supported\"\u001b[0m\u001b[0;34m.\u001b[0m\u001b[0mformat\u001b[0m\u001b[0;34m(\u001b[0m\u001b[0my_type\u001b[0m\u001b[0;34m)\u001b[0m\u001b[0;34m)\u001b[0m\u001b[0;34m\u001b[0m\u001b[0m\n\u001b[0m\u001b[1;32m    128\u001b[0m \u001b[0;34m\u001b[0m\u001b[0m\n\u001b[1;32m    129\u001b[0m     \u001b[0;32mif\u001b[0m \u001b[0my_type\u001b[0m \u001b[0;32min\u001b[0m \u001b[0;34m[\u001b[0m\u001b[0;34m\"binary\"\u001b[0m\u001b[0;34m,\u001b[0m \u001b[0;34m\"multiclass\"\u001b[0m\u001b[0;34m]\u001b[0m\u001b[0;34m:\u001b[0m\u001b[0;34m\u001b[0m\u001b[0m\n",
        "\u001b[0;31mValueError\u001b[0m: continuous is not supported"
       ]
      }
     ],
     "prompt_number": 225
    },
    {
     "cell_type": "code",
     "collapsed": false,
     "input": [
      "A_loans[:1]"
     ],
     "language": "python",
     "metadata": {},
     "outputs": [
      {
       "html": [
        "<div style=\"max-height:1000px;max-width:1500px;overflow:auto;\">\n",
        "<table border=\"1\" class=\"dataframe\">\n",
        "  <thead>\n",
        "    <tr style=\"text-align: right;\">\n",
        "      <th></th>\n",
        "      <th>loan_amnt</th>\n",
        "      <th>funded_amnt</th>\n",
        "      <th>funded_amnt_inv</th>\n",
        "      <th>term</th>\n",
        "      <th>int_rate</th>\n",
        "      <th>installment</th>\n",
        "      <th>sub_grade</th>\n",
        "      <th>emp_length</th>\n",
        "      <th>annual_inc</th>\n",
        "      <th>is_inc_v</th>\n",
        "      <th>loan_status</th>\n",
        "      <th>zip_code</th>\n",
        "      <th>dti</th>\n",
        "      <th>delinq_2yrs</th>\n",
        "      <th>inq_last_6mths</th>\n",
        "      <th>mths_since_last_delinq</th>\n",
        "      <th>mths_since_last_record</th>\n",
        "      <th>open_acc</th>\n",
        "      <th>pub_rec</th>\n",
        "      <th>revol_bal</th>\n",
        "      <th>revol_util</th>\n",
        "      <th>total_acc</th>\n",
        "      <th>total_pymnt</th>\n",
        "      <th>collections_12_mths_ex_med</th>\n",
        "      <th>mths_since_last_major_derog</th>\n",
        "      <th>ANY</th>\n",
        "      <th>MORTGAGE</th>\n",
        "      <th>NONE</th>\n",
        "      <th>OTHER</th>\n",
        "      <th>OWN</th>\n",
        "      <th>RENT</th>\n",
        "      <th>issue_month</th>\n",
        "      <th>issue_year</th>\n",
        "      <th>car</th>\n",
        "      <th>credit_card</th>\n",
        "      <th>debt_consolidation</th>\n",
        "      <th>educational</th>\n",
        "      <th>home_improvement</th>\n",
        "      <th>house</th>\n",
        "      <th>major_purchase</th>\n",
        "      <th>medical</th>\n",
        "      <th>moving</th>\n",
        "      <th>other</th>\n",
        "      <th>renewable_energy</th>\n",
        "      <th>small_business</th>\n",
        "      <th>vacation</th>\n",
        "      <th>wedding</th>\n",
        "      <th>AK</th>\n",
        "      <th>AL</th>\n",
        "      <th>AR</th>\n",
        "      <th>AZ</th>\n",
        "      <th>CA</th>\n",
        "      <th>CO</th>\n",
        "      <th>CT</th>\n",
        "      <th>DC</th>\n",
        "      <th>DE</th>\n",
        "      <th>FL</th>\n",
        "      <th>GA</th>\n",
        "      <th>HI</th>\n",
        "      <th>IA</th>\n",
        "      <th>ID</th>\n",
        "      <th>IL</th>\n",
        "      <th>IN</th>\n",
        "      <th>KS</th>\n",
        "      <th>KY</th>\n",
        "      <th>LA</th>\n",
        "      <th>MA</th>\n",
        "      <th>MD</th>\n",
        "      <th>ME</th>\n",
        "      <th>MI</th>\n",
        "      <th>MN</th>\n",
        "      <th>MO</th>\n",
        "      <th>MS</th>\n",
        "      <th>MT</th>\n",
        "      <th>NC</th>\n",
        "      <th>NE</th>\n",
        "      <th>NH</th>\n",
        "      <th>NJ</th>\n",
        "      <th>NM</th>\n",
        "      <th>NV</th>\n",
        "      <th>NY</th>\n",
        "      <th>OH</th>\n",
        "      <th>OK</th>\n",
        "      <th>OR</th>\n",
        "      <th>PA</th>\n",
        "      <th>RI</th>\n",
        "      <th>SC</th>\n",
        "      <th>SD</th>\n",
        "      <th>TN</th>\n",
        "      <th>TX</th>\n",
        "      <th>UT</th>\n",
        "      <th>VA</th>\n",
        "      <th>VT</th>\n",
        "      <th>WA</th>\n",
        "      <th>WI</th>\n",
        "      <th>WV</th>\n",
        "      <th>WY</th>\n",
        "      <th>yrs_since_first_cr_line</th>\n",
        "      <th>desc_length</th>\n",
        "      <th>title_length</th>\n",
        "      <th>roi</th>\n",
        "    </tr>\n",
        "  </thead>\n",
        "  <tbody>\n",
        "    <tr>\n",
        "      <th>8</th>\n",
        "      <td> 3600</td>\n",
        "      <td> 3600</td>\n",
        "      <td> 3600</td>\n",
        "      <td> 0</td>\n",
        "      <td> 6.03</td>\n",
        "      <td> 109.57</td>\n",
        "      <td> 1</td>\n",
        "      <td> 0</td>\n",
        "      <td> 110000</td>\n",
        "      <td> 0</td>\n",
        "      <td> 1</td>\n",
        "      <td> 67</td>\n",
        "      <td> 10.52</td>\n",
        "      <td> 0</td>\n",
        "      <td> 0</td>\n",
        "      <td>-1</td>\n",
        "      <td>-1</td>\n",
        "      <td> 20</td>\n",
        "      <td> 0</td>\n",
        "      <td> 22836</td>\n",
        "      <td> 16</td>\n",
        "      <td> 42</td>\n",
        "      <td> 3785.02</td>\n",
        "      <td> 0</td>\n",
        "      <td>-1</td>\n",
        "      <td> 0</td>\n",
        "      <td> 1</td>\n",
        "      <td> 0</td>\n",
        "      <td> 0</td>\n",
        "      <td> 0</td>\n",
        "      <td> 0</td>\n",
        "      <td> 12</td>\n",
        "      <td> 2011</td>\n",
        "      <td> 0</td>\n",
        "      <td> 0</td>\n",
        "      <td> 0</td>\n",
        "      <td> 0</td>\n",
        "      <td> 0</td>\n",
        "      <td> 0</td>\n",
        "      <td> 1</td>\n",
        "      <td> 0</td>\n",
        "      <td> 0</td>\n",
        "      <td> 0</td>\n",
        "      <td> 0</td>\n",
        "      <td> 0</td>\n",
        "      <td> 0</td>\n",
        "      <td> 0</td>\n",
        "      <td> 0</td>\n",
        "      <td> 0</td>\n",
        "      <td> 0</td>\n",
        "      <td> 0</td>\n",
        "      <td> 0</td>\n",
        "      <td> 0</td>\n",
        "      <td> 1</td>\n",
        "      <td> 0</td>\n",
        "      <td> 0</td>\n",
        "      <td> 0</td>\n",
        "      <td> 0</td>\n",
        "      <td> 0</td>\n",
        "      <td> 0</td>\n",
        "      <td> 0</td>\n",
        "      <td> 0</td>\n",
        "      <td> 0</td>\n",
        "      <td> 0</td>\n",
        "      <td> 0</td>\n",
        "      <td> 0</td>\n",
        "      <td> 0</td>\n",
        "      <td> 0</td>\n",
        "      <td> 0</td>\n",
        "      <td> 0</td>\n",
        "      <td> 0</td>\n",
        "      <td> 0</td>\n",
        "      <td> 0</td>\n",
        "      <td> 0</td>\n",
        "      <td> 0</td>\n",
        "      <td> 0</td>\n",
        "      <td> 0</td>\n",
        "      <td> 0</td>\n",
        "      <td> 0</td>\n",
        "      <td> 0</td>\n",
        "      <td> 0</td>\n",
        "      <td> 0</td>\n",
        "      <td> 0</td>\n",
        "      <td> 0</td>\n",
        "      <td> 0</td>\n",
        "      <td> 0</td>\n",
        "      <td> 0</td>\n",
        "      <td> 0</td>\n",
        "      <td> 0</td>\n",
        "      <td> 0</td>\n",
        "      <td> 0</td>\n",
        "      <td> 0</td>\n",
        "      <td> 0</td>\n",
        "      <td> 0</td>\n",
        "      <td> 0</td>\n",
        "      <td> 0</td>\n",
        "      <td> 0</td>\n",
        "      <td> 22</td>\n",
        "      <td> 198</td>\n",
        "      <td> 7</td>\n",
        "      <td> 0.051394</td>\n",
        "    </tr>\n",
        "  </tbody>\n",
        "</table>\n",
        "<p>1 rows \u00d7 101 columns</p>\n",
        "</div>"
       ],
       "metadata": {},
       "output_type": "pyout",
       "prompt_number": 226,
       "text": [
        "   loan_amnt  funded_amnt  funded_amnt_inv  term  int_rate  installment  \\\n",
        "8       3600         3600             3600     0      6.03       109.57   \n",
        "\n",
        "   sub_grade  emp_length  annual_inc  is_inc_v  loan_status  zip_code    dti  \\\n",
        "8          1           0      110000         0            1        67  10.52   \n",
        "\n",
        "   delinq_2yrs  inq_last_6mths  mths_since_last_delinq  \\\n",
        "8            0               0                      -1   \n",
        "\n",
        "   mths_since_last_record  open_acc  pub_rec  revol_bal  revol_util  \\\n",
        "8                      -1        20        0      22836          16   \n",
        "\n",
        "   total_acc  total_pymnt  collections_12_mths_ex_med  \\\n",
        "8         42      3785.02                           0   \n",
        "\n",
        "   mths_since_last_major_derog  ANY  MORTGAGE  NONE  OTHER  OWN  RENT  \\\n",
        "8                           -1    0         1     0      0    0     0   \n",
        "\n",
        "   issue_month  issue_year  car  credit_card  debt_consolidation  educational  \\\n",
        "8           12        2011    0            0                   0            0   \n",
        "\n",
        "   home_improvement  house  major_purchase  medical  moving  other  \\\n",
        "8                 0      0               1        0       0      0   \n",
        "\n",
        "   renewable_energy  small_business  vacation  wedding  AK  AL  AR  AZ  CA  \\\n",
        "8                 0               0         0        0   0   0   0   0   0   \n",
        "\n",
        "   CO  CT  DC  DE  FL  GA  HI  IA  ID  IL  IN  KS  KY  LA  MA  MD  ME  MI  MN  \\\n",
        "8   0   1   0   0   0   0   0   0   0   0   0   0   0   0   0   0   0   0   0   \n",
        "\n",
        "   MO  MS  MT  NC  NE  NH  NJ  NM  NV  NY  OH  OK  OR  PA  RI  SC  SD  TN  TX  \\\n",
        "8   0   0   0   0   0   0   0   0   0   0   0   0   0   0   0   0   0   0   0   \n",
        "\n",
        "   UT  VA  VT  WA  WI  WV  WY  yrs_since_first_cr_line  desc_length  \\\n",
        "8   0   0   0   0   0   0   0                       22          198   \n",
        "\n",
        "   title_length       roi  \n",
        "8             7  0.051394  \n",
        "\n",
        "[1 rows x 101 columns]"
       ]
      }
     ],
     "prompt_number": 226
    },
    {
     "cell_type": "code",
     "collapsed": false,
     "input": [
      "plt.hist(loanData['roi'], bins=20)\n",
      "plt.show()"
     ],
     "language": "python",
     "metadata": {},
     "outputs": [
      {
       "metadata": {},
       "output_type": "display_data",
       "png": "[encoded data removed]",
       "text": [
        "<matplotlib.figure.Figure at 0x156940dd0>"
       ]
      }
     ],
     "prompt_number": 234
    },
    {
     "cell_type": "code",
     "collapsed": false,
     "input": [
      "loanData[:1]"
     ],
     "language": "python",
     "metadata": {},
     "outputs": [
      {
       "html": [
        "<div style=\"max-height:1000px;max-width:1500px;overflow:auto;\">\n",
        "<table border=\"1\" class=\"dataframe\">\n",
        "  <thead>\n",
        "    <tr style=\"text-align: right;\">\n",
        "      <th></th>\n",
        "      <th>loan_amnt</th>\n",
        "      <th>funded_amnt</th>\n",
        "      <th>funded_amnt_inv</th>\n",
        "      <th>term</th>\n",
        "      <th>int_rate</th>\n",
        "      <th>installment</th>\n",
        "      <th>sub_grade</th>\n",
        "      <th>emp_length</th>\n",
        "      <th>annual_inc</th>\n",
        "      <th>is_inc_v</th>\n",
        "      <th>loan_status</th>\n",
        "      <th>zip_code</th>\n",
        "      <th>dti</th>\n",
        "      <th>delinq_2yrs</th>\n",
        "      <th>inq_last_6mths</th>\n",
        "      <th>mths_since_last_delinq</th>\n",
        "      <th>mths_since_last_record</th>\n",
        "      <th>open_acc</th>\n",
        "      <th>pub_rec</th>\n",
        "      <th>revol_bal</th>\n",
        "      <th>revol_util</th>\n",
        "      <th>total_acc</th>\n",
        "      <th>total_pymnt</th>\n",
        "      <th>collections_12_mths_ex_med</th>\n",
        "      <th>mths_since_last_major_derog</th>\n",
        "      <th>A</th>\n",
        "      <th>B</th>\n",
        "      <th>C</th>\n",
        "      <th>D</th>\n",
        "      <th>E</th>\n",
        "      <th>F</th>\n",
        "      <th>G</th>\n",
        "      <th>ANY</th>\n",
        "      <th>MORTGAGE</th>\n",
        "      <th>NONE</th>\n",
        "      <th>OTHER</th>\n",
        "      <th>OWN</th>\n",
        "      <th>RENT</th>\n",
        "      <th>issue_month</th>\n",
        "      <th>issue_year</th>\n",
        "      <th>car</th>\n",
        "      <th>credit_card</th>\n",
        "      <th>debt_consolidation</th>\n",
        "      <th>educational</th>\n",
        "      <th>home_improvement</th>\n",
        "      <th>house</th>\n",
        "      <th>major_purchase</th>\n",
        "      <th>medical</th>\n",
        "      <th>moving</th>\n",
        "      <th>other</th>\n",
        "      <th>renewable_energy</th>\n",
        "      <th>small_business</th>\n",
        "      <th>vacation</th>\n",
        "      <th>wedding</th>\n",
        "      <th>AK</th>\n",
        "      <th>AL</th>\n",
        "      <th>AR</th>\n",
        "      <th>AZ</th>\n",
        "      <th>CA</th>\n",
        "      <th>CO</th>\n",
        "      <th>CT</th>\n",
        "      <th>DC</th>\n",
        "      <th>DE</th>\n",
        "      <th>FL</th>\n",
        "      <th>GA</th>\n",
        "      <th>HI</th>\n",
        "      <th>IA</th>\n",
        "      <th>ID</th>\n",
        "      <th>IL</th>\n",
        "      <th>IN</th>\n",
        "      <th>KS</th>\n",
        "      <th>KY</th>\n",
        "      <th>LA</th>\n",
        "      <th>MA</th>\n",
        "      <th>MD</th>\n",
        "      <th>ME</th>\n",
        "      <th>MI</th>\n",
        "      <th>MN</th>\n",
        "      <th>MO</th>\n",
        "      <th>MS</th>\n",
        "      <th>MT</th>\n",
        "      <th>NC</th>\n",
        "      <th>NE</th>\n",
        "      <th>NH</th>\n",
        "      <th>NJ</th>\n",
        "      <th>NM</th>\n",
        "      <th>NV</th>\n",
        "      <th>NY</th>\n",
        "      <th>OH</th>\n",
        "      <th>OK</th>\n",
        "      <th>OR</th>\n",
        "      <th>PA</th>\n",
        "      <th>RI</th>\n",
        "      <th>SC</th>\n",
        "      <th>SD</th>\n",
        "      <th>TN</th>\n",
        "      <th>TX</th>\n",
        "      <th>UT</th>\n",
        "      <th>VA</th>\n",
        "      <th>VT</th>\n",
        "      <th>WA</th>\n",
        "      <th>WI</th>\n",
        "      <th>WV</th>\n",
        "      <th>WY</th>\n",
        "      <th>yrs_since_first_cr_line</th>\n",
        "      <th>desc_length</th>\n",
        "      <th>title_length</th>\n",
        "      <th>roi</th>\n",
        "    </tr>\n",
        "  </thead>\n",
        "  <tbody>\n",
        "    <tr>\n",
        "      <th>0</th>\n",
        "      <td> 2500</td>\n",
        "      <td> 2500</td>\n",
        "      <td> 2500</td>\n",
        "      <td> 1</td>\n",
        "      <td> 15.27</td>\n",
        "      <td> 59.83</td>\n",
        "      <td> 4</td>\n",
        "      <td> 1</td>\n",
        "      <td> 30000</td>\n",
        "      <td> 1</td>\n",
        "      <td> 0</td>\n",
        "      <td> 309</td>\n",
        "      <td> 1</td>\n",
        "      <td> 0</td>\n",
        "      <td> 5</td>\n",
        "      <td>-1</td>\n",
        "      <td>-1</td>\n",
        "      <td> 3</td>\n",
        "      <td> 0</td>\n",
        "      <td> 1687</td>\n",
        "      <td> 9.4</td>\n",
        "      <td> 4</td>\n",
        "      <td> 1008.71</td>\n",
        "      <td> 0</td>\n",
        "      <td>-1</td>\n",
        "      <td> 0</td>\n",
        "      <td> 0</td>\n",
        "      <td> 1</td>\n",
        "      <td> 0</td>\n",
        "      <td> 0</td>\n",
        "      <td> 0</td>\n",
        "      <td> 0</td>\n",
        "      <td> 0</td>\n",
        "      <td> 0</td>\n",
        "      <td> 0</td>\n",
        "      <td> 0</td>\n",
        "      <td> 0</td>\n",
        "      <td> 1</td>\n",
        "      <td> 12</td>\n",
        "      <td> 2011</td>\n",
        "      <td> 1</td>\n",
        "      <td> 0</td>\n",
        "      <td> 0</td>\n",
        "      <td> 0</td>\n",
        "      <td> 0</td>\n",
        "      <td> 0</td>\n",
        "      <td> 0</td>\n",
        "      <td> 0</td>\n",
        "      <td> 0</td>\n",
        "      <td> 0</td>\n",
        "      <td> 0</td>\n",
        "      <td> 0</td>\n",
        "      <td> 0</td>\n",
        "      <td> 0</td>\n",
        "      <td> 0</td>\n",
        "      <td> 0</td>\n",
        "      <td> 0</td>\n",
        "      <td> 0</td>\n",
        "      <td> 0</td>\n",
        "      <td> 0</td>\n",
        "      <td> 0</td>\n",
        "      <td> 0</td>\n",
        "      <td> 0</td>\n",
        "      <td> 0</td>\n",
        "      <td> 1</td>\n",
        "      <td> 0</td>\n",
        "      <td> 0</td>\n",
        "      <td> 0</td>\n",
        "      <td> 0</td>\n",
        "      <td> 0</td>\n",
        "      <td> 0</td>\n",
        "      <td> 0</td>\n",
        "      <td> 0</td>\n",
        "      <td> 0</td>\n",
        "      <td> 0</td>\n",
        "      <td> 0</td>\n",
        "      <td> 0</td>\n",
        "      <td> 0</td>\n",
        "      <td> 0</td>\n",
        "      <td> 0</td>\n",
        "      <td> 0</td>\n",
        "      <td> 0</td>\n",
        "      <td> 0</td>\n",
        "      <td> 0</td>\n",
        "      <td> 0</td>\n",
        "      <td> 0</td>\n",
        "      <td> 0</td>\n",
        "      <td> 0</td>\n",
        "      <td> 0</td>\n",
        "      <td> 0</td>\n",
        "      <td> 0</td>\n",
        "      <td> 0</td>\n",
        "      <td> 0</td>\n",
        "      <td> 0</td>\n",
        "      <td> 0</td>\n",
        "      <td> 0</td>\n",
        "      <td> 0</td>\n",
        "      <td> 0</td>\n",
        "      <td> 0</td>\n",
        "      <td> 0</td>\n",
        "      <td> 0</td>\n",
        "      <td> 0</td>\n",
        "      <td> 0</td>\n",
        "      <td> 0</td>\n",
        "      <td> 16</td>\n",
        "      <td> 590</td>\n",
        "      <td> 4</td>\n",
        "      <td>-0.596516</td>\n",
        "    </tr>\n",
        "  </tbody>\n",
        "</table>\n",
        "<p>1 rows \u00d7 108 columns</p>\n",
        "</div>"
       ],
       "metadata": {},
       "output_type": "pyout",
       "prompt_number": 257,
       "text": [
        "   loan_amnt  funded_amnt  funded_amnt_inv  term  int_rate  installment  \\\n",
        "0       2500         2500             2500     1     15.27        59.83   \n",
        "\n",
        "   sub_grade  emp_length  annual_inc  is_inc_v  loan_status  zip_code  dti  \\\n",
        "0          4           1       30000         1            0       309    1   \n",
        "\n",
        "   delinq_2yrs  inq_last_6mths  mths_since_last_delinq  \\\n",
        "0            0               5                      -1   \n",
        "\n",
        "   mths_since_last_record  open_acc  pub_rec  revol_bal  revol_util  \\\n",
        "0                      -1         3        0       1687         9.4   \n",
        "\n",
        "   total_acc  total_pymnt  collections_12_mths_ex_med  \\\n",
        "0          4      1008.71                           0   \n",
        "\n",
        "   mths_since_last_major_derog  A  B  C  D  E  F  G  ANY  MORTGAGE  NONE  \\\n",
        "0                           -1  0  0  1  0  0  0  0    0         0     0   \n",
        "\n",
        "   OTHER  OWN  RENT  issue_month  issue_year  car  credit_card  \\\n",
        "0      0    0     1           12        2011    1            0   \n",
        "\n",
        "   debt_consolidation  educational  home_improvement  house  major_purchase  \\\n",
        "0                   0            0                 0      0               0   \n",
        "\n",
        "   medical  moving  other  renewable_energy  small_business  vacation  \\\n",
        "0        0       0      0                 0               0         0   \n",
        "\n",
        "   wedding  AK  AL  AR  AZ  CA  CO  CT  DC  DE  FL  GA  HI  IA  ID  IL  IN  \\\n",
        "0        0   0   0   0   0   0   0   0   0   0   0   1   0   0   0   0   0   \n",
        "\n",
        "   KS  KY  LA  MA  MD  ME  MI  MN  MO  MS  MT  NC  NE  NH  NJ  NM  NV  NY  OH  \\\n",
        "0   0   0   0   0   0   0   0   0   0   0   0   0   0   0   0   0   0   0   0   \n",
        "\n",
        "   OK  OR  PA  RI  SC  SD  TN  TX  UT  VA  VT  WA  WI  WV  WY  \\\n",
        "0   0   0   0   0   0   0   0   0   0   0   0   0   0   0   0   \n",
        "\n",
        "   yrs_since_first_cr_line  desc_length  title_length       roi  \n",
        "0                       16          590             4 -0.596516  \n",
        "\n",
        "[1 rows x 108 columns]"
       ]
      }
     ],
     "prompt_number": 257
    },
    {
     "cell_type": "code",
     "collapsed": false,
     "input": [],
     "language": "python",
     "metadata": {},
     "outputs": [],
     "prompt_number": 801
    },
    {
     "cell_type": "code",
     "collapsed": false,
     "input": [
      "for i,loan in enumerate(loanData):\n",
      "    print loanData['term'][i]\n",
      "    break"
     ],
     "language": "python",
     "metadata": {},
     "outputs": [
      {
       "output_type": "stream",
       "stream": "stdout",
       "text": [
        "1\n"
       ]
      }
     ],
     "prompt_number": 799
    },
    {
     "cell_type": "code",
     "collapsed": false,
     "input": [],
     "language": "python",
     "metadata": {},
     "outputs": []
    },
    {
     "cell_type": "code",
     "collapsed": false,
     "input": [],
     "language": "python",
     "metadata": {},
     "outputs": []
    }
   ],
   "metadata": {}
  }
 ]
}