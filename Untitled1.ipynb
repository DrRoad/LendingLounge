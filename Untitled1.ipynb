{
 "metadata": {
  "name": "",
  "signature": "sha256:ac43aa0bea4f7bf2f2b2b8d627b4ed80915782c5c60f3519026287444ced3fa6"
 },
 "nbformat": 3,
 "nbformat_minor": 0,
 "worksheets": [
  {
   "cells": [
    {
     "cell_type": "code",
     "collapsed": false,
     "input": [
      "import pandas as pd\n",
      "import numpy as np\n",
      "import glob, sys\n",
      "from datetime import date\n",
      "import pickle\n",
      "from random import randint\n",
      "import time\n",
      "import json\n",
      "import os\n",
      "from datetime import datetime\n",
      "\n",
      "from sklearn.cross_validation import train_test_split\n",
      "from sklearn.linear_model import LinearRegression\n",
      "from sklearn.ensemble import RandomForestRegressor \n",
      "from sklearn.svm import SVR\n",
      "from sklearn.metrics import confusion_matrix\n",
      "from sklearn.metrics import classification_report\n",
      "from sklearn.decomposition import PCA\n",
      "import matplotlib.pyplot as plt\n",
      "\n",
      "import data_manipulation as dm\n",
      "\n",
      "class Trainer():\n",
      "\n",
      "\tdef __init__(self):\n",
      "\t\tself.load_data()\n",
      "\n",
      "\tdef load_data(self):\n",
      "\t\tf = open('mysql_dump.pickle', 'rb')\n",
      "\t\tself.loanData = pickle.load(f)\n",
      "\t\tself.loanData = pd.DataFrame(self.loanData)\n",
      "\n",
      "\tdef drop_na(self):\n",
      "\t\tself.loanData = loanData.dropna()\n",
      "\t\tself.loanData.index = range(len(self.loanData))\n",
      "\n",
      "\tdef drop_columns(self):\n",
      "\t\t#drop the columns with malformed data in mysql db\n",
      "\t\tself.loanData = self.loanData.drop(['none',\n",
      "\t\t\t\t\t\t\t\t\t\t\t'educational',\n",
      "\t\t\t\t\t\t\t\t\t\t\t'IA',\n",
      "\t\t\t\t\t\t\t\t\t\t\t'IDAHO',\n",
      "\t\t\t\t\t\t\t\t\t\t\t'ME',\n",
      "\t\t\t\t\t\t\t\t\t\t\t'NE',\n",
      "\t\t\t\t\t\t\t\t\t\t\t'other_housing'], 1)\n",
      "\n",
      "\tdef drop_prepaid_loans(self):\n",
      "\t\tindices_to_drop = []\n",
      "\t\tfor i in range(len(self.loanData)):\n",
      "\t\t\tif self.loanData['loan_status'][i]==1 and self.loanData['days_to_zero_dollars'][i] < 1000:\n",
      "\t\t\t\tindices_to_drop.append(i)\n",
      "\t\tself.loanData = self.loanData.drop(indices_to_drop, 0)\n",
      "\t\tprint \"Number of prepaid loans: \", len(indices_to_drop)\n",
      "\t\tprint \"Number of loans after dropping prepaids: \", len(self.loanData)\n",
      "\n",
      "\tdef define_features_targets(self):\n",
      "\t\tself.features = self.loanData.drop(['loan_status', \n",
      "\t\t\t\t\t\t\t\t\t\t\t'days_to_zero_dollars'], 1)\n",
      "\t\tprint \"features:\" \n",
      "\t\tfor col in self.features.columns:\n",
      "\t\t\tprint col\n",
      "\t\tself.features = self.features.values\n",
      "\t\tself.targets = self.loanData['days_to_zero_dollars'].values\n",
      "\n",
      "\tdef preprocess(self):\n",
      "\t\t(self.X_train, \n",
      "\t\t self.X_test, \n",
      "\t\t self.y_train, \n",
      "\t\t self.y_test) = dm.split_train_test(features=self.features, \n",
      "\t\t \t\t\t\t\t\t\t\t\ttargets=self.targets, \n",
      "\t\t \t\t\t\t\t\t\t\t\ttest_size=0.1)\n",
      "\t\t(self.X_train, self.X_test) = dm.standardize_samples(self.X_train, \n",
      "\t\t\t\t\t\t\t\t\t\t\t\t\t\t  self.X_test)\n",
      "\t\t\n",
      "\t\t(self.X_train, self.X_test) = dm.scale_samples_to_range(self.X_train, \n",
      "\t\t\t\t\t\t\t\t\t\t\t\t\t\t\t\tself.X_test)\n",
      "\n",
      "\tdef define_rfc(self, n_estimators=10):\n",
      "\t\tself.regr = RandomForestRegressor(n_estimators=n_estimators)\n",
      "\t\tprint self.regr.get_params()\n",
      "\n",
      "\tdef define_linear_regressor(self):\n",
      "\t\tself.regr = LinearRegression()\n",
      "\t\tprint self.regr.get_params()\n",
      "\n",
      "\tdef define_SVR(self, C=1, gamma=0.1):\n",
      "\t\tself.regr = SVR(C=C, gamma=gamma, verbose=3)\n",
      "\t\tprint self.regr.get_params()\n",
      "\n",
      "\tdef train(self):\n",
      "\t\tprint \"Fitting training data\"\n",
      "\t\tself.regr.fit(self.X_train, self.y_train)\n",
      "\n",
      "\tdef predict(self, X):\n",
      "\t\tself.prediction = self.regr.predict(X)\n",
      "\n",
      "\tdef score(self, X, y):\n",
      "\t\tself.score = self.regr.score(X, y)\n",
      "\t\tprint \"R2 Score: \", self.score\n",
      "\n",
      "\tdef plot_prediction(self):\n",
      "\t\tplt.scatter(self.prediction, self.y_test)\n",
      "\t\tplt.xlabel('prediction')\n",
      "\t\tplt.ylabel('y_test')\n",
      "\t\tplt.show()\n",
      "\n",
      "\tdef runSVRGridSearch(self):\n",
      "\t\tC_vals = [0.01, 0.1, 1, 10, 100]\n",
      "\t\tgamma_vals = [1E-2, 1E-1, 1, 1E1, 1E2, 1E3, 1E4]\n",
      "\n",
      "\t\tfor C in C_vals:\n",
      "\t\t\tfor gamma in gamma_vals:\n",
      "\t\t\t\tprint \"\\n\\n C: \", C, \"  gamma: \", gamma\n",
      "\t\t\t\tself.define_SVR(C=C, gamma=gamma)\n",
      "\t\t\t\tself.train()\n",
      "\t\t\t\tprint \"Training Scores:\"\n",
      "\t\t\t\tself.predict(self.X_train)\n",
      "\t\t\t\tself.score(self.y_train, self.prediction)\n",
      "\t\t\t\tprint \"Testing Scores:\"\n",
      "\t\t\t\tself.predict(self.X_test)\n",
      "\t\t\t\tself.score(self.y_test, self.prediction)\n",
      "\n"
     ],
     "language": "python",
     "metadata": {},
     "outputs": [],
     "prompt_number": 1
    },
    {
     "cell_type": "code",
     "collapsed": false,
     "input": [
      "trainer = Trainer()\n",
      "trainer.drop_columns()\n",
      "trainer.drop_prepaid_loans()\n",
      "trainer.define_features_targets()\n",
      "trainer.preprocess()\n",
      "trainer.define_SVR()\n"
     ],
     "language": "python",
     "metadata": {},
     "outputs": [
      {
       "output_type": "stream",
       "stream": "stdout",
       "text": [
        "Number of prepaid loans:  53027\n",
        "Number of loans after dropping prepaids:  25392\n",
        "features:\n",
        "loan_amnt\n",
        "term\n",
        "int_rate\n",
        "installment\n",
        "emp_length\n",
        "annual_inc\n",
        "is_inc_v\n",
        "zip_code\n",
        "dti\n",
        "delinq_2yrs\n",
        "inq_last_6mths\n",
        "mths_since_last_delinq\n",
        "mths_since_last_record\n",
        "open_acc\n",
        "pub_rec\n",
        "revol_bal\n",
        "revol_util\n",
        "total_acc\n",
        "collections_12_mths_ex_med\n",
        "mths_since_last_major_derog\n",
        "A\n",
        "B\n",
        "C\n",
        "D\n",
        "E\n",
        "F\n",
        "G\n",
        "mortgage\n",
        "own\n",
        "rent\n",
        "issue_month\n",
        "issue_year\n",
        "car\n",
        "credit_card\n",
        "debt_consolidation\n",
        "home_improvement\n",
        "house\n",
        "major_purchase\n",
        "medical\n",
        "moving\n",
        "renewable_energy\n",
        "small_business\n",
        "vacation\n",
        "wedding\n",
        "AK\n",
        "AL\n",
        "AR\n",
        "AZ\n",
        "CA\n",
        "CO\n",
        "CT\n",
        "DC\n",
        "DE\n",
        "FL\n",
        "GA\n",
        "HI\n",
        "IL\n",
        "INDIANA\n",
        "KS\n",
        "KY\n",
        "LA\n",
        "MA\n",
        "MD\n",
        "MI\n",
        "MN\n",
        "MO\n",
        "MS\n",
        "MT\n",
        "NC\n",
        "NH\n",
        "NJ\n",
        "NM\n",
        "NV\n",
        "NY\n",
        "OH\n",
        "OK\n",
        "OREGON\n",
        "PA\n",
        "RI\n",
        "SC\n",
        "SD\n",
        "TN\n",
        "TX\n",
        "UT\n",
        "VA\n",
        "VT\n",
        "WA\n",
        "WI\n",
        "WV\n",
        "WY\n",
        "yrs_since_first_cr_line\n",
        "desc_length\n",
        "unemp_rate_12mths\n",
        "unemp_rate_6mths\n",
        "unemp_rate_3mths\n",
        "sub_grade\n",
        "other_purpose\n",
        "install_frac_of_monthly_inc\n",
        "implied_risk\n",
        "Loans in training set: "
       ]
      },
      {
       "output_type": "stream",
       "stream": "stdout",
       "text": [
        " 22852\n",
        "Loans in testing set:  2540\n",
        "{'kernel': 'rbf', 'C': 1, 'probability': False, 'degree': 3, 'epsilon': 0.1, 'shrinking': True, 'max_iter': -1, 'random_state': None, 'tol': 0.001, 'cache_size': 200, 'coef0': 0.0, 'gamma': 0.1, 'verbose': 3}"
       ]
      },
      {
       "output_type": "stream",
       "stream": "stdout",
       "text": [
        "\n"
       ]
      }
     ],
     "prompt_number": 2
    },
    {
     "cell_type": "code",
     "collapsed": false,
     "input": [
      "trainer.X_train.shape"
     ],
     "language": "python",
     "metadata": {},
     "outputs": [
      {
       "metadata": {},
       "output_type": "pyout",
       "prompt_number": 3,
       "text": [
        "(22852, 99)"
       ]
      }
     ],
     "prompt_number": 3
    },
    {
     "cell_type": "code",
     "collapsed": false,
     "input": [
      "trainer.X_test.shape"
     ],
     "language": "python",
     "metadata": {},
     "outputs": [
      {
       "metadata": {},
       "output_type": "pyout",
       "prompt_number": 4,
       "text": [
        "(2540, 99)"
       ]
      }
     ],
     "prompt_number": 4
    },
    {
     "cell_type": "code",
     "collapsed": false,
     "input": [
      "trainer.y_train.shape"
     ],
     "language": "python",
     "metadata": {},
     "outputs": [
      {
       "metadata": {},
       "output_type": "pyout",
       "prompt_number": 5,
       "text": [
        "(22852,)"
       ]
      }
     ],
     "prompt_number": 5
    },
    {
     "cell_type": "code",
     "collapsed": false,
     "input": [
      "trainer.y_test.shape"
     ],
     "language": "python",
     "metadata": {},
     "outputs": [
      {
       "metadata": {},
       "output_type": "pyout",
       "prompt_number": 6,
       "text": [
        "(2540,)"
       ]
      }
     ],
     "prompt_number": 6
    },
    {
     "cell_type": "code",
     "collapsed": false,
     "input": [
      "trainer.train()"
     ],
     "language": "python",
     "metadata": {},
     "outputs": [
      {
       "output_type": "stream",
       "stream": "stdout",
       "text": [
        "Fitting training data\n",
        "[LibSVM]"
       ]
      }
     ],
     "prompt_number": 10
    },
    {
     "cell_type": "code",
     "collapsed": false,
     "input": [
      "trainer.predict(trainer.X_train)"
     ],
     "language": "python",
     "metadata": {},
     "outputs": []
    },
    {
     "cell_type": "code",
     "collapsed": false,
     "input": [
      "trainer.score(trainer.X_test, trainer.y_test)"
     ],
     "language": "python",
     "metadata": {},
     "outputs": []
    }
   ],
   "metadata": {}
  }
 ]
}